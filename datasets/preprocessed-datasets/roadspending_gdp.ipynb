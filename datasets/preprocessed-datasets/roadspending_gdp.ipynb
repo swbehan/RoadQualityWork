{
 "cells": [
  {
   "cell_type": "code",
   "execution_count": 1,
   "id": "6b526355",
   "metadata": {},
   "outputs": [
    {
     "name": "stdout",
     "output_type": "stream",
     "text": [
      "Requirement already satisfied: kaleido in /opt/anaconda3/lib/python3.12/site-packages (0.2.1)\n",
      "Note: you may need to restart the kernel to use updated packages.\n"
     ]
    }
   ],
   "source": [
    "pip install -U kaleido"
   ]
  },
  {
   "cell_type": "code",
   "execution_count": 2,
   "id": "50b86ec5527d7ce2",
   "metadata": {
    "ExecuteTime": {
     "end_time": "2025-05-26T21:27:39.925961Z",
     "start_time": "2025-05-26T21:27:39.470476Z"
    }
   },
   "outputs": [],
   "source": [
    "import requests\n",
    "import pandas as pd\n",
    "import plotly.express as px\n"
   ]
  },
  {
   "cell_type": "markdown",
   "id": "7dbf0ad37974a5df",
   "metadata": {},
   "source": [
    "## Basic vaiables"
   ]
  },
  {
   "cell_type": "code",
   "execution_count": 3,
   "id": "eff2705ee3a8851e",
   "metadata": {
    "ExecuteTime": {
     "end_time": "2025-05-26T21:27:39.937204Z",
     "start_time": "2025-05-26T21:27:39.934166Z"
    }
   },
   "outputs": [],
   "source": [
    "eu_member_states = [\"Austria\", \"Belgium\", \"Bulgaria\", \"Croatia\", \"Czechia\", \"Denmark\", \"Estonia\", \"Finland\", \"France\", \"Germany\", \"Greece\", \"Hungary\", \"Ireland\", \"Italy\", \"Latvia\", \"Lithuania\", \"Luxembourg\", \"Malta\", \"Netherlands\", \"Poland\", \"Portugal\", \"Romania\", \"Slovak Republic\", \"Slovenia\", \"Spain\", \"Sweden\"]\n",
    "\n",
    "eu_countries_abbr = ['AUT', 'BEL', 'BGR', 'HRV', 'CZE', 'DNK', 'EST', 'FIN', 'FRA', 'DEU', 'GRC', 'HUN', 'IRL', 'ITA', 'LVA', 'LTU', 'LUX', 'MLT', 'NLD', 'POL', 'PRT', 'ROU', 'SVK', 'SVN', 'ESP', 'SWE']"
   ]
  },
  {
   "cell_type": "markdown",
   "id": "3e2f37d800ad21f8",
   "metadata": {},
   "source": [
    "## Investments In Roads by Country and Year\n"
   ]
  },
  {
   "cell_type": "code",
   "execution_count": 4,
   "id": "90bb2ad884353b9c",
   "metadata": {
    "ExecuteTime": {
     "end_time": "2025-05-26T21:27:39.944084Z",
     "start_time": "2025-05-26T21:27:39.941560Z"
    }
   },
   "outputs": [],
   "source": [
    "# Pull from API into JSON\n",
    "def get_infr_data():\n",
    "    \"\"\" Get the road spending data for all countries from 1995 to 2023\n",
    "\n",
    "    Params: None\n",
    "\n",
    "    Returns: JSON infr_response that has all of the data scraped directly from the API.\n",
    "    \"\"\"\n",
    "\n",
    "    # Base URL\n",
    "    base_url = \"https://sdmx.oecd.org/public/rest/data\"\n",
    "\n",
    "    # Modifiers\n",
    "    agency = \"OECD.ITF\"\n",
    "    dataset = \"DSD_INFRINV@DF_INFRINV\"\n",
    "    version = \"1.0\"  # Assuming version 1.0, could be different\n",
    "    dimensions = \".A.INV.EUR.ROAD.V\"\n",
    "\n",
    "    # Parameters\n",
    "    params = {\n",
    "        \"startPeriod\": \"1995\",\n",
    "        \"endPeriod\": \"2023\",\n",
    "        \"dimensionAtObservation\": \"AllDimensions\",\n",
    "        \"format\": \"jsondata\"\n",
    "    }\n",
    "\n",
    "    # Construct the URL\n",
    "    url = f\"{base_url}/{agency},{dataset},{version}/{dimensions}\"\n",
    "\n",
    "    # Make the request\n",
    "    infr_response = requests.get(url, params=params).json()\n",
    "    return infr_response\n"
   ]
  },
  {
   "cell_type": "code",
   "execution_count": 5,
   "id": "f45ec37a2ed99a76",
   "metadata": {
    "ExecuteTime": {
     "end_time": "2025-05-26T21:27:39.955443Z",
     "start_time": "2025-05-26T21:27:39.952210Z"
    }
   },
   "outputs": [],
   "source": [
    "# Create dictionary of all the numerical data in the table\n",
    "def create_infr_info_dict(infr_json):\n",
    "    all_info_dict = infr_json[\"data\"][\"dataSets\"][0][\"observations\"]\n",
    "\n",
    "    # Create the dictionary in the shape of the table\n",
    "    infr_dict = {}\n",
    "    for i in range(29):\n",
    "        infr_dict[i] = [None for j in range(55)]\n",
    "\n",
    "    for key in all_info_dict.keys():\n",
    "        key_list = key.split(\":\")\n",
    "        infr_dict[int(key_list[6])][int(key_list[0])] = all_info_dict[key][0]\n",
    "\n",
    "    return infr_dict"
   ]
  },
  {
   "cell_type": "code",
   "execution_count": 6,
   "id": "8c5d1240485cd068",
   "metadata": {
    "ExecuteTime": {
     "end_time": "2025-05-26T21:27:40.041950Z",
     "start_time": "2025-05-26T21:27:40.039783Z"
    }
   },
   "outputs": [],
   "source": [
    "# Create the list of countries in order\n",
    "def get_list_of_countries_in_order(countries_info_dict):\n",
    "    countries_in_order = []\n",
    "\n",
    "    for i in range(len(countries_info_dict)):\n",
    "        countries_in_order.append(countries_info_dict[i][\"name\"])\n",
    "\n",
    "    return countries_in_order"
   ]
  },
  {
   "cell_type": "code",
   "execution_count": 7,
   "id": "8ce59281cb6e35ba",
   "metadata": {
    "ExecuteTime": {
     "end_time": "2025-05-26T21:27:40.051726Z",
     "start_time": "2025-05-26T21:27:40.048961Z"
    }
   },
   "outputs": [],
   "source": [
    "# Create the DataFrame, edit the column headers by year, add the country column.\n",
    "def create_and_clean_infr_df(infr_dict, countries_in_order):\n",
    "    # Create df, edit columns headers to years, put country names in\n",
    "    infr_df = pd.DataFrame(infr_dict)\n",
    "    infr_df = infr_df.set_axis([int(infr_df.keys()[i]) + 1995 for i in range(29)], axis=1)\n",
    "    infr_df.insert(loc=0, column=\"Country\", value=countries_in_order)\n",
    "\n",
    "    # Set it to only EU Countries\n",
    "    for i in range(len(infr_df) - 1, -1, -1):\n",
    "        if infr_df.iloc[i].Country not in eu_member_states:\n",
    "            infr_df = infr_df.drop([i], axis=0)\n",
    "\n",
    "    # Sort and index by country\n",
    "    infr_df.sort_values(\"Country\", inplace=True)\n",
    "    infr_df.set_index(\"Country\", inplace=True)\n",
    "    return infr_df"
   ]
  },
  {
   "cell_type": "code",
   "execution_count": 8,
   "id": "c43a8ac1f821b02c",
   "metadata": {
    "ExecuteTime": {
     "end_time": "2025-05-26T21:27:41.451180Z",
     "start_time": "2025-05-26T21:27:40.093227Z"
    }
   },
   "outputs": [
    {
     "data": {
      "text/html": [
       "<div>\n",
       "<style scoped>\n",
       "    .dataframe tbody tr th:only-of-type {\n",
       "        vertical-align: middle;\n",
       "    }\n",
       "\n",
       "    .dataframe tbody tr th {\n",
       "        vertical-align: top;\n",
       "    }\n",
       "\n",
       "    .dataframe thead th {\n",
       "        text-align: right;\n",
       "    }\n",
       "</style>\n",
       "<table border=\"1\" class=\"dataframe\">\n",
       "  <thead>\n",
       "    <tr style=\"text-align: right;\">\n",
       "      <th></th>\n",
       "      <th>1995</th>\n",
       "      <th>1996</th>\n",
       "      <th>1997</th>\n",
       "      <th>1998</th>\n",
       "      <th>1999</th>\n",
       "      <th>2000</th>\n",
       "      <th>2001</th>\n",
       "      <th>2002</th>\n",
       "      <th>2003</th>\n",
       "      <th>2004</th>\n",
       "      <th>...</th>\n",
       "      <th>2014</th>\n",
       "      <th>2015</th>\n",
       "      <th>2016</th>\n",
       "      <th>2017</th>\n",
       "      <th>2018</th>\n",
       "      <th>2019</th>\n",
       "      <th>2020</th>\n",
       "      <th>2021</th>\n",
       "      <th>2022</th>\n",
       "      <th>2023</th>\n",
       "    </tr>\n",
       "    <tr>\n",
       "      <th>Country</th>\n",
       "      <th></th>\n",
       "      <th></th>\n",
       "      <th></th>\n",
       "      <th></th>\n",
       "      <th></th>\n",
       "      <th></th>\n",
       "      <th></th>\n",
       "      <th></th>\n",
       "      <th></th>\n",
       "      <th></th>\n",
       "      <th></th>\n",
       "      <th></th>\n",
       "      <th></th>\n",
       "      <th></th>\n",
       "      <th></th>\n",
       "      <th></th>\n",
       "      <th></th>\n",
       "      <th></th>\n",
       "      <th></th>\n",
       "      <th></th>\n",
       "      <th></th>\n",
       "    </tr>\n",
       "  </thead>\n",
       "  <tbody>\n",
       "    <tr>\n",
       "      <th>Austria</th>\n",
       "      <td>4.570000e+08</td>\n",
       "      <td>4.260000e+08</td>\n",
       "      <td>3.650000e+08</td>\n",
       "      <td>4.300000e+08</td>\n",
       "      <td>3.910000e+08</td>\n",
       "      <td>4.750000e+08</td>\n",
       "      <td>6.400000e+08</td>\n",
       "      <td>NaN</td>\n",
       "      <td>NaN</td>\n",
       "      <td>NaN</td>\n",
       "      <td>...</td>\n",
       "      <td>NaN</td>\n",
       "      <td>NaN</td>\n",
       "      <td>NaN</td>\n",
       "      <td>NaN</td>\n",
       "      <td>NaN</td>\n",
       "      <td>NaN</td>\n",
       "      <td>NaN</td>\n",
       "      <td>NaN</td>\n",
       "      <td>NaN</td>\n",
       "      <td>NaN</td>\n",
       "    </tr>\n",
       "    <tr>\n",
       "      <th>Belgium</th>\n",
       "      <td>1.600000e+08</td>\n",
       "      <td>1.590000e+08</td>\n",
       "      <td>1.530000e+08</td>\n",
       "      <td>1.520000e+08</td>\n",
       "      <td>1.610000e+08</td>\n",
       "      <td>1.490000e+08</td>\n",
       "      <td>1.470000e+08</td>\n",
       "      <td>1.720000e+08</td>\n",
       "      <td>1.850000e+08</td>\n",
       "      <td>1.560000e+08</td>\n",
       "      <td>...</td>\n",
       "      <td>5.530000e+08</td>\n",
       "      <td>7.780000e+08</td>\n",
       "      <td>6.559060e+08</td>\n",
       "      <td>6.810000e+08</td>\n",
       "      <td>7.350000e+08</td>\n",
       "      <td>1.311000e+09</td>\n",
       "      <td>1.001000e+09</td>\n",
       "      <td>8.100000e+08</td>\n",
       "      <td>6.070000e+08</td>\n",
       "      <td>5.870000e+08</td>\n",
       "    </tr>\n",
       "    <tr>\n",
       "      <th>Bulgaria</th>\n",
       "      <td>NaN</td>\n",
       "      <td>NaN</td>\n",
       "      <td>NaN</td>\n",
       "      <td>NaN</td>\n",
       "      <td>NaN</td>\n",
       "      <td>NaN</td>\n",
       "      <td>NaN</td>\n",
       "      <td>NaN</td>\n",
       "      <td>NaN</td>\n",
       "      <td>NaN</td>\n",
       "      <td>...</td>\n",
       "      <td>5.859495e+08</td>\n",
       "      <td>8.390428e+08</td>\n",
       "      <td>1.150424e+08</td>\n",
       "      <td>8.825033e+08</td>\n",
       "      <td>5.281726e+08</td>\n",
       "      <td>1.518560e+08</td>\n",
       "      <td>4.039268e+08</td>\n",
       "      <td>1.631046e+08</td>\n",
       "      <td>5.251048e+08</td>\n",
       "      <td>5.051641e+08</td>\n",
       "    </tr>\n",
       "    <tr>\n",
       "      <th>Croatia</th>\n",
       "      <td>NaN</td>\n",
       "      <td>NaN</td>\n",
       "      <td>NaN</td>\n",
       "      <td>NaN</td>\n",
       "      <td>NaN</td>\n",
       "      <td>3.087133e+08</td>\n",
       "      <td>3.026080e+08</td>\n",
       "      <td>6.057469e+08</td>\n",
       "      <td>1.052226e+09</td>\n",
       "      <td>8.722543e+08</td>\n",
       "      <td>...</td>\n",
       "      <td>4.778021e+08</td>\n",
       "      <td>2.408919e+08</td>\n",
       "      <td>1.947044e+08</td>\n",
       "      <td>2.811069e+08</td>\n",
       "      <td>3.493264e+08</td>\n",
       "      <td>5.365983e+08</td>\n",
       "      <td>4.709005e+08</td>\n",
       "      <td>1.973588e+08</td>\n",
       "      <td>4.422324e+08</td>\n",
       "      <td>4.267038e+08</td>\n",
       "    </tr>\n",
       "    <tr>\n",
       "      <th>Czechia</th>\n",
       "      <td>2.825142e+08</td>\n",
       "      <td>3.057651e+08</td>\n",
       "      <td>3.820312e+08</td>\n",
       "      <td>3.746393e+08</td>\n",
       "      <td>3.222859e+08</td>\n",
       "      <td>3.086187e+08</td>\n",
       "      <td>3.024600e+08</td>\n",
       "      <td>5.182849e+08</td>\n",
       "      <td>6.256379e+08</td>\n",
       "      <td>1.031226e+09</td>\n",
       "      <td>...</td>\n",
       "      <td>8.763292e+08</td>\n",
       "      <td>8.853583e+08</td>\n",
       "      <td>9.841913e+08</td>\n",
       "      <td>1.044764e+09</td>\n",
       "      <td>1.383065e+09</td>\n",
       "      <td>1.817147e+09</td>\n",
       "      <td>1.943388e+09</td>\n",
       "      <td>8.492317e+08</td>\n",
       "      <td>1.640906e+09</td>\n",
       "      <td>6.475111e+08</td>\n",
       "    </tr>\n",
       "    <tr>\n",
       "      <th>Denmark</th>\n",
       "      <td>3.518445e+08</td>\n",
       "      <td>4.036794e+08</td>\n",
       "      <td>3.995777e+08</td>\n",
       "      <td>3.877437e+08</td>\n",
       "      <td>4.194685e+08</td>\n",
       "      <td>4.545333e+08</td>\n",
       "      <td>4.970344e+08</td>\n",
       "      <td>3.991656e+08</td>\n",
       "      <td>5.866204e+08</td>\n",
       "      <td>7.278324e+08</td>\n",
       "      <td>...</td>\n",
       "      <td>1.323652e+09</td>\n",
       "      <td>1.086397e+09</td>\n",
       "      <td>1.065643e+09</td>\n",
       "      <td>1.083964e+09</td>\n",
       "      <td>NaN</td>\n",
       "      <td>NaN</td>\n",
       "      <td>NaN</td>\n",
       "      <td>1.099471e+09</td>\n",
       "      <td>NaN</td>\n",
       "      <td>1.046944e+09</td>\n",
       "    </tr>\n",
       "    <tr>\n",
       "      <th>Estonia</th>\n",
       "      <td>8.000000e+06</td>\n",
       "      <td>1.200000e+07</td>\n",
       "      <td>1.000000e+07</td>\n",
       "      <td>1.700000e+07</td>\n",
       "      <td>2.100000e+07</td>\n",
       "      <td>2.200000e+07</td>\n",
       "      <td>2.200000e+07</td>\n",
       "      <td>4.700000e+07</td>\n",
       "      <td>4.800000e+07</td>\n",
       "      <td>5.600000e+07</td>\n",
       "      <td>...</td>\n",
       "      <td>1.984000e+08</td>\n",
       "      <td>1.850500e+08</td>\n",
       "      <td>1.970000e+08</td>\n",
       "      <td>2.190000e+08</td>\n",
       "      <td>2.200000e+08</td>\n",
       "      <td>2.810000e+08</td>\n",
       "      <td>2.510000e+08</td>\n",
       "      <td>1.486000e+08</td>\n",
       "      <td>2.440000e+08</td>\n",
       "      <td>2.145300e+08</td>\n",
       "    </tr>\n",
       "    <tr>\n",
       "      <th>Finland</th>\n",
       "      <td>4.570000e+08</td>\n",
       "      <td>4.290000e+08</td>\n",
       "      <td>4.360000e+08</td>\n",
       "      <td>4.430000e+08</td>\n",
       "      <td>4.580000e+08</td>\n",
       "      <td>4.880000e+08</td>\n",
       "      <td>5.080000e+08</td>\n",
       "      <td>5.200000e+08</td>\n",
       "      <td>5.330000e+08</td>\n",
       "      <td>5.990000e+08</td>\n",
       "      <td>...</td>\n",
       "      <td>1.343000e+09</td>\n",
       "      <td>1.451000e+09</td>\n",
       "      <td>1.596000e+09</td>\n",
       "      <td>1.788000e+09</td>\n",
       "      <td>1.727000e+09</td>\n",
       "      <td>1.662000e+09</td>\n",
       "      <td>1.677000e+09</td>\n",
       "      <td>1.441000e+09</td>\n",
       "      <td>1.789000e+09</td>\n",
       "      <td>1.379000e+09</td>\n",
       "    </tr>\n",
       "    <tr>\n",
       "      <th>France</th>\n",
       "      <td>1.080527e+10</td>\n",
       "      <td>1.094766e+10</td>\n",
       "      <td>1.081952e+10</td>\n",
       "      <td>1.053208e+10</td>\n",
       "      <td>1.027529e+10</td>\n",
       "      <td>1.094036e+10</td>\n",
       "      <td>1.092041e+10</td>\n",
       "      <td>1.034518e+10</td>\n",
       "      <td>1.099093e+10</td>\n",
       "      <td>1.152636e+10</td>\n",
       "      <td>...</td>\n",
       "      <td>1.317370e+10</td>\n",
       "      <td>1.001123e+10</td>\n",
       "      <td>9.080000e+09</td>\n",
       "      <td>9.883630e+09</td>\n",
       "      <td>1.041300e+10</td>\n",
       "      <td>1.024821e+10</td>\n",
       "      <td>1.061250e+10</td>\n",
       "      <td>9.216000e+09</td>\n",
       "      <td>9.630572e+09</td>\n",
       "      <td>1.286616e+10</td>\n",
       "    </tr>\n",
       "    <tr>\n",
       "      <th>Germany</th>\n",
       "      <td>1.021600e+10</td>\n",
       "      <td>1.112600e+10</td>\n",
       "      <td>1.091600e+10</td>\n",
       "      <td>1.085000e+10</td>\n",
       "      <td>1.114600e+10</td>\n",
       "      <td>1.196700e+10</td>\n",
       "      <td>1.155800e+10</td>\n",
       "      <td>1.159500e+10</td>\n",
       "      <td>1.079000e+10</td>\n",
       "      <td>1.071000e+10</td>\n",
       "      <td>...</td>\n",
       "      <td>1.118000e+10</td>\n",
       "      <td>1.144000e+10</td>\n",
       "      <td>1.354000e+10</td>\n",
       "      <td>1.581000e+10</td>\n",
       "      <td>1.566000e+10</td>\n",
       "      <td>1.538000e+10</td>\n",
       "      <td>1.656000e+10</td>\n",
       "      <td>1.210000e+10</td>\n",
       "      <td>1.592000e+10</td>\n",
       "      <td>1.140000e+10</td>\n",
       "    </tr>\n",
       "    <tr>\n",
       "      <th>Greece</th>\n",
       "      <td>NaN</td>\n",
       "      <td>NaN</td>\n",
       "      <td>NaN</td>\n",
       "      <td>NaN</td>\n",
       "      <td>NaN</td>\n",
       "      <td>1.402000e+09</td>\n",
       "      <td>1.604000e+09</td>\n",
       "      <td>1.692000e+09</td>\n",
       "      <td>1.636000e+09</td>\n",
       "      <td>1.507000e+09</td>\n",
       "      <td>...</td>\n",
       "      <td>9.945760e+08</td>\n",
       "      <td>1.348730e+09</td>\n",
       "      <td>3.894933e+09</td>\n",
       "      <td>2.158003e+09</td>\n",
       "      <td>7.408717e+08</td>\n",
       "      <td>6.740830e+08</td>\n",
       "      <td>8.899530e+08</td>\n",
       "      <td>2.187038e+09</td>\n",
       "      <td>7.355561e+08</td>\n",
       "      <td>2.036553e+09</td>\n",
       "    </tr>\n",
       "    <tr>\n",
       "      <th>Hungary</th>\n",
       "      <td>1.310841e+08</td>\n",
       "      <td>1.228470e+08</td>\n",
       "      <td>2.992107e+08</td>\n",
       "      <td>2.804736e+08</td>\n",
       "      <td>2.085167e+08</td>\n",
       "      <td>1.765944e+08</td>\n",
       "      <td>2.369223e+08</td>\n",
       "      <td>2.836695e+08</td>\n",
       "      <td>2.426853e+08</td>\n",
       "      <td>1.426660e+09</td>\n",
       "      <td>...</td>\n",
       "      <td>1.526523e+08</td>\n",
       "      <td>1.247677e+09</td>\n",
       "      <td>1.280382e+09</td>\n",
       "      <td>1.780314e+09</td>\n",
       "      <td>2.288587e+09</td>\n",
       "      <td>1.894279e+09</td>\n",
       "      <td>1.555255e+09</td>\n",
       "      <td>8.027451e+08</td>\n",
       "      <td>1.820222e+09</td>\n",
       "      <td>4.005714e+08</td>\n",
       "    </tr>\n",
       "    <tr>\n",
       "      <th>Ireland</th>\n",
       "      <td>2.830000e+08</td>\n",
       "      <td>2.810000e+08</td>\n",
       "      <td>4.730000e+08</td>\n",
       "      <td>5.470000e+08</td>\n",
       "      <td>7.420000e+08</td>\n",
       "      <td>8.930000e+08</td>\n",
       "      <td>1.228000e+09</td>\n",
       "      <td>1.430000e+09</td>\n",
       "      <td>1.516000e+09</td>\n",
       "      <td>1.562000e+09</td>\n",
       "      <td>...</td>\n",
       "      <td>8.860000e+08</td>\n",
       "      <td>6.120000e+08</td>\n",
       "      <td>5.470000e+08</td>\n",
       "      <td>6.930000e+08</td>\n",
       "      <td>8.370000e+08</td>\n",
       "      <td>5.250000e+08</td>\n",
       "      <td>5.610000e+08</td>\n",
       "      <td>6.220000e+08</td>\n",
       "      <td>5.030000e+08</td>\n",
       "      <td>5.940000e+08</td>\n",
       "    </tr>\n",
       "    <tr>\n",
       "      <th>Italy</th>\n",
       "      <td>4.980000e+09</td>\n",
       "      <td>5.052000e+09</td>\n",
       "      <td>5.144000e+09</td>\n",
       "      <td>6.258000e+09</td>\n",
       "      <td>6.365000e+09</td>\n",
       "      <td>6.930000e+09</td>\n",
       "      <td>4.582000e+09</td>\n",
       "      <td>5.071000e+09</td>\n",
       "      <td>6.874000e+09</td>\n",
       "      <td>7.572000e+09</td>\n",
       "      <td>...</td>\n",
       "      <td>3.107000e+09</td>\n",
       "      <td>5.151000e+09</td>\n",
       "      <td>3.409000e+09</td>\n",
       "      <td>6.555000e+09</td>\n",
       "      <td>4.310000e+09</td>\n",
       "      <td>6.185000e+09</td>\n",
       "      <td>6.384000e+09</td>\n",
       "      <td>3.755000e+09</td>\n",
       "      <td>4.393000e+09</td>\n",
       "      <td>2.841000e+09</td>\n",
       "    </tr>\n",
       "    <tr>\n",
       "      <th>Latvia</th>\n",
       "      <td>3.000000e+06</td>\n",
       "      <td>4.000000e+06</td>\n",
       "      <td>1.000000e+06</td>\n",
       "      <td>1.000000e+06</td>\n",
       "      <td>5.000000e+06</td>\n",
       "      <td>8.000000e+06</td>\n",
       "      <td>1.000000e+07</td>\n",
       "      <td>8.000000e+06</td>\n",
       "      <td>4.600000e+07</td>\n",
       "      <td>5.500000e+07</td>\n",
       "      <td>...</td>\n",
       "      <td>1.900000e+08</td>\n",
       "      <td>2.030000e+08</td>\n",
       "      <td>2.260000e+08</td>\n",
       "      <td>2.214000e+08</td>\n",
       "      <td>2.230000e+08</td>\n",
       "      <td>2.010000e+08</td>\n",
       "      <td>1.960000e+08</td>\n",
       "      <td>1.900000e+08</td>\n",
       "      <td>1.980000e+08</td>\n",
       "      <td>1.990000e+08</td>\n",
       "    </tr>\n",
       "    <tr>\n",
       "      <th>Lithuania</th>\n",
       "      <td>1.500000e+07</td>\n",
       "      <td>2.400000e+07</td>\n",
       "      <td>4.000000e+07</td>\n",
       "      <td>9.600000e+07</td>\n",
       "      <td>1.300000e+08</td>\n",
       "      <td>1.090000e+08</td>\n",
       "      <td>7.000000e+07</td>\n",
       "      <td>1.120000e+08</td>\n",
       "      <td>1.420000e+08</td>\n",
       "      <td>1.370000e+08</td>\n",
       "      <td>...</td>\n",
       "      <td>2.430000e+08</td>\n",
       "      <td>2.580000e+08</td>\n",
       "      <td>3.450000e+08</td>\n",
       "      <td>3.250000e+08</td>\n",
       "      <td>3.520000e+08</td>\n",
       "      <td>4.340000e+08</td>\n",
       "      <td>3.430000e+08</td>\n",
       "      <td>3.570000e+08</td>\n",
       "      <td>4.660000e+08</td>\n",
       "      <td>2.530000e+08</td>\n",
       "    </tr>\n",
       "    <tr>\n",
       "      <th>Luxembourg</th>\n",
       "      <td>1.137413e+08</td>\n",
       "      <td>1.073676e+08</td>\n",
       "      <td>1.013025e+08</td>\n",
       "      <td>1.125592e+08</td>\n",
       "      <td>1.455169e+08</td>\n",
       "      <td>1.660208e+08</td>\n",
       "      <td>1.858724e+08</td>\n",
       "      <td>2.128938e+08</td>\n",
       "      <td>1.884056e+08</td>\n",
       "      <td>1.352028e+08</td>\n",
       "      <td>...</td>\n",
       "      <td>2.133994e+08</td>\n",
       "      <td>2.262171e+08</td>\n",
       "      <td>2.255777e+08</td>\n",
       "      <td>1.885960e+08</td>\n",
       "      <td>2.600169e+08</td>\n",
       "      <td>NaN</td>\n",
       "      <td>NaN</td>\n",
       "      <td>2.135372e+08</td>\n",
       "      <td>2.462255e+08</td>\n",
       "      <td>2.192972e+08</td>\n",
       "    </tr>\n",
       "    <tr>\n",
       "      <th>Malta</th>\n",
       "      <td>1.481289e+05</td>\n",
       "      <td>4.550862e+06</td>\n",
       "      <td>4.853097e+05</td>\n",
       "      <td>1.421060e+06</td>\n",
       "      <td>5.350175e+06</td>\n",
       "      <td>5.690478e+06</td>\n",
       "      <td>4.401961e+06</td>\n",
       "      <td>9.894943e+06</td>\n",
       "      <td>8.030706e+06</td>\n",
       "      <td>1.392869e+07</td>\n",
       "      <td>...</td>\n",
       "      <td>2.674741e+07</td>\n",
       "      <td>NaN</td>\n",
       "      <td>NaN</td>\n",
       "      <td>NaN</td>\n",
       "      <td>NaN</td>\n",
       "      <td>NaN</td>\n",
       "      <td>NaN</td>\n",
       "      <td>NaN</td>\n",
       "      <td>NaN</td>\n",
       "      <td>1.106606e+07</td>\n",
       "    </tr>\n",
       "    <tr>\n",
       "      <th>Netherlands</th>\n",
       "      <td>NaN</td>\n",
       "      <td>NaN</td>\n",
       "      <td>1.122000e+09</td>\n",
       "      <td>1.350000e+09</td>\n",
       "      <td>1.500000e+09</td>\n",
       "      <td>1.727000e+09</td>\n",
       "      <td>1.847000e+09</td>\n",
       "      <td>2.279000e+09</td>\n",
       "      <td>2.328000e+09</td>\n",
       "      <td>2.334000e+09</td>\n",
       "      <td>...</td>\n",
       "      <td>4.861964e+09</td>\n",
       "      <td>4.849448e+09</td>\n",
       "      <td>6.294137e+09</td>\n",
       "      <td>6.511488e+09</td>\n",
       "      <td>6.434723e+09</td>\n",
       "      <td>7.082106e+09</td>\n",
       "      <td>7.338625e+09</td>\n",
       "      <td>4.485420e+09</td>\n",
       "      <td>6.958159e+09</td>\n",
       "      <td>4.686635e+09</td>\n",
       "    </tr>\n",
       "    <tr>\n",
       "      <th>Poland</th>\n",
       "      <td>6.382241e+08</td>\n",
       "      <td>1.803197e+08</td>\n",
       "      <td>2.272666e+08</td>\n",
       "      <td>2.992206e+08</td>\n",
       "      <td>2.966783e+08</td>\n",
       "      <td>1.019512e+09</td>\n",
       "      <td>1.094550e+09</td>\n",
       "      <td>1.035941e+09</td>\n",
       "      <td>1.010618e+09</td>\n",
       "      <td>1.235382e+09</td>\n",
       "      <td>...</td>\n",
       "      <td>4.382812e+09</td>\n",
       "      <td>2.170795e+09</td>\n",
       "      <td>3.209595e+09</td>\n",
       "      <td>2.668638e+09</td>\n",
       "      <td>2.415358e+09</td>\n",
       "      <td>3.169807e+09</td>\n",
       "      <td>3.041947e+09</td>\n",
       "      <td>3.075442e+09</td>\n",
       "      <td>3.207598e+09</td>\n",
       "      <td>2.464797e+09</td>\n",
       "    </tr>\n",
       "    <tr>\n",
       "      <th>Portugal</th>\n",
       "      <td>7.370000e+08</td>\n",
       "      <td>7.480000e+08</td>\n",
       "      <td>9.700000e+08</td>\n",
       "      <td>9.050000e+08</td>\n",
       "      <td>5.520000e+08</td>\n",
       "      <td>9.610000e+08</td>\n",
       "      <td>1.685000e+09</td>\n",
       "      <td>1.620000e+09</td>\n",
       "      <td>1.537000e+09</td>\n",
       "      <td>1.933000e+09</td>\n",
       "      <td>...</td>\n",
       "      <td>2.740000e+08</td>\n",
       "      <td>NaN</td>\n",
       "      <td>NaN</td>\n",
       "      <td>NaN</td>\n",
       "      <td>NaN</td>\n",
       "      <td>NaN</td>\n",
       "      <td>NaN</td>\n",
       "      <td>NaN</td>\n",
       "      <td>NaN</td>\n",
       "      <td>2.110000e+08</td>\n",
       "    </tr>\n",
       "    <tr>\n",
       "      <th>Romania</th>\n",
       "      <td>3.521127e+08</td>\n",
       "      <td>3.895451e+08</td>\n",
       "      <td>4.574113e+08</td>\n",
       "      <td>4.902653e+08</td>\n",
       "      <td>4.432711e+08</td>\n",
       "      <td>6.305493e+08</td>\n",
       "      <td>7.354864e+08</td>\n",
       "      <td>6.342806e+08</td>\n",
       "      <td>7.073801e+08</td>\n",
       "      <td>1.094880e+09</td>\n",
       "      <td>...</td>\n",
       "      <td>3.092797e+09</td>\n",
       "      <td>2.870287e+09</td>\n",
       "      <td>2.133649e+09</td>\n",
       "      <td>2.181564e+09</td>\n",
       "      <td>NaN</td>\n",
       "      <td>NaN</td>\n",
       "      <td>NaN</td>\n",
       "      <td>2.366794e+09</td>\n",
       "      <td>NaN</td>\n",
       "      <td>2.728713e+09</td>\n",
       "    </tr>\n",
       "    <tr>\n",
       "      <th>Slovak Republic</th>\n",
       "      <td>5.300000e+07</td>\n",
       "      <td>7.900000e+07</td>\n",
       "      <td>3.150000e+08</td>\n",
       "      <td>3.000000e+08</td>\n",
       "      <td>2.040000e+08</td>\n",
       "      <td>2.270000e+08</td>\n",
       "      <td>2.010000e+08</td>\n",
       "      <td>2.600000e+08</td>\n",
       "      <td>2.100000e+08</td>\n",
       "      <td>2.400000e+08</td>\n",
       "      <td>...</td>\n",
       "      <td>3.110000e+08</td>\n",
       "      <td>1.133782e+09</td>\n",
       "      <td>7.496130e+08</td>\n",
       "      <td>7.688400e+08</td>\n",
       "      <td>NaN</td>\n",
       "      <td>1.113000e+09</td>\n",
       "      <td>1.148000e+09</td>\n",
       "      <td>7.514180e+08</td>\n",
       "      <td>7.522000e+08</td>\n",
       "      <td>3.600000e+08</td>\n",
       "    </tr>\n",
       "    <tr>\n",
       "      <th>Slovenia</th>\n",
       "      <td>1.860000e+08</td>\n",
       "      <td>2.840000e+08</td>\n",
       "      <td>2.930000e+08</td>\n",
       "      <td>2.630000e+08</td>\n",
       "      <td>3.520000e+08</td>\n",
       "      <td>3.720000e+08</td>\n",
       "      <td>2.840000e+08</td>\n",
       "      <td>3.370000e+08</td>\n",
       "      <td>4.700000e+08</td>\n",
       "      <td>4.960000e+08</td>\n",
       "      <td>...</td>\n",
       "      <td>1.020000e+08</td>\n",
       "      <td>1.450000e+08</td>\n",
       "      <td>2.170000e+08</td>\n",
       "      <td>3.300000e+08</td>\n",
       "      <td>3.060000e+08</td>\n",
       "      <td>2.980000e+08</td>\n",
       "      <td>4.220000e+08</td>\n",
       "      <td>1.490000e+08</td>\n",
       "      <td>2.350000e+08</td>\n",
       "      <td>1.040000e+08</td>\n",
       "    </tr>\n",
       "    <tr>\n",
       "      <th>Spain</th>\n",
       "      <td>4.263000e+09</td>\n",
       "      <td>4.010000e+09</td>\n",
       "      <td>3.977000e+09</td>\n",
       "      <td>4.787000e+09</td>\n",
       "      <td>4.328000e+09</td>\n",
       "      <td>4.792000e+09</td>\n",
       "      <td>5.558000e+09</td>\n",
       "      <td>6.874000e+09</td>\n",
       "      <td>7.321000e+09</td>\n",
       "      <td>7.244000e+09</td>\n",
       "      <td>...</td>\n",
       "      <td>5.316000e+09</td>\n",
       "      <td>4.259000e+09</td>\n",
       "      <td>3.690000e+09</td>\n",
       "      <td>3.518000e+09</td>\n",
       "      <td>3.625000e+09</td>\n",
       "      <td>3.812000e+09</td>\n",
       "      <td>5.289000e+09</td>\n",
       "      <td>3.880000e+09</td>\n",
       "      <td>3.660000e+09</td>\n",
       "      <td>4.646000e+09</td>\n",
       "    </tr>\n",
       "    <tr>\n",
       "      <th>Sweden</th>\n",
       "      <td>9.115356e+08</td>\n",
       "      <td>1.013552e+09</td>\n",
       "      <td>8.901007e+08</td>\n",
       "      <td>1.047090e+09</td>\n",
       "      <td>9.261992e+08</td>\n",
       "      <td>9.120402e+08</td>\n",
       "      <td>1.007379e+09</td>\n",
       "      <td>1.295665e+09</td>\n",
       "      <td>1.399106e+09</td>\n",
       "      <td>1.443068e+09</td>\n",
       "      <td>...</td>\n",
       "      <td>2.212090e+09</td>\n",
       "      <td>1.861457e+09</td>\n",
       "      <td>2.374415e+09</td>\n",
       "      <td>2.497002e+09</td>\n",
       "      <td>2.503424e+09</td>\n",
       "      <td>2.910555e+09</td>\n",
       "      <td>2.895628e+09</td>\n",
       "      <td>2.086339e+09</td>\n",
       "      <td>2.941620e+09</td>\n",
       "      <td>2.013063e+09</td>\n",
       "    </tr>\n",
       "  </tbody>\n",
       "</table>\n",
       "<p>26 rows × 29 columns</p>\n",
       "</div>"
      ],
      "text/plain": [
       "                         1995          1996          1997          1998  \\\n",
       "Country                                                                   \n",
       "Austria          4.570000e+08  4.260000e+08  3.650000e+08  4.300000e+08   \n",
       "Belgium          1.600000e+08  1.590000e+08  1.530000e+08  1.520000e+08   \n",
       "Bulgaria                  NaN           NaN           NaN           NaN   \n",
       "Croatia                   NaN           NaN           NaN           NaN   \n",
       "Czechia          2.825142e+08  3.057651e+08  3.820312e+08  3.746393e+08   \n",
       "Denmark          3.518445e+08  4.036794e+08  3.995777e+08  3.877437e+08   \n",
       "Estonia          8.000000e+06  1.200000e+07  1.000000e+07  1.700000e+07   \n",
       "Finland          4.570000e+08  4.290000e+08  4.360000e+08  4.430000e+08   \n",
       "France           1.080527e+10  1.094766e+10  1.081952e+10  1.053208e+10   \n",
       "Germany          1.021600e+10  1.112600e+10  1.091600e+10  1.085000e+10   \n",
       "Greece                    NaN           NaN           NaN           NaN   \n",
       "Hungary          1.310841e+08  1.228470e+08  2.992107e+08  2.804736e+08   \n",
       "Ireland          2.830000e+08  2.810000e+08  4.730000e+08  5.470000e+08   \n",
       "Italy            4.980000e+09  5.052000e+09  5.144000e+09  6.258000e+09   \n",
       "Latvia           3.000000e+06  4.000000e+06  1.000000e+06  1.000000e+06   \n",
       "Lithuania        1.500000e+07  2.400000e+07  4.000000e+07  9.600000e+07   \n",
       "Luxembourg       1.137413e+08  1.073676e+08  1.013025e+08  1.125592e+08   \n",
       "Malta            1.481289e+05  4.550862e+06  4.853097e+05  1.421060e+06   \n",
       "Netherlands               NaN           NaN  1.122000e+09  1.350000e+09   \n",
       "Poland           6.382241e+08  1.803197e+08  2.272666e+08  2.992206e+08   \n",
       "Portugal         7.370000e+08  7.480000e+08  9.700000e+08  9.050000e+08   \n",
       "Romania          3.521127e+08  3.895451e+08  4.574113e+08  4.902653e+08   \n",
       "Slovak Republic  5.300000e+07  7.900000e+07  3.150000e+08  3.000000e+08   \n",
       "Slovenia         1.860000e+08  2.840000e+08  2.930000e+08  2.630000e+08   \n",
       "Spain            4.263000e+09  4.010000e+09  3.977000e+09  4.787000e+09   \n",
       "Sweden           9.115356e+08  1.013552e+09  8.901007e+08  1.047090e+09   \n",
       "\n",
       "                         1999          2000          2001          2002  \\\n",
       "Country                                                                   \n",
       "Austria          3.910000e+08  4.750000e+08  6.400000e+08           NaN   \n",
       "Belgium          1.610000e+08  1.490000e+08  1.470000e+08  1.720000e+08   \n",
       "Bulgaria                  NaN           NaN           NaN           NaN   \n",
       "Croatia                   NaN  3.087133e+08  3.026080e+08  6.057469e+08   \n",
       "Czechia          3.222859e+08  3.086187e+08  3.024600e+08  5.182849e+08   \n",
       "Denmark          4.194685e+08  4.545333e+08  4.970344e+08  3.991656e+08   \n",
       "Estonia          2.100000e+07  2.200000e+07  2.200000e+07  4.700000e+07   \n",
       "Finland          4.580000e+08  4.880000e+08  5.080000e+08  5.200000e+08   \n",
       "France           1.027529e+10  1.094036e+10  1.092041e+10  1.034518e+10   \n",
       "Germany          1.114600e+10  1.196700e+10  1.155800e+10  1.159500e+10   \n",
       "Greece                    NaN  1.402000e+09  1.604000e+09  1.692000e+09   \n",
       "Hungary          2.085167e+08  1.765944e+08  2.369223e+08  2.836695e+08   \n",
       "Ireland          7.420000e+08  8.930000e+08  1.228000e+09  1.430000e+09   \n",
       "Italy            6.365000e+09  6.930000e+09  4.582000e+09  5.071000e+09   \n",
       "Latvia           5.000000e+06  8.000000e+06  1.000000e+07  8.000000e+06   \n",
       "Lithuania        1.300000e+08  1.090000e+08  7.000000e+07  1.120000e+08   \n",
       "Luxembourg       1.455169e+08  1.660208e+08  1.858724e+08  2.128938e+08   \n",
       "Malta            5.350175e+06  5.690478e+06  4.401961e+06  9.894943e+06   \n",
       "Netherlands      1.500000e+09  1.727000e+09  1.847000e+09  2.279000e+09   \n",
       "Poland           2.966783e+08  1.019512e+09  1.094550e+09  1.035941e+09   \n",
       "Portugal         5.520000e+08  9.610000e+08  1.685000e+09  1.620000e+09   \n",
       "Romania          4.432711e+08  6.305493e+08  7.354864e+08  6.342806e+08   \n",
       "Slovak Republic  2.040000e+08  2.270000e+08  2.010000e+08  2.600000e+08   \n",
       "Slovenia         3.520000e+08  3.720000e+08  2.840000e+08  3.370000e+08   \n",
       "Spain            4.328000e+09  4.792000e+09  5.558000e+09  6.874000e+09   \n",
       "Sweden           9.261992e+08  9.120402e+08  1.007379e+09  1.295665e+09   \n",
       "\n",
       "                         2003          2004  ...          2014          2015  \\\n",
       "Country                                      ...                               \n",
       "Austria                   NaN           NaN  ...           NaN           NaN   \n",
       "Belgium          1.850000e+08  1.560000e+08  ...  5.530000e+08  7.780000e+08   \n",
       "Bulgaria                  NaN           NaN  ...  5.859495e+08  8.390428e+08   \n",
       "Croatia          1.052226e+09  8.722543e+08  ...  4.778021e+08  2.408919e+08   \n",
       "Czechia          6.256379e+08  1.031226e+09  ...  8.763292e+08  8.853583e+08   \n",
       "Denmark          5.866204e+08  7.278324e+08  ...  1.323652e+09  1.086397e+09   \n",
       "Estonia          4.800000e+07  5.600000e+07  ...  1.984000e+08  1.850500e+08   \n",
       "Finland          5.330000e+08  5.990000e+08  ...  1.343000e+09  1.451000e+09   \n",
       "France           1.099093e+10  1.152636e+10  ...  1.317370e+10  1.001123e+10   \n",
       "Germany          1.079000e+10  1.071000e+10  ...  1.118000e+10  1.144000e+10   \n",
       "Greece           1.636000e+09  1.507000e+09  ...  9.945760e+08  1.348730e+09   \n",
       "Hungary          2.426853e+08  1.426660e+09  ...  1.526523e+08  1.247677e+09   \n",
       "Ireland          1.516000e+09  1.562000e+09  ...  8.860000e+08  6.120000e+08   \n",
       "Italy            6.874000e+09  7.572000e+09  ...  3.107000e+09  5.151000e+09   \n",
       "Latvia           4.600000e+07  5.500000e+07  ...  1.900000e+08  2.030000e+08   \n",
       "Lithuania        1.420000e+08  1.370000e+08  ...  2.430000e+08  2.580000e+08   \n",
       "Luxembourg       1.884056e+08  1.352028e+08  ...  2.133994e+08  2.262171e+08   \n",
       "Malta            8.030706e+06  1.392869e+07  ...  2.674741e+07           NaN   \n",
       "Netherlands      2.328000e+09  2.334000e+09  ...  4.861964e+09  4.849448e+09   \n",
       "Poland           1.010618e+09  1.235382e+09  ...  4.382812e+09  2.170795e+09   \n",
       "Portugal         1.537000e+09  1.933000e+09  ...  2.740000e+08           NaN   \n",
       "Romania          7.073801e+08  1.094880e+09  ...  3.092797e+09  2.870287e+09   \n",
       "Slovak Republic  2.100000e+08  2.400000e+08  ...  3.110000e+08  1.133782e+09   \n",
       "Slovenia         4.700000e+08  4.960000e+08  ...  1.020000e+08  1.450000e+08   \n",
       "Spain            7.321000e+09  7.244000e+09  ...  5.316000e+09  4.259000e+09   \n",
       "Sweden           1.399106e+09  1.443068e+09  ...  2.212090e+09  1.861457e+09   \n",
       "\n",
       "                         2016          2017          2018          2019  \\\n",
       "Country                                                                   \n",
       "Austria                   NaN           NaN           NaN           NaN   \n",
       "Belgium          6.559060e+08  6.810000e+08  7.350000e+08  1.311000e+09   \n",
       "Bulgaria         1.150424e+08  8.825033e+08  5.281726e+08  1.518560e+08   \n",
       "Croatia          1.947044e+08  2.811069e+08  3.493264e+08  5.365983e+08   \n",
       "Czechia          9.841913e+08  1.044764e+09  1.383065e+09  1.817147e+09   \n",
       "Denmark          1.065643e+09  1.083964e+09           NaN           NaN   \n",
       "Estonia          1.970000e+08  2.190000e+08  2.200000e+08  2.810000e+08   \n",
       "Finland          1.596000e+09  1.788000e+09  1.727000e+09  1.662000e+09   \n",
       "France           9.080000e+09  9.883630e+09  1.041300e+10  1.024821e+10   \n",
       "Germany          1.354000e+10  1.581000e+10  1.566000e+10  1.538000e+10   \n",
       "Greece           3.894933e+09  2.158003e+09  7.408717e+08  6.740830e+08   \n",
       "Hungary          1.280382e+09  1.780314e+09  2.288587e+09  1.894279e+09   \n",
       "Ireland          5.470000e+08  6.930000e+08  8.370000e+08  5.250000e+08   \n",
       "Italy            3.409000e+09  6.555000e+09  4.310000e+09  6.185000e+09   \n",
       "Latvia           2.260000e+08  2.214000e+08  2.230000e+08  2.010000e+08   \n",
       "Lithuania        3.450000e+08  3.250000e+08  3.520000e+08  4.340000e+08   \n",
       "Luxembourg       2.255777e+08  1.885960e+08  2.600169e+08           NaN   \n",
       "Malta                     NaN           NaN           NaN           NaN   \n",
       "Netherlands      6.294137e+09  6.511488e+09  6.434723e+09  7.082106e+09   \n",
       "Poland           3.209595e+09  2.668638e+09  2.415358e+09  3.169807e+09   \n",
       "Portugal                  NaN           NaN           NaN           NaN   \n",
       "Romania          2.133649e+09  2.181564e+09           NaN           NaN   \n",
       "Slovak Republic  7.496130e+08  7.688400e+08           NaN  1.113000e+09   \n",
       "Slovenia         2.170000e+08  3.300000e+08  3.060000e+08  2.980000e+08   \n",
       "Spain            3.690000e+09  3.518000e+09  3.625000e+09  3.812000e+09   \n",
       "Sweden           2.374415e+09  2.497002e+09  2.503424e+09  2.910555e+09   \n",
       "\n",
       "                         2020          2021          2022          2023  \n",
       "Country                                                                  \n",
       "Austria                   NaN           NaN           NaN           NaN  \n",
       "Belgium          1.001000e+09  8.100000e+08  6.070000e+08  5.870000e+08  \n",
       "Bulgaria         4.039268e+08  1.631046e+08  5.251048e+08  5.051641e+08  \n",
       "Croatia          4.709005e+08  1.973588e+08  4.422324e+08  4.267038e+08  \n",
       "Czechia          1.943388e+09  8.492317e+08  1.640906e+09  6.475111e+08  \n",
       "Denmark                   NaN  1.099471e+09           NaN  1.046944e+09  \n",
       "Estonia          2.510000e+08  1.486000e+08  2.440000e+08  2.145300e+08  \n",
       "Finland          1.677000e+09  1.441000e+09  1.789000e+09  1.379000e+09  \n",
       "France           1.061250e+10  9.216000e+09  9.630572e+09  1.286616e+10  \n",
       "Germany          1.656000e+10  1.210000e+10  1.592000e+10  1.140000e+10  \n",
       "Greece           8.899530e+08  2.187038e+09  7.355561e+08  2.036553e+09  \n",
       "Hungary          1.555255e+09  8.027451e+08  1.820222e+09  4.005714e+08  \n",
       "Ireland          5.610000e+08  6.220000e+08  5.030000e+08  5.940000e+08  \n",
       "Italy            6.384000e+09  3.755000e+09  4.393000e+09  2.841000e+09  \n",
       "Latvia           1.960000e+08  1.900000e+08  1.980000e+08  1.990000e+08  \n",
       "Lithuania        3.430000e+08  3.570000e+08  4.660000e+08  2.530000e+08  \n",
       "Luxembourg                NaN  2.135372e+08  2.462255e+08  2.192972e+08  \n",
       "Malta                     NaN           NaN           NaN  1.106606e+07  \n",
       "Netherlands      7.338625e+09  4.485420e+09  6.958159e+09  4.686635e+09  \n",
       "Poland           3.041947e+09  3.075442e+09  3.207598e+09  2.464797e+09  \n",
       "Portugal                  NaN           NaN           NaN  2.110000e+08  \n",
       "Romania                   NaN  2.366794e+09           NaN  2.728713e+09  \n",
       "Slovak Republic  1.148000e+09  7.514180e+08  7.522000e+08  3.600000e+08  \n",
       "Slovenia         4.220000e+08  1.490000e+08  2.350000e+08  1.040000e+08  \n",
       "Spain            5.289000e+09  3.880000e+09  3.660000e+09  4.646000e+09  \n",
       "Sweden           2.895628e+09  2.086339e+09  2.941620e+09  2.013063e+09  \n",
       "\n",
       "[26 rows x 29 columns]"
      ]
     },
     "execution_count": 8,
     "metadata": {},
     "output_type": "execute_result"
    }
   ],
   "source": [
    "# Pull from API, organize data into a dict, and create and filter DataFrame\n",
    "infr_data_json = get_infr_data()\n",
    "infr_dict = create_infr_info_dict(infr_data_json)\n",
    "countries_info_dict = infr_data_json[\"data\"][\"structures\"][0][\"dimensions\"][\"observation\"][0][\"values\"]\n",
    "countries_in_order = get_list_of_countries_in_order(countries_info_dict)\n",
    "infr_df = create_and_clean_infr_df(infr_dict, countries_in_order)\n",
    "\n",
    "infr_df"
   ]
  },
  {
   "cell_type": "markdown",
   "id": "55ee776896e45c18",
   "metadata": {},
   "source": [
    "## GDP by Country"
   ]
  },
  {
   "cell_type": "code",
   "execution_count": 9,
   "id": "ea48147d11af24a1",
   "metadata": {
    "ExecuteTime": {
     "end_time": "2025-05-26T21:27:41.472106Z",
     "start_time": "2025-05-26T21:27:41.469787Z"
    }
   },
   "outputs": [],
   "source": [
    "def bil_usd_to_euro(bil_usd):\n",
    "    result = bil_usd * 1_000_000_000 # billions of usd to usd\n",
    "    result *= 0.89 # usd to euro\n",
    "    return result"
   ]
  },
  {
   "cell_type": "code",
   "execution_count": 10,
   "id": "ff457475787080e1",
   "metadata": {
    "ExecuteTime": {
     "end_time": "2025-05-26T21:27:41.498419Z",
     "start_time": "2025-05-26T21:27:41.495280Z"
    }
   },
   "outputs": [],
   "source": [
    "def gdp_pull_API_into_dict():\n",
    "    gdp_dict = {}\n",
    "    for i in range(29):\n",
    "        gdp_dict[i + 1995] = []\n",
    "\n",
    "    for c in range(len(eu_countries_abbr)):\n",
    "        # gdp_dict[\"Country\"].append(eu_member_states[c])\n",
    "        gdp_url = f'https://api.api-ninjas.com/v1/gdp?country={eu_countries_abbr[c]}'\n",
    "        gdp_api_data = requests.get(gdp_url, headers={'X-Api-Key': '7DGbBN8IqcLbLHWaItioSA==jTkf7nL50oD4Ghnb'}).json()\n",
    "\n",
    "        for i in range(len(gdp_api_data)):\n",
    "            if 1995 <= gdp_api_data[i][\"year\"] <= 2023:\n",
    "\n",
    "                gdp_in_euro = bil_usd_to_euro(gdp_api_data[i][\"gdp_nominal\"])\n",
    "\n",
    "                gdp_dict[gdp_api_data[i][\"year\"]].append(gdp_in_euro)\n",
    "\n",
    "    return gdp_dict"
   ]
  },
  {
   "cell_type": "code",
   "execution_count": 11,
   "id": "f9b20b946fa9d2d0",
   "metadata": {
    "ExecuteTime": {
     "end_time": "2025-05-26T21:27:57.257267Z",
     "start_time": "2025-05-26T21:27:41.540110Z"
    }
   },
   "outputs": [
    {
     "data": {
      "text/html": [
       "<div>\n",
       "<style scoped>\n",
       "    .dataframe tbody tr th:only-of-type {\n",
       "        vertical-align: middle;\n",
       "    }\n",
       "\n",
       "    .dataframe tbody tr th {\n",
       "        vertical-align: top;\n",
       "    }\n",
       "\n",
       "    .dataframe thead th {\n",
       "        text-align: right;\n",
       "    }\n",
       "</style>\n",
       "<table border=\"1\" class=\"dataframe\">\n",
       "  <thead>\n",
       "    <tr style=\"text-align: right;\">\n",
       "      <th></th>\n",
       "      <th>1995</th>\n",
       "      <th>1996</th>\n",
       "      <th>1997</th>\n",
       "      <th>1998</th>\n",
       "      <th>1999</th>\n",
       "      <th>2000</th>\n",
       "      <th>2001</th>\n",
       "      <th>2002</th>\n",
       "      <th>2003</th>\n",
       "      <th>2004</th>\n",
       "      <th>...</th>\n",
       "      <th>2014</th>\n",
       "      <th>2015</th>\n",
       "      <th>2016</th>\n",
       "      <th>2017</th>\n",
       "      <th>2018</th>\n",
       "      <th>2019</th>\n",
       "      <th>2020</th>\n",
       "      <th>2021</th>\n",
       "      <th>2022</th>\n",
       "      <th>2023</th>\n",
       "    </tr>\n",
       "  </thead>\n",
       "  <tbody>\n",
       "    <tr>\n",
       "      <th>Austria</th>\n",
       "      <td>2.146983e+11</td>\n",
       "      <td>2.112353e+11</td>\n",
       "      <td>1.896100e+11</td>\n",
       "      <td>1.945157e+11</td>\n",
       "      <td>1.935528e+11</td>\n",
       "      <td>1.756655e+11</td>\n",
       "      <td>1.757839e+11</td>\n",
       "      <td>1.906763e+11</td>\n",
       "      <td>2.333651e+11</td>\n",
       "      <td>2.681757e+11</td>\n",
       "      <td>...</td>\n",
       "      <td>3.940021e+11</td>\n",
       "      <td>3.399889e+11</td>\n",
       "      <td>3.521979e+11</td>\n",
       "      <td>3.712315e+11</td>\n",
       "      <td>4.051262e+11</td>\n",
       "      <td>3.957340e+11</td>\n",
       "      <td>3.868839e+11</td>\n",
       "      <td>4.268565e+11</td>\n",
       "      <td>4.195229e+11</td>\n",
       "      <td>4.607192e+11</td>\n",
       "    </tr>\n",
       "    <tr>\n",
       "      <th>Belgium</th>\n",
       "      <td>2.565879e+11</td>\n",
       "      <td>2.485699e+11</td>\n",
       "      <td>2.251896e+11</td>\n",
       "      <td>2.303996e+11</td>\n",
       "      <td>2.300650e+11</td>\n",
       "      <td>2.108383e+11</td>\n",
       "      <td>2.107057e+11</td>\n",
       "      <td>2.297980e+11</td>\n",
       "      <td>2.830236e+11</td>\n",
       "      <td>3.284518e+11</td>\n",
       "      <td>...</td>\n",
       "      <td>4.766208e+11</td>\n",
       "      <td>4.115209e+11</td>\n",
       "      <td>4.235786e+11</td>\n",
       "      <td>4.473024e+11</td>\n",
       "      <td>4.837559e+11</td>\n",
       "      <td>4.769732e+11</td>\n",
       "      <td>4.677840e+11</td>\n",
       "      <td>5.351614e+11</td>\n",
       "      <td>5.198250e+11</td>\n",
       "      <td>5.628351e+11</td>\n",
       "    </tr>\n",
       "    <tr>\n",
       "      <th>Bulgaria</th>\n",
       "      <td>1.690288e+10</td>\n",
       "      <td>1.094255e+10</td>\n",
       "      <td>1.007213e+10</td>\n",
       "      <td>1.337759e+10</td>\n",
       "      <td>1.212892e+10</td>\n",
       "      <td>1.178894e+10</td>\n",
       "      <td>1.262287e+10</td>\n",
       "      <td>1.459867e+10</td>\n",
       "      <td>1.881994e+10</td>\n",
       "      <td>2.328062e+10</td>\n",
       "      <td>...</td>\n",
       "      <td>5.080209e+10</td>\n",
       "      <td>4.518174e+10</td>\n",
       "      <td>4.799681e+10</td>\n",
       "      <td>5.276632e+10</td>\n",
       "      <td>5.909422e+10</td>\n",
       "      <td>6.131121e+10</td>\n",
       "      <td>6.257679e+10</td>\n",
       "      <td>7.484900e+10</td>\n",
       "      <td>8.047558e+10</td>\n",
       "      <td>9.043379e+10</td>\n",
       "    </tr>\n",
       "    <tr>\n",
       "      <th>Croatia</th>\n",
       "      <td>1.837850e+10</td>\n",
       "      <td>1.966633e+10</td>\n",
       "      <td>1.966366e+10</td>\n",
       "      <td>2.132707e+10</td>\n",
       "      <td>2.099065e+10</td>\n",
       "      <td>1.970282e+10</td>\n",
       "      <td>2.052607e+10</td>\n",
       "      <td>2.379771e+10</td>\n",
       "      <td>3.137161e+10</td>\n",
       "      <td>3.723404e+10</td>\n",
       "      <td>...</td>\n",
       "      <td>5.296034e+10</td>\n",
       "      <td>4.540424e+10</td>\n",
       "      <td>4.692614e+10</td>\n",
       "      <td>5.010878e+10</td>\n",
       "      <td>5.507854e+10</td>\n",
       "      <td>5.506519e+10</td>\n",
       "      <td>5.177931e+10</td>\n",
       "      <td>6.198939e+10</td>\n",
       "      <td>6.413251e+10</td>\n",
       "      <td>7.361279e+10</td>\n",
       "    </tr>\n",
       "    <tr>\n",
       "      <th>Czechia</th>\n",
       "      <td>5.390285e+10</td>\n",
       "      <td>6.034645e+10</td>\n",
       "      <td>5.565170e+10</td>\n",
       "      <td>5.977329e+10</td>\n",
       "      <td>5.837154e+10</td>\n",
       "      <td>5.533219e+10</td>\n",
       "      <td>6.064104e+10</td>\n",
       "      <td>7.351044e+10</td>\n",
       "      <td>8.941919e+10</td>\n",
       "      <td>1.069317e+11</td>\n",
       "      <td>...</td>\n",
       "      <td>1.877108e+11</td>\n",
       "      <td>1.683061e+11</td>\n",
       "      <td>1.763633e+11</td>\n",
       "      <td>1.971920e+11</td>\n",
       "      <td>2.242729e+11</td>\n",
       "      <td>2.285467e+11</td>\n",
       "      <td>2.234879e+11</td>\n",
       "      <td>2.589660e+11</td>\n",
       "      <td>2.686296e+11</td>\n",
       "      <td>3.054551e+11</td>\n",
       "    </tr>\n",
       "    <tr>\n",
       "      <th>Denmark</th>\n",
       "      <td>1.645165e+11</td>\n",
       "      <td>1.668590e+11</td>\n",
       "      <td>1.541854e+11</td>\n",
       "      <td>1.574196e+11</td>\n",
       "      <td>1.583194e+11</td>\n",
       "      <td>1.459983e+11</td>\n",
       "      <td>1.467441e+11</td>\n",
       "      <td>1.591213e+11</td>\n",
       "      <td>1.943956e+11</td>\n",
       "      <td>2.242693e+11</td>\n",
       "      <td>...</td>\n",
       "      <td>3.140214e+11</td>\n",
       "      <td>2.685655e+11</td>\n",
       "      <td>2.778420e+11</td>\n",
       "      <td>2.951338e+11</td>\n",
       "      <td>3.162108e+11</td>\n",
       "      <td>3.074078e+11</td>\n",
       "      <td>3.165116e+11</td>\n",
       "      <td>3.634564e+11</td>\n",
       "      <td>3.577319e+11</td>\n",
       "      <td>3.623119e+11</td>\n",
       "    </tr>\n",
       "    <tr>\n",
       "      <th>Estonia</th>\n",
       "      <td>3.479010e+09</td>\n",
       "      <td>4.258650e+09</td>\n",
       "      <td>4.592400e+09</td>\n",
       "      <td>5.053420e+09</td>\n",
       "      <td>5.136190e+09</td>\n",
       "      <td>5.079230e+09</td>\n",
       "      <td>5.583860e+09</td>\n",
       "      <td>6.579770e+09</td>\n",
       "      <td>8.805660e+09</td>\n",
       "      <td>1.082329e+10</td>\n",
       "      <td>...</td>\n",
       "      <td>2.408607e+10</td>\n",
       "      <td>2.074946e+10</td>\n",
       "      <td>2.185306e+10</td>\n",
       "      <td>2.443940e+10</td>\n",
       "      <td>2.780093e+10</td>\n",
       "      <td>2.837053e+10</td>\n",
       "      <td>2.829399e+10</td>\n",
       "      <td>3.312758e+10</td>\n",
       "      <td>3.417689e+10</td>\n",
       "      <td>3.675433e+10</td>\n",
       "    </tr>\n",
       "    <tr>\n",
       "      <th>Finland</th>\n",
       "      <td>1.194469e+11</td>\n",
       "      <td>1.175209e+11</td>\n",
       "      <td>1.130540e+11</td>\n",
       "      <td>1.194060e+11</td>\n",
       "      <td>1.204784e+11</td>\n",
       "      <td>1.121605e+11</td>\n",
       "      <td>1.152737e+11</td>\n",
       "      <td>1.248332e+11</td>\n",
       "      <td>1.526973e+11</td>\n",
       "      <td>1.756584e+11</td>\n",
       "      <td>...</td>\n",
       "      <td>2.434586e+11</td>\n",
       "      <td>2.075783e+11</td>\n",
       "      <td>2.124537e+11</td>\n",
       "      <td>2.258437e+11</td>\n",
       "      <td>2.438538e+11</td>\n",
       "      <td>2.376692e+11</td>\n",
       "      <td>2.401078e+11</td>\n",
       "      <td>2.620329e+11</td>\n",
       "      <td>2.496112e+11</td>\n",
       "      <td>2.631000e+11</td>\n",
       "    </tr>\n",
       "    <tr>\n",
       "      <th>France</th>\n",
       "      <td>1.420662e+12</td>\n",
       "      <td>1.423331e+12</td>\n",
       "      <td>1.291442e+12</td>\n",
       "      <td>1.334087e+12</td>\n",
       "      <td>1.324669e+12</td>\n",
       "      <td>1.211788e+12</td>\n",
       "      <td>1.219644e+12</td>\n",
       "      <td>1.327322e+12</td>\n",
       "      <td>1.632827e+12</td>\n",
       "      <td>1.876863e+12</td>\n",
       "      <td>...</td>\n",
       "      <td>2.547156e+12</td>\n",
       "      <td>2.174031e+12</td>\n",
       "      <td>2.198056e+12</td>\n",
       "      <td>2.303280e+12</td>\n",
       "      <td>2.476726e+12</td>\n",
       "      <td>2.423554e+12</td>\n",
       "      <td>2.354767e+12</td>\n",
       "      <td>2.641880e+12</td>\n",
       "      <td>2.490667e+12</td>\n",
       "      <td>2.716914e+12</td>\n",
       "    </tr>\n",
       "    <tr>\n",
       "      <th>Germany</th>\n",
       "      <td>2.309789e+12</td>\n",
       "      <td>2.231629e+12</td>\n",
       "      <td>1.977139e+12</td>\n",
       "      <td>2.003254e+12</td>\n",
       "      <td>1.972304e+12</td>\n",
       "      <td>1.751386e+12</td>\n",
       "      <td>1.750092e+12</td>\n",
       "      <td>1.869770e+12</td>\n",
       "      <td>2.255332e+12</td>\n",
       "      <td>2.537410e+12</td>\n",
       "      <td>...</td>\n",
       "      <td>3.530472e+12</td>\n",
       "      <td>3.047284e+12</td>\n",
       "      <td>3.147759e+12</td>\n",
       "      <td>3.347970e+12</td>\n",
       "      <td>3.607923e+12</td>\n",
       "      <td>3.522304e+12</td>\n",
       "      <td>3.503920e+12</td>\n",
       "      <td>3.872557e+12</td>\n",
       "      <td>3.708516e+12</td>\n",
       "      <td>4.029038e+12</td>\n",
       "    </tr>\n",
       "    <tr>\n",
       "      <th>Greece</th>\n",
       "      <td>1.218775e+11</td>\n",
       "      <td>1.298261e+11</td>\n",
       "      <td>1.275610e+11</td>\n",
       "      <td>1.287332e+11</td>\n",
       "      <td>1.329767e+11</td>\n",
       "      <td>1.176562e+11</td>\n",
       "      <td>1.213159e+11</td>\n",
       "      <td>1.374650e+11</td>\n",
       "      <td>1.800639e+11</td>\n",
       "      <td>2.143601e+11</td>\n",
       "      <td>...</td>\n",
       "      <td>2.096119e+11</td>\n",
       "      <td>1.741757e+11</td>\n",
       "      <td>1.718546e+11</td>\n",
       "      <td>1.777989e+11</td>\n",
       "      <td>1.888099e+11</td>\n",
       "      <td>1.826948e+11</td>\n",
       "      <td>1.676128e+11</td>\n",
       "      <td>1.911818e+11</td>\n",
       "      <td>1.938002e+11</td>\n",
       "      <td>2.120648e+11</td>\n",
       "    </tr>\n",
       "    <tr>\n",
       "      <th>Hungary</th>\n",
       "      <td>4.131914e+10</td>\n",
       "      <td>4.152651e+10</td>\n",
       "      <td>4.209433e+10</td>\n",
       "      <td>4.334923e+10</td>\n",
       "      <td>4.367497e+10</td>\n",
       "      <td>4.202402e+10</td>\n",
       "      <td>4.783750e+10</td>\n",
       "      <td>6.017201e+10</td>\n",
       "      <td>7.590365e+10</td>\n",
       "      <td>9.266769e+10</td>\n",
       "      <td>...</td>\n",
       "      <td>1.255203e+11</td>\n",
       "      <td>1.114049e+11</td>\n",
       "      <td>1.144629e+11</td>\n",
       "      <td>1.273697e+11</td>\n",
       "      <td>1.429037e+11</td>\n",
       "      <td>1.459698e+11</td>\n",
       "      <td>1.399872e+11</td>\n",
       "      <td>1.620779e+11</td>\n",
       "      <td>1.582313e+11</td>\n",
       "      <td>1.890930e+11</td>\n",
       "    </tr>\n",
       "    <tr>\n",
       "      <th>Ireland</th>\n",
       "      <td>6.164140e+10</td>\n",
       "      <td>6.757592e+10</td>\n",
       "      <td>7.383173e+10</td>\n",
       "      <td>8.037145e+10</td>\n",
       "      <td>8.810377e+10</td>\n",
       "      <td>8.922517e+10</td>\n",
       "      <td>9.731883e+10</td>\n",
       "      <td>1.143694e+11</td>\n",
       "      <td>1.465207e+11</td>\n",
       "      <td>1.729119e+11</td>\n",
       "      <td>...</td>\n",
       "      <td>2.375027e+11</td>\n",
       "      <td>2.691556e+11</td>\n",
       "      <td>2.720276e+11</td>\n",
       "      <td>3.100858e+11</td>\n",
       "      <td>3.521205e+11</td>\n",
       "      <td>3.623813e+11</td>\n",
       "      <td>3.882224e+11</td>\n",
       "      <td>4.731774e+11</td>\n",
       "      <td>4.886127e+11</td>\n",
       "      <td>4.908831e+11</td>\n",
       "    </tr>\n",
       "    <tr>\n",
       "      <th>Italy</th>\n",
       "      <td>1.048407e+12</td>\n",
       "      <td>1.170471e+12</td>\n",
       "      <td>1.109243e+12</td>\n",
       "      <td>1.134200e+12</td>\n",
       "      <td>1.118064e+12</td>\n",
       "      <td>1.023650e+12</td>\n",
       "      <td>1.043124e+12</td>\n",
       "      <td>1.139948e+12</td>\n",
       "      <td>1.408455e+12</td>\n",
       "      <td>1.612668e+12</td>\n",
       "      <td>...</td>\n",
       "      <td>1.934696e+12</td>\n",
       "      <td>1.642598e+12</td>\n",
       "      <td>1.679065e+12</td>\n",
       "      <td>1.753324e+12</td>\n",
       "      <td>1.869344e+12</td>\n",
       "      <td>1.797649e+12</td>\n",
       "      <td>1.696299e+12</td>\n",
       "      <td>1.940785e+12</td>\n",
       "      <td>1.873138e+12</td>\n",
       "      <td>2.048427e+12</td>\n",
       "    </tr>\n",
       "    <tr>\n",
       "      <th>Latvia</th>\n",
       "      <td>4.815790e+09</td>\n",
       "      <td>5.317750e+09</td>\n",
       "      <td>5.810810e+09</td>\n",
       "      <td>6.380410e+09</td>\n",
       "      <td>6.706150e+09</td>\n",
       "      <td>7.087070e+09</td>\n",
       "      <td>7.443070e+09</td>\n",
       "      <td>8.511960e+09</td>\n",
       "      <td>1.048153e+10</td>\n",
       "      <td>1.285160e+10</td>\n",
       "      <td>...</td>\n",
       "      <td>2.794155e+10</td>\n",
       "      <td>2.426674e+10</td>\n",
       "      <td>2.498764e+10</td>\n",
       "      <td>2.712097e+10</td>\n",
       "      <td>3.065605e+10</td>\n",
       "      <td>3.046381e+10</td>\n",
       "      <td>3.058307e+10</td>\n",
       "      <td>3.512741e+10</td>\n",
       "      <td>3.600406e+10</td>\n",
       "      <td>3.883960e+10</td>\n",
       "    </tr>\n",
       "    <tr>\n",
       "      <th>Lithuania</th>\n",
       "      <td>5.954990e+09</td>\n",
       "      <td>7.454640e+09</td>\n",
       "      <td>9.001460e+09</td>\n",
       "      <td>1.000004e+10</td>\n",
       "      <td>9.762410e+09</td>\n",
       "      <td>1.024301e+10</td>\n",
       "      <td>1.089182e+10</td>\n",
       "      <td>1.269229e+10</td>\n",
       "      <td>1.671064e+10</td>\n",
       "      <td>2.009620e+10</td>\n",
       "      <td>...</td>\n",
       "      <td>4.327091e+10</td>\n",
       "      <td>3.687359e+10</td>\n",
       "      <td>3.832162e+10</td>\n",
       "      <td>4.245834e+10</td>\n",
       "      <td>4.786153e+10</td>\n",
       "      <td>4.879959e+10</td>\n",
       "      <td>5.061697e+10</td>\n",
       "      <td>5.950985e+10</td>\n",
       "      <td>6.330926e+10</td>\n",
       "      <td>6.928116e+10</td>\n",
       "    </tr>\n",
       "    <tr>\n",
       "      <th>Luxembourg</th>\n",
       "      <td>1.830819e+10</td>\n",
       "      <td>1.821296e+10</td>\n",
       "      <td>1.640092e+10</td>\n",
       "      <td>1.714407e+10</td>\n",
       "      <td>1.876921e+10</td>\n",
       "      <td>1.890360e+10</td>\n",
       "      <td>1.903532e+10</td>\n",
       "      <td>2.103337e+10</td>\n",
       "      <td>2.639740e+10</td>\n",
       "      <td>3.119361e+10</td>\n",
       "      <td>...</td>\n",
       "      <td>6.125247e+10</td>\n",
       "      <td>5.346942e+10</td>\n",
       "      <td>5.535800e+10</td>\n",
       "      <td>5.846321e+10</td>\n",
       "      <td>6.321937e+10</td>\n",
       "      <td>6.220922e+10</td>\n",
       "      <td>6.553960e+10</td>\n",
       "      <td>7.622049e+10</td>\n",
       "      <td>7.271834e+10</td>\n",
       "      <td>7.634420e+10</td>\n",
       "    </tr>\n",
       "    <tr>\n",
       "      <th>Malta</th>\n",
       "      <td>3.172850e+09</td>\n",
       "      <td>3.235150e+09</td>\n",
       "      <td>3.275200e+09</td>\n",
       "      <td>3.469220e+09</td>\n",
       "      <td>3.620520e+09</td>\n",
       "      <td>3.825220e+09</td>\n",
       "      <td>3.861710e+09</td>\n",
       "      <td>4.168760e+09</td>\n",
       "      <td>4.863850e+09</td>\n",
       "      <td>5.453920e+09</td>\n",
       "      <td>...</td>\n",
       "      <td>1.058299e+10</td>\n",
       "      <td>1.009438e+10</td>\n",
       "      <td>1.069958e+10</td>\n",
       "      <td>1.259884e+10</td>\n",
       "      <td>1.438329e+10</td>\n",
       "      <td>1.454260e+10</td>\n",
       "      <td>1.457197e+10</td>\n",
       "      <td>1.756148e+10</td>\n",
       "      <td>1.711025e+10</td>\n",
       "      <td>1.987815e+10</td>\n",
       "    </tr>\n",
       "    <tr>\n",
       "      <th>Netherlands</th>\n",
       "      <td>4.035055e+11</td>\n",
       "      <td>4.018421e+11</td>\n",
       "      <td>3.720405e+11</td>\n",
       "      <td>3.909014e+11</td>\n",
       "      <td>3.989185e+11</td>\n",
       "      <td>3.718723e+11</td>\n",
       "      <td>3.849597e+11</td>\n",
       "      <td>4.229227e+11</td>\n",
       "      <td>5.182381e+11</td>\n",
       "      <td>5.882232e+11</td>\n",
       "      <td>...</td>\n",
       "      <td>8.025922e+11</td>\n",
       "      <td>6.904816e+11</td>\n",
       "      <td>7.092802e+11</td>\n",
       "      <td>7.546613e+11</td>\n",
       "      <td>8.278380e+11</td>\n",
       "      <td>8.268153e+11</td>\n",
       "      <td>8.293145e+11</td>\n",
       "      <td>9.391040e+11</td>\n",
       "      <td>9.321540e+11</td>\n",
       "      <td>1.027678e+12</td>\n",
       "    </tr>\n",
       "    <tr>\n",
       "      <th>Poland</th>\n",
       "      <td>1.240331e+11</td>\n",
       "      <td>1.397238e+11</td>\n",
       "      <td>1.401688e+11</td>\n",
       "      <td>1.534262e+11</td>\n",
       "      <td>1.496357e+11</td>\n",
       "      <td>1.527356e+11</td>\n",
       "      <td>1.698164e+11</td>\n",
       "      <td>1.771723e+11</td>\n",
       "      <td>1.938678e+11</td>\n",
       "      <td>2.272099e+11</td>\n",
       "      <td>...</td>\n",
       "      <td>4.798987e+11</td>\n",
       "      <td>4.243413e+11</td>\n",
       "      <td>4.179885e+11</td>\n",
       "      <td>4.670542e+11</td>\n",
       "      <td>5.240356e+11</td>\n",
       "      <td>5.304115e+11</td>\n",
       "      <td>5.335176e+11</td>\n",
       "      <td>6.064718e+11</td>\n",
       "      <td>6.140003e+11</td>\n",
       "      <td>7.224450e+11</td>\n",
       "    </tr>\n",
       "    <tr>\n",
       "      <th>Portugal</th>\n",
       "      <td>1.051820e+11</td>\n",
       "      <td>1.091630e+11</td>\n",
       "      <td>1.043178e+11</td>\n",
       "      <td>1.104704e+11</td>\n",
       "      <td>1.135613e+11</td>\n",
       "      <td>1.056056e+11</td>\n",
       "      <td>1.082284e+11</td>\n",
       "      <td>1.198830e+11</td>\n",
       "      <td>1.470146e+11</td>\n",
       "      <td>1.684734e+11</td>\n",
       "      <td>...</td>\n",
       "      <td>2.046653e+11</td>\n",
       "      <td>1.774785e+11</td>\n",
       "      <td>1.836684e+11</td>\n",
       "      <td>1.969392e+11</td>\n",
       "      <td>2.157565e+11</td>\n",
       "      <td>2.136116e+11</td>\n",
       "      <td>2.036756e+11</td>\n",
       "      <td>2.275774e+11</td>\n",
       "      <td>2.273042e+11</td>\n",
       "      <td>2.555964e+11</td>\n",
       "    </tr>\n",
       "    <tr>\n",
       "      <th>Romania</th>\n",
       "      <td>3.189582e+10</td>\n",
       "      <td>3.176588e+10</td>\n",
       "      <td>3.172316e+10</td>\n",
       "      <td>3.786327e+10</td>\n",
       "      <td>3.199817e+10</td>\n",
       "      <td>3.332783e+10</td>\n",
       "      <td>3.595244e+10</td>\n",
       "      <td>4.097115e+10</td>\n",
       "      <td>5.143310e+10</td>\n",
       "      <td>6.680251e+10</td>\n",
       "      <td>...</td>\n",
       "      <td>1.779831e+11</td>\n",
       "      <td>1.583105e+11</td>\n",
       "      <td>1.649473e+11</td>\n",
       "      <td>1.873708e+11</td>\n",
       "      <td>2.167132e+11</td>\n",
       "      <td>2.233838e+11</td>\n",
       "      <td>2.240121e+11</td>\n",
       "      <td>2.545534e+11</td>\n",
       "      <td>2.665283e+11</td>\n",
       "      <td>3.124559e+11</td>\n",
       "    </tr>\n",
       "    <tr>\n",
       "      <th>Slovak Republic</th>\n",
       "      <td>1.783026e+10</td>\n",
       "      <td>1.927651e+10</td>\n",
       "      <td>1.951503e+10</td>\n",
       "      <td>2.031425e+10</td>\n",
       "      <td>1.857163e+10</td>\n",
       "      <td>1.844970e+10</td>\n",
       "      <td>1.906469e+10</td>\n",
       "      <td>2.215032e+10</td>\n",
       "      <td>3.033565e+10</td>\n",
       "      <td>3.843910e+10</td>\n",
       "      <td>...</td>\n",
       "      <td>9.030207e+10</td>\n",
       "      <td>7.912990e+10</td>\n",
       "      <td>8.003592e+10</td>\n",
       "      <td>8.509824e+10</td>\n",
       "      <td>9.450554e+10</td>\n",
       "      <td>9.409347e+10</td>\n",
       "      <td>9.492028e+10</td>\n",
       "      <td>1.055914e+11</td>\n",
       "      <td>1.029516e+11</td>\n",
       "      <td>1.182205e+11</td>\n",
       "    </tr>\n",
       "    <tr>\n",
       "      <th>Slovenia</th>\n",
       "      <td>1.904511e+10</td>\n",
       "      <td>1.911720e+10</td>\n",
       "      <td>1.848441e+10</td>\n",
       "      <td>1.965120e+10</td>\n",
       "      <td>2.017452e+10</td>\n",
       "      <td>1.803318e+10</td>\n",
       "      <td>1.841677e+10</td>\n",
       "      <td>2.070407e+10</td>\n",
       "      <td>2.616511e+10</td>\n",
       "      <td>3.042910e+10</td>\n",
       "      <td>...</td>\n",
       "      <td>4.407903e+10</td>\n",
       "      <td>3.801546e+10</td>\n",
       "      <td>3.940831e+10</td>\n",
       "      <td>4.284104e+10</td>\n",
       "      <td>4.780457e+10</td>\n",
       "      <td>4.798524e+10</td>\n",
       "      <td>4.747438e+10</td>\n",
       "      <td>5.479730e+10</td>\n",
       "      <td>5.337775e+10</td>\n",
       "      <td>6.155952e+10</td>\n",
       "    </tr>\n",
       "    <tr>\n",
       "      <th>Spain</th>\n",
       "      <td>5.470946e+11</td>\n",
       "      <td>5.718072e+11</td>\n",
       "      <td>5.255450e+11</td>\n",
       "      <td>5.513915e+11</td>\n",
       "      <td>5.651722e+11</td>\n",
       "      <td>5.325466e+11</td>\n",
       "      <td>5.587447e+11</td>\n",
       "      <td>6.305089e+11</td>\n",
       "      <td>8.078850e+11</td>\n",
       "      <td>9.517162e+11</td>\n",
       "      <td>...</td>\n",
       "      <td>1.228734e+12</td>\n",
       "      <td>1.073595e+12</td>\n",
       "      <td>1.105979e+12</td>\n",
       "      <td>1.175946e+12</td>\n",
       "      <td>1.274740e+12</td>\n",
       "      <td>1.249249e+12</td>\n",
       "      <td>1.146988e+12</td>\n",
       "      <td>1.301372e+12</td>\n",
       "      <td>1.288396e+12</td>\n",
       "      <td>1.442297e+12</td>\n",
       "    </tr>\n",
       "    <tr>\n",
       "      <th>Sweden</th>\n",
       "      <td>2.376781e+11</td>\n",
       "      <td>2.598391e+11</td>\n",
       "      <td>2.387443e+11</td>\n",
       "      <td>2.410930e+11</td>\n",
       "      <td>2.441439e+11</td>\n",
       "      <td>2.339846e+11</td>\n",
       "      <td>2.158232e+11</td>\n",
       "      <td>2.379620e+11</td>\n",
       "      <td>2.973259e+11</td>\n",
       "      <td>3.422477e+11</td>\n",
       "      <td>...</td>\n",
       "      <td>5.141797e+11</td>\n",
       "      <td>4.465112e+11</td>\n",
       "      <td>4.576540e+11</td>\n",
       "      <td>4.771148e+11</td>\n",
       "      <td>4.906677e+11</td>\n",
       "      <td>4.736304e+11</td>\n",
       "      <td>4.851817e+11</td>\n",
       "      <td>5.670964e+11</td>\n",
       "      <td>5.161074e+11</td>\n",
       "      <td>5.205735e+11</td>\n",
       "    </tr>\n",
       "  </tbody>\n",
       "</table>\n",
       "<p>26 rows × 29 columns</p>\n",
       "</div>"
      ],
      "text/plain": [
       "                         1995          1996          1997          1998  \\\n",
       "Austria          2.146983e+11  2.112353e+11  1.896100e+11  1.945157e+11   \n",
       "Belgium          2.565879e+11  2.485699e+11  2.251896e+11  2.303996e+11   \n",
       "Bulgaria         1.690288e+10  1.094255e+10  1.007213e+10  1.337759e+10   \n",
       "Croatia          1.837850e+10  1.966633e+10  1.966366e+10  2.132707e+10   \n",
       "Czechia          5.390285e+10  6.034645e+10  5.565170e+10  5.977329e+10   \n",
       "Denmark          1.645165e+11  1.668590e+11  1.541854e+11  1.574196e+11   \n",
       "Estonia          3.479010e+09  4.258650e+09  4.592400e+09  5.053420e+09   \n",
       "Finland          1.194469e+11  1.175209e+11  1.130540e+11  1.194060e+11   \n",
       "France           1.420662e+12  1.423331e+12  1.291442e+12  1.334087e+12   \n",
       "Germany          2.309789e+12  2.231629e+12  1.977139e+12  2.003254e+12   \n",
       "Greece           1.218775e+11  1.298261e+11  1.275610e+11  1.287332e+11   \n",
       "Hungary          4.131914e+10  4.152651e+10  4.209433e+10  4.334923e+10   \n",
       "Ireland          6.164140e+10  6.757592e+10  7.383173e+10  8.037145e+10   \n",
       "Italy            1.048407e+12  1.170471e+12  1.109243e+12  1.134200e+12   \n",
       "Latvia           4.815790e+09  5.317750e+09  5.810810e+09  6.380410e+09   \n",
       "Lithuania        5.954990e+09  7.454640e+09  9.001460e+09  1.000004e+10   \n",
       "Luxembourg       1.830819e+10  1.821296e+10  1.640092e+10  1.714407e+10   \n",
       "Malta            3.172850e+09  3.235150e+09  3.275200e+09  3.469220e+09   \n",
       "Netherlands      4.035055e+11  4.018421e+11  3.720405e+11  3.909014e+11   \n",
       "Poland           1.240331e+11  1.397238e+11  1.401688e+11  1.534262e+11   \n",
       "Portugal         1.051820e+11  1.091630e+11  1.043178e+11  1.104704e+11   \n",
       "Romania          3.189582e+10  3.176588e+10  3.172316e+10  3.786327e+10   \n",
       "Slovak Republic  1.783026e+10  1.927651e+10  1.951503e+10  2.031425e+10   \n",
       "Slovenia         1.904511e+10  1.911720e+10  1.848441e+10  1.965120e+10   \n",
       "Spain            5.470946e+11  5.718072e+11  5.255450e+11  5.513915e+11   \n",
       "Sweden           2.376781e+11  2.598391e+11  2.387443e+11  2.410930e+11   \n",
       "\n",
       "                         1999          2000          2001          2002  \\\n",
       "Austria          1.935528e+11  1.756655e+11  1.757839e+11  1.906763e+11   \n",
       "Belgium          2.300650e+11  2.108383e+11  2.107057e+11  2.297980e+11   \n",
       "Bulgaria         1.212892e+10  1.178894e+10  1.262287e+10  1.459867e+10   \n",
       "Croatia          2.099065e+10  1.970282e+10  2.052607e+10  2.379771e+10   \n",
       "Czechia          5.837154e+10  5.533219e+10  6.064104e+10  7.351044e+10   \n",
       "Denmark          1.583194e+11  1.459983e+11  1.467441e+11  1.591213e+11   \n",
       "Estonia          5.136190e+09  5.079230e+09  5.583860e+09  6.579770e+09   \n",
       "Finland          1.204784e+11  1.121605e+11  1.152737e+11  1.248332e+11   \n",
       "France           1.324669e+12  1.211788e+12  1.219644e+12  1.327322e+12   \n",
       "Germany          1.972304e+12  1.751386e+12  1.750092e+12  1.869770e+12   \n",
       "Greece           1.329767e+11  1.176562e+11  1.213159e+11  1.374650e+11   \n",
       "Hungary          4.367497e+10  4.202402e+10  4.783750e+10  6.017201e+10   \n",
       "Ireland          8.810377e+10  8.922517e+10  9.731883e+10  1.143694e+11   \n",
       "Italy            1.118064e+12  1.023650e+12  1.043124e+12  1.139948e+12   \n",
       "Latvia           6.706150e+09  7.087070e+09  7.443070e+09  8.511960e+09   \n",
       "Lithuania        9.762410e+09  1.024301e+10  1.089182e+10  1.269229e+10   \n",
       "Luxembourg       1.876921e+10  1.890360e+10  1.903532e+10  2.103337e+10   \n",
       "Malta            3.620520e+09  3.825220e+09  3.861710e+09  4.168760e+09   \n",
       "Netherlands      3.989185e+11  3.718723e+11  3.849597e+11  4.229227e+11   \n",
       "Poland           1.496357e+11  1.527356e+11  1.698164e+11  1.771723e+11   \n",
       "Portugal         1.135613e+11  1.056056e+11  1.082284e+11  1.198830e+11   \n",
       "Romania          3.199817e+10  3.332783e+10  3.595244e+10  4.097115e+10   \n",
       "Slovak Republic  1.857163e+10  1.844970e+10  1.906469e+10  2.215032e+10   \n",
       "Slovenia         2.017452e+10  1.803318e+10  1.841677e+10  2.070407e+10   \n",
       "Spain            5.651722e+11  5.325466e+11  5.587447e+11  6.305089e+11   \n",
       "Sweden           2.441439e+11  2.339846e+11  2.158232e+11  2.379620e+11   \n",
       "\n",
       "                         2003          2004  ...          2014          2015  \\\n",
       "Austria          2.333651e+11  2.681757e+11  ...  3.940021e+11  3.399889e+11   \n",
       "Belgium          2.830236e+11  3.284518e+11  ...  4.766208e+11  4.115209e+11   \n",
       "Bulgaria         1.881994e+10  2.328062e+10  ...  5.080209e+10  4.518174e+10   \n",
       "Croatia          3.137161e+10  3.723404e+10  ...  5.296034e+10  4.540424e+10   \n",
       "Czechia          8.941919e+10  1.069317e+11  ...  1.877108e+11  1.683061e+11   \n",
       "Denmark          1.943956e+11  2.242693e+11  ...  3.140214e+11  2.685655e+11   \n",
       "Estonia          8.805660e+09  1.082329e+10  ...  2.408607e+10  2.074946e+10   \n",
       "Finland          1.526973e+11  1.756584e+11  ...  2.434586e+11  2.075783e+11   \n",
       "France           1.632827e+12  1.876863e+12  ...  2.547156e+12  2.174031e+12   \n",
       "Germany          2.255332e+12  2.537410e+12  ...  3.530472e+12  3.047284e+12   \n",
       "Greece           1.800639e+11  2.143601e+11  ...  2.096119e+11  1.741757e+11   \n",
       "Hungary          7.590365e+10  9.266769e+10  ...  1.255203e+11  1.114049e+11   \n",
       "Ireland          1.465207e+11  1.729119e+11  ...  2.375027e+11  2.691556e+11   \n",
       "Italy            1.408455e+12  1.612668e+12  ...  1.934696e+12  1.642598e+12   \n",
       "Latvia           1.048153e+10  1.285160e+10  ...  2.794155e+10  2.426674e+10   \n",
       "Lithuania        1.671064e+10  2.009620e+10  ...  4.327091e+10  3.687359e+10   \n",
       "Luxembourg       2.639740e+10  3.119361e+10  ...  6.125247e+10  5.346942e+10   \n",
       "Malta            4.863850e+09  5.453920e+09  ...  1.058299e+10  1.009438e+10   \n",
       "Netherlands      5.182381e+11  5.882232e+11  ...  8.025922e+11  6.904816e+11   \n",
       "Poland           1.938678e+11  2.272099e+11  ...  4.798987e+11  4.243413e+11   \n",
       "Portugal         1.470146e+11  1.684734e+11  ...  2.046653e+11  1.774785e+11   \n",
       "Romania          5.143310e+10  6.680251e+10  ...  1.779831e+11  1.583105e+11   \n",
       "Slovak Republic  3.033565e+10  3.843910e+10  ...  9.030207e+10  7.912990e+10   \n",
       "Slovenia         2.616511e+10  3.042910e+10  ...  4.407903e+10  3.801546e+10   \n",
       "Spain            8.078850e+11  9.517162e+11  ...  1.228734e+12  1.073595e+12   \n",
       "Sweden           2.973259e+11  3.422477e+11  ...  5.141797e+11  4.465112e+11   \n",
       "\n",
       "                         2016          2017          2018          2019  \\\n",
       "Austria          3.521979e+11  3.712315e+11  4.051262e+11  3.957340e+11   \n",
       "Belgium          4.235786e+11  4.473024e+11  4.837559e+11  4.769732e+11   \n",
       "Bulgaria         4.799681e+10  5.276632e+10  5.909422e+10  6.131121e+10   \n",
       "Croatia          4.692614e+10  5.010878e+10  5.507854e+10  5.506519e+10   \n",
       "Czechia          1.763633e+11  1.971920e+11  2.242729e+11  2.285467e+11   \n",
       "Denmark          2.778420e+11  2.951338e+11  3.162108e+11  3.074078e+11   \n",
       "Estonia          2.185306e+10  2.443940e+10  2.780093e+10  2.837053e+10   \n",
       "Finland          2.124537e+11  2.258437e+11  2.438538e+11  2.376692e+11   \n",
       "France           2.198056e+12  2.303280e+12  2.476726e+12  2.423554e+12   \n",
       "Germany          3.147759e+12  3.347970e+12  3.607923e+12  3.522304e+12   \n",
       "Greece           1.718546e+11  1.777989e+11  1.888099e+11  1.826948e+11   \n",
       "Hungary          1.144629e+11  1.273697e+11  1.429037e+11  1.459698e+11   \n",
       "Ireland          2.720276e+11  3.100858e+11  3.521205e+11  3.623813e+11   \n",
       "Italy            1.679065e+12  1.753324e+12  1.869344e+12  1.797649e+12   \n",
       "Latvia           2.498764e+10  2.712097e+10  3.065605e+10  3.046381e+10   \n",
       "Lithuania        3.832162e+10  4.245834e+10  4.786153e+10  4.879959e+10   \n",
       "Luxembourg       5.535800e+10  5.846321e+10  6.321937e+10  6.220922e+10   \n",
       "Malta            1.069958e+10  1.259884e+10  1.438329e+10  1.454260e+10   \n",
       "Netherlands      7.092802e+11  7.546613e+11  8.278380e+11  8.268153e+11   \n",
       "Poland           4.179885e+11  4.670542e+11  5.240356e+11  5.304115e+11   \n",
       "Portugal         1.836684e+11  1.969392e+11  2.157565e+11  2.136116e+11   \n",
       "Romania          1.649473e+11  1.873708e+11  2.167132e+11  2.233838e+11   \n",
       "Slovak Republic  8.003592e+10  8.509824e+10  9.450554e+10  9.409347e+10   \n",
       "Slovenia         3.940831e+10  4.284104e+10  4.780457e+10  4.798524e+10   \n",
       "Spain            1.105979e+12  1.175946e+12  1.274740e+12  1.249249e+12   \n",
       "Sweden           4.576540e+11  4.771148e+11  4.906677e+11  4.736304e+11   \n",
       "\n",
       "                         2020          2021          2022          2023  \n",
       "Austria          3.868839e+11  4.268565e+11  4.195229e+11  4.607192e+11  \n",
       "Belgium          4.677840e+11  5.351614e+11  5.198250e+11  5.628351e+11  \n",
       "Bulgaria         6.257679e+10  7.484900e+10  8.047558e+10  9.043379e+10  \n",
       "Croatia          5.177931e+10  6.198939e+10  6.413251e+10  7.361279e+10  \n",
       "Czechia          2.234879e+11  2.589660e+11  2.686296e+11  3.054551e+11  \n",
       "Denmark          3.165116e+11  3.634564e+11  3.577319e+11  3.623119e+11  \n",
       "Estonia          2.829399e+10  3.312758e+10  3.417689e+10  3.675433e+10  \n",
       "Finland          2.401078e+11  2.620329e+11  2.496112e+11  2.631000e+11  \n",
       "France           2.354767e+12  2.641880e+12  2.490667e+12  2.716914e+12  \n",
       "Germany          3.503920e+12  3.872557e+12  3.708516e+12  4.029038e+12  \n",
       "Greece           1.676128e+11  1.911818e+11  1.938002e+11  2.120648e+11  \n",
       "Hungary          1.399872e+11  1.620779e+11  1.582313e+11  1.890930e+11  \n",
       "Ireland          3.882224e+11  4.731774e+11  4.886127e+11  4.908831e+11  \n",
       "Italy            1.696299e+12  1.940785e+12  1.873138e+12  2.048427e+12  \n",
       "Latvia           3.058307e+10  3.512741e+10  3.600406e+10  3.883960e+10  \n",
       "Lithuania        5.061697e+10  5.950985e+10  6.330926e+10  6.928116e+10  \n",
       "Luxembourg       6.553960e+10  7.622049e+10  7.271834e+10  7.634420e+10  \n",
       "Malta            1.457197e+10  1.756148e+10  1.711025e+10  1.987815e+10  \n",
       "Netherlands      8.293145e+11  9.391040e+11  9.321540e+11  1.027678e+12  \n",
       "Poland           5.335176e+11  6.064718e+11  6.140003e+11  7.224450e+11  \n",
       "Portugal         2.036756e+11  2.275774e+11  2.273042e+11  2.555964e+11  \n",
       "Romania          2.240121e+11  2.545534e+11  2.665283e+11  3.124559e+11  \n",
       "Slovak Republic  9.492028e+10  1.055914e+11  1.029516e+11  1.182205e+11  \n",
       "Slovenia         4.747438e+10  5.479730e+10  5.337775e+10  6.155952e+10  \n",
       "Spain            1.146988e+12  1.301372e+12  1.288396e+12  1.442297e+12  \n",
       "Sweden           4.851817e+11  5.670964e+11  5.161074e+11  5.205735e+11  \n",
       "\n",
       "[26 rows x 29 columns]"
      ]
     },
     "execution_count": 11,
     "metadata": {},
     "output_type": "execute_result"
    }
   ],
   "source": [
    "gdp_dict = gdp_pull_API_into_dict()\n",
    "\n",
    "gdp_df = pd.DataFrame(gdp_dict)\n",
    "# gdp_df.insert(loc=0, column=\"Country\", value=eu_member_states)\n",
    "gdp_df.index = eu_member_states\n",
    "gdp_df"
   ]
  },
  {
   "cell_type": "code",
   "execution_count": 12,
   "id": "a333dbf7b1544d31",
   "metadata": {
    "ExecuteTime": {
     "end_time": "2025-05-26T21:37:06.302317Z",
     "start_time": "2025-05-26T21:37:06.279572Z"
    }
   },
   "outputs": [
    {
     "data": {
      "text/html": [
       "<div>\n",
       "<style scoped>\n",
       "    .dataframe tbody tr th:only-of-type {\n",
       "        vertical-align: middle;\n",
       "    }\n",
       "\n",
       "    .dataframe tbody tr th {\n",
       "        vertical-align: top;\n",
       "    }\n",
       "\n",
       "    .dataframe thead th {\n",
       "        text-align: right;\n",
       "    }\n",
       "</style>\n",
       "<table border=\"1\" class=\"dataframe\">\n",
       "  <thead>\n",
       "    <tr style=\"text-align: right;\">\n",
       "      <th></th>\n",
       "      <th>1995</th>\n",
       "      <th>1996</th>\n",
       "      <th>1997</th>\n",
       "      <th>1998</th>\n",
       "      <th>1999</th>\n",
       "      <th>2000</th>\n",
       "      <th>2001</th>\n",
       "      <th>2002</th>\n",
       "      <th>2003</th>\n",
       "      <th>2004</th>\n",
       "      <th>...</th>\n",
       "      <th>2014</th>\n",
       "      <th>2015</th>\n",
       "      <th>2016</th>\n",
       "      <th>2017</th>\n",
       "      <th>2018</th>\n",
       "      <th>2019</th>\n",
       "      <th>2020</th>\n",
       "      <th>2021</th>\n",
       "      <th>2022</th>\n",
       "      <th>2023</th>\n",
       "    </tr>\n",
       "    <tr>\n",
       "      <th>Country</th>\n",
       "      <th></th>\n",
       "      <th></th>\n",
       "      <th></th>\n",
       "      <th></th>\n",
       "      <th></th>\n",
       "      <th></th>\n",
       "      <th></th>\n",
       "      <th></th>\n",
       "      <th></th>\n",
       "      <th></th>\n",
       "      <th></th>\n",
       "      <th></th>\n",
       "      <th></th>\n",
       "      <th></th>\n",
       "      <th></th>\n",
       "      <th></th>\n",
       "      <th></th>\n",
       "      <th></th>\n",
       "      <th></th>\n",
       "      <th></th>\n",
       "      <th></th>\n",
       "    </tr>\n",
       "  </thead>\n",
       "  <tbody>\n",
       "    <tr>\n",
       "      <th>Austria</th>\n",
       "      <td>0.212857</td>\n",
       "      <td>0.201671</td>\n",
       "      <td>0.192500</td>\n",
       "      <td>0.221062</td>\n",
       "      <td>0.202012</td>\n",
       "      <td>0.270400</td>\n",
       "      <td>0.364083</td>\n",
       "      <td>NaN</td>\n",
       "      <td>NaN</td>\n",
       "      <td>NaN</td>\n",
       "      <td>...</td>\n",
       "      <td>NaN</td>\n",
       "      <td>NaN</td>\n",
       "      <td>NaN</td>\n",
       "      <td>NaN</td>\n",
       "      <td>NaN</td>\n",
       "      <td>NaN</td>\n",
       "      <td>NaN</td>\n",
       "      <td>NaN</td>\n",
       "      <td>NaN</td>\n",
       "      <td>NaN</td>\n",
       "    </tr>\n",
       "    <tr>\n",
       "      <th>Belgium</th>\n",
       "      <td>0.062357</td>\n",
       "      <td>0.063966</td>\n",
       "      <td>0.067943</td>\n",
       "      <td>0.065972</td>\n",
       "      <td>0.069980</td>\n",
       "      <td>0.070670</td>\n",
       "      <td>0.069766</td>\n",
       "      <td>0.074848</td>\n",
       "      <td>0.065366</td>\n",
       "      <td>0.047496</td>\n",
       "      <td>...</td>\n",
       "      <td>0.116025</td>\n",
       "      <td>0.189055</td>\n",
       "      <td>0.154849</td>\n",
       "      <td>0.152246</td>\n",
       "      <td>0.151936</td>\n",
       "      <td>0.274858</td>\n",
       "      <td>0.213988</td>\n",
       "      <td>0.151356</td>\n",
       "      <td>0.116770</td>\n",
       "      <td>0.104293</td>\n",
       "    </tr>\n",
       "    <tr>\n",
       "      <th>Bulgaria</th>\n",
       "      <td>NaN</td>\n",
       "      <td>NaN</td>\n",
       "      <td>NaN</td>\n",
       "      <td>NaN</td>\n",
       "      <td>NaN</td>\n",
       "      <td>NaN</td>\n",
       "      <td>NaN</td>\n",
       "      <td>NaN</td>\n",
       "      <td>NaN</td>\n",
       "      <td>NaN</td>\n",
       "      <td>...</td>\n",
       "      <td>1.153396</td>\n",
       "      <td>1.857040</td>\n",
       "      <td>0.239688</td>\n",
       "      <td>1.672475</td>\n",
       "      <td>0.893780</td>\n",
       "      <td>0.247681</td>\n",
       "      <td>0.645490</td>\n",
       "      <td>0.217912</td>\n",
       "      <td>0.652502</td>\n",
       "      <td>0.558601</td>\n",
       "    </tr>\n",
       "    <tr>\n",
       "      <th>Croatia</th>\n",
       "      <td>NaN</td>\n",
       "      <td>NaN</td>\n",
       "      <td>NaN</td>\n",
       "      <td>NaN</td>\n",
       "      <td>NaN</td>\n",
       "      <td>1.566848</td>\n",
       "      <td>1.474262</td>\n",
       "      <td>2.545400</td>\n",
       "      <td>3.354072</td>\n",
       "      <td>2.342626</td>\n",
       "      <td>...</td>\n",
       "      <td>0.902189</td>\n",
       "      <td>0.530549</td>\n",
       "      <td>0.414917</td>\n",
       "      <td>0.560993</td>\n",
       "      <td>0.634233</td>\n",
       "      <td>0.974478</td>\n",
       "      <td>0.909438</td>\n",
       "      <td>0.318375</td>\n",
       "      <td>0.689560</td>\n",
       "      <td>0.579660</td>\n",
       "    </tr>\n",
       "    <tr>\n",
       "      <th>Czechia</th>\n",
       "      <td>0.524117</td>\n",
       "      <td>0.506683</td>\n",
       "      <td>0.686468</td>\n",
       "      <td>0.626767</td>\n",
       "      <td>0.552128</td>\n",
       "      <td>0.557756</td>\n",
       "      <td>0.498771</td>\n",
       "      <td>0.705049</td>\n",
       "      <td>0.699668</td>\n",
       "      <td>0.964378</td>\n",
       "      <td>...</td>\n",
       "      <td>0.466851</td>\n",
       "      <td>0.526040</td>\n",
       "      <td>0.558048</td>\n",
       "      <td>0.529821</td>\n",
       "      <td>0.616688</td>\n",
       "      <td>0.795088</td>\n",
       "      <td>0.869572</td>\n",
       "      <td>0.327932</td>\n",
       "      <td>0.610844</td>\n",
       "      <td>0.211982</td>\n",
       "    </tr>\n",
       "    <tr>\n",
       "      <th>Denmark</th>\n",
       "      <td>0.213866</td>\n",
       "      <td>0.241929</td>\n",
       "      <td>0.259154</td>\n",
       "      <td>0.246312</td>\n",
       "      <td>0.264951</td>\n",
       "      <td>0.311328</td>\n",
       "      <td>0.338708</td>\n",
       "      <td>0.250856</td>\n",
       "      <td>0.301766</td>\n",
       "      <td>0.324535</td>\n",
       "      <td>...</td>\n",
       "      <td>0.421517</td>\n",
       "      <td>0.404518</td>\n",
       "      <td>0.383543</td>\n",
       "      <td>0.367279</td>\n",
       "      <td>NaN</td>\n",
       "      <td>NaN</td>\n",
       "      <td>NaN</td>\n",
       "      <td>0.302504</td>\n",
       "      <td>NaN</td>\n",
       "      <td>0.288962</td>\n",
       "    </tr>\n",
       "    <tr>\n",
       "      <th>Estonia</th>\n",
       "      <td>0.229950</td>\n",
       "      <td>0.281779</td>\n",
       "      <td>0.217751</td>\n",
       "      <td>0.336406</td>\n",
       "      <td>0.408863</td>\n",
       "      <td>0.433137</td>\n",
       "      <td>0.393993</td>\n",
       "      <td>0.714311</td>\n",
       "      <td>0.545104</td>\n",
       "      <td>0.517403</td>\n",
       "      <td>...</td>\n",
       "      <td>0.823713</td>\n",
       "      <td>0.891830</td>\n",
       "      <td>0.901476</td>\n",
       "      <td>0.896094</td>\n",
       "      <td>0.791340</td>\n",
       "      <td>0.990464</td>\n",
       "      <td>0.887114</td>\n",
       "      <td>0.448569</td>\n",
       "      <td>0.713933</td>\n",
       "      <td>0.583686</td>\n",
       "    </tr>\n",
       "    <tr>\n",
       "      <th>Finland</th>\n",
       "      <td>0.382597</td>\n",
       "      <td>0.365041</td>\n",
       "      <td>0.385656</td>\n",
       "      <td>0.371003</td>\n",
       "      <td>0.380151</td>\n",
       "      <td>0.435091</td>\n",
       "      <td>0.440690</td>\n",
       "      <td>0.416556</td>\n",
       "      <td>0.349057</td>\n",
       "      <td>0.341003</td>\n",
       "      <td>...</td>\n",
       "      <td>0.551634</td>\n",
       "      <td>0.699013</td>\n",
       "      <td>0.751223</td>\n",
       "      <td>0.791698</td>\n",
       "      <td>0.708211</td>\n",
       "      <td>0.699291</td>\n",
       "      <td>0.698436</td>\n",
       "      <td>0.549931</td>\n",
       "      <td>0.716715</td>\n",
       "      <td>0.524135</td>\n",
       "    </tr>\n",
       "    <tr>\n",
       "      <th>France</th>\n",
       "      <td>0.760579</td>\n",
       "      <td>0.769158</td>\n",
       "      <td>0.837787</td>\n",
       "      <td>0.789460</td>\n",
       "      <td>0.775688</td>\n",
       "      <td>0.902828</td>\n",
       "      <td>0.895378</td>\n",
       "      <td>0.779402</td>\n",
       "      <td>0.673123</td>\n",
       "      <td>0.614129</td>\n",
       "      <td>...</td>\n",
       "      <td>0.517193</td>\n",
       "      <td>0.460492</td>\n",
       "      <td>0.413092</td>\n",
       "      <td>0.429111</td>\n",
       "      <td>0.420434</td>\n",
       "      <td>0.422859</td>\n",
       "      <td>0.450682</td>\n",
       "      <td>0.348842</td>\n",
       "      <td>0.386666</td>\n",
       "      <td>0.473558</td>\n",
       "    </tr>\n",
       "    <tr>\n",
       "      <th>Germany</th>\n",
       "      <td>0.442291</td>\n",
       "      <td>0.498560</td>\n",
       "      <td>0.552111</td>\n",
       "      <td>0.541619</td>\n",
       "      <td>0.565126</td>\n",
       "      <td>0.683287</td>\n",
       "      <td>0.660423</td>\n",
       "      <td>0.620130</td>\n",
       "      <td>0.478422</td>\n",
       "      <td>0.422084</td>\n",
       "      <td>...</td>\n",
       "      <td>0.316671</td>\n",
       "      <td>0.375416</td>\n",
       "      <td>0.430147</td>\n",
       "      <td>0.472226</td>\n",
       "      <td>0.434045</td>\n",
       "      <td>0.436646</td>\n",
       "      <td>0.472614</td>\n",
       "      <td>0.312455</td>\n",
       "      <td>0.429282</td>\n",
       "      <td>0.282946</td>\n",
       "    </tr>\n",
       "    <tr>\n",
       "      <th>Greece</th>\n",
       "      <td>NaN</td>\n",
       "      <td>NaN</td>\n",
       "      <td>NaN</td>\n",
       "      <td>NaN</td>\n",
       "      <td>NaN</td>\n",
       "      <td>1.191607</td>\n",
       "      <td>1.322168</td>\n",
       "      <td>1.230859</td>\n",
       "      <td>0.908566</td>\n",
       "      <td>0.703023</td>\n",
       "      <td>...</td>\n",
       "      <td>0.474485</td>\n",
       "      <td>0.774350</td>\n",
       "      <td>2.266412</td>\n",
       "      <td>1.213733</td>\n",
       "      <td>0.392390</td>\n",
       "      <td>0.368967</td>\n",
       "      <td>0.530958</td>\n",
       "      <td>1.143957</td>\n",
       "      <td>0.379544</td>\n",
       "      <td>0.960345</td>\n",
       "    </tr>\n",
       "    <tr>\n",
       "      <th>Hungary</th>\n",
       "      <td>0.317248</td>\n",
       "      <td>0.295828</td>\n",
       "      <td>0.710810</td>\n",
       "      <td>0.647009</td>\n",
       "      <td>0.477428</td>\n",
       "      <td>0.420223</td>\n",
       "      <td>0.495265</td>\n",
       "      <td>0.471431</td>\n",
       "      <td>0.319728</td>\n",
       "      <td>1.539544</td>\n",
       "      <td>...</td>\n",
       "      <td>0.121616</td>\n",
       "      <td>1.119948</td>\n",
       "      <td>1.118600</td>\n",
       "      <td>1.397753</td>\n",
       "      <td>1.601489</td>\n",
       "      <td>1.297720</td>\n",
       "      <td>1.110998</td>\n",
       "      <td>0.495284</td>\n",
       "      <td>1.150355</td>\n",
       "      <td>0.211838</td>\n",
       "    </tr>\n",
       "    <tr>\n",
       "      <th>Ireland</th>\n",
       "      <td>0.459107</td>\n",
       "      <td>0.415829</td>\n",
       "      <td>0.640646</td>\n",
       "      <td>0.680590</td>\n",
       "      <td>0.842189</td>\n",
       "      <td>1.000839</td>\n",
       "      <td>1.261832</td>\n",
       "      <td>1.250334</td>\n",
       "      <td>1.034666</td>\n",
       "      <td>0.903350</td>\n",
       "      <td>...</td>\n",
       "      <td>0.373048</td>\n",
       "      <td>0.227378</td>\n",
       "      <td>0.201083</td>\n",
       "      <td>0.223487</td>\n",
       "      <td>0.237703</td>\n",
       "      <td>0.144875</td>\n",
       "      <td>0.144505</td>\n",
       "      <td>0.131452</td>\n",
       "      <td>0.102945</td>\n",
       "      <td>0.121006</td>\n",
       "    </tr>\n",
       "    <tr>\n",
       "      <th>Italy</th>\n",
       "      <td>0.475007</td>\n",
       "      <td>0.431621</td>\n",
       "      <td>0.463740</td>\n",
       "      <td>0.551755</td>\n",
       "      <td>0.569287</td>\n",
       "      <td>0.676989</td>\n",
       "      <td>0.439258</td>\n",
       "      <td>0.444845</td>\n",
       "      <td>0.488052</td>\n",
       "      <td>0.469532</td>\n",
       "      <td>...</td>\n",
       "      <td>0.160594</td>\n",
       "      <td>0.313589</td>\n",
       "      <td>0.203030</td>\n",
       "      <td>0.373861</td>\n",
       "      <td>0.230562</td>\n",
       "      <td>0.344061</td>\n",
       "      <td>0.376349</td>\n",
       "      <td>0.193478</td>\n",
       "      <td>0.234526</td>\n",
       "      <td>0.138692</td>\n",
       "    </tr>\n",
       "    <tr>\n",
       "      <th>Latvia</th>\n",
       "      <td>0.062295</td>\n",
       "      <td>0.075220</td>\n",
       "      <td>0.017209</td>\n",
       "      <td>0.015673</td>\n",
       "      <td>0.074558</td>\n",
       "      <td>0.112882</td>\n",
       "      <td>0.134353</td>\n",
       "      <td>0.093985</td>\n",
       "      <td>0.438867</td>\n",
       "      <td>0.427962</td>\n",
       "      <td>...</td>\n",
       "      <td>0.679991</td>\n",
       "      <td>0.836536</td>\n",
       "      <td>0.904447</td>\n",
       "      <td>0.816342</td>\n",
       "      <td>0.727426</td>\n",
       "      <td>0.659799</td>\n",
       "      <td>0.640877</td>\n",
       "      <td>0.540888</td>\n",
       "      <td>0.549938</td>\n",
       "      <td>0.512364</td>\n",
       "    </tr>\n",
       "    <tr>\n",
       "      <th>Lithuania</th>\n",
       "      <td>0.251890</td>\n",
       "      <td>0.321947</td>\n",
       "      <td>0.444372</td>\n",
       "      <td>0.959996</td>\n",
       "      <td>1.331638</td>\n",
       "      <td>1.064140</td>\n",
       "      <td>0.642684</td>\n",
       "      <td>0.882425</td>\n",
       "      <td>0.849758</td>\n",
       "      <td>0.681721</td>\n",
       "      <td>...</td>\n",
       "      <td>0.561578</td>\n",
       "      <td>0.699688</td>\n",
       "      <td>0.900275</td>\n",
       "      <td>0.765456</td>\n",
       "      <td>0.735455</td>\n",
       "      <td>0.889352</td>\n",
       "      <td>0.677638</td>\n",
       "      <td>0.599901</td>\n",
       "      <td>0.736069</td>\n",
       "      <td>0.365179</td>\n",
       "    </tr>\n",
       "    <tr>\n",
       "      <th>Luxembourg</th>\n",
       "      <td>0.621259</td>\n",
       "      <td>0.589512</td>\n",
       "      <td>0.617663</td>\n",
       "      <td>0.656549</td>\n",
       "      <td>0.775296</td>\n",
       "      <td>0.878250</td>\n",
       "      <td>0.976461</td>\n",
       "      <td>1.012171</td>\n",
       "      <td>0.713728</td>\n",
       "      <td>0.433431</td>\n",
       "      <td>...</td>\n",
       "      <td>0.348393</td>\n",
       "      <td>0.423078</td>\n",
       "      <td>0.407489</td>\n",
       "      <td>0.322589</td>\n",
       "      <td>0.411293</td>\n",
       "      <td>NaN</td>\n",
       "      <td>NaN</td>\n",
       "      <td>0.280157</td>\n",
       "      <td>0.338602</td>\n",
       "      <td>0.287248</td>\n",
       "    </tr>\n",
       "    <tr>\n",
       "      <th>Malta</th>\n",
       "      <td>0.004669</td>\n",
       "      <td>0.140669</td>\n",
       "      <td>0.014818</td>\n",
       "      <td>0.040962</td>\n",
       "      <td>0.147774</td>\n",
       "      <td>0.148762</td>\n",
       "      <td>0.113990</td>\n",
       "      <td>0.237359</td>\n",
       "      <td>0.165110</td>\n",
       "      <td>0.255389</td>\n",
       "      <td>...</td>\n",
       "      <td>0.252740</td>\n",
       "      <td>NaN</td>\n",
       "      <td>NaN</td>\n",
       "      <td>NaN</td>\n",
       "      <td>NaN</td>\n",
       "      <td>NaN</td>\n",
       "      <td>NaN</td>\n",
       "      <td>NaN</td>\n",
       "      <td>NaN</td>\n",
       "      <td>0.055669</td>\n",
       "    </tr>\n",
       "    <tr>\n",
       "      <th>Netherlands</th>\n",
       "      <td>NaN</td>\n",
       "      <td>NaN</td>\n",
       "      <td>0.301580</td>\n",
       "      <td>0.345356</td>\n",
       "      <td>0.376017</td>\n",
       "      <td>0.464407</td>\n",
       "      <td>0.479790</td>\n",
       "      <td>0.538869</td>\n",
       "      <td>0.449214</td>\n",
       "      <td>0.396788</td>\n",
       "      <td>...</td>\n",
       "      <td>0.605783</td>\n",
       "      <td>0.702328</td>\n",
       "      <td>0.887398</td>\n",
       "      <td>0.862836</td>\n",
       "      <td>0.777293</td>\n",
       "      <td>0.856552</td>\n",
       "      <td>0.884903</td>\n",
       "      <td>0.477628</td>\n",
       "      <td>0.746460</td>\n",
       "      <td>0.456041</td>\n",
       "    </tr>\n",
       "    <tr>\n",
       "      <th>Poland</th>\n",
       "      <td>0.514560</td>\n",
       "      <td>0.129054</td>\n",
       "      <td>0.162138</td>\n",
       "      <td>0.195026</td>\n",
       "      <td>0.198267</td>\n",
       "      <td>0.667501</td>\n",
       "      <td>0.644549</td>\n",
       "      <td>0.584708</td>\n",
       "      <td>0.521292</td>\n",
       "      <td>0.543719</td>\n",
       "      <td>...</td>\n",
       "      <td>0.913279</td>\n",
       "      <td>0.511568</td>\n",
       "      <td>0.767867</td>\n",
       "      <td>0.571377</td>\n",
       "      <td>0.460915</td>\n",
       "      <td>0.597613</td>\n",
       "      <td>0.570168</td>\n",
       "      <td>0.507104</td>\n",
       "      <td>0.522410</td>\n",
       "      <td>0.341174</td>\n",
       "    </tr>\n",
       "    <tr>\n",
       "      <th>Portugal</th>\n",
       "      <td>0.700690</td>\n",
       "      <td>0.685214</td>\n",
       "      <td>0.929851</td>\n",
       "      <td>0.819224</td>\n",
       "      <td>0.486081</td>\n",
       "      <td>0.909989</td>\n",
       "      <td>1.556892</td>\n",
       "      <td>1.351318</td>\n",
       "      <td>1.045474</td>\n",
       "      <td>1.147362</td>\n",
       "      <td>...</td>\n",
       "      <td>0.133877</td>\n",
       "      <td>NaN</td>\n",
       "      <td>NaN</td>\n",
       "      <td>NaN</td>\n",
       "      <td>NaN</td>\n",
       "      <td>NaN</td>\n",
       "      <td>NaN</td>\n",
       "      <td>NaN</td>\n",
       "      <td>NaN</td>\n",
       "      <td>0.082552</td>\n",
       "    </tr>\n",
       "    <tr>\n",
       "      <th>Romania</th>\n",
       "      <td>1.103946</td>\n",
       "      <td>1.226300</td>\n",
       "      <td>1.441884</td>\n",
       "      <td>1.294831</td>\n",
       "      <td>1.385301</td>\n",
       "      <td>1.891960</td>\n",
       "      <td>2.045720</td>\n",
       "      <td>1.548115</td>\n",
       "      <td>1.375340</td>\n",
       "      <td>1.638980</td>\n",
       "      <td>...</td>\n",
       "      <td>1.737692</td>\n",
       "      <td>1.813074</td>\n",
       "      <td>1.293534</td>\n",
       "      <td>1.164303</td>\n",
       "      <td>NaN</td>\n",
       "      <td>NaN</td>\n",
       "      <td>NaN</td>\n",
       "      <td>0.929783</td>\n",
       "      <td>NaN</td>\n",
       "      <td>0.873311</td>\n",
       "    </tr>\n",
       "    <tr>\n",
       "      <th>Slovak Republic</th>\n",
       "      <td>0.297247</td>\n",
       "      <td>0.409825</td>\n",
       "      <td>1.614140</td>\n",
       "      <td>1.476796</td>\n",
       "      <td>1.098450</td>\n",
       "      <td>1.230372</td>\n",
       "      <td>1.054305</td>\n",
       "      <td>1.173798</td>\n",
       "      <td>0.692255</td>\n",
       "      <td>0.624364</td>\n",
       "      <td>...</td>\n",
       "      <td>0.344400</td>\n",
       "      <td>1.432811</td>\n",
       "      <td>0.936596</td>\n",
       "      <td>0.903473</td>\n",
       "      <td>NaN</td>\n",
       "      <td>1.182866</td>\n",
       "      <td>1.209436</td>\n",
       "      <td>0.711628</td>\n",
       "      <td>0.730634</td>\n",
       "      <td>0.304516</td>\n",
       "    </tr>\n",
       "    <tr>\n",
       "      <th>Slovenia</th>\n",
       "      <td>0.976629</td>\n",
       "      <td>1.485573</td>\n",
       "      <td>1.585120</td>\n",
       "      <td>1.338341</td>\n",
       "      <td>1.744775</td>\n",
       "      <td>2.062864</td>\n",
       "      <td>1.542073</td>\n",
       "      <td>1.627699</td>\n",
       "      <td>1.796285</td>\n",
       "      <td>1.630019</td>\n",
       "      <td>...</td>\n",
       "      <td>0.231403</td>\n",
       "      <td>0.381424</td>\n",
       "      <td>0.550645</td>\n",
       "      <td>0.770289</td>\n",
       "      <td>0.640106</td>\n",
       "      <td>0.621024</td>\n",
       "      <td>0.888900</td>\n",
       "      <td>0.271911</td>\n",
       "      <td>0.440258</td>\n",
       "      <td>0.168942</td>\n",
       "    </tr>\n",
       "    <tr>\n",
       "      <th>Spain</th>\n",
       "      <td>0.779207</td>\n",
       "      <td>0.701285</td>\n",
       "      <td>0.756738</td>\n",
       "      <td>0.868167</td>\n",
       "      <td>0.765784</td>\n",
       "      <td>0.899827</td>\n",
       "      <td>0.994730</td>\n",
       "      <td>1.090230</td>\n",
       "      <td>0.906193</td>\n",
       "      <td>0.761151</td>\n",
       "      <td>...</td>\n",
       "      <td>0.432640</td>\n",
       "      <td>0.396704</td>\n",
       "      <td>0.333641</td>\n",
       "      <td>0.299163</td>\n",
       "      <td>0.284372</td>\n",
       "      <td>0.305143</td>\n",
       "      <td>0.461121</td>\n",
       "      <td>0.298147</td>\n",
       "      <td>0.284074</td>\n",
       "      <td>0.322125</td>\n",
       "    </tr>\n",
       "    <tr>\n",
       "      <th>Sweden</th>\n",
       "      <td>0.383517</td>\n",
       "      <td>0.390069</td>\n",
       "      <td>0.372826</td>\n",
       "      <td>0.434310</td>\n",
       "      <td>0.379366</td>\n",
       "      <td>0.389786</td>\n",
       "      <td>0.466761</td>\n",
       "      <td>0.544484</td>\n",
       "      <td>0.470563</td>\n",
       "      <td>0.421644</td>\n",
       "      <td>...</td>\n",
       "      <td>0.430217</td>\n",
       "      <td>0.416889</td>\n",
       "      <td>0.518823</td>\n",
       "      <td>0.523355</td>\n",
       "      <td>0.510208</td>\n",
       "      <td>0.614520</td>\n",
       "      <td>0.596813</td>\n",
       "      <td>0.367899</td>\n",
       "      <td>0.569963</td>\n",
       "      <td>0.386701</td>\n",
       "    </tr>\n",
       "  </tbody>\n",
       "</table>\n",
       "<p>26 rows × 29 columns</p>\n",
       "</div>"
      ],
      "text/plain": [
       "                     1995      1996      1997      1998      1999      2000  \\\n",
       "Country                                                                       \n",
       "Austria          0.212857  0.201671  0.192500  0.221062  0.202012  0.270400   \n",
       "Belgium          0.062357  0.063966  0.067943  0.065972  0.069980  0.070670   \n",
       "Bulgaria              NaN       NaN       NaN       NaN       NaN       NaN   \n",
       "Croatia               NaN       NaN       NaN       NaN       NaN  1.566848   \n",
       "Czechia          0.524117  0.506683  0.686468  0.626767  0.552128  0.557756   \n",
       "Denmark          0.213866  0.241929  0.259154  0.246312  0.264951  0.311328   \n",
       "Estonia          0.229950  0.281779  0.217751  0.336406  0.408863  0.433137   \n",
       "Finland          0.382597  0.365041  0.385656  0.371003  0.380151  0.435091   \n",
       "France           0.760579  0.769158  0.837787  0.789460  0.775688  0.902828   \n",
       "Germany          0.442291  0.498560  0.552111  0.541619  0.565126  0.683287   \n",
       "Greece                NaN       NaN       NaN       NaN       NaN  1.191607   \n",
       "Hungary          0.317248  0.295828  0.710810  0.647009  0.477428  0.420223   \n",
       "Ireland          0.459107  0.415829  0.640646  0.680590  0.842189  1.000839   \n",
       "Italy            0.475007  0.431621  0.463740  0.551755  0.569287  0.676989   \n",
       "Latvia           0.062295  0.075220  0.017209  0.015673  0.074558  0.112882   \n",
       "Lithuania        0.251890  0.321947  0.444372  0.959996  1.331638  1.064140   \n",
       "Luxembourg       0.621259  0.589512  0.617663  0.656549  0.775296  0.878250   \n",
       "Malta            0.004669  0.140669  0.014818  0.040962  0.147774  0.148762   \n",
       "Netherlands           NaN       NaN  0.301580  0.345356  0.376017  0.464407   \n",
       "Poland           0.514560  0.129054  0.162138  0.195026  0.198267  0.667501   \n",
       "Portugal         0.700690  0.685214  0.929851  0.819224  0.486081  0.909989   \n",
       "Romania          1.103946  1.226300  1.441884  1.294831  1.385301  1.891960   \n",
       "Slovak Republic  0.297247  0.409825  1.614140  1.476796  1.098450  1.230372   \n",
       "Slovenia         0.976629  1.485573  1.585120  1.338341  1.744775  2.062864   \n",
       "Spain            0.779207  0.701285  0.756738  0.868167  0.765784  0.899827   \n",
       "Sweden           0.383517  0.390069  0.372826  0.434310  0.379366  0.389786   \n",
       "\n",
       "                     2001      2002      2003      2004  ...      2014  \\\n",
       "Country                                                  ...             \n",
       "Austria          0.364083       NaN       NaN       NaN  ...       NaN   \n",
       "Belgium          0.069766  0.074848  0.065366  0.047496  ...  0.116025   \n",
       "Bulgaria              NaN       NaN       NaN       NaN  ...  1.153396   \n",
       "Croatia          1.474262  2.545400  3.354072  2.342626  ...  0.902189   \n",
       "Czechia          0.498771  0.705049  0.699668  0.964378  ...  0.466851   \n",
       "Denmark          0.338708  0.250856  0.301766  0.324535  ...  0.421517   \n",
       "Estonia          0.393993  0.714311  0.545104  0.517403  ...  0.823713   \n",
       "Finland          0.440690  0.416556  0.349057  0.341003  ...  0.551634   \n",
       "France           0.895378  0.779402  0.673123  0.614129  ...  0.517193   \n",
       "Germany          0.660423  0.620130  0.478422  0.422084  ...  0.316671   \n",
       "Greece           1.322168  1.230859  0.908566  0.703023  ...  0.474485   \n",
       "Hungary          0.495265  0.471431  0.319728  1.539544  ...  0.121616   \n",
       "Ireland          1.261832  1.250334  1.034666  0.903350  ...  0.373048   \n",
       "Italy            0.439258  0.444845  0.488052  0.469532  ...  0.160594   \n",
       "Latvia           0.134353  0.093985  0.438867  0.427962  ...  0.679991   \n",
       "Lithuania        0.642684  0.882425  0.849758  0.681721  ...  0.561578   \n",
       "Luxembourg       0.976461  1.012171  0.713728  0.433431  ...  0.348393   \n",
       "Malta            0.113990  0.237359  0.165110  0.255389  ...  0.252740   \n",
       "Netherlands      0.479790  0.538869  0.449214  0.396788  ...  0.605783   \n",
       "Poland           0.644549  0.584708  0.521292  0.543719  ...  0.913279   \n",
       "Portugal         1.556892  1.351318  1.045474  1.147362  ...  0.133877   \n",
       "Romania          2.045720  1.548115  1.375340  1.638980  ...  1.737692   \n",
       "Slovak Republic  1.054305  1.173798  0.692255  0.624364  ...  0.344400   \n",
       "Slovenia         1.542073  1.627699  1.796285  1.630019  ...  0.231403   \n",
       "Spain            0.994730  1.090230  0.906193  0.761151  ...  0.432640   \n",
       "Sweden           0.466761  0.544484  0.470563  0.421644  ...  0.430217   \n",
       "\n",
       "                     2015      2016      2017      2018      2019      2020  \\\n",
       "Country                                                                       \n",
       "Austria               NaN       NaN       NaN       NaN       NaN       NaN   \n",
       "Belgium          0.189055  0.154849  0.152246  0.151936  0.274858  0.213988   \n",
       "Bulgaria         1.857040  0.239688  1.672475  0.893780  0.247681  0.645490   \n",
       "Croatia          0.530549  0.414917  0.560993  0.634233  0.974478  0.909438   \n",
       "Czechia          0.526040  0.558048  0.529821  0.616688  0.795088  0.869572   \n",
       "Denmark          0.404518  0.383543  0.367279       NaN       NaN       NaN   \n",
       "Estonia          0.891830  0.901476  0.896094  0.791340  0.990464  0.887114   \n",
       "Finland          0.699013  0.751223  0.791698  0.708211  0.699291  0.698436   \n",
       "France           0.460492  0.413092  0.429111  0.420434  0.422859  0.450682   \n",
       "Germany          0.375416  0.430147  0.472226  0.434045  0.436646  0.472614   \n",
       "Greece           0.774350  2.266412  1.213733  0.392390  0.368967  0.530958   \n",
       "Hungary          1.119948  1.118600  1.397753  1.601489  1.297720  1.110998   \n",
       "Ireland          0.227378  0.201083  0.223487  0.237703  0.144875  0.144505   \n",
       "Italy            0.313589  0.203030  0.373861  0.230562  0.344061  0.376349   \n",
       "Latvia           0.836536  0.904447  0.816342  0.727426  0.659799  0.640877   \n",
       "Lithuania        0.699688  0.900275  0.765456  0.735455  0.889352  0.677638   \n",
       "Luxembourg       0.423078  0.407489  0.322589  0.411293       NaN       NaN   \n",
       "Malta                 NaN       NaN       NaN       NaN       NaN       NaN   \n",
       "Netherlands      0.702328  0.887398  0.862836  0.777293  0.856552  0.884903   \n",
       "Poland           0.511568  0.767867  0.571377  0.460915  0.597613  0.570168   \n",
       "Portugal              NaN       NaN       NaN       NaN       NaN       NaN   \n",
       "Romania          1.813074  1.293534  1.164303       NaN       NaN       NaN   \n",
       "Slovak Republic  1.432811  0.936596  0.903473       NaN  1.182866  1.209436   \n",
       "Slovenia         0.381424  0.550645  0.770289  0.640106  0.621024  0.888900   \n",
       "Spain            0.396704  0.333641  0.299163  0.284372  0.305143  0.461121   \n",
       "Sweden           0.416889  0.518823  0.523355  0.510208  0.614520  0.596813   \n",
       "\n",
       "                     2021      2022      2023  \n",
       "Country                                        \n",
       "Austria               NaN       NaN       NaN  \n",
       "Belgium          0.151356  0.116770  0.104293  \n",
       "Bulgaria         0.217912  0.652502  0.558601  \n",
       "Croatia          0.318375  0.689560  0.579660  \n",
       "Czechia          0.327932  0.610844  0.211982  \n",
       "Denmark          0.302504       NaN  0.288962  \n",
       "Estonia          0.448569  0.713933  0.583686  \n",
       "Finland          0.549931  0.716715  0.524135  \n",
       "France           0.348842  0.386666  0.473558  \n",
       "Germany          0.312455  0.429282  0.282946  \n",
       "Greece           1.143957  0.379544  0.960345  \n",
       "Hungary          0.495284  1.150355  0.211838  \n",
       "Ireland          0.131452  0.102945  0.121006  \n",
       "Italy            0.193478  0.234526  0.138692  \n",
       "Latvia           0.540888  0.549938  0.512364  \n",
       "Lithuania        0.599901  0.736069  0.365179  \n",
       "Luxembourg       0.280157  0.338602  0.287248  \n",
       "Malta                 NaN       NaN  0.055669  \n",
       "Netherlands      0.477628  0.746460  0.456041  \n",
       "Poland           0.507104  0.522410  0.341174  \n",
       "Portugal              NaN       NaN  0.082552  \n",
       "Romania          0.929783       NaN  0.873311  \n",
       "Slovak Republic  0.711628  0.730634  0.304516  \n",
       "Slovenia         0.271911  0.440258  0.168942  \n",
       "Spain            0.298147  0.284074  0.322125  \n",
       "Sweden           0.367899  0.569963  0.386701  \n",
       "\n",
       "[26 rows x 29 columns]"
      ]
     },
     "execution_count": 12,
     "metadata": {},
     "output_type": "execute_result"
    }
   ],
   "source": [
    "def year_to_idx(year):\n",
    "    return year - 1995\n",
    "\n",
    "percent_dict = {}\n",
    "for i in range(29):\n",
    "    percent_dict[i + 1995] = []\n",
    "\n",
    "for year in percent_dict.keys():\n",
    "    for country in eu_member_states:\n",
    "        percent_dict[year].append((infr_df.loc[country, year] / gdp_df.loc[country, year]) * 100)\n",
    "\n",
    "infr_as_percent_of_gdp_df = pd.DataFrame(percent_dict)\n",
    "infr_as_percent_of_gdp_df.insert(loc=0, column=\"Country\", value=eu_member_states)\n",
    "infr_as_percent_of_gdp_df.set_index(\"Country\", inplace=True)\n",
    "infr_as_percent_of_gdp_df"
   ]
  },
  {
   "cell_type": "code",
   "execution_count": 13,
   "id": "dd846a3bbfd95d3",
   "metadata": {
    "ExecuteTime": {
     "end_time": "2025-05-26T21:39:09.524877Z",
     "start_time": "2025-05-26T21:39:09.506415Z"
    }
   },
   "outputs": [
    {
     "data": {
      "text/html": [
       "<div>\n",
       "<style scoped>\n",
       "    .dataframe tbody tr th:only-of-type {\n",
       "        vertical-align: middle;\n",
       "    }\n",
       "\n",
       "    .dataframe tbody tr th {\n",
       "        vertical-align: top;\n",
       "    }\n",
       "\n",
       "    .dataframe thead th {\n",
       "        text-align: right;\n",
       "    }\n",
       "</style>\n",
       "<table border=\"1\" class=\"dataframe\">\n",
       "  <thead>\n",
       "    <tr style=\"text-align: right;\">\n",
       "      <th></th>\n",
       "      <th>Country</th>\n",
       "      <th>Year</th>\n",
       "      <th>RoadSpending</th>\n",
       "      <th>GDP</th>\n",
       "      <th>Spending/GDP%</th>\n",
       "    </tr>\n",
       "  </thead>\n",
       "  <tbody>\n",
       "    <tr>\n",
       "      <th>0</th>\n",
       "      <td>Austria</td>\n",
       "      <td>1995</td>\n",
       "      <td>4.570000e+08</td>\n",
       "      <td>2.146983e+11</td>\n",
       "      <td>0.212857</td>\n",
       "    </tr>\n",
       "    <tr>\n",
       "      <th>1</th>\n",
       "      <td>Austria</td>\n",
       "      <td>1996</td>\n",
       "      <td>4.260000e+08</td>\n",
       "      <td>2.112353e+11</td>\n",
       "      <td>0.201671</td>\n",
       "    </tr>\n",
       "    <tr>\n",
       "      <th>2</th>\n",
       "      <td>Austria</td>\n",
       "      <td>1997</td>\n",
       "      <td>3.650000e+08</td>\n",
       "      <td>1.896100e+11</td>\n",
       "      <td>0.192500</td>\n",
       "    </tr>\n",
       "    <tr>\n",
       "      <th>3</th>\n",
       "      <td>Austria</td>\n",
       "      <td>1998</td>\n",
       "      <td>4.300000e+08</td>\n",
       "      <td>1.945157e+11</td>\n",
       "      <td>0.221062</td>\n",
       "    </tr>\n",
       "    <tr>\n",
       "      <th>4</th>\n",
       "      <td>Austria</td>\n",
       "      <td>1999</td>\n",
       "      <td>3.910000e+08</td>\n",
       "      <td>1.935528e+11</td>\n",
       "      <td>0.202012</td>\n",
       "    </tr>\n",
       "    <tr>\n",
       "      <th>...</th>\n",
       "      <td>...</td>\n",
       "      <td>...</td>\n",
       "      <td>...</td>\n",
       "      <td>...</td>\n",
       "      <td>...</td>\n",
       "    </tr>\n",
       "    <tr>\n",
       "      <th>749</th>\n",
       "      <td>Sweden</td>\n",
       "      <td>2019</td>\n",
       "      <td>2.910555e+09</td>\n",
       "      <td>4.736304e+11</td>\n",
       "      <td>0.614520</td>\n",
       "    </tr>\n",
       "    <tr>\n",
       "      <th>750</th>\n",
       "      <td>Sweden</td>\n",
       "      <td>2020</td>\n",
       "      <td>2.895628e+09</td>\n",
       "      <td>4.851817e+11</td>\n",
       "      <td>0.596813</td>\n",
       "    </tr>\n",
       "    <tr>\n",
       "      <th>751</th>\n",
       "      <td>Sweden</td>\n",
       "      <td>2021</td>\n",
       "      <td>2.086339e+09</td>\n",
       "      <td>5.670964e+11</td>\n",
       "      <td>0.367899</td>\n",
       "    </tr>\n",
       "    <tr>\n",
       "      <th>752</th>\n",
       "      <td>Sweden</td>\n",
       "      <td>2022</td>\n",
       "      <td>2.941620e+09</td>\n",
       "      <td>5.161074e+11</td>\n",
       "      <td>0.569963</td>\n",
       "    </tr>\n",
       "    <tr>\n",
       "      <th>753</th>\n",
       "      <td>Sweden</td>\n",
       "      <td>2023</td>\n",
       "      <td>2.013063e+09</td>\n",
       "      <td>5.205735e+11</td>\n",
       "      <td>0.386701</td>\n",
       "    </tr>\n",
       "  </tbody>\n",
       "</table>\n",
       "<p>754 rows × 5 columns</p>\n",
       "</div>"
      ],
      "text/plain": [
       "     Country  Year  RoadSpending           GDP  Spending/GDP%\n",
       "0    Austria  1995  4.570000e+08  2.146983e+11       0.212857\n",
       "1    Austria  1996  4.260000e+08  2.112353e+11       0.201671\n",
       "2    Austria  1997  3.650000e+08  1.896100e+11       0.192500\n",
       "3    Austria  1998  4.300000e+08  1.945157e+11       0.221062\n",
       "4    Austria  1999  3.910000e+08  1.935528e+11       0.202012\n",
       "..       ...   ...           ...           ...            ...\n",
       "749   Sweden  2019  2.910555e+09  4.736304e+11       0.614520\n",
       "750   Sweden  2020  2.895628e+09  4.851817e+11       0.596813\n",
       "751   Sweden  2021  2.086339e+09  5.670964e+11       0.367899\n",
       "752   Sweden  2022  2.941620e+09  5.161074e+11       0.569963\n",
       "753   Sweden  2023  2.013063e+09  5.205735e+11       0.386701\n",
       "\n",
       "[754 rows x 5 columns]"
      ]
     },
     "execution_count": 13,
     "metadata": {},
     "output_type": "execute_result"
    }
   ],
   "source": [
    "final_gdp_roadspending_dict = {\"Country\": [], \"Year\": [], \"RoadSpending\": [], \"GDP\": [], \"Spending/GDP%\": []}\n",
    "\n",
    "for country in eu_member_states:\n",
    "    for year in percent_dict.keys():\n",
    "        final_gdp_roadspending_dict[\"Country\"].append(country)\n",
    "        final_gdp_roadspending_dict[\"Year\"].append(year)\n",
    "        final_gdp_roadspending_dict[\"RoadSpending\"].append(infr_df.loc[country, year])\n",
    "        final_gdp_roadspending_dict[\"GDP\"].append(gdp_df.loc[country, year])\n",
    "        final_gdp_roadspending_dict[\"Spending/GDP%\"].append(infr_as_percent_of_gdp_df.loc[country, year])\n",
    "\n",
    "final_gdp_roadspending_df = pd.DataFrame(final_gdp_roadspending_dict)\n",
    "final_gdp_roadspending_df"
   ]
  },
  {
   "cell_type": "code",
   "execution_count": 15,
   "id": "2f6101e0",
   "metadata": {},
   "outputs": [
    {
     "data": {
      "application/vnd.plotly.v1+json": {
       "config": {
        "plotlyServerURL": "https://plot.ly"
       },
       "data": [
        {
         "hovertemplate": "<b>%{hovertext}</b><br><br>Country=Austria<br>Year=1995<br>GDP=%{marker.size}<br>RoadSpending=%{y}<extra></extra>",
         "hovertext": [
          "Austria"
         ],
         "legendgroup": "Austria",
         "marker": {
          "color": "#636efa",
          "size": [
           214698260000
          ],
          "sizemode": "area",
          "sizeref": 1119177225,
          "symbol": "circle"
         },
         "mode": "markers",
         "name": "Austria",
         "orientation": "v",
         "showlegend": true,
         "type": "scatter",
         "x": [
          214698260000
         ],
         "xaxis": "x",
         "y": [
          457000000
         ],
         "yaxis": "y"
        },
        {
         "hovertemplate": "<b>%{hovertext}</b><br><br>Country=Belgium<br>Year=1995<br>GDP=%{marker.size}<br>RoadSpending=%{y}<extra></extra>",
         "hovertext": [
          "Belgium"
         ],
         "legendgroup": "Belgium",
         "marker": {
          "color": "#EF553B",
          "size": [
           256587890000
          ],
          "sizemode": "area",
          "sizeref": 1119177225,
          "symbol": "circle"
         },
         "mode": "markers",
         "name": "Belgium",
         "orientation": "v",
         "showlegend": true,
         "type": "scatter",
         "x": [
          256587890000
         ],
         "xaxis": "x",
         "y": [
          160000000
         ],
         "yaxis": "y"
        },
        {
         "hovertemplate": "<b>%{hovertext}</b><br><br>Country=Bulgaria<br>Year=1995<br>GDP=%{marker.size}<br>RoadSpending=%{y}<extra></extra>",
         "hovertext": [
          "Bulgaria"
         ],
         "legendgroup": "Bulgaria",
         "marker": {
          "color": "#00cc96",
          "size": [
           16902880000
          ],
          "sizemode": "area",
          "sizeref": 1119177225,
          "symbol": "circle"
         },
         "mode": "markers",
         "name": "Bulgaria",
         "orientation": "v",
         "showlegend": true,
         "type": "scatter",
         "x": [
          16902880000
         ],
         "xaxis": "x",
         "y": [
          null
         ],
         "yaxis": "y"
        },
        {
         "hovertemplate": "<b>%{hovertext}</b><br><br>Country=Croatia<br>Year=1995<br>GDP=%{marker.size}<br>RoadSpending=%{y}<extra></extra>",
         "hovertext": [
          "Croatia"
         ],
         "legendgroup": "Croatia",
         "marker": {
          "color": "#ab63fa",
          "size": [
           18378500000
          ],
          "sizemode": "area",
          "sizeref": 1119177225,
          "symbol": "circle"
         },
         "mode": "markers",
         "name": "Croatia",
         "orientation": "v",
         "showlegend": true,
         "type": "scatter",
         "x": [
          18378500000
         ],
         "xaxis": "x",
         "y": [
          null
         ],
         "yaxis": "y"
        },
        {
         "hovertemplate": "<b>%{hovertext}</b><br><br>Country=Czechia<br>Year=1995<br>GDP=%{marker.size}<br>RoadSpending=%{y}<extra></extra>",
         "hovertext": [
          "Czechia"
         ],
         "legendgroup": "Czechia",
         "marker": {
          "color": "#FFA15A",
          "size": [
           53902850000
          ],
          "sizemode": "area",
          "sizeref": 1119177225,
          "symbol": "circle"
         },
         "mode": "markers",
         "name": "Czechia",
         "orientation": "v",
         "showlegend": true,
         "type": "scatter",
         "x": [
          53902850000
         ],
         "xaxis": "x",
         "y": [
          282514209.3
         ],
         "yaxis": "y"
        },
        {
         "hovertemplate": "<b>%{hovertext}</b><br><br>Country=Denmark<br>Year=1995<br>GDP=%{marker.size}<br>RoadSpending=%{y}<extra></extra>",
         "hovertext": [
          "Denmark"
         ],
         "legendgroup": "Denmark",
         "marker": {
          "color": "#19d3f3",
          "size": [
           164516500000
          ],
          "sizemode": "area",
          "sizeref": 1119177225,
          "symbol": "circle"
         },
         "mode": "markers",
         "name": "Denmark",
         "orientation": "v",
         "showlegend": true,
         "type": "scatter",
         "x": [
          164516500000
         ],
         "xaxis": "x",
         "y": [
          351844522.4
         ],
         "yaxis": "y"
        },
        {
         "hovertemplate": "<b>%{hovertext}</b><br><br>Country=Estonia<br>Year=1995<br>GDP=%{marker.size}<br>RoadSpending=%{y}<extra></extra>",
         "hovertext": [
          "Estonia"
         ],
         "legendgroup": "Estonia",
         "marker": {
          "color": "#FF6692",
          "size": [
           3479010000
          ],
          "sizemode": "area",
          "sizeref": 1119177225,
          "symbol": "circle"
         },
         "mode": "markers",
         "name": "Estonia",
         "orientation": "v",
         "showlegend": true,
         "type": "scatter",
         "x": [
          3479010000
         ],
         "xaxis": "x",
         "y": [
          8000000
         ],
         "yaxis": "y"
        },
        {
         "hovertemplate": "<b>%{hovertext}</b><br><br>Country=Finland<br>Year=1995<br>GDP=%{marker.size}<br>RoadSpending=%{y}<extra></extra>",
         "hovertext": [
          "Finland"
         ],
         "legendgroup": "Finland",
         "marker": {
          "color": "#B6E880",
          "size": [
           119446900000.00002
          ],
          "sizemode": "area",
          "sizeref": 1119177225,
          "symbol": "circle"
         },
         "mode": "markers",
         "name": "Finland",
         "orientation": "v",
         "showlegend": true,
         "type": "scatter",
         "x": [
          119446900000.00002
         ],
         "xaxis": "x",
         "y": [
          457000000
         ],
         "yaxis": "y"
        },
        {
         "hovertemplate": "<b>%{hovertext}</b><br><br>Country=France<br>Year=1995<br>GDP=%{marker.size}<br>RoadSpending=%{y}<extra></extra>",
         "hovertext": [
          "France"
         ],
         "legendgroup": "France",
         "marker": {
          "color": "#FF97FF",
          "size": [
           1420662500000
          ],
          "sizemode": "area",
          "sizeref": 1119177225,
          "symbol": "circle"
         },
         "mode": "markers",
         "name": "France",
         "orientation": "v",
         "showlegend": true,
         "type": "scatter",
         "x": [
          1420662500000
         ],
         "xaxis": "x",
         "y": [
          10805267015
         ],
         "yaxis": "y"
        },
        {
         "hovertemplate": "<b>%{hovertext}</b><br><br>Country=Germany<br>Year=1995<br>GDP=%{marker.size}<br>RoadSpending=%{y}<extra></extra>",
         "hovertext": [
          "Germany"
         ],
         "legendgroup": "Germany",
         "marker": {
          "color": "#FECB52",
          "size": [
           2309789410000
          ],
          "sizemode": "area",
          "sizeref": 1119177225,
          "symbol": "circle"
         },
         "mode": "markers",
         "name": "Germany",
         "orientation": "v",
         "showlegend": true,
         "type": "scatter",
         "x": [
          2309789410000
         ],
         "xaxis": "x",
         "y": [
          10216000000
         ],
         "yaxis": "y"
        },
        {
         "hovertemplate": "<b>%{hovertext}</b><br><br>Country=Greece<br>Year=1995<br>GDP=%{marker.size}<br>RoadSpending=%{y}<extra></extra>",
         "hovertext": [
          "Greece"
         ],
         "legendgroup": "Greece",
         "marker": {
          "color": "#636efa",
          "size": [
           121877490000
          ],
          "sizemode": "area",
          "sizeref": 1119177225,
          "symbol": "circle"
         },
         "mode": "markers",
         "name": "Greece",
         "orientation": "v",
         "showlegend": true,
         "type": "scatter",
         "x": [
          121877490000
         ],
         "xaxis": "x",
         "y": [
          null
         ],
         "yaxis": "y"
        },
        {
         "hovertemplate": "<b>%{hovertext}</b><br><br>Country=Hungary<br>Year=1995<br>GDP=%{marker.size}<br>RoadSpending=%{y}<extra></extra>",
         "hovertext": [
          "Hungary"
         ],
         "legendgroup": "Hungary",
         "marker": {
          "color": "#EF553B",
          "size": [
           41319140000
          ],
          "sizemode": "area",
          "sizeref": 1119177225,
          "symbol": "circle"
         },
         "mode": "markers",
         "name": "Hungary",
         "orientation": "v",
         "showlegend": true,
         "type": "scatter",
         "x": [
          41319140000
         ],
         "xaxis": "x",
         "y": [
          131084071.5
         ],
         "yaxis": "y"
        },
        {
         "hovertemplate": "<b>%{hovertext}</b><br><br>Country=Ireland<br>Year=1995<br>GDP=%{marker.size}<br>RoadSpending=%{y}<extra></extra>",
         "hovertext": [
          "Ireland"
         ],
         "legendgroup": "Ireland",
         "marker": {
          "color": "#00cc96",
          "size": [
           61641400000
          ],
          "sizemode": "area",
          "sizeref": 1119177225,
          "symbol": "circle"
         },
         "mode": "markers",
         "name": "Ireland",
         "orientation": "v",
         "showlegend": true,
         "type": "scatter",
         "x": [
          61641400000
         ],
         "xaxis": "x",
         "y": [
          283000000
         ],
         "yaxis": "y"
        },
        {
         "hovertemplate": "<b>%{hovertext}</b><br><br>Country=Italy<br>Year=1995<br>GDP=%{marker.size}<br>RoadSpending=%{y}<extra></extra>",
         "hovertext": [
          "Italy"
         ],
         "legendgroup": "Italy",
         "marker": {
          "color": "#ab63fa",
          "size": [
           1048406650000
          ],
          "sizemode": "area",
          "sizeref": 1119177225,
          "symbol": "circle"
         },
         "mode": "markers",
         "name": "Italy",
         "orientation": "v",
         "showlegend": true,
         "type": "scatter",
         "x": [
          1048406650000
         ],
         "xaxis": "x",
         "y": [
          4980000000
         ],
         "yaxis": "y"
        },
        {
         "hovertemplate": "<b>%{hovertext}</b><br><br>Country=Latvia<br>Year=1995<br>GDP=%{marker.size}<br>RoadSpending=%{y}<extra></extra>",
         "hovertext": [
          "Latvia"
         ],
         "legendgroup": "Latvia",
         "marker": {
          "color": "#FFA15A",
          "size": [
           4815790000
          ],
          "sizemode": "area",
          "sizeref": 1119177225,
          "symbol": "circle"
         },
         "mode": "markers",
         "name": "Latvia",
         "orientation": "v",
         "showlegend": true,
         "type": "scatter",
         "x": [
          4815790000
         ],
         "xaxis": "x",
         "y": [
          3000000
         ],
         "yaxis": "y"
        },
        {
         "hovertemplate": "<b>%{hovertext}</b><br><br>Country=Lithuania<br>Year=1995<br>GDP=%{marker.size}<br>RoadSpending=%{y}<extra></extra>",
         "hovertext": [
          "Lithuania"
         ],
         "legendgroup": "Lithuania",
         "marker": {
          "color": "#19d3f3",
          "size": [
           5954990000
          ],
          "sizemode": "area",
          "sizeref": 1119177225,
          "symbol": "circle"
         },
         "mode": "markers",
         "name": "Lithuania",
         "orientation": "v",
         "showlegend": true,
         "type": "scatter",
         "x": [
          5954990000
         ],
         "xaxis": "x",
         "y": [
          15000000
         ],
         "yaxis": "y"
        },
        {
         "hovertemplate": "<b>%{hovertext}</b><br><br>Country=Luxembourg<br>Year=1995<br>GDP=%{marker.size}<br>RoadSpending=%{y}<extra></extra>",
         "hovertext": [
          "Luxembourg"
         ],
         "legendgroup": "Luxembourg",
         "marker": {
          "color": "#FF6692",
          "size": [
           18308190000
          ],
          "sizemode": "area",
          "sizeref": 1119177225,
          "symbol": "circle"
         },
         "mode": "markers",
         "name": "Luxembourg",
         "orientation": "v",
         "showlegend": true,
         "type": "scatter",
         "x": [
          18308190000
         ],
         "xaxis": "x",
         "y": [
          113741290.8
         ],
         "yaxis": "y"
        },
        {
         "hovertemplate": "<b>%{hovertext}</b><br><br>Country=Malta<br>Year=1995<br>GDP=%{marker.size}<br>RoadSpending=%{y}<extra></extra>",
         "hovertext": [
          "Malta"
         ],
         "legendgroup": "Malta",
         "marker": {
          "color": "#B6E880",
          "size": [
           3172850000
          ],
          "sizemode": "area",
          "sizeref": 1119177225,
          "symbol": "circle"
         },
         "mode": "markers",
         "name": "Malta",
         "orientation": "v",
         "showlegend": true,
         "type": "scatter",
         "x": [
          3172850000
         ],
         "xaxis": "x",
         "y": [
          148128.8572
         ],
         "yaxis": "y"
        },
        {
         "hovertemplate": "<b>%{hovertext}</b><br><br>Country=Netherlands<br>Year=1995<br>GDP=%{marker.size}<br>RoadSpending=%{y}<extra></extra>",
         "hovertext": [
          "Netherlands"
         ],
         "legendgroup": "Netherlands",
         "marker": {
          "color": "#FF97FF",
          "size": [
           403505530000
          ],
          "sizemode": "area",
          "sizeref": 1119177225,
          "symbol": "circle"
         },
         "mode": "markers",
         "name": "Netherlands",
         "orientation": "v",
         "showlegend": true,
         "type": "scatter",
         "x": [
          403505530000
         ],
         "xaxis": "x",
         "y": [
          null
         ],
         "yaxis": "y"
        },
        {
         "hovertemplate": "<b>%{hovertext}</b><br><br>Country=Poland<br>Year=1995<br>GDP=%{marker.size}<br>RoadSpending=%{y}<extra></extra>",
         "hovertext": [
          "Poland"
         ],
         "legendgroup": "Poland",
         "marker": {
          "color": "#FECB52",
          "size": [
           124033070000
          ],
          "sizemode": "area",
          "sizeref": 1119177225,
          "symbol": "circle"
         },
         "mode": "markers",
         "name": "Poland",
         "orientation": "v",
         "showlegend": true,
         "type": "scatter",
         "x": [
          124033070000
         ],
         "xaxis": "x",
         "y": [
          638224072.1
         ],
         "yaxis": "y"
        },
        {
         "hovertemplate": "<b>%{hovertext}</b><br><br>Country=Portugal<br>Year=1995<br>GDP=%{marker.size}<br>RoadSpending=%{y}<extra></extra>",
         "hovertext": [
          "Portugal"
         ],
         "legendgroup": "Portugal",
         "marker": {
          "color": "#636efa",
          "size": [
           105181980000
          ],
          "sizemode": "area",
          "sizeref": 1119177225,
          "symbol": "circle"
         },
         "mode": "markers",
         "name": "Portugal",
         "orientation": "v",
         "showlegend": true,
         "type": "scatter",
         "x": [
          105181980000
         ],
         "xaxis": "x",
         "y": [
          737000000
         ],
         "yaxis": "y"
        },
        {
         "hovertemplate": "<b>%{hovertext}</b><br><br>Country=Romania<br>Year=1995<br>GDP=%{marker.size}<br>RoadSpending=%{y}<extra></extra>",
         "hovertext": [
          "Romania"
         ],
         "legendgroup": "Romania",
         "marker": {
          "color": "#EF553B",
          "size": [
           31895820000
          ],
          "sizemode": "area",
          "sizeref": 1119177225,
          "symbol": "circle"
         },
         "mode": "markers",
         "name": "Romania",
         "orientation": "v",
         "showlegend": true,
         "type": "scatter",
         "x": [
          31895820000
         ],
         "xaxis": "x",
         "y": [
          352112676.1
         ],
         "yaxis": "y"
        },
        {
         "hovertemplate": "<b>%{hovertext}</b><br><br>Country=Slovak Republic<br>Year=1995<br>GDP=%{marker.size}<br>RoadSpending=%{y}<extra></extra>",
         "hovertext": [
          "Slovak Republic"
         ],
         "legendgroup": "Slovak Republic",
         "marker": {
          "color": "#00cc96",
          "size": [
           17830260000
          ],
          "sizemode": "area",
          "sizeref": 1119177225,
          "symbol": "circle"
         },
         "mode": "markers",
         "name": "Slovak Republic",
         "orientation": "v",
         "showlegend": true,
         "type": "scatter",
         "x": [
          17830260000
         ],
         "xaxis": "x",
         "y": [
          53000000
         ],
         "yaxis": "y"
        },
        {
         "hovertemplate": "<b>%{hovertext}</b><br><br>Country=Slovenia<br>Year=1995<br>GDP=%{marker.size}<br>RoadSpending=%{y}<extra></extra>",
         "hovertext": [
          "Slovenia"
         ],
         "legendgroup": "Slovenia",
         "marker": {
          "color": "#ab63fa",
          "size": [
           19045110000
          ],
          "sizemode": "area",
          "sizeref": 1119177225,
          "symbol": "circle"
         },
         "mode": "markers",
         "name": "Slovenia",
         "orientation": "v",
         "showlegend": true,
         "type": "scatter",
         "x": [
          19045110000
         ],
         "xaxis": "x",
         "y": [
          186000000
         ],
         "yaxis": "y"
        },
        {
         "hovertemplate": "<b>%{hovertext}</b><br><br>Country=Spain<br>Year=1995<br>GDP=%{marker.size}<br>RoadSpending=%{y}<extra></extra>",
         "hovertext": [
          "Spain"
         ],
         "legendgroup": "Spain",
         "marker": {
          "color": "#FFA15A",
          "size": [
           547094570000
          ],
          "sizemode": "area",
          "sizeref": 1119177225,
          "symbol": "circle"
         },
         "mode": "markers",
         "name": "Spain",
         "orientation": "v",
         "showlegend": true,
         "type": "scatter",
         "x": [
          547094570000
         ],
         "xaxis": "x",
         "y": [
          4263000000
         ],
         "yaxis": "y"
        },
        {
         "hovertemplate": "<b>%{hovertext}</b><br><br>Country=Sweden<br>Year=1995<br>GDP=%{marker.size}<br>RoadSpending=%{y}<extra></extra>",
         "hovertext": [
          "Sweden"
         ],
         "legendgroup": "Sweden",
         "marker": {
          "color": "#19d3f3",
          "size": [
           237678059999.99997
          ],
          "sizemode": "area",
          "sizeref": 1119177225,
          "symbol": "circle"
         },
         "mode": "markers",
         "name": "Sweden",
         "orientation": "v",
         "showlegend": true,
         "type": "scatter",
         "x": [
          237678059999.99997
         ],
         "xaxis": "x",
         "y": [
          911535618.2
         ],
         "yaxis": "y"
        }
       ],
       "frames": [
        {
         "data": [
          {
           "hovertemplate": "<b>%{hovertext}</b><br><br>Country=Austria<br>Year=1995<br>GDP=%{marker.size}<br>RoadSpending=%{y}<extra></extra>",
           "hovertext": [
            "Austria"
           ],
           "legendgroup": "Austria",
           "marker": {
            "color": "#636efa",
            "size": [
             214698260000
            ],
            "sizemode": "area",
            "sizeref": 1119177225,
            "symbol": "circle"
           },
           "mode": "markers",
           "name": "Austria",
           "orientation": "v",
           "showlegend": true,
           "type": "scatter",
           "x": [
            214698260000
           ],
           "xaxis": "x",
           "y": [
            457000000
           ],
           "yaxis": "y"
          },
          {
           "hovertemplate": "<b>%{hovertext}</b><br><br>Country=Belgium<br>Year=1995<br>GDP=%{marker.size}<br>RoadSpending=%{y}<extra></extra>",
           "hovertext": [
            "Belgium"
           ],
           "legendgroup": "Belgium",
           "marker": {
            "color": "#EF553B",
            "size": [
             256587890000
            ],
            "sizemode": "area",
            "sizeref": 1119177225,
            "symbol": "circle"
           },
           "mode": "markers",
           "name": "Belgium",
           "orientation": "v",
           "showlegend": true,
           "type": "scatter",
           "x": [
            256587890000
           ],
           "xaxis": "x",
           "y": [
            160000000
           ],
           "yaxis": "y"
          },
          {
           "hovertemplate": "<b>%{hovertext}</b><br><br>Country=Bulgaria<br>Year=1995<br>GDP=%{marker.size}<br>RoadSpending=%{y}<extra></extra>",
           "hovertext": [
            "Bulgaria"
           ],
           "legendgroup": "Bulgaria",
           "marker": {
            "color": "#00cc96",
            "size": [
             16902880000
            ],
            "sizemode": "area",
            "sizeref": 1119177225,
            "symbol": "circle"
           },
           "mode": "markers",
           "name": "Bulgaria",
           "orientation": "v",
           "showlegend": true,
           "type": "scatter",
           "x": [
            16902880000
           ],
           "xaxis": "x",
           "y": [
            null
           ],
           "yaxis": "y"
          },
          {
           "hovertemplate": "<b>%{hovertext}</b><br><br>Country=Croatia<br>Year=1995<br>GDP=%{marker.size}<br>RoadSpending=%{y}<extra></extra>",
           "hovertext": [
            "Croatia"
           ],
           "legendgroup": "Croatia",
           "marker": {
            "color": "#ab63fa",
            "size": [
             18378500000
            ],
            "sizemode": "area",
            "sizeref": 1119177225,
            "symbol": "circle"
           },
           "mode": "markers",
           "name": "Croatia",
           "orientation": "v",
           "showlegend": true,
           "type": "scatter",
           "x": [
            18378500000
           ],
           "xaxis": "x",
           "y": [
            null
           ],
           "yaxis": "y"
          },
          {
           "hovertemplate": "<b>%{hovertext}</b><br><br>Country=Czechia<br>Year=1995<br>GDP=%{marker.size}<br>RoadSpending=%{y}<extra></extra>",
           "hovertext": [
            "Czechia"
           ],
           "legendgroup": "Czechia",
           "marker": {
            "color": "#FFA15A",
            "size": [
             53902850000
            ],
            "sizemode": "area",
            "sizeref": 1119177225,
            "symbol": "circle"
           },
           "mode": "markers",
           "name": "Czechia",
           "orientation": "v",
           "showlegend": true,
           "type": "scatter",
           "x": [
            53902850000
           ],
           "xaxis": "x",
           "y": [
            282514209.3
           ],
           "yaxis": "y"
          },
          {
           "hovertemplate": "<b>%{hovertext}</b><br><br>Country=Denmark<br>Year=1995<br>GDP=%{marker.size}<br>RoadSpending=%{y}<extra></extra>",
           "hovertext": [
            "Denmark"
           ],
           "legendgroup": "Denmark",
           "marker": {
            "color": "#19d3f3",
            "size": [
             164516500000
            ],
            "sizemode": "area",
            "sizeref": 1119177225,
            "symbol": "circle"
           },
           "mode": "markers",
           "name": "Denmark",
           "orientation": "v",
           "showlegend": true,
           "type": "scatter",
           "x": [
            164516500000
           ],
           "xaxis": "x",
           "y": [
            351844522.4
           ],
           "yaxis": "y"
          },
          {
           "hovertemplate": "<b>%{hovertext}</b><br><br>Country=Estonia<br>Year=1995<br>GDP=%{marker.size}<br>RoadSpending=%{y}<extra></extra>",
           "hovertext": [
            "Estonia"
           ],
           "legendgroup": "Estonia",
           "marker": {
            "color": "#FF6692",
            "size": [
             3479010000
            ],
            "sizemode": "area",
            "sizeref": 1119177225,
            "symbol": "circle"
           },
           "mode": "markers",
           "name": "Estonia",
           "orientation": "v",
           "showlegend": true,
           "type": "scatter",
           "x": [
            3479010000
           ],
           "xaxis": "x",
           "y": [
            8000000
           ],
           "yaxis": "y"
          },
          {
           "hovertemplate": "<b>%{hovertext}</b><br><br>Country=Finland<br>Year=1995<br>GDP=%{marker.size}<br>RoadSpending=%{y}<extra></extra>",
           "hovertext": [
            "Finland"
           ],
           "legendgroup": "Finland",
           "marker": {
            "color": "#B6E880",
            "size": [
             119446900000.00002
            ],
            "sizemode": "area",
            "sizeref": 1119177225,
            "symbol": "circle"
           },
           "mode": "markers",
           "name": "Finland",
           "orientation": "v",
           "showlegend": true,
           "type": "scatter",
           "x": [
            119446900000.00002
           ],
           "xaxis": "x",
           "y": [
            457000000
           ],
           "yaxis": "y"
          },
          {
           "hovertemplate": "<b>%{hovertext}</b><br><br>Country=France<br>Year=1995<br>GDP=%{marker.size}<br>RoadSpending=%{y}<extra></extra>",
           "hovertext": [
            "France"
           ],
           "legendgroup": "France",
           "marker": {
            "color": "#FF97FF",
            "size": [
             1420662500000
            ],
            "sizemode": "area",
            "sizeref": 1119177225,
            "symbol": "circle"
           },
           "mode": "markers",
           "name": "France",
           "orientation": "v",
           "showlegend": true,
           "type": "scatter",
           "x": [
            1420662500000
           ],
           "xaxis": "x",
           "y": [
            10805267015
           ],
           "yaxis": "y"
          },
          {
           "hovertemplate": "<b>%{hovertext}</b><br><br>Country=Germany<br>Year=1995<br>GDP=%{marker.size}<br>RoadSpending=%{y}<extra></extra>",
           "hovertext": [
            "Germany"
           ],
           "legendgroup": "Germany",
           "marker": {
            "color": "#FECB52",
            "size": [
             2309789410000
            ],
            "sizemode": "area",
            "sizeref": 1119177225,
            "symbol": "circle"
           },
           "mode": "markers",
           "name": "Germany",
           "orientation": "v",
           "showlegend": true,
           "type": "scatter",
           "x": [
            2309789410000
           ],
           "xaxis": "x",
           "y": [
            10216000000
           ],
           "yaxis": "y"
          },
          {
           "hovertemplate": "<b>%{hovertext}</b><br><br>Country=Greece<br>Year=1995<br>GDP=%{marker.size}<br>RoadSpending=%{y}<extra></extra>",
           "hovertext": [
            "Greece"
           ],
           "legendgroup": "Greece",
           "marker": {
            "color": "#636efa",
            "size": [
             121877490000
            ],
            "sizemode": "area",
            "sizeref": 1119177225,
            "symbol": "circle"
           },
           "mode": "markers",
           "name": "Greece",
           "orientation": "v",
           "showlegend": true,
           "type": "scatter",
           "x": [
            121877490000
           ],
           "xaxis": "x",
           "y": [
            null
           ],
           "yaxis": "y"
          },
          {
           "hovertemplate": "<b>%{hovertext}</b><br><br>Country=Hungary<br>Year=1995<br>GDP=%{marker.size}<br>RoadSpending=%{y}<extra></extra>",
           "hovertext": [
            "Hungary"
           ],
           "legendgroup": "Hungary",
           "marker": {
            "color": "#EF553B",
            "size": [
             41319140000
            ],
            "sizemode": "area",
            "sizeref": 1119177225,
            "symbol": "circle"
           },
           "mode": "markers",
           "name": "Hungary",
           "orientation": "v",
           "showlegend": true,
           "type": "scatter",
           "x": [
            41319140000
           ],
           "xaxis": "x",
           "y": [
            131084071.5
           ],
           "yaxis": "y"
          },
          {
           "hovertemplate": "<b>%{hovertext}</b><br><br>Country=Ireland<br>Year=1995<br>GDP=%{marker.size}<br>RoadSpending=%{y}<extra></extra>",
           "hovertext": [
            "Ireland"
           ],
           "legendgroup": "Ireland",
           "marker": {
            "color": "#00cc96",
            "size": [
             61641400000
            ],
            "sizemode": "area",
            "sizeref": 1119177225,
            "symbol": "circle"
           },
           "mode": "markers",
           "name": "Ireland",
           "orientation": "v",
           "showlegend": true,
           "type": "scatter",
           "x": [
            61641400000
           ],
           "xaxis": "x",
           "y": [
            283000000
           ],
           "yaxis": "y"
          },
          {
           "hovertemplate": "<b>%{hovertext}</b><br><br>Country=Italy<br>Year=1995<br>GDP=%{marker.size}<br>RoadSpending=%{y}<extra></extra>",
           "hovertext": [
            "Italy"
           ],
           "legendgroup": "Italy",
           "marker": {
            "color": "#ab63fa",
            "size": [
             1048406650000
            ],
            "sizemode": "area",
            "sizeref": 1119177225,
            "symbol": "circle"
           },
           "mode": "markers",
           "name": "Italy",
           "orientation": "v",
           "showlegend": true,
           "type": "scatter",
           "x": [
            1048406650000
           ],
           "xaxis": "x",
           "y": [
            4980000000
           ],
           "yaxis": "y"
          },
          {
           "hovertemplate": "<b>%{hovertext}</b><br><br>Country=Latvia<br>Year=1995<br>GDP=%{marker.size}<br>RoadSpending=%{y}<extra></extra>",
           "hovertext": [
            "Latvia"
           ],
           "legendgroup": "Latvia",
           "marker": {
            "color": "#FFA15A",
            "size": [
             4815790000
            ],
            "sizemode": "area",
            "sizeref": 1119177225,
            "symbol": "circle"
           },
           "mode": "markers",
           "name": "Latvia",
           "orientation": "v",
           "showlegend": true,
           "type": "scatter",
           "x": [
            4815790000
           ],
           "xaxis": "x",
           "y": [
            3000000
           ],
           "yaxis": "y"
          },
          {
           "hovertemplate": "<b>%{hovertext}</b><br><br>Country=Lithuania<br>Year=1995<br>GDP=%{marker.size}<br>RoadSpending=%{y}<extra></extra>",
           "hovertext": [
            "Lithuania"
           ],
           "legendgroup": "Lithuania",
           "marker": {
            "color": "#19d3f3",
            "size": [
             5954990000
            ],
            "sizemode": "area",
            "sizeref": 1119177225,
            "symbol": "circle"
           },
           "mode": "markers",
           "name": "Lithuania",
           "orientation": "v",
           "showlegend": true,
           "type": "scatter",
           "x": [
            5954990000
           ],
           "xaxis": "x",
           "y": [
            15000000
           ],
           "yaxis": "y"
          },
          {
           "hovertemplate": "<b>%{hovertext}</b><br><br>Country=Luxembourg<br>Year=1995<br>GDP=%{marker.size}<br>RoadSpending=%{y}<extra></extra>",
           "hovertext": [
            "Luxembourg"
           ],
           "legendgroup": "Luxembourg",
           "marker": {
            "color": "#FF6692",
            "size": [
             18308190000
            ],
            "sizemode": "area",
            "sizeref": 1119177225,
            "symbol": "circle"
           },
           "mode": "markers",
           "name": "Luxembourg",
           "orientation": "v",
           "showlegend": true,
           "type": "scatter",
           "x": [
            18308190000
           ],
           "xaxis": "x",
           "y": [
            113741290.8
           ],
           "yaxis": "y"
          },
          {
           "hovertemplate": "<b>%{hovertext}</b><br><br>Country=Malta<br>Year=1995<br>GDP=%{marker.size}<br>RoadSpending=%{y}<extra></extra>",
           "hovertext": [
            "Malta"
           ],
           "legendgroup": "Malta",
           "marker": {
            "color": "#B6E880",
            "size": [
             3172850000
            ],
            "sizemode": "area",
            "sizeref": 1119177225,
            "symbol": "circle"
           },
           "mode": "markers",
           "name": "Malta",
           "orientation": "v",
           "showlegend": true,
           "type": "scatter",
           "x": [
            3172850000
           ],
           "xaxis": "x",
           "y": [
            148128.8572
           ],
           "yaxis": "y"
          },
          {
           "hovertemplate": "<b>%{hovertext}</b><br><br>Country=Netherlands<br>Year=1995<br>GDP=%{marker.size}<br>RoadSpending=%{y}<extra></extra>",
           "hovertext": [
            "Netherlands"
           ],
           "legendgroup": "Netherlands",
           "marker": {
            "color": "#FF97FF",
            "size": [
             403505530000
            ],
            "sizemode": "area",
            "sizeref": 1119177225,
            "symbol": "circle"
           },
           "mode": "markers",
           "name": "Netherlands",
           "orientation": "v",
           "showlegend": true,
           "type": "scatter",
           "x": [
            403505530000
           ],
           "xaxis": "x",
           "y": [
            null
           ],
           "yaxis": "y"
          },
          {
           "hovertemplate": "<b>%{hovertext}</b><br><br>Country=Poland<br>Year=1995<br>GDP=%{marker.size}<br>RoadSpending=%{y}<extra></extra>",
           "hovertext": [
            "Poland"
           ],
           "legendgroup": "Poland",
           "marker": {
            "color": "#FECB52",
            "size": [
             124033070000
            ],
            "sizemode": "area",
            "sizeref": 1119177225,
            "symbol": "circle"
           },
           "mode": "markers",
           "name": "Poland",
           "orientation": "v",
           "showlegend": true,
           "type": "scatter",
           "x": [
            124033070000
           ],
           "xaxis": "x",
           "y": [
            638224072.1
           ],
           "yaxis": "y"
          },
          {
           "hovertemplate": "<b>%{hovertext}</b><br><br>Country=Portugal<br>Year=1995<br>GDP=%{marker.size}<br>RoadSpending=%{y}<extra></extra>",
           "hovertext": [
            "Portugal"
           ],
           "legendgroup": "Portugal",
           "marker": {
            "color": "#636efa",
            "size": [
             105181980000
            ],
            "sizemode": "area",
            "sizeref": 1119177225,
            "symbol": "circle"
           },
           "mode": "markers",
           "name": "Portugal",
           "orientation": "v",
           "showlegend": true,
           "type": "scatter",
           "x": [
            105181980000
           ],
           "xaxis": "x",
           "y": [
            737000000
           ],
           "yaxis": "y"
          },
          {
           "hovertemplate": "<b>%{hovertext}</b><br><br>Country=Romania<br>Year=1995<br>GDP=%{marker.size}<br>RoadSpending=%{y}<extra></extra>",
           "hovertext": [
            "Romania"
           ],
           "legendgroup": "Romania",
           "marker": {
            "color": "#EF553B",
            "size": [
             31895820000
            ],
            "sizemode": "area",
            "sizeref": 1119177225,
            "symbol": "circle"
           },
           "mode": "markers",
           "name": "Romania",
           "orientation": "v",
           "showlegend": true,
           "type": "scatter",
           "x": [
            31895820000
           ],
           "xaxis": "x",
           "y": [
            352112676.1
           ],
           "yaxis": "y"
          },
          {
           "hovertemplate": "<b>%{hovertext}</b><br><br>Country=Slovak Republic<br>Year=1995<br>GDP=%{marker.size}<br>RoadSpending=%{y}<extra></extra>",
           "hovertext": [
            "Slovak Republic"
           ],
           "legendgroup": "Slovak Republic",
           "marker": {
            "color": "#00cc96",
            "size": [
             17830260000
            ],
            "sizemode": "area",
            "sizeref": 1119177225,
            "symbol": "circle"
           },
           "mode": "markers",
           "name": "Slovak Republic",
           "orientation": "v",
           "showlegend": true,
           "type": "scatter",
           "x": [
            17830260000
           ],
           "xaxis": "x",
           "y": [
            53000000
           ],
           "yaxis": "y"
          },
          {
           "hovertemplate": "<b>%{hovertext}</b><br><br>Country=Slovenia<br>Year=1995<br>GDP=%{marker.size}<br>RoadSpending=%{y}<extra></extra>",
           "hovertext": [
            "Slovenia"
           ],
           "legendgroup": "Slovenia",
           "marker": {
            "color": "#ab63fa",
            "size": [
             19045110000
            ],
            "sizemode": "area",
            "sizeref": 1119177225,
            "symbol": "circle"
           },
           "mode": "markers",
           "name": "Slovenia",
           "orientation": "v",
           "showlegend": true,
           "type": "scatter",
           "x": [
            19045110000
           ],
           "xaxis": "x",
           "y": [
            186000000
           ],
           "yaxis": "y"
          },
          {
           "hovertemplate": "<b>%{hovertext}</b><br><br>Country=Spain<br>Year=1995<br>GDP=%{marker.size}<br>RoadSpending=%{y}<extra></extra>",
           "hovertext": [
            "Spain"
           ],
           "legendgroup": "Spain",
           "marker": {
            "color": "#FFA15A",
            "size": [
             547094570000
            ],
            "sizemode": "area",
            "sizeref": 1119177225,
            "symbol": "circle"
           },
           "mode": "markers",
           "name": "Spain",
           "orientation": "v",
           "showlegend": true,
           "type": "scatter",
           "x": [
            547094570000
           ],
           "xaxis": "x",
           "y": [
            4263000000
           ],
           "yaxis": "y"
          },
          {
           "hovertemplate": "<b>%{hovertext}</b><br><br>Country=Sweden<br>Year=1995<br>GDP=%{marker.size}<br>RoadSpending=%{y}<extra></extra>",
           "hovertext": [
            "Sweden"
           ],
           "legendgroup": "Sweden",
           "marker": {
            "color": "#19d3f3",
            "size": [
             237678059999.99997
            ],
            "sizemode": "area",
            "sizeref": 1119177225,
            "symbol": "circle"
           },
           "mode": "markers",
           "name": "Sweden",
           "orientation": "v",
           "showlegend": true,
           "type": "scatter",
           "x": [
            237678059999.99997
           ],
           "xaxis": "x",
           "y": [
            911535618.2
           ],
           "yaxis": "y"
          }
         ],
         "name": "1995"
        },
        {
         "data": [
          {
           "hovertemplate": "<b>%{hovertext}</b><br><br>Country=Austria<br>Year=1996<br>GDP=%{marker.size}<br>RoadSpending=%{y}<extra></extra>",
           "hovertext": [
            "Austria"
           ],
           "legendgroup": "Austria",
           "marker": {
            "color": "#636efa",
            "size": [
             211235270000
            ],
            "sizemode": "area",
            "sizeref": 1119177225,
            "symbol": "circle"
           },
           "mode": "markers",
           "name": "Austria",
           "orientation": "v",
           "showlegend": true,
           "type": "scatter",
           "x": [
            211235270000
           ],
           "xaxis": "x",
           "y": [
            426000000
           ],
           "yaxis": "y"
          },
          {
           "hovertemplate": "<b>%{hovertext}</b><br><br>Country=Belgium<br>Year=1996<br>GDP=%{marker.size}<br>RoadSpending=%{y}<extra></extra>",
           "hovertext": [
            "Belgium"
           ],
           "legendgroup": "Belgium",
           "marker": {
            "color": "#EF553B",
            "size": [
             248569880000
            ],
            "sizemode": "area",
            "sizeref": 1119177225,
            "symbol": "circle"
           },
           "mode": "markers",
           "name": "Belgium",
           "orientation": "v",
           "showlegend": true,
           "type": "scatter",
           "x": [
            248569880000
           ],
           "xaxis": "x",
           "y": [
            159000000
           ],
           "yaxis": "y"
          },
          {
           "hovertemplate": "<b>%{hovertext}</b><br><br>Country=Bulgaria<br>Year=1996<br>GDP=%{marker.size}<br>RoadSpending=%{y}<extra></extra>",
           "hovertext": [
            "Bulgaria"
           ],
           "legendgroup": "Bulgaria",
           "marker": {
            "color": "#00cc96",
            "size": [
             10942550000
            ],
            "sizemode": "area",
            "sizeref": 1119177225,
            "symbol": "circle"
           },
           "mode": "markers",
           "name": "Bulgaria",
           "orientation": "v",
           "showlegend": true,
           "type": "scatter",
           "x": [
            10942550000
           ],
           "xaxis": "x",
           "y": [
            null
           ],
           "yaxis": "y"
          },
          {
           "hovertemplate": "<b>%{hovertext}</b><br><br>Country=Croatia<br>Year=1996<br>GDP=%{marker.size}<br>RoadSpending=%{y}<extra></extra>",
           "hovertext": [
            "Croatia"
           ],
           "legendgroup": "Croatia",
           "marker": {
            "color": "#ab63fa",
            "size": [
             19666330000
            ],
            "sizemode": "area",
            "sizeref": 1119177225,
            "symbol": "circle"
           },
           "mode": "markers",
           "name": "Croatia",
           "orientation": "v",
           "showlegend": true,
           "type": "scatter",
           "x": [
            19666330000
           ],
           "xaxis": "x",
           "y": [
            null
           ],
           "yaxis": "y"
          },
          {
           "hovertemplate": "<b>%{hovertext}</b><br><br>Country=Czechia<br>Year=1996<br>GDP=%{marker.size}<br>RoadSpending=%{y}<extra></extra>",
           "hovertext": [
            "Czechia"
           ],
           "legendgroup": "Czechia",
           "marker": {
            "color": "#FFA15A",
            "size": [
             60346450000.00001
            ],
            "sizemode": "area",
            "sizeref": 1119177225,
            "symbol": "circle"
           },
           "mode": "markers",
           "name": "Czechia",
           "orientation": "v",
           "showlegend": true,
           "type": "scatter",
           "x": [
            60346450000.00001
           ],
           "xaxis": "x",
           "y": [
            305765051
           ],
           "yaxis": "y"
          },
          {
           "hovertemplate": "<b>%{hovertext}</b><br><br>Country=Denmark<br>Year=1996<br>GDP=%{marker.size}<br>RoadSpending=%{y}<extra></extra>",
           "hovertext": [
            "Denmark"
           ],
           "legendgroup": "Denmark",
           "marker": {
            "color": "#19d3f3",
            "size": [
             166858980000
            ],
            "sizemode": "area",
            "sizeref": 1119177225,
            "symbol": "circle"
           },
           "mode": "markers",
           "name": "Denmark",
           "orientation": "v",
           "showlegend": true,
           "type": "scatter",
           "x": [
            166858980000
           ],
           "xaxis": "x",
           "y": [
            403679447.8
           ],
           "yaxis": "y"
          },
          {
           "hovertemplate": "<b>%{hovertext}</b><br><br>Country=Estonia<br>Year=1996<br>GDP=%{marker.size}<br>RoadSpending=%{y}<extra></extra>",
           "hovertext": [
            "Estonia"
           ],
           "legendgroup": "Estonia",
           "marker": {
            "color": "#FF6692",
            "size": [
             4258650000
            ],
            "sizemode": "area",
            "sizeref": 1119177225,
            "symbol": "circle"
           },
           "mode": "markers",
           "name": "Estonia",
           "orientation": "v",
           "showlegend": true,
           "type": "scatter",
           "x": [
            4258650000
           ],
           "xaxis": "x",
           "y": [
            12000000
           ],
           "yaxis": "y"
          },
          {
           "hovertemplate": "<b>%{hovertext}</b><br><br>Country=Finland<br>Year=1996<br>GDP=%{marker.size}<br>RoadSpending=%{y}<extra></extra>",
           "hovertext": [
            "Finland"
           ],
           "legendgroup": "Finland",
           "marker": {
            "color": "#B6E880",
            "size": [
             117520939999.99998
            ],
            "sizemode": "area",
            "sizeref": 1119177225,
            "symbol": "circle"
           },
           "mode": "markers",
           "name": "Finland",
           "orientation": "v",
           "showlegend": true,
           "type": "scatter",
           "x": [
            117520939999.99998
           ],
           "xaxis": "x",
           "y": [
            429000000
           ],
           "yaxis": "y"
          },
          {
           "hovertemplate": "<b>%{hovertext}</b><br><br>Country=France<br>Year=1996<br>GDP=%{marker.size}<br>RoadSpending=%{y}<extra></extra>",
           "hovertext": [
            "France"
           ],
           "legendgroup": "France",
           "marker": {
            "color": "#FF97FF",
            "size": [
             1423330720000
            ],
            "sizemode": "area",
            "sizeref": 1119177225,
            "symbol": "circle"
           },
           "mode": "markers",
           "name": "France",
           "orientation": "v",
           "showlegend": true,
           "type": "scatter",
           "x": [
            1423330720000
           ],
           "xaxis": "x",
           "y": [
            10947662219
           ],
           "yaxis": "y"
          },
          {
           "hovertemplate": "<b>%{hovertext}</b><br><br>Country=Germany<br>Year=1996<br>GDP=%{marker.size}<br>RoadSpending=%{y}<extra></extra>",
           "hovertext": [
            "Germany"
           ],
           "legendgroup": "Germany",
           "marker": {
            "color": "#FECB52",
            "size": [
             2231628720000
            ],
            "sizemode": "area",
            "sizeref": 1119177225,
            "symbol": "circle"
           },
           "mode": "markers",
           "name": "Germany",
           "orientation": "v",
           "showlegend": true,
           "type": "scatter",
           "x": [
            2231628720000
           ],
           "xaxis": "x",
           "y": [
            11126000000
           ],
           "yaxis": "y"
          },
          {
           "hovertemplate": "<b>%{hovertext}</b><br><br>Country=Greece<br>Year=1996<br>GDP=%{marker.size}<br>RoadSpending=%{y}<extra></extra>",
           "hovertext": [
            "Greece"
           ],
           "legendgroup": "Greece",
           "marker": {
            "color": "#636efa",
            "size": [
             129826080000
            ],
            "sizemode": "area",
            "sizeref": 1119177225,
            "symbol": "circle"
           },
           "mode": "markers",
           "name": "Greece",
           "orientation": "v",
           "showlegend": true,
           "type": "scatter",
           "x": [
            129826080000
           ],
           "xaxis": "x",
           "y": [
            null
           ],
           "yaxis": "y"
          },
          {
           "hovertemplate": "<b>%{hovertext}</b><br><br>Country=Hungary<br>Year=1996<br>GDP=%{marker.size}<br>RoadSpending=%{y}<extra></extra>",
           "hovertext": [
            "Hungary"
           ],
           "legendgroup": "Hungary",
           "marker": {
            "color": "#EF553B",
            "size": [
             41526510000
            ],
            "sizemode": "area",
            "sizeref": 1119177225,
            "symbol": "circle"
           },
           "mode": "markers",
           "name": "Hungary",
           "orientation": "v",
           "showlegend": true,
           "type": "scatter",
           "x": [
            41526510000
           ],
           "xaxis": "x",
           "y": [
            122846952.3
           ],
           "yaxis": "y"
          },
          {
           "hovertemplate": "<b>%{hovertext}</b><br><br>Country=Ireland<br>Year=1996<br>GDP=%{marker.size}<br>RoadSpending=%{y}<extra></extra>",
           "hovertext": [
            "Ireland"
           ],
           "legendgroup": "Ireland",
           "marker": {
            "color": "#00cc96",
            "size": [
             67575920000
            ],
            "sizemode": "area",
            "sizeref": 1119177225,
            "symbol": "circle"
           },
           "mode": "markers",
           "name": "Ireland",
           "orientation": "v",
           "showlegend": true,
           "type": "scatter",
           "x": [
            67575920000
           ],
           "xaxis": "x",
           "y": [
            281000000
           ],
           "yaxis": "y"
          },
          {
           "hovertemplate": "<b>%{hovertext}</b><br><br>Country=Italy<br>Year=1996<br>GDP=%{marker.size}<br>RoadSpending=%{y}<extra></extra>",
           "hovertext": [
            "Italy"
           ],
           "legendgroup": "Italy",
           "marker": {
            "color": "#ab63fa",
            "size": [
             1170471040000
            ],
            "sizemode": "area",
            "sizeref": 1119177225,
            "symbol": "circle"
           },
           "mode": "markers",
           "name": "Italy",
           "orientation": "v",
           "showlegend": true,
           "type": "scatter",
           "x": [
            1170471040000
           ],
           "xaxis": "x",
           "y": [
            5052000000
           ],
           "yaxis": "y"
          },
          {
           "hovertemplate": "<b>%{hovertext}</b><br><br>Country=Latvia<br>Year=1996<br>GDP=%{marker.size}<br>RoadSpending=%{y}<extra></extra>",
           "hovertext": [
            "Latvia"
           ],
           "legendgroup": "Latvia",
           "marker": {
            "color": "#FFA15A",
            "size": [
             5317750000
            ],
            "sizemode": "area",
            "sizeref": 1119177225,
            "symbol": "circle"
           },
           "mode": "markers",
           "name": "Latvia",
           "orientation": "v",
           "showlegend": true,
           "type": "scatter",
           "x": [
            5317750000
           ],
           "xaxis": "x",
           "y": [
            4000000
           ],
           "yaxis": "y"
          },
          {
           "hovertemplate": "<b>%{hovertext}</b><br><br>Country=Lithuania<br>Year=1996<br>GDP=%{marker.size}<br>RoadSpending=%{y}<extra></extra>",
           "hovertext": [
            "Lithuania"
           ],
           "legendgroup": "Lithuania",
           "marker": {
            "color": "#19d3f3",
            "size": [
             7454639999.999999
            ],
            "sizemode": "area",
            "sizeref": 1119177225,
            "symbol": "circle"
           },
           "mode": "markers",
           "name": "Lithuania",
           "orientation": "v",
           "showlegend": true,
           "type": "scatter",
           "x": [
            7454639999.999999
           ],
           "xaxis": "x",
           "y": [
            24000000
           ],
           "yaxis": "y"
          },
          {
           "hovertemplate": "<b>%{hovertext}</b><br><br>Country=Luxembourg<br>Year=1996<br>GDP=%{marker.size}<br>RoadSpending=%{y}<extra></extra>",
           "hovertext": [
            "Luxembourg"
           ],
           "legendgroup": "Luxembourg",
           "marker": {
            "color": "#FF6692",
            "size": [
             18212960000
            ],
            "sizemode": "area",
            "sizeref": 1119177225,
            "symbol": "circle"
           },
           "mode": "markers",
           "name": "Luxembourg",
           "orientation": "v",
           "showlegend": true,
           "type": "scatter",
           "x": [
            18212960000
           ],
           "xaxis": "x",
           "y": [
            107367648.4
           ],
           "yaxis": "y"
          },
          {
           "hovertemplate": "<b>%{hovertext}</b><br><br>Country=Malta<br>Year=1996<br>GDP=%{marker.size}<br>RoadSpending=%{y}<extra></extra>",
           "hovertext": [
            "Malta"
           ],
           "legendgroup": "Malta",
           "marker": {
            "color": "#B6E880",
            "size": [
             3235150000
            ],
            "sizemode": "area",
            "sizeref": 1119177225,
            "symbol": "circle"
           },
           "mode": "markers",
           "name": "Malta",
           "orientation": "v",
           "showlegend": true,
           "type": "scatter",
           "x": [
            3235150000
           ],
           "xaxis": "x",
           "y": [
            4550862.464
           ],
           "yaxis": "y"
          },
          {
           "hovertemplate": "<b>%{hovertext}</b><br><br>Country=Netherlands<br>Year=1996<br>GDP=%{marker.size}<br>RoadSpending=%{y}<extra></extra>",
           "hovertext": [
            "Netherlands"
           ],
           "legendgroup": "Netherlands",
           "marker": {
            "color": "#FF97FF",
            "size": [
             401842120000
            ],
            "sizemode": "area",
            "sizeref": 1119177225,
            "symbol": "circle"
           },
           "mode": "markers",
           "name": "Netherlands",
           "orientation": "v",
           "showlegend": true,
           "type": "scatter",
           "x": [
            401842120000
           ],
           "xaxis": "x",
           "y": [
            null
           ],
           "yaxis": "y"
          },
          {
           "hovertemplate": "<b>%{hovertext}</b><br><br>Country=Poland<br>Year=1996<br>GDP=%{marker.size}<br>RoadSpending=%{y}<extra></extra>",
           "hovertext": [
            "Poland"
           ],
           "legendgroup": "Poland",
           "marker": {
            "color": "#FECB52",
            "size": [
             139723770000
            ],
            "sizemode": "area",
            "sizeref": 1119177225,
            "symbol": "circle"
           },
           "mode": "markers",
           "name": "Poland",
           "orientation": "v",
           "showlegend": true,
           "type": "scatter",
           "x": [
            139723770000
           ],
           "xaxis": "x",
           "y": [
            180319724.1
           ],
           "yaxis": "y"
          },
          {
           "hovertemplate": "<b>%{hovertext}</b><br><br>Country=Portugal<br>Year=1996<br>GDP=%{marker.size}<br>RoadSpending=%{y}<extra></extra>",
           "hovertext": [
            "Portugal"
           ],
           "legendgroup": "Portugal",
           "marker": {
            "color": "#636efa",
            "size": [
             109162950000
            ],
            "sizemode": "area",
            "sizeref": 1119177225,
            "symbol": "circle"
           },
           "mode": "markers",
           "name": "Portugal",
           "orientation": "v",
           "showlegend": true,
           "type": "scatter",
           "x": [
            109162950000
           ],
           "xaxis": "x",
           "y": [
            748000000
           ],
           "yaxis": "y"
          },
          {
           "hovertemplate": "<b>%{hovertext}</b><br><br>Country=Romania<br>Year=1996<br>GDP=%{marker.size}<br>RoadSpending=%{y}<extra></extra>",
           "hovertext": [
            "Romania"
           ],
           "legendgroup": "Romania",
           "marker": {
            "color": "#EF553B",
            "size": [
             31765880000
            ],
            "sizemode": "area",
            "sizeref": 1119177225,
            "symbol": "circle"
           },
           "mode": "markers",
           "name": "Romania",
           "orientation": "v",
           "showlegend": true,
           "type": "scatter",
           "x": [
            31765880000
           ],
           "xaxis": "x",
           "y": [
            389545111.8
           ],
           "yaxis": "y"
          },
          {
           "hovertemplate": "<b>%{hovertext}</b><br><br>Country=Slovak Republic<br>Year=1996<br>GDP=%{marker.size}<br>RoadSpending=%{y}<extra></extra>",
           "hovertext": [
            "Slovak Republic"
           ],
           "legendgroup": "Slovak Republic",
           "marker": {
            "color": "#00cc96",
            "size": [
             19276510000
            ],
            "sizemode": "area",
            "sizeref": 1119177225,
            "symbol": "circle"
           },
           "mode": "markers",
           "name": "Slovak Republic",
           "orientation": "v",
           "showlegend": true,
           "type": "scatter",
           "x": [
            19276510000
           ],
           "xaxis": "x",
           "y": [
            79000000
           ],
           "yaxis": "y"
          },
          {
           "hovertemplate": "<b>%{hovertext}</b><br><br>Country=Slovenia<br>Year=1996<br>GDP=%{marker.size}<br>RoadSpending=%{y}<extra></extra>",
           "hovertext": [
            "Slovenia"
           ],
           "legendgroup": "Slovenia",
           "marker": {
            "color": "#ab63fa",
            "size": [
             19117200000
            ],
            "sizemode": "area",
            "sizeref": 1119177225,
            "symbol": "circle"
           },
           "mode": "markers",
           "name": "Slovenia",
           "orientation": "v",
           "showlegend": true,
           "type": "scatter",
           "x": [
            19117200000
           ],
           "xaxis": "x",
           "y": [
            284000000
           ],
           "yaxis": "y"
          },
          {
           "hovertemplate": "<b>%{hovertext}</b><br><br>Country=Spain<br>Year=1996<br>GDP=%{marker.size}<br>RoadSpending=%{y}<extra></extra>",
           "hovertext": [
            "Spain"
           ],
           "legendgroup": "Spain",
           "marker": {
            "color": "#FFA15A",
            "size": [
             571807200000
            ],
            "sizemode": "area",
            "sizeref": 1119177225,
            "symbol": "circle"
           },
           "mode": "markers",
           "name": "Spain",
           "orientation": "v",
           "showlegend": true,
           "type": "scatter",
           "x": [
            571807200000
           ],
           "xaxis": "x",
           "y": [
            4010000000
           ],
           "yaxis": "y"
          },
          {
           "hovertemplate": "<b>%{hovertext}</b><br><br>Country=Sweden<br>Year=1996<br>GDP=%{marker.size}<br>RoadSpending=%{y}<extra></extra>",
           "hovertext": [
            "Sweden"
           ],
           "legendgroup": "Sweden",
           "marker": {
            "color": "#19d3f3",
            "size": [
             259839060000
            ],
            "sizemode": "area",
            "sizeref": 1119177225,
            "symbol": "circle"
           },
           "mode": "markers",
           "name": "Sweden",
           "orientation": "v",
           "showlegend": true,
           "type": "scatter",
           "x": [
            259839060000
           ],
           "xaxis": "x",
           "y": [
            1013551599
           ],
           "yaxis": "y"
          }
         ],
         "name": "1996"
        },
        {
         "data": [
          {
           "hovertemplate": "<b>%{hovertext}</b><br><br>Country=Austria<br>Year=1997<br>GDP=%{marker.size}<br>RoadSpending=%{y}<extra></extra>",
           "hovertext": [
            "Austria"
           ],
           "legendgroup": "Austria",
           "marker": {
            "color": "#636efa",
            "size": [
             189610050000
            ],
            "sizemode": "area",
            "sizeref": 1119177225,
            "symbol": "circle"
           },
           "mode": "markers",
           "name": "Austria",
           "orientation": "v",
           "showlegend": true,
           "type": "scatter",
           "x": [
            189610050000
           ],
           "xaxis": "x",
           "y": [
            365000000
           ],
           "yaxis": "y"
          },
          {
           "hovertemplate": "<b>%{hovertext}</b><br><br>Country=Belgium<br>Year=1997<br>GDP=%{marker.size}<br>RoadSpending=%{y}<extra></extra>",
           "hovertext": [
            "Belgium"
           ],
           "legendgroup": "Belgium",
           "marker": {
            "color": "#EF553B",
            "size": [
             225189580000
            ],
            "sizemode": "area",
            "sizeref": 1119177225,
            "symbol": "circle"
           },
           "mode": "markers",
           "name": "Belgium",
           "orientation": "v",
           "showlegend": true,
           "type": "scatter",
           "x": [
            225189580000
           ],
           "xaxis": "x",
           "y": [
            153000000
           ],
           "yaxis": "y"
          },
          {
           "hovertemplate": "<b>%{hovertext}</b><br><br>Country=Bulgaria<br>Year=1997<br>GDP=%{marker.size}<br>RoadSpending=%{y}<extra></extra>",
           "hovertext": [
            "Bulgaria"
           ],
           "legendgroup": "Bulgaria",
           "marker": {
            "color": "#00cc96",
            "size": [
             10072130000
            ],
            "sizemode": "area",
            "sizeref": 1119177225,
            "symbol": "circle"
           },
           "mode": "markers",
           "name": "Bulgaria",
           "orientation": "v",
           "showlegend": true,
           "type": "scatter",
           "x": [
            10072130000
           ],
           "xaxis": "x",
           "y": [
            null
           ],
           "yaxis": "y"
          },
          {
           "hovertemplate": "<b>%{hovertext}</b><br><br>Country=Croatia<br>Year=1997<br>GDP=%{marker.size}<br>RoadSpending=%{y}<extra></extra>",
           "hovertext": [
            "Croatia"
           ],
           "legendgroup": "Croatia",
           "marker": {
            "color": "#ab63fa",
            "size": [
             19663660000
            ],
            "sizemode": "area",
            "sizeref": 1119177225,
            "symbol": "circle"
           },
           "mode": "markers",
           "name": "Croatia",
           "orientation": "v",
           "showlegend": true,
           "type": "scatter",
           "x": [
            19663660000
           ],
           "xaxis": "x",
           "y": [
            null
           ],
           "yaxis": "y"
          },
          {
           "hovertemplate": "<b>%{hovertext}</b><br><br>Country=Czechia<br>Year=1997<br>GDP=%{marker.size}<br>RoadSpending=%{y}<extra></extra>",
           "hovertext": [
            "Czechia"
           ],
           "legendgroup": "Czechia",
           "marker": {
            "color": "#FFA15A",
            "size": [
             55651700000
            ],
            "sizemode": "area",
            "sizeref": 1119177225,
            "symbol": "circle"
           },
           "mode": "markers",
           "name": "Czechia",
           "orientation": "v",
           "showlegend": true,
           "type": "scatter",
           "x": [
            55651700000
           ],
           "xaxis": "x",
           "y": [
            382031169.5
           ],
           "yaxis": "y"
          },
          {
           "hovertemplate": "<b>%{hovertext}</b><br><br>Country=Denmark<br>Year=1997<br>GDP=%{marker.size}<br>RoadSpending=%{y}<extra></extra>",
           "hovertext": [
            "Denmark"
           ],
           "legendgroup": "Denmark",
           "marker": {
            "color": "#19d3f3",
            "size": [
             154185380000
            ],
            "sizemode": "area",
            "sizeref": 1119177225,
            "symbol": "circle"
           },
           "mode": "markers",
           "name": "Denmark",
           "orientation": "v",
           "showlegend": true,
           "type": "scatter",
           "x": [
            154185380000
           ],
           "xaxis": "x",
           "y": [
            399577703.8
           ],
           "yaxis": "y"
          },
          {
           "hovertemplate": "<b>%{hovertext}</b><br><br>Country=Estonia<br>Year=1997<br>GDP=%{marker.size}<br>RoadSpending=%{y}<extra></extra>",
           "hovertext": [
            "Estonia"
           ],
           "legendgroup": "Estonia",
           "marker": {
            "color": "#FF6692",
            "size": [
             4592400000
            ],
            "sizemode": "area",
            "sizeref": 1119177225,
            "symbol": "circle"
           },
           "mode": "markers",
           "name": "Estonia",
           "orientation": "v",
           "showlegend": true,
           "type": "scatter",
           "x": [
            4592400000
           ],
           "xaxis": "x",
           "y": [
            10000000
           ],
           "yaxis": "y"
          },
          {
           "hovertemplate": "<b>%{hovertext}</b><br><br>Country=Finland<br>Year=1997<br>GDP=%{marker.size}<br>RoadSpending=%{y}<extra></extra>",
           "hovertext": [
            "Finland"
           ],
           "legendgroup": "Finland",
           "marker": {
            "color": "#B6E880",
            "size": [
             113054030000
            ],
            "sizemode": "area",
            "sizeref": 1119177225,
            "symbol": "circle"
           },
           "mode": "markers",
           "name": "Finland",
           "orientation": "v",
           "showlegend": true,
           "type": "scatter",
           "x": [
            113054030000
           ],
           "xaxis": "x",
           "y": [
            436000000
           ],
           "yaxis": "y"
          },
          {
           "hovertemplate": "<b>%{hovertext}</b><br><br>Country=France<br>Year=1997<br>GDP=%{marker.size}<br>RoadSpending=%{y}<extra></extra>",
           "hovertext": [
            "France"
           ],
           "legendgroup": "France",
           "marker": {
            "color": "#FF97FF",
            "size": [
             1291441620000
            ],
            "sizemode": "area",
            "sizeref": 1119177225,
            "symbol": "circle"
           },
           "mode": "markers",
           "name": "France",
           "orientation": "v",
           "showlegend": true,
           "type": "scatter",
           "x": [
            1291441620000
           ],
           "xaxis": "x",
           "y": [
            10819524890
           ],
           "yaxis": "y"
          },
          {
           "hovertemplate": "<b>%{hovertext}</b><br><br>Country=Germany<br>Year=1997<br>GDP=%{marker.size}<br>RoadSpending=%{y}<extra></extra>",
           "hovertext": [
            "Germany"
           ],
           "legendgroup": "Germany",
           "marker": {
            "color": "#FECB52",
            "size": [
             1977138560000
            ],
            "sizemode": "area",
            "sizeref": 1119177225,
            "symbol": "circle"
           },
           "mode": "markers",
           "name": "Germany",
           "orientation": "v",
           "showlegend": true,
           "type": "scatter",
           "x": [
            1977138560000
           ],
           "xaxis": "x",
           "y": [
            10916000000
           ],
           "yaxis": "y"
          },
          {
           "hovertemplate": "<b>%{hovertext}</b><br><br>Country=Greece<br>Year=1997<br>GDP=%{marker.size}<br>RoadSpending=%{y}<extra></extra>",
           "hovertext": [
            "Greece"
           ],
           "legendgroup": "Greece",
           "marker": {
            "color": "#636efa",
            "size": [
             127561030000
            ],
            "sizemode": "area",
            "sizeref": 1119177225,
            "symbol": "circle"
           },
           "mode": "markers",
           "name": "Greece",
           "orientation": "v",
           "showlegend": true,
           "type": "scatter",
           "x": [
            127561030000
           ],
           "xaxis": "x",
           "y": [
            null
           ],
           "yaxis": "y"
          },
          {
           "hovertemplate": "<b>%{hovertext}</b><br><br>Country=Hungary<br>Year=1997<br>GDP=%{marker.size}<br>RoadSpending=%{y}<extra></extra>",
           "hovertext": [
            "Hungary"
           ],
           "legendgroup": "Hungary",
           "marker": {
            "color": "#EF553B",
            "size": [
             42094330000
            ],
            "sizemode": "area",
            "sizeref": 1119177225,
            "symbol": "circle"
           },
           "mode": "markers",
           "name": "Hungary",
           "orientation": "v",
           "showlegend": true,
           "type": "scatter",
           "x": [
            42094330000
           ],
           "xaxis": "x",
           "y": [
            299210707.7
           ],
           "yaxis": "y"
          },
          {
           "hovertemplate": "<b>%{hovertext}</b><br><br>Country=Ireland<br>Year=1997<br>GDP=%{marker.size}<br>RoadSpending=%{y}<extra></extra>",
           "hovertext": [
            "Ireland"
           ],
           "legendgroup": "Ireland",
           "marker": {
            "color": "#00cc96",
            "size": [
             73831730000
            ],
            "sizemode": "area",
            "sizeref": 1119177225,
            "symbol": "circle"
           },
           "mode": "markers",
           "name": "Ireland",
           "orientation": "v",
           "showlegend": true,
           "type": "scatter",
           "x": [
            73831730000
           ],
           "xaxis": "x",
           "y": [
            473000000
           ],
           "yaxis": "y"
          },
          {
           "hovertemplate": "<b>%{hovertext}</b><br><br>Country=Italy<br>Year=1997<br>GDP=%{marker.size}<br>RoadSpending=%{y}<extra></extra>",
           "hovertext": [
            "Italy"
           ],
           "legendgroup": "Italy",
           "marker": {
            "color": "#ab63fa",
            "size": [
             1109242600000
            ],
            "sizemode": "area",
            "sizeref": 1119177225,
            "symbol": "circle"
           },
           "mode": "markers",
           "name": "Italy",
           "orientation": "v",
           "showlegend": true,
           "type": "scatter",
           "x": [
            1109242600000
           ],
           "xaxis": "x",
           "y": [
            5144000000
           ],
           "yaxis": "y"
          },
          {
           "hovertemplate": "<b>%{hovertext}</b><br><br>Country=Latvia<br>Year=1997<br>GDP=%{marker.size}<br>RoadSpending=%{y}<extra></extra>",
           "hovertext": [
            "Latvia"
           ],
           "legendgroup": "Latvia",
           "marker": {
            "color": "#FFA15A",
            "size": [
             5810810000
            ],
            "sizemode": "area",
            "sizeref": 1119177225,
            "symbol": "circle"
           },
           "mode": "markers",
           "name": "Latvia",
           "orientation": "v",
           "showlegend": true,
           "type": "scatter",
           "x": [
            5810810000
           ],
           "xaxis": "x",
           "y": [
            1000000
           ],
           "yaxis": "y"
          },
          {
           "hovertemplate": "<b>%{hovertext}</b><br><br>Country=Lithuania<br>Year=1997<br>GDP=%{marker.size}<br>RoadSpending=%{y}<extra></extra>",
           "hovertext": [
            "Lithuania"
           ],
           "legendgroup": "Lithuania",
           "marker": {
            "color": "#19d3f3",
            "size": [
             9001460000
            ],
            "sizemode": "area",
            "sizeref": 1119177225,
            "symbol": "circle"
           },
           "mode": "markers",
           "name": "Lithuania",
           "orientation": "v",
           "showlegend": true,
           "type": "scatter",
           "x": [
            9001460000
           ],
           "xaxis": "x",
           "y": [
            40000000
           ],
           "yaxis": "y"
          },
          {
           "hovertemplate": "<b>%{hovertext}</b><br><br>Country=Luxembourg<br>Year=1997<br>GDP=%{marker.size}<br>RoadSpending=%{y}<extra></extra>",
           "hovertext": [
            "Luxembourg"
           ],
           "legendgroup": "Luxembourg",
           "marker": {
            "color": "#FF6692",
            "size": [
             16400920000
            ],
            "sizemode": "area",
            "sizeref": 1119177225,
            "symbol": "circle"
           },
           "mode": "markers",
           "name": "Luxembourg",
           "orientation": "v",
           "showlegend": true,
           "type": "scatter",
           "x": [
            16400920000
           ],
           "xaxis": "x",
           "y": [
            101302475.4
           ],
           "yaxis": "y"
          },
          {
           "hovertemplate": "<b>%{hovertext}</b><br><br>Country=Malta<br>Year=1997<br>GDP=%{marker.size}<br>RoadSpending=%{y}<extra></extra>",
           "hovertext": [
            "Malta"
           ],
           "legendgroup": "Malta",
           "marker": {
            "color": "#B6E880",
            "size": [
             3275200000
            ],
            "sizemode": "area",
            "sizeref": 1119177225,
            "symbol": "circle"
           },
           "mode": "markers",
           "name": "Malta",
           "orientation": "v",
           "showlegend": true,
           "type": "scatter",
           "x": [
            3275200000
           ],
           "xaxis": "x",
           "y": [
            485309.6594
           ],
           "yaxis": "y"
          },
          {
           "hovertemplate": "<b>%{hovertext}</b><br><br>Country=Netherlands<br>Year=1997<br>GDP=%{marker.size}<br>RoadSpending=%{y}<extra></extra>",
           "hovertext": [
            "Netherlands"
           ],
           "legendgroup": "Netherlands",
           "marker": {
            "color": "#FF97FF",
            "size": [
             372040470000
            ],
            "sizemode": "area",
            "sizeref": 1119177225,
            "symbol": "circle"
           },
           "mode": "markers",
           "name": "Netherlands",
           "orientation": "v",
           "showlegend": true,
           "type": "scatter",
           "x": [
            372040470000
           ],
           "xaxis": "x",
           "y": [
            1122000000
           ],
           "yaxis": "y"
          },
          {
           "hovertemplate": "<b>%{hovertext}</b><br><br>Country=Poland<br>Year=1997<br>GDP=%{marker.size}<br>RoadSpending=%{y}<extra></extra>",
           "hovertext": [
            "Poland"
           ],
           "legendgroup": "Poland",
           "marker": {
            "color": "#FECB52",
            "size": [
             140168770000
            ],
            "sizemode": "area",
            "sizeref": 1119177225,
            "symbol": "circle"
           },
           "mode": "markers",
           "name": "Poland",
           "orientation": "v",
           "showlegend": true,
           "type": "scatter",
           "x": [
            140168770000
           ],
           "xaxis": "x",
           "y": [
            227266607.4
           ],
           "yaxis": "y"
          },
          {
           "hovertemplate": "<b>%{hovertext}</b><br><br>Country=Portugal<br>Year=1997<br>GDP=%{marker.size}<br>RoadSpending=%{y}<extra></extra>",
           "hovertext": [
            "Portugal"
           ],
           "legendgroup": "Portugal",
           "marker": {
            "color": "#636efa",
            "size": [
             104317790000
            ],
            "sizemode": "area",
            "sizeref": 1119177225,
            "symbol": "circle"
           },
           "mode": "markers",
           "name": "Portugal",
           "orientation": "v",
           "showlegend": true,
           "type": "scatter",
           "x": [
            104317790000
           ],
           "xaxis": "x",
           "y": [
            970000000
           ],
           "yaxis": "y"
          },
          {
           "hovertemplate": "<b>%{hovertext}</b><br><br>Country=Romania<br>Year=1997<br>GDP=%{marker.size}<br>RoadSpending=%{y}<extra></extra>",
           "hovertext": [
            "Romania"
           ],
           "legendgroup": "Romania",
           "marker": {
            "color": "#EF553B",
            "size": [
             31723160000
            ],
            "sizemode": "area",
            "sizeref": 1119177225,
            "symbol": "circle"
           },
           "mode": "markers",
           "name": "Romania",
           "orientation": "v",
           "showlegend": true,
           "type": "scatter",
           "x": [
            31723160000
           ],
           "xaxis": "x",
           "y": [
            457411299.3
           ],
           "yaxis": "y"
          },
          {
           "hovertemplate": "<b>%{hovertext}</b><br><br>Country=Slovak Republic<br>Year=1997<br>GDP=%{marker.size}<br>RoadSpending=%{y}<extra></extra>",
           "hovertext": [
            "Slovak Republic"
           ],
           "legendgroup": "Slovak Republic",
           "marker": {
            "color": "#00cc96",
            "size": [
             19515030000
            ],
            "sizemode": "area",
            "sizeref": 1119177225,
            "symbol": "circle"
           },
           "mode": "markers",
           "name": "Slovak Republic",
           "orientation": "v",
           "showlegend": true,
           "type": "scatter",
           "x": [
            19515030000
           ],
           "xaxis": "x",
           "y": [
            315000000
           ],
           "yaxis": "y"
          },
          {
           "hovertemplate": "<b>%{hovertext}</b><br><br>Country=Slovenia<br>Year=1997<br>GDP=%{marker.size}<br>RoadSpending=%{y}<extra></extra>",
           "hovertext": [
            "Slovenia"
           ],
           "legendgroup": "Slovenia",
           "marker": {
            "color": "#ab63fa",
            "size": [
             18484410000
            ],
            "sizemode": "area",
            "sizeref": 1119177225,
            "symbol": "circle"
           },
           "mode": "markers",
           "name": "Slovenia",
           "orientation": "v",
           "showlegend": true,
           "type": "scatter",
           "x": [
            18484410000
           ],
           "xaxis": "x",
           "y": [
            293000000
           ],
           "yaxis": "y"
          },
          {
           "hovertemplate": "<b>%{hovertext}</b><br><br>Country=Spain<br>Year=1997<br>GDP=%{marker.size}<br>RoadSpending=%{y}<extra></extra>",
           "hovertext": [
            "Spain"
           ],
           "legendgroup": "Spain",
           "marker": {
            "color": "#FFA15A",
            "size": [
             525545000000
            ],
            "sizemode": "area",
            "sizeref": 1119177225,
            "symbol": "circle"
           },
           "mode": "markers",
           "name": "Spain",
           "orientation": "v",
           "showlegend": true,
           "type": "scatter",
           "x": [
            525545000000
           ],
           "xaxis": "x",
           "y": [
            3977000000
           ],
           "yaxis": "y"
          },
          {
           "hovertemplate": "<b>%{hovertext}</b><br><br>Country=Sweden<br>Year=1997<br>GDP=%{marker.size}<br>RoadSpending=%{y}<extra></extra>",
           "hovertext": [
            "Sweden"
           ],
           "legendgroup": "Sweden",
           "marker": {
            "color": "#19d3f3",
            "size": [
             238744280000
            ],
            "sizemode": "area",
            "sizeref": 1119177225,
            "symbol": "circle"
           },
           "mode": "markers",
           "name": "Sweden",
           "orientation": "v",
           "showlegend": true,
           "type": "scatter",
           "x": [
            238744280000
           ],
           "xaxis": "x",
           "y": [
            890100748.7
           ],
           "yaxis": "y"
          }
         ],
         "name": "1997"
        },
        {
         "data": [
          {
           "hovertemplate": "<b>%{hovertext}</b><br><br>Country=Austria<br>Year=1998<br>GDP=%{marker.size}<br>RoadSpending=%{y}<extra></extra>",
           "hovertext": [
            "Austria"
           ],
           "legendgroup": "Austria",
           "marker": {
            "color": "#636efa",
            "size": [
             194515730000
            ],
            "sizemode": "area",
            "sizeref": 1119177225,
            "symbol": "circle"
           },
           "mode": "markers",
           "name": "Austria",
           "orientation": "v",
           "showlegend": true,
           "type": "scatter",
           "x": [
            194515730000
           ],
           "xaxis": "x",
           "y": [
            430000000
           ],
           "yaxis": "y"
          },
          {
           "hovertemplate": "<b>%{hovertext}</b><br><br>Country=Belgium<br>Year=1998<br>GDP=%{marker.size}<br>RoadSpending=%{y}<extra></extra>",
           "hovertext": [
            "Belgium"
           ],
           "legendgroup": "Belgium",
           "marker": {
            "color": "#EF553B",
            "size": [
             230399639999.99997
            ],
            "sizemode": "area",
            "sizeref": 1119177225,
            "symbol": "circle"
           },
           "mode": "markers",
           "name": "Belgium",
           "orientation": "v",
           "showlegend": true,
           "type": "scatter",
           "x": [
            230399639999.99997
           ],
           "xaxis": "x",
           "y": [
            152000000
           ],
           "yaxis": "y"
          },
          {
           "hovertemplate": "<b>%{hovertext}</b><br><br>Country=Bulgaria<br>Year=1998<br>GDP=%{marker.size}<br>RoadSpending=%{y}<extra></extra>",
           "hovertext": [
            "Bulgaria"
           ],
           "legendgroup": "Bulgaria",
           "marker": {
            "color": "#00cc96",
            "size": [
             13377590000
            ],
            "sizemode": "area",
            "sizeref": 1119177225,
            "symbol": "circle"
           },
           "mode": "markers",
           "name": "Bulgaria",
           "orientation": "v",
           "showlegend": true,
           "type": "scatter",
           "x": [
            13377590000
           ],
           "xaxis": "x",
           "y": [
            null
           ],
           "yaxis": "y"
          },
          {
           "hovertemplate": "<b>%{hovertext}</b><br><br>Country=Croatia<br>Year=1998<br>GDP=%{marker.size}<br>RoadSpending=%{y}<extra></extra>",
           "hovertext": [
            "Croatia"
           ],
           "legendgroup": "Croatia",
           "marker": {
            "color": "#ab63fa",
            "size": [
             21327070000
            ],
            "sizemode": "area",
            "sizeref": 1119177225,
            "symbol": "circle"
           },
           "mode": "markers",
           "name": "Croatia",
           "orientation": "v",
           "showlegend": true,
           "type": "scatter",
           "x": [
            21327070000
           ],
           "xaxis": "x",
           "y": [
            null
           ],
           "yaxis": "y"
          },
          {
           "hovertemplate": "<b>%{hovertext}</b><br><br>Country=Czechia<br>Year=1998<br>GDP=%{marker.size}<br>RoadSpending=%{y}<extra></extra>",
           "hovertext": [
            "Czechia"
           ],
           "legendgroup": "Czechia",
           "marker": {
            "color": "#FFA15A",
            "size": [
             59773290000
            ],
            "sizemode": "area",
            "sizeref": 1119177225,
            "symbol": "circle"
           },
           "mode": "markers",
           "name": "Czechia",
           "orientation": "v",
           "showlegend": true,
           "type": "scatter",
           "x": [
            59773290000
           ],
           "xaxis": "x",
           "y": [
            374639290.1
           ],
           "yaxis": "y"
          },
          {
           "hovertemplate": "<b>%{hovertext}</b><br><br>Country=Denmark<br>Year=1998<br>GDP=%{marker.size}<br>RoadSpending=%{y}<extra></extra>",
           "hovertext": [
            "Denmark"
           ],
           "legendgroup": "Denmark",
           "marker": {
            "color": "#19d3f3",
            "size": [
             157419640000
            ],
            "sizemode": "area",
            "sizeref": 1119177225,
            "symbol": "circle"
           },
           "mode": "markers",
           "name": "Denmark",
           "orientation": "v",
           "showlegend": true,
           "type": "scatter",
           "x": [
            157419640000
           ],
           "xaxis": "x",
           "y": [
            387743673.2
           ],
           "yaxis": "y"
          },
          {
           "hovertemplate": "<b>%{hovertext}</b><br><br>Country=Estonia<br>Year=1998<br>GDP=%{marker.size}<br>RoadSpending=%{y}<extra></extra>",
           "hovertext": [
            "Estonia"
           ],
           "legendgroup": "Estonia",
           "marker": {
            "color": "#FF6692",
            "size": [
             5053420000
            ],
            "sizemode": "area",
            "sizeref": 1119177225,
            "symbol": "circle"
           },
           "mode": "markers",
           "name": "Estonia",
           "orientation": "v",
           "showlegend": true,
           "type": "scatter",
           "x": [
            5053420000
           ],
           "xaxis": "x",
           "y": [
            17000000
           ],
           "yaxis": "y"
          },
          {
           "hovertemplate": "<b>%{hovertext}</b><br><br>Country=Finland<br>Year=1998<br>GDP=%{marker.size}<br>RoadSpending=%{y}<extra></extra>",
           "hovertext": [
            "Finland"
           ],
           "legendgroup": "Finland",
           "marker": {
            "color": "#B6E880",
            "size": [
             119405959999.99998
            ],
            "sizemode": "area",
            "sizeref": 1119177225,
            "symbol": "circle"
           },
           "mode": "markers",
           "name": "Finland",
           "orientation": "v",
           "showlegend": true,
           "type": "scatter",
           "x": [
            119405959999.99998
           ],
           "xaxis": "x",
           "y": [
            443000000
           ],
           "yaxis": "y"
          },
          {
           "hovertemplate": "<b>%{hovertext}</b><br><br>Country=France<br>Year=1998<br>GDP=%{marker.size}<br>RoadSpending=%{y}<extra></extra>",
           "hovertext": [
            "France"
           ],
           "legendgroup": "France",
           "marker": {
            "color": "#FF97FF",
            "size": [
             1334086860000
            ],
            "sizemode": "area",
            "sizeref": 1119177225,
            "symbol": "circle"
           },
           "mode": "markers",
           "name": "France",
           "orientation": "v",
           "showlegend": true,
           "type": "scatter",
           "x": [
            1334086860000
           ],
           "xaxis": "x",
           "y": [
            10532081864
           ],
           "yaxis": "y"
          },
          {
           "hovertemplate": "<b>%{hovertext}</b><br><br>Country=Germany<br>Year=1998<br>GDP=%{marker.size}<br>RoadSpending=%{y}<extra></extra>",
           "hovertext": [
            "Germany"
           ],
           "legendgroup": "Germany",
           "marker": {
            "color": "#FECB52",
            "size": [
             2003253830000
            ],
            "sizemode": "area",
            "sizeref": 1119177225,
            "symbol": "circle"
           },
           "mode": "markers",
           "name": "Germany",
           "orientation": "v",
           "showlegend": true,
           "type": "scatter",
           "x": [
            2003253830000
           ],
           "xaxis": "x",
           "y": [
            10850000000
           ],
           "yaxis": "y"
          },
          {
           "hovertemplate": "<b>%{hovertext}</b><br><br>Country=Greece<br>Year=1998<br>GDP=%{marker.size}<br>RoadSpending=%{y}<extra></extra>",
           "hovertext": [
            "Greece"
           ],
           "legendgroup": "Greece",
           "marker": {
            "color": "#636efa",
            "size": [
             128733160000
            ],
            "sizemode": "area",
            "sizeref": 1119177225,
            "symbol": "circle"
           },
           "mode": "markers",
           "name": "Greece",
           "orientation": "v",
           "showlegend": true,
           "type": "scatter",
           "x": [
            128733160000
           ],
           "xaxis": "x",
           "y": [
            null
           ],
           "yaxis": "y"
          },
          {
           "hovertemplate": "<b>%{hovertext}</b><br><br>Country=Hungary<br>Year=1998<br>GDP=%{marker.size}<br>RoadSpending=%{y}<extra></extra>",
           "hovertext": [
            "Hungary"
           ],
           "legendgroup": "Hungary",
           "marker": {
            "color": "#EF553B",
            "size": [
             43349230000
            ],
            "sizemode": "area",
            "sizeref": 1119177225,
            "symbol": "circle"
           },
           "mode": "markers",
           "name": "Hungary",
           "orientation": "v",
           "showlegend": true,
           "type": "scatter",
           "x": [
            43349230000
           ],
           "xaxis": "x",
           "y": [
            280473625.9
           ],
           "yaxis": "y"
          },
          {
           "hovertemplate": "<b>%{hovertext}</b><br><br>Country=Ireland<br>Year=1998<br>GDP=%{marker.size}<br>RoadSpending=%{y}<extra></extra>",
           "hovertext": [
            "Ireland"
           ],
           "legendgroup": "Ireland",
           "marker": {
            "color": "#00cc96",
            "size": [
             80371450000
            ],
            "sizemode": "area",
            "sizeref": 1119177225,
            "symbol": "circle"
           },
           "mode": "markers",
           "name": "Ireland",
           "orientation": "v",
           "showlegend": true,
           "type": "scatter",
           "x": [
            80371450000
           ],
           "xaxis": "x",
           "y": [
            547000000
           ],
           "yaxis": "y"
          },
          {
           "hovertemplate": "<b>%{hovertext}</b><br><br>Country=Italy<br>Year=1998<br>GDP=%{marker.size}<br>RoadSpending=%{y}<extra></extra>",
           "hovertext": [
            "Italy"
           ],
           "legendgroup": "Italy",
           "marker": {
            "color": "#ab63fa",
            "size": [
             1134199980000
            ],
            "sizemode": "area",
            "sizeref": 1119177225,
            "symbol": "circle"
           },
           "mode": "markers",
           "name": "Italy",
           "orientation": "v",
           "showlegend": true,
           "type": "scatter",
           "x": [
            1134199980000
           ],
           "xaxis": "x",
           "y": [
            6258000000
           ],
           "yaxis": "y"
          },
          {
           "hovertemplate": "<b>%{hovertext}</b><br><br>Country=Latvia<br>Year=1998<br>GDP=%{marker.size}<br>RoadSpending=%{y}<extra></extra>",
           "hovertext": [
            "Latvia"
           ],
           "legendgroup": "Latvia",
           "marker": {
            "color": "#FFA15A",
            "size": [
             6380410000
            ],
            "sizemode": "area",
            "sizeref": 1119177225,
            "symbol": "circle"
           },
           "mode": "markers",
           "name": "Latvia",
           "orientation": "v",
           "showlegend": true,
           "type": "scatter",
           "x": [
            6380410000
           ],
           "xaxis": "x",
           "y": [
            1000000
           ],
           "yaxis": "y"
          },
          {
           "hovertemplate": "<b>%{hovertext}</b><br><br>Country=Lithuania<br>Year=1998<br>GDP=%{marker.size}<br>RoadSpending=%{y}<extra></extra>",
           "hovertext": [
            "Lithuania"
           ],
           "legendgroup": "Lithuania",
           "marker": {
            "color": "#19d3f3",
            "size": [
             10000040000
            ],
            "sizemode": "area",
            "sizeref": 1119177225,
            "symbol": "circle"
           },
           "mode": "markers",
           "name": "Lithuania",
           "orientation": "v",
           "showlegend": true,
           "type": "scatter",
           "x": [
            10000040000
           ],
           "xaxis": "x",
           "y": [
            96000000
           ],
           "yaxis": "y"
          },
          {
           "hovertemplate": "<b>%{hovertext}</b><br><br>Country=Luxembourg<br>Year=1998<br>GDP=%{marker.size}<br>RoadSpending=%{y}<extra></extra>",
           "hovertext": [
            "Luxembourg"
           ],
           "legendgroup": "Luxembourg",
           "marker": {
            "color": "#FF6692",
            "size": [
             17144070000
            ],
            "sizemode": "area",
            "sizeref": 1119177225,
            "symbol": "circle"
           },
           "mode": "markers",
           "name": "Luxembourg",
           "orientation": "v",
           "showlegend": true,
           "type": "scatter",
           "x": [
            17144070000
           ],
           "xaxis": "x",
           "y": [
            112559210.7
           ],
           "yaxis": "y"
          },
          {
           "hovertemplate": "<b>%{hovertext}</b><br><br>Country=Malta<br>Year=1998<br>GDP=%{marker.size}<br>RoadSpending=%{y}<extra></extra>",
           "hovertext": [
            "Malta"
           ],
           "legendgroup": "Malta",
           "marker": {
            "color": "#B6E880",
            "size": [
             3469220000
            ],
            "sizemode": "area",
            "sizeref": 1119177225,
            "symbol": "circle"
           },
           "mode": "markers",
           "name": "Malta",
           "orientation": "v",
           "showlegend": true,
           "type": "scatter",
           "x": [
            3469220000
           ],
           "xaxis": "x",
           "y": [
            1421059.716
           ],
           "yaxis": "y"
          },
          {
           "hovertemplate": "<b>%{hovertext}</b><br><br>Country=Netherlands<br>Year=1998<br>GDP=%{marker.size}<br>RoadSpending=%{y}<extra></extra>",
           "hovertext": [
            "Netherlands"
           ],
           "legendgroup": "Netherlands",
           "marker": {
            "color": "#FF97FF",
            "size": [
             390901350000
            ],
            "sizemode": "area",
            "sizeref": 1119177225,
            "symbol": "circle"
           },
           "mode": "markers",
           "name": "Netherlands",
           "orientation": "v",
           "showlegend": true,
           "type": "scatter",
           "x": [
            390901350000
           ],
           "xaxis": "x",
           "y": [
            1350000000
           ],
           "yaxis": "y"
          },
          {
           "hovertemplate": "<b>%{hovertext}</b><br><br>Country=Poland<br>Year=1998<br>GDP=%{marker.size}<br>RoadSpending=%{y}<extra></extra>",
           "hovertext": [
            "Poland"
           ],
           "legendgroup": "Poland",
           "marker": {
            "color": "#FECB52",
            "size": [
             153426210000
            ],
            "sizemode": "area",
            "sizeref": 1119177225,
            "symbol": "circle"
           },
           "mode": "markers",
           "name": "Poland",
           "orientation": "v",
           "showlegend": true,
           "type": "scatter",
           "x": [
            153426210000
           ],
           "xaxis": "x",
           "y": [
            299220646.5
           ],
           "yaxis": "y"
          },
          {
           "hovertemplate": "<b>%{hovertext}</b><br><br>Country=Portugal<br>Year=1998<br>GDP=%{marker.size}<br>RoadSpending=%{y}<extra></extra>",
           "hovertext": [
            "Portugal"
           ],
           "legendgroup": "Portugal",
           "marker": {
            "color": "#636efa",
            "size": [
             110470360000
            ],
            "sizemode": "area",
            "sizeref": 1119177225,
            "symbol": "circle"
           },
           "mode": "markers",
           "name": "Portugal",
           "orientation": "v",
           "showlegend": true,
           "type": "scatter",
           "x": [
            110470360000
           ],
           "xaxis": "x",
           "y": [
            905000000
           ],
           "yaxis": "y"
          },
          {
           "hovertemplate": "<b>%{hovertext}</b><br><br>Country=Romania<br>Year=1998<br>GDP=%{marker.size}<br>RoadSpending=%{y}<extra></extra>",
           "hovertext": [
            "Romania"
           ],
           "legendgroup": "Romania",
           "marker": {
            "color": "#EF553B",
            "size": [
             37863270000
            ],
            "sizemode": "area",
            "sizeref": 1119177225,
            "symbol": "circle"
           },
           "mode": "markers",
           "name": "Romania",
           "orientation": "v",
           "showlegend": true,
           "type": "scatter",
           "x": [
            37863270000
           ],
           "xaxis": "x",
           "y": [
            490265308.2
           ],
           "yaxis": "y"
          },
          {
           "hovertemplate": "<b>%{hovertext}</b><br><br>Country=Slovak Republic<br>Year=1998<br>GDP=%{marker.size}<br>RoadSpending=%{y}<extra></extra>",
           "hovertext": [
            "Slovak Republic"
           ],
           "legendgroup": "Slovak Republic",
           "marker": {
            "color": "#00cc96",
            "size": [
             20314250000
            ],
            "sizemode": "area",
            "sizeref": 1119177225,
            "symbol": "circle"
           },
           "mode": "markers",
           "name": "Slovak Republic",
           "orientation": "v",
           "showlegend": true,
           "type": "scatter",
           "x": [
            20314250000
           ],
           "xaxis": "x",
           "y": [
            300000000
           ],
           "yaxis": "y"
          },
          {
           "hovertemplate": "<b>%{hovertext}</b><br><br>Country=Slovenia<br>Year=1998<br>GDP=%{marker.size}<br>RoadSpending=%{y}<extra></extra>",
           "hovertext": [
            "Slovenia"
           ],
           "legendgroup": "Slovenia",
           "marker": {
            "color": "#ab63fa",
            "size": [
             19651200000
            ],
            "sizemode": "area",
            "sizeref": 1119177225,
            "symbol": "circle"
           },
           "mode": "markers",
           "name": "Slovenia",
           "orientation": "v",
           "showlegend": true,
           "type": "scatter",
           "x": [
            19651200000
           ],
           "xaxis": "x",
           "y": [
            263000000
           ],
           "yaxis": "y"
          },
          {
           "hovertemplate": "<b>%{hovertext}</b><br><br>Country=Spain<br>Year=1998<br>GDP=%{marker.size}<br>RoadSpending=%{y}<extra></extra>",
           "hovertext": [
            "Spain"
           ],
           "legendgroup": "Spain",
           "marker": {
            "color": "#FFA15A",
            "size": [
             551391490000
            ],
            "sizemode": "area",
            "sizeref": 1119177225,
            "symbol": "circle"
           },
           "mode": "markers",
           "name": "Spain",
           "orientation": "v",
           "showlegend": true,
           "type": "scatter",
           "x": [
            551391490000
           ],
           "xaxis": "x",
           "y": [
            4787000000
           ],
           "yaxis": "y"
          },
          {
           "hovertemplate": "<b>%{hovertext}</b><br><br>Country=Sweden<br>Year=1998<br>GDP=%{marker.size}<br>RoadSpending=%{y}<extra></extra>",
           "hovertext": [
            "Sweden"
           ],
           "legendgroup": "Sweden",
           "marker": {
            "color": "#19d3f3",
            "size": [
             241092990000.00003
            ],
            "sizemode": "area",
            "sizeref": 1119177225,
            "symbol": "circle"
           },
           "mode": "markers",
           "name": "Sweden",
           "orientation": "v",
           "showlegend": true,
           "type": "scatter",
           "x": [
            241092990000.00003
           ],
           "xaxis": "x",
           "y": [
            1047089858
           ],
           "yaxis": "y"
          }
         ],
         "name": "1998"
        },
        {
         "data": [
          {
           "hovertemplate": "<b>%{hovertext}</b><br><br>Country=Austria<br>Year=1999<br>GDP=%{marker.size}<br>RoadSpending=%{y}<extra></extra>",
           "hovertext": [
            "Austria"
           ],
           "legendgroup": "Austria",
           "marker": {
            "color": "#636efa",
            "size": [
             193552750000
            ],
            "sizemode": "area",
            "sizeref": 1119177225,
            "symbol": "circle"
           },
           "mode": "markers",
           "name": "Austria",
           "orientation": "v",
           "showlegend": true,
           "type": "scatter",
           "x": [
            193552750000
           ],
           "xaxis": "x",
           "y": [
            391000000
           ],
           "yaxis": "y"
          },
          {
           "hovertemplate": "<b>%{hovertext}</b><br><br>Country=Belgium<br>Year=1999<br>GDP=%{marker.size}<br>RoadSpending=%{y}<extra></extra>",
           "hovertext": [
            "Belgium"
           ],
           "legendgroup": "Belgium",
           "marker": {
            "color": "#EF553B",
            "size": [
             230065000000
            ],
            "sizemode": "area",
            "sizeref": 1119177225,
            "symbol": "circle"
           },
           "mode": "markers",
           "name": "Belgium",
           "orientation": "v",
           "showlegend": true,
           "type": "scatter",
           "x": [
            230065000000
           ],
           "xaxis": "x",
           "y": [
            161000000
           ],
           "yaxis": "y"
          },
          {
           "hovertemplate": "<b>%{hovertext}</b><br><br>Country=Bulgaria<br>Year=1999<br>GDP=%{marker.size}<br>RoadSpending=%{y}<extra></extra>",
           "hovertext": [
            "Bulgaria"
           ],
           "legendgroup": "Bulgaria",
           "marker": {
            "color": "#00cc96",
            "size": [
             12128920000
            ],
            "sizemode": "area",
            "sizeref": 1119177225,
            "symbol": "circle"
           },
           "mode": "markers",
           "name": "Bulgaria",
           "orientation": "v",
           "showlegend": true,
           "type": "scatter",
           "x": [
            12128920000
           ],
           "xaxis": "x",
           "y": [
            null
           ],
           "yaxis": "y"
          },
          {
           "hovertemplate": "<b>%{hovertext}</b><br><br>Country=Croatia<br>Year=1999<br>GDP=%{marker.size}<br>RoadSpending=%{y}<extra></extra>",
           "hovertext": [
            "Croatia"
           ],
           "legendgroup": "Croatia",
           "marker": {
            "color": "#ab63fa",
            "size": [
             20990650000
            ],
            "sizemode": "area",
            "sizeref": 1119177225,
            "symbol": "circle"
           },
           "mode": "markers",
           "name": "Croatia",
           "orientation": "v",
           "showlegend": true,
           "type": "scatter",
           "x": [
            20990650000
           ],
           "xaxis": "x",
           "y": [
            null
           ],
           "yaxis": "y"
          },
          {
           "hovertemplate": "<b>%{hovertext}</b><br><br>Country=Czechia<br>Year=1999<br>GDP=%{marker.size}<br>RoadSpending=%{y}<extra></extra>",
           "hovertext": [
            "Czechia"
           ],
           "legendgroup": "Czechia",
           "marker": {
            "color": "#FFA15A",
            "size": [
             58371540000
            ],
            "sizemode": "area",
            "sizeref": 1119177225,
            "symbol": "circle"
           },
           "mode": "markers",
           "name": "Czechia",
           "orientation": "v",
           "showlegend": true,
           "type": "scatter",
           "x": [
            58371540000
           ],
           "xaxis": "x",
           "y": [
            322285881.6
           ],
           "yaxis": "y"
          },
          {
           "hovertemplate": "<b>%{hovertext}</b><br><br>Country=Denmark<br>Year=1999<br>GDP=%{marker.size}<br>RoadSpending=%{y}<extra></extra>",
           "hovertext": [
            "Denmark"
           ],
           "legendgroup": "Denmark",
           "marker": {
            "color": "#19d3f3",
            "size": [
             158319430000
            ],
            "sizemode": "area",
            "sizeref": 1119177225,
            "symbol": "circle"
           },
           "mode": "markers",
           "name": "Denmark",
           "orientation": "v",
           "showlegend": true,
           "type": "scatter",
           "x": [
            158319430000
           ],
           "xaxis": "x",
           "y": [
            419468502.9
           ],
           "yaxis": "y"
          },
          {
           "hovertemplate": "<b>%{hovertext}</b><br><br>Country=Estonia<br>Year=1999<br>GDP=%{marker.size}<br>RoadSpending=%{y}<extra></extra>",
           "hovertext": [
            "Estonia"
           ],
           "legendgroup": "Estonia",
           "marker": {
            "color": "#FF6692",
            "size": [
             5136190000
            ],
            "sizemode": "area",
            "sizeref": 1119177225,
            "symbol": "circle"
           },
           "mode": "markers",
           "name": "Estonia",
           "orientation": "v",
           "showlegend": true,
           "type": "scatter",
           "x": [
            5136190000
           ],
           "xaxis": "x",
           "y": [
            21000000
           ],
           "yaxis": "y"
          },
          {
           "hovertemplate": "<b>%{hovertext}</b><br><br>Country=Finland<br>Year=1999<br>GDP=%{marker.size}<br>RoadSpending=%{y}<extra></extra>",
           "hovertext": [
            "Finland"
           ],
           "legendgroup": "Finland",
           "marker": {
            "color": "#B6E880",
            "size": [
             120478410000
            ],
            "sizemode": "area",
            "sizeref": 1119177225,
            "symbol": "circle"
           },
           "mode": "markers",
           "name": "Finland",
           "orientation": "v",
           "showlegend": true,
           "type": "scatter",
           "x": [
            120478410000
           ],
           "xaxis": "x",
           "y": [
            458000000
           ],
           "yaxis": "y"
          },
          {
           "hovertemplate": "<b>%{hovertext}</b><br><br>Country=France<br>Year=1999<br>GDP=%{marker.size}<br>RoadSpending=%{y}<extra></extra>",
           "hovertext": [
            "France"
           ],
           "legendgroup": "France",
           "marker": {
            "color": "#FF97FF",
            "size": [
             1324668880000
            ],
            "sizemode": "area",
            "sizeref": 1119177225,
            "symbol": "circle"
           },
           "mode": "markers",
           "name": "France",
           "orientation": "v",
           "showlegend": true,
           "type": "scatter",
           "x": [
            1324668880000
           ],
           "xaxis": "x",
           "y": [
            10275291051
           ],
           "yaxis": "y"
          },
          {
           "hovertemplate": "<b>%{hovertext}</b><br><br>Country=Germany<br>Year=1999<br>GDP=%{marker.size}<br>RoadSpending=%{y}<extra></extra>",
           "hovertext": [
            "Germany"
           ],
           "legendgroup": "Germany",
           "marker": {
            "color": "#FECB52",
            "size": [
             1972304080000
            ],
            "sizemode": "area",
            "sizeref": 1119177225,
            "symbol": "circle"
           },
           "mode": "markers",
           "name": "Germany",
           "orientation": "v",
           "showlegend": true,
           "type": "scatter",
           "x": [
            1972304080000
           ],
           "xaxis": "x",
           "y": [
            11146000000
           ],
           "yaxis": "y"
          },
          {
           "hovertemplate": "<b>%{hovertext}</b><br><br>Country=Greece<br>Year=1999<br>GDP=%{marker.size}<br>RoadSpending=%{y}<extra></extra>",
           "hovertext": [
            "Greece"
           ],
           "legendgroup": "Greece",
           "marker": {
            "color": "#636efa",
            "size": [
             132976680000
            ],
            "sizemode": "area",
            "sizeref": 1119177225,
            "symbol": "circle"
           },
           "mode": "markers",
           "name": "Greece",
           "orientation": "v",
           "showlegend": true,
           "type": "scatter",
           "x": [
            132976680000
           ],
           "xaxis": "x",
           "y": [
            null
           ],
           "yaxis": "y"
          },
          {
           "hovertemplate": "<b>%{hovertext}</b><br><br>Country=Hungary<br>Year=1999<br>GDP=%{marker.size}<br>RoadSpending=%{y}<extra></extra>",
           "hovertext": [
            "Hungary"
           ],
           "legendgroup": "Hungary",
           "marker": {
            "color": "#EF553B",
            "size": [
             43674970000
            ],
            "sizemode": "area",
            "sizeref": 1119177225,
            "symbol": "circle"
           },
           "mode": "markers",
           "name": "Hungary",
           "orientation": "v",
           "showlegend": true,
           "type": "scatter",
           "x": [
            43674970000
           ],
           "xaxis": "x",
           "y": [
            208516741.7
           ],
           "yaxis": "y"
          },
          {
           "hovertemplate": "<b>%{hovertext}</b><br><br>Country=Ireland<br>Year=1999<br>GDP=%{marker.size}<br>RoadSpending=%{y}<extra></extra>",
           "hovertext": [
            "Ireland"
           ],
           "legendgroup": "Ireland",
           "marker": {
            "color": "#00cc96",
            "size": [
             88103770000
            ],
            "sizemode": "area",
            "sizeref": 1119177225,
            "symbol": "circle"
           },
           "mode": "markers",
           "name": "Ireland",
           "orientation": "v",
           "showlegend": true,
           "type": "scatter",
           "x": [
            88103770000
           ],
           "xaxis": "x",
           "y": [
            742000000
           ],
           "yaxis": "y"
          },
          {
           "hovertemplate": "<b>%{hovertext}</b><br><br>Country=Italy<br>Year=1999<br>GDP=%{marker.size}<br>RoadSpending=%{y}<extra></extra>",
           "hovertext": [
            "Italy"
           ],
           "legendgroup": "Italy",
           "marker": {
            "color": "#ab63fa",
            "size": [
             1118064280000
            ],
            "sizemode": "area",
            "sizeref": 1119177225,
            "symbol": "circle"
           },
           "mode": "markers",
           "name": "Italy",
           "orientation": "v",
           "showlegend": true,
           "type": "scatter",
           "x": [
            1118064280000
           ],
           "xaxis": "x",
           "y": [
            6365000000
           ],
           "yaxis": "y"
          },
          {
           "hovertemplate": "<b>%{hovertext}</b><br><br>Country=Latvia<br>Year=1999<br>GDP=%{marker.size}<br>RoadSpending=%{y}<extra></extra>",
           "hovertext": [
            "Latvia"
           ],
           "legendgroup": "Latvia",
           "marker": {
            "color": "#FFA15A",
            "size": [
             6706150000
            ],
            "sizemode": "area",
            "sizeref": 1119177225,
            "symbol": "circle"
           },
           "mode": "markers",
           "name": "Latvia",
           "orientation": "v",
           "showlegend": true,
           "type": "scatter",
           "x": [
            6706150000
           ],
           "xaxis": "x",
           "y": [
            5000000
           ],
           "yaxis": "y"
          },
          {
           "hovertemplate": "<b>%{hovertext}</b><br><br>Country=Lithuania<br>Year=1999<br>GDP=%{marker.size}<br>RoadSpending=%{y}<extra></extra>",
           "hovertext": [
            "Lithuania"
           ],
           "legendgroup": "Lithuania",
           "marker": {
            "color": "#19d3f3",
            "size": [
             9762410000
            ],
            "sizemode": "area",
            "sizeref": 1119177225,
            "symbol": "circle"
           },
           "mode": "markers",
           "name": "Lithuania",
           "orientation": "v",
           "showlegend": true,
           "type": "scatter",
           "x": [
            9762410000
           ],
           "xaxis": "x",
           "y": [
            130000000
           ],
           "yaxis": "y"
          },
          {
           "hovertemplate": "<b>%{hovertext}</b><br><br>Country=Luxembourg<br>Year=1999<br>GDP=%{marker.size}<br>RoadSpending=%{y}<extra></extra>",
           "hovertext": [
            "Luxembourg"
           ],
           "legendgroup": "Luxembourg",
           "marker": {
            "color": "#FF6692",
            "size": [
             18769210000
            ],
            "sizemode": "area",
            "sizeref": 1119177225,
            "symbol": "circle"
           },
           "mode": "markers",
           "name": "Luxembourg",
           "orientation": "v",
           "showlegend": true,
           "type": "scatter",
           "x": [
            18769210000
           ],
           "xaxis": "x",
           "y": [
            145516901.8
           ],
           "yaxis": "y"
          },
          {
           "hovertemplate": "<b>%{hovertext}</b><br><br>Country=Malta<br>Year=1999<br>GDP=%{marker.size}<br>RoadSpending=%{y}<extra></extra>",
           "hovertext": [
            "Malta"
           ],
           "legendgroup": "Malta",
           "marker": {
            "color": "#B6E880",
            "size": [
             3620519999.9999995
            ],
            "sizemode": "area",
            "sizeref": 1119177225,
            "symbol": "circle"
           },
           "mode": "markers",
           "name": "Malta",
           "orientation": "v",
           "showlegend": true,
           "type": "scatter",
           "x": [
            3620519999.9999995
           ],
           "xaxis": "x",
           "y": [
            5350175.474
           ],
           "yaxis": "y"
          },
          {
           "hovertemplate": "<b>%{hovertext}</b><br><br>Country=Netherlands<br>Year=1999<br>GDP=%{marker.size}<br>RoadSpending=%{y}<extra></extra>",
           "hovertext": [
            "Netherlands"
           ],
           "legendgroup": "Netherlands",
           "marker": {
            "color": "#FF97FF",
            "size": [
             398918470000
            ],
            "sizemode": "area",
            "sizeref": 1119177225,
            "symbol": "circle"
           },
           "mode": "markers",
           "name": "Netherlands",
           "orientation": "v",
           "showlegend": true,
           "type": "scatter",
           "x": [
            398918470000
           ],
           "xaxis": "x",
           "y": [
            1500000000
           ],
           "yaxis": "y"
          },
          {
           "hovertemplate": "<b>%{hovertext}</b><br><br>Country=Poland<br>Year=1999<br>GDP=%{marker.size}<br>RoadSpending=%{y}<extra></extra>",
           "hovertext": [
            "Poland"
           ],
           "legendgroup": "Poland",
           "marker": {
            "color": "#FECB52",
            "size": [
             149635700000
            ],
            "sizemode": "area",
            "sizeref": 1119177225,
            "symbol": "circle"
           },
           "mode": "markers",
           "name": "Poland",
           "orientation": "v",
           "showlegend": true,
           "type": "scatter",
           "x": [
            149635700000
           ],
           "xaxis": "x",
           "y": [
            296678338.2
           ],
           "yaxis": "y"
          },
          {
           "hovertemplate": "<b>%{hovertext}</b><br><br>Country=Portugal<br>Year=1999<br>GDP=%{marker.size}<br>RoadSpending=%{y}<extra></extra>",
           "hovertext": [
            "Portugal"
           ],
           "legendgroup": "Portugal",
           "marker": {
            "color": "#636efa",
            "size": [
             113561330000
            ],
            "sizemode": "area",
            "sizeref": 1119177225,
            "symbol": "circle"
           },
           "mode": "markers",
           "name": "Portugal",
           "orientation": "v",
           "showlegend": true,
           "type": "scatter",
           "x": [
            113561330000
           ],
           "xaxis": "x",
           "y": [
            552000000
           ],
           "yaxis": "y"
          },
          {
           "hovertemplate": "<b>%{hovertext}</b><br><br>Country=Romania<br>Year=1999<br>GDP=%{marker.size}<br>RoadSpending=%{y}<extra></extra>",
           "hovertext": [
            "Romania"
           ],
           "legendgroup": "Romania",
           "marker": {
            "color": "#EF553B",
            "size": [
             31998170000
            ],
            "sizemode": "area",
            "sizeref": 1119177225,
            "symbol": "circle"
           },
           "mode": "markers",
           "name": "Romania",
           "orientation": "v",
           "showlegend": true,
           "type": "scatter",
           "x": [
            31998170000
           ],
           "xaxis": "x",
           "y": [
            443271119.8
           ],
           "yaxis": "y"
          },
          {
           "hovertemplate": "<b>%{hovertext}</b><br><br>Country=Slovak Republic<br>Year=1999<br>GDP=%{marker.size}<br>RoadSpending=%{y}<extra></extra>",
           "hovertext": [
            "Slovak Republic"
           ],
           "legendgroup": "Slovak Republic",
           "marker": {
            "color": "#00cc96",
            "size": [
             18571630000
            ],
            "sizemode": "area",
            "sizeref": 1119177225,
            "symbol": "circle"
           },
           "mode": "markers",
           "name": "Slovak Republic",
           "orientation": "v",
           "showlegend": true,
           "type": "scatter",
           "x": [
            18571630000
           ],
           "xaxis": "x",
           "y": [
            204000000
           ],
           "yaxis": "y"
          },
          {
           "hovertemplate": "<b>%{hovertext}</b><br><br>Country=Slovenia<br>Year=1999<br>GDP=%{marker.size}<br>RoadSpending=%{y}<extra></extra>",
           "hovertext": [
            "Slovenia"
           ],
           "legendgroup": "Slovenia",
           "marker": {
            "color": "#ab63fa",
            "size": [
             20174520000
            ],
            "sizemode": "area",
            "sizeref": 1119177225,
            "symbol": "circle"
           },
           "mode": "markers",
           "name": "Slovenia",
           "orientation": "v",
           "showlegend": true,
           "type": "scatter",
           "x": [
            20174520000
           ],
           "xaxis": "x",
           "y": [
            352000000
           ],
           "yaxis": "y"
          },
          {
           "hovertemplate": "<b>%{hovertext}</b><br><br>Country=Spain<br>Year=1999<br>GDP=%{marker.size}<br>RoadSpending=%{y}<extra></extra>",
           "hovertext": [
            "Spain"
           ],
           "legendgroup": "Spain",
           "marker": {
            "color": "#FFA15A",
            "size": [
             565172250000
            ],
            "sizemode": "area",
            "sizeref": 1119177225,
            "symbol": "circle"
           },
           "mode": "markers",
           "name": "Spain",
           "orientation": "v",
           "showlegend": true,
           "type": "scatter",
           "x": [
            565172250000
           ],
           "xaxis": "x",
           "y": [
            4328000000
           ],
           "yaxis": "y"
          },
          {
           "hovertemplate": "<b>%{hovertext}</b><br><br>Country=Sweden<br>Year=1999<br>GDP=%{marker.size}<br>RoadSpending=%{y}<extra></extra>",
           "hovertext": [
            "Sweden"
           ],
           "legendgroup": "Sweden",
           "marker": {
            "color": "#19d3f3",
            "size": [
             244143910000.00003
            ],
            "sizemode": "area",
            "sizeref": 1119177225,
            "symbol": "circle"
           },
           "mode": "markers",
           "name": "Sweden",
           "orientation": "v",
           "showlegend": true,
           "type": "scatter",
           "x": [
            244143910000.00003
           ],
           "xaxis": "x",
           "y": [
            926199178.2
           ],
           "yaxis": "y"
          }
         ],
         "name": "1999"
        },
        {
         "data": [
          {
           "hovertemplate": "<b>%{hovertext}</b><br><br>Country=Austria<br>Year=2000<br>GDP=%{marker.size}<br>RoadSpending=%{y}<extra></extra>",
           "hovertext": [
            "Austria"
           ],
           "legendgroup": "Austria",
           "marker": {
            "color": "#636efa",
            "size": [
             175665530000
            ],
            "sizemode": "area",
            "sizeref": 1119177225,
            "symbol": "circle"
           },
           "mode": "markers",
           "name": "Austria",
           "orientation": "v",
           "showlegend": true,
           "type": "scatter",
           "x": [
            175665530000
           ],
           "xaxis": "x",
           "y": [
            475000000
           ],
           "yaxis": "y"
          },
          {
           "hovertemplate": "<b>%{hovertext}</b><br><br>Country=Belgium<br>Year=2000<br>GDP=%{marker.size}<br>RoadSpending=%{y}<extra></extra>",
           "hovertext": [
            "Belgium"
           ],
           "legendgroup": "Belgium",
           "marker": {
            "color": "#EF553B",
            "size": [
             210838330000
            ],
            "sizemode": "area",
            "sizeref": 1119177225,
            "symbol": "circle"
           },
           "mode": "markers",
           "name": "Belgium",
           "orientation": "v",
           "showlegend": true,
           "type": "scatter",
           "x": [
            210838330000
           ],
           "xaxis": "x",
           "y": [
            149000000
           ],
           "yaxis": "y"
          },
          {
           "hovertemplate": "<b>%{hovertext}</b><br><br>Country=Bulgaria<br>Year=2000<br>GDP=%{marker.size}<br>RoadSpending=%{y}<extra></extra>",
           "hovertext": [
            "Bulgaria"
           ],
           "legendgroup": "Bulgaria",
           "marker": {
            "color": "#00cc96",
            "size": [
             11788940000
            ],
            "sizemode": "area",
            "sizeref": 1119177225,
            "symbol": "circle"
           },
           "mode": "markers",
           "name": "Bulgaria",
           "orientation": "v",
           "showlegend": true,
           "type": "scatter",
           "x": [
            11788940000
           ],
           "xaxis": "x",
           "y": [
            null
           ],
           "yaxis": "y"
          },
          {
           "hovertemplate": "<b>%{hovertext}</b><br><br>Country=Croatia<br>Year=2000<br>GDP=%{marker.size}<br>RoadSpending=%{y}<extra></extra>",
           "hovertext": [
            "Croatia"
           ],
           "legendgroup": "Croatia",
           "marker": {
            "color": "#ab63fa",
            "size": [
             19702820000
            ],
            "sizemode": "area",
            "sizeref": 1119177225,
            "symbol": "circle"
           },
           "mode": "markers",
           "name": "Croatia",
           "orientation": "v",
           "showlegend": true,
           "type": "scatter",
           "x": [
            19702820000
           ],
           "xaxis": "x",
           "y": [
            308713252.4
           ],
           "yaxis": "y"
          },
          {
           "hovertemplate": "<b>%{hovertext}</b><br><br>Country=Czechia<br>Year=2000<br>GDP=%{marker.size}<br>RoadSpending=%{y}<extra></extra>",
           "hovertext": [
            "Czechia"
           ],
           "legendgroup": "Czechia",
           "marker": {
            "color": "#FFA15A",
            "size": [
             55332190000
            ],
            "sizemode": "area",
            "sizeref": 1119177225,
            "symbol": "circle"
           },
           "mode": "markers",
           "name": "Czechia",
           "orientation": "v",
           "showlegend": true,
           "type": "scatter",
           "x": [
            55332190000
           ],
           "xaxis": "x",
           "y": [
            308618742.9
           ],
           "yaxis": "y"
          },
          {
           "hovertemplate": "<b>%{hovertext}</b><br><br>Country=Denmark<br>Year=2000<br>GDP=%{marker.size}<br>RoadSpending=%{y}<extra></extra>",
           "hovertext": [
            "Denmark"
           ],
           "legendgroup": "Denmark",
           "marker": {
            "color": "#19d3f3",
            "size": [
             145998270000
            ],
            "sizemode": "area",
            "sizeref": 1119177225,
            "symbol": "circle"
           },
           "mode": "markers",
           "name": "Denmark",
           "orientation": "v",
           "showlegend": true,
           "type": "scatter",
           "x": [
            145998270000
           ],
           "xaxis": "x",
           "y": [
            454533258.2
           ],
           "yaxis": "y"
          },
          {
           "hovertemplate": "<b>%{hovertext}</b><br><br>Country=Estonia<br>Year=2000<br>GDP=%{marker.size}<br>RoadSpending=%{y}<extra></extra>",
           "hovertext": [
            "Estonia"
           ],
           "legendgroup": "Estonia",
           "marker": {
            "color": "#FF6692",
            "size": [
             5079230000
            ],
            "sizemode": "area",
            "sizeref": 1119177225,
            "symbol": "circle"
           },
           "mode": "markers",
           "name": "Estonia",
           "orientation": "v",
           "showlegend": true,
           "type": "scatter",
           "x": [
            5079230000
           ],
           "xaxis": "x",
           "y": [
            22000000
           ],
           "yaxis": "y"
          },
          {
           "hovertemplate": "<b>%{hovertext}</b><br><br>Country=Finland<br>Year=2000<br>GDP=%{marker.size}<br>RoadSpending=%{y}<extra></extra>",
           "hovertext": [
            "Finland"
           ],
           "legendgroup": "Finland",
           "marker": {
            "color": "#B6E880",
            "size": [
             112160470000
            ],
            "sizemode": "area",
            "sizeref": 1119177225,
            "symbol": "circle"
           },
           "mode": "markers",
           "name": "Finland",
           "orientation": "v",
           "showlegend": true,
           "type": "scatter",
           "x": [
            112160470000
           ],
           "xaxis": "x",
           "y": [
            488000000
           ],
           "yaxis": "y"
          },
          {
           "hovertemplate": "<b>%{hovertext}</b><br><br>Country=France<br>Year=2000<br>GDP=%{marker.size}<br>RoadSpending=%{y}<extra></extra>",
           "hovertext": [
            "France"
           ],
           "legendgroup": "France",
           "marker": {
            "color": "#FF97FF",
            "size": [
             1211788400000
            ],
            "sizemode": "area",
            "sizeref": 1119177225,
            "symbol": "circle"
           },
           "mode": "markers",
           "name": "France",
           "orientation": "v",
           "showlegend": true,
           "type": "scatter",
           "x": [
            1211788400000
           ],
           "xaxis": "x",
           "y": [
            10940364409
           ],
           "yaxis": "y"
          },
          {
           "hovertemplate": "<b>%{hovertext}</b><br><br>Country=Germany<br>Year=2000<br>GDP=%{marker.size}<br>RoadSpending=%{y}<extra></extra>",
           "hovertext": [
            "Germany"
           ],
           "legendgroup": "Germany",
           "marker": {
            "color": "#FECB52",
            "size": [
             1751386500000
            ],
            "sizemode": "area",
            "sizeref": 1119177225,
            "symbol": "circle"
           },
           "mode": "markers",
           "name": "Germany",
           "orientation": "v",
           "showlegend": true,
           "type": "scatter",
           "x": [
            1751386500000
           ],
           "xaxis": "x",
           "y": [
            11967000000
           ],
           "yaxis": "y"
          },
          {
           "hovertemplate": "<b>%{hovertext}</b><br><br>Country=Greece<br>Year=2000<br>GDP=%{marker.size}<br>RoadSpending=%{y}<extra></extra>",
           "hovertext": [
            "Greece"
           ],
           "legendgroup": "Greece",
           "marker": {
            "color": "#636efa",
            "size": [
             117656220000
            ],
            "sizemode": "area",
            "sizeref": 1119177225,
            "symbol": "circle"
           },
           "mode": "markers",
           "name": "Greece",
           "orientation": "v",
           "showlegend": true,
           "type": "scatter",
           "x": [
            117656220000
           ],
           "xaxis": "x",
           "y": [
            1402000000
           ],
           "yaxis": "y"
          },
          {
           "hovertemplate": "<b>%{hovertext}</b><br><br>Country=Hungary<br>Year=2000<br>GDP=%{marker.size}<br>RoadSpending=%{y}<extra></extra>",
           "hovertext": [
            "Hungary"
           ],
           "legendgroup": "Hungary",
           "marker": {
            "color": "#EF553B",
            "size": [
             42024020000
            ],
            "sizemode": "area",
            "sizeref": 1119177225,
            "symbol": "circle"
           },
           "mode": "markers",
           "name": "Hungary",
           "orientation": "v",
           "showlegend": true,
           "type": "scatter",
           "x": [
            42024020000
           ],
           "xaxis": "x",
           "y": [
            176594406.2
           ],
           "yaxis": "y"
          },
          {
           "hovertemplate": "<b>%{hovertext}</b><br><br>Country=Ireland<br>Year=2000<br>GDP=%{marker.size}<br>RoadSpending=%{y}<extra></extra>",
           "hovertext": [
            "Ireland"
           ],
           "legendgroup": "Ireland",
           "marker": {
            "color": "#00cc96",
            "size": [
             89225170000
            ],
            "sizemode": "area",
            "sizeref": 1119177225,
            "symbol": "circle"
           },
           "mode": "markers",
           "name": "Ireland",
           "orientation": "v",
           "showlegend": true,
           "type": "scatter",
           "x": [
            89225170000
           ],
           "xaxis": "x",
           "y": [
            893000000
           ],
           "yaxis": "y"
          },
          {
           "hovertemplate": "<b>%{hovertext}</b><br><br>Country=Italy<br>Year=2000<br>GDP=%{marker.size}<br>RoadSpending=%{y}<extra></extra>",
           "hovertext": [
            "Italy"
           ],
           "legendgroup": "Italy",
           "marker": {
            "color": "#ab63fa",
            "size": [
             1023650410000
            ],
            "sizemode": "area",
            "sizeref": 1119177225,
            "symbol": "circle"
           },
           "mode": "markers",
           "name": "Italy",
           "orientation": "v",
           "showlegend": true,
           "type": "scatter",
           "x": [
            1023650410000
           ],
           "xaxis": "x",
           "y": [
            6930000000
           ],
           "yaxis": "y"
          },
          {
           "hovertemplate": "<b>%{hovertext}</b><br><br>Country=Latvia<br>Year=2000<br>GDP=%{marker.size}<br>RoadSpending=%{y}<extra></extra>",
           "hovertext": [
            "Latvia"
           ],
           "legendgroup": "Latvia",
           "marker": {
            "color": "#FFA15A",
            "size": [
             7087070000
            ],
            "sizemode": "area",
            "sizeref": 1119177225,
            "symbol": "circle"
           },
           "mode": "markers",
           "name": "Latvia",
           "orientation": "v",
           "showlegend": true,
           "type": "scatter",
           "x": [
            7087070000
           ],
           "xaxis": "x",
           "y": [
            8000000
           ],
           "yaxis": "y"
          },
          {
           "hovertemplate": "<b>%{hovertext}</b><br><br>Country=Lithuania<br>Year=2000<br>GDP=%{marker.size}<br>RoadSpending=%{y}<extra></extra>",
           "hovertext": [
            "Lithuania"
           ],
           "legendgroup": "Lithuania",
           "marker": {
            "color": "#19d3f3",
            "size": [
             10243010000
            ],
            "sizemode": "area",
            "sizeref": 1119177225,
            "symbol": "circle"
           },
           "mode": "markers",
           "name": "Lithuania",
           "orientation": "v",
           "showlegend": true,
           "type": "scatter",
           "x": [
            10243010000
           ],
           "xaxis": "x",
           "y": [
            109000000
           ],
           "yaxis": "y"
          },
          {
           "hovertemplate": "<b>%{hovertext}</b><br><br>Country=Luxembourg<br>Year=2000<br>GDP=%{marker.size}<br>RoadSpending=%{y}<extra></extra>",
           "hovertext": [
            "Luxembourg"
           ],
           "legendgroup": "Luxembourg",
           "marker": {
            "color": "#FF6692",
            "size": [
             18903600000
            ],
            "sizemode": "area",
            "sizeref": 1119177225,
            "symbol": "circle"
           },
           "mode": "markers",
           "name": "Luxembourg",
           "orientation": "v",
           "showlegend": true,
           "type": "scatter",
           "x": [
            18903600000
           ],
           "xaxis": "x",
           "y": [
            166020801.2
           ],
           "yaxis": "y"
          },
          {
           "hovertemplate": "<b>%{hovertext}</b><br><br>Country=Malta<br>Year=2000<br>GDP=%{marker.size}<br>RoadSpending=%{y}<extra></extra>",
           "hovertext": [
            "Malta"
           ],
           "legendgroup": "Malta",
           "marker": {
            "color": "#B6E880",
            "size": [
             3825220000
            ],
            "sizemode": "area",
            "sizeref": 1119177225,
            "symbol": "circle"
           },
           "mode": "markers",
           "name": "Malta",
           "orientation": "v",
           "showlegend": true,
           "type": "scatter",
           "x": [
            3825220000
           ],
           "xaxis": "x",
           "y": [
            5690477.522
           ],
           "yaxis": "y"
          },
          {
           "hovertemplate": "<b>%{hovertext}</b><br><br>Country=Netherlands<br>Year=2000<br>GDP=%{marker.size}<br>RoadSpending=%{y}<extra></extra>",
           "hovertext": [
            "Netherlands"
           ],
           "legendgroup": "Netherlands",
           "marker": {
            "color": "#FF97FF",
            "size": [
             371872260000
            ],
            "sizemode": "area",
            "sizeref": 1119177225,
            "symbol": "circle"
           },
           "mode": "markers",
           "name": "Netherlands",
           "orientation": "v",
           "showlegend": true,
           "type": "scatter",
           "x": [
            371872260000
           ],
           "xaxis": "x",
           "y": [
            1727000000
           ],
           "yaxis": "y"
          },
          {
           "hovertemplate": "<b>%{hovertext}</b><br><br>Country=Poland<br>Year=2000<br>GDP=%{marker.size}<br>RoadSpending=%{y}<extra></extra>",
           "hovertext": [
            "Poland"
           ],
           "legendgroup": "Poland",
           "marker": {
            "color": "#FECB52",
            "size": [
             152735570000
            ],
            "sizemode": "area",
            "sizeref": 1119177225,
            "symbol": "circle"
           },
           "mode": "markers",
           "name": "Poland",
           "orientation": "v",
           "showlegend": true,
           "type": "scatter",
           "x": [
            152735570000
           ],
           "xaxis": "x",
           "y": [
            1019511952
           ],
           "yaxis": "y"
          },
          {
           "hovertemplate": "<b>%{hovertext}</b><br><br>Country=Portugal<br>Year=2000<br>GDP=%{marker.size}<br>RoadSpending=%{y}<extra></extra>",
           "hovertext": [
            "Portugal"
           ],
           "legendgroup": "Portugal",
           "marker": {
            "color": "#636efa",
            "size": [
             105605620000
            ],
            "sizemode": "area",
            "sizeref": 1119177225,
            "symbol": "circle"
           },
           "mode": "markers",
           "name": "Portugal",
           "orientation": "v",
           "showlegend": true,
           "type": "scatter",
           "x": [
            105605620000
           ],
           "xaxis": "x",
           "y": [
            961000000
           ],
           "yaxis": "y"
          },
          {
           "hovertemplate": "<b>%{hovertext}</b><br><br>Country=Romania<br>Year=2000<br>GDP=%{marker.size}<br>RoadSpending=%{y}<extra></extra>",
           "hovertext": [
            "Romania"
           ],
           "legendgroup": "Romania",
           "marker": {
            "color": "#EF553B",
            "size": [
             33327830000
            ],
            "sizemode": "area",
            "sizeref": 1119177225,
            "symbol": "circle"
           },
           "mode": "markers",
           "name": "Romania",
           "orientation": "v",
           "showlegend": true,
           "type": "scatter",
           "x": [
            33327830000
           ],
           "xaxis": "x",
           "y": [
            630549285.2
           ],
           "yaxis": "y"
          },
          {
           "hovertemplate": "<b>%{hovertext}</b><br><br>Country=Slovak Republic<br>Year=2000<br>GDP=%{marker.size}<br>RoadSpending=%{y}<extra></extra>",
           "hovertext": [
            "Slovak Republic"
           ],
           "legendgroup": "Slovak Republic",
           "marker": {
            "color": "#00cc96",
            "size": [
             18449700000
            ],
            "sizemode": "area",
            "sizeref": 1119177225,
            "symbol": "circle"
           },
           "mode": "markers",
           "name": "Slovak Republic",
           "orientation": "v",
           "showlegend": true,
           "type": "scatter",
           "x": [
            18449700000
           ],
           "xaxis": "x",
           "y": [
            227000000
           ],
           "yaxis": "y"
          },
          {
           "hovertemplate": "<b>%{hovertext}</b><br><br>Country=Slovenia<br>Year=2000<br>GDP=%{marker.size}<br>RoadSpending=%{y}<extra></extra>",
           "hovertext": [
            "Slovenia"
           ],
           "legendgroup": "Slovenia",
           "marker": {
            "color": "#ab63fa",
            "size": [
             18033180000
            ],
            "sizemode": "area",
            "sizeref": 1119177225,
            "symbol": "circle"
           },
           "mode": "markers",
           "name": "Slovenia",
           "orientation": "v",
           "showlegend": true,
           "type": "scatter",
           "x": [
            18033180000
           ],
           "xaxis": "x",
           "y": [
            372000000
           ],
           "yaxis": "y"
          },
          {
           "hovertemplate": "<b>%{hovertext}</b><br><br>Country=Spain<br>Year=2000<br>GDP=%{marker.size}<br>RoadSpending=%{y}<extra></extra>",
           "hovertext": [
            "Spain"
           ],
           "legendgroup": "Spain",
           "marker": {
            "color": "#FFA15A",
            "size": [
             532546630000
            ],
            "sizemode": "area",
            "sizeref": 1119177225,
            "symbol": "circle"
           },
           "mode": "markers",
           "name": "Spain",
           "orientation": "v",
           "showlegend": true,
           "type": "scatter",
           "x": [
            532546630000
           ],
           "xaxis": "x",
           "y": [
            4792000000
           ],
           "yaxis": "y"
          },
          {
           "hovertemplate": "<b>%{hovertext}</b><br><br>Country=Sweden<br>Year=2000<br>GDP=%{marker.size}<br>RoadSpending=%{y}<extra></extra>",
           "hovertext": [
            "Sweden"
           ],
           "legendgroup": "Sweden",
           "marker": {
            "color": "#19d3f3",
            "size": [
             233984560000
            ],
            "sizemode": "area",
            "sizeref": 1119177225,
            "symbol": "circle"
           },
           "mode": "markers",
           "name": "Sweden",
           "orientation": "v",
           "showlegend": true,
           "type": "scatter",
           "x": [
            233984560000
           ],
           "xaxis": "x",
           "y": [
            912040161.5
           ],
           "yaxis": "y"
          }
         ],
         "name": "2000"
        },
        {
         "data": [
          {
           "hovertemplate": "<b>%{hovertext}</b><br><br>Country=Austria<br>Year=2001<br>GDP=%{marker.size}<br>RoadSpending=%{y}<extra></extra>",
           "hovertext": [
            "Austria"
           ],
           "legendgroup": "Austria",
           "marker": {
            "color": "#636efa",
            "size": [
             175783900000
            ],
            "sizemode": "area",
            "sizeref": 1119177225,
            "symbol": "circle"
           },
           "mode": "markers",
           "name": "Austria",
           "orientation": "v",
           "showlegend": true,
           "type": "scatter",
           "x": [
            175783900000
           ],
           "xaxis": "x",
           "y": [
            640000000
           ],
           "yaxis": "y"
          },
          {
           "hovertemplate": "<b>%{hovertext}</b><br><br>Country=Belgium<br>Year=2001<br>GDP=%{marker.size}<br>RoadSpending=%{y}<extra></extra>",
           "hovertext": [
            "Belgium"
           ],
           "legendgroup": "Belgium",
           "marker": {
            "color": "#EF553B",
            "size": [
             210705720000
            ],
            "sizemode": "area",
            "sizeref": 1119177225,
            "symbol": "circle"
           },
           "mode": "markers",
           "name": "Belgium",
           "orientation": "v",
           "showlegend": true,
           "type": "scatter",
           "x": [
            210705720000
           ],
           "xaxis": "x",
           "y": [
            147000000
           ],
           "yaxis": "y"
          },
          {
           "hovertemplate": "<b>%{hovertext}</b><br><br>Country=Bulgaria<br>Year=2001<br>GDP=%{marker.size}<br>RoadSpending=%{y}<extra></extra>",
           "hovertext": [
            "Bulgaria"
           ],
           "legendgroup": "Bulgaria",
           "marker": {
            "color": "#00cc96",
            "size": [
             12622870000
            ],
            "sizemode": "area",
            "sizeref": 1119177225,
            "symbol": "circle"
           },
           "mode": "markers",
           "name": "Bulgaria",
           "orientation": "v",
           "showlegend": true,
           "type": "scatter",
           "x": [
            12622870000
           ],
           "xaxis": "x",
           "y": [
            null
           ],
           "yaxis": "y"
          },
          {
           "hovertemplate": "<b>%{hovertext}</b><br><br>Country=Croatia<br>Year=2001<br>GDP=%{marker.size}<br>RoadSpending=%{y}<extra></extra>",
           "hovertext": [
            "Croatia"
           ],
           "legendgroup": "Croatia",
           "marker": {
            "color": "#ab63fa",
            "size": [
             20526070000
            ],
            "sizemode": "area",
            "sizeref": 1119177225,
            "symbol": "circle"
           },
           "mode": "markers",
           "name": "Croatia",
           "orientation": "v",
           "showlegend": true,
           "type": "scatter",
           "x": [
            20526070000
           ],
           "xaxis": "x",
           "y": [
            302608003.2
           ],
           "yaxis": "y"
          },
          {
           "hovertemplate": "<b>%{hovertext}</b><br><br>Country=Czechia<br>Year=2001<br>GDP=%{marker.size}<br>RoadSpending=%{y}<extra></extra>",
           "hovertext": [
            "Czechia"
           ],
           "legendgroup": "Czechia",
           "marker": {
            "color": "#FFA15A",
            "size": [
             60641039999.99999
            ],
            "sizemode": "area",
            "sizeref": 1119177225,
            "symbol": "circle"
           },
           "mode": "markers",
           "name": "Czechia",
           "orientation": "v",
           "showlegend": true,
           "type": "scatter",
           "x": [
            60641039999.99999
           ],
           "xaxis": "x",
           "y": [
            302459964.6
           ],
           "yaxis": "y"
          },
          {
           "hovertemplate": "<b>%{hovertext}</b><br><br>Country=Denmark<br>Year=2001<br>GDP=%{marker.size}<br>RoadSpending=%{y}<extra></extra>",
           "hovertext": [
            "Denmark"
           ],
           "legendgroup": "Denmark",
           "marker": {
            "color": "#19d3f3",
            "size": [
             146744090000
            ],
            "sizemode": "area",
            "sizeref": 1119177225,
            "symbol": "circle"
           },
           "mode": "markers",
           "name": "Denmark",
           "orientation": "v",
           "showlegend": true,
           "type": "scatter",
           "x": [
            146744090000
           ],
           "xaxis": "x",
           "y": [
            497034432.8
           ],
           "yaxis": "y"
          },
          {
           "hovertemplate": "<b>%{hovertext}</b><br><br>Country=Estonia<br>Year=2001<br>GDP=%{marker.size}<br>RoadSpending=%{y}<extra></extra>",
           "hovertext": [
            "Estonia"
           ],
           "legendgroup": "Estonia",
           "marker": {
            "color": "#FF6692",
            "size": [
             5583860000
            ],
            "sizemode": "area",
            "sizeref": 1119177225,
            "symbol": "circle"
           },
           "mode": "markers",
           "name": "Estonia",
           "orientation": "v",
           "showlegend": true,
           "type": "scatter",
           "x": [
            5583860000
           ],
           "xaxis": "x",
           "y": [
            22000000
           ],
           "yaxis": "y"
          },
          {
           "hovertemplate": "<b>%{hovertext}</b><br><br>Country=Finland<br>Year=2001<br>GDP=%{marker.size}<br>RoadSpending=%{y}<extra></extra>",
           "hovertext": [
            "Finland"
           ],
           "legendgroup": "Finland",
           "marker": {
            "color": "#B6E880",
            "size": [
             115273689999.99998
            ],
            "sizemode": "area",
            "sizeref": 1119177225,
            "symbol": "circle"
           },
           "mode": "markers",
           "name": "Finland",
           "orientation": "v",
           "showlegend": true,
           "type": "scatter",
           "x": [
            115273689999.99998
           ],
           "xaxis": "x",
           "y": [
            508000000
           ],
           "yaxis": "y"
          },
          {
           "hovertemplate": "<b>%{hovertext}</b><br><br>Country=France<br>Year=2001<br>GDP=%{marker.size}<br>RoadSpending=%{y}<extra></extra>",
           "hovertext": [
            "France"
           ],
           "legendgroup": "France",
           "marker": {
            "color": "#FF97FF",
            "size": [
             1219643540000
            ],
            "sizemode": "area",
            "sizeref": 1119177225,
            "symbol": "circle"
           },
           "mode": "markers",
           "name": "France",
           "orientation": "v",
           "showlegend": true,
           "type": "scatter",
           "x": [
            1219643540000
           ],
           "xaxis": "x",
           "y": [
            10920413960
           ],
           "yaxis": "y"
          },
          {
           "hovertemplate": "<b>%{hovertext}</b><br><br>Country=Germany<br>Year=2001<br>GDP=%{marker.size}<br>RoadSpending=%{y}<extra></extra>",
           "hovertext": [
            "Germany"
           ],
           "legendgroup": "Germany",
           "marker": {
            "color": "#FECB52",
            "size": [
             1750091550000
            ],
            "sizemode": "area",
            "sizeref": 1119177225,
            "symbol": "circle"
           },
           "mode": "markers",
           "name": "Germany",
           "orientation": "v",
           "showlegend": true,
           "type": "scatter",
           "x": [
            1750091550000
           ],
           "xaxis": "x",
           "y": [
            11558000000
           ],
           "yaxis": "y"
          },
          {
           "hovertemplate": "<b>%{hovertext}</b><br><br>Country=Greece<br>Year=2001<br>GDP=%{marker.size}<br>RoadSpending=%{y}<extra></extra>",
           "hovertext": [
            "Greece"
           ],
           "legendgroup": "Greece",
           "marker": {
            "color": "#636efa",
            "size": [
             121315900000
            ],
            "sizemode": "area",
            "sizeref": 1119177225,
            "symbol": "circle"
           },
           "mode": "markers",
           "name": "Greece",
           "orientation": "v",
           "showlegend": true,
           "type": "scatter",
           "x": [
            121315900000
           ],
           "xaxis": "x",
           "y": [
            1604000000
           ],
           "yaxis": "y"
          },
          {
           "hovertemplate": "<b>%{hovertext}</b><br><br>Country=Hungary<br>Year=2001<br>GDP=%{marker.size}<br>RoadSpending=%{y}<extra></extra>",
           "hovertext": [
            "Hungary"
           ],
           "legendgroup": "Hungary",
           "marker": {
            "color": "#EF553B",
            "size": [
             47837500000
            ],
            "sizemode": "area",
            "sizeref": 1119177225,
            "symbol": "circle"
           },
           "mode": "markers",
           "name": "Hungary",
           "orientation": "v",
           "showlegend": true,
           "type": "scatter",
           "x": [
            47837500000
           ],
           "xaxis": "x",
           "y": [
            236922316.8
           ],
           "yaxis": "y"
          },
          {
           "hovertemplate": "<b>%{hovertext}</b><br><br>Country=Ireland<br>Year=2001<br>GDP=%{marker.size}<br>RoadSpending=%{y}<extra></extra>",
           "hovertext": [
            "Ireland"
           ],
           "legendgroup": "Ireland",
           "marker": {
            "color": "#00cc96",
            "size": [
             97318830000
            ],
            "sizemode": "area",
            "sizeref": 1119177225,
            "symbol": "circle"
           },
           "mode": "markers",
           "name": "Ireland",
           "orientation": "v",
           "showlegend": true,
           "type": "scatter",
           "x": [
            97318830000
           ],
           "xaxis": "x",
           "y": [
            1228000000
           ],
           "yaxis": "y"
          },
          {
           "hovertemplate": "<b>%{hovertext}</b><br><br>Country=Italy<br>Year=2001<br>GDP=%{marker.size}<br>RoadSpending=%{y}<extra></extra>",
           "hovertext": [
            "Italy"
           ],
           "legendgroup": "Italy",
           "marker": {
            "color": "#ab63fa",
            "size": [
             1043123610000
            ],
            "sizemode": "area",
            "sizeref": 1119177225,
            "symbol": "circle"
           },
           "mode": "markers",
           "name": "Italy",
           "orientation": "v",
           "showlegend": true,
           "type": "scatter",
           "x": [
            1043123610000
           ],
           "xaxis": "x",
           "y": [
            4582000000
           ],
           "yaxis": "y"
          },
          {
           "hovertemplate": "<b>%{hovertext}</b><br><br>Country=Latvia<br>Year=2001<br>GDP=%{marker.size}<br>RoadSpending=%{y}<extra></extra>",
           "hovertext": [
            "Latvia"
           ],
           "legendgroup": "Latvia",
           "marker": {
            "color": "#FFA15A",
            "size": [
             7443070000
            ],
            "sizemode": "area",
            "sizeref": 1119177225,
            "symbol": "circle"
           },
           "mode": "markers",
           "name": "Latvia",
           "orientation": "v",
           "showlegend": true,
           "type": "scatter",
           "x": [
            7443070000
           ],
           "xaxis": "x",
           "y": [
            10000000
           ],
           "yaxis": "y"
          },
          {
           "hovertemplate": "<b>%{hovertext}</b><br><br>Country=Lithuania<br>Year=2001<br>GDP=%{marker.size}<br>RoadSpending=%{y}<extra></extra>",
           "hovertext": [
            "Lithuania"
           ],
           "legendgroup": "Lithuania",
           "marker": {
            "color": "#19d3f3",
            "size": [
             10891820000
            ],
            "sizemode": "area",
            "sizeref": 1119177225,
            "symbol": "circle"
           },
           "mode": "markers",
           "name": "Lithuania",
           "orientation": "v",
           "showlegend": true,
           "type": "scatter",
           "x": [
            10891820000
           ],
           "xaxis": "x",
           "y": [
            70000000
           ],
           "yaxis": "y"
          },
          {
           "hovertemplate": "<b>%{hovertext}</b><br><br>Country=Luxembourg<br>Year=2001<br>GDP=%{marker.size}<br>RoadSpending=%{y}<extra></extra>",
           "hovertext": [
            "Luxembourg"
           ],
           "legendgroup": "Luxembourg",
           "marker": {
            "color": "#FF6692",
            "size": [
             19035320000
            ],
            "sizemode": "area",
            "sizeref": 1119177225,
            "symbol": "circle"
           },
           "mode": "markers",
           "name": "Luxembourg",
           "orientation": "v",
           "showlegend": true,
           "type": "scatter",
           "x": [
            19035320000
           ],
           "xaxis": "x",
           "y": [
            185872400.7
           ],
           "yaxis": "y"
          },
          {
           "hovertemplate": "<b>%{hovertext}</b><br><br>Country=Malta<br>Year=2001<br>GDP=%{marker.size}<br>RoadSpending=%{y}<extra></extra>",
           "hovertext": [
            "Malta"
           ],
           "legendgroup": "Malta",
           "marker": {
            "color": "#B6E880",
            "size": [
             3861710000
            ],
            "sizemode": "area",
            "sizeref": 1119177225,
            "symbol": "circle"
           },
           "mode": "markers",
           "name": "Malta",
           "orientation": "v",
           "showlegend": true,
           "type": "scatter",
           "x": [
            3861710000
           ],
           "xaxis": "x",
           "y": [
            4401961.332
           ],
           "yaxis": "y"
          },
          {
           "hovertemplate": "<b>%{hovertext}</b><br><br>Country=Netherlands<br>Year=2001<br>GDP=%{marker.size}<br>RoadSpending=%{y}<extra></extra>",
           "hovertext": [
            "Netherlands"
           ],
           "legendgroup": "Netherlands",
           "marker": {
            "color": "#FF97FF",
            "size": [
             384959710000
            ],
            "sizemode": "area",
            "sizeref": 1119177225,
            "symbol": "circle"
           },
           "mode": "markers",
           "name": "Netherlands",
           "orientation": "v",
           "showlegend": true,
           "type": "scatter",
           "x": [
            384959710000
           ],
           "xaxis": "x",
           "y": [
            1847000000
           ],
           "yaxis": "y"
          },
          {
           "hovertemplate": "<b>%{hovertext}</b><br><br>Country=Poland<br>Year=2001<br>GDP=%{marker.size}<br>RoadSpending=%{y}<extra></extra>",
           "hovertext": [
            "Poland"
           ],
           "legendgroup": "Poland",
           "marker": {
            "color": "#FECB52",
            "size": [
             169816450000
            ],
            "sizemode": "area",
            "sizeref": 1119177225,
            "symbol": "circle"
           },
           "mode": "markers",
           "name": "Poland",
           "orientation": "v",
           "showlegend": true,
           "type": "scatter",
           "x": [
            169816450000
           ],
           "xaxis": "x",
           "y": [
            1094550409
           ],
           "yaxis": "y"
          },
          {
           "hovertemplate": "<b>%{hovertext}</b><br><br>Country=Portugal<br>Year=2001<br>GDP=%{marker.size}<br>RoadSpending=%{y}<extra></extra>",
           "hovertext": [
            "Portugal"
           ],
           "legendgroup": "Portugal",
           "marker": {
            "color": "#636efa",
            "size": [
             108228450000
            ],
            "sizemode": "area",
            "sizeref": 1119177225,
            "symbol": "circle"
           },
           "mode": "markers",
           "name": "Portugal",
           "orientation": "v",
           "showlegend": true,
           "type": "scatter",
           "x": [
            108228450000
           ],
           "xaxis": "x",
           "y": [
            1685000000
           ],
           "yaxis": "y"
          },
          {
           "hovertemplate": "<b>%{hovertext}</b><br><br>Country=Romania<br>Year=2001<br>GDP=%{marker.size}<br>RoadSpending=%{y}<extra></extra>",
           "hovertext": [
            "Romania"
           ],
           "legendgroup": "Romania",
           "marker": {
            "color": "#EF553B",
            "size": [
             35952440000
            ],
            "sizemode": "area",
            "sizeref": 1119177225,
            "symbol": "circle"
           },
           "mode": "markers",
           "name": "Romania",
           "orientation": "v",
           "showlegend": true,
           "type": "scatter",
           "x": [
            35952440000
           ],
           "xaxis": "x",
           "y": [
            735486351.4
           ],
           "yaxis": "y"
          },
          {
           "hovertemplate": "<b>%{hovertext}</b><br><br>Country=Slovak Republic<br>Year=2001<br>GDP=%{marker.size}<br>RoadSpending=%{y}<extra></extra>",
           "hovertext": [
            "Slovak Republic"
           ],
           "legendgroup": "Slovak Republic",
           "marker": {
            "color": "#00cc96",
            "size": [
             19064690000
            ],
            "sizemode": "area",
            "sizeref": 1119177225,
            "symbol": "circle"
           },
           "mode": "markers",
           "name": "Slovak Republic",
           "orientation": "v",
           "showlegend": true,
           "type": "scatter",
           "x": [
            19064690000
           ],
           "xaxis": "x",
           "y": [
            201000000
           ],
           "yaxis": "y"
          },
          {
           "hovertemplate": "<b>%{hovertext}</b><br><br>Country=Slovenia<br>Year=2001<br>GDP=%{marker.size}<br>RoadSpending=%{y}<extra></extra>",
           "hovertext": [
            "Slovenia"
           ],
           "legendgroup": "Slovenia",
           "marker": {
            "color": "#ab63fa",
            "size": [
             18416770000
            ],
            "sizemode": "area",
            "sizeref": 1119177225,
            "symbol": "circle"
           },
           "mode": "markers",
           "name": "Slovenia",
           "orientation": "v",
           "showlegend": true,
           "type": "scatter",
           "x": [
            18416770000
           ],
           "xaxis": "x",
           "y": [
            284000000
           ],
           "yaxis": "y"
          },
          {
           "hovertemplate": "<b>%{hovertext}</b><br><br>Country=Spain<br>Year=2001<br>GDP=%{marker.size}<br>RoadSpending=%{y}<extra></extra>",
           "hovertext": [
            "Spain"
           ],
           "legendgroup": "Spain",
           "marker": {
            "color": "#FFA15A",
            "size": [
             558744670000
            ],
            "sizemode": "area",
            "sizeref": 1119177225,
            "symbol": "circle"
           },
           "mode": "markers",
           "name": "Spain",
           "orientation": "v",
           "showlegend": true,
           "type": "scatter",
           "x": [
            558744670000
           ],
           "xaxis": "x",
           "y": [
            5558000000
           ],
           "yaxis": "y"
          },
          {
           "hovertemplate": "<b>%{hovertext}</b><br><br>Country=Sweden<br>Year=2001<br>GDP=%{marker.size}<br>RoadSpending=%{y}<extra></extra>",
           "hovertext": [
            "Sweden"
           ],
           "legendgroup": "Sweden",
           "marker": {
            "color": "#19d3f3",
            "size": [
             215823220000
            ],
            "sizemode": "area",
            "sizeref": 1119177225,
            "symbol": "circle"
           },
           "mode": "markers",
           "name": "Sweden",
           "orientation": "v",
           "showlegend": true,
           "type": "scatter",
           "x": [
            215823220000
           ],
           "xaxis": "x",
           "y": [
            1007379237
           ],
           "yaxis": "y"
          }
         ],
         "name": "2001"
        },
        {
         "data": [
          {
           "hovertemplate": "<b>%{hovertext}</b><br><br>Country=Austria<br>Year=2002<br>GDP=%{marker.size}<br>RoadSpending=%{y}<extra></extra>",
           "hovertext": [
            "Austria"
           ],
           "legendgroup": "Austria",
           "marker": {
            "color": "#636efa",
            "size": [
             190676270000
            ],
            "sizemode": "area",
            "sizeref": 1119177225,
            "symbol": "circle"
           },
           "mode": "markers",
           "name": "Austria",
           "orientation": "v",
           "showlegend": true,
           "type": "scatter",
           "x": [
            190676270000
           ],
           "xaxis": "x",
           "y": [
            null
           ],
           "yaxis": "y"
          },
          {
           "hovertemplate": "<b>%{hovertext}</b><br><br>Country=Belgium<br>Year=2002<br>GDP=%{marker.size}<br>RoadSpending=%{y}<extra></extra>",
           "hovertext": [
            "Belgium"
           ],
           "legendgroup": "Belgium",
           "marker": {
            "color": "#EF553B",
            "size": [
             229798000000
            ],
            "sizemode": "area",
            "sizeref": 1119177225,
            "symbol": "circle"
           },
           "mode": "markers",
           "name": "Belgium",
           "orientation": "v",
           "showlegend": true,
           "type": "scatter",
           "x": [
            229798000000
           ],
           "xaxis": "x",
           "y": [
            172000000
           ],
           "yaxis": "y"
          },
          {
           "hovertemplate": "<b>%{hovertext}</b><br><br>Country=Bulgaria<br>Year=2002<br>GDP=%{marker.size}<br>RoadSpending=%{y}<extra></extra>",
           "hovertext": [
            "Bulgaria"
           ],
           "legendgroup": "Bulgaria",
           "marker": {
            "color": "#00cc96",
            "size": [
             14598669999.999998
            ],
            "sizemode": "area",
            "sizeref": 1119177225,
            "symbol": "circle"
           },
           "mode": "markers",
           "name": "Bulgaria",
           "orientation": "v",
           "showlegend": true,
           "type": "scatter",
           "x": [
            14598669999.999998
           ],
           "xaxis": "x",
           "y": [
            null
           ],
           "yaxis": "y"
          },
          {
           "hovertemplate": "<b>%{hovertext}</b><br><br>Country=Croatia<br>Year=2002<br>GDP=%{marker.size}<br>RoadSpending=%{y}<extra></extra>",
           "hovertext": [
            "Croatia"
           ],
           "legendgroup": "Croatia",
           "marker": {
            "color": "#ab63fa",
            "size": [
             23797710000
            ],
            "sizemode": "area",
            "sizeref": 1119177225,
            "symbol": "circle"
           },
           "mode": "markers",
           "name": "Croatia",
           "orientation": "v",
           "showlegend": true,
           "type": "scatter",
           "x": [
            23797710000
           ],
           "xaxis": "x",
           "y": [
            605746897.6
           ],
           "yaxis": "y"
          },
          {
           "hovertemplate": "<b>%{hovertext}</b><br><br>Country=Czechia<br>Year=2002<br>GDP=%{marker.size}<br>RoadSpending=%{y}<extra></extra>",
           "hovertext": [
            "Czechia"
           ],
           "legendgroup": "Czechia",
           "marker": {
            "color": "#FFA15A",
            "size": [
             73510440000
            ],
            "sizemode": "area",
            "sizeref": 1119177225,
            "symbol": "circle"
           },
           "mode": "markers",
           "name": "Czechia",
           "orientation": "v",
           "showlegend": true,
           "type": "scatter",
           "x": [
            73510440000
           ],
           "xaxis": "x",
           "y": [
            518284866.8
           ],
           "yaxis": "y"
          },
          {
           "hovertemplate": "<b>%{hovertext}</b><br><br>Country=Denmark<br>Year=2002<br>GDP=%{marker.size}<br>RoadSpending=%{y}<extra></extra>",
           "hovertext": [
            "Denmark"
           ],
           "legendgroup": "Denmark",
           "marker": {
            "color": "#19d3f3",
            "size": [
             159121320000
            ],
            "sizemode": "area",
            "sizeref": 1119177225,
            "symbol": "circle"
           },
           "mode": "markers",
           "name": "Denmark",
           "orientation": "v",
           "showlegend": true,
           "type": "scatter",
           "x": [
            159121320000
           ],
           "xaxis": "x",
           "y": [
            399165601.2
           ],
           "yaxis": "y"
          },
          {
           "hovertemplate": "<b>%{hovertext}</b><br><br>Country=Estonia<br>Year=2002<br>GDP=%{marker.size}<br>RoadSpending=%{y}<extra></extra>",
           "hovertext": [
            "Estonia"
           ],
           "legendgroup": "Estonia",
           "marker": {
            "color": "#FF6692",
            "size": [
             6579770000
            ],
            "sizemode": "area",
            "sizeref": 1119177225,
            "symbol": "circle"
           },
           "mode": "markers",
           "name": "Estonia",
           "orientation": "v",
           "showlegend": true,
           "type": "scatter",
           "x": [
            6579770000
           ],
           "xaxis": "x",
           "y": [
            47000000
           ],
           "yaxis": "y"
          },
          {
           "hovertemplate": "<b>%{hovertext}</b><br><br>Country=Finland<br>Year=2002<br>GDP=%{marker.size}<br>RoadSpending=%{y}<extra></extra>",
           "hovertext": [
            "Finland"
           ],
           "legendgroup": "Finland",
           "marker": {
            "color": "#B6E880",
            "size": [
             124833180000
            ],
            "sizemode": "area",
            "sizeref": 1119177225,
            "symbol": "circle"
           },
           "mode": "markers",
           "name": "Finland",
           "orientation": "v",
           "showlegend": true,
           "type": "scatter",
           "x": [
            124833180000
           ],
           "xaxis": "x",
           "y": [
            520000000
           ],
           "yaxis": "y"
          },
          {
           "hovertemplate": "<b>%{hovertext}</b><br><br>Country=France<br>Year=2002<br>GDP=%{marker.size}<br>RoadSpending=%{y}<extra></extra>",
           "hovertext": [
            "France"
           ],
           "legendgroup": "France",
           "marker": {
            "color": "#FF97FF",
            "size": [
             1327321970000
            ],
            "sizemode": "area",
            "sizeref": 1119177225,
            "symbol": "circle"
           },
           "mode": "markers",
           "name": "France",
           "orientation": "v",
           "showlegend": true,
           "type": "scatter",
           "x": [
            1327321970000
           ],
           "xaxis": "x",
           "y": [
            10345177749
           ],
           "yaxis": "y"
          },
          {
           "hovertemplate": "<b>%{hovertext}</b><br><br>Country=Germany<br>Year=2002<br>GDP=%{marker.size}<br>RoadSpending=%{y}<extra></extra>",
           "hovertext": [
            "Germany"
           ],
           "legendgroup": "Germany",
           "marker": {
            "color": "#FECB52",
            "size": [
             1869769849999.9998
            ],
            "sizemode": "area",
            "sizeref": 1119177225,
            "symbol": "circle"
           },
           "mode": "markers",
           "name": "Germany",
           "orientation": "v",
           "showlegend": true,
           "type": "scatter",
           "x": [
            1869769849999.9998
           ],
           "xaxis": "x",
           "y": [
            11595000000
           ],
           "yaxis": "y"
          },
          {
           "hovertemplate": "<b>%{hovertext}</b><br><br>Country=Greece<br>Year=2002<br>GDP=%{marker.size}<br>RoadSpending=%{y}<extra></extra>",
           "hovertext": [
            "Greece"
           ],
           "legendgroup": "Greece",
           "marker": {
            "color": "#636efa",
            "size": [
             137464950000
            ],
            "sizemode": "area",
            "sizeref": 1119177225,
            "symbol": "circle"
           },
           "mode": "markers",
           "name": "Greece",
           "orientation": "v",
           "showlegend": true,
           "type": "scatter",
           "x": [
            137464950000
           ],
           "xaxis": "x",
           "y": [
            1692000000
           ],
           "yaxis": "y"
          },
          {
           "hovertemplate": "<b>%{hovertext}</b><br><br>Country=Hungary<br>Year=2002<br>GDP=%{marker.size}<br>RoadSpending=%{y}<extra></extra>",
           "hovertext": [
            "Hungary"
           ],
           "legendgroup": "Hungary",
           "marker": {
            "color": "#EF553B",
            "size": [
             60172009999.99999
            ],
            "sizemode": "area",
            "sizeref": 1119177225,
            "symbol": "circle"
           },
           "mode": "markers",
           "name": "Hungary",
           "orientation": "v",
           "showlegend": true,
           "type": "scatter",
           "x": [
            60172009999.99999
           ],
           "xaxis": "x",
           "y": [
            283669489.2
           ],
           "yaxis": "y"
          },
          {
           "hovertemplate": "<b>%{hovertext}</b><br><br>Country=Ireland<br>Year=2002<br>GDP=%{marker.size}<br>RoadSpending=%{y}<extra></extra>",
           "hovertext": [
            "Ireland"
           ],
           "legendgroup": "Ireland",
           "marker": {
            "color": "#00cc96",
            "size": [
             114369450000
            ],
            "sizemode": "area",
            "sizeref": 1119177225,
            "symbol": "circle"
           },
           "mode": "markers",
           "name": "Ireland",
           "orientation": "v",
           "showlegend": true,
           "type": "scatter",
           "x": [
            114369450000
           ],
           "xaxis": "x",
           "y": [
            1430000000
           ],
           "yaxis": "y"
          },
          {
           "hovertemplate": "<b>%{hovertext}</b><br><br>Country=Italy<br>Year=2002<br>GDP=%{marker.size}<br>RoadSpending=%{y}<extra></extra>",
           "hovertext": [
            "Italy"
           ],
           "legendgroup": "Italy",
           "marker": {
            "color": "#ab63fa",
            "size": [
             1139947600000
            ],
            "sizemode": "area",
            "sizeref": 1119177225,
            "symbol": "circle"
           },
           "mode": "markers",
           "name": "Italy",
           "orientation": "v",
           "showlegend": true,
           "type": "scatter",
           "x": [
            1139947600000
           ],
           "xaxis": "x",
           "y": [
            5071000000
           ],
           "yaxis": "y"
          },
          {
           "hovertemplate": "<b>%{hovertext}</b><br><br>Country=Latvia<br>Year=2002<br>GDP=%{marker.size}<br>RoadSpending=%{y}<extra></extra>",
           "hovertext": [
            "Latvia"
           ],
           "legendgroup": "Latvia",
           "marker": {
            "color": "#FFA15A",
            "size": [
             8511960000
            ],
            "sizemode": "area",
            "sizeref": 1119177225,
            "symbol": "circle"
           },
           "mode": "markers",
           "name": "Latvia",
           "orientation": "v",
           "showlegend": true,
           "type": "scatter",
           "x": [
            8511960000
           ],
           "xaxis": "x",
           "y": [
            8000000
           ],
           "yaxis": "y"
          },
          {
           "hovertemplate": "<b>%{hovertext}</b><br><br>Country=Lithuania<br>Year=2002<br>GDP=%{marker.size}<br>RoadSpending=%{y}<extra></extra>",
           "hovertext": [
            "Lithuania"
           ],
           "legendgroup": "Lithuania",
           "marker": {
            "color": "#19d3f3",
            "size": [
             12692290000
            ],
            "sizemode": "area",
            "sizeref": 1119177225,
            "symbol": "circle"
           },
           "mode": "markers",
           "name": "Lithuania",
           "orientation": "v",
           "showlegend": true,
           "type": "scatter",
           "x": [
            12692290000
           ],
           "xaxis": "x",
           "y": [
            112000000
           ],
           "yaxis": "y"
          },
          {
           "hovertemplate": "<b>%{hovertext}</b><br><br>Country=Luxembourg<br>Year=2002<br>GDP=%{marker.size}<br>RoadSpending=%{y}<extra></extra>",
           "hovertext": [
            "Luxembourg"
           ],
           "legendgroup": "Luxembourg",
           "marker": {
            "color": "#FF6692",
            "size": [
             21033370000
            ],
            "sizemode": "area",
            "sizeref": 1119177225,
            "symbol": "circle"
           },
           "mode": "markers",
           "name": "Luxembourg",
           "orientation": "v",
           "showlegend": true,
           "type": "scatter",
           "x": [
            21033370000
           ],
           "xaxis": "x",
           "y": [
            212893775.4
           ],
           "yaxis": "y"
          },
          {
           "hovertemplate": "<b>%{hovertext}</b><br><br>Country=Malta<br>Year=2002<br>GDP=%{marker.size}<br>RoadSpending=%{y}<extra></extra>",
           "hovertext": [
            "Malta"
           ],
           "legendgroup": "Malta",
           "marker": {
            "color": "#B6E880",
            "size": [
             4168760000
            ],
            "sizemode": "area",
            "sizeref": 1119177225,
            "symbol": "circle"
           },
           "mode": "markers",
           "name": "Malta",
           "orientation": "v",
           "showlegend": true,
           "type": "scatter",
           "x": [
            4168760000
           ],
           "xaxis": "x",
           "y": [
            9894942.93
           ],
           "yaxis": "y"
          },
          {
           "hovertemplate": "<b>%{hovertext}</b><br><br>Country=Netherlands<br>Year=2002<br>GDP=%{marker.size}<br>RoadSpending=%{y}<extra></extra>",
           "hovertext": [
            "Netherlands"
           ],
           "legendgroup": "Netherlands",
           "marker": {
            "color": "#FF97FF",
            "size": [
             422922660000
            ],
            "sizemode": "area",
            "sizeref": 1119177225,
            "symbol": "circle"
           },
           "mode": "markers",
           "name": "Netherlands",
           "orientation": "v",
           "showlegend": true,
           "type": "scatter",
           "x": [
            422922660000
           ],
           "xaxis": "x",
           "y": [
            2279000000
           ],
           "yaxis": "y"
          },
          {
           "hovertemplate": "<b>%{hovertext}</b><br><br>Country=Poland<br>Year=2002<br>GDP=%{marker.size}<br>RoadSpending=%{y}<extra></extra>",
           "hovertext": [
            "Poland"
           ],
           "legendgroup": "Poland",
           "marker": {
            "color": "#FECB52",
            "size": [
             177172300000
            ],
            "sizemode": "area",
            "sizeref": 1119177225,
            "symbol": "circle"
           },
           "mode": "markers",
           "name": "Poland",
           "orientation": "v",
           "showlegend": true,
           "type": "scatter",
           "x": [
            177172300000
           ],
           "xaxis": "x",
           "y": [
            1035941352
           ],
           "yaxis": "y"
          },
          {
           "hovertemplate": "<b>%{hovertext}</b><br><br>Country=Portugal<br>Year=2002<br>GDP=%{marker.size}<br>RoadSpending=%{y}<extra></extra>",
           "hovertext": [
            "Portugal"
           ],
           "legendgroup": "Portugal",
           "marker": {
            "color": "#636efa",
            "size": [
             119882999999.99998
            ],
            "sizemode": "area",
            "sizeref": 1119177225,
            "symbol": "circle"
           },
           "mode": "markers",
           "name": "Portugal",
           "orientation": "v",
           "showlegend": true,
           "type": "scatter",
           "x": [
            119882999999.99998
           ],
           "xaxis": "x",
           "y": [
            1620000000
           ],
           "yaxis": "y"
          },
          {
           "hovertemplate": "<b>%{hovertext}</b><br><br>Country=Romania<br>Year=2002<br>GDP=%{marker.size}<br>RoadSpending=%{y}<extra></extra>",
           "hovertext": [
            "Romania"
           ],
           "legendgroup": "Romania",
           "marker": {
            "color": "#EF553B",
            "size": [
             40971150000
            ],
            "sizemode": "area",
            "sizeref": 1119177225,
            "symbol": "circle"
           },
           "mode": "markers",
           "name": "Romania",
           "orientation": "v",
           "showlegend": true,
           "type": "scatter",
           "x": [
            40971150000
           ],
           "xaxis": "x",
           "y": [
            634280594
           ],
           "yaxis": "y"
          },
          {
           "hovertemplate": "<b>%{hovertext}</b><br><br>Country=Slovak Republic<br>Year=2002<br>GDP=%{marker.size}<br>RoadSpending=%{y}<extra></extra>",
           "hovertext": [
            "Slovak Republic"
           ],
           "legendgroup": "Slovak Republic",
           "marker": {
            "color": "#00cc96",
            "size": [
             22150320000
            ],
            "sizemode": "area",
            "sizeref": 1119177225,
            "symbol": "circle"
           },
           "mode": "markers",
           "name": "Slovak Republic",
           "orientation": "v",
           "showlegend": true,
           "type": "scatter",
           "x": [
            22150320000
           ],
           "xaxis": "x",
           "y": [
            260000000
           ],
           "yaxis": "y"
          },
          {
           "hovertemplate": "<b>%{hovertext}</b><br><br>Country=Slovenia<br>Year=2002<br>GDP=%{marker.size}<br>RoadSpending=%{y}<extra></extra>",
           "hovertext": [
            "Slovenia"
           ],
           "legendgroup": "Slovenia",
           "marker": {
            "color": "#ab63fa",
            "size": [
             20704070000
            ],
            "sizemode": "area",
            "sizeref": 1119177225,
            "symbol": "circle"
           },
           "mode": "markers",
           "name": "Slovenia",
           "orientation": "v",
           "showlegend": true,
           "type": "scatter",
           "x": [
            20704070000
           ],
           "xaxis": "x",
           "y": [
            337000000
           ],
           "yaxis": "y"
          },
          {
           "hovertemplate": "<b>%{hovertext}</b><br><br>Country=Spain<br>Year=2002<br>GDP=%{marker.size}<br>RoadSpending=%{y}<extra></extra>",
           "hovertext": [
            "Spain"
           ],
           "legendgroup": "Spain",
           "marker": {
            "color": "#FFA15A",
            "size": [
             630508930000
            ],
            "sizemode": "area",
            "sizeref": 1119177225,
            "symbol": "circle"
           },
           "mode": "markers",
           "name": "Spain",
           "orientation": "v",
           "showlegend": true,
           "type": "scatter",
           "x": [
            630508930000
           ],
           "xaxis": "x",
           "y": [
            6874000000
           ],
           "yaxis": "y"
          },
          {
           "hovertemplate": "<b>%{hovertext}</b><br><br>Country=Sweden<br>Year=2002<br>GDP=%{marker.size}<br>RoadSpending=%{y}<extra></extra>",
           "hovertext": [
            "Sweden"
           ],
           "legendgroup": "Sweden",
           "marker": {
            "color": "#19d3f3",
            "size": [
             237961970000
            ],
            "sizemode": "area",
            "sizeref": 1119177225,
            "symbol": "circle"
           },
           "mode": "markers",
           "name": "Sweden",
           "orientation": "v",
           "showlegend": true,
           "type": "scatter",
           "x": [
            237961970000
           ],
           "xaxis": "x",
           "y": [
            1295665466
           ],
           "yaxis": "y"
          }
         ],
         "name": "2002"
        },
        {
         "data": [
          {
           "hovertemplate": "<b>%{hovertext}</b><br><br>Country=Austria<br>Year=2003<br>GDP=%{marker.size}<br>RoadSpending=%{y}<extra></extra>",
           "hovertext": [
            "Austria"
           ],
           "legendgroup": "Austria",
           "marker": {
            "color": "#636efa",
            "size": [
             233365120000.00003
            ],
            "sizemode": "area",
            "sizeref": 1119177225,
            "symbol": "circle"
           },
           "mode": "markers",
           "name": "Austria",
           "orientation": "v",
           "showlegend": true,
           "type": "scatter",
           "x": [
            233365120000.00003
           ],
           "xaxis": "x",
           "y": [
            null
           ],
           "yaxis": "y"
          },
          {
           "hovertemplate": "<b>%{hovertext}</b><br><br>Country=Belgium<br>Year=2003<br>GDP=%{marker.size}<br>RoadSpending=%{y}<extra></extra>",
           "hovertext": [
            "Belgium"
           ],
           "legendgroup": "Belgium",
           "marker": {
            "color": "#EF553B",
            "size": [
             283023560000
            ],
            "sizemode": "area",
            "sizeref": 1119177225,
            "symbol": "circle"
           },
           "mode": "markers",
           "name": "Belgium",
           "orientation": "v",
           "showlegend": true,
           "type": "scatter",
           "x": [
            283023560000
           ],
           "xaxis": "x",
           "y": [
            185000000
           ],
           "yaxis": "y"
          },
          {
           "hovertemplate": "<b>%{hovertext}</b><br><br>Country=Bulgaria<br>Year=2003<br>GDP=%{marker.size}<br>RoadSpending=%{y}<extra></extra>",
           "hovertext": [
            "Bulgaria"
           ],
           "legendgroup": "Bulgaria",
           "marker": {
            "color": "#00cc96",
            "size": [
             18819940000
            ],
            "sizemode": "area",
            "sizeref": 1119177225,
            "symbol": "circle"
           },
           "mode": "markers",
           "name": "Bulgaria",
           "orientation": "v",
           "showlegend": true,
           "type": "scatter",
           "x": [
            18819940000
           ],
           "xaxis": "x",
           "y": [
            null
           ],
           "yaxis": "y"
          },
          {
           "hovertemplate": "<b>%{hovertext}</b><br><br>Country=Croatia<br>Year=2003<br>GDP=%{marker.size}<br>RoadSpending=%{y}<extra></extra>",
           "hovertext": [
            "Croatia"
           ],
           "legendgroup": "Croatia",
           "marker": {
            "color": "#ab63fa",
            "size": [
             31371610000
            ],
            "sizemode": "area",
            "sizeref": 1119177225,
            "symbol": "circle"
           },
           "mode": "markers",
           "name": "Croatia",
           "orientation": "v",
           "showlegend": true,
           "type": "scatter",
           "x": [
            31371610000
           ],
           "xaxis": "x",
           "y": [
            1052226425
           ],
           "yaxis": "y"
          },
          {
           "hovertemplate": "<b>%{hovertext}</b><br><br>Country=Czechia<br>Year=2003<br>GDP=%{marker.size}<br>RoadSpending=%{y}<extra></extra>",
           "hovertext": [
            "Czechia"
           ],
           "legendgroup": "Czechia",
           "marker": {
            "color": "#FFA15A",
            "size": [
             89419190000
            ],
            "sizemode": "area",
            "sizeref": 1119177225,
            "symbol": "circle"
           },
           "mode": "markers",
           "name": "Czechia",
           "orientation": "v",
           "showlegend": true,
           "type": "scatter",
           "x": [
            89419190000
           ],
           "xaxis": "x",
           "y": [
            625637901.3
           ],
           "yaxis": "y"
          },
          {
           "hovertemplate": "<b>%{hovertext}</b><br><br>Country=Denmark<br>Year=2003<br>GDP=%{marker.size}<br>RoadSpending=%{y}<extra></extra>",
           "hovertext": [
            "Denmark"
           ],
           "legendgroup": "Denmark",
           "marker": {
            "color": "#19d3f3",
            "size": [
             194395580000
            ],
            "sizemode": "area",
            "sizeref": 1119177225,
            "symbol": "circle"
           },
           "mode": "markers",
           "name": "Denmark",
           "orientation": "v",
           "showlegend": true,
           "type": "scatter",
           "x": [
            194395580000
           ],
           "xaxis": "x",
           "y": [
            586620372.2
           ],
           "yaxis": "y"
          },
          {
           "hovertemplate": "<b>%{hovertext}</b><br><br>Country=Estonia<br>Year=2003<br>GDP=%{marker.size}<br>RoadSpending=%{y}<extra></extra>",
           "hovertext": [
            "Estonia"
           ],
           "legendgroup": "Estonia",
           "marker": {
            "color": "#FF6692",
            "size": [
             8805660000
            ],
            "sizemode": "area",
            "sizeref": 1119177225,
            "symbol": "circle"
           },
           "mode": "markers",
           "name": "Estonia",
           "orientation": "v",
           "showlegend": true,
           "type": "scatter",
           "x": [
            8805660000
           ],
           "xaxis": "x",
           "y": [
            48000000
           ],
           "yaxis": "y"
          },
          {
           "hovertemplate": "<b>%{hovertext}</b><br><br>Country=Finland<br>Year=2003<br>GDP=%{marker.size}<br>RoadSpending=%{y}<extra></extra>",
           "hovertext": [
            "Finland"
           ],
           "legendgroup": "Finland",
           "marker": {
            "color": "#B6E880",
            "size": [
             152697300000
            ],
            "sizemode": "area",
            "sizeref": 1119177225,
            "symbol": "circle"
           },
           "mode": "markers",
           "name": "Finland",
           "orientation": "v",
           "showlegend": true,
           "type": "scatter",
           "x": [
            152697300000
           ],
           "xaxis": "x",
           "y": [
            533000000
           ],
           "yaxis": "y"
          },
          {
           "hovertemplate": "<b>%{hovertext}</b><br><br>Country=France<br>Year=2003<br>GDP=%{marker.size}<br>RoadSpending=%{y}<extra></extra>",
           "hovertext": [
            "France"
           ],
           "legendgroup": "France",
           "marker": {
            "color": "#FF97FF",
            "size": [
             1632826930000
            ],
            "sizemode": "area",
            "sizeref": 1119177225,
            "symbol": "circle"
           },
           "mode": "markers",
           "name": "France",
           "orientation": "v",
           "showlegend": true,
           "type": "scatter",
           "x": [
            1632826930000
           ],
           "xaxis": "x",
           "y": [
            10990928004
           ],
           "yaxis": "y"
          },
          {
           "hovertemplate": "<b>%{hovertext}</b><br><br>Country=Germany<br>Year=2003<br>GDP=%{marker.size}<br>RoadSpending=%{y}<extra></extra>",
           "hovertext": [
            "Germany"
           ],
           "legendgroup": "Germany",
           "marker": {
            "color": "#FECB52",
            "size": [
             2255332090000
            ],
            "sizemode": "area",
            "sizeref": 1119177225,
            "symbol": "circle"
           },
           "mode": "markers",
           "name": "Germany",
           "orientation": "v",
           "showlegend": true,
           "type": "scatter",
           "x": [
            2255332090000
           ],
           "xaxis": "x",
           "y": [
            10790000000
           ],
           "yaxis": "y"
          },
          {
           "hovertemplate": "<b>%{hovertext}</b><br><br>Country=Greece<br>Year=2003<br>GDP=%{marker.size}<br>RoadSpending=%{y}<extra></extra>",
           "hovertext": [
            "Greece"
           ],
           "legendgroup": "Greece",
           "marker": {
            "color": "#636efa",
            "size": [
             180063910000
            ],
            "sizemode": "area",
            "sizeref": 1119177225,
            "symbol": "circle"
           },
           "mode": "markers",
           "name": "Greece",
           "orientation": "v",
           "showlegend": true,
           "type": "scatter",
           "x": [
            180063910000
           ],
           "xaxis": "x",
           "y": [
            1636000000
           ],
           "yaxis": "y"
          },
          {
           "hovertemplate": "<b>%{hovertext}</b><br><br>Country=Hungary<br>Year=2003<br>GDP=%{marker.size}<br>RoadSpending=%{y}<extra></extra>",
           "hovertext": [
            "Hungary"
           ],
           "legendgroup": "Hungary",
           "marker": {
            "color": "#EF553B",
            "size": [
             75903650000
            ],
            "sizemode": "area",
            "sizeref": 1119177225,
            "symbol": "circle"
           },
           "mode": "markers",
           "name": "Hungary",
           "orientation": "v",
           "showlegend": true,
           "type": "scatter",
           "x": [
            75903650000
           ],
           "xaxis": "x",
           "y": [
            242685340.2
           ],
           "yaxis": "y"
          },
          {
           "hovertemplate": "<b>%{hovertext}</b><br><br>Country=Ireland<br>Year=2003<br>GDP=%{marker.size}<br>RoadSpending=%{y}<extra></extra>",
           "hovertext": [
            "Ireland"
           ],
           "legendgroup": "Ireland",
           "marker": {
            "color": "#00cc96",
            "size": [
             146520700000
            ],
            "sizemode": "area",
            "sizeref": 1119177225,
            "symbol": "circle"
           },
           "mode": "markers",
           "name": "Ireland",
           "orientation": "v",
           "showlegend": true,
           "type": "scatter",
           "x": [
            146520700000
           ],
           "xaxis": "x",
           "y": [
            1516000000
           ],
           "yaxis": "y"
          },
          {
           "hovertemplate": "<b>%{hovertext}</b><br><br>Country=Italy<br>Year=2003<br>GDP=%{marker.size}<br>RoadSpending=%{y}<extra></extra>",
           "hovertext": [
            "Italy"
           ],
           "legendgroup": "Italy",
           "marker": {
            "color": "#ab63fa",
            "size": [
             1408455260000
            ],
            "sizemode": "area",
            "sizeref": 1119177225,
            "symbol": "circle"
           },
           "mode": "markers",
           "name": "Italy",
           "orientation": "v",
           "showlegend": true,
           "type": "scatter",
           "x": [
            1408455260000
           ],
           "xaxis": "x",
           "y": [
            6874000000
           ],
           "yaxis": "y"
          },
          {
           "hovertemplate": "<b>%{hovertext}</b><br><br>Country=Latvia<br>Year=2003<br>GDP=%{marker.size}<br>RoadSpending=%{y}<extra></extra>",
           "hovertext": [
            "Latvia"
           ],
           "legendgroup": "Latvia",
           "marker": {
            "color": "#FFA15A",
            "size": [
             10481530000
            ],
            "sizemode": "area",
            "sizeref": 1119177225,
            "symbol": "circle"
           },
           "mode": "markers",
           "name": "Latvia",
           "orientation": "v",
           "showlegend": true,
           "type": "scatter",
           "x": [
            10481530000
           ],
           "xaxis": "x",
           "y": [
            46000000
           ],
           "yaxis": "y"
          },
          {
           "hovertemplate": "<b>%{hovertext}</b><br><br>Country=Lithuania<br>Year=2003<br>GDP=%{marker.size}<br>RoadSpending=%{y}<extra></extra>",
           "hovertext": [
            "Lithuania"
           ],
           "legendgroup": "Lithuania",
           "marker": {
            "color": "#19d3f3",
            "size": [
             16710640000
            ],
            "sizemode": "area",
            "sizeref": 1119177225,
            "symbol": "circle"
           },
           "mode": "markers",
           "name": "Lithuania",
           "orientation": "v",
           "showlegend": true,
           "type": "scatter",
           "x": [
            16710640000
           ],
           "xaxis": "x",
           "y": [
            142000000
           ],
           "yaxis": "y"
          },
          {
           "hovertemplate": "<b>%{hovertext}</b><br><br>Country=Luxembourg<br>Year=2003<br>GDP=%{marker.size}<br>RoadSpending=%{y}<extra></extra>",
           "hovertext": [
            "Luxembourg"
           ],
           "legendgroup": "Luxembourg",
           "marker": {
            "color": "#FF6692",
            "size": [
             26397400000
            ],
            "sizemode": "area",
            "sizeref": 1119177225,
            "symbol": "circle"
           },
           "mode": "markers",
           "name": "Luxembourg",
           "orientation": "v",
           "showlegend": true,
           "type": "scatter",
           "x": [
            26397400000
           ],
           "xaxis": "x",
           "y": [
            188405582
           ],
           "yaxis": "y"
          },
          {
           "hovertemplate": "<b>%{hovertext}</b><br><br>Country=Malta<br>Year=2003<br>GDP=%{marker.size}<br>RoadSpending=%{y}<extra></extra>",
           "hovertext": [
            "Malta"
           ],
           "legendgroup": "Malta",
           "marker": {
            "color": "#B6E880",
            "size": [
             4863850000
            ],
            "sizemode": "area",
            "sizeref": 1119177225,
            "symbol": "circle"
           },
           "mode": "markers",
           "name": "Malta",
           "orientation": "v",
           "showlegend": true,
           "type": "scatter",
           "x": [
            4863850000
           ],
           "xaxis": "x",
           "y": [
            8030705.8
           ],
           "yaxis": "y"
          },
          {
           "hovertemplate": "<b>%{hovertext}</b><br><br>Country=Netherlands<br>Year=2003<br>GDP=%{marker.size}<br>RoadSpending=%{y}<extra></extra>",
           "hovertext": [
            "Netherlands"
           ],
           "legendgroup": "Netherlands",
           "marker": {
            "color": "#FF97FF",
            "size": [
             518238100000
            ],
            "sizemode": "area",
            "sizeref": 1119177225,
            "symbol": "circle"
           },
           "mode": "markers",
           "name": "Netherlands",
           "orientation": "v",
           "showlegend": true,
           "type": "scatter",
           "x": [
            518238100000
           ],
           "xaxis": "x",
           "y": [
            2328000000
           ],
           "yaxis": "y"
          },
          {
           "hovertemplate": "<b>%{hovertext}</b><br><br>Country=Poland<br>Year=2003<br>GDP=%{marker.size}<br>RoadSpending=%{y}<extra></extra>",
           "hovertext": [
            "Poland"
           ],
           "legendgroup": "Poland",
           "marker": {
            "color": "#FECB52",
            "size": [
             193867810000
            ],
            "sizemode": "area",
            "sizeref": 1119177225,
            "symbol": "circle"
           },
           "mode": "markers",
           "name": "Poland",
           "orientation": "v",
           "showlegend": true,
           "type": "scatter",
           "x": [
            193867810000
           ],
           "xaxis": "x",
           "y": [
            1010617739
           ],
           "yaxis": "y"
          },
          {
           "hovertemplate": "<b>%{hovertext}</b><br><br>Country=Portugal<br>Year=2003<br>GDP=%{marker.size}<br>RoadSpending=%{y}<extra></extra>",
           "hovertext": [
            "Portugal"
           ],
           "legendgroup": "Portugal",
           "marker": {
            "color": "#636efa",
            "size": [
             147014650000
            ],
            "sizemode": "area",
            "sizeref": 1119177225,
            "symbol": "circle"
           },
           "mode": "markers",
           "name": "Portugal",
           "orientation": "v",
           "showlegend": true,
           "type": "scatter",
           "x": [
            147014650000
           ],
           "xaxis": "x",
           "y": [
            1537000000
           ],
           "yaxis": "y"
          },
          {
           "hovertemplate": "<b>%{hovertext}</b><br><br>Country=Romania<br>Year=2003<br>GDP=%{marker.size}<br>RoadSpending=%{y}<extra></extra>",
           "hovertext": [
            "Romania"
           ],
           "legendgroup": "Romania",
           "marker": {
            "color": "#EF553B",
            "size": [
             51433100000
            ],
            "sizemode": "area",
            "sizeref": 1119177225,
            "symbol": "circle"
           },
           "mode": "markers",
           "name": "Romania",
           "orientation": "v",
           "showlegend": true,
           "type": "scatter",
           "x": [
            51433100000
           ],
           "xaxis": "x",
           "y": [
            707380083.6
           ],
           "yaxis": "y"
          },
          {
           "hovertemplate": "<b>%{hovertext}</b><br><br>Country=Slovak Republic<br>Year=2003<br>GDP=%{marker.size}<br>RoadSpending=%{y}<extra></extra>",
           "hovertext": [
            "Slovak Republic"
           ],
           "legendgroup": "Slovak Republic",
           "marker": {
            "color": "#00cc96",
            "size": [
             30335650000
            ],
            "sizemode": "area",
            "sizeref": 1119177225,
            "symbol": "circle"
           },
           "mode": "markers",
           "name": "Slovak Republic",
           "orientation": "v",
           "showlegend": true,
           "type": "scatter",
           "x": [
            30335650000
           ],
           "xaxis": "x",
           "y": [
            210000000
           ],
           "yaxis": "y"
          },
          {
           "hovertemplate": "<b>%{hovertext}</b><br><br>Country=Slovenia<br>Year=2003<br>GDP=%{marker.size}<br>RoadSpending=%{y}<extra></extra>",
           "hovertext": [
            "Slovenia"
           ],
           "legendgroup": "Slovenia",
           "marker": {
            "color": "#ab63fa",
            "size": [
             26165110000
            ],
            "sizemode": "area",
            "sizeref": 1119177225,
            "symbol": "circle"
           },
           "mode": "markers",
           "name": "Slovenia",
           "orientation": "v",
           "showlegend": true,
           "type": "scatter",
           "x": [
            26165110000
           ],
           "xaxis": "x",
           "y": [
            470000000
           ],
           "yaxis": "y"
          },
          {
           "hovertemplate": "<b>%{hovertext}</b><br><br>Country=Spain<br>Year=2003<br>GDP=%{marker.size}<br>RoadSpending=%{y}<extra></extra>",
           "hovertext": [
            "Spain"
           ],
           "legendgroup": "Spain",
           "marker": {
            "color": "#FFA15A",
            "size": [
             807885040000
            ],
            "sizemode": "area",
            "sizeref": 1119177225,
            "symbol": "circle"
           },
           "mode": "markers",
           "name": "Spain",
           "orientation": "v",
           "showlegend": true,
           "type": "scatter",
           "x": [
            807885040000
           ],
           "xaxis": "x",
           "y": [
            7321000000
           ],
           "yaxis": "y"
          },
          {
           "hovertemplate": "<b>%{hovertext}</b><br><br>Country=Sweden<br>Year=2003<br>GDP=%{marker.size}<br>RoadSpending=%{y}<extra></extra>",
           "hovertext": [
            "Sweden"
           ],
           "legendgroup": "Sweden",
           "marker": {
            "color": "#19d3f3",
            "size": [
             297325860000
            ],
            "sizemode": "area",
            "sizeref": 1119177225,
            "symbol": "circle"
           },
           "mode": "markers",
           "name": "Sweden",
           "orientation": "v",
           "showlegend": true,
           "type": "scatter",
           "x": [
            297325860000
           ],
           "xaxis": "x",
           "y": [
            1399105695
           ],
           "yaxis": "y"
          }
         ],
         "name": "2003"
        },
        {
         "data": [
          {
           "hovertemplate": "<b>%{hovertext}</b><br><br>Country=Austria<br>Year=2004<br>GDP=%{marker.size}<br>RoadSpending=%{y}<extra></extra>",
           "hovertext": [
            "Austria"
           ],
           "legendgroup": "Austria",
           "marker": {
            "color": "#636efa",
            "size": [
             268175690000
            ],
            "sizemode": "area",
            "sizeref": 1119177225,
            "symbol": "circle"
           },
           "mode": "markers",
           "name": "Austria",
           "orientation": "v",
           "showlegend": true,
           "type": "scatter",
           "x": [
            268175690000
           ],
           "xaxis": "x",
           "y": [
            null
           ],
           "yaxis": "y"
          },
          {
           "hovertemplate": "<b>%{hovertext}</b><br><br>Country=Belgium<br>Year=2004<br>GDP=%{marker.size}<br>RoadSpending=%{y}<extra></extra>",
           "hovertext": [
            "Belgium"
           ],
           "legendgroup": "Belgium",
           "marker": {
            "color": "#EF553B",
            "size": [
             328451830000
            ],
            "sizemode": "area",
            "sizeref": 1119177225,
            "symbol": "circle"
           },
           "mode": "markers",
           "name": "Belgium",
           "orientation": "v",
           "showlegend": true,
           "type": "scatter",
           "x": [
            328451830000
           ],
           "xaxis": "x",
           "y": [
            156000000
           ],
           "yaxis": "y"
          },
          {
           "hovertemplate": "<b>%{hovertext}</b><br><br>Country=Bulgaria<br>Year=2004<br>GDP=%{marker.size}<br>RoadSpending=%{y}<extra></extra>",
           "hovertext": [
            "Bulgaria"
           ],
           "legendgroup": "Bulgaria",
           "marker": {
            "color": "#00cc96",
            "size": [
             23280620000
            ],
            "sizemode": "area",
            "sizeref": 1119177225,
            "symbol": "circle"
           },
           "mode": "markers",
           "name": "Bulgaria",
           "orientation": "v",
           "showlegend": true,
           "type": "scatter",
           "x": [
            23280620000
           ],
           "xaxis": "x",
           "y": [
            null
           ],
           "yaxis": "y"
          },
          {
           "hovertemplate": "<b>%{hovertext}</b><br><br>Country=Croatia<br>Year=2004<br>GDP=%{marker.size}<br>RoadSpending=%{y}<extra></extra>",
           "hovertext": [
            "Croatia"
           ],
           "legendgroup": "Croatia",
           "marker": {
            "color": "#ab63fa",
            "size": [
             37234040000
            ],
            "sizemode": "area",
            "sizeref": 1119177225,
            "symbol": "circle"
           },
           "mode": "markers",
           "name": "Croatia",
           "orientation": "v",
           "showlegend": true,
           "type": "scatter",
           "x": [
            37234040000
           ],
           "xaxis": "x",
           "y": [
            872254296.9
           ],
           "yaxis": "y"
          },
          {
           "hovertemplate": "<b>%{hovertext}</b><br><br>Country=Czechia<br>Year=2004<br>GDP=%{marker.size}<br>RoadSpending=%{y}<extra></extra>",
           "hovertext": [
            "Czechia"
           ],
           "legendgroup": "Czechia",
           "marker": {
            "color": "#FFA15A",
            "size": [
             106931720000
            ],
            "sizemode": "area",
            "sizeref": 1119177225,
            "symbol": "circle"
           },
           "mode": "markers",
           "name": "Czechia",
           "orientation": "v",
           "showlegend": true,
           "type": "scatter",
           "x": [
            106931720000
           ],
           "xaxis": "x",
           "y": [
            1031226395
           ],
           "yaxis": "y"
          },
          {
           "hovertemplate": "<b>%{hovertext}</b><br><br>Country=Denmark<br>Year=2004<br>GDP=%{marker.size}<br>RoadSpending=%{y}<extra></extra>",
           "hovertext": [
            "Denmark"
           ],
           "legendgroup": "Denmark",
           "marker": {
            "color": "#19d3f3",
            "size": [
             224269320000
            ],
            "sizemode": "area",
            "sizeref": 1119177225,
            "symbol": "circle"
           },
           "mode": "markers",
           "name": "Denmark",
           "orientation": "v",
           "showlegend": true,
           "type": "scatter",
           "x": [
            224269320000
           ],
           "xaxis": "x",
           "y": [
            727832363.3
           ],
           "yaxis": "y"
          },
          {
           "hovertemplate": "<b>%{hovertext}</b><br><br>Country=Estonia<br>Year=2004<br>GDP=%{marker.size}<br>RoadSpending=%{y}<extra></extra>",
           "hovertext": [
            "Estonia"
           ],
           "legendgroup": "Estonia",
           "marker": {
            "color": "#FF6692",
            "size": [
             10823290000
            ],
            "sizemode": "area",
            "sizeref": 1119177225,
            "symbol": "circle"
           },
           "mode": "markers",
           "name": "Estonia",
           "orientation": "v",
           "showlegend": true,
           "type": "scatter",
           "x": [
            10823290000
           ],
           "xaxis": "x",
           "y": [
            56000000
           ],
           "yaxis": "y"
          },
          {
           "hovertemplate": "<b>%{hovertext}</b><br><br>Country=Finland<br>Year=2004<br>GDP=%{marker.size}<br>RoadSpending=%{y}<extra></extra>",
           "hovertext": [
            "Finland"
           ],
           "legendgroup": "Finland",
           "marker": {
            "color": "#B6E880",
            "size": [
             175658410000
            ],
            "sizemode": "area",
            "sizeref": 1119177225,
            "symbol": "circle"
           },
           "mode": "markers",
           "name": "Finland",
           "orientation": "v",
           "showlegend": true,
           "type": "scatter",
           "x": [
            175658410000
           ],
           "xaxis": "x",
           "y": [
            599000000
           ],
           "yaxis": "y"
          },
          {
           "hovertemplate": "<b>%{hovertext}</b><br><br>Country=France<br>Year=2004<br>GDP=%{marker.size}<br>RoadSpending=%{y}<extra></extra>",
           "hovertext": [
            "France"
           ],
           "legendgroup": "France",
           "marker": {
            "color": "#FF97FF",
            "size": [
             1876863150000
            ],
            "sizemode": "area",
            "sizeref": 1119177225,
            "symbol": "circle"
           },
           "mode": "markers",
           "name": "France",
           "orientation": "v",
           "showlegend": true,
           "type": "scatter",
           "x": [
            1876863150000
           ],
           "xaxis": "x",
           "y": [
            11526363522
           ],
           "yaxis": "y"
          },
          {
           "hovertemplate": "<b>%{hovertext}</b><br><br>Country=Germany<br>Year=2004<br>GDP=%{marker.size}<br>RoadSpending=%{y}<extra></extra>",
           "hovertext": [
            "Germany"
           ],
           "legendgroup": "Germany",
           "marker": {
            "color": "#FECB52",
            "size": [
             2537410470000
            ],
            "sizemode": "area",
            "sizeref": 1119177225,
            "symbol": "circle"
           },
           "mode": "markers",
           "name": "Germany",
           "orientation": "v",
           "showlegend": true,
           "type": "scatter",
           "x": [
            2537410470000
           ],
           "xaxis": "x",
           "y": [
            10710000000
           ],
           "yaxis": "y"
          },
          {
           "hovertemplate": "<b>%{hovertext}</b><br><br>Country=Greece<br>Year=2004<br>GDP=%{marker.size}<br>RoadSpending=%{y}<extra></extra>",
           "hovertext": [
            "Greece"
           ],
           "legendgroup": "Greece",
           "marker": {
            "color": "#636efa",
            "size": [
             214360060000
            ],
            "sizemode": "area",
            "sizeref": 1119177225,
            "symbol": "circle"
           },
           "mode": "markers",
           "name": "Greece",
           "orientation": "v",
           "showlegend": true,
           "type": "scatter",
           "x": [
            214360060000
           ],
           "xaxis": "x",
           "y": [
            1507000000
           ],
           "yaxis": "y"
          },
          {
           "hovertemplate": "<b>%{hovertext}</b><br><br>Country=Hungary<br>Year=2004<br>GDP=%{marker.size}<br>RoadSpending=%{y}<extra></extra>",
           "hovertext": [
            "Hungary"
           ],
           "legendgroup": "Hungary",
           "marker": {
            "color": "#EF553B",
            "size": [
             92667690000
            ],
            "sizemode": "area",
            "sizeref": 1119177225,
            "symbol": "circle"
           },
           "mode": "markers",
           "name": "Hungary",
           "orientation": "v",
           "showlegend": true,
           "type": "scatter",
           "x": [
            92667690000
           ],
           "xaxis": "x",
           "y": [
            1426659915
           ],
           "yaxis": "y"
          },
          {
           "hovertemplate": "<b>%{hovertext}</b><br><br>Country=Ireland<br>Year=2004<br>GDP=%{marker.size}<br>RoadSpending=%{y}<extra></extra>",
           "hovertext": [
            "Ireland"
           ],
           "legendgroup": "Ireland",
           "marker": {
            "color": "#00cc96",
            "size": [
             172911870000
            ],
            "sizemode": "area",
            "sizeref": 1119177225,
            "symbol": "circle"
           },
           "mode": "markers",
           "name": "Ireland",
           "orientation": "v",
           "showlegend": true,
           "type": "scatter",
           "x": [
            172911870000
           ],
           "xaxis": "x",
           "y": [
            1562000000
           ],
           "yaxis": "y"
          },
          {
           "hovertemplate": "<b>%{hovertext}</b><br><br>Country=Italy<br>Year=2004<br>GDP=%{marker.size}<br>RoadSpending=%{y}<extra></extra>",
           "hovertext": [
            "Italy"
           ],
           "legendgroup": "Italy",
           "marker": {
            "color": "#ab63fa",
            "size": [
             1612668430000
            ],
            "sizemode": "area",
            "sizeref": 1119177225,
            "symbol": "circle"
           },
           "mode": "markers",
           "name": "Italy",
           "orientation": "v",
           "showlegend": true,
           "type": "scatter",
           "x": [
            1612668430000
           ],
           "xaxis": "x",
           "y": [
            7572000000
           ],
           "yaxis": "y"
          },
          {
           "hovertemplate": "<b>%{hovertext}</b><br><br>Country=Latvia<br>Year=2004<br>GDP=%{marker.size}<br>RoadSpending=%{y}<extra></extra>",
           "hovertext": [
            "Latvia"
           ],
           "legendgroup": "Latvia",
           "marker": {
            "color": "#FFA15A",
            "size": [
             12851600000
            ],
            "sizemode": "area",
            "sizeref": 1119177225,
            "symbol": "circle"
           },
           "mode": "markers",
           "name": "Latvia",
           "orientation": "v",
           "showlegend": true,
           "type": "scatter",
           "x": [
            12851600000
           ],
           "xaxis": "x",
           "y": [
            55000000
           ],
           "yaxis": "y"
          },
          {
           "hovertemplate": "<b>%{hovertext}</b><br><br>Country=Lithuania<br>Year=2004<br>GDP=%{marker.size}<br>RoadSpending=%{y}<extra></extra>",
           "hovertext": [
            "Lithuania"
           ],
           "legendgroup": "Lithuania",
           "marker": {
            "color": "#19d3f3",
            "size": [
             20096200000
            ],
            "sizemode": "area",
            "sizeref": 1119177225,
            "symbol": "circle"
           },
           "mode": "markers",
           "name": "Lithuania",
           "orientation": "v",
           "showlegend": true,
           "type": "scatter",
           "x": [
            20096200000
           ],
           "xaxis": "x",
           "y": [
            137000000
           ],
           "yaxis": "y"
          },
          {
           "hovertemplate": "<b>%{hovertext}</b><br><br>Country=Luxembourg<br>Year=2004<br>GDP=%{marker.size}<br>RoadSpending=%{y}<extra></extra>",
           "hovertext": [
            "Luxembourg"
           ],
           "legendgroup": "Luxembourg",
           "marker": {
            "color": "#FF6692",
            "size": [
             31193610000
            ],
            "sizemode": "area",
            "sizeref": 1119177225,
            "symbol": "circle"
           },
           "mode": "markers",
           "name": "Luxembourg",
           "orientation": "v",
           "showlegend": true,
           "type": "scatter",
           "x": [
            31193610000
           ],
           "xaxis": "x",
           "y": [
            135202789.9
           ],
           "yaxis": "y"
          },
          {
           "hovertemplate": "<b>%{hovertext}</b><br><br>Country=Malta<br>Year=2004<br>GDP=%{marker.size}<br>RoadSpending=%{y}<extra></extra>",
           "hovertext": [
            "Malta"
           ],
           "legendgroup": "Malta",
           "marker": {
            "color": "#B6E880",
            "size": [
             5453920000
            ],
            "sizemode": "area",
            "sizeref": 1119177225,
            "symbol": "circle"
           },
           "mode": "markers",
           "name": "Malta",
           "orientation": "v",
           "showlegend": true,
           "type": "scatter",
           "x": [
            5453920000
           ],
           "xaxis": "x",
           "y": [
            13928687.58
           ],
           "yaxis": "y"
          },
          {
           "hovertemplate": "<b>%{hovertext}</b><br><br>Country=Netherlands<br>Year=2004<br>GDP=%{marker.size}<br>RoadSpending=%{y}<extra></extra>",
           "hovertext": [
            "Netherlands"
           ],
           "legendgroup": "Netherlands",
           "marker": {
            "color": "#FF97FF",
            "size": [
             588223250000
            ],
            "sizemode": "area",
            "sizeref": 1119177225,
            "symbol": "circle"
           },
           "mode": "markers",
           "name": "Netherlands",
           "orientation": "v",
           "showlegend": true,
           "type": "scatter",
           "x": [
            588223250000
           ],
           "xaxis": "x",
           "y": [
            2334000000
           ],
           "yaxis": "y"
          },
          {
           "hovertemplate": "<b>%{hovertext}</b><br><br>Country=Poland<br>Year=2004<br>GDP=%{marker.size}<br>RoadSpending=%{y}<extra></extra>",
           "hovertext": [
            "Poland"
           ],
           "legendgroup": "Poland",
           "marker": {
            "color": "#FECB52",
            "size": [
             227209880000
            ],
            "sizemode": "area",
            "sizeref": 1119177225,
            "symbol": "circle"
           },
           "mode": "markers",
           "name": "Poland",
           "orientation": "v",
           "showlegend": true,
           "type": "scatter",
           "x": [
            227209880000
           ],
           "xaxis": "x",
           "y": [
            1235382375
           ],
           "yaxis": "y"
          },
          {
           "hovertemplate": "<b>%{hovertext}</b><br><br>Country=Portugal<br>Year=2004<br>GDP=%{marker.size}<br>RoadSpending=%{y}<extra></extra>",
           "hovertext": [
            "Portugal"
           ],
           "legendgroup": "Portugal",
           "marker": {
            "color": "#636efa",
            "size": [
             168473440000
            ],
            "sizemode": "area",
            "sizeref": 1119177225,
            "symbol": "circle"
           },
           "mode": "markers",
           "name": "Portugal",
           "orientation": "v",
           "showlegend": true,
           "type": "scatter",
           "x": [
            168473440000
           ],
           "xaxis": "x",
           "y": [
            1933000000
           ],
           "yaxis": "y"
          },
          {
           "hovertemplate": "<b>%{hovertext}</b><br><br>Country=Romania<br>Year=2004<br>GDP=%{marker.size}<br>RoadSpending=%{y}<extra></extra>",
           "hovertext": [
            "Romania"
           ],
           "legendgroup": "Romania",
           "marker": {
            "color": "#EF553B",
            "size": [
             66802510000
            ],
            "sizemode": "area",
            "sizeref": 1119177225,
            "symbol": "circle"
           },
           "mode": "markers",
           "name": "Romania",
           "orientation": "v",
           "showlegend": true,
           "type": "scatter",
           "x": [
            66802510000
           ],
           "xaxis": "x",
           "y": [
            1094879704
           ],
           "yaxis": "y"
          },
          {
           "hovertemplate": "<b>%{hovertext}</b><br><br>Country=Slovak Republic<br>Year=2004<br>GDP=%{marker.size}<br>RoadSpending=%{y}<extra></extra>",
           "hovertext": [
            "Slovak Republic"
           ],
           "legendgroup": "Slovak Republic",
           "marker": {
            "color": "#00cc96",
            "size": [
             38439100000
            ],
            "sizemode": "area",
            "sizeref": 1119177225,
            "symbol": "circle"
           },
           "mode": "markers",
           "name": "Slovak Republic",
           "orientation": "v",
           "showlegend": true,
           "type": "scatter",
           "x": [
            38439100000
           ],
           "xaxis": "x",
           "y": [
            240000000
           ],
           "yaxis": "y"
          },
          {
           "hovertemplate": "<b>%{hovertext}</b><br><br>Country=Slovenia<br>Year=2004<br>GDP=%{marker.size}<br>RoadSpending=%{y}<extra></extra>",
           "hovertext": [
            "Slovenia"
           ],
           "legendgroup": "Slovenia",
           "marker": {
            "color": "#ab63fa",
            "size": [
             30429099999.999996
            ],
            "sizemode": "area",
            "sizeref": 1119177225,
            "symbol": "circle"
           },
           "mode": "markers",
           "name": "Slovenia",
           "orientation": "v",
           "showlegend": true,
           "type": "scatter",
           "x": [
            30429099999.999996
           ],
           "xaxis": "x",
           "y": [
            496000000
           ],
           "yaxis": "y"
          },
          {
           "hovertemplate": "<b>%{hovertext}</b><br><br>Country=Spain<br>Year=2004<br>GDP=%{marker.size}<br>RoadSpending=%{y}<extra></extra>",
           "hovertext": [
            "Spain"
           ],
           "legendgroup": "Spain",
           "marker": {
            "color": "#FFA15A",
            "size": [
             951716160000
            ],
            "sizemode": "area",
            "sizeref": 1119177225,
            "symbol": "circle"
           },
           "mode": "markers",
           "name": "Spain",
           "orientation": "v",
           "showlegend": true,
           "type": "scatter",
           "x": [
            951716160000
           ],
           "xaxis": "x",
           "y": [
            7244000000
           ],
           "yaxis": "y"
          },
          {
           "hovertemplate": "<b>%{hovertext}</b><br><br>Country=Sweden<br>Year=2004<br>GDP=%{marker.size}<br>RoadSpending=%{y}<extra></extra>",
           "hovertext": [
            "Sweden"
           ],
           "legendgroup": "Sweden",
           "marker": {
            "color": "#19d3f3",
            "size": [
             342247720000
            ],
            "sizemode": "area",
            "sizeref": 1119177225,
            "symbol": "circle"
           },
           "mode": "markers",
           "name": "Sweden",
           "orientation": "v",
           "showlegend": true,
           "type": "scatter",
           "x": [
            342247720000
           ],
           "xaxis": "x",
           "y": [
            1443068493
           ],
           "yaxis": "y"
          }
         ],
         "name": "2004"
        },
        {
         "data": [
          {
           "hovertemplate": "<b>%{hovertext}</b><br><br>Country=Austria<br>Year=2005<br>GDP=%{marker.size}<br>RoadSpending=%{y}<extra></extra>",
           "hovertext": [
            "Austria"
           ],
           "legendgroup": "Austria",
           "marker": {
            "color": "#636efa",
            "size": [
             281477630000
            ],
            "sizemode": "area",
            "sizeref": 1119177225,
            "symbol": "circle"
           },
           "mode": "markers",
           "name": "Austria",
           "orientation": "v",
           "showlegend": true,
           "type": "scatter",
           "x": [
            281477630000
           ],
           "xaxis": "x",
           "y": [
            null
           ],
           "yaxis": "y"
          },
          {
           "hovertemplate": "<b>%{hovertext}</b><br><br>Country=Belgium<br>Year=2005<br>GDP=%{marker.size}<br>RoadSpending=%{y}<extra></extra>",
           "hovertext": [
            "Belgium"
           ],
           "legendgroup": "Belgium",
           "marker": {
            "color": "#EF553B",
            "size": [
             343475030000
            ],
            "sizemode": "area",
            "sizeref": 1119177225,
            "symbol": "circle"
           },
           "mode": "markers",
           "name": "Belgium",
           "orientation": "v",
           "showlegend": true,
           "type": "scatter",
           "x": [
            343475030000
           ],
           "xaxis": "x",
           "y": [
            156000000
           ],
           "yaxis": "y"
          },
          {
           "hovertemplate": "<b>%{hovertext}</b><br><br>Country=Bulgaria<br>Year=2005<br>GDP=%{marker.size}<br>RoadSpending=%{y}<extra></extra>",
           "hovertext": [
            "Bulgaria"
           ],
           "legendgroup": "Bulgaria",
           "marker": {
            "color": "#00cc96",
            "size": [
             26582520000
            ],
            "sizemode": "area",
            "sizeref": 1119177225,
            "symbol": "circle"
           },
           "mode": "markers",
           "name": "Bulgaria",
           "orientation": "v",
           "showlegend": true,
           "type": "scatter",
           "x": [
            26582520000
           ],
           "xaxis": "x",
           "y": [
            272011453.1
           ],
           "yaxis": "y"
          },
          {
           "hovertemplate": "<b>%{hovertext}</b><br><br>Country=Croatia<br>Year=2005<br>GDP=%{marker.size}<br>RoadSpending=%{y}<extra></extra>",
           "hovertext": [
            "Croatia"
           ],
           "legendgroup": "Croatia",
           "marker": {
            "color": "#ab63fa",
            "size": [
             40094500000
            ],
            "sizemode": "area",
            "sizeref": 1119177225,
            "symbol": "circle"
           },
           "mode": "markers",
           "name": "Croatia",
           "orientation": "v",
           "showlegend": true,
           "type": "scatter",
           "x": [
            40094500000
           ],
           "xaxis": "x",
           "y": [
            737009755.1
           ],
           "yaxis": "y"
          },
          {
           "hovertemplate": "<b>%{hovertext}</b><br><br>Country=Czechia<br>Year=2005<br>GDP=%{marker.size}<br>RoadSpending=%{y}<extra></extra>",
           "hovertext": [
            "Czechia"
           ],
           "legendgroup": "Czechia",
           "marker": {
            "color": "#FFA15A",
            "size": [
             122164960000.00002
            ],
            "sizemode": "area",
            "sizeref": 1119177225,
            "symbol": "circle"
           },
           "mode": "markers",
           "name": "Czechia",
           "orientation": "v",
           "showlegend": true,
           "type": "scatter",
           "x": [
            122164960000.00002
           ],
           "xaxis": "x",
           "y": [
            1414691140
           ],
           "yaxis": "y"
          },
          {
           "hovertemplate": "<b>%{hovertext}</b><br><br>Country=Denmark<br>Year=2005<br>GDP=%{marker.size}<br>RoadSpending=%{y}<extra></extra>",
           "hovertext": [
            "Denmark"
           ],
           "legendgroup": "Denmark",
           "marker": {
            "color": "#19d3f3",
            "size": [
             235983499999.99997
            ],
            "sizemode": "area",
            "sizeref": 1119177225,
            "symbol": "circle"
           },
           "mode": "markers",
           "name": "Denmark",
           "orientation": "v",
           "showlegend": true,
           "type": "scatter",
           "x": [
            235983499999.99997
           ],
           "xaxis": "x",
           "y": [
            927707771.4
           ],
           "yaxis": "y"
          },
          {
           "hovertemplate": "<b>%{hovertext}</b><br><br>Country=Estonia<br>Year=2005<br>GDP=%{marker.size}<br>RoadSpending=%{y}<extra></extra>",
           "hovertext": [
            "Estonia"
           ],
           "legendgroup": "Estonia",
           "marker": {
            "color": "#FF6692",
            "size": [
             12574810000
            ],
            "sizemode": "area",
            "sizeref": 1119177225,
            "symbol": "circle"
           },
           "mode": "markers",
           "name": "Estonia",
           "orientation": "v",
           "showlegend": true,
           "type": "scatter",
           "x": [
            12574810000
           ],
           "xaxis": "x",
           "y": [
            102000000
           ],
           "yaxis": "y"
          },
          {
           "hovertemplate": "<b>%{hovertext}</b><br><br>Country=Finland<br>Year=2005<br>GDP=%{marker.size}<br>RoadSpending=%{y}<extra></extra>",
           "hovertext": [
            "Finland"
           ],
           "legendgroup": "Finland",
           "marker": {
            "color": "#B6E880",
            "size": [
             182425970000
            ],
            "sizemode": "area",
            "sizeref": 1119177225,
            "symbol": "circle"
           },
           "mode": "markers",
           "name": "Finland",
           "orientation": "v",
           "showlegend": true,
           "type": "scatter",
           "x": [
            182425970000
           ],
           "xaxis": "x",
           "y": [
            595000000
           ],
           "yaxis": "y"
          },
          {
           "hovertemplate": "<b>%{hovertext}</b><br><br>Country=France<br>Year=2005<br>GDP=%{marker.size}<br>RoadSpending=%{y}<extra></extra>",
           "hovertext": [
            "France"
           ],
           "legendgroup": "France",
           "marker": {
            "color": "#FF97FF",
            "size": [
             1952088620000.0002
            ],
            "sizemode": "area",
            "sizeref": 1119177225,
            "symbol": "circle"
           },
           "mode": "markers",
           "name": "France",
           "orientation": "v",
           "showlegend": true,
           "type": "scatter",
           "x": [
            1952088620000.0002
           ],
           "xaxis": "x",
           "y": [
            12402058253
           ],
           "yaxis": "y"
          },
          {
           "hovertemplate": "<b>%{hovertext}</b><br><br>Country=Germany<br>Year=2005<br>GDP=%{marker.size}<br>RoadSpending=%{y}<extra></extra>",
           "hovertext": [
            "Germany"
           ],
           "legendgroup": "Germany",
           "marker": {
            "color": "#FECB52",
            "size": [
             2576542880000
            ],
            "sizemode": "area",
            "sizeref": 1119177225,
            "symbol": "circle"
           },
           "mode": "markers",
           "name": "Germany",
           "orientation": "v",
           "showlegend": true,
           "type": "scatter",
           "x": [
            2576542880000
           ],
           "xaxis": "x",
           "y": [
            10200000000
           ],
           "yaxis": "y"
          },
          {
           "hovertemplate": "<b>%{hovertext}</b><br><br>Country=Greece<br>Year=2005<br>GDP=%{marker.size}<br>RoadSpending=%{y}<extra></extra>",
           "hovertext": [
            "Greece"
           ],
           "legendgroup": "Greece",
           "marker": {
            "color": "#636efa",
            "size": [
             220730680000
            ],
            "sizemode": "area",
            "sizeref": 1119177225,
            "symbol": "circle"
           },
           "mode": "markers",
           "name": "Greece",
           "orientation": "v",
           "showlegend": true,
           "type": "scatter",
           "x": [
            220730680000
           ],
           "xaxis": "x",
           "y": [
            1080000000
           ],
           "yaxis": "y"
          },
          {
           "hovertemplate": "<b>%{hovertext}</b><br><br>Country=Hungary<br>Year=2005<br>GDP=%{marker.size}<br>RoadSpending=%{y}<extra></extra>",
           "hovertext": [
            "Hungary"
           ],
           "legendgroup": "Hungary",
           "marker": {
            "color": "#EF553B",
            "size": [
             100757790000
            ],
            "sizemode": "area",
            "sizeref": 1119177225,
            "symbol": "circle"
           },
           "mode": "markers",
           "name": "Hungary",
           "orientation": "v",
           "showlegend": true,
           "type": "scatter",
           "x": [
            100757790000
           ],
           "xaxis": "x",
           "y": [
            1703158279
           ],
           "yaxis": "y"
          },
          {
           "hovertemplate": "<b>%{hovertext}</b><br><br>Country=Ireland<br>Year=2005<br>GDP=%{marker.size}<br>RoadSpending=%{y}<extra></extra>",
           "hovertext": [
            "Ireland"
           ],
           "legendgroup": "Ireland",
           "marker": {
            "color": "#00cc96",
            "size": [
             188673770000
            ],
            "sizemode": "area",
            "sizeref": 1119177225,
            "symbol": "circle"
           },
           "mode": "markers",
           "name": "Ireland",
           "orientation": "v",
           "showlegend": true,
           "type": "scatter",
           "x": [
            188673770000
           ],
           "xaxis": "x",
           "y": [
            1662000000
           ],
           "yaxis": "y"
          },
          {
           "hovertemplate": "<b>%{hovertext}</b><br><br>Country=Italy<br>Year=2005<br>GDP=%{marker.size}<br>RoadSpending=%{y}<extra></extra>",
           "hovertext": [
            "Italy"
           ],
           "legendgroup": "Italy",
           "marker": {
            "color": "#ab63fa",
            "size": [
             1660751570000
            ],
            "sizemode": "area",
            "sizeref": 1119177225,
            "symbol": "circle"
           },
           "mode": "markers",
           "name": "Italy",
           "orientation": "v",
           "showlegend": true,
           "type": "scatter",
           "x": [
            1660751570000
           ],
           "xaxis": "x",
           "y": [
            9169000000
           ],
           "yaxis": "y"
          },
          {
           "hovertemplate": "<b>%{hovertext}</b><br><br>Country=Latvia<br>Year=2005<br>GDP=%{marker.size}<br>RoadSpending=%{y}<extra></extra>",
           "hovertext": [
            "Latvia"
           ],
           "legendgroup": "Latvia",
           "marker": {
            "color": "#FFA15A",
            "size": [
             15156700000.000002
            ],
            "sizemode": "area",
            "sizeref": 1119177225,
            "symbol": "circle"
           },
           "mode": "markers",
           "name": "Latvia",
           "orientation": "v",
           "showlegend": true,
           "type": "scatter",
           "x": [
            15156700000.000002
           ],
           "xaxis": "x",
           "y": [
            139000000
           ],
           "yaxis": "y"
          },
          {
           "hovertemplate": "<b>%{hovertext}</b><br><br>Country=Lithuania<br>Year=2005<br>GDP=%{marker.size}<br>RoadSpending=%{y}<extra></extra>",
           "hovertext": [
            "Lithuania"
           ],
           "legendgroup": "Lithuania",
           "marker": {
            "color": "#19d3f3",
            "size": [
             23242350000
            ],
            "sizemode": "area",
            "sizeref": 1119177225,
            "symbol": "circle"
           },
           "mode": "markers",
           "name": "Lithuania",
           "orientation": "v",
           "showlegend": true,
           "type": "scatter",
           "x": [
            23242350000
           ],
           "xaxis": "x",
           "y": [
            165000000
           ],
           "yaxis": "y"
          },
          {
           "hovertemplate": "<b>%{hovertext}</b><br><br>Country=Luxembourg<br>Year=2005<br>GDP=%{marker.size}<br>RoadSpending=%{y}<extra></extra>",
           "hovertext": [
            "Luxembourg"
           ],
           "legendgroup": "Luxembourg",
           "marker": {
            "color": "#FF6692",
            "size": [
             33546770000
            ],
            "sizemode": "area",
            "sizeref": 1119177225,
            "symbol": "circle"
           },
           "mode": "markers",
           "name": "Luxembourg",
           "orientation": "v",
           "showlegend": true,
           "type": "scatter",
           "x": [
            33546770000
           ],
           "xaxis": "x",
           "y": [
            127657001.7
           ],
           "yaxis": "y"
          },
          {
           "hovertemplate": "<b>%{hovertext}</b><br><br>Country=Malta<br>Year=2005<br>GDP=%{marker.size}<br>RoadSpending=%{y}<extra></extra>",
           "hovertext": [
            "Malta"
           ],
           "legendgroup": "Malta",
           "marker": {
            "color": "#B6E880",
            "size": [
             5680870000
            ],
            "sizemode": "area",
            "sizeref": 1119177225,
            "symbol": "circle"
           },
           "mode": "markers",
           "name": "Malta",
           "orientation": "v",
           "showlegend": true,
           "type": "scatter",
           "x": [
            5680870000
           ],
           "xaxis": "x",
           "y": [
            35791797
           ],
           "yaxis": "y"
          },
          {
           "hovertemplate": "<b>%{hovertext}</b><br><br>Country=Netherlands<br>Year=2005<br>GDP=%{marker.size}<br>RoadSpending=%{y}<extra></extra>",
           "hovertext": [
            "Netherlands"
           ],
           "legendgroup": "Netherlands",
           "marker": {
            "color": "#FF97FF",
            "size": [
             612777460000
            ],
            "sizemode": "area",
            "sizeref": 1119177225,
            "symbol": "circle"
           },
           "mode": "markers",
           "name": "Netherlands",
           "orientation": "v",
           "showlegend": true,
           "type": "scatter",
           "x": [
            612777460000
           ],
           "xaxis": "x",
           "y": [
            1636000000
           ],
           "yaxis": "y"
          },
          {
           "hovertemplate": "<b>%{hovertext}</b><br><br>Country=Poland<br>Year=2005<br>GDP=%{marker.size}<br>RoadSpending=%{y}<extra></extra>",
           "hovertext": [
            "Poland"
           ],
           "legendgroup": "Poland",
           "marker": {
            "color": "#FECB52",
            "size": [
             272610560000
            ],
            "sizemode": "area",
            "sizeref": 1119177225,
            "symbol": "circle"
           },
           "mode": "markers",
           "name": "Poland",
           "orientation": "v",
           "showlegend": true,
           "type": "scatter",
           "x": [
            272610560000
           ],
           "xaxis": "x",
           "y": [
            1874906777
           ],
           "yaxis": "y"
          },
          {
           "hovertemplate": "<b>%{hovertext}</b><br><br>Country=Portugal<br>Year=2005<br>GDP=%{marker.size}<br>RoadSpending=%{y}<extra></extra>",
           "hovertext": [
            "Portugal"
           ],
           "legendgroup": "Portugal",
           "marker": {
            "color": "#636efa",
            "size": [
             175653070000
            ],
            "sizemode": "area",
            "sizeref": 1119177225,
            "symbol": "circle"
           },
           "mode": "markers",
           "name": "Portugal",
           "orientation": "v",
           "showlegend": true,
           "type": "scatter",
           "x": [
            175653070000
           ],
           "xaxis": "x",
           "y": [
            2112000000
           ],
           "yaxis": "y"
          },
          {
           "hovertemplate": "<b>%{hovertext}</b><br><br>Country=Romania<br>Year=2005<br>GDP=%{marker.size}<br>RoadSpending=%{y}<extra></extra>",
           "hovertext": [
            "Romania"
           ],
           "legendgroup": "Romania",
           "marker": {
            "color": "#EF553B",
            "size": [
             87706830000
            ],
            "sizemode": "area",
            "sizeref": 1119177225,
            "symbol": "circle"
           },
           "mode": "markers",
           "name": "Romania",
           "orientation": "v",
           "showlegend": true,
           "type": "scatter",
           "x": [
            87706830000
           ],
           "xaxis": "x",
           "y": [
            1330885601
           ],
           "yaxis": "y"
          },
          {
           "hovertemplate": "<b>%{hovertext}</b><br><br>Country=Slovak Republic<br>Year=2005<br>GDP=%{marker.size}<br>RoadSpending=%{y}<extra></extra>",
           "hovertext": [
            "Slovak Republic"
           ],
           "legendgroup": "Slovak Republic",
           "marker": {
            "color": "#00cc96",
            "size": [
             43713240000
            ],
            "sizemode": "area",
            "sizeref": 1119177225,
            "symbol": "circle"
           },
           "mode": "markers",
           "name": "Slovak Republic",
           "orientation": "v",
           "showlegend": true,
           "type": "scatter",
           "x": [
            43713240000
           ],
           "xaxis": "x",
           "y": [
            360000000
           ],
           "yaxis": "y"
          },
          {
           "hovertemplate": "<b>%{hovertext}</b><br><br>Country=Slovenia<br>Year=2005<br>GDP=%{marker.size}<br>RoadSpending=%{y}<extra></extra>",
           "hovertext": [
            "Slovenia"
           ],
           "legendgroup": "Slovenia",
           "marker": {
            "color": "#ab63fa",
            "size": [
             32041780000
            ],
            "sizemode": "area",
            "sizeref": 1119177225,
            "symbol": "circle"
           },
           "mode": "markers",
           "name": "Slovenia",
           "orientation": "v",
           "showlegend": true,
           "type": "scatter",
           "x": [
            32041780000
           ],
           "xaxis": "x",
           "y": [
            450000000
           ],
           "yaxis": "y"
          },
          {
           "hovertemplate": "<b>%{hovertext}</b><br><br>Country=Spain<br>Year=2005<br>GDP=%{marker.size}<br>RoadSpending=%{y}<extra></extra>",
           "hovertext": [
            "Spain"
           ],
           "legendgroup": "Spain",
           "marker": {
            "color": "#FFA15A",
            "size": [
             1028222340000
            ],
            "sizemode": "area",
            "sizeref": 1119177225,
            "symbol": "circle"
           },
           "mode": "markers",
           "name": "Spain",
           "orientation": "v",
           "showlegend": true,
           "type": "scatter",
           "x": [
            1028222340000
           ],
           "xaxis": "x",
           "y": [
            8580000000
           ],
           "yaxis": "y"
          },
          {
           "hovertemplate": "<b>%{hovertext}</b><br><br>Country=Sweden<br>Year=2005<br>GDP=%{marker.size}<br>RoadSpending=%{y}<extra></extra>",
           "hovertext": [
            "Sweden"
           ],
           "legendgroup": "Sweden",
           "marker": {
            "color": "#19d3f3",
            "size": [
             348604990000
            ],
            "sizemode": "area",
            "sizeref": 1119177225,
            "symbol": "circle"
           },
           "mode": "markers",
           "name": "Sweden",
           "orientation": "v",
           "showlegend": true,
           "type": "scatter",
           "x": [
            348604990000
           ],
           "xaxis": "x",
           "y": [
            1297938600
           ],
           "yaxis": "y"
          }
         ],
         "name": "2005"
        },
        {
         "data": [
          {
           "hovertemplate": "<b>%{hovertext}</b><br><br>Country=Austria<br>Year=2006<br>GDP=%{marker.size}<br>RoadSpending=%{y}<extra></extra>",
           "hovertext": [
            "Austria"
           ],
           "legendgroup": "Austria",
           "marker": {
            "color": "#636efa",
            "size": [
             299305220000
            ],
            "sizemode": "area",
            "sizeref": 1119177225,
            "symbol": "circle"
           },
           "mode": "markers",
           "name": "Austria",
           "orientation": "v",
           "showlegend": true,
           "type": "scatter",
           "x": [
            299305220000
           ],
           "xaxis": "x",
           "y": [
            null
           ],
           "yaxis": "y"
          },
          {
           "hovertemplate": "<b>%{hovertext}</b><br><br>Country=Belgium<br>Year=2006<br>GDP=%{marker.size}<br>RoadSpending=%{y}<extra></extra>",
           "hovertext": [
            "Belgium"
           ],
           "legendgroup": "Belgium",
           "marker": {
            "color": "#EF553B",
            "size": [
             363370090000
            ],
            "sizemode": "area",
            "sizeref": 1119177225,
            "symbol": "circle"
           },
           "mode": "markers",
           "name": "Belgium",
           "orientation": "v",
           "showlegend": true,
           "type": "scatter",
           "x": [
            363370090000
           ],
           "xaxis": "x",
           "y": [
            169000000
           ],
           "yaxis": "y"
          },
          {
           "hovertemplate": "<b>%{hovertext}</b><br><br>Country=Bulgaria<br>Year=2006<br>GDP=%{marker.size}<br>RoadSpending=%{y}<extra></extra>",
           "hovertext": [
            "Bulgaria"
           ],
           "legendgroup": "Bulgaria",
           "marker": {
            "color": "#00cc96",
            "size": [
             30598200000
            ],
            "sizemode": "area",
            "sizeref": 1119177225,
            "symbol": "circle"
           },
           "mode": "markers",
           "name": "Bulgaria",
           "orientation": "v",
           "showlegend": true,
           "type": "scatter",
           "x": [
            30598200000
           ],
           "xaxis": "x",
           "y": [
            256161161.7
           ],
           "yaxis": "y"
          },
          {
           "hovertemplate": "<b>%{hovertext}</b><br><br>Country=Croatia<br>Year=2006<br>GDP=%{marker.size}<br>RoadSpending=%{y}<extra></extra>",
           "hovertext": [
            "Croatia"
           ],
           "legendgroup": "Croatia",
           "marker": {
            "color": "#ab63fa",
            "size": [
             44144890000
            ],
            "sizemode": "area",
            "sizeref": 1119177225,
            "symbol": "circle"
           },
           "mode": "markers",
           "name": "Croatia",
           "orientation": "v",
           "showlegend": true,
           "type": "scatter",
           "x": [
            44144890000
           ],
           "xaxis": "x",
           "y": [
            850620479.1
           ],
           "yaxis": "y"
          },
          {
           "hovertemplate": "<b>%{hovertext}</b><br><br>Country=Czechia<br>Year=2006<br>GDP=%{marker.size}<br>RoadSpending=%{y}<extra></extra>",
           "hovertext": [
            "Czechia"
           ],
           "legendgroup": "Czechia",
           "marker": {
            "color": "#FFA15A",
            "size": [
             139050040000
            ],
            "sizemode": "area",
            "sizeref": 1119177225,
            "symbol": "circle"
           },
           "mode": "markers",
           "name": "Czechia",
           "orientation": "v",
           "showlegend": true,
           "type": "scatter",
           "x": [
            139050040000
           ],
           "xaxis": "x",
           "y": [
            1491555568
           ],
           "yaxis": "y"
          },
          {
           "hovertemplate": "<b>%{hovertext}</b><br><br>Country=Denmark<br>Year=2006<br>GDP=%{marker.size}<br>RoadSpending=%{y}<extra></extra>",
           "hovertext": [
            "Denmark"
           ],
           "legendgroup": "Denmark",
           "marker": {
            "color": "#19d3f3",
            "size": [
             252214430000
            ],
            "sizemode": "area",
            "sizeref": 1119177225,
            "symbol": "circle"
           },
           "mode": "markers",
           "name": "Denmark",
           "orientation": "v",
           "showlegend": true,
           "type": "scatter",
           "x": [
            252214430000
           ],
           "xaxis": "x",
           "y": [
            1190760279
           ],
           "yaxis": "y"
          },
          {
           "hovertemplate": "<b>%{hovertext}</b><br><br>Country=Estonia<br>Year=2006<br>GDP=%{marker.size}<br>RoadSpending=%{y}<extra></extra>",
           "hovertext": [
            "Estonia"
           ],
           "legendgroup": "Estonia",
           "marker": {
            "color": "#FF6692",
            "size": [
             15173610000
            ],
            "sizemode": "area",
            "sizeref": 1119177225,
            "symbol": "circle"
           },
           "mode": "markers",
           "name": "Estonia",
           "orientation": "v",
           "showlegend": true,
           "type": "scatter",
           "x": [
            15173610000
           ],
           "xaxis": "x",
           "y": [
            130000000
           ],
           "yaxis": "y"
          },
          {
           "hovertemplate": "<b>%{hovertext}</b><br><br>Country=Finland<br>Year=2006<br>GDP=%{marker.size}<br>RoadSpending=%{y}<extra></extra>",
           "hovertext": [
            "Finland"
           ],
           "legendgroup": "Finland",
           "marker": {
            "color": "#B6E880",
            "size": [
             193179840000
            ],
            "sizemode": "area",
            "sizeref": 1119177225,
            "symbol": "circle"
           },
           "mode": "markers",
           "name": "Finland",
           "orientation": "v",
           "showlegend": true,
           "type": "scatter",
           "x": [
            193179840000
           ],
           "xaxis": "x",
           "y": [
            650000000
           ],
           "yaxis": "y"
          },
          {
           "hovertemplate": "<b>%{hovertext}</b><br><br>Country=France<br>Year=2006<br>GDP=%{marker.size}<br>RoadSpending=%{y}<extra></extra>",
           "hovertext": [
            "France"
           ],
           "legendgroup": "France",
           "marker": {
            "color": "#FF97FF",
            "size": [
             2063006650000
            ],
            "sizemode": "area",
            "sizeref": 1119177225,
            "symbol": "circle"
           },
           "mode": "markers",
           "name": "France",
           "orientation": "v",
           "showlegend": true,
           "type": "scatter",
           "x": [
            2063006650000
           ],
           "xaxis": "x",
           "y": [
            12915322777
           ],
           "yaxis": "y"
          },
          {
           "hovertemplate": "<b>%{hovertext}</b><br><br>Country=Germany<br>Year=2006<br>GDP=%{marker.size}<br>RoadSpending=%{y}<extra></extra>",
           "hovertext": [
            "Germany"
           ],
           "legendgroup": "Germany",
           "marker": {
            "color": "#FECB52",
            "size": [
             2711358300000
            ],
            "sizemode": "area",
            "sizeref": 1119177225,
            "symbol": "circle"
           },
           "mode": "markers",
           "name": "Germany",
           "orientation": "v",
           "showlegend": true,
           "type": "scatter",
           "x": [
            2711358300000
           ],
           "xaxis": "x",
           "y": [
            10730000000
           ],
           "yaxis": "y"
          },
          {
           "hovertemplate": "<b>%{hovertext}</b><br><br>Country=Greece<br>Year=2006<br>GDP=%{marker.size}<br>RoadSpending=%{y}<extra></extra>",
           "hovertext": [
            "Greece"
           ],
           "legendgroup": "Greece",
           "marker": {
            "color": "#636efa",
            "size": [
             243469289999.99997
            ],
            "sizemode": "area",
            "sizeref": 1119177225,
            "symbol": "circle"
           },
           "mode": "markers",
           "name": "Greece",
           "orientation": "v",
           "showlegend": true,
           "type": "scatter",
           "x": [
            243469289999.99997
           ],
           "xaxis": "x",
           "y": [
            1392000000
           ],
           "yaxis": "y"
          },
          {
           "hovertemplate": "<b>%{hovertext}</b><br><br>Country=Hungary<br>Year=2006<br>GDP=%{marker.size}<br>RoadSpending=%{y}<extra></extra>",
           "hovertext": [
            "Hungary"
           ],
           "legendgroup": "Hungary",
           "marker": {
            "color": "#EF553B",
            "size": [
             102987240000
            ],
            "sizemode": "area",
            "sizeref": 1119177225,
            "symbol": "circle"
           },
           "mode": "markers",
           "name": "Hungary",
           "orientation": "v",
           "showlegend": true,
           "type": "scatter",
           "x": [
            102987240000
           ],
           "xaxis": "x",
           "y": [
            583691897.1
           ],
           "yaxis": "y"
          },
          {
           "hovertemplate": "<b>%{hovertext}</b><br><br>Country=Ireland<br>Year=2006<br>GDP=%{marker.size}<br>RoadSpending=%{y}<extra></extra>",
           "hovertext": [
            "Ireland"
           ],
           "legendgroup": "Ireland",
           "marker": {
            "color": "#00cc96",
            "size": [
             206651770000
            ],
            "sizemode": "area",
            "sizeref": 1119177225,
            "symbol": "circle"
           },
           "mode": "markers",
           "name": "Ireland",
           "orientation": "v",
           "showlegend": true,
           "type": "scatter",
           "x": [
            206651770000
           ],
           "xaxis": "x",
           "y": [
            2019000000
           ],
           "yaxis": "y"
          },
          {
           "hovertemplate": "<b>%{hovertext}</b><br><br>Country=Italy<br>Year=2006<br>GDP=%{marker.size}<br>RoadSpending=%{y}<extra></extra>",
           "hovertext": [
            "Italy"
           ],
           "legendgroup": "Italy",
           "marker": {
            "color": "#ab63fa",
            "size": [
             1743213630000
            ],
            "sizemode": "area",
            "sizeref": 1119177225,
            "symbol": "circle"
           },
           "mode": "markers",
           "name": "Italy",
           "orientation": "v",
           "showlegend": true,
           "type": "scatter",
           "x": [
            1743213630000
           ],
           "xaxis": "x",
           "y": [
            14280000000
           ],
           "yaxis": "y"
          },
          {
           "hovertemplate": "<b>%{hovertext}</b><br><br>Country=Latvia<br>Year=2006<br>GDP=%{marker.size}<br>RoadSpending=%{y}<extra></extra>",
           "hovertext": [
            "Latvia"
           ],
           "legendgroup": "Latvia",
           "marker": {
            "color": "#FFA15A",
            "size": [
             19214210000
            ],
            "sizemode": "area",
            "sizeref": 1119177225,
            "symbol": "circle"
           },
           "mode": "markers",
           "name": "Latvia",
           "orientation": "v",
           "showlegend": true,
           "type": "scatter",
           "x": [
            19214210000
           ],
           "xaxis": "x",
           "y": [
            158000000
           ],
           "yaxis": "y"
          },
          {
           "hovertemplate": "<b>%{hovertext}</b><br><br>Country=Lithuania<br>Year=2006<br>GDP=%{marker.size}<br>RoadSpending=%{y}<extra></extra>",
           "hovertext": [
            "Lithuania"
           ],
           "legendgroup": "Lithuania",
           "marker": {
            "color": "#19d3f3",
            "size": [
             26890460000
            ],
            "sizemode": "area",
            "sizeref": 1119177225,
            "symbol": "circle"
           },
           "mode": "markers",
           "name": "Lithuania",
           "orientation": "v",
           "showlegend": true,
           "type": "scatter",
           "x": [
            26890460000
           ],
           "xaxis": "x",
           "y": [
            242000000
           ],
           "yaxis": "y"
          },
          {
           "hovertemplate": "<b>%{hovertext}</b><br><br>Country=Luxembourg<br>Year=2006<br>GDP=%{marker.size}<br>RoadSpending=%{y}<extra></extra>",
           "hovertext": [
            "Luxembourg"
           ],
           "legendgroup": "Luxembourg",
           "marker": {
            "color": "#FF6692",
            "size": [
             38191680000
            ],
            "sizemode": "area",
            "sizeref": 1119177225,
            "symbol": "circle"
           },
           "mode": "markers",
           "name": "Luxembourg",
           "orientation": "v",
           "showlegend": true,
           "type": "scatter",
           "x": [
            38191680000
           ],
           "xaxis": "x",
           "y": [
            175887339.7
           ],
           "yaxis": "y"
          },
          {
           "hovertemplate": "<b>%{hovertext}</b><br><br>Country=Malta<br>Year=2006<br>GDP=%{marker.size}<br>RoadSpending=%{y}<extra></extra>",
           "hovertext": [
            "Malta"
           ],
           "legendgroup": "Malta",
           "marker": {
            "color": "#B6E880",
            "size": [
             6036870000
            ],
            "sizemode": "area",
            "sizeref": 1119177225,
            "symbol": "circle"
           },
           "mode": "markers",
           "name": "Malta",
           "orientation": "v",
           "showlegend": true,
           "type": "scatter",
           "x": [
            6036870000
           ],
           "xaxis": "x",
           "y": [
            26546945.61
           ],
           "yaxis": "y"
          },
          {
           "hovertemplate": "<b>%{hovertext}</b><br><br>Country=Netherlands<br>Year=2006<br>GDP=%{marker.size}<br>RoadSpending=%{y}<extra></extra>",
           "hovertext": [
            "Netherlands"
           ],
           "legendgroup": "Netherlands",
           "marker": {
            "color": "#FF97FF",
            "size": [
             656493370000
            ],
            "sizemode": "area",
            "sizeref": 1119177225,
            "symbol": "circle"
           },
           "mode": "markers",
           "name": "Netherlands",
           "orientation": "v",
           "showlegend": true,
           "type": "scatter",
           "x": [
            656493370000
           ],
           "xaxis": "x",
           "y": [
            1654000000
           ],
           "yaxis": "y"
          },
          {
           "hovertemplate": "<b>%{hovertext}</b><br><br>Country=Poland<br>Year=2006<br>GDP=%{marker.size}<br>RoadSpending=%{y}<extra></extra>",
           "hovertext": [
            "Poland"
           ],
           "legendgroup": "Poland",
           "marker": {
            "color": "#FECB52",
            "size": [
             306718030000
            ],
            "sizemode": "area",
            "sizeref": 1119177225,
            "symbol": "circle"
           },
           "mode": "markers",
           "name": "Poland",
           "orientation": "v",
           "showlegend": true,
           "type": "scatter",
           "x": [
            306718030000
           ],
           "xaxis": "x",
           "y": [
            2605324639
           ],
           "yaxis": "y"
          },
          {
           "hovertemplate": "<b>%{hovertext}</b><br><br>Country=Portugal<br>Year=2006<br>GDP=%{marker.size}<br>RoadSpending=%{y}<extra></extra>",
           "hovertext": [
            "Portugal"
           ],
           "legendgroup": "Portugal",
           "marker": {
            "color": "#636efa",
            "size": [
             185802630000
            ],
            "sizemode": "area",
            "sizeref": 1119177225,
            "symbol": "circle"
           },
           "mode": "markers",
           "name": "Portugal",
           "orientation": "v",
           "showlegend": true,
           "type": "scatter",
           "x": [
            185802630000
           ],
           "xaxis": "x",
           "y": [
            1940000000
           ],
           "yaxis": "y"
          },
          {
           "hovertemplate": "<b>%{hovertext}</b><br><br>Country=Romania<br>Year=2006<br>GDP=%{marker.size}<br>RoadSpending=%{y}<extra></extra>",
           "hovertext": [
            "Romania"
           ],
           "legendgroup": "Romania",
           "marker": {
            "color": "#EF553B",
            "size": [
             108681460000
            ],
            "sizemode": "area",
            "sizeref": 1119177225,
            "symbol": "circle"
           },
           "mode": "markers",
           "name": "Romania",
           "orientation": "v",
           "showlegend": true,
           "type": "scatter",
           "x": [
            108681460000
           ],
           "xaxis": "x",
           "y": [
            1950686642
           ],
           "yaxis": "y"
          },
          {
           "hovertemplate": "<b>%{hovertext}</b><br><br>Country=Slovak Republic<br>Year=2006<br>GDP=%{marker.size}<br>RoadSpending=%{y}<extra></extra>",
           "hovertext": [
            "Slovak Republic"
           ],
           "legendgroup": "Slovak Republic",
           "marker": {
            "color": "#00cc96",
            "size": [
             51167880000
            ],
            "sizemode": "area",
            "sizeref": 1119177225,
            "symbol": "circle"
           },
           "mode": "markers",
           "name": "Slovak Republic",
           "orientation": "v",
           "showlegend": true,
           "type": "scatter",
           "x": [
            51167880000
           ],
           "xaxis": "x",
           "y": [
            411000000
           ],
           "yaxis": "y"
          },
          {
           "hovertemplate": "<b>%{hovertext}</b><br><br>Country=Slovenia<br>Year=2006<br>GDP=%{marker.size}<br>RoadSpending=%{y}<extra></extra>",
           "hovertext": [
            "Slovenia"
           ],
           "legendgroup": "Slovenia",
           "marker": {
            "color": "#ab63fa",
            "size": [
             34970770000
            ],
            "sizemode": "area",
            "sizeref": 1119177225,
            "symbol": "circle"
           },
           "mode": "markers",
           "name": "Slovenia",
           "orientation": "v",
           "showlegend": true,
           "type": "scatter",
           "x": [
            34970770000
           ],
           "xaxis": "x",
           "y": [
            573000000
           ],
           "yaxis": "y"
          },
          {
           "hovertemplate": "<b>%{hovertext}</b><br><br>Country=Spain<br>Year=2006<br>GDP=%{marker.size}<br>RoadSpending=%{y}<extra></extra>",
           "hovertext": [
            "Spain"
           ],
           "legendgroup": "Spain",
           "marker": {
            "color": "#FFA15A",
            "size": [
             1123103460000
            ],
            "sizemode": "area",
            "sizeref": 1119177225,
            "symbol": "circle"
           },
           "mode": "markers",
           "name": "Spain",
           "orientation": "v",
           "showlegend": true,
           "type": "scatter",
           "x": [
            1123103460000
           ],
           "xaxis": "x",
           "y": [
            8411000000
           ],
           "yaxis": "y"
          },
          {
           "hovertemplate": "<b>%{hovertext}</b><br><br>Country=Sweden<br>Year=2006<br>GDP=%{marker.size}<br>RoadSpending=%{y}<extra></extra>",
           "hovertext": [
            "Sweden"
           ],
           "legendgroup": "Sweden",
           "marker": {
            "color": "#19d3f3",
            "size": [
             376049920000
            ],
            "sizemode": "area",
            "sizeref": 1119177225,
            "symbol": "circle"
           },
           "mode": "markers",
           "name": "Sweden",
           "orientation": "v",
           "showlegend": true,
           "type": "scatter",
           "x": [
            376049920000
           ],
           "xaxis": "x",
           "y": [
            1407281727
           ],
           "yaxis": "y"
          }
         ],
         "name": "2006"
        },
        {
         "data": [
          {
           "hovertemplate": "<b>%{hovertext}</b><br><br>Country=Austria<br>Year=2007<br>GDP=%{marker.size}<br>RoadSpending=%{y}<extra></extra>",
           "hovertext": [
            "Austria"
           ],
           "legendgroup": "Austria",
           "marker": {
            "color": "#636efa",
            "size": [
             346415590000
            ],
            "sizemode": "area",
            "sizeref": 1119177225,
            "symbol": "circle"
           },
           "mode": "markers",
           "name": "Austria",
           "orientation": "v",
           "showlegend": true,
           "type": "scatter",
           "x": [
            346415590000
           ],
           "xaxis": "x",
           "y": [
            null
           ],
           "yaxis": "y"
          },
          {
           "hovertemplate": "<b>%{hovertext}</b><br><br>Country=Belgium<br>Year=2007<br>GDP=%{marker.size}<br>RoadSpending=%{y}<extra></extra>",
           "hovertext": [
            "Belgium"
           ],
           "legendgroup": "Belgium",
           "marker": {
            "color": "#EF553B",
            "size": [
             419170420000
            ],
            "sizemode": "area",
            "sizeref": 1119177225,
            "symbol": "circle"
           },
           "mode": "markers",
           "name": "Belgium",
           "orientation": "v",
           "showlegend": true,
           "type": "scatter",
           "x": [
            419170420000
           ],
           "xaxis": "x",
           "y": [
            166000000
           ],
           "yaxis": "y"
          },
          {
           "hovertemplate": "<b>%{hovertext}</b><br><br>Country=Bulgaria<br>Year=2007<br>GDP=%{marker.size}<br>RoadSpending=%{y}<extra></extra>",
           "hovertext": [
            "Bulgaria"
           ],
           "legendgroup": "Bulgaria",
           "marker": {
            "color": "#00cc96",
            "size": [
             39544480000
            ],
            "sizemode": "area",
            "sizeref": 1119177225,
            "symbol": "circle"
           },
           "mode": "markers",
           "name": "Bulgaria",
           "orientation": "v",
           "showlegend": true,
           "type": "scatter",
           "x": [
            39544480000
           ],
           "xaxis": "x",
           "y": [
            213211984.9
           ],
           "yaxis": "y"
          },
          {
           "hovertemplate": "<b>%{hovertext}</b><br><br>Country=Croatia<br>Year=2007<br>GDP=%{marker.size}<br>RoadSpending=%{y}<extra></extra>",
           "hovertext": [
            "Croatia"
           ],
           "legendgroup": "Croatia",
           "marker": {
            "color": "#ab63fa",
            "size": [
             52799250000
            ],
            "sizemode": "area",
            "sizeref": 1119177225,
            "symbol": "circle"
           },
           "mode": "markers",
           "name": "Croatia",
           "orientation": "v",
           "showlegend": true,
           "type": "scatter",
           "x": [
            52799250000
           ],
           "xaxis": "x",
           "y": [
            1038157807
           ],
           "yaxis": "y"
          },
          {
           "hovertemplate": "<b>%{hovertext}</b><br><br>Country=Czechia<br>Year=2007<br>GDP=%{marker.size}<br>RoadSpending=%{y}<extra></extra>",
           "hovertext": [
            "Czechia"
           ],
           "legendgroup": "Czechia",
           "marker": {
            "color": "#FFA15A",
            "size": [
             168962050000
            ],
            "sizemode": "area",
            "sizeref": 1119177225,
            "symbol": "circle"
           },
           "mode": "markers",
           "name": "Czechia",
           "orientation": "v",
           "showlegend": true,
           "type": "scatter",
           "x": [
            168962050000
           ],
           "xaxis": "x",
           "y": [
            1493648724
           ],
           "yaxis": "y"
          },
          {
           "hovertemplate": "<b>%{hovertext}</b><br><br>Country=Denmark<br>Year=2007<br>GDP=%{marker.size}<br>RoadSpending=%{y}<extra></extra>",
           "hovertext": [
            "Denmark"
           ],
           "legendgroup": "Denmark",
           "marker": {
            "color": "#19d3f3",
            "size": [
             284989570000
            ],
            "sizemode": "area",
            "sizeref": 1119177225,
            "symbol": "circle"
           },
           "mode": "markers",
           "name": "Denmark",
           "orientation": "v",
           "showlegend": true,
           "type": "scatter",
           "x": [
            284989570000
           ],
           "xaxis": "x",
           "y": [
            1028882805
           ],
           "yaxis": "y"
          },
          {
           "hovertemplate": "<b>%{hovertext}</b><br><br>Country=Estonia<br>Year=2007<br>GDP=%{marker.size}<br>RoadSpending=%{y}<extra></extra>",
           "hovertext": [
            "Estonia"
           ],
           "legendgroup": "Estonia",
           "marker": {
            "color": "#FF6692",
            "size": [
             20005420000
            ],
            "sizemode": "area",
            "sizeref": 1119177225,
            "symbol": "circle"
           },
           "mode": "markers",
           "name": "Estonia",
           "orientation": "v",
           "showlegend": true,
           "type": "scatter",
           "x": [
            20005420000
           ],
           "xaxis": "x",
           "y": [
            126000000
           ],
           "yaxis": "y"
          },
          {
           "hovertemplate": "<b>%{hovertext}</b><br><br>Country=Finland<br>Year=2007<br>GDP=%{marker.size}<br>RoadSpending=%{y}<extra></extra>",
           "hovertext": [
            "Finland"
           ],
           "legendgroup": "Finland",
           "marker": {
            "color": "#B6E880",
            "size": [
             228187100000
            ],
            "sizemode": "area",
            "sizeref": 1119177225,
            "symbol": "circle"
           },
           "mode": "markers",
           "name": "Finland",
           "orientation": "v",
           "showlegend": true,
           "type": "scatter",
           "x": [
            228187100000
           ],
           "xaxis": "x",
           "y": [
            802000000
           ],
           "yaxis": "y"
          },
          {
           "hovertemplate": "<b>%{hovertext}</b><br><br>Country=France<br>Year=2007<br>GDP=%{marker.size}<br>RoadSpending=%{y}<extra></extra>",
           "hovertext": [
            "France"
           ],
           "legendgroup": "France",
           "marker": {
            "color": "#FF97FF",
            "size": [
             2363955700000
            ],
            "sizemode": "area",
            "sizeref": 1119177225,
            "symbol": "circle"
           },
           "mode": "markers",
           "name": "France",
           "orientation": "v",
           "showlegend": true,
           "type": "scatter",
           "x": [
            2363955700000
           ],
           "xaxis": "x",
           "y": [
            13883209568
           ],
           "yaxis": "y"
          },
          {
           "hovertemplate": "<b>%{hovertext}</b><br><br>Country=Germany<br>Year=2007<br>GDP=%{marker.size}<br>RoadSpending=%{y}<extra></extra>",
           "hovertext": [
            "Germany"
           ],
           "legendgroup": "Germany",
           "marker": {
            "color": "#FECB52",
            "size": [
             3101175630000
            ],
            "sizemode": "area",
            "sizeref": 1119177225,
            "symbol": "circle"
           },
           "mode": "markers",
           "name": "Germany",
           "orientation": "v",
           "showlegend": true,
           "type": "scatter",
           "x": [
            3101175630000
           ],
           "xaxis": "x",
           "y": [
            10845000000
           ],
           "yaxis": "y"
          },
          {
           "hovertemplate": "<b>%{hovertext}</b><br><br>Country=Greece<br>Year=2007<br>GDP=%{marker.size}<br>RoadSpending=%{y}<extra></extra>",
           "hovertext": [
            "Greece"
           ],
           "legendgroup": "Greece",
           "marker": {
            "color": "#636efa",
            "size": [
             283856600000
            ],
            "sizemode": "area",
            "sizeref": 1119177225,
            "symbol": "circle"
           },
           "mode": "markers",
           "name": "Greece",
           "orientation": "v",
           "showlegend": true,
           "type": "scatter",
           "x": [
            283856600000
           ],
           "xaxis": "x",
           "y": [
            1516000000
           ],
           "yaxis": "y"
          },
          {
           "hovertemplate": "<b>%{hovertext}</b><br><br>Country=Hungary<br>Year=2007<br>GDP=%{marker.size}<br>RoadSpending=%{y}<extra></extra>",
           "hovertext": [
            "Hungary"
           ],
           "legendgroup": "Hungary",
           "marker": {
            "color": "#EF553B",
            "size": [
             124766430000
            ],
            "sizemode": "area",
            "sizeref": 1119177225,
            "symbol": "circle"
           },
           "mode": "markers",
           "name": "Hungary",
           "orientation": "v",
           "showlegend": true,
           "type": "scatter",
           "x": [
            124766430000
           ],
           "xaxis": "x",
           "y": [
            645917032
           ],
           "yaxis": "y"
          },
          {
           "hovertemplate": "<b>%{hovertext}</b><br><br>Country=Ireland<br>Year=2007<br>GDP=%{marker.size}<br>RoadSpending=%{y}<extra></extra>",
           "hovertext": [
            "Ireland"
           ],
           "legendgroup": "Ireland",
           "marker": {
            "color": "#00cc96",
            "size": [
             240399680000.00003
            ],
            "sizemode": "area",
            "sizeref": 1119177225,
            "symbol": "circle"
           },
           "mode": "markers",
           "name": "Ireland",
           "orientation": "v",
           "showlegend": true,
           "type": "scatter",
           "x": [
            240399680000.00003
           ],
           "xaxis": "x",
           "y": [
            2191000000
           ],
           "yaxis": "y"
          },
          {
           "hovertemplate": "<b>%{hovertext}</b><br><br>Country=Italy<br>Year=2007<br>GDP=%{marker.size}<br>RoadSpending=%{y}<extra></extra>",
           "hovertext": [
            "Italy"
           ],
           "legendgroup": "Italy",
           "marker": {
            "color": "#ab63fa",
            "size": [
             1978278650000
            ],
            "sizemode": "area",
            "sizeref": 1119177225,
            "symbol": "circle"
           },
           "mode": "markers",
           "name": "Italy",
           "orientation": "v",
           "showlegend": true,
           "type": "scatter",
           "x": [
            1978278650000
           ],
           "xaxis": "x",
           "y": [
            13664000000
           ],
           "yaxis": "y"
          },
          {
           "hovertemplate": "<b>%{hovertext}</b><br><br>Country=Latvia<br>Year=2007<br>GDP=%{marker.size}<br>RoadSpending=%{y}<extra></extra>",
           "hovertext": [
            "Latvia"
           ],
           "legendgroup": "Latvia",
           "marker": {
            "color": "#FFA15A",
            "size": [
             27679000000
            ],
            "sizemode": "area",
            "sizeref": 1119177225,
            "symbol": "circle"
           },
           "mode": "markers",
           "name": "Latvia",
           "orientation": "v",
           "showlegend": true,
           "type": "scatter",
           "x": [
            27679000000
           ],
           "xaxis": "x",
           "y": [
            231000000
           ],
           "yaxis": "y"
          },
          {
           "hovertemplate": "<b>%{hovertext}</b><br><br>Country=Lithuania<br>Year=2007<br>GDP=%{marker.size}<br>RoadSpending=%{y}<extra></extra>",
           "hovertext": [
            "Lithuania"
           ],
           "legendgroup": "Lithuania",
           "marker": {
            "color": "#19d3f3",
            "size": [
             35397970000
            ],
            "sizemode": "area",
            "sizeref": 1119177225,
            "symbol": "circle"
           },
           "mode": "markers",
           "name": "Lithuania",
           "orientation": "v",
           "showlegend": true,
           "type": "scatter",
           "x": [
            35397970000
           ],
           "xaxis": "x",
           "y": [
            312000000
           ],
           "yaxis": "y"
          },
          {
           "hovertemplate": "<b>%{hovertext}</b><br><br>Country=Luxembourg<br>Year=2007<br>GDP=%{marker.size}<br>RoadSpending=%{y}<extra></extra>",
           "hovertext": [
            "Luxembourg"
           ],
           "legendgroup": "Luxembourg",
           "marker": {
            "color": "#FF6692",
            "size": [
             45917770000
            ],
            "sizemode": "area",
            "sizeref": 1119177225,
            "symbol": "circle"
           },
           "mode": "markers",
           "name": "Luxembourg",
           "orientation": "v",
           "showlegend": true,
           "type": "scatter",
           "x": [
            45917770000
           ],
           "xaxis": "x",
           "y": [
            157402016.9
           ],
           "yaxis": "y"
          },
          {
           "hovertemplate": "<b>%{hovertext}</b><br><br>Country=Malta<br>Year=2007<br>GDP=%{marker.size}<br>RoadSpending=%{y}<extra></extra>",
           "hovertext": [
            "Malta"
           ],
           "legendgroup": "Malta",
           "marker": {
            "color": "#B6E880",
            "size": [
             7095080000
            ],
            "sizemode": "area",
            "sizeref": 1119177225,
            "symbol": "circle"
           },
           "mode": "markers",
           "name": "Malta",
           "orientation": "v",
           "showlegend": true,
           "type": "scatter",
           "x": [
            7095080000
           ],
           "xaxis": "x",
           "y": [
            25885221.83
           ],
           "yaxis": "y"
          },
          {
           "hovertemplate": "<b>%{hovertext}</b><br><br>Country=Netherlands<br>Year=2007<br>GDP=%{marker.size}<br>RoadSpending=%{y}<extra></extra>",
           "hovertext": [
            "Netherlands"
           ],
           "legendgroup": "Netherlands",
           "marker": {
            "color": "#FF97FF",
            "size": [
             759704000000
            ],
            "sizemode": "area",
            "sizeref": 1119177225,
            "symbol": "circle"
           },
           "mode": "markers",
           "name": "Netherlands",
           "orientation": "v",
           "showlegend": true,
           "type": "scatter",
           "x": [
            759704000000
           ],
           "xaxis": "x",
           "y": [
            1680000000
           ],
           "yaxis": "y"
          },
          {
           "hovertemplate": "<b>%{hovertext}</b><br><br>Country=Poland<br>Year=2007<br>GDP=%{marker.size}<br>RoadSpending=%{y}<extra></extra>",
           "hovertext": [
            "Poland"
           ],
           "legendgroup": "Poland",
           "marker": {
            "color": "#FECB52",
            "size": [
             381828690000
            ],
            "sizemode": "area",
            "sizeref": 1119177225,
            "symbol": "circle"
           },
           "mode": "markers",
           "name": "Poland",
           "orientation": "v",
           "showlegend": true,
           "type": "scatter",
           "x": [
            381828690000
           ],
           "xaxis": "x",
           "y": [
            3444000952
           ],
           "yaxis": "y"
          },
          {
           "hovertemplate": "<b>%{hovertext}</b><br><br>Country=Portugal<br>Year=2007<br>GDP=%{marker.size}<br>RoadSpending=%{y}<extra></extra>",
           "hovertext": [
            "Portugal"
           ],
           "legendgroup": "Portugal",
           "marker": {
            "color": "#636efa",
            "size": [
             214066360000
            ],
            "sizemode": "area",
            "sizeref": 1119177225,
            "symbol": "circle"
           },
           "mode": "markers",
           "name": "Portugal",
           "orientation": "v",
           "showlegend": true,
           "type": "scatter",
           "x": [
            214066360000
           ],
           "xaxis": "x",
           "y": [
            1453000000
           ],
           "yaxis": "y"
          },
          {
           "hovertemplate": "<b>%{hovertext}</b><br><br>Country=Romania<br>Year=2007<br>GDP=%{marker.size}<br>RoadSpending=%{y}<extra></extra>",
           "hovertext": [
            "Romania"
           ],
           "legendgroup": "Romania",
           "marker": {
            "color": "#EF553B",
            "size": [
             155599590000
            ],
            "sizemode": "area",
            "sizeref": 1119177225,
            "symbol": "circle"
           },
           "mode": "markers",
           "name": "Romania",
           "orientation": "v",
           "showlegend": true,
           "type": "scatter",
           "x": [
            155599590000
           ],
           "xaxis": "x",
           "y": [
            2803858714
           ],
           "yaxis": "y"
          },
          {
           "hovertemplate": "<b>%{hovertext}</b><br><br>Country=Slovak Republic<br>Year=2007<br>GDP=%{marker.size}<br>RoadSpending=%{y}<extra></extra>",
           "hovertext": [
            "Slovak Republic"
           ],
           "legendgroup": "Slovak Republic",
           "marker": {
            "color": "#00cc96",
            "size": [
             68742710000
            ],
            "sizemode": "area",
            "sizeref": 1119177225,
            "symbol": "circle"
           },
           "mode": "markers",
           "name": "Slovak Republic",
           "orientation": "v",
           "showlegend": true,
           "type": "scatter",
           "x": [
            68742710000
           ],
           "xaxis": "x",
           "y": [
            520000000
           ],
           "yaxis": "y"
          },
          {
           "hovertemplate": "<b>%{hovertext}</b><br><br>Country=Slovenia<br>Year=2007<br>GDP=%{marker.size}<br>RoadSpending=%{y}<extra></extra>",
           "hovertext": [
            "Slovenia"
           ],
           "legendgroup": "Slovenia",
           "marker": {
            "color": "#ab63fa",
            "size": [
             42618540000
            ],
            "sizemode": "area",
            "sizeref": 1119177225,
            "symbol": "circle"
           },
           "mode": "markers",
           "name": "Slovenia",
           "orientation": "v",
           "showlegend": true,
           "type": "scatter",
           "x": [
            42618540000
           ],
           "xaxis": "x",
           "y": [
            666000000
           ],
           "yaxis": "y"
          },
          {
           "hovertemplate": "<b>%{hovertext}</b><br><br>Country=Spain<br>Year=2007<br>GDP=%{marker.size}<br>RoadSpending=%{y}<extra></extra>",
           "hovertext": [
            "Spain"
           ],
           "legendgroup": "Spain",
           "marker": {
            "color": "#FFA15A",
            "size": [
             1314458800000
            ],
            "sizemode": "area",
            "sizeref": 1119177225,
            "symbol": "circle"
           },
           "mode": "markers",
           "name": "Spain",
           "orientation": "v",
           "showlegend": true,
           "type": "scatter",
           "x": [
            1314458800000
           ],
           "xaxis": "x",
           "y": [
            8077000000
           ],
           "yaxis": "y"
          },
          {
           "hovertemplate": "<b>%{hovertext}</b><br><br>Country=Sweden<br>Year=2007<br>GDP=%{marker.size}<br>RoadSpending=%{y}<extra></extra>",
           "hovertext": [
            "Sweden"
           ],
           "legendgroup": "Sweden",
           "marker": {
            "color": "#19d3f3",
            "size": [
             436146280000
            ],
            "sizemode": "area",
            "sizeref": 1119177225,
            "symbol": "circle"
           },
           "mode": "markers",
           "name": "Sweden",
           "orientation": "v",
           "showlegend": true,
           "type": "scatter",
           "x": [
            436146280000
           ],
           "xaxis": "x",
           "y": [
            1422704035
           ],
           "yaxis": "y"
          }
         ],
         "name": "2007"
        },
        {
         "data": [
          {
           "hovertemplate": "<b>%{hovertext}</b><br><br>Country=Austria<br>Year=2008<br>GDP=%{marker.size}<br>RoadSpending=%{y}<extra></extra>",
           "hovertext": [
            "Austria"
           ],
           "legendgroup": "Austria",
           "marker": {
            "color": "#636efa",
            "size": [
             384484450000
            ],
            "sizemode": "area",
            "sizeref": 1119177225,
            "symbol": "circle"
           },
           "mode": "markers",
           "name": "Austria",
           "orientation": "v",
           "showlegend": true,
           "type": "scatter",
           "x": [
            384484450000
           ],
           "xaxis": "x",
           "y": [
            null
           ],
           "yaxis": "y"
          },
          {
           "hovertemplate": "<b>%{hovertext}</b><br><br>Country=Belgium<br>Year=2008<br>GDP=%{marker.size}<br>RoadSpending=%{y}<extra></extra>",
           "hovertext": [
            "Belgium"
           ],
           "legendgroup": "Belgium",
           "marker": {
            "color": "#EF553B",
            "size": [
             460370300000
            ],
            "sizemode": "area",
            "sizeref": 1119177225,
            "symbol": "circle"
           },
           "mode": "markers",
           "name": "Belgium",
           "orientation": "v",
           "showlegend": true,
           "type": "scatter",
           "x": [
            460370300000
           ],
           "xaxis": "x",
           "y": [
            156000000
           ],
           "yaxis": "y"
          },
          {
           "hovertemplate": "<b>%{hovertext}</b><br><br>Country=Bulgaria<br>Year=2008<br>GDP=%{marker.size}<br>RoadSpending=%{y}<extra></extra>",
           "hovertext": [
            "Bulgaria"
           ],
           "legendgroup": "Bulgaria",
           "marker": {
            "color": "#00cc96",
            "size": [
             48483640000
            ],
            "sizemode": "area",
            "sizeref": 1119177225,
            "symbol": "circle"
           },
           "mode": "markers",
           "name": "Bulgaria",
           "orientation": "v",
           "showlegend": true,
           "type": "scatter",
           "x": [
            48483640000
           ],
           "xaxis": "x",
           "y": [
            256161161.7
           ],
           "yaxis": "y"
          },
          {
           "hovertemplate": "<b>%{hovertext}</b><br><br>Country=Croatia<br>Year=2008<br>GDP=%{marker.size}<br>RoadSpending=%{y}<extra></extra>",
           "hovertext": [
            "Croatia"
           ],
           "legendgroup": "Croatia",
           "marker": {
            "color": "#ab63fa",
            "size": [
             60978350000
            ],
            "sizemode": "area",
            "sizeref": 1119177225,
            "symbol": "circle"
           },
           "mode": "markers",
           "name": "Croatia",
           "orientation": "v",
           "showlegend": true,
           "type": "scatter",
           "x": [
            60978350000
           ],
           "xaxis": "x",
           "y": [
            1055942664
           ],
           "yaxis": "y"
          },
          {
           "hovertemplate": "<b>%{hovertext}</b><br><br>Country=Czechia<br>Year=2008<br>GDP=%{marker.size}<br>RoadSpending=%{y}<extra></extra>",
           "hovertext": [
            "Czechia"
           ],
           "legendgroup": "Czechia",
           "marker": {
            "color": "#FFA15A",
            "size": [
             210769800000
            ],
            "sizemode": "area",
            "sizeref": 1119177225,
            "symbol": "circle"
           },
           "mode": "markers",
           "name": "Czechia",
           "orientation": "v",
           "showlegend": true,
           "type": "scatter",
           "x": [
            210769800000
           ],
           "xaxis": "x",
           "y": [
            2041828599
           ],
           "yaxis": "y"
          },
          {
           "hovertemplate": "<b>%{hovertext}</b><br><br>Country=Denmark<br>Year=2008<br>GDP=%{marker.size}<br>RoadSpending=%{y}<extra></extra>",
           "hovertext": [
            "Denmark"
           ],
           "legendgroup": "Denmark",
           "marker": {
            "color": "#19d3f3",
            "size": [
             315929530000
            ],
            "sizemode": "area",
            "sizeref": 1119177225,
            "symbol": "circle"
           },
           "mode": "markers",
           "name": "Denmark",
           "orientation": "v",
           "showlegend": true,
           "type": "scatter",
           "x": [
            315929530000
           ],
           "xaxis": "x",
           "y": [
            935622317.6
           ],
           "yaxis": "y"
          },
          {
           "hovertemplate": "<b>%{hovertext}</b><br><br>Country=Estonia<br>Year=2008<br>GDP=%{marker.size}<br>RoadSpending=%{y}<extra></extra>",
           "hovertext": [
            "Estonia"
           ],
           "legendgroup": "Estonia",
           "marker": {
            "color": "#FF6692",
            "size": [
             21746260000
            ],
            "sizemode": "area",
            "sizeref": 1119177225,
            "symbol": "circle"
           },
           "mode": "markers",
           "name": "Estonia",
           "orientation": "v",
           "showlegend": true,
           "type": "scatter",
           "x": [
            21746260000
           ],
           "xaxis": "x",
           "y": [
            142000000
           ],
           "yaxis": "y"
          },
          {
           "hovertemplate": "<b>%{hovertext}</b><br><br>Country=Finland<br>Year=2008<br>GDP=%{marker.size}<br>RoadSpending=%{y}<extra></extra>",
           "hovertext": [
            "Finland"
           ],
           "legendgroup": "Finland",
           "marker": {
            "color": "#B6E880",
            "size": [
             254243630000
            ],
            "sizemode": "area",
            "sizeref": 1119177225,
            "symbol": "circle"
           },
           "mode": "markers",
           "name": "Finland",
           "orientation": "v",
           "showlegend": true,
           "type": "scatter",
           "x": [
            254243630000
           ],
           "xaxis": "x",
           "y": [
            973000000
           ],
           "yaxis": "y"
          },
          {
           "hovertemplate": "<b>%{hovertext}</b><br><br>Country=France<br>Year=2008<br>GDP=%{marker.size}<br>RoadSpending=%{y}<extra></extra>",
           "hovertext": [
            "France"
           ],
           "legendgroup": "France",
           "marker": {
            "color": "#FF97FF",
            "size": [
             2604569870000
            ],
            "sizemode": "area",
            "sizeref": 1119177225,
            "symbol": "circle"
           },
           "mode": "markers",
           "name": "France",
           "orientation": "v",
           "showlegend": true,
           "type": "scatter",
           "x": [
            2604569870000
           ],
           "xaxis": "x",
           "y": [
            14036319131
           ],
           "yaxis": "y"
          },
          {
           "hovertemplate": "<b>%{hovertext}</b><br><br>Country=Germany<br>Year=2008<br>GDP=%{marker.size}<br>RoadSpending=%{y}<extra></extra>",
           "hovertext": [
            "Germany"
           ],
           "legendgroup": "Germany",
           "marker": {
            "color": "#FECB52",
            "size": [
             3389448410000
            ],
            "sizemode": "area",
            "sizeref": 1119177225,
            "symbol": "circle"
           },
           "mode": "markers",
           "name": "Germany",
           "orientation": "v",
           "showlegend": true,
           "type": "scatter",
           "x": [
            3389448410000
           ],
           "xaxis": "x",
           "y": [
            11410000000
           ],
           "yaxis": "y"
          },
          {
           "hovertemplate": "<b>%{hovertext}</b><br><br>Country=Greece<br>Year=2008<br>GDP=%{marker.size}<br>RoadSpending=%{y}<extra></extra>",
           "hovertext": [
            "Greece"
           ],
           "legendgroup": "Greece",
           "marker": {
            "color": "#636efa",
            "size": [
             316724300000
            ],
            "sizemode": "area",
            "sizeref": 1119177225,
            "symbol": "circle"
           },
           "mode": "markers",
           "name": "Greece",
           "orientation": "v",
           "showlegend": true,
           "type": "scatter",
           "x": [
            316724300000
           ],
           "xaxis": "x",
           "y": [
            1760000000
           ],
           "yaxis": "y"
          },
          {
           "hovertemplate": "<b>%{hovertext}</b><br><br>Country=Hungary<br>Year=2008<br>GDP=%{marker.size}<br>RoadSpending=%{y}<extra></extra>",
           "hovertext": [
            "Hungary"
           ],
           "legendgroup": "Hungary",
           "marker": {
            "color": "#EF553B",
            "size": [
             140910140000
            ],
            "sizemode": "area",
            "sizeref": 1119177225,
            "symbol": "circle"
           },
           "mode": "markers",
           "name": "Hungary",
           "orientation": "v",
           "showlegend": true,
           "type": "scatter",
           "x": [
            140910140000
           ],
           "xaxis": "x",
           "y": [
            977883708.2
           ],
           "yaxis": "y"
          },
          {
           "hovertemplate": "<b>%{hovertext}</b><br><br>Country=Ireland<br>Year=2008<br>GDP=%{marker.size}<br>RoadSpending=%{y}<extra></extra>",
           "hovertext": [
            "Ireland"
           ],
           "legendgroup": "Ireland",
           "marker": {
            "color": "#00cc96",
            "size": [
             245121130000
            ],
            "sizemode": "area",
            "sizeref": 1119177225,
            "symbol": "circle"
           },
           "mode": "markers",
           "name": "Ireland",
           "orientation": "v",
           "showlegend": true,
           "type": "scatter",
           "x": [
            245121130000
           ],
           "xaxis": "x",
           "y": [
            2069000000
           ],
           "yaxis": "y"
          },
          {
           "hovertemplate": "<b>%{hovertext}</b><br><br>Country=Italy<br>Year=2008<br>GDP=%{marker.size}<br>RoadSpending=%{y}<extra></extra>",
           "hovertext": [
            "Italy"
           ],
           "legendgroup": "Italy",
           "marker": {
            "color": "#ab63fa",
            "size": [
             2151345380000
            ],
            "sizemode": "area",
            "sizeref": 1119177225,
            "symbol": "circle"
           },
           "mode": "markers",
           "name": "Italy",
           "orientation": "v",
           "showlegend": true,
           "type": "scatter",
           "x": [
            2151345380000
           ],
           "xaxis": "x",
           "y": [
            13051000000
           ],
           "yaxis": "y"
          },
          {
           "hovertemplate": "<b>%{hovertext}</b><br><br>Country=Latvia<br>Year=2008<br>GDP=%{marker.size}<br>RoadSpending=%{y}<extra></extra>",
           "hovertext": [
            "Latvia"
           ],
           "legendgroup": "Latvia",
           "marker": {
            "color": "#FFA15A",
            "size": [
             32060470000
            ],
            "sizemode": "area",
            "sizeref": 1119177225,
            "symbol": "circle"
           },
           "mode": "markers",
           "name": "Latvia",
           "orientation": "v",
           "showlegend": true,
           "type": "scatter",
           "x": [
            32060470000
           ],
           "xaxis": "x",
           "y": [
            272000000
           ],
           "yaxis": "y"
          },
          {
           "hovertemplate": "<b>%{hovertext}</b><br><br>Country=Lithuania<br>Year=2008<br>GDP=%{marker.size}<br>RoadSpending=%{y}<extra></extra>",
           "hovertext": [
            "Lithuania"
           ],
           "legendgroup": "Lithuania",
           "marker": {
            "color": "#19d3f3",
            "size": [
             42658590000
            ],
            "sizemode": "area",
            "sizeref": 1119177225,
            "symbol": "circle"
           },
           "mode": "markers",
           "name": "Lithuania",
           "orientation": "v",
           "showlegend": true,
           "type": "scatter",
           "x": [
            42658590000
           ],
           "xaxis": "x",
           "y": [
            437000000
           ],
           "yaxis": "y"
          },
          {
           "hovertemplate": "<b>%{hovertext}</b><br><br>Country=Luxembourg<br>Year=2008<br>GDP=%{marker.size}<br>RoadSpending=%{y}<extra></extra>",
           "hovertext": [
            "Luxembourg"
           ],
           "legendgroup": "Luxembourg",
           "marker": {
            "color": "#FF6692",
            "size": [
             52365820000
            ],
            "sizemode": "area",
            "sizeref": 1119177225,
            "symbol": "circle"
           },
           "mode": "markers",
           "name": "Luxembourg",
           "orientation": "v",
           "showlegend": true,
           "type": "scatter",
           "x": [
            52365820000
           ],
           "xaxis": "x",
           "y": [
            137772604.6
           ],
           "yaxis": "y"
          },
          {
           "hovertemplate": "<b>%{hovertext}</b><br><br>Country=Malta<br>Year=2008<br>GDP=%{marker.size}<br>RoadSpending=%{y}<extra></extra>",
           "hovertext": [
            "Malta"
           ],
           "legendgroup": "Malta",
           "marker": {
            "color": "#B6E880",
            "size": [
             8162190000
            ],
            "sizemode": "area",
            "sizeref": 1119177225,
            "symbol": "circle"
           },
           "mode": "markers",
           "name": "Malta",
           "orientation": "v",
           "showlegend": true,
           "type": "scatter",
           "x": [
            8162190000
           ],
           "xaxis": "x",
           "y": [
            16097173.42
           ],
           "yaxis": "y"
          },
          {
           "hovertemplate": "<b>%{hovertext}</b><br><br>Country=Netherlands<br>Year=2008<br>GDP=%{marker.size}<br>RoadSpending=%{y}<extra></extra>",
           "hovertext": [
            "Netherlands"
           ],
           "legendgroup": "Netherlands",
           "marker": {
            "color": "#FF97FF",
            "size": [
             852439330000
            ],
            "sizemode": "area",
            "sizeref": 1119177225,
            "symbol": "circle"
           },
           "mode": "markers",
           "name": "Netherlands",
           "orientation": "v",
           "showlegend": true,
           "type": "scatter",
           "x": [
            852439330000
           ],
           "xaxis": "x",
           "y": [
            2194000000
           ],
           "yaxis": "y"
          },
          {
           "hovertemplate": "<b>%{hovertext}</b><br><br>Country=Poland<br>Year=2008<br>GDP=%{marker.size}<br>RoadSpending=%{y}<extra></extra>",
           "hovertext": [
            "Poland"
           ],
           "legendgroup": "Poland",
           "marker": {
            "color": "#FECB52",
            "size": [
             474904000000
            ],
            "sizemode": "area",
            "sizeref": 1119177225,
            "symbol": "circle"
           },
           "mode": "markers",
           "name": "Poland",
           "orientation": "v",
           "showlegend": true,
           "type": "scatter",
           "x": [
            474904000000
           ],
           "xaxis": "x",
           "y": [
            4504566015
           ],
           "yaxis": "y"
          },
          {
           "hovertemplate": "<b>%{hovertext}</b><br><br>Country=Portugal<br>Year=2008<br>GDP=%{marker.size}<br>RoadSpending=%{y}<extra></extra>",
           "hovertext": [
            "Portugal"
           ],
           "legendgroup": "Portugal",
           "marker": {
            "color": "#636efa",
            "size": [
             234415319999.99997
            ],
            "sizemode": "area",
            "sizeref": 1119177225,
            "symbol": "circle"
           },
           "mode": "markers",
           "name": "Portugal",
           "orientation": "v",
           "showlegend": true,
           "type": "scatter",
           "x": [
            234415319999.99997
           ],
           "xaxis": "x",
           "y": [
            1366000000
           ],
           "yaxis": "y"
          },
          {
           "hovertemplate": "<b>%{hovertext}</b><br><br>Country=Romania<br>Year=2008<br>GDP=%{marker.size}<br>RoadSpending=%{y}<extra></extra>",
           "hovertext": [
            "Romania"
           ],
           "legendgroup": "Romania",
           "marker": {
            "color": "#EF553B",
            "size": [
             191855520000
            ],
            "sizemode": "area",
            "sizeref": 1119177225,
            "symbol": "circle"
           },
           "mode": "markers",
           "name": "Romania",
           "orientation": "v",
           "showlegend": true,
           "type": "scatter",
           "x": [
            191855520000
           ],
           "xaxis": "x",
           "y": [
            3889793702
           ],
           "yaxis": "y"
          },
          {
           "hovertemplate": "<b>%{hovertext}</b><br><br>Country=Slovak Republic<br>Year=2008<br>GDP=%{marker.size}<br>RoadSpending=%{y}<extra></extra>",
           "hovertext": [
            "Slovak Republic"
           ],
           "legendgroup": "Slovak Republic",
           "marker": {
            "color": "#00cc96",
            "size": [
             86481300000
            ],
            "sizemode": "area",
            "sizeref": 1119177225,
            "symbol": "circle"
           },
           "mode": "markers",
           "name": "Slovak Republic",
           "orientation": "v",
           "showlegend": true,
           "type": "scatter",
           "x": [
            86481300000
           ],
           "xaxis": "x",
           "y": [
            566000000
           ],
           "yaxis": "y"
          },
          {
           "hovertemplate": "<b>%{hovertext}</b><br><br>Country=Slovenia<br>Year=2008<br>GDP=%{marker.size}<br>RoadSpending=%{y}<extra></extra>",
           "hovertext": [
            "Slovenia"
           ],
           "legendgroup": "Slovenia",
           "marker": {
            "color": "#ab63fa",
            "size": [
             49397670000
            ],
            "sizemode": "area",
            "sizeref": 1119177225,
            "symbol": "circle"
           },
           "mode": "markers",
           "name": "Slovenia",
           "orientation": "v",
           "showlegend": true,
           "type": "scatter",
           "x": [
            49397670000
           ],
           "xaxis": "x",
           "y": [
            694000000
           ],
           "yaxis": "y"
          },
          {
           "hovertemplate": "<b>%{hovertext}</b><br><br>Country=Spain<br>Year=2008<br>GDP=%{marker.size}<br>RoadSpending=%{y}<extra></extra>",
           "hovertext": [
            "Spain"
           ],
           "legendgroup": "Spain",
           "marker": {
            "color": "#FFA15A",
            "size": [
             1455983040000
            ],
            "sizemode": "area",
            "sizeref": 1119177225,
            "symbol": "circle"
           },
           "mode": "markers",
           "name": "Spain",
           "orientation": "v",
           "showlegend": true,
           "type": "scatter",
           "x": [
            1455983040000
           ],
           "xaxis": "x",
           "y": [
            8522000000
           ],
           "yaxis": "y"
          },
          {
           "hovertemplate": "<b>%{hovertext}</b><br><br>Country=Sweden<br>Year=2008<br>GDP=%{marker.size}<br>RoadSpending=%{y}<extra></extra>",
           "hovertext": [
            "Sweden"
           ],
           "legendgroup": "Sweden",
           "marker": {
            "color": "#19d3f3",
            "size": [
             458009129999.99994
            ],
            "sizemode": "area",
            "sizeref": 1119177225,
            "symbol": "circle"
           },
           "mode": "markers",
           "name": "Sweden",
           "orientation": "v",
           "showlegend": true,
           "type": "scatter",
           "x": [
            458009129999.99994
           ],
           "xaxis": "x",
           "y": [
            1604051202
           ],
           "yaxis": "y"
          }
         ],
         "name": "2008"
        },
        {
         "data": [
          {
           "hovertemplate": "<b>%{hovertext}</b><br><br>Country=Austria<br>Year=2009<br>GDP=%{marker.size}<br>RoadSpending=%{y}<extra></extra>",
           "hovertext": [
            "Austria"
           ],
           "legendgroup": "Austria",
           "marker": {
            "color": "#636efa",
            "size": [
             357177470000
            ],
            "sizemode": "area",
            "sizeref": 1119177225,
            "symbol": "circle"
           },
           "mode": "markers",
           "name": "Austria",
           "orientation": "v",
           "showlegend": true,
           "type": "scatter",
           "x": [
            357177470000
           ],
           "xaxis": "x",
           "y": [
            null
           ],
           "yaxis": "y"
          },
          {
           "hovertemplate": "<b>%{hovertext}</b><br><br>Country=Belgium<br>Year=2009<br>GDP=%{marker.size}<br>RoadSpending=%{y}<extra></extra>",
           "hovertext": [
            "Belgium"
           ],
           "legendgroup": "Belgium",
           "marker": {
            "color": "#EF553B",
            "size": [
             429629700000
            ],
            "sizemode": "area",
            "sizeref": 1119177225,
            "symbol": "circle"
           },
           "mode": "markers",
           "name": "Belgium",
           "orientation": "v",
           "showlegend": true,
           "type": "scatter",
           "x": [
            429629700000
           ],
           "xaxis": "x",
           "y": [
            175000000
           ],
           "yaxis": "y"
          },
          {
           "hovertemplate": "<b>%{hovertext}</b><br><br>Country=Bulgaria<br>Year=2009<br>GDP=%{marker.size}<br>RoadSpending=%{y}<extra></extra>",
           "hovertext": [
            "Bulgaria"
           ],
           "legendgroup": "Bulgaria",
           "marker": {
            "color": "#00cc96",
            "size": [
             46301360000
            ],
            "sizemode": "area",
            "sizeref": 1119177225,
            "symbol": "circle"
           },
           "mode": "markers",
           "name": "Bulgaria",
           "orientation": "v",
           "showlegend": true,
           "type": "scatter",
           "x": [
            46301360000
           ],
           "xaxis": "x",
           "y": [
            130892729.3
           ],
           "yaxis": "y"
          },
          {
           "hovertemplate": "<b>%{hovertext}</b><br><br>Country=Croatia<br>Year=2009<br>GDP=%{marker.size}<br>RoadSpending=%{y}<extra></extra>",
           "hovertext": [
            "Croatia"
           ],
           "legendgroup": "Croatia",
           "marker": {
            "color": "#ab63fa",
            "size": [
             55204920000
            ],
            "sizemode": "area",
            "sizeref": 1119177225,
            "symbol": "circle"
           },
           "mode": "markers",
           "name": "Croatia",
           "orientation": "v",
           "showlegend": true,
           "type": "scatter",
           "x": [
            55204920000
           ],
           "xaxis": "x",
           "y": [
            885792023.4
           ],
           "yaxis": "y"
          },
          {
           "hovertemplate": "<b>%{hovertext}</b><br><br>Country=Czechia<br>Year=2009<br>GDP=%{marker.size}<br>RoadSpending=%{y}<extra></extra>",
           "hovertext": [
            "Czechia"
           ],
           "legendgroup": "Czechia",
           "marker": {
            "color": "#FFA15A",
            "size": [
             184314550000
            ],
            "sizemode": "area",
            "sizeref": 1119177225,
            "symbol": "circle"
           },
           "mode": "markers",
           "name": "Czechia",
           "orientation": "v",
           "showlegend": true,
           "type": "scatter",
           "x": [
            184314550000
           ],
           "xaxis": "x",
           "y": [
            1985424195
           ],
           "yaxis": "y"
          },
          {
           "hovertemplate": "<b>%{hovertext}</b><br><br>Country=Denmark<br>Year=2009<br>GDP=%{marker.size}<br>RoadSpending=%{y}<extra></extra>",
           "hovertext": [
            "Denmark"
           ],
           "legendgroup": "Denmark",
           "marker": {
            "color": "#19d3f3",
            "size": [
             287132690000
            ],
            "sizemode": "area",
            "sizeref": 1119177225,
            "symbol": "circle"
           },
           "mode": "markers",
           "name": "Denmark",
           "orientation": "v",
           "showlegend": true,
           "type": "scatter",
           "x": [
            287132690000
           ],
           "xaxis": "x",
           "y": [
            713777312.2
           ],
           "yaxis": "y"
          },
          {
           "hovertemplate": "<b>%{hovertext}</b><br><br>Country=Estonia<br>Year=2009<br>GDP=%{marker.size}<br>RoadSpending=%{y}<extra></extra>",
           "hovertext": [
            "Estonia"
           ],
           "legendgroup": "Estonia",
           "marker": {
            "color": "#FF6692",
            "size": [
             17527660000
            ],
            "sizemode": "area",
            "sizeref": 1119177225,
            "symbol": "circle"
           },
           "mode": "markers",
           "name": "Estonia",
           "orientation": "v",
           "showlegend": true,
           "type": "scatter",
           "x": [
            17527660000
           ],
           "xaxis": "x",
           "y": [
            119000000
           ],
           "yaxis": "y"
          },
          {
           "hovertemplate": "<b>%{hovertext}</b><br><br>Country=Finland<br>Year=2009<br>GDP=%{marker.size}<br>RoadSpending=%{y}<extra></extra>",
           "hovertext": [
            "Finland"
           ],
           "legendgroup": "Finland",
           "marker": {
            "color": "#B6E880",
            "size": [
             225353340000
            ],
            "sizemode": "area",
            "sizeref": 1119177225,
            "symbol": "circle"
           },
           "mode": "markers",
           "name": "Finland",
           "orientation": "v",
           "showlegend": true,
           "type": "scatter",
           "x": [
            225353340000
           ],
           "xaxis": "x",
           "y": [
            922000000
           ],
           "yaxis": "y"
          },
          {
           "hovertemplate": "<b>%{hovertext}</b><br><br>Country=France<br>Year=2009<br>GDP=%{marker.size}<br>RoadSpending=%{y}<extra></extra>",
           "hovertext": [
            "France"
           ],
           "legendgroup": "France",
           "marker": {
            "color": "#FF97FF",
            "size": [
             2400458160000
            ],
            "sizemode": "area",
            "sizeref": 1119177225,
            "symbol": "circle"
           },
           "mode": "markers",
           "name": "France",
           "orientation": "v",
           "showlegend": true,
           "type": "scatter",
           "x": [
            2400458160000
           ],
           "xaxis": "x",
           "y": [
            14277760990
           ],
           "yaxis": "y"
          },
          {
           "hovertemplate": "<b>%{hovertext}</b><br><br>Country=Germany<br>Year=2009<br>GDP=%{marker.size}<br>RoadSpending=%{y}<extra></extra>",
           "hovertext": [
            "Germany"
           ],
           "legendgroup": "Germany",
           "marker": {
            "color": "#FECB52",
            "size": [
             3093659580000
            ],
            "sizemode": "area",
            "sizeref": 1119177225,
            "symbol": "circle"
           },
           "mode": "markers",
           "name": "Germany",
           "orientation": "v",
           "showlegend": true,
           "type": "scatter",
           "x": [
            3093659580000
           ],
           "xaxis": "x",
           "y": [
            12620000000
           ],
           "yaxis": "y"
          },
          {
           "hovertemplate": "<b>%{hovertext}</b><br><br>Country=Greece<br>Year=2009<br>GDP=%{marker.size}<br>RoadSpending=%{y}<extra></extra>",
           "hovertext": [
            "Greece"
           ],
           "legendgroup": "Greece",
           "marker": {
            "color": "#636efa",
            "size": [
             294544610000
            ],
            "sizemode": "area",
            "sizeref": 1119177225,
            "symbol": "circle"
           },
           "mode": "markers",
           "name": "Greece",
           "orientation": "v",
           "showlegend": true,
           "type": "scatter",
           "x": [
            294544610000
           ],
           "xaxis": "x",
           "y": [
            1791000000
           ],
           "yaxis": "y"
          },
          {
           "hovertemplate": "<b>%{hovertext}</b><br><br>Country=Hungary<br>Year=2009<br>GDP=%{marker.size}<br>RoadSpending=%{y}<extra></extra>",
           "hovertext": [
            "Hungary"
           ],
           "legendgroup": "Hungary",
           "marker": {
            "color": "#EF553B",
            "size": [
             116651409999.99998
            ],
            "sizemode": "area",
            "sizeref": 1119177225,
            "symbol": "circle"
           },
           "mode": "markers",
           "name": "Hungary",
           "orientation": "v",
           "showlegend": true,
           "type": "scatter",
           "x": [
            116651409999.99998
           ],
           "xaxis": "x",
           "y": [
            1565229294
           ],
           "yaxis": "y"
          },
          {
           "hovertemplate": "<b>%{hovertext}</b><br><br>Country=Ireland<br>Year=2009<br>GDP=%{marker.size}<br>RoadSpending=%{y}<extra></extra>",
           "hovertext": [
            "Ireland"
           ],
           "legendgroup": "Ireland",
           "marker": {
            "color": "#00cc96",
            "size": [
             210206430000
            ],
            "sizemode": "area",
            "sizeref": 1119177225,
            "symbol": "circle"
           },
           "mode": "markers",
           "name": "Ireland",
           "orientation": "v",
           "showlegend": true,
           "type": "scatter",
           "x": [
            210206430000
           ],
           "xaxis": "x",
           "y": [
            1769000000
           ],
           "yaxis": "y"
          },
          {
           "hovertemplate": "<b>%{hovertext}</b><br><br>Country=Italy<br>Year=2009<br>GDP=%{marker.size}<br>RoadSpending=%{y}<extra></extra>",
           "hovertext": [
            "Italy"
           ],
           "legendgroup": "Italy",
           "marker": {
            "color": "#ab63fa",
            "size": [
             1964307430000
            ],
            "sizemode": "area",
            "sizeref": 1119177225,
            "symbol": "circle"
           },
           "mode": "markers",
           "name": "Italy",
           "orientation": "v",
           "showlegend": true,
           "type": "scatter",
           "x": [
            1964307430000
           ],
           "xaxis": "x",
           "y": [
            5641000000
           ],
           "yaxis": "y"
          },
          {
           "hovertemplate": "<b>%{hovertext}</b><br><br>Country=Latvia<br>Year=2009<br>GDP=%{marker.size}<br>RoadSpending=%{y}<extra></extra>",
           "hovertext": [
            "Latvia"
           ],
           "legendgroup": "Latvia",
           "marker": {
            "color": "#FFA15A",
            "size": [
             23567200000
            ],
            "sizemode": "area",
            "sizeref": 1119177225,
            "symbol": "circle"
           },
           "mode": "markers",
           "name": "Latvia",
           "orientation": "v",
           "showlegend": true,
           "type": "scatter",
           "x": [
            23567200000
           ],
           "xaxis": "x",
           "y": [
            132000000
           ],
           "yaxis": "y"
          },
          {
           "hovertemplate": "<b>%{hovertext}</b><br><br>Country=Lithuania<br>Year=2009<br>GDP=%{marker.size}<br>RoadSpending=%{y}<extra></extra>",
           "hovertext": [
            "Lithuania"
           ],
           "legendgroup": "Lithuania",
           "marker": {
            "color": "#19d3f3",
            "size": [
             33360760000
            ],
            "sizemode": "area",
            "sizeref": 1119177225,
            "symbol": "circle"
           },
           "mode": "markers",
           "name": "Lithuania",
           "orientation": "v",
           "showlegend": true,
           "type": "scatter",
           "x": [
            33360760000
           ],
           "xaxis": "x",
           "y": [
            448000000
           ],
           "yaxis": "y"
          },
          {
           "hovertemplate": "<b>%{hovertext}</b><br><br>Country=Luxembourg<br>Year=2009<br>GDP=%{marker.size}<br>RoadSpending=%{y}<extra></extra>",
           "hovertext": [
            "Luxembourg"
           ],
           "legendgroup": "Luxembourg",
           "marker": {
            "color": "#FF6692",
            "size": [
             48423120000
            ],
            "sizemode": "area",
            "sizeref": 1119177225,
            "symbol": "circle"
           },
           "mode": "markers",
           "name": "Luxembourg",
           "orientation": "v",
           "showlegend": true,
           "type": "scatter",
           "x": [
            48423120000
           ],
           "xaxis": "x",
           "y": [
            148466156.5
           ],
           "yaxis": "y"
          },
          {
           "hovertemplate": "<b>%{hovertext}</b><br><br>Country=Malta<br>Year=2009<br>GDP=%{marker.size}<br>RoadSpending=%{y}<extra></extra>",
           "hovertext": [
            "Malta"
           ],
           "legendgroup": "Malta",
           "marker": {
            "color": "#B6E880",
            "size": [
             7796400000
            ],
            "sizemode": "area",
            "sizeref": 1119177225,
            "symbol": "circle"
           },
           "mode": "markers",
           "name": "Malta",
           "orientation": "v",
           "showlegend": true,
           "type": "scatter",
           "x": [
            7796400000
           ],
           "xaxis": "x",
           "y": [
            3701352.28
           ],
           "yaxis": "y"
          },
          {
           "hovertemplate": "<b>%{hovertext}</b><br><br>Country=Netherlands<br>Year=2009<br>GDP=%{marker.size}<br>RoadSpending=%{y}<extra></extra>",
           "hovertext": [
            "Netherlands"
           ],
           "legendgroup": "Netherlands",
           "marker": {
            "color": "#FF97FF",
            "size": [
             781420000000
            ],
            "sizemode": "area",
            "sizeref": 1119177225,
            "symbol": "circle"
           },
           "mode": "markers",
           "name": "Netherlands",
           "orientation": "v",
           "showlegend": true,
           "type": "scatter",
           "x": [
            781420000000
           ],
           "xaxis": "x",
           "y": [
            2363000000
           ],
           "yaxis": "y"
          },
          {
           "hovertemplate": "<b>%{hovertext}</b><br><br>Country=Poland<br>Year=2009<br>GDP=%{marker.size}<br>RoadSpending=%{y}<extra></extra>",
           "hovertext": [
            "Poland"
           ],
           "legendgroup": "Poland",
           "marker": {
            "color": "#FECB52",
            "size": [
             391416660000
            ],
            "sizemode": "area",
            "sizeref": 1119177225,
            "symbol": "circle"
           },
           "mode": "markers",
           "name": "Poland",
           "orientation": "v",
           "showlegend": true,
           "type": "scatter",
           "x": [
            391416660000
           ],
           "xaxis": "x",
           "y": [
            5337659938
           ],
           "yaxis": "y"
          },
          {
           "hovertemplate": "<b>%{hovertext}</b><br><br>Country=Portugal<br>Year=2009<br>GDP=%{marker.size}<br>RoadSpending=%{y}<extra></extra>",
           "hovertext": [
            "Portugal"
           ],
           "legendgroup": "Portugal",
           "marker": {
            "color": "#636efa",
            "size": [
             217517780000
            ],
            "sizemode": "area",
            "sizeref": 1119177225,
            "symbol": "circle"
           },
           "mode": "markers",
           "name": "Portugal",
           "orientation": "v",
           "showlegend": true,
           "type": "scatter",
           "x": [
            217517780000
           ],
           "xaxis": "x",
           "y": [
            951000000
           ],
           "yaxis": "y"
          },
          {
           "hovertemplate": "<b>%{hovertext}</b><br><br>Country=Romania<br>Year=2009<br>GDP=%{marker.size}<br>RoadSpending=%{y}<extra></extra>",
           "hovertext": [
            "Romania"
           ],
           "legendgroup": "Romania",
           "marker": {
            "color": "#EF553B",
            "size": [
             155361960000
            ],
            "sizemode": "area",
            "sizeref": 1119177225,
            "symbol": "circle"
           },
           "mode": "markers",
           "name": "Romania",
           "orientation": "v",
           "showlegend": true,
           "type": "scatter",
           "x": [
            155361960000
           ],
           "xaxis": "x",
           "y": [
            3105245778
           ],
           "yaxis": "y"
          },
          {
           "hovertemplate": "<b>%{hovertext}</b><br><br>Country=Slovak Republic<br>Year=2009<br>GDP=%{marker.size}<br>RoadSpending=%{y}<extra></extra>",
           "hovertext": [
            "Slovak Republic"
           ],
           "legendgroup": "Slovak Republic",
           "marker": {
            "color": "#00cc96",
            "size": [
             79478780000
            ],
            "sizemode": "area",
            "sizeref": 1119177225,
            "symbol": "circle"
           },
           "mode": "markers",
           "name": "Slovak Republic",
           "orientation": "v",
           "showlegend": true,
           "type": "scatter",
           "x": [
            79478780000
           ],
           "xaxis": "x",
           "y": [
            662000000
           ],
           "yaxis": "y"
          },
          {
           "hovertemplate": "<b>%{hovertext}</b><br><br>Country=Slovenia<br>Year=2009<br>GDP=%{marker.size}<br>RoadSpending=%{y}<extra></extra>",
           "hovertext": [
            "Slovenia"
           ],
           "legendgroup": "Slovenia",
           "marker": {
            "color": "#ab63fa",
            "size": [
             44429690000
            ],
            "sizemode": "area",
            "sizeref": 1119177225,
            "symbol": "circle"
           },
           "mode": "markers",
           "name": "Slovenia",
           "orientation": "v",
           "showlegend": true,
           "type": "scatter",
           "x": [
            44429690000
           ],
           "xaxis": "x",
           "y": [
            406000000
           ],
           "yaxis": "y"
          },
          {
           "hovertemplate": "<b>%{hovertext}</b><br><br>Country=Spain<br>Year=2009<br>GDP=%{marker.size}<br>RoadSpending=%{y}<extra></extra>",
           "hovertext": [
            "Spain"
           ],
           "legendgroup": "Spain",
           "marker": {
            "color": "#FFA15A",
            "size": [
             1330517070000
            ],
            "sizemode": "area",
            "sizeref": 1119177225,
            "symbol": "circle"
           },
           "mode": "markers",
           "name": "Spain",
           "orientation": "v",
           "showlegend": true,
           "type": "scatter",
           "x": [
            1330517070000
           ],
           "xaxis": "x",
           "y": [
            9422000000
           ],
           "yaxis": "y"
          },
          {
           "hovertemplate": "<b>%{hovertext}</b><br><br>Country=Sweden<br>Year=2009<br>GDP=%{marker.size}<br>RoadSpending=%{y}<extra></extra>",
           "hovertext": [
            "Sweden"
           ],
           "legendgroup": "Sweden",
           "marker": {
            "color": "#19d3f3",
            "size": [
             386538570000
            ],
            "sizemode": "area",
            "sizeref": 1119177225,
            "symbol": "circle"
           },
           "mode": "markers",
           "name": "Sweden",
           "orientation": "v",
           "showlegend": true,
           "type": "scatter",
           "x": [
            386538570000
           ],
           "xaxis": "x",
           "y": [
            1573540490
           ],
           "yaxis": "y"
          }
         ],
         "name": "2009"
        },
        {
         "data": [
          {
           "hovertemplate": "<b>%{hovertext}</b><br><br>Country=Austria<br>Year=2010<br>GDP=%{marker.size}<br>RoadSpending=%{y}<extra></extra>",
           "hovertext": [
            "Austria"
           ],
           "legendgroup": "Austria",
           "marker": {
            "color": "#636efa",
            "size": [
             349409550000
            ],
            "sizemode": "area",
            "sizeref": 1119177225,
            "symbol": "circle"
           },
           "mode": "markers",
           "name": "Austria",
           "orientation": "v",
           "showlegend": true,
           "type": "scatter",
           "x": [
            349409550000
           ],
           "xaxis": "x",
           "y": [
            null
           ],
           "yaxis": "y"
          },
          {
           "hovertemplate": "<b>%{hovertext}</b><br><br>Country=Belgium<br>Year=2010<br>GDP=%{marker.size}<br>RoadSpending=%{y}<extra></extra>",
           "hovertext": [
            "Belgium"
           ],
           "legendgroup": "Belgium",
           "marker": {
            "color": "#EF553B",
            "size": [
             428814460000
            ],
            "sizemode": "area",
            "sizeref": 1119177225,
            "symbol": "circle"
           },
           "mode": "markers",
           "name": "Belgium",
           "orientation": "v",
           "showlegend": true,
           "type": "scatter",
           "x": [
            428814460000
           ],
           "xaxis": "x",
           "y": [
            348000000
           ],
           "yaxis": "y"
          },
          {
           "hovertemplate": "<b>%{hovertext}</b><br><br>Country=Bulgaria<br>Year=2010<br>GDP=%{marker.size}<br>RoadSpending=%{y}<extra></extra>",
           "hovertext": [
            "Bulgaria"
           ],
           "legendgroup": "Bulgaria",
           "marker": {
            "color": "#00cc96",
            "size": [
             45114100000
            ],
            "sizemode": "area",
            "sizeref": 1119177225,
            "symbol": "circle"
           },
           "mode": "markers",
           "name": "Bulgaria",
           "orientation": "v",
           "showlegend": true,
           "type": "scatter",
           "x": [
            45114100000
           ],
           "xaxis": "x",
           "y": [
            370692299.8
           ],
           "yaxis": "y"
          },
          {
           "hovertemplate": "<b>%{hovertext}</b><br><br>Country=Croatia<br>Year=2010<br>GDP=%{marker.size}<br>RoadSpending=%{y}<extra></extra>",
           "hovertext": [
            "Croatia"
           ],
           "legendgroup": "Croatia",
           "marker": {
            "color": "#ab63fa",
            "size": [
             52408540000
            ],
            "sizemode": "area",
            "sizeref": 1119177225,
            "symbol": "circle"
           },
           "mode": "markers",
           "name": "Croatia",
           "orientation": "v",
           "showlegend": true,
           "type": "scatter",
           "x": [
            52408540000
           ],
           "xaxis": "x",
           "y": [
            498506868.4
           ],
           "yaxis": "y"
          },
          {
           "hovertemplate": "<b>%{hovertext}</b><br><br>Country=Czechia<br>Year=2010<br>GDP=%{marker.size}<br>RoadSpending=%{y}<extra></extra>",
           "hovertext": [
            "Czechia"
           ],
           "legendgroup": "Czechia",
           "marker": {
            "color": "#FFA15A",
            "size": [
             187940410000
            ],
            "sizemode": "area",
            "sizeref": 1119177225,
            "symbol": "circle"
           },
           "mode": "markers",
           "name": "Czechia",
           "orientation": "v",
           "showlegend": true,
           "type": "scatter",
           "x": [
            187940410000
           ],
           "xaxis": "x",
           "y": [
            1719545029
           ],
           "yaxis": "y"
          },
          {
           "hovertemplate": "<b>%{hovertext}</b><br><br>Country=Denmark<br>Year=2010<br>GDP=%{marker.size}<br>RoadSpending=%{y}<extra></extra>",
           "hovertext": [
            "Denmark"
           ],
           "legendgroup": "Denmark",
           "marker": {
            "color": "#19d3f3",
            "size": [
             286887940000
            ],
            "sizemode": "area",
            "sizeref": 1119177225,
            "symbol": "circle"
           },
           "mode": "markers",
           "name": "Denmark",
           "orientation": "v",
           "showlegend": true,
           "type": "scatter",
           "x": [
            286887940000
           ],
           "xaxis": "x",
           "y": [
            936593619.1
           ],
           "yaxis": "y"
          },
          {
           "hovertemplate": "<b>%{hovertext}</b><br><br>Country=Estonia<br>Year=2010<br>GDP=%{marker.size}<br>RoadSpending=%{y}<extra></extra>",
           "hovertext": [
            "Estonia"
           ],
           "legendgroup": "Estonia",
           "marker": {
            "color": "#FF6692",
            "size": [
             17416410000
            ],
            "sizemode": "area",
            "sizeref": 1119177225,
            "symbol": "circle"
           },
           "mode": "markers",
           "name": "Estonia",
           "orientation": "v",
           "showlegend": true,
           "type": "scatter",
           "x": [
            17416410000
           ],
           "xaxis": "x",
           "y": [
            137000000
           ],
           "yaxis": "y"
          },
          {
           "hovertemplate": "<b>%{hovertext}</b><br><br>Country=Finland<br>Year=2010<br>GDP=%{marker.size}<br>RoadSpending=%{y}<extra></extra>",
           "hovertext": [
            "Finland"
           ],
           "legendgroup": "Finland",
           "marker": {
            "color": "#B6E880",
            "size": [
             222173370000
            ],
            "sizemode": "area",
            "sizeref": 1119177225,
            "symbol": "circle"
           },
           "mode": "markers",
           "name": "Finland",
           "orientation": "v",
           "showlegend": true,
           "type": "scatter",
           "x": [
            222173370000
           ],
           "xaxis": "x",
           "y": [
            890000000
           ],
           "yaxis": "y"
          },
          {
           "hovertemplate": "<b>%{hovertext}</b><br><br>Country=France<br>Year=2010<br>GDP=%{marker.size}<br>RoadSpending=%{y}<extra></extra>",
           "hovertext": [
            "France"
           ],
           "legendgroup": "France",
           "marker": {
            "color": "#FF97FF",
            "size": [
             2357067990000
            ],
            "sizemode": "area",
            "sizeref": 1119177225,
            "symbol": "circle"
           },
           "mode": "markers",
           "name": "France",
           "orientation": "v",
           "showlegend": true,
           "type": "scatter",
           "x": [
            2357067990000
           ],
           "xaxis": "x",
           "y": [
            14497093953
           ],
           "yaxis": "y"
          },
          {
           "hovertemplate": "<b>%{hovertext}</b><br><br>Country=Germany<br>Year=2010<br>GDP=%{marker.size}<br>RoadSpending=%{y}<extra></extra>",
           "hovertext": [
            "Germany"
           ],
           "legendgroup": "Germany",
           "marker": {
            "color": "#FECB52",
            "size": [
             3089178430000
            ],
            "sizemode": "area",
            "sizeref": 1119177225,
            "symbol": "circle"
           },
           "mode": "markers",
           "name": "Germany",
           "orientation": "v",
           "showlegend": true,
           "type": "scatter",
           "x": [
            3089178430000
           ],
           "xaxis": "x",
           "y": [
            11240000000
           ],
           "yaxis": "y"
          },
          {
           "hovertemplate": "<b>%{hovertext}</b><br><br>Country=Greece<br>Year=2010<br>GDP=%{marker.size}<br>RoadSpending=%{y}<extra></extra>",
           "hovertext": [
            "Greece"
           ],
           "legendgroup": "Greece",
           "marker": {
            "color": "#636efa",
            "size": [
             264657520000
            ],
            "sizemode": "area",
            "sizeref": 1119177225,
            "symbol": "circle"
           },
           "mode": "markers",
           "name": "Greece",
           "orientation": "v",
           "showlegend": true,
           "type": "scatter",
           "x": [
            264657520000
           ],
           "xaxis": "x",
           "y": [
            1155277008
           ],
           "yaxis": "y"
          },
          {
           "hovertemplate": "<b>%{hovertext}</b><br><br>Country=Hungary<br>Year=2010<br>GDP=%{marker.size}<br>RoadSpending=%{y}<extra></extra>",
           "hovertext": [
            "Hungary"
           ],
           "legendgroup": "Hungary",
           "marker": {
            "color": "#EF553B",
            "size": [
             117635750000.00002
            ],
            "sizemode": "area",
            "sizeref": 1119177225,
            "symbol": "circle"
           },
           "mode": "markers",
           "name": "Hungary",
           "orientation": "v",
           "showlegend": true,
           "type": "scatter",
           "x": [
            117635750000.00002
           ],
           "xaxis": "x",
           "y": [
            840161143.7
           ],
           "yaxis": "y"
          },
          {
           "hovertemplate": "<b>%{hovertext}</b><br><br>Country=Ireland<br>Year=2010<br>GDP=%{marker.size}<br>RoadSpending=%{y}<extra></extra>",
           "hovertext": [
            "Ireland"
           ],
           "legendgroup": "Ireland",
           "marker": {
            "color": "#00cc96",
            "size": [
             197728630000
            ],
            "sizemode": "area",
            "sizeref": 1119177225,
            "symbol": "circle"
           },
           "mode": "markers",
           "name": "Ireland",
           "orientation": "v",
           "showlegend": true,
           "type": "scatter",
           "x": [
            197728630000
           ],
           "xaxis": "x",
           "y": [
            1414000000
           ],
           "yaxis": "y"
          },
          {
           "hovertemplate": "<b>%{hovertext}</b><br><br>Country=Italy<br>Year=2010<br>GDP=%{marker.size}<br>RoadSpending=%{y}<extra></extra>",
           "hovertext": [
            "Italy"
           ],
           "legendgroup": "Italy",
           "marker": {
            "color": "#ab63fa",
            "size": [
             1910551430000
            ],
            "sizemode": "area",
            "sizeref": 1119177225,
            "symbol": "circle"
           },
           "mode": "markers",
           "name": "Italy",
           "orientation": "v",
           "showlegend": true,
           "type": "scatter",
           "x": [
            1910551430000
           ],
           "xaxis": "x",
           "y": [
            3389000000
           ],
           "yaxis": "y"
          },
          {
           "hovertemplate": "<b>%{hovertext}</b><br><br>Country=Latvia<br>Year=2010<br>GDP=%{marker.size}<br>RoadSpending=%{y}<extra></extra>",
           "hovertext": [
            "Latvia"
           ],
           "legendgroup": "Latvia",
           "marker": {
            "color": "#FFA15A",
            "size": [
             21358220000
            ],
            "sizemode": "area",
            "sizeref": 1119177225,
            "symbol": "circle"
           },
           "mode": "markers",
           "name": "Latvia",
           "orientation": "v",
           "showlegend": true,
           "type": "scatter",
           "x": [
            21358220000
           ],
           "xaxis": "x",
           "y": [
            131000000
           ],
           "yaxis": "y"
          },
          {
           "hovertemplate": "<b>%{hovertext}</b><br><br>Country=Lithuania<br>Year=2010<br>GDP=%{marker.size}<br>RoadSpending=%{y}<extra></extra>",
           "hovertext": [
            "Lithuania"
           ],
           "legendgroup": "Lithuania",
           "marker": {
            "color": "#19d3f3",
            "size": [
             33097320000
            ],
            "sizemode": "area",
            "sizeref": 1119177225,
            "symbol": "circle"
           },
           "mode": "markers",
           "name": "Lithuania",
           "orientation": "v",
           "showlegend": true,
           "type": "scatter",
           "x": [
            33097320000
           ],
           "xaxis": "x",
           "y": [
            422000000
           ],
           "yaxis": "y"
          },
          {
           "hovertemplate": "<b>%{hovertext}</b><br><br>Country=Luxembourg<br>Year=2010<br>GDP=%{marker.size}<br>RoadSpending=%{y}<extra></extra>",
           "hovertext": [
            "Luxembourg"
           ],
           "legendgroup": "Luxembourg",
           "marker": {
            "color": "#FF6692",
            "size": [
             50071400000
            ],
            "sizemode": "area",
            "sizeref": 1119177225,
            "symbol": "circle"
           },
           "mode": "markers",
           "name": "Luxembourg",
           "orientation": "v",
           "showlegend": true,
           "type": "scatter",
           "x": [
            50071400000
           ],
           "xaxis": "x",
           "y": [
            182571021.3
           ],
           "yaxis": "y"
          },
          {
           "hovertemplate": "<b>%{hovertext}</b><br><br>Country=Malta<br>Year=2010<br>GDP=%{marker.size}<br>RoadSpending=%{y}<extra></extra>",
           "hovertext": [
            "Malta"
           ],
           "legendgroup": "Malta",
           "marker": {
            "color": "#B6E880",
            "size": [
             8102560000
            ],
            "sizemode": "area",
            "sizeref": 1119177225,
            "symbol": "circle"
           },
           "mode": "markers",
           "name": "Malta",
           "orientation": "v",
           "showlegend": true,
           "type": "scatter",
           "x": [
            8102560000
           ],
           "xaxis": "x",
           "y": [
            12583742.48
           ],
           "yaxis": "y"
          },
          {
           "hovertemplate": "<b>%{hovertext}</b><br><br>Country=Netherlands<br>Year=2010<br>GDP=%{marker.size}<br>RoadSpending=%{y}<extra></extra>",
           "hovertext": [
            "Netherlands"
           ],
           "legendgroup": "Netherlands",
           "marker": {
            "color": "#FF97FF",
            "size": [
             759313290000
            ],
            "sizemode": "area",
            "sizeref": 1119177225,
            "symbol": "circle"
           },
           "mode": "markers",
           "name": "Netherlands",
           "orientation": "v",
           "showlegend": true,
           "type": "scatter",
           "x": [
            759313290000
           ],
           "xaxis": "x",
           "y": [
            2300000000
           ],
           "yaxis": "y"
          },
          {
           "hovertemplate": "<b>%{hovertext}</b><br><br>Country=Poland<br>Year=2010<br>GDP=%{marker.size}<br>RoadSpending=%{y}<extra></extra>",
           "hovertext": [
            "Poland"
           ],
           "legendgroup": "Poland",
           "marker": {
            "color": "#FECB52",
            "size": [
             423370330000
            ],
            "sizemode": "area",
            "sizeref": 1119177225,
            "symbol": "circle"
           },
           "mode": "markers",
           "name": "Poland",
           "orientation": "v",
           "showlegend": true,
           "type": "scatter",
           "x": [
            423370330000
           ],
           "xaxis": "x",
           "y": [
            6509637046
           ],
           "yaxis": "y"
          },
          {
           "hovertemplate": "<b>%{hovertext}</b><br><br>Country=Portugal<br>Year=2010<br>GDP=%{marker.size}<br>RoadSpending=%{y}<extra></extra>",
           "hovertext": [
            "Portugal"
           ],
           "legendgroup": "Portugal",
           "marker": {
            "color": "#636efa",
            "size": [
             212094120000
            ],
            "sizemode": "area",
            "sizeref": 1119177225,
            "symbol": "circle"
           },
           "mode": "markers",
           "name": "Portugal",
           "orientation": "v",
           "showlegend": true,
           "type": "scatter",
           "x": [
            212094120000
           ],
           "xaxis": "x",
           "y": [
            1511000000
           ],
           "yaxis": "y"
          },
          {
           "hovertemplate": "<b>%{hovertext}</b><br><br>Country=Romania<br>Year=2010<br>GDP=%{marker.size}<br>RoadSpending=%{y}<extra></extra>",
           "hovertext": [
            "Romania"
           ],
           "legendgroup": "Romania",
           "marker": {
            "color": "#EF553B",
            "size": [
             151561660000
            ],
            "sizemode": "area",
            "sizeref": 1119177225,
            "symbol": "circle"
           },
           "mode": "markers",
           "name": "Romania",
           "orientation": "v",
           "showlegend": true,
           "type": "scatter",
           "x": [
            151561660000
           ],
           "xaxis": "x",
           "y": [
            2851137605
           ],
           "yaxis": "y"
          },
          {
           "hovertemplate": "<b>%{hovertext}</b><br><br>Country=Slovak Republic<br>Year=2010<br>GDP=%{marker.size}<br>RoadSpending=%{y}<extra></extra>",
           "hovertext": [
            "Slovak Republic"
           ],
           "legendgroup": "Slovak Republic",
           "marker": {
            "color": "#00cc96",
            "size": [
             81200930000
            ],
            "sizemode": "area",
            "sizeref": 1119177225,
            "symbol": "circle"
           },
           "mode": "markers",
           "name": "Slovak Republic",
           "orientation": "v",
           "showlegend": true,
           "type": "scatter",
           "x": [
            81200930000
           ],
           "xaxis": "x",
           "y": [
            342000000
           ],
           "yaxis": "y"
          },
          {
           "hovertemplate": "<b>%{hovertext}</b><br><br>Country=Slovenia<br>Year=2010<br>GDP=%{marker.size}<br>RoadSpending=%{y}<extra></extra>",
           "hovertext": [
            "Slovenia"
           ],
           "legendgroup": "Slovenia",
           "marker": {
            "color": "#ab63fa",
            "size": [
             42570480000
            ],
            "sizemode": "area",
            "sizeref": 1119177225,
            "symbol": "circle"
           },
           "mode": "markers",
           "name": "Slovenia",
           "orientation": "v",
           "showlegend": true,
           "type": "scatter",
           "x": [
            42570480000
           ],
           "xaxis": "x",
           "y": [
            221000000
           ],
           "yaxis": "y"
          },
          {
           "hovertemplate": "<b>%{hovertext}</b><br><br>Country=Spain<br>Year=2010<br>GDP=%{marker.size}<br>RoadSpending=%{y}<extra></extra>",
           "hovertext": [
            "Spain"
           ],
           "legendgroup": "Spain",
           "marker": {
            "color": "#FFA15A",
            "size": [
             1271947950000
            ],
            "sizemode": "area",
            "sizeref": 1119177225,
            "symbol": "circle"
           },
           "mode": "markers",
           "name": "Spain",
           "orientation": "v",
           "showlegend": true,
           "type": "scatter",
           "x": [
            1271947950000
           ],
           "xaxis": "x",
           "y": [
            7771000000
           ],
           "yaxis": "y"
          },
          {
           "hovertemplate": "<b>%{hovertext}</b><br><br>Country=Sweden<br>Year=2010<br>GDP=%{marker.size}<br>RoadSpending=%{y}<extra></extra>",
           "hovertext": [
            "Sweden"
           ],
           "legendgroup": "Sweden",
           "marker": {
            "color": "#19d3f3",
            "size": [
             438550170000
            ],
            "sizemode": "area",
            "sizeref": 1119177225,
            "symbol": "circle"
           },
           "mode": "markers",
           "name": "Sweden",
           "orientation": "v",
           "showlegend": true,
           "type": "scatter",
           "x": [
            438550170000
           ],
           "xaxis": "x",
           "y": [
            1666090563
           ],
           "yaxis": "y"
          }
         ],
         "name": "2010"
        },
        {
         "data": [
          {
           "hovertemplate": "<b>%{hovertext}</b><br><br>Country=Austria<br>Year=2011<br>GDP=%{marker.size}<br>RoadSpending=%{y}<extra></extra>",
           "hovertext": [
            "Austria"
           ],
           "legendgroup": "Austria",
           "marker": {
            "color": "#636efa",
            "size": [
             384132010000
            ],
            "sizemode": "area",
            "sizeref": 1119177225,
            "symbol": "circle"
           },
           "mode": "markers",
           "name": "Austria",
           "orientation": "v",
           "showlegend": true,
           "type": "scatter",
           "x": [
            384132010000
           ],
           "xaxis": "x",
           "y": [
            null
           ],
           "yaxis": "y"
          },
          {
           "hovertemplate": "<b>%{hovertext}</b><br><br>Country=Belgium<br>Year=2011<br>GDP=%{marker.size}<br>RoadSpending=%{y}<extra></extra>",
           "hovertext": [
            "Belgium"
           ],
           "legendgroup": "Belgium",
           "marker": {
            "color": "#EF553B",
            "size": [
             465682710000.00006
            ],
            "sizemode": "area",
            "sizeref": 1119177225,
            "symbol": "circle"
           },
           "mode": "markers",
           "name": "Belgium",
           "orientation": "v",
           "showlegend": true,
           "type": "scatter",
           "x": [
            465682710000.00006
           ],
           "xaxis": "x",
           "y": [
            248000000
           ],
           "yaxis": "y"
          },
          {
           "hovertemplate": "<b>%{hovertext}</b><br><br>Country=Bulgaria<br>Year=2011<br>GDP=%{marker.size}<br>RoadSpending=%{y}<extra></extra>",
           "hovertext": [
            "Bulgaria"
           ],
           "legendgroup": "Bulgaria",
           "marker": {
            "color": "#00cc96",
            "size": [
             51336980000
            ],
            "sizemode": "area",
            "sizeref": 1119177225,
            "symbol": "circle"
           },
           "mode": "markers",
           "name": "Bulgaria",
           "orientation": "v",
           "showlegend": true,
           "type": "scatter",
           "x": [
            51336980000
           ],
           "xaxis": "x",
           "y": [
            511811023.6
           ],
           "yaxis": "y"
          },
          {
           "hovertemplate": "<b>%{hovertext}</b><br><br>Country=Croatia<br>Year=2011<br>GDP=%{marker.size}<br>RoadSpending=%{y}<extra></extra>",
           "hovertext": [
            "Croatia"
           ],
           "legendgroup": "Croatia",
           "marker": {
            "color": "#ab63fa",
            "size": [
             55852840000
            ],
            "sizemode": "area",
            "sizeref": 1119177225,
            "symbol": "circle"
           },
           "mode": "markers",
           "name": "Croatia",
           "orientation": "v",
           "showlegend": true,
           "type": "scatter",
           "x": [
            55852840000
           ],
           "xaxis": "x",
           "y": [
            459751808.3
           ],
           "yaxis": "y"
          },
          {
           "hovertemplate": "<b>%{hovertext}</b><br><br>Country=Czechia<br>Year=2011<br>GDP=%{marker.size}<br>RoadSpending=%{y}<extra></extra>",
           "hovertext": [
            "Czechia"
           ],
           "legendgroup": "Czechia",
           "marker": {
            "color": "#FFA15A",
            "size": [
             205971810000
            ],
            "sizemode": "area",
            "sizeref": 1119177225,
            "symbol": "circle"
           },
           "mode": "markers",
           "name": "Czechia",
           "orientation": "v",
           "showlegend": true,
           "type": "scatter",
           "x": [
            205971810000
           ],
           "xaxis": "x",
           "y": [
            1293210027
           ],
           "yaxis": "y"
          },
          {
           "hovertemplate": "<b>%{hovertext}</b><br><br>Country=Denmark<br>Year=2011<br>GDP=%{marker.size}<br>RoadSpending=%{y}<extra></extra>",
           "hovertext": [
            "Denmark"
           ],
           "legendgroup": "Denmark",
           "marker": {
            "color": "#19d3f3",
            "size": [
             306441240000
            ],
            "sizemode": "area",
            "sizeref": 1119177225,
            "symbol": "circle"
           },
           "mode": "markers",
           "name": "Denmark",
           "orientation": "v",
           "showlegend": true,
           "type": "scatter",
           "x": [
            306441240000
           ],
           "xaxis": "x",
           "y": [
            1051981693
           ],
           "yaxis": "y"
          },
          {
           "hovertemplate": "<b>%{hovertext}</b><br><br>Country=Estonia<br>Year=2011<br>GDP=%{marker.size}<br>RoadSpending=%{y}<extra></extra>",
           "hovertext": [
            "Estonia"
           ],
           "legendgroup": "Estonia",
           "marker": {
            "color": "#FF6692",
            "size": [
             20737000000
            ],
            "sizemode": "area",
            "sizeref": 1119177225,
            "symbol": "circle"
           },
           "mode": "markers",
           "name": "Estonia",
           "orientation": "v",
           "showlegend": true,
           "type": "scatter",
           "x": [
            20737000000
           ],
           "xaxis": "x",
           "y": [
            158000000
           ],
           "yaxis": "y"
          },
          {
           "hovertemplate": "<b>%{hovertext}</b><br><br>Country=Finland<br>Year=2011<br>GDP=%{marker.size}<br>RoadSpending=%{y}<extra></extra>",
           "hovertext": [
            "Finland"
           ],
           "legendgroup": "Finland",
           "marker": {
            "color": "#B6E880",
            "size": [
             244820310000
            ],
            "sizemode": "area",
            "sizeref": 1119177225,
            "symbol": "circle"
           },
           "mode": "markers",
           "name": "Finland",
           "orientation": "v",
           "showlegend": true,
           "type": "scatter",
           "x": [
            244820310000
           ],
           "xaxis": "x",
           "y": [
            973000000
           ],
           "yaxis": "y"
          },
          {
           "hovertemplate": "<b>%{hovertext}</b><br><br>Country=France<br>Year=2011<br>GDP=%{marker.size}<br>RoadSpending=%{y}<extra></extra>",
           "hovertext": [
            "France"
           ],
           "legendgroup": "France",
           "marker": {
            "color": "#FF97FF",
            "size": [
             2554213670000
            ],
            "sizemode": "area",
            "sizeref": 1119177225,
            "symbol": "circle"
           },
           "mode": "markers",
           "name": "France",
           "orientation": "v",
           "showlegend": true,
           "type": "scatter",
           "x": [
            2554213670000
           ],
           "xaxis": "x",
           "y": [
            12604291274
           ],
           "yaxis": "y"
          },
          {
           "hovertemplate": "<b>%{hovertext}</b><br><br>Country=Germany<br>Year=2011<br>GDP=%{marker.size}<br>RoadSpending=%{y}<extra></extra>",
           "hovertext": [
            "Germany"
           ],
           "legendgroup": "Germany",
           "marker": {
            "color": "#FECB52",
            "size": [
             3403497950000
            ],
            "sizemode": "area",
            "sizeref": 1119177225,
            "symbol": "circle"
           },
           "mode": "markers",
           "name": "Germany",
           "orientation": "v",
           "showlegend": true,
           "type": "scatter",
           "x": [
            3403497950000
           ],
           "xaxis": "x",
           "y": [
            11340000000
           ],
           "yaxis": "y"
          },
          {
           "hovertemplate": "<b>%{hovertext}</b><br><br>Country=Greece<br>Year=2011<br>GDP=%{marker.size}<br>RoadSpending=%{y}<extra></extra>",
           "hovertext": [
            "Greece"
           ],
           "legendgroup": "Greece",
           "marker": {
            "color": "#636efa",
            "size": [
             251821940000
            ],
            "sizemode": "area",
            "sizeref": 1119177225,
            "symbol": "circle"
           },
           "mode": "markers",
           "name": "Greece",
           "orientation": "v",
           "showlegend": true,
           "type": "scatter",
           "x": [
            251821940000
           ],
           "xaxis": "x",
           "y": [
            1132486646
           ],
           "yaxis": "y"
          },
          {
           "hovertemplate": "<b>%{hovertext}</b><br><br>Country=Hungary<br>Year=2011<br>GDP=%{marker.size}<br>RoadSpending=%{y}<extra></extra>",
           "hovertext": [
            "Hungary"
           ],
           "legendgroup": "Hungary",
           "marker": {
            "color": "#EF553B",
            "size": [
             126328380000
            ],
            "sizemode": "area",
            "sizeref": 1119177225,
            "symbol": "circle"
           },
           "mode": "markers",
           "name": "Hungary",
           "orientation": "v",
           "showlegend": true,
           "type": "scatter",
           "x": [
            126328380000
           ],
           "xaxis": "x",
           "y": [
            298023701.3
           ],
           "yaxis": "y"
          },
          {
           "hovertemplate": "<b>%{hovertext}</b><br><br>Country=Ireland<br>Year=2011<br>GDP=%{marker.size}<br>RoadSpending=%{y}<extra></extra>",
           "hovertext": [
            "Ireland"
           ],
           "legendgroup": "Ireland",
           "marker": {
            "color": "#00cc96",
            "size": [
             214752550000
            ],
            "sizemode": "area",
            "sizeref": 1119177225,
            "symbol": "circle"
           },
           "mode": "markers",
           "name": "Ireland",
           "orientation": "v",
           "showlegend": true,
           "type": "scatter",
           "x": [
            214752550000
           ],
           "xaxis": "x",
           "y": [
            1017000000
           ],
           "yaxis": "y"
          },
          {
           "hovertemplate": "<b>%{hovertext}</b><br><br>Country=Italy<br>Year=2011<br>GDP=%{marker.size}<br>RoadSpending=%{y}<extra></extra>",
           "hovertext": [
            "Italy"
           ],
           "legendgroup": "Italy",
           "marker": {
            "color": "#ab63fa",
            "size": [
             2052845520000
            ],
            "sizemode": "area",
            "sizeref": 1119177225,
            "symbol": "circle"
           },
           "mode": "markers",
           "name": "Italy",
           "orientation": "v",
           "showlegend": true,
           "type": "scatter",
           "x": [
            2052845520000
           ],
           "xaxis": "x",
           "y": [
            4129000000
           ],
           "yaxis": "y"
          },
          {
           "hovertemplate": "<b>%{hovertext}</b><br><br>Country=Latvia<br>Year=2011<br>GDP=%{marker.size}<br>RoadSpending=%{y}<extra></extra>",
           "hovertext": [
            "Latvia"
           ],
           "legendgroup": "Latvia",
           "marker": {
            "color": "#FFA15A",
            "size": [
             24688600000
            ],
            "sizemode": "area",
            "sizeref": 1119177225,
            "symbol": "circle"
           },
           "mode": "markers",
           "name": "Latvia",
           "orientation": "v",
           "showlegend": true,
           "type": "scatter",
           "x": [
            24688600000
           ],
           "xaxis": "x",
           "y": [
            222000000
           ],
           "yaxis": "y"
          },
          {
           "hovertemplate": "<b>%{hovertext}</b><br><br>Country=Lithuania<br>Year=2011<br>GDP=%{marker.size}<br>RoadSpending=%{y}<extra></extra>",
           "hovertext": [
            "Lithuania"
           ],
           "legendgroup": "Lithuania",
           "marker": {
            "color": "#19d3f3",
            "size": [
             38801330000
            ],
            "sizemode": "area",
            "sizeref": 1119177225,
            "symbol": "circle"
           },
           "mode": "markers",
           "name": "Lithuania",
           "orientation": "v",
           "showlegend": true,
           "type": "scatter",
           "x": [
            38801330000
           ],
           "xaxis": "x",
           "y": [
            343000000
           ],
           "yaxis": "y"
          },
          {
           "hovertemplate": "<b>%{hovertext}</b><br><br>Country=Luxembourg<br>Year=2011<br>GDP=%{marker.size}<br>RoadSpending=%{y}<extra></extra>",
           "hovertext": [
            "Luxembourg"
           ],
           "legendgroup": "Luxembourg",
           "marker": {
            "color": "#FF6692",
            "size": [
             54899650000
            ],
            "sizemode": "area",
            "sizeref": 1119177225,
            "symbol": "circle"
           },
           "mode": "markers",
           "name": "Luxembourg",
           "orientation": "v",
           "showlegend": true,
           "type": "scatter",
           "x": [
            54899650000
           ],
           "xaxis": "x",
           "y": [
            221976449.3
           ],
           "yaxis": "y"
          },
          {
           "hovertemplate": "<b>%{hovertext}</b><br><br>Country=Malta<br>Year=2011<br>GDP=%{marker.size}<br>RoadSpending=%{y}<extra></extra>",
           "hovertext": [
            "Malta"
           ],
           "legendgroup": "Malta",
           "marker": {
            "color": "#B6E880",
            "size": [
             8711320000
            ],
            "sizemode": "area",
            "sizeref": 1119177225,
            "symbol": "circle"
           },
           "mode": "markers",
           "name": "Malta",
           "orientation": "v",
           "showlegend": true,
           "type": "scatter",
           "x": [
            8711320000
           ],
           "xaxis": "x",
           "y": [
            17340553.11
           ],
           "yaxis": "y"
          },
          {
           "hovertemplate": "<b>%{hovertext}</b><br><br>Country=Netherlands<br>Year=2011<br>GDP=%{marker.size}<br>RoadSpending=%{y}<extra></extra>",
           "hovertext": [
            "Netherlands"
           ],
           "legendgroup": "Netherlands",
           "marker": {
            "color": "#FF97FF",
            "size": [
             812552200000
            ],
            "sizemode": "area",
            "sizeref": 1119177225,
            "symbol": "circle"
           },
           "mode": "markers",
           "name": "Netherlands",
           "orientation": "v",
           "showlegend": true,
           "type": "scatter",
           "x": [
            812552200000
           ],
           "xaxis": "x",
           "y": [
            4849197152
           ],
           "yaxis": "y"
          },
          {
           "hovertemplate": "<b>%{hovertext}</b><br><br>Country=Poland<br>Year=2011<br>GDP=%{marker.size}<br>RoadSpending=%{y}<extra></extra>",
           "hovertext": [
            "Poland"
           ],
           "legendgroup": "Poland",
           "marker": {
            "color": "#FECB52",
            "size": [
             466692860000
            ],
            "sizemode": "area",
            "sizeref": 1119177225,
            "symbol": "circle"
           },
           "mode": "markers",
           "name": "Poland",
           "orientation": "v",
           "showlegend": true,
           "type": "scatter",
           "x": [
            466692860000
           ],
           "xaxis": "x",
           "y": [
            8323257338
           ],
           "yaxis": "y"
          },
          {
           "hovertemplate": "<b>%{hovertext}</b><br><br>Country=Portugal<br>Year=2011<br>GDP=%{marker.size}<br>RoadSpending=%{y}<extra></extra>",
           "hovertext": [
            "Portugal"
           ],
           "legendgroup": "Portugal",
           "marker": {
            "color": "#636efa",
            "size": [
             218116750000
            ],
            "sizemode": "area",
            "sizeref": 1119177225,
            "symbol": "circle"
           },
           "mode": "markers",
           "name": "Portugal",
           "orientation": "v",
           "showlegend": true,
           "type": "scatter",
           "x": [
            218116750000
           ],
           "xaxis": "x",
           "y": [
            null
           ],
           "yaxis": "y"
          },
          {
           "hovertemplate": "<b>%{hovertext}</b><br><br>Country=Romania<br>Year=2011<br>GDP=%{marker.size}<br>RoadSpending=%{y}<extra></extra>",
           "hovertext": [
            "Romania"
           ],
           "legendgroup": "Romania",
           "marker": {
            "color": "#EF553B",
            "size": [
             171623150000
            ],
            "sizemode": "area",
            "sizeref": 1119177225,
            "symbol": "circle"
           },
           "mode": "markers",
           "name": "Romania",
           "orientation": "v",
           "showlegend": true,
           "type": "scatter",
           "x": [
            171623150000
           ],
           "xaxis": "x",
           "y": [
            3283631388
           ],
           "yaxis": "y"
          },
          {
           "hovertemplate": "<b>%{hovertext}</b><br><br>Country=Slovak Republic<br>Year=2011<br>GDP=%{marker.size}<br>RoadSpending=%{y}<extra></extra>",
           "hovertext": [
            "Slovak Republic"
           ],
           "legendgroup": "Slovak Republic",
           "marker": {
            "color": "#00cc96",
            "size": [
             88915450000
            ],
            "sizemode": "area",
            "sizeref": 1119177225,
            "symbol": "circle"
           },
           "mode": "markers",
           "name": "Slovak Republic",
           "orientation": "v",
           "showlegend": true,
           "type": "scatter",
           "x": [
            88915450000
           ],
           "xaxis": "x",
           "y": [
            432000000
           ],
           "yaxis": "y"
          },
          {
           "hovertemplate": "<b>%{hovertext}</b><br><br>Country=Slovenia<br>Year=2011<br>GDP=%{marker.size}<br>RoadSpending=%{y}<extra></extra>",
           "hovertext": [
            "Slovenia"
           ],
           "legendgroup": "Slovenia",
           "marker": {
            "color": "#ab63fa",
            "size": [
             45559100000
            ],
            "sizemode": "area",
            "sizeref": 1119177225,
            "symbol": "circle"
           },
           "mode": "markers",
           "name": "Slovenia",
           "orientation": "v",
           "showlegend": true,
           "type": "scatter",
           "x": [
            45559100000
           ],
           "xaxis": "x",
           "y": [
            112000000
           ],
           "yaxis": "y"
          },
          {
           "hovertemplate": "<b>%{hovertext}</b><br><br>Country=Spain<br>Year=2011<br>GDP=%{marker.size}<br>RoadSpending=%{y}<extra></extra>",
           "hovertext": [
            "Spain"
           ],
           "legendgroup": "Spain",
           "marker": {
            "color": "#FFA15A",
            "size": [
             1323703230000
            ],
            "sizemode": "area",
            "sizeref": 1119177225,
            "symbol": "circle"
           },
           "mode": "markers",
           "name": "Spain",
           "orientation": "v",
           "showlegend": true,
           "type": "scatter",
           "x": [
            1323703230000
           ],
           "xaxis": "x",
           "y": [
            5966000000
           ],
           "yaxis": "y"
          },
          {
           "hovertemplate": "<b>%{hovertext}</b><br><br>Country=Sweden<br>Year=2011<br>GDP=%{marker.size}<br>RoadSpending=%{y}<extra></extra>",
           "hovertext": [
            "Sweden"
           ],
           "legendgroup": "Sweden",
           "marker": {
            "color": "#19d3f3",
            "size": [
             507781490000
            ],
            "sizemode": "area",
            "sizeref": 1119177225,
            "symbol": "circle"
           },
           "mode": "markers",
           "name": "Sweden",
           "orientation": "v",
           "showlegend": true,
           "type": "scatter",
           "x": [
            507781490000
           ],
           "xaxis": "x",
           "y": [
            1911693030
           ],
           "yaxis": "y"
          }
         ],
         "name": "2011"
        },
        {
         "data": [
          {
           "hovertemplate": "<b>%{hovertext}</b><br><br>Country=Austria<br>Year=2012<br>GDP=%{marker.size}<br>RoadSpending=%{y}<extra></extra>",
           "hovertext": [
            "Austria"
           ],
           "legendgroup": "Austria",
           "marker": {
            "color": "#636efa",
            "size": [
             364598290000
            ],
            "sizemode": "area",
            "sizeref": 1119177225,
            "symbol": "circle"
           },
           "mode": "markers",
           "name": "Austria",
           "orientation": "v",
           "showlegend": true,
           "type": "scatter",
           "x": [
            364598290000
           ],
           "xaxis": "x",
           "y": [
            null
           ],
           "yaxis": "y"
          },
          {
           "hovertemplate": "<b>%{hovertext}</b><br><br>Country=Belgium<br>Year=2012<br>GDP=%{marker.size}<br>RoadSpending=%{y}<extra></extra>",
           "hovertext": [
            "Belgium"
           ],
           "legendgroup": "Belgium",
           "marker": {
            "color": "#EF553B",
            "size": [
             441855630000
            ],
            "sizemode": "area",
            "sizeref": 1119177225,
            "symbol": "circle"
           },
           "mode": "markers",
           "name": "Belgium",
           "orientation": "v",
           "showlegend": true,
           "type": "scatter",
           "x": [
            441855630000
           ],
           "xaxis": "x",
           "y": [
            1031000000
           ],
           "yaxis": "y"
          },
          {
           "hovertemplate": "<b>%{hovertext}</b><br><br>Country=Bulgaria<br>Year=2012<br>GDP=%{marker.size}<br>RoadSpending=%{y}<extra></extra>",
           "hovertext": [
            "Bulgaria"
           ],
           "legendgroup": "Bulgaria",
           "marker": {
            "color": "#00cc96",
            "size": [
             48324330000
            ],
            "sizemode": "area",
            "sizeref": 1119177225,
            "symbol": "circle"
           },
           "mode": "markers",
           "name": "Bulgaria",
           "orientation": "v",
           "showlegend": true,
           "type": "scatter",
           "x": [
            48324330000
           ],
           "xaxis": "x",
           "y": [
            613559668.7
           ],
           "yaxis": "y"
          },
          {
           "hovertemplate": "<b>%{hovertext}</b><br><br>Country=Croatia<br>Year=2012<br>GDP=%{marker.size}<br>RoadSpending=%{y}<extra></extra>",
           "hovertext": [
            "Croatia"
           ],
           "legendgroup": "Croatia",
           "marker": {
            "color": "#ab63fa",
            "size": [
             51127830000
            ],
            "sizemode": "area",
            "sizeref": 1119177225,
            "symbol": "circle"
           },
           "mode": "markers",
           "name": "Croatia",
           "orientation": "v",
           "showlegend": true,
           "type": "scatter",
           "x": [
            51127830000
           ],
           "xaxis": "x",
           "y": [
            620473000
           ],
           "yaxis": "y"
          },
          {
           "hovertemplate": "<b>%{hovertext}</b><br><br>Country=Czechia<br>Year=2012<br>GDP=%{marker.size}<br>RoadSpending=%{y}<extra></extra>",
           "hovertext": [
            "Czechia"
           ],
           "legendgroup": "Czechia",
           "marker": {
            "color": "#FFA15A",
            "size": [
             187223070000
            ],
            "sizemode": "area",
            "sizeref": 1119177225,
            "symbol": "circle"
           },
           "mode": "markers",
           "name": "Czechia",
           "orientation": "v",
           "showlegend": true,
           "type": "scatter",
           "x": [
            187223070000
           ],
           "xaxis": "x",
           "y": [
            2625930185
           ],
           "yaxis": "y"
          },
          {
           "hovertemplate": "<b>%{hovertext}</b><br><br>Country=Denmark<br>Year=2012<br>GDP=%{marker.size}<br>RoadSpending=%{y}<extra></extra>",
           "hovertext": [
            "Denmark"
           ],
           "legendgroup": "Denmark",
           "marker": {
            "color": "#19d3f3",
            "size": [
             290845770000
            ],
            "sizemode": "area",
            "sizeref": 1119177225,
            "symbol": "circle"
           },
           "mode": "markers",
           "name": "Denmark",
           "orientation": "v",
           "showlegend": true,
           "type": "scatter",
           "x": [
            290845770000
           ],
           "xaxis": "x",
           "y": [
            null
           ],
           "yaxis": "y"
          },
          {
           "hovertemplate": "<b>%{hovertext}</b><br><br>Country=Estonia<br>Year=2012<br>GDP=%{marker.size}<br>RoadSpending=%{y}<extra></extra>",
           "hovertext": [
            "Estonia"
           ],
           "legendgroup": "Estonia",
           "marker": {
            "color": "#FF6692",
            "size": [
             20694280000
            ],
            "sizemode": "area",
            "sizeref": 1119177225,
            "symbol": "circle"
           },
           "mode": "markers",
           "name": "Estonia",
           "orientation": "v",
           "showlegend": true,
           "type": "scatter",
           "x": [
            20694280000
           ],
           "xaxis": "x",
           "y": [
            null
           ],
           "yaxis": "y"
          },
          {
           "hovertemplate": "<b>%{hovertext}</b><br><br>Country=Finland<br>Year=2012<br>GDP=%{marker.size}<br>RoadSpending=%{y}<extra></extra>",
           "hovertext": [
            "Finland"
           ],
           "legendgroup": "Finland",
           "marker": {
            "color": "#B6E880",
            "size": [
             229269340000
            ],
            "sizemode": "area",
            "sizeref": 1119177225,
            "symbol": "circle"
           },
           "mode": "markers",
           "name": "Finland",
           "orientation": "v",
           "showlegend": true,
           "type": "scatter",
           "x": [
            229269340000
           ],
           "xaxis": "x",
           "y": [
            1939000000
           ],
           "yaxis": "y"
          },
          {
           "hovertemplate": "<b>%{hovertext}</b><br><br>Country=France<br>Year=2012<br>GDP=%{marker.size}<br>RoadSpending=%{y}<extra></extra>",
           "hovertext": [
            "France"
           ],
           "legendgroup": "France",
           "marker": {
            "color": "#FF97FF",
            "size": [
             2389388340000
            ],
            "sizemode": "area",
            "sizeref": 1119177225,
            "symbol": "circle"
           },
           "mode": "markers",
           "name": "France",
           "orientation": "v",
           "showlegend": true,
           "type": "scatter",
           "x": [
            2389388340000
           ],
           "xaxis": "x",
           "y": [
            10265306356
           ],
           "yaxis": "y"
          },
          {
           "hovertemplate": "<b>%{hovertext}</b><br><br>Country=Germany<br>Year=2012<br>GDP=%{marker.size}<br>RoadSpending=%{y}<extra></extra>",
           "hovertext": [
            "Germany"
           ],
           "legendgroup": "Germany",
           "marker": {
            "color": "#FECB52",
            "size": [
             3204155750000
            ],
            "sizemode": "area",
            "sizeref": 1119177225,
            "symbol": "circle"
           },
           "mode": "markers",
           "name": "Germany",
           "orientation": "v",
           "showlegend": true,
           "type": "scatter",
           "x": [
            3204155750000
           ],
           "xaxis": "x",
           "y": [
            18310000000
           ],
           "yaxis": "y"
          },
          {
           "hovertemplate": "<b>%{hovertext}</b><br><br>Country=Greece<br>Year=2012<br>GDP=%{marker.size}<br>RoadSpending=%{y}<extra></extra>",
           "hovertext": [
            "Greece"
           ],
           "legendgroup": "Greece",
           "marker": {
            "color": "#636efa",
            "size": [
             215542870000
            ],
            "sizemode": "area",
            "sizeref": 1119177225,
            "symbol": "circle"
           },
           "mode": "markers",
           "name": "Greece",
           "orientation": "v",
           "showlegend": true,
           "type": "scatter",
           "x": [
            215542870000
           ],
           "xaxis": "x",
           "y": [
            1127914064
           ],
           "yaxis": "y"
          },
          {
           "hovertemplate": "<b>%{hovertext}</b><br><br>Country=Hungary<br>Year=2012<br>GDP=%{marker.size}<br>RoadSpending=%{y}<extra></extra>",
           "hovertext": [
            "Hungary"
           ],
           "legendgroup": "Hungary",
           "marker": {
            "color": "#EF553B",
            "size": [
             114644460000
            ],
            "sizemode": "area",
            "sizeref": 1119177225,
            "symbol": "circle"
           },
           "mode": "markers",
           "name": "Hungary",
           "orientation": "v",
           "showlegend": true,
           "type": "scatter",
           "x": [
            114644460000
           ],
           "xaxis": "x",
           "y": [
            1348583722
           ],
           "yaxis": "y"
          },
          {
           "hovertemplate": "<b>%{hovertext}</b><br><br>Country=Ireland<br>Year=2012<br>GDP=%{marker.size}<br>RoadSpending=%{y}<extra></extra>",
           "hovertext": [
            "Ireland"
           ],
           "legendgroup": "Ireland",
           "marker": {
            "color": "#00cc96",
            "size": [
             202399350000
            ],
            "sizemode": "area",
            "sizeref": 1119177225,
            "symbol": "circle"
           },
           "mode": "markers",
           "name": "Ireland",
           "orientation": "v",
           "showlegend": true,
           "type": "scatter",
           "x": [
            202399350000
           ],
           "xaxis": "x",
           "y": [
            599000000
           ],
           "yaxis": "y"
          },
          {
           "hovertemplate": "<b>%{hovertext}</b><br><br>Country=Italy<br>Year=2012<br>GDP=%{marker.size}<br>RoadSpending=%{y}<extra></extra>",
           "hovertext": [
            "Italy"
           ],
           "legendgroup": "Italy",
           "marker": {
            "color": "#ab63fa",
            "size": [
             1868340510000
            ],
            "sizemode": "area",
            "sizeref": 1119177225,
            "symbol": "circle"
           },
           "mode": "markers",
           "name": "Italy",
           "orientation": "v",
           "showlegend": true,
           "type": "scatter",
           "x": [
            1868340510000
           ],
           "xaxis": "x",
           "y": [
            null
           ],
           "yaxis": "y"
          },
          {
           "hovertemplate": "<b>%{hovertext}</b><br><br>Country=Latvia<br>Year=2012<br>GDP=%{marker.size}<br>RoadSpending=%{y}<extra></extra>",
           "hovertext": [
            "Latvia"
           ],
           "legendgroup": "Latvia",
           "marker": {
            "color": "#FFA15A",
            "size": [
             25089990000
            ],
            "sizemode": "area",
            "sizeref": 1119177225,
            "symbol": "circle"
           },
           "mode": "markers",
           "name": "Latvia",
           "orientation": "v",
           "showlegend": true,
           "type": "scatter",
           "x": [
            25089990000
           ],
           "xaxis": "x",
           "y": [
            227000000
           ],
           "yaxis": "y"
          },
          {
           "hovertemplate": "<b>%{hovertext}</b><br><br>Country=Lithuania<br>Year=2012<br>GDP=%{marker.size}<br>RoadSpending=%{y}<extra></extra>",
           "hovertext": [
            "Lithuania"
           ],
           "legendgroup": "Lithuania",
           "marker": {
            "color": "#19d3f3",
            "size": [
             38170320000
            ],
            "sizemode": "area",
            "sizeref": 1119177225,
            "symbol": "circle"
           },
           "mode": "markers",
           "name": "Lithuania",
           "orientation": "v",
           "showlegend": true,
           "type": "scatter",
           "x": [
            38170320000
           ],
           "xaxis": "x",
           "y": [
            565000000
           ],
           "yaxis": "y"
          },
          {
           "hovertemplate": "<b>%{hovertext}</b><br><br>Country=Luxembourg<br>Year=2012<br>GDP=%{marker.size}<br>RoadSpending=%{y}<extra></extra>",
           "hovertext": [
            "Luxembourg"
           ],
           "legendgroup": "Luxembourg",
           "marker": {
            "color": "#FF6692",
            "size": [
             53234460000
            ],
            "sizemode": "area",
            "sizeref": 1119177225,
            "symbol": "circle"
           },
           "mode": "markers",
           "name": "Luxembourg",
           "orientation": "v",
           "showlegend": true,
           "type": "scatter",
           "x": [
            53234460000
           ],
           "xaxis": "x",
           "y": [
            null
           ],
           "yaxis": "y"
          },
          {
           "hovertemplate": "<b>%{hovertext}</b><br><br>Country=Malta<br>Year=2012<br>GDP=%{marker.size}<br>RoadSpending=%{y}<extra></extra>",
           "hovertext": [
            "Malta"
           ],
           "legendgroup": "Malta",
           "marker": {
            "color": "#B6E880",
            "size": [
             8558240000
            ],
            "sizemode": "area",
            "sizeref": 1119177225,
            "symbol": "circle"
           },
           "mode": "markers",
           "name": "Malta",
           "orientation": "v",
           "showlegend": true,
           "type": "scatter",
           "x": [
            8558240000
           ],
           "xaxis": "x",
           "y": [
            null
           ],
           "yaxis": "y"
          },
          {
           "hovertemplate": "<b>%{hovertext}</b><br><br>Country=Netherlands<br>Year=2012<br>GDP=%{marker.size}<br>RoadSpending=%{y}<extra></extra>",
           "hovertext": [
            "Netherlands"
           ],
           "legendgroup": "Netherlands",
           "marker": {
            "color": "#FF97FF",
            "size": [
             753140250000
            ],
            "sizemode": "area",
            "sizeref": 1119177225,
            "symbol": "circle"
           },
           "mode": "markers",
           "name": "Netherlands",
           "orientation": "v",
           "showlegend": true,
           "type": "scatter",
           "x": [
            753140250000
           ],
           "xaxis": "x",
           "y": [
            7667273790
           ],
           "yaxis": "y"
          },
          {
           "hovertemplate": "<b>%{hovertext}</b><br><br>Country=Poland<br>Year=2012<br>GDP=%{marker.size}<br>RoadSpending=%{y}<extra></extra>",
           "hovertext": [
            "Poland"
           ],
           "legendgroup": "Poland",
           "marker": {
            "color": "#FECB52",
            "size": [
             440754700000
            ],
            "sizemode": "area",
            "sizeref": 1119177225,
            "symbol": "circle"
           },
           "mode": "markers",
           "name": "Poland",
           "orientation": "v",
           "showlegend": true,
           "type": "scatter",
           "x": [
            440754700000
           ],
           "xaxis": "x",
           "y": [
            3713121973
           ],
           "yaxis": "y"
          },
          {
           "hovertemplate": "<b>%{hovertext}</b><br><br>Country=Portugal<br>Year=2012<br>GDP=%{marker.size}<br>RoadSpending=%{y}<extra></extra>",
           "hovertext": [
            "Portugal"
           ],
           "legendgroup": "Portugal",
           "marker": {
            "color": "#636efa",
            "size": [
             192561290000
            ],
            "sizemode": "area",
            "sizeref": 1119177225,
            "symbol": "circle"
           },
           "mode": "markers",
           "name": "Portugal",
           "orientation": "v",
           "showlegend": true,
           "type": "scatter",
           "x": [
            192561290000
           ],
           "xaxis": "x",
           "y": [
            null
           ],
           "yaxis": "y"
          },
          {
           "hovertemplate": "<b>%{hovertext}</b><br><br>Country=Romania<br>Year=2012<br>GDP=%{marker.size}<br>RoadSpending=%{y}<extra></extra>",
           "hovertext": [
            "Romania"
           ],
           "legendgroup": "Romania",
           "marker": {
            "color": "#EF553B",
            "size": [
             159526270000
            ],
            "sizemode": "area",
            "sizeref": 1119177225,
            "symbol": "circle"
           },
           "mode": "markers",
           "name": "Romania",
           "orientation": "v",
           "showlegend": true,
           "type": "scatter",
           "x": [
            159526270000
           ],
           "xaxis": "x",
           "y": [
            null
           ],
           "yaxis": "y"
          },
          {
           "hovertemplate": "<b>%{hovertext}</b><br><br>Country=Slovak Republic<br>Year=2012<br>GDP=%{marker.size}<br>RoadSpending=%{y}<extra></extra>",
           "hovertext": [
            "Slovak Republic"
           ],
           "legendgroup": "Slovak Republic",
           "marker": {
            "color": "#00cc96",
            "size": [
             84268760000
            ],
            "sizemode": "area",
            "sizeref": 1119177225,
            "symbol": "circle"
           },
           "mode": "markers",
           "name": "Slovak Republic",
           "orientation": "v",
           "showlegend": true,
           "type": "scatter",
           "x": [
            84268760000
           ],
           "xaxis": "x",
           "y": [
            860000000
           ],
           "yaxis": "y"
          },
          {
           "hovertemplate": "<b>%{hovertext}</b><br><br>Country=Slovenia<br>Year=2012<br>GDP=%{marker.size}<br>RoadSpending=%{y}<extra></extra>",
           "hovertext": [
            "Slovenia"
           ],
           "legendgroup": "Slovenia",
           "marker": {
            "color": "#ab63fa",
            "size": [
             41114440000
            ],
            "sizemode": "area",
            "sizeref": 1119177225,
            "symbol": "circle"
           },
           "mode": "markers",
           "name": "Slovenia",
           "orientation": "v",
           "showlegend": true,
           "type": "scatter",
           "x": [
            41114440000
           ],
           "xaxis": "x",
           "y": [
            476000000
           ],
           "yaxis": "y"
          },
          {
           "hovertemplate": "<b>%{hovertext}</b><br><br>Country=Spain<br>Year=2012<br>GDP=%{marker.size}<br>RoadSpending=%{y}<extra></extra>",
           "hovertext": [
            "Spain"
           ],
           "legendgroup": "Spain",
           "marker": {
            "color": "#FFA15A",
            "size": [
             1185335820000
            ],
            "sizemode": "area",
            "sizeref": 1119177225,
            "symbol": "circle"
           },
           "mode": "markers",
           "name": "Spain",
           "orientation": "v",
           "showlegend": true,
           "type": "scatter",
           "x": [
            1185335820000
           ],
           "xaxis": "x",
           "y": [
            4997000000
           ],
           "yaxis": "y"
          },
          {
           "hovertemplate": "<b>%{hovertext}</b><br><br>Country=Sweden<br>Year=2012<br>GDP=%{marker.size}<br>RoadSpending=%{y}<extra></extra>",
           "hovertext": [
            "Sweden"
           ],
           "legendgroup": "Sweden",
           "marker": {
            "color": "#19d3f3",
            "size": [
             489270379999.99994
            ],
            "sizemode": "area",
            "sizeref": 1119177225,
            "symbol": "circle"
           },
           "mode": "markers",
           "name": "Sweden",
           "orientation": "v",
           "showlegend": true,
           "type": "scatter",
           "x": [
            489270379999.99994
           ],
           "xaxis": "x",
           "y": [
            2773865142
           ],
           "yaxis": "y"
          }
         ],
         "name": "2012"
        },
        {
         "data": [
          {
           "hovertemplate": "<b>%{hovertext}</b><br><br>Country=Austria<br>Year=2013<br>GDP=%{marker.size}<br>RoadSpending=%{y}<extra></extra>",
           "hovertext": [
            "Austria"
           ],
           "legendgroup": "Austria",
           "marker": {
            "color": "#636efa",
            "size": [
             382875330000
            ],
            "sizemode": "area",
            "sizeref": 1119177225,
            "symbol": "circle"
           },
           "mode": "markers",
           "name": "Austria",
           "orientation": "v",
           "showlegend": true,
           "type": "scatter",
           "x": [
            382875330000
           ],
           "xaxis": "x",
           "y": [
            null
           ],
           "yaxis": "y"
          },
          {
           "hovertemplate": "<b>%{hovertext}</b><br><br>Country=Belgium<br>Year=2013<br>GDP=%{marker.size}<br>RoadSpending=%{y}<extra></extra>",
           "hovertext": [
            "Belgium"
           ],
           "legendgroup": "Belgium",
           "marker": {
            "color": "#EF553B",
            "size": [
             464401110000
            ],
            "sizemode": "area",
            "sizeref": 1119177225,
            "symbol": "circle"
           },
           "mode": "markers",
           "name": "Belgium",
           "orientation": "v",
           "showlegend": true,
           "type": "scatter",
           "x": [
            464401110000
           ],
           "xaxis": "x",
           "y": [
            417000000
           ],
           "yaxis": "y"
          },
          {
           "hovertemplate": "<b>%{hovertext}</b><br><br>Country=Bulgaria<br>Year=2013<br>GDP=%{marker.size}<br>RoadSpending=%{y}<extra></extra>",
           "hovertext": [
            "Bulgaria"
           ],
           "legendgroup": "Bulgaria",
           "marker": {
            "color": "#00cc96",
            "size": [
             49679800000
            ],
            "sizemode": "area",
            "sizeref": 1119177225,
            "symbol": "circle"
           },
           "mode": "markers",
           "name": "Bulgaria",
           "orientation": "v",
           "showlegend": true,
           "type": "scatter",
           "x": [
            49679800000
           ],
           "xaxis": "x",
           "y": [
            563452295.7
           ],
           "yaxis": "y"
          },
          {
           "hovertemplate": "<b>%{hovertext}</b><br><br>Country=Croatia<br>Year=2013<br>GDP=%{marker.size}<br>RoadSpending=%{y}<extra></extra>",
           "hovertext": [
            "Croatia"
           ],
           "legendgroup": "Croatia",
           "marker": {
            "color": "#ab63fa",
            "size": [
             53036880000
            ],
            "sizemode": "area",
            "sizeref": 1119177225,
            "symbol": "circle"
           },
           "mode": "markers",
           "name": "Croatia",
           "orientation": "v",
           "showlegend": true,
           "type": "scatter",
           "x": [
            53036880000
           ],
           "xaxis": "x",
           "y": [
            283230473.2
           ],
           "yaxis": "y"
          },
          {
           "hovertemplate": "<b>%{hovertext}</b><br><br>Country=Czechia<br>Year=2013<br>GDP=%{marker.size}<br>RoadSpending=%{y}<extra></extra>",
           "hovertext": [
            "Czechia"
           ],
           "legendgroup": "Czechia",
           "marker": {
            "color": "#FFA15A",
            "size": [
             189591360000
            ],
            "sizemode": "area",
            "sizeref": 1119177225,
            "symbol": "circle"
           },
           "mode": "markers",
           "name": "Czechia",
           "orientation": "v",
           "showlegend": true,
           "type": "scatter",
           "x": [
            189591360000
           ],
           "xaxis": "x",
           "y": [
            604013684
           ],
           "yaxis": "y"
          },
          {
           "hovertemplate": "<b>%{hovertext}</b><br><br>Country=Denmark<br>Year=2013<br>GDP=%{marker.size}<br>RoadSpending=%{y}<extra></extra>",
           "hovertext": [
            "Denmark"
           ],
           "legendgroup": "Denmark",
           "marker": {
            "color": "#19d3f3",
            "size": [
             306721590000
            ],
            "sizemode": "area",
            "sizeref": 1119177225,
            "symbol": "circle"
           },
           "mode": "markers",
           "name": "Denmark",
           "orientation": "v",
           "showlegend": true,
           "type": "scatter",
           "x": [
            306721590000
           ],
           "xaxis": "x",
           "y": [
            1101557365
           ],
           "yaxis": "y"
          },
          {
           "hovertemplate": "<b>%{hovertext}</b><br><br>Country=Estonia<br>Year=2013<br>GDP=%{marker.size}<br>RoadSpending=%{y}<extra></extra>",
           "hovertext": [
            "Estonia"
           ],
           "legendgroup": "Estonia",
           "marker": {
            "color": "#FF6692",
            "size": [
             22651390000
            ],
            "sizemode": "area",
            "sizeref": 1119177225,
            "symbol": "circle"
           },
           "mode": "markers",
           "name": "Estonia",
           "orientation": "v",
           "showlegend": true,
           "type": "scatter",
           "x": [
            22651390000
           ],
           "xaxis": "x",
           "y": [
            147660000
           ],
           "yaxis": "y"
          },
          {
           "hovertemplate": "<b>%{hovertext}</b><br><br>Country=Finland<br>Year=2013<br>GDP=%{marker.size}<br>RoadSpending=%{y}<extra></extra>",
           "hovertext": [
            "Finland"
           ],
           "legendgroup": "Finland",
           "marker": {
            "color": "#B6E880",
            "size": [
             240542080000
            ],
            "sizemode": "area",
            "sizeref": 1119177225,
            "symbol": "circle"
           },
           "mode": "markers",
           "name": "Finland",
           "orientation": "v",
           "showlegend": true,
           "type": "scatter",
           "x": [
            240542080000
           ],
           "xaxis": "x",
           "y": [
            1442000000
           ],
           "yaxis": "y"
          },
          {
           "hovertemplate": "<b>%{hovertext}</b><br><br>Country=France<br>Year=2013<br>GDP=%{marker.size}<br>RoadSpending=%{y}<extra></extra>",
           "hovertext": [
            "France"
           ],
           "legendgroup": "France",
           "marker": {
            "color": "#FF97FF",
            "size": [
             2506345910000
            ],
            "sizemode": "area",
            "sizeref": 1119177225,
            "symbol": "circle"
           },
           "mode": "markers",
           "name": "France",
           "orientation": "v",
           "showlegend": true,
           "type": "scatter",
           "x": [
            2506345910000
           ],
           "xaxis": "x",
           "y": [
            10807203024
           ],
           "yaxis": "y"
          },
          {
           "hovertemplate": "<b>%{hovertext}</b><br><br>Country=Germany<br>Year=2013<br>GDP=%{marker.size}<br>RoadSpending=%{y}<extra></extra>",
           "hovertext": [
            "Germany"
           ],
           "legendgroup": "Germany",
           "marker": {
            "color": "#FECB52",
            "size": [
             3389246380000
            ],
            "sizemode": "area",
            "sizeref": 1119177225,
            "symbol": "circle"
           },
           "mode": "markers",
           "name": "Germany",
           "orientation": "v",
           "showlegend": true,
           "type": "scatter",
           "x": [
            3389246380000
           ],
           "xaxis": "x",
           "y": [
            11820000000
           ],
           "yaxis": "y"
          },
          {
           "hovertemplate": "<b>%{hovertext}</b><br><br>Country=Greece<br>Year=2013<br>GDP=%{marker.size}<br>RoadSpending=%{y}<extra></extra>",
           "hovertext": [
            "Greece"
           ],
           "legendgroup": "Greece",
           "marker": {
            "color": "#636efa",
            "size": [
             212630790000
            ],
            "sizemode": "area",
            "sizeref": 1119177225,
            "symbol": "circle"
           },
           "mode": "markers",
           "name": "Greece",
           "orientation": "v",
           "showlegend": true,
           "type": "scatter",
           "x": [
            212630790000
           ],
           "xaxis": "x",
           "y": [
            1543220320
           ],
           "yaxis": "y"
          },
          {
           "hovertemplate": "<b>%{hovertext}</b><br><br>Country=Hungary<br>Year=2013<br>GDP=%{marker.size}<br>RoadSpending=%{y}<extra></extra>",
           "hovertext": [
            "Hungary"
           ],
           "legendgroup": "Hungary",
           "marker": {
            "color": "#EF553B",
            "size": [
             120758760000
            ],
            "sizemode": "area",
            "sizeref": 1119177225,
            "symbol": "circle"
           },
           "mode": "markers",
           "name": "Hungary",
           "orientation": "v",
           "showlegend": true,
           "type": "scatter",
           "x": [
            120758760000
           ],
           "xaxis": "x",
           "y": [
            1238414974
           ],
           "yaxis": "y"
          },
          {
           "hovertemplate": "<b>%{hovertext}</b><br><br>Country=Ireland<br>Year=2013<br>GDP=%{marker.size}<br>RoadSpending=%{y}<extra></extra>",
           "hovertext": [
            "Ireland"
           ],
           "legendgroup": "Ireland",
           "marker": {
            "color": "#00cc96",
            "size": [
             216541450000
            ],
            "sizemode": "area",
            "sizeref": 1119177225,
            "symbol": "circle"
           },
           "mode": "markers",
           "name": "Ireland",
           "orientation": "v",
           "showlegend": true,
           "type": "scatter",
           "x": [
            216541450000
           ],
           "xaxis": "x",
           "y": [
            638000000
           ],
           "yaxis": "y"
          },
          {
           "hovertemplate": "<b>%{hovertext}</b><br><br>Country=Italy<br>Year=2013<br>GDP=%{marker.size}<br>RoadSpending=%{y}<extra></extra>",
           "hovertext": [
            "Italy"
           ],
           "legendgroup": "Italy",
           "marker": {
            "color": "#ab63fa",
            "size": [
             1916400510000
            ],
            "sizemode": "area",
            "sizeref": 1119177225,
            "symbol": "circle"
           },
           "mode": "markers",
           "name": "Italy",
           "orientation": "v",
           "showlegend": true,
           "type": "scatter",
           "x": [
            1916400510000
           ],
           "xaxis": "x",
           "y": [
            3860000000
           ],
           "yaxis": "y"
          },
          {
           "hovertemplate": "<b>%{hovertext}</b><br><br>Country=Latvia<br>Year=2013<br>GDP=%{marker.size}<br>RoadSpending=%{y}<extra></extra>",
           "hovertext": [
            "Latvia"
           ],
           "legendgroup": "Latvia",
           "marker": {
            "color": "#FFA15A",
            "size": [
             26886900000
            ],
            "sizemode": "area",
            "sizeref": 1119177225,
            "symbol": "circle"
           },
           "mode": "markers",
           "name": "Latvia",
           "orientation": "v",
           "showlegend": true,
           "type": "scatter",
           "x": [
            26886900000
           ],
           "xaxis": "x",
           "y": [
            188000000
           ],
           "yaxis": "y"
          },
          {
           "hovertemplate": "<b>%{hovertext}</b><br><br>Country=Lithuania<br>Year=2013<br>GDP=%{marker.size}<br>RoadSpending=%{y}<extra></extra>",
           "hovertext": [
            "Lithuania"
           ],
           "legendgroup": "Lithuania",
           "marker": {
            "color": "#19d3f3",
            "size": [
             41455310000
            ],
            "sizemode": "area",
            "sizeref": 1119177225,
            "symbol": "circle"
           },
           "mode": "markers",
           "name": "Lithuania",
           "orientation": "v",
           "showlegend": true,
           "type": "scatter",
           "x": [
            41455310000
           ],
           "xaxis": "x",
           "y": [
            224000000
           ],
           "yaxis": "y"
          },
          {
           "hovertemplate": "<b>%{hovertext}</b><br><br>Country=Luxembourg<br>Year=2013<br>GDP=%{marker.size}<br>RoadSpending=%{y}<extra></extra>",
           "hovertext": [
            "Luxembourg"
           ],
           "legendgroup": "Luxembourg",
           "marker": {
            "color": "#FF6692",
            "size": [
             58031559999.99999
            ],
            "sizemode": "area",
            "sizeref": 1119177225,
            "symbol": "circle"
           },
           "mode": "markers",
           "name": "Luxembourg",
           "orientation": "v",
           "showlegend": true,
           "type": "scatter",
           "x": [
            58031559999.99999
           ],
           "xaxis": "x",
           "y": [
            213745153.8
           ],
           "yaxis": "y"
          },
          {
           "hovertemplate": "<b>%{hovertext}</b><br><br>Country=Malta<br>Year=2013<br>GDP=%{marker.size}<br>RoadSpending=%{y}<extra></extra>",
           "hovertext": [
            "Malta"
           ],
           "legendgroup": "Malta",
           "marker": {
            "color": "#B6E880",
            "size": [
             9609330000
            ],
            "sizemode": "area",
            "sizeref": 1119177225,
            "symbol": "circle"
           },
           "mode": "markers",
           "name": "Malta",
           "orientation": "v",
           "showlegend": true,
           "type": "scatter",
           "x": [
            9609330000
           ],
           "xaxis": "x",
           "y": [
            38522824.59
           ],
           "yaxis": "y"
          },
          {
           "hovertemplate": "<b>%{hovertext}</b><br><br>Country=Netherlands<br>Year=2013<br>GDP=%{marker.size}<br>RoadSpending=%{y}<extra></extra>",
           "hovertext": [
            "Netherlands"
           ],
           "legendgroup": "Netherlands",
           "marker": {
            "color": "#FF97FF",
            "size": [
             786727960000
            ],
            "sizemode": "area",
            "sizeref": 1119177225,
            "symbol": "circle"
           },
           "mode": "markers",
           "name": "Netherlands",
           "orientation": "v",
           "showlegend": true,
           "type": "scatter",
           "x": [
            786727960000
           ],
           "xaxis": "x",
           "y": [
            5147445281
           ],
           "yaxis": "y"
          },
          {
           "hovertemplate": "<b>%{hovertext}</b><br><br>Country=Poland<br>Year=2013<br>GDP=%{marker.size}<br>RoadSpending=%{y}<extra></extra>",
           "hovertext": [
            "Poland"
           ],
           "legendgroup": "Poland",
           "marker": {
            "color": "#FECB52",
            "size": [
             459028179999.99994
            ],
            "sizemode": "area",
            "sizeref": 1119177225,
            "symbol": "circle"
           },
           "mode": "markers",
           "name": "Poland",
           "orientation": "v",
           "showlegend": true,
           "type": "scatter",
           "x": [
            459028179999.99994
           ],
           "xaxis": "x",
           "y": [
            1721113634
           ],
           "yaxis": "y"
          },
          {
           "hovertemplate": "<b>%{hovertext}</b><br><br>Country=Portugal<br>Year=2013<br>GDP=%{marker.size}<br>RoadSpending=%{y}<extra></extra>",
           "hovertext": [
            "Portugal"
           ],
           "legendgroup": "Portugal",
           "marker": {
            "color": "#636efa",
            "size": [
             201528930000
            ],
            "sizemode": "area",
            "sizeref": 1119177225,
            "symbol": "circle"
           },
           "mode": "markers",
           "name": "Portugal",
           "orientation": "v",
           "showlegend": true,
           "type": "scatter",
           "x": [
            201528930000
           ],
           "xaxis": "x",
           "y": [
            null
           ],
           "yaxis": "y"
          },
          {
           "hovertemplate": "<b>%{hovertext}</b><br><br>Country=Romania<br>Year=2013<br>GDP=%{marker.size}<br>RoadSpending=%{y}<extra></extra>",
           "hovertext": [
            "Romania"
           ],
           "legendgroup": "Romania",
           "marker": {
            "color": "#EF553B",
            "size": [
             168948700000
            ],
            "sizemode": "area",
            "sizeref": 1119177225,
            "symbol": "circle"
           },
           "mode": "markers",
           "name": "Romania",
           "orientation": "v",
           "showlegend": true,
           "type": "scatter",
           "x": [
            168948700000
           ],
           "xaxis": "x",
           "y": [
            2492631011
           ],
           "yaxis": "y"
          },
          {
           "hovertemplate": "<b>%{hovertext}</b><br><br>Country=Slovak Republic<br>Year=2013<br>GDP=%{marker.size}<br>RoadSpending=%{y}<extra></extra>",
           "hovertext": [
            "Slovak Republic"
           ],
           "legendgroup": "Slovak Republic",
           "marker": {
            "color": "#00cc96",
            "size": [
             88053930000
            ],
            "sizemode": "area",
            "sizeref": 1119177225,
            "symbol": "circle"
           },
           "mode": "markers",
           "name": "Slovak Republic",
           "orientation": "v",
           "showlegend": true,
           "type": "scatter",
           "x": [
            88053930000
           ],
           "xaxis": "x",
           "y": [
            550000000
           ],
           "yaxis": "y"
          },
          {
           "hovertemplate": "<b>%{hovertext}</b><br><br>Country=Slovenia<br>Year=2013<br>GDP=%{marker.size}<br>RoadSpending=%{y}<extra></extra>",
           "hovertext": [
            "Slovenia"
           ],
           "legendgroup": "Slovenia",
           "marker": {
            "color": "#ab63fa",
            "size": [
             42602520000
            ],
            "sizemode": "area",
            "sizeref": 1119177225,
            "symbol": "circle"
           },
           "mode": "markers",
           "name": "Slovenia",
           "orientation": "v",
           "showlegend": true,
           "type": "scatter",
           "x": [
            42602520000
           ],
           "xaxis": "x",
           "y": [
            128000000
           ],
           "yaxis": "y"
          },
          {
           "hovertemplate": "<b>%{hovertext}</b><br><br>Country=Spain<br>Year=2013<br>GDP=%{marker.size}<br>RoadSpending=%{y}<extra></extra>",
           "hovertext": [
            "Spain"
           ],
           "legendgroup": "Spain",
           "marker": {
            "color": "#FFA15A",
            "size": [
             1212364230000
            ],
            "sizemode": "area",
            "sizeref": 1119177225,
            "symbol": "circle"
           },
           "mode": "markers",
           "name": "Spain",
           "orientation": "v",
           "showlegend": true,
           "type": "scatter",
           "x": [
            1212364230000
           ],
           "xaxis": "x",
           "y": [
            4358000000
           ],
           "yaxis": "y"
          },
          {
           "hovertemplate": "<b>%{hovertext}</b><br><br>Country=Sweden<br>Year=2013<br>GDP=%{marker.size}<br>RoadSpending=%{y}<extra></extra>",
           "hovertext": [
            "Sweden"
           ],
           "legendgroup": "Sweden",
           "marker": {
            "color": "#19d3f3",
            "size": [
             519873920000
            ],
            "sizemode": "area",
            "sizeref": 1119177225,
            "symbol": "circle"
           },
           "mode": "markers",
           "name": "Sweden",
           "orientation": "v",
           "showlegend": true,
           "type": "scatter",
           "x": [
            519873920000
           ],
           "xaxis": "x",
           "y": [
            1864811089
           ],
           "yaxis": "y"
          }
         ],
         "name": "2013"
        },
        {
         "data": [
          {
           "hovertemplate": "<b>%{hovertext}</b><br><br>Country=Austria<br>Year=2014<br>GDP=%{marker.size}<br>RoadSpending=%{y}<extra></extra>",
           "hovertext": [
            "Austria"
           ],
           "legendgroup": "Austria",
           "marker": {
            "color": "#636efa",
            "size": [
             394002110000
            ],
            "sizemode": "area",
            "sizeref": 1119177225,
            "symbol": "circle"
           },
           "mode": "markers",
           "name": "Austria",
           "orientation": "v",
           "showlegend": true,
           "type": "scatter",
           "x": [
            394002110000
           ],
           "xaxis": "x",
           "y": [
            null
           ],
           "yaxis": "y"
          },
          {
           "hovertemplate": "<b>%{hovertext}</b><br><br>Country=Belgium<br>Year=2014<br>GDP=%{marker.size}<br>RoadSpending=%{y}<extra></extra>",
           "hovertext": [
            "Belgium"
           ],
           "legendgroup": "Belgium",
           "marker": {
            "color": "#EF553B",
            "size": [
             476620810000
            ],
            "sizemode": "area",
            "sizeref": 1119177225,
            "symbol": "circle"
           },
           "mode": "markers",
           "name": "Belgium",
           "orientation": "v",
           "showlegend": true,
           "type": "scatter",
           "x": [
            476620810000
           ],
           "xaxis": "x",
           "y": [
            553000000
           ],
           "yaxis": "y"
          },
          {
           "hovertemplate": "<b>%{hovertext}</b><br><br>Country=Bulgaria<br>Year=2014<br>GDP=%{marker.size}<br>RoadSpending=%{y}<extra></extra>",
           "hovertext": [
            "Bulgaria"
           ],
           "legendgroup": "Bulgaria",
           "marker": {
            "color": "#00cc96",
            "size": [
             50802090000
            ],
            "sizemode": "area",
            "sizeref": 1119177225,
            "symbol": "circle"
           },
           "mode": "markers",
           "name": "Bulgaria",
           "orientation": "v",
           "showlegend": true,
           "type": "scatter",
           "x": [
            50802090000
           ],
           "xaxis": "x",
           "y": [
            585949483.6
           ],
           "yaxis": "y"
          },
          {
           "hovertemplate": "<b>%{hovertext}</b><br><br>Country=Croatia<br>Year=2014<br>GDP=%{marker.size}<br>RoadSpending=%{y}<extra></extra>",
           "hovertext": [
            "Croatia"
           ],
           "legendgroup": "Croatia",
           "marker": {
            "color": "#ab63fa",
            "size": [
             52960340000
            ],
            "sizemode": "area",
            "sizeref": 1119177225,
            "symbol": "circle"
           },
           "mode": "markers",
           "name": "Croatia",
           "orientation": "v",
           "showlegend": true,
           "type": "scatter",
           "x": [
            52960340000
           ],
           "xaxis": "x",
           "y": [
            477802110.3
           ],
           "yaxis": "y"
          },
          {
           "hovertemplate": "<b>%{hovertext}</b><br><br>Country=Czechia<br>Year=2014<br>GDP=%{marker.size}<br>RoadSpending=%{y}<extra></extra>",
           "hovertext": [
            "Czechia"
           ],
           "legendgroup": "Czechia",
           "marker": {
            "color": "#FFA15A",
            "size": [
             187710790000
            ],
            "sizemode": "area",
            "sizeref": 1119177225,
            "symbol": "circle"
           },
           "mode": "markers",
           "name": "Czechia",
           "orientation": "v",
           "showlegend": true,
           "type": "scatter",
           "x": [
            187710790000
           ],
           "xaxis": "x",
           "y": [
            876329247.8
           ],
           "yaxis": "y"
          },
          {
           "hovertemplate": "<b>%{hovertext}</b><br><br>Country=Denmark<br>Year=2014<br>GDP=%{marker.size}<br>RoadSpending=%{y}<extra></extra>",
           "hovertext": [
            "Denmark"
           ],
           "legendgroup": "Denmark",
           "marker": {
            "color": "#19d3f3",
            "size": [
             314021370000
            ],
            "sizemode": "area",
            "sizeref": 1119177225,
            "symbol": "circle"
           },
           "mode": "markers",
           "name": "Denmark",
           "orientation": "v",
           "showlegend": true,
           "type": "scatter",
           "x": [
            314021370000
           ],
           "xaxis": "x",
           "y": [
            1323651898
           ],
           "yaxis": "y"
          },
          {
           "hovertemplate": "<b>%{hovertext}</b><br><br>Country=Estonia<br>Year=2014<br>GDP=%{marker.size}<br>RoadSpending=%{y}<extra></extra>",
           "hovertext": [
            "Estonia"
           ],
           "legendgroup": "Estonia",
           "marker": {
            "color": "#FF6692",
            "size": [
             24086070000
            ],
            "sizemode": "area",
            "sizeref": 1119177225,
            "symbol": "circle"
           },
           "mode": "markers",
           "name": "Estonia",
           "orientation": "v",
           "showlegend": true,
           "type": "scatter",
           "x": [
            24086070000
           ],
           "xaxis": "x",
           "y": [
            198400000
           ],
           "yaxis": "y"
          },
          {
           "hovertemplate": "<b>%{hovertext}</b><br><br>Country=Finland<br>Year=2014<br>GDP=%{marker.size}<br>RoadSpending=%{y}<extra></extra>",
           "hovertext": [
            "Finland"
           ],
           "legendgroup": "Finland",
           "marker": {
            "color": "#B6E880",
            "size": [
             243458609999.99997
            ],
            "sizemode": "area",
            "sizeref": 1119177225,
            "symbol": "circle"
           },
           "mode": "markers",
           "name": "Finland",
           "orientation": "v",
           "showlegend": true,
           "type": "scatter",
           "x": [
            243458609999.99997
           ],
           "xaxis": "x",
           "y": [
            1343000000
           ],
           "yaxis": "y"
          },
          {
           "hovertemplate": "<b>%{hovertext}</b><br><br>Country=France<br>Year=2014<br>GDP=%{marker.size}<br>RoadSpending=%{y}<extra></extra>",
           "hovertext": [
            "France"
           ],
           "legendgroup": "France",
           "marker": {
            "color": "#FF97FF",
            "size": [
             2547155970000
            ],
            "sizemode": "area",
            "sizeref": 1119177225,
            "symbol": "circle"
           },
           "mode": "markers",
           "name": "France",
           "orientation": "v",
           "showlegend": true,
           "type": "scatter",
           "x": [
            2547155970000
           ],
           "xaxis": "x",
           "y": [
            13173701531
           ],
           "yaxis": "y"
          },
          {
           "hovertemplate": "<b>%{hovertext}</b><br><br>Country=Germany<br>Year=2014<br>GDP=%{marker.size}<br>RoadSpending=%{y}<extra></extra>",
           "hovertext": [
            "Germany"
           ],
           "legendgroup": "Germany",
           "marker": {
            "color": "#FECB52",
            "size": [
             3530472470000
            ],
            "sizemode": "area",
            "sizeref": 1119177225,
            "symbol": "circle"
           },
           "mode": "markers",
           "name": "Germany",
           "orientation": "v",
           "showlegend": true,
           "type": "scatter",
           "x": [
            3530472470000
           ],
           "xaxis": "x",
           "y": [
            11180000000
           ],
           "yaxis": "y"
          },
          {
           "hovertemplate": "<b>%{hovertext}</b><br><br>Country=Greece<br>Year=2014<br>GDP=%{marker.size}<br>RoadSpending=%{y}<extra></extra>",
           "hovertext": [
            "Greece"
           ],
           "legendgroup": "Greece",
           "marker": {
            "color": "#636efa",
            "size": [
             209611910000
            ],
            "sizemode": "area",
            "sizeref": 1119177225,
            "symbol": "circle"
           },
           "mode": "markers",
           "name": "Greece",
           "orientation": "v",
           "showlegend": true,
           "type": "scatter",
           "x": [
            209611910000
           ],
           "xaxis": "x",
           "y": [
            994576029.8
           ],
           "yaxis": "y"
          },
          {
           "hovertemplate": "<b>%{hovertext}</b><br><br>Country=Hungary<br>Year=2014<br>GDP=%{marker.size}<br>RoadSpending=%{y}<extra></extra>",
           "hovertext": [
            "Hungary"
           ],
           "legendgroup": "Hungary",
           "marker": {
            "color": "#EF553B",
            "size": [
             125520260000
            ],
            "sizemode": "area",
            "sizeref": 1119177225,
            "symbol": "circle"
           },
           "mode": "markers",
           "name": "Hungary",
           "orientation": "v",
           "showlegend": true,
           "type": "scatter",
           "x": [
            125520260000
           ],
           "xaxis": "x",
           "y": [
            152652284.2
           ],
           "yaxis": "y"
          },
          {
           "hovertemplate": "<b>%{hovertext}</b><br><br>Country=Ireland<br>Year=2014<br>GDP=%{marker.size}<br>RoadSpending=%{y}<extra></extra>",
           "hovertext": [
            "Ireland"
           ],
           "legendgroup": "Ireland",
           "marker": {
            "color": "#00cc96",
            "size": [
             237502730000.00003
            ],
            "sizemode": "area",
            "sizeref": 1119177225,
            "symbol": "circle"
           },
           "mode": "markers",
           "name": "Ireland",
           "orientation": "v",
           "showlegend": true,
           "type": "scatter",
           "x": [
            237502730000.00003
           ],
           "xaxis": "x",
           "y": [
            886000000
           ],
           "yaxis": "y"
          },
          {
           "hovertemplate": "<b>%{hovertext}</b><br><br>Country=Italy<br>Year=2014<br>GDP=%{marker.size}<br>RoadSpending=%{y}<extra></extra>",
           "hovertext": [
            "Italy"
           ],
           "legendgroup": "Italy",
           "marker": {
            "color": "#ab63fa",
            "size": [
             1934696239999.9998
            ],
            "sizemode": "area",
            "sizeref": 1119177225,
            "symbol": "circle"
           },
           "mode": "markers",
           "name": "Italy",
           "orientation": "v",
           "showlegend": true,
           "type": "scatter",
           "x": [
            1934696239999.9998
           ],
           "xaxis": "x",
           "y": [
            3107000000
           ],
           "yaxis": "y"
          },
          {
           "hovertemplate": "<b>%{hovertext}</b><br><br>Country=Latvia<br>Year=2014<br>GDP=%{marker.size}<br>RoadSpending=%{y}<extra></extra>",
           "hovertext": [
            "Latvia"
           ],
           "legendgroup": "Latvia",
           "marker": {
            "color": "#FFA15A",
            "size": [
             27941550000
            ],
            "sizemode": "area",
            "sizeref": 1119177225,
            "symbol": "circle"
           },
           "mode": "markers",
           "name": "Latvia",
           "orientation": "v",
           "showlegend": true,
           "type": "scatter",
           "x": [
            27941550000
           ],
           "xaxis": "x",
           "y": [
            190000000
           ],
           "yaxis": "y"
          },
          {
           "hovertemplate": "<b>%{hovertext}</b><br><br>Country=Lithuania<br>Year=2014<br>GDP=%{marker.size}<br>RoadSpending=%{y}<extra></extra>",
           "hovertext": [
            "Lithuania"
           ],
           "legendgroup": "Lithuania",
           "marker": {
            "color": "#19d3f3",
            "size": [
             43270910000
            ],
            "sizemode": "area",
            "sizeref": 1119177225,
            "symbol": "circle"
           },
           "mode": "markers",
           "name": "Lithuania",
           "orientation": "v",
           "showlegend": true,
           "type": "scatter",
           "x": [
            43270910000
           ],
           "xaxis": "x",
           "y": [
            243000000
           ],
           "yaxis": "y"
          },
          {
           "hovertemplate": "<b>%{hovertext}</b><br><br>Country=Luxembourg<br>Year=2014<br>GDP=%{marker.size}<br>RoadSpending=%{y}<extra></extra>",
           "hovertext": [
            "Luxembourg"
           ],
           "legendgroup": "Luxembourg",
           "marker": {
            "color": "#FF6692",
            "size": [
             61252470000
            ],
            "sizemode": "area",
            "sizeref": 1119177225,
            "symbol": "circle"
           },
           "mode": "markers",
           "name": "Luxembourg",
           "orientation": "v",
           "showlegend": true,
           "type": "scatter",
           "x": [
            61252470000
           ],
           "xaxis": "x",
           "y": [
            213399365
           ],
           "yaxis": "y"
          },
          {
           "hovertemplate": "<b>%{hovertext}</b><br><br>Country=Malta<br>Year=2014<br>GDP=%{marker.size}<br>RoadSpending=%{y}<extra></extra>",
           "hovertext": [
            "Malta"
           ],
           "legendgroup": "Malta",
           "marker": {
            "color": "#B6E880",
            "size": [
             10582990000
            ],
            "sizemode": "area",
            "sizeref": 1119177225,
            "symbol": "circle"
           },
           "mode": "markers",
           "name": "Malta",
           "orientation": "v",
           "showlegend": true,
           "type": "scatter",
           "x": [
            10582990000
           ],
           "xaxis": "x",
           "y": [
            26747405.42
           ],
           "yaxis": "y"
          },
          {
           "hovertemplate": "<b>%{hovertext}</b><br><br>Country=Netherlands<br>Year=2014<br>GDP=%{marker.size}<br>RoadSpending=%{y}<extra></extra>",
           "hovertext": [
            "Netherlands"
           ],
           "legendgroup": "Netherlands",
           "marker": {
            "color": "#FF97FF",
            "size": [
             802592210000
            ],
            "sizemode": "area",
            "sizeref": 1119177225,
            "symbol": "circle"
           },
           "mode": "markers",
           "name": "Netherlands",
           "orientation": "v",
           "showlegend": true,
           "type": "scatter",
           "x": [
            802592210000
           ],
           "xaxis": "x",
           "y": [
            4861963582
           ],
           "yaxis": "y"
          },
          {
           "hovertemplate": "<b>%{hovertext}</b><br><br>Country=Poland<br>Year=2014<br>GDP=%{marker.size}<br>RoadSpending=%{y}<extra></extra>",
           "hovertext": [
            "Poland"
           ],
           "legendgroup": "Poland",
           "marker": {
            "color": "#FECB52",
            "size": [
             479898680000
            ],
            "sizemode": "area",
            "sizeref": 1119177225,
            "symbol": "circle"
           },
           "mode": "markers",
           "name": "Poland",
           "orientation": "v",
           "showlegend": true,
           "type": "scatter",
           "x": [
            479898680000
           ],
           "xaxis": "x",
           "y": [
            4382811940
           ],
           "yaxis": "y"
          },
          {
           "hovertemplate": "<b>%{hovertext}</b><br><br>Country=Portugal<br>Year=2014<br>GDP=%{marker.size}<br>RoadSpending=%{y}<extra></extra>",
           "hovertext": [
            "Portugal"
           ],
           "legendgroup": "Portugal",
           "marker": {
            "color": "#636efa",
            "size": [
             204665290000
            ],
            "sizemode": "area",
            "sizeref": 1119177225,
            "symbol": "circle"
           },
           "mode": "markers",
           "name": "Portugal",
           "orientation": "v",
           "showlegend": true,
           "type": "scatter",
           "x": [
            204665290000
           ],
           "xaxis": "x",
           "y": [
            274000000
           ],
           "yaxis": "y"
          },
          {
           "hovertemplate": "<b>%{hovertext}</b><br><br>Country=Romania<br>Year=2014<br>GDP=%{marker.size}<br>RoadSpending=%{y}<extra></extra>",
           "hovertext": [
            "Romania"
           ],
           "legendgroup": "Romania",
           "marker": {
            "color": "#EF553B",
            "size": [
             177983090000
            ],
            "sizemode": "area",
            "sizeref": 1119177225,
            "symbol": "circle"
           },
           "mode": "markers",
           "name": "Romania",
           "orientation": "v",
           "showlegend": true,
           "type": "scatter",
           "x": [
            177983090000
           ],
           "xaxis": "x",
           "y": [
            3092797380
           ],
           "yaxis": "y"
          },
          {
           "hovertemplate": "<b>%{hovertext}</b><br><br>Country=Slovak Republic<br>Year=2014<br>GDP=%{marker.size}<br>RoadSpending=%{y}<extra></extra>",
           "hovertext": [
            "Slovak Republic"
           ],
           "legendgroup": "Slovak Republic",
           "marker": {
            "color": "#00cc96",
            "size": [
             90302070000
            ],
            "sizemode": "area",
            "sizeref": 1119177225,
            "symbol": "circle"
           },
           "mode": "markers",
           "name": "Slovak Republic",
           "orientation": "v",
           "showlegend": true,
           "type": "scatter",
           "x": [
            90302070000
           ],
           "xaxis": "x",
           "y": [
            311000000
           ],
           "yaxis": "y"
          },
          {
           "hovertemplate": "<b>%{hovertext}</b><br><br>Country=Slovenia<br>Year=2014<br>GDP=%{marker.size}<br>RoadSpending=%{y}<extra></extra>",
           "hovertext": [
            "Slovenia"
           ],
           "legendgroup": "Slovenia",
           "marker": {
            "color": "#ab63fa",
            "size": [
             44079030000
            ],
            "sizemode": "area",
            "sizeref": 1119177225,
            "symbol": "circle"
           },
           "mode": "markers",
           "name": "Slovenia",
           "orientation": "v",
           "showlegend": true,
           "type": "scatter",
           "x": [
            44079030000
           ],
           "xaxis": "x",
           "y": [
            102000000
           ],
           "yaxis": "y"
          },
          {
           "hovertemplate": "<b>%{hovertext}</b><br><br>Country=Spain<br>Year=2014<br>GDP=%{marker.size}<br>RoadSpending=%{y}<extra></extra>",
           "hovertext": [
            "Spain"
           ],
           "legendgroup": "Spain",
           "marker": {
            "color": "#FFA15A",
            "size": [
             1228734000000
            ],
            "sizemode": "area",
            "sizeref": 1119177225,
            "symbol": "circle"
           },
           "mode": "markers",
           "name": "Spain",
           "orientation": "v",
           "showlegend": true,
           "type": "scatter",
           "x": [
            1228734000000
           ],
           "xaxis": "x",
           "y": [
            5316000000
           ],
           "yaxis": "y"
          },
          {
           "hovertemplate": "<b>%{hovertext}</b><br><br>Country=Sweden<br>Year=2014<br>GDP=%{marker.size}<br>RoadSpending=%{y}<extra></extra>",
           "hovertext": [
            "Sweden"
           ],
           "legendgroup": "Sweden",
           "marker": {
            "color": "#19d3f3",
            "size": [
             514179700000
            ],
            "sizemode": "area",
            "sizeref": 1119177225,
            "symbol": "circle"
           },
           "mode": "markers",
           "name": "Sweden",
           "orientation": "v",
           "showlegend": true,
           "type": "scatter",
           "x": [
            514179700000
           ],
           "xaxis": "x",
           "y": [
            2212089540
           ],
           "yaxis": "y"
          }
         ],
         "name": "2014"
        },
        {
         "data": [
          {
           "hovertemplate": "<b>%{hovertext}</b><br><br>Country=Austria<br>Year=2015<br>GDP=%{marker.size}<br>RoadSpending=%{y}<extra></extra>",
           "hovertext": [
            "Austria"
           ],
           "legendgroup": "Austria",
           "marker": {
            "color": "#636efa",
            "size": [
             339988900000
            ],
            "sizemode": "area",
            "sizeref": 1119177225,
            "symbol": "circle"
           },
           "mode": "markers",
           "name": "Austria",
           "orientation": "v",
           "showlegend": true,
           "type": "scatter",
           "x": [
            339988900000
           ],
           "xaxis": "x",
           "y": [
            null
           ],
           "yaxis": "y"
          },
          {
           "hovertemplate": "<b>%{hovertext}</b><br><br>Country=Belgium<br>Year=2015<br>GDP=%{marker.size}<br>RoadSpending=%{y}<extra></extra>",
           "hovertext": [
            "Belgium"
           ],
           "legendgroup": "Belgium",
           "marker": {
            "color": "#EF553B",
            "size": [
             411520870000
            ],
            "sizemode": "area",
            "sizeref": 1119177225,
            "symbol": "circle"
           },
           "mode": "markers",
           "name": "Belgium",
           "orientation": "v",
           "showlegend": true,
           "type": "scatter",
           "x": [
            411520870000
           ],
           "xaxis": "x",
           "y": [
            778000000
           ],
           "yaxis": "y"
          },
          {
           "hovertemplate": "<b>%{hovertext}</b><br><br>Country=Bulgaria<br>Year=2015<br>GDP=%{marker.size}<br>RoadSpending=%{y}<extra></extra>",
           "hovertext": [
            "Bulgaria"
           ],
           "legendgroup": "Bulgaria",
           "marker": {
            "color": "#00cc96",
            "size": [
             45181740000
            ],
            "sizemode": "area",
            "sizeref": 1119177225,
            "symbol": "circle"
           },
           "mode": "markers",
           "name": "Bulgaria",
           "orientation": "v",
           "showlegend": true,
           "type": "scatter",
           "x": [
            45181740000
           ],
           "xaxis": "x",
           "y": [
            839042846.9
           ],
           "yaxis": "y"
          },
          {
           "hovertemplate": "<b>%{hovertext}</b><br><br>Country=Croatia<br>Year=2015<br>GDP=%{marker.size}<br>RoadSpending=%{y}<extra></extra>",
           "hovertext": [
            "Croatia"
           ],
           "legendgroup": "Croatia",
           "marker": {
            "color": "#ab63fa",
            "size": [
             45404240000
            ],
            "sizemode": "area",
            "sizeref": 1119177225,
            "symbol": "circle"
           },
           "mode": "markers",
           "name": "Croatia",
           "orientation": "v",
           "showlegend": true,
           "type": "scatter",
           "x": [
            45404240000
           ],
           "xaxis": "x",
           "y": [
            240891897.3
           ],
           "yaxis": "y"
          },
          {
           "hovertemplate": "<b>%{hovertext}</b><br><br>Country=Czechia<br>Year=2015<br>GDP=%{marker.size}<br>RoadSpending=%{y}<extra></extra>",
           "hovertext": [
            "Czechia"
           ],
           "legendgroup": "Czechia",
           "marker": {
            "color": "#FFA15A",
            "size": [
             168306120000
            ],
            "sizemode": "area",
            "sizeref": 1119177225,
            "symbol": "circle"
           },
           "mode": "markers",
           "name": "Czechia",
           "orientation": "v",
           "showlegend": true,
           "type": "scatter",
           "x": [
            168306120000
           ],
           "xaxis": "x",
           "y": [
            885358255.5
           ],
           "yaxis": "y"
          },
          {
           "hovertemplate": "<b>%{hovertext}</b><br><br>Country=Denmark<br>Year=2015<br>GDP=%{marker.size}<br>RoadSpending=%{y}<extra></extra>",
           "hovertext": [
            "Denmark"
           ],
           "legendgroup": "Denmark",
           "marker": {
            "color": "#19d3f3",
            "size": [
             268565510000
            ],
            "sizemode": "area",
            "sizeref": 1119177225,
            "symbol": "circle"
           },
           "mode": "markers",
           "name": "Denmark",
           "orientation": "v",
           "showlegend": true,
           "type": "scatter",
           "x": [
            268565510000
           ],
           "xaxis": "x",
           "y": [
            1086396911
           ],
           "yaxis": "y"
          },
          {
           "hovertemplate": "<b>%{hovertext}</b><br><br>Country=Estonia<br>Year=2015<br>GDP=%{marker.size}<br>RoadSpending=%{y}<extra></extra>",
           "hovertext": [
            "Estonia"
           ],
           "legendgroup": "Estonia",
           "marker": {
            "color": "#FF6692",
            "size": [
             20749460000
            ],
            "sizemode": "area",
            "sizeref": 1119177225,
            "symbol": "circle"
           },
           "mode": "markers",
           "name": "Estonia",
           "orientation": "v",
           "showlegend": true,
           "type": "scatter",
           "x": [
            20749460000
           ],
           "xaxis": "x",
           "y": [
            185050000
           ],
           "yaxis": "y"
          },
          {
           "hovertemplate": "<b>%{hovertext}</b><br><br>Country=Finland<br>Year=2015<br>GDP=%{marker.size}<br>RoadSpending=%{y}<extra></extra>",
           "hovertext": [
            "Finland"
           ],
           "legendgroup": "Finland",
           "marker": {
            "color": "#B6E880",
            "size": [
             207578260000
            ],
            "sizemode": "area",
            "sizeref": 1119177225,
            "symbol": "circle"
           },
           "mode": "markers",
           "name": "Finland",
           "orientation": "v",
           "showlegend": true,
           "type": "scatter",
           "x": [
            207578260000
           ],
           "xaxis": "x",
           "y": [
            1451000000
           ],
           "yaxis": "y"
          },
          {
           "hovertemplate": "<b>%{hovertext}</b><br><br>Country=France<br>Year=2015<br>GDP=%{marker.size}<br>RoadSpending=%{y}<extra></extra>",
           "hovertext": [
            "France"
           ],
           "legendgroup": "France",
           "marker": {
            "color": "#FF97FF",
            "size": [
             2174030590000
            ],
            "sizemode": "area",
            "sizeref": 1119177225,
            "symbol": "circle"
           },
           "mode": "markers",
           "name": "France",
           "orientation": "v",
           "showlegend": true,
           "type": "scatter",
           "x": [
            2174030590000
           ],
           "xaxis": "x",
           "y": [
            10011226322
           ],
           "yaxis": "y"
          },
          {
           "hovertemplate": "<b>%{hovertext}</b><br><br>Country=Germany<br>Year=2015<br>GDP=%{marker.size}<br>RoadSpending=%{y}<extra></extra>",
           "hovertext": [
            "Germany"
           ],
           "legendgroup": "Germany",
           "marker": {
            "color": "#FECB52",
            "size": [
             3047284350000
            ],
            "sizemode": "area",
            "sizeref": 1119177225,
            "symbol": "circle"
           },
           "mode": "markers",
           "name": "Germany",
           "orientation": "v",
           "showlegend": true,
           "type": "scatter",
           "x": [
            3047284350000
           ],
           "xaxis": "x",
           "y": [
            11440000000
           ],
           "yaxis": "y"
          },
          {
           "hovertemplate": "<b>%{hovertext}</b><br><br>Country=Greece<br>Year=2015<br>GDP=%{marker.size}<br>RoadSpending=%{y}<extra></extra>",
           "hovertext": [
            "Greece"
           ],
           "legendgroup": "Greece",
           "marker": {
            "color": "#636efa",
            "size": [
             174175670000
            ],
            "sizemode": "area",
            "sizeref": 1119177225,
            "symbol": "circle"
           },
           "mode": "markers",
           "name": "Greece",
           "orientation": "v",
           "showlegend": true,
           "type": "scatter",
           "x": [
            174175670000
           ],
           "xaxis": "x",
           "y": [
            1348729715
           ],
           "yaxis": "y"
          },
          {
           "hovertemplate": "<b>%{hovertext}</b><br><br>Country=Hungary<br>Year=2015<br>GDP=%{marker.size}<br>RoadSpending=%{y}<extra></extra>",
           "hovertext": [
            "Hungary"
           ],
           "legendgroup": "Hungary",
           "marker": {
            "color": "#EF553B",
            "size": [
             111404860000
            ],
            "sizemode": "area",
            "sizeref": 1119177225,
            "symbol": "circle"
           },
           "mode": "markers",
           "name": "Hungary",
           "orientation": "v",
           "showlegend": true,
           "type": "scatter",
           "x": [
            111404860000
           ],
           "xaxis": "x",
           "y": [
            1247677055
           ],
           "yaxis": "y"
          },
          {
           "hovertemplate": "<b>%{hovertext}</b><br><br>Country=Ireland<br>Year=2015<br>GDP=%{marker.size}<br>RoadSpending=%{y}<extra></extra>",
           "hovertext": [
            "Ireland"
           ],
           "legendgroup": "Ireland",
           "marker": {
            "color": "#00cc96",
            "size": [
             269155580000
            ],
            "sizemode": "area",
            "sizeref": 1119177225,
            "symbol": "circle"
           },
           "mode": "markers",
           "name": "Ireland",
           "orientation": "v",
           "showlegend": true,
           "type": "scatter",
           "x": [
            269155580000
           ],
           "xaxis": "x",
           "y": [
            612000000
           ],
           "yaxis": "y"
          },
          {
           "hovertemplate": "<b>%{hovertext}</b><br><br>Country=Italy<br>Year=2015<br>GDP=%{marker.size}<br>RoadSpending=%{y}<extra></extra>",
           "hovertext": [
            "Italy"
           ],
           "legendgroup": "Italy",
           "marker": {
            "color": "#ab63fa",
            "size": [
             1642598240000
            ],
            "sizemode": "area",
            "sizeref": 1119177225,
            "symbol": "circle"
           },
           "mode": "markers",
           "name": "Italy",
           "orientation": "v",
           "showlegend": true,
           "type": "scatter",
           "x": [
            1642598240000
           ],
           "xaxis": "x",
           "y": [
            5151000000
           ],
           "yaxis": "y"
          },
          {
           "hovertemplate": "<b>%{hovertext}</b><br><br>Country=Latvia<br>Year=2015<br>GDP=%{marker.size}<br>RoadSpending=%{y}<extra></extra>",
           "hovertext": [
            "Latvia"
           ],
           "legendgroup": "Latvia",
           "marker": {
            "color": "#FFA15A",
            "size": [
             24266740000
            ],
            "sizemode": "area",
            "sizeref": 1119177225,
            "symbol": "circle"
           },
           "mode": "markers",
           "name": "Latvia",
           "orientation": "v",
           "showlegend": true,
           "type": "scatter",
           "x": [
            24266740000
           ],
           "xaxis": "x",
           "y": [
            203000000
           ],
           "yaxis": "y"
          },
          {
           "hovertemplate": "<b>%{hovertext}</b><br><br>Country=Lithuania<br>Year=2015<br>GDP=%{marker.size}<br>RoadSpending=%{y}<extra></extra>",
           "hovertext": [
            "Lithuania"
           ],
           "legendgroup": "Lithuania",
           "marker": {
            "color": "#19d3f3",
            "size": [
             36873590000
            ],
            "sizemode": "area",
            "sizeref": 1119177225,
            "symbol": "circle"
           },
           "mode": "markers",
           "name": "Lithuania",
           "orientation": "v",
           "showlegend": true,
           "type": "scatter",
           "x": [
            36873590000
           ],
           "xaxis": "x",
           "y": [
            258000000
           ],
           "yaxis": "y"
          },
          {
           "hovertemplate": "<b>%{hovertext}</b><br><br>Country=Luxembourg<br>Year=2015<br>GDP=%{marker.size}<br>RoadSpending=%{y}<extra></extra>",
           "hovertext": [
            "Luxembourg"
           ],
           "legendgroup": "Luxembourg",
           "marker": {
            "color": "#FF6692",
            "size": [
             53469420000
            ],
            "sizemode": "area",
            "sizeref": 1119177225,
            "symbol": "circle"
           },
           "mode": "markers",
           "name": "Luxembourg",
           "orientation": "v",
           "showlegend": true,
           "type": "scatter",
           "x": [
            53469420000
           ],
           "xaxis": "x",
           "y": [
            226217136.5
           ],
           "yaxis": "y"
          },
          {
           "hovertemplate": "<b>%{hovertext}</b><br><br>Country=Malta<br>Year=2015<br>GDP=%{marker.size}<br>RoadSpending=%{y}<extra></extra>",
           "hovertext": [
            "Malta"
           ],
           "legendgroup": "Malta",
           "marker": {
            "color": "#B6E880",
            "size": [
             10094380000
            ],
            "sizemode": "area",
            "sizeref": 1119177225,
            "symbol": "circle"
           },
           "mode": "markers",
           "name": "Malta",
           "orientation": "v",
           "showlegend": true,
           "type": "scatter",
           "x": [
            10094380000
           ],
           "xaxis": "x",
           "y": [
            null
           ],
           "yaxis": "y"
          },
          {
           "hovertemplate": "<b>%{hovertext}</b><br><br>Country=Netherlands<br>Year=2015<br>GDP=%{marker.size}<br>RoadSpending=%{y}<extra></extra>",
           "hovertext": [
            "Netherlands"
           ],
           "legendgroup": "Netherlands",
           "marker": {
            "color": "#FF97FF",
            "size": [
             690481580000
            ],
            "sizemode": "area",
            "sizeref": 1119177225,
            "symbol": "circle"
           },
           "mode": "markers",
           "name": "Netherlands",
           "orientation": "v",
           "showlegend": true,
           "type": "scatter",
           "x": [
            690481580000
           ],
           "xaxis": "x",
           "y": [
            4849447882
           ],
           "yaxis": "y"
          },
          {
           "hovertemplate": "<b>%{hovertext}</b><br><br>Country=Poland<br>Year=2015<br>GDP=%{marker.size}<br>RoadSpending=%{y}<extra></extra>",
           "hovertext": [
            "Poland"
           ],
           "legendgroup": "Poland",
           "marker": {
            "color": "#FECB52",
            "size": [
             424341320000
            ],
            "sizemode": "area",
            "sizeref": 1119177225,
            "symbol": "circle"
           },
           "mode": "markers",
           "name": "Poland",
           "orientation": "v",
           "showlegend": true,
           "type": "scatter",
           "x": [
            424341320000
           ],
           "xaxis": "x",
           "y": [
            2170794683
           ],
           "yaxis": "y"
          },
          {
           "hovertemplate": "<b>%{hovertext}</b><br><br>Country=Portugal<br>Year=2015<br>GDP=%{marker.size}<br>RoadSpending=%{y}<extra></extra>",
           "hovertext": [
            "Portugal"
           ],
           "legendgroup": "Portugal",
           "marker": {
            "color": "#636efa",
            "size": [
             177478460000
            ],
            "sizemode": "area",
            "sizeref": 1119177225,
            "symbol": "circle"
           },
           "mode": "markers",
           "name": "Portugal",
           "orientation": "v",
           "showlegend": true,
           "type": "scatter",
           "x": [
            177478460000
           ],
           "xaxis": "x",
           "y": [
            null
           ],
           "yaxis": "y"
          },
          {
           "hovertemplate": "<b>%{hovertext}</b><br><br>Country=Romania<br>Year=2015<br>GDP=%{marker.size}<br>RoadSpending=%{y}<extra></extra>",
           "hovertext": [
            "Romania"
           ],
           "legendgroup": "Romania",
           "marker": {
            "color": "#EF553B",
            "size": [
             158310530000
            ],
            "sizemode": "area",
            "sizeref": 1119177225,
            "symbol": "circle"
           },
           "mode": "markers",
           "name": "Romania",
           "orientation": "v",
           "showlegend": true,
           "type": "scatter",
           "x": [
            158310530000
           ],
           "xaxis": "x",
           "y": [
            2870287051
           ],
           "yaxis": "y"
          },
          {
           "hovertemplate": "<b>%{hovertext}</b><br><br>Country=Slovak Republic<br>Year=2015<br>GDP=%{marker.size}<br>RoadSpending=%{y}<extra></extra>",
           "hovertext": [
            "Slovak Republic"
           ],
           "legendgroup": "Slovak Republic",
           "marker": {
            "color": "#00cc96",
            "size": [
             79129900000
            ],
            "sizemode": "area",
            "sizeref": 1119177225,
            "symbol": "circle"
           },
           "mode": "markers",
           "name": "Slovak Republic",
           "orientation": "v",
           "showlegend": true,
           "type": "scatter",
           "x": [
            79129900000
           ],
           "xaxis": "x",
           "y": [
            1133782000
           ],
           "yaxis": "y"
          },
          {
           "hovertemplate": "<b>%{hovertext}</b><br><br>Country=Slovenia<br>Year=2015<br>GDP=%{marker.size}<br>RoadSpending=%{y}<extra></extra>",
           "hovertext": [
            "Slovenia"
           ],
           "legendgroup": "Slovenia",
           "marker": {
            "color": "#ab63fa",
            "size": [
             38015460000
            ],
            "sizemode": "area",
            "sizeref": 1119177225,
            "symbol": "circle"
           },
           "mode": "markers",
           "name": "Slovenia",
           "orientation": "v",
           "showlegend": true,
           "type": "scatter",
           "x": [
            38015460000
           ],
           "xaxis": "x",
           "y": [
            145000000
           ],
           "yaxis": "y"
          },
          {
           "hovertemplate": "<b>%{hovertext}</b><br><br>Country=Spain<br>Year=2015<br>GDP=%{marker.size}<br>RoadSpending=%{y}<extra></extra>",
           "hovertext": [
            "Spain"
           ],
           "legendgroup": "Spain",
           "marker": {
            "color": "#FFA15A",
            "size": [
             1073595430000
            ],
            "sizemode": "area",
            "sizeref": 1119177225,
            "symbol": "circle"
           },
           "mode": "markers",
           "name": "Spain",
           "orientation": "v",
           "showlegend": true,
           "type": "scatter",
           "x": [
            1073595430000
           ],
           "xaxis": "x",
           "y": [
            4259000000
           ],
           "yaxis": "y"
          },
          {
           "hovertemplate": "<b>%{hovertext}</b><br><br>Country=Sweden<br>Year=2015<br>GDP=%{marker.size}<br>RoadSpending=%{y}<extra></extra>",
           "hovertext": [
            "Sweden"
           ],
           "legendgroup": "Sweden",
           "marker": {
            "color": "#19d3f3",
            "size": [
             446511220000
            ],
            "sizemode": "area",
            "sizeref": 1119177225,
            "symbol": "circle"
           },
           "mode": "markers",
           "name": "Sweden",
           "orientation": "v",
           "showlegend": true,
           "type": "scatter",
           "x": [
            446511220000
           ],
           "xaxis": "x",
           "y": [
            1861457053
           ],
           "yaxis": "y"
          }
         ],
         "name": "2015"
        },
        {
         "data": [
          {
           "hovertemplate": "<b>%{hovertext}</b><br><br>Country=Austria<br>Year=2016<br>GDP=%{marker.size}<br>RoadSpending=%{y}<extra></extra>",
           "hovertext": [
            "Austria"
           ],
           "legendgroup": "Austria",
           "marker": {
            "color": "#636efa",
            "size": [
             352197920000
            ],
            "sizemode": "area",
            "sizeref": 1119177225,
            "symbol": "circle"
           },
           "mode": "markers",
           "name": "Austria",
           "orientation": "v",
           "showlegend": true,
           "type": "scatter",
           "x": [
            352197920000
           ],
           "xaxis": "x",
           "y": [
            null
           ],
           "yaxis": "y"
          },
          {
           "hovertemplate": "<b>%{hovertext}</b><br><br>Country=Belgium<br>Year=2016<br>GDP=%{marker.size}<br>RoadSpending=%{y}<extra></extra>",
           "hovertext": [
            "Belgium"
           ],
           "legendgroup": "Belgium",
           "marker": {
            "color": "#EF553B",
            "size": [
             423578590000
            ],
            "sizemode": "area",
            "sizeref": 1119177225,
            "symbol": "circle"
           },
           "mode": "markers",
           "name": "Belgium",
           "orientation": "v",
           "showlegend": true,
           "type": "scatter",
           "x": [
            423578590000
           ],
           "xaxis": "x",
           "y": [
            655906000
           ],
           "yaxis": "y"
          },
          {
           "hovertemplate": "<b>%{hovertext}</b><br><br>Country=Bulgaria<br>Year=2016<br>GDP=%{marker.size}<br>RoadSpending=%{y}<extra></extra>",
           "hovertext": [
            "Bulgaria"
           ],
           "legendgroup": "Bulgaria",
           "marker": {
            "color": "#00cc96",
            "size": [
             47996810000
            ],
            "sizemode": "area",
            "sizeref": 1119177225,
            "symbol": "circle"
           },
           "mode": "markers",
           "name": "Bulgaria",
           "orientation": "v",
           "showlegend": true,
           "type": "scatter",
           "x": [
            47996810000
           ],
           "xaxis": "x",
           "y": [
            115042437.9
           ],
           "yaxis": "y"
          },
          {
           "hovertemplate": "<b>%{hovertext}</b><br><br>Country=Croatia<br>Year=2016<br>GDP=%{marker.size}<br>RoadSpending=%{y}<extra></extra>",
           "hovertext": [
            "Croatia"
           ],
           "legendgroup": "Croatia",
           "marker": {
            "color": "#ab63fa",
            "size": [
             46926140000
            ],
            "sizemode": "area",
            "sizeref": 1119177225,
            "symbol": "circle"
           },
           "mode": "markers",
           "name": "Croatia",
           "orientation": "v",
           "showlegend": true,
           "type": "scatter",
           "x": [
            46926140000
           ],
           "xaxis": "x",
           "y": [
            194704359.9
           ],
           "yaxis": "y"
          },
          {
           "hovertemplate": "<b>%{hovertext}</b><br><br>Country=Czechia<br>Year=2016<br>GDP=%{marker.size}<br>RoadSpending=%{y}<extra></extra>",
           "hovertext": [
            "Czechia"
           ],
           "legendgroup": "Czechia",
           "marker": {
            "color": "#FFA15A",
            "size": [
             176363290000
            ],
            "sizemode": "area",
            "sizeref": 1119177225,
            "symbol": "circle"
           },
           "mode": "markers",
           "name": "Czechia",
           "orientation": "v",
           "showlegend": true,
           "type": "scatter",
           "x": [
            176363290000
           ],
           "xaxis": "x",
           "y": [
            984191254.7
           ],
           "yaxis": "y"
          },
          {
           "hovertemplate": "<b>%{hovertext}</b><br><br>Country=Denmark<br>Year=2016<br>GDP=%{marker.size}<br>RoadSpending=%{y}<extra></extra>",
           "hovertext": [
            "Denmark"
           ],
           "legendgroup": "Denmark",
           "marker": {
            "color": "#19d3f3",
            "size": [
             277841980000
            ],
            "sizemode": "area",
            "sizeref": 1119177225,
            "symbol": "circle"
           },
           "mode": "markers",
           "name": "Denmark",
           "orientation": "v",
           "showlegend": true,
           "type": "scatter",
           "x": [
            277841980000
           ],
           "xaxis": "x",
           "y": [
            1065643190
           ],
           "yaxis": "y"
          },
          {
           "hovertemplate": "<b>%{hovertext}</b><br><br>Country=Estonia<br>Year=2016<br>GDP=%{marker.size}<br>RoadSpending=%{y}<extra></extra>",
           "hovertext": [
            "Estonia"
           ],
           "legendgroup": "Estonia",
           "marker": {
            "color": "#FF6692",
            "size": [
             21853060000
            ],
            "sizemode": "area",
            "sizeref": 1119177225,
            "symbol": "circle"
           },
           "mode": "markers",
           "name": "Estonia",
           "orientation": "v",
           "showlegend": true,
           "type": "scatter",
           "x": [
            21853060000
           ],
           "xaxis": "x",
           "y": [
            197000000
           ],
           "yaxis": "y"
          },
          {
           "hovertemplate": "<b>%{hovertext}</b><br><br>Country=Finland<br>Year=2016<br>GDP=%{marker.size}<br>RoadSpending=%{y}<extra></extra>",
           "hovertext": [
            "Finland"
           ],
           "legendgroup": "Finland",
           "marker": {
            "color": "#B6E880",
            "size": [
             212453680000
            ],
            "sizemode": "area",
            "sizeref": 1119177225,
            "symbol": "circle"
           },
           "mode": "markers",
           "name": "Finland",
           "orientation": "v",
           "showlegend": true,
           "type": "scatter",
           "x": [
            212453680000
           ],
           "xaxis": "x",
           "y": [
            1596000000
           ],
           "yaxis": "y"
          },
          {
           "hovertemplate": "<b>%{hovertext}</b><br><br>Country=France<br>Year=2016<br>GDP=%{marker.size}<br>RoadSpending=%{y}<extra></extra>",
           "hovertext": [
            "France"
           ],
           "legendgroup": "France",
           "marker": {
            "color": "#FF97FF",
            "size": [
             2198056140000
            ],
            "sizemode": "area",
            "sizeref": 1119177225,
            "symbol": "circle"
           },
           "mode": "markers",
           "name": "France",
           "orientation": "v",
           "showlegend": true,
           "type": "scatter",
           "x": [
            2198056140000
           ],
           "xaxis": "x",
           "y": [
            9080000000
           ],
           "yaxis": "y"
          },
          {
           "hovertemplate": "<b>%{hovertext}</b><br><br>Country=Germany<br>Year=2016<br>GDP=%{marker.size}<br>RoadSpending=%{y}<extra></extra>",
           "hovertext": [
            "Germany"
           ],
           "legendgroup": "Germany",
           "marker": {
            "color": "#FECB52",
            "size": [
             3147759120000
            ],
            "sizemode": "area",
            "sizeref": 1119177225,
            "symbol": "circle"
           },
           "mode": "markers",
           "name": "Germany",
           "orientation": "v",
           "showlegend": true,
           "type": "scatter",
           "x": [
            3147759120000
           ],
           "xaxis": "x",
           "y": [
            13540000000
           ],
           "yaxis": "y"
          },
          {
           "hovertemplate": "<b>%{hovertext}</b><br><br>Country=Greece<br>Year=2016<br>GDP=%{marker.size}<br>RoadSpending=%{y}<extra></extra>",
           "hovertext": [
            "Greece"
           ],
           "legendgroup": "Greece",
           "marker": {
            "color": "#636efa",
            "size": [
             171854550000
            ],
            "sizemode": "area",
            "sizeref": 1119177225,
            "symbol": "circle"
           },
           "mode": "markers",
           "name": "Greece",
           "orientation": "v",
           "showlegend": true,
           "type": "scatter",
           "x": [
            171854550000
           ],
           "xaxis": "x",
           "y": [
            3894932795
           ],
           "yaxis": "y"
          },
          {
           "hovertemplate": "<b>%{hovertext}</b><br><br>Country=Hungary<br>Year=2016<br>GDP=%{marker.size}<br>RoadSpending=%{y}<extra></extra>",
           "hovertext": [
            "Hungary"
           ],
           "legendgroup": "Hungary",
           "marker": {
            "color": "#EF553B",
            "size": [
             114462900000.00002
            ],
            "sizemode": "area",
            "sizeref": 1119177225,
            "symbol": "circle"
           },
           "mode": "markers",
           "name": "Hungary",
           "orientation": "v",
           "showlegend": true,
           "type": "scatter",
           "x": [
            114462900000.00002
           ],
           "xaxis": "x",
           "y": [
            1280382187
           ],
           "yaxis": "y"
          },
          {
           "hovertemplate": "<b>%{hovertext}</b><br><br>Country=Ireland<br>Year=2016<br>GDP=%{marker.size}<br>RoadSpending=%{y}<extra></extra>",
           "hovertext": [
            "Ireland"
           ],
           "legendgroup": "Ireland",
           "marker": {
            "color": "#00cc96",
            "size": [
             272027610000
            ],
            "sizemode": "area",
            "sizeref": 1119177225,
            "symbol": "circle"
           },
           "mode": "markers",
           "name": "Ireland",
           "orientation": "v",
           "showlegend": true,
           "type": "scatter",
           "x": [
            272027610000
           ],
           "xaxis": "x",
           "y": [
            547000000
           ],
           "yaxis": "y"
          },
          {
           "hovertemplate": "<b>%{hovertext}</b><br><br>Country=Italy<br>Year=2016<br>GDP=%{marker.size}<br>RoadSpending=%{y}<extra></extra>",
           "hovertext": [
            "Italy"
           ],
           "legendgroup": "Italy",
           "marker": {
            "color": "#ab63fa",
            "size": [
             1679065100000
            ],
            "sizemode": "area",
            "sizeref": 1119177225,
            "symbol": "circle"
           },
           "mode": "markers",
           "name": "Italy",
           "orientation": "v",
           "showlegend": true,
           "type": "scatter",
           "x": [
            1679065100000
           ],
           "xaxis": "x",
           "y": [
            3409000000
           ],
           "yaxis": "y"
          },
          {
           "hovertemplate": "<b>%{hovertext}</b><br><br>Country=Latvia<br>Year=2016<br>GDP=%{marker.size}<br>RoadSpending=%{y}<extra></extra>",
           "hovertext": [
            "Latvia"
           ],
           "legendgroup": "Latvia",
           "marker": {
            "color": "#FFA15A",
            "size": [
             24987640000
            ],
            "sizemode": "area",
            "sizeref": 1119177225,
            "symbol": "circle"
           },
           "mode": "markers",
           "name": "Latvia",
           "orientation": "v",
           "showlegend": true,
           "type": "scatter",
           "x": [
            24987640000
           ],
           "xaxis": "x",
           "y": [
            226000000
           ],
           "yaxis": "y"
          },
          {
           "hovertemplate": "<b>%{hovertext}</b><br><br>Country=Lithuania<br>Year=2016<br>GDP=%{marker.size}<br>RoadSpending=%{y}<extra></extra>",
           "hovertext": [
            "Lithuania"
           ],
           "legendgroup": "Lithuania",
           "marker": {
            "color": "#19d3f3",
            "size": [
             38321620000
            ],
            "sizemode": "area",
            "sizeref": 1119177225,
            "symbol": "circle"
           },
           "mode": "markers",
           "name": "Lithuania",
           "orientation": "v",
           "showlegend": true,
           "type": "scatter",
           "x": [
            38321620000
           ],
           "xaxis": "x",
           "y": [
            345000000
           ],
           "yaxis": "y"
          },
          {
           "hovertemplate": "<b>%{hovertext}</b><br><br>Country=Luxembourg<br>Year=2016<br>GDP=%{marker.size}<br>RoadSpending=%{y}<extra></extra>",
           "hovertext": [
            "Luxembourg"
           ],
           "legendgroup": "Luxembourg",
           "marker": {
            "color": "#FF6692",
            "size": [
             55358000000
            ],
            "sizemode": "area",
            "sizeref": 1119177225,
            "symbol": "circle"
           },
           "mode": "markers",
           "name": "Luxembourg",
           "orientation": "v",
           "showlegend": true,
           "type": "scatter",
           "x": [
            55358000000
           ],
           "xaxis": "x",
           "y": [
            225577736
           ],
           "yaxis": "y"
          },
          {
           "hovertemplate": "<b>%{hovertext}</b><br><br>Country=Malta<br>Year=2016<br>GDP=%{marker.size}<br>RoadSpending=%{y}<extra></extra>",
           "hovertext": [
            "Malta"
           ],
           "legendgroup": "Malta",
           "marker": {
            "color": "#B6E880",
            "size": [
             10699580000
            ],
            "sizemode": "area",
            "sizeref": 1119177225,
            "symbol": "circle"
           },
           "mode": "markers",
           "name": "Malta",
           "orientation": "v",
           "showlegend": true,
           "type": "scatter",
           "x": [
            10699580000
           ],
           "xaxis": "x",
           "y": [
            null
           ],
           "yaxis": "y"
          },
          {
           "hovertemplate": "<b>%{hovertext}</b><br><br>Country=Netherlands<br>Year=2016<br>GDP=%{marker.size}<br>RoadSpending=%{y}<extra></extra>",
           "hovertext": [
            "Netherlands"
           ],
           "legendgroup": "Netherlands",
           "marker": {
            "color": "#FF97FF",
            "size": [
             709280160000
            ],
            "sizemode": "area",
            "sizeref": 1119177225,
            "symbol": "circle"
           },
           "mode": "markers",
           "name": "Netherlands",
           "orientation": "v",
           "showlegend": true,
           "type": "scatter",
           "x": [
            709280160000
           ],
           "xaxis": "x",
           "y": [
            6294137373
           ],
           "yaxis": "y"
          },
          {
           "hovertemplate": "<b>%{hovertext}</b><br><br>Country=Poland<br>Year=2016<br>GDP=%{marker.size}<br>RoadSpending=%{y}<extra></extra>",
           "hovertext": [
            "Poland"
           ],
           "legendgroup": "Poland",
           "marker": {
            "color": "#FECB52",
            "size": [
             417988500000
            ],
            "sizemode": "area",
            "sizeref": 1119177225,
            "symbol": "circle"
           },
           "mode": "markers",
           "name": "Poland",
           "orientation": "v",
           "showlegend": true,
           "type": "scatter",
           "x": [
            417988500000
           ],
           "xaxis": "x",
           "y": [
            3209595188
           ],
           "yaxis": "y"
          },
          {
           "hovertemplate": "<b>%{hovertext}</b><br><br>Country=Portugal<br>Year=2016<br>GDP=%{marker.size}<br>RoadSpending=%{y}<extra></extra>",
           "hovertext": [
            "Portugal"
           ],
           "legendgroup": "Portugal",
           "marker": {
            "color": "#636efa",
            "size": [
             183668410000
            ],
            "sizemode": "area",
            "sizeref": 1119177225,
            "symbol": "circle"
           },
           "mode": "markers",
           "name": "Portugal",
           "orientation": "v",
           "showlegend": true,
           "type": "scatter",
           "x": [
            183668410000
           ],
           "xaxis": "x",
           "y": [
            null
           ],
           "yaxis": "y"
          },
          {
           "hovertemplate": "<b>%{hovertext}</b><br><br>Country=Romania<br>Year=2016<br>GDP=%{marker.size}<br>RoadSpending=%{y}<extra></extra>",
           "hovertext": [
            "Romania"
           ],
           "legendgroup": "Romania",
           "marker": {
            "color": "#EF553B",
            "size": [
             164947260000
            ],
            "sizemode": "area",
            "sizeref": 1119177225,
            "symbol": "circle"
           },
           "mode": "markers",
           "name": "Romania",
           "orientation": "v",
           "showlegend": true,
           "type": "scatter",
           "x": [
            164947260000
           ],
           "xaxis": "x",
           "y": [
            2133648521
           ],
           "yaxis": "y"
          },
          {
           "hovertemplate": "<b>%{hovertext}</b><br><br>Country=Slovak Republic<br>Year=2016<br>GDP=%{marker.size}<br>RoadSpending=%{y}<extra></extra>",
           "hovertext": [
            "Slovak Republic"
           ],
           "legendgroup": "Slovak Republic",
           "marker": {
            "color": "#00cc96",
            "size": [
             80035920000
            ],
            "sizemode": "area",
            "sizeref": 1119177225,
            "symbol": "circle"
           },
           "mode": "markers",
           "name": "Slovak Republic",
           "orientation": "v",
           "showlegend": true,
           "type": "scatter",
           "x": [
            80035920000
           ],
           "xaxis": "x",
           "y": [
            749613000
           ],
           "yaxis": "y"
          },
          {
           "hovertemplate": "<b>%{hovertext}</b><br><br>Country=Slovenia<br>Year=2016<br>GDP=%{marker.size}<br>RoadSpending=%{y}<extra></extra>",
           "hovertext": [
            "Slovenia"
           ],
           "legendgroup": "Slovenia",
           "marker": {
            "color": "#ab63fa",
            "size": [
             39408310000
            ],
            "sizemode": "area",
            "sizeref": 1119177225,
            "symbol": "circle"
           },
           "mode": "markers",
           "name": "Slovenia",
           "orientation": "v",
           "showlegend": true,
           "type": "scatter",
           "x": [
            39408310000
           ],
           "xaxis": "x",
           "y": [
            217000000
           ],
           "yaxis": "y"
          },
          {
           "hovertemplate": "<b>%{hovertext}</b><br><br>Country=Spain<br>Year=2016<br>GDP=%{marker.size}<br>RoadSpending=%{y}<extra></extra>",
           "hovertext": [
            "Spain"
           ],
           "legendgroup": "Spain",
           "marker": {
            "color": "#FFA15A",
            "size": [
             1105978970000
            ],
            "sizemode": "area",
            "sizeref": 1119177225,
            "symbol": "circle"
           },
           "mode": "markers",
           "name": "Spain",
           "orientation": "v",
           "showlegend": true,
           "type": "scatter",
           "x": [
            1105978970000
           ],
           "xaxis": "x",
           "y": [
            3690000000
           ],
           "yaxis": "y"
          },
          {
           "hovertemplate": "<b>%{hovertext}</b><br><br>Country=Sweden<br>Year=2016<br>GDP=%{marker.size}<br>RoadSpending=%{y}<extra></extra>",
           "hovertext": [
            "Sweden"
           ],
           "legendgroup": "Sweden",
           "marker": {
            "color": "#19d3f3",
            "size": [
             457654019999.99994
            ],
            "sizemode": "area",
            "sizeref": 1119177225,
            "symbol": "circle"
           },
           "mode": "markers",
           "name": "Sweden",
           "orientation": "v",
           "showlegend": true,
           "type": "scatter",
           "x": [
            457654019999.99994
           ],
           "xaxis": "x",
           "y": [
            2374415009
           ],
           "yaxis": "y"
          }
         ],
         "name": "2016"
        },
        {
         "data": [
          {
           "hovertemplate": "<b>%{hovertext}</b><br><br>Country=Austria<br>Year=2017<br>GDP=%{marker.size}<br>RoadSpending=%{y}<extra></extra>",
           "hovertext": [
            "Austria"
           ],
           "legendgroup": "Austria",
           "marker": {
            "color": "#636efa",
            "size": [
             371231460000
            ],
            "sizemode": "area",
            "sizeref": 1119177225,
            "symbol": "circle"
           },
           "mode": "markers",
           "name": "Austria",
           "orientation": "v",
           "showlegend": true,
           "type": "scatter",
           "x": [
            371231460000
           ],
           "xaxis": "x",
           "y": [
            null
           ],
           "yaxis": "y"
          },
          {
           "hovertemplate": "<b>%{hovertext}</b><br><br>Country=Belgium<br>Year=2017<br>GDP=%{marker.size}<br>RoadSpending=%{y}<extra></extra>",
           "hovertext": [
            "Belgium"
           ],
           "legendgroup": "Belgium",
           "marker": {
            "color": "#EF553B",
            "size": [
             447302430000
            ],
            "sizemode": "area",
            "sizeref": 1119177225,
            "symbol": "circle"
           },
           "mode": "markers",
           "name": "Belgium",
           "orientation": "v",
           "showlegend": true,
           "type": "scatter",
           "x": [
            447302430000
           ],
           "xaxis": "x",
           "y": [
            681000000
           ],
           "yaxis": "y"
          },
          {
           "hovertemplate": "<b>%{hovertext}</b><br><br>Country=Bulgaria<br>Year=2017<br>GDP=%{marker.size}<br>RoadSpending=%{y}<extra></extra>",
           "hovertext": [
            "Bulgaria"
           ],
           "legendgroup": "Bulgaria",
           "marker": {
            "color": "#00cc96",
            "size": [
             52766320000
            ],
            "sizemode": "area",
            "sizeref": 1119177225,
            "symbol": "circle"
           },
           "mode": "markers",
           "name": "Bulgaria",
           "orientation": "v",
           "showlegend": true,
           "type": "scatter",
           "x": [
            52766320000
           ],
           "xaxis": "x",
           "y": [
            882503323.4
           ],
           "yaxis": "y"
          },
          {
           "hovertemplate": "<b>%{hovertext}</b><br><br>Country=Croatia<br>Year=2017<br>GDP=%{marker.size}<br>RoadSpending=%{y}<extra></extra>",
           "hovertext": [
            "Croatia"
           ],
           "legendgroup": "Croatia",
           "marker": {
            "color": "#ab63fa",
            "size": [
             50108780000
            ],
            "sizemode": "area",
            "sizeref": 1119177225,
            "symbol": "circle"
           },
           "mode": "markers",
           "name": "Croatia",
           "orientation": "v",
           "showlegend": true,
           "type": "scatter",
           "x": [
            50108780000
           ],
           "xaxis": "x",
           "y": [
            281106908.2
           ],
           "yaxis": "y"
          },
          {
           "hovertemplate": "<b>%{hovertext}</b><br><br>Country=Czechia<br>Year=2017<br>GDP=%{marker.size}<br>RoadSpending=%{y}<extra></extra>",
           "hovertext": [
            "Czechia"
           ],
           "legendgroup": "Czechia",
           "marker": {
            "color": "#FFA15A",
            "size": [
             197191960000
            ],
            "sizemode": "area",
            "sizeref": 1119177225,
            "symbol": "circle"
           },
           "mode": "markers",
           "name": "Czechia",
           "orientation": "v",
           "showlegend": true,
           "type": "scatter",
           "x": [
            197191960000
           ],
           "xaxis": "x",
           "y": [
            1044764479
           ],
           "yaxis": "y"
          },
          {
           "hovertemplate": "<b>%{hovertext}</b><br><br>Country=Denmark<br>Year=2017<br>GDP=%{marker.size}<br>RoadSpending=%{y}<extra></extra>",
           "hovertext": [
            "Denmark"
           ],
           "legendgroup": "Denmark",
           "marker": {
            "color": "#19d3f3",
            "size": [
             295133790000
            ],
            "sizemode": "area",
            "sizeref": 1119177225,
            "symbol": "circle"
           },
           "mode": "markers",
           "name": "Denmark",
           "orientation": "v",
           "showlegend": true,
           "type": "scatter",
           "x": [
            295133790000
           ],
           "xaxis": "x",
           "y": [
            1083963935
           ],
           "yaxis": "y"
          },
          {
           "hovertemplate": "<b>%{hovertext}</b><br><br>Country=Estonia<br>Year=2017<br>GDP=%{marker.size}<br>RoadSpending=%{y}<extra></extra>",
           "hovertext": [
            "Estonia"
           ],
           "legendgroup": "Estonia",
           "marker": {
            "color": "#FF6692",
            "size": [
             24439400000
            ],
            "sizemode": "area",
            "sizeref": 1119177225,
            "symbol": "circle"
           },
           "mode": "markers",
           "name": "Estonia",
           "orientation": "v",
           "showlegend": true,
           "type": "scatter",
           "x": [
            24439400000
           ],
           "xaxis": "x",
           "y": [
            219000000
           ],
           "yaxis": "y"
          },
          {
           "hovertemplate": "<b>%{hovertext}</b><br><br>Country=Finland<br>Year=2017<br>GDP=%{marker.size}<br>RoadSpending=%{y}<extra></extra>",
           "hovertext": [
            "Finland"
           ],
           "legendgroup": "Finland",
           "marker": {
            "color": "#B6E880",
            "size": [
             225843730000
            ],
            "sizemode": "area",
            "sizeref": 1119177225,
            "symbol": "circle"
           },
           "mode": "markers",
           "name": "Finland",
           "orientation": "v",
           "showlegend": true,
           "type": "scatter",
           "x": [
            225843730000
           ],
           "xaxis": "x",
           "y": [
            1788000000
           ],
           "yaxis": "y"
          },
          {
           "hovertemplate": "<b>%{hovertext}</b><br><br>Country=France<br>Year=2017<br>GDP=%{marker.size}<br>RoadSpending=%{y}<extra></extra>",
           "hovertext": [
            "France"
           ],
           "legendgroup": "France",
           "marker": {
            "color": "#FF97FF",
            "size": [
             2303279950000
            ],
            "sizemode": "area",
            "sizeref": 1119177225,
            "symbol": "circle"
           },
           "mode": "markers",
           "name": "France",
           "orientation": "v",
           "showlegend": true,
           "type": "scatter",
           "x": [
            2303279950000
           ],
           "xaxis": "x",
           "y": [
            9883630000
           ],
           "yaxis": "y"
          },
          {
           "hovertemplate": "<b>%{hovertext}</b><br><br>Country=Germany<br>Year=2017<br>GDP=%{marker.size}<br>RoadSpending=%{y}<extra></extra>",
           "hovertext": [
            "Germany"
           ],
           "legendgroup": "Germany",
           "marker": {
            "color": "#FECB52",
            "size": [
             3347969960000
            ],
            "sizemode": "area",
            "sizeref": 1119177225,
            "symbol": "circle"
           },
           "mode": "markers",
           "name": "Germany",
           "orientation": "v",
           "showlegend": true,
           "type": "scatter",
           "x": [
            3347969960000
           ],
           "xaxis": "x",
           "y": [
            15810000000
           ],
           "yaxis": "y"
          },
          {
           "hovertemplate": "<b>%{hovertext}</b><br><br>Country=Greece<br>Year=2017<br>GDP=%{marker.size}<br>RoadSpending=%{y}<extra></extra>",
           "hovertext": [
            "Greece"
           ],
           "legendgroup": "Greece",
           "marker": {
            "color": "#636efa",
            "size": [
             177798860000
            ],
            "sizemode": "area",
            "sizeref": 1119177225,
            "symbol": "circle"
           },
           "mode": "markers",
           "name": "Greece",
           "orientation": "v",
           "showlegend": true,
           "type": "scatter",
           "x": [
            177798860000
           ],
           "xaxis": "x",
           "y": [
            2158003344
           ],
           "yaxis": "y"
          },
          {
           "hovertemplate": "<b>%{hovertext}</b><br><br>Country=Hungary<br>Year=2017<br>GDP=%{marker.size}<br>RoadSpending=%{y}<extra></extra>",
           "hovertext": [
            "Hungary"
           ],
           "legendgroup": "Hungary",
           "marker": {
            "color": "#EF553B",
            "size": [
             127369680000
            ],
            "sizemode": "area",
            "sizeref": 1119177225,
            "symbol": "circle"
           },
           "mode": "markers",
           "name": "Hungary",
           "orientation": "v",
           "showlegend": true,
           "type": "scatter",
           "x": [
            127369680000
           ],
           "xaxis": "x",
           "y": [
            1780313937
           ],
           "yaxis": "y"
          },
          {
           "hovertemplate": "<b>%{hovertext}</b><br><br>Country=Ireland<br>Year=2017<br>GDP=%{marker.size}<br>RoadSpending=%{y}<extra></extra>",
           "hovertext": [
            "Ireland"
           ],
           "legendgroup": "Ireland",
           "marker": {
            "color": "#00cc96",
            "size": [
             310085790000
            ],
            "sizemode": "area",
            "sizeref": 1119177225,
            "symbol": "circle"
           },
           "mode": "markers",
           "name": "Ireland",
           "orientation": "v",
           "showlegend": true,
           "type": "scatter",
           "x": [
            310085790000
           ],
           "xaxis": "x",
           "y": [
            693000000
           ],
           "yaxis": "y"
          },
          {
           "hovertemplate": "<b>%{hovertext}</b><br><br>Country=Italy<br>Year=2017<br>GDP=%{marker.size}<br>RoadSpending=%{y}<extra></extra>",
           "hovertext": [
            "Italy"
           ],
           "legendgroup": "Italy",
           "marker": {
            "color": "#ab63fa",
            "size": [
             1753324030000
            ],
            "sizemode": "area",
            "sizeref": 1119177225,
            "symbol": "circle"
           },
           "mode": "markers",
           "name": "Italy",
           "orientation": "v",
           "showlegend": true,
           "type": "scatter",
           "x": [
            1753324030000
           ],
           "xaxis": "x",
           "y": [
            6555000000
           ],
           "yaxis": "y"
          },
          {
           "hovertemplate": "<b>%{hovertext}</b><br><br>Country=Latvia<br>Year=2017<br>GDP=%{marker.size}<br>RoadSpending=%{y}<extra></extra>",
           "hovertext": [
            "Latvia"
           ],
           "legendgroup": "Latvia",
           "marker": {
            "color": "#FFA15A",
            "size": [
             27120970000
            ],
            "sizemode": "area",
            "sizeref": 1119177225,
            "symbol": "circle"
           },
           "mode": "markers",
           "name": "Latvia",
           "orientation": "v",
           "showlegend": true,
           "type": "scatter",
           "x": [
            27120970000
           ],
           "xaxis": "x",
           "y": [
            221400000
           ],
           "yaxis": "y"
          },
          {
           "hovertemplate": "<b>%{hovertext}</b><br><br>Country=Lithuania<br>Year=2017<br>GDP=%{marker.size}<br>RoadSpending=%{y}<extra></extra>",
           "hovertext": [
            "Lithuania"
           ],
           "legendgroup": "Lithuania",
           "marker": {
            "color": "#19d3f3",
            "size": [
             42458340000
            ],
            "sizemode": "area",
            "sizeref": 1119177225,
            "symbol": "circle"
           },
           "mode": "markers",
           "name": "Lithuania",
           "orientation": "v",
           "showlegend": true,
           "type": "scatter",
           "x": [
            42458340000
           ],
           "xaxis": "x",
           "y": [
            325000000
           ],
           "yaxis": "y"
          },
          {
           "hovertemplate": "<b>%{hovertext}</b><br><br>Country=Luxembourg<br>Year=2017<br>GDP=%{marker.size}<br>RoadSpending=%{y}<extra></extra>",
           "hovertext": [
            "Luxembourg"
           ],
           "legendgroup": "Luxembourg",
           "marker": {
            "color": "#FF6692",
            "size": [
             58463209999.99999
            ],
            "sizemode": "area",
            "sizeref": 1119177225,
            "symbol": "circle"
           },
           "mode": "markers",
           "name": "Luxembourg",
           "orientation": "v",
           "showlegend": true,
           "type": "scatter",
           "x": [
            58463209999.99999
           ],
           "xaxis": "x",
           "y": [
            188596003.5
           ],
           "yaxis": "y"
          },
          {
           "hovertemplate": "<b>%{hovertext}</b><br><br>Country=Malta<br>Year=2017<br>GDP=%{marker.size}<br>RoadSpending=%{y}<extra></extra>",
           "hovertext": [
            "Malta"
           ],
           "legendgroup": "Malta",
           "marker": {
            "color": "#B6E880",
            "size": [
             12598840000
            ],
            "sizemode": "area",
            "sizeref": 1119177225,
            "symbol": "circle"
           },
           "mode": "markers",
           "name": "Malta",
           "orientation": "v",
           "showlegend": true,
           "type": "scatter",
           "x": [
            12598840000
           ],
           "xaxis": "x",
           "y": [
            null
           ],
           "yaxis": "y"
          },
          {
           "hovertemplate": "<b>%{hovertext}</b><br><br>Country=Netherlands<br>Year=2017<br>GDP=%{marker.size}<br>RoadSpending=%{y}<extra></extra>",
           "hovertext": [
            "Netherlands"
           ],
           "legendgroup": "Netherlands",
           "marker": {
            "color": "#FF97FF",
            "size": [
             754661260000
            ],
            "sizemode": "area",
            "sizeref": 1119177225,
            "symbol": "circle"
           },
           "mode": "markers",
           "name": "Netherlands",
           "orientation": "v",
           "showlegend": true,
           "type": "scatter",
           "x": [
            754661260000
           ],
           "xaxis": "x",
           "y": [
            6511487813
           ],
           "yaxis": "y"
          },
          {
           "hovertemplate": "<b>%{hovertext}</b><br><br>Country=Poland<br>Year=2017<br>GDP=%{marker.size}<br>RoadSpending=%{y}<extra></extra>",
           "hovertext": [
            "Poland"
           ],
           "legendgroup": "Poland",
           "marker": {
            "color": "#FECB52",
            "size": [
             467054200000
            ],
            "sizemode": "area",
            "sizeref": 1119177225,
            "symbol": "circle"
           },
           "mode": "markers",
           "name": "Poland",
           "orientation": "v",
           "showlegend": true,
           "type": "scatter",
           "x": [
            467054200000
           ],
           "xaxis": "x",
           "y": [
            2668638220
           ],
           "yaxis": "y"
          },
          {
           "hovertemplate": "<b>%{hovertext}</b><br><br>Country=Portugal<br>Year=2017<br>GDP=%{marker.size}<br>RoadSpending=%{y}<extra></extra>",
           "hovertext": [
            "Portugal"
           ],
           "legendgroup": "Portugal",
           "marker": {
            "color": "#636efa",
            "size": [
             196939200000
            ],
            "sizemode": "area",
            "sizeref": 1119177225,
            "symbol": "circle"
           },
           "mode": "markers",
           "name": "Portugal",
           "orientation": "v",
           "showlegend": true,
           "type": "scatter",
           "x": [
            196939200000
           ],
           "xaxis": "x",
           "y": [
            null
           ],
           "yaxis": "y"
          },
          {
           "hovertemplate": "<b>%{hovertext}</b><br><br>Country=Romania<br>Year=2017<br>GDP=%{marker.size}<br>RoadSpending=%{y}<extra></extra>",
           "hovertext": [
            "Romania"
           ],
           "legendgroup": "Romania",
           "marker": {
            "color": "#EF553B",
            "size": [
             187370810000
            ],
            "sizemode": "area",
            "sizeref": 1119177225,
            "symbol": "circle"
           },
           "mode": "markers",
           "name": "Romania",
           "orientation": "v",
           "showlegend": true,
           "type": "scatter",
           "x": [
            187370810000
           ],
           "xaxis": "x",
           "y": [
            2181564246
           ],
           "yaxis": "y"
          },
          {
           "hovertemplate": "<b>%{hovertext}</b><br><br>Country=Slovak Republic<br>Year=2017<br>GDP=%{marker.size}<br>RoadSpending=%{y}<extra></extra>",
           "hovertext": [
            "Slovak Republic"
           ],
           "legendgroup": "Slovak Republic",
           "marker": {
            "color": "#00cc96",
            "size": [
             85098240000
            ],
            "sizemode": "area",
            "sizeref": 1119177225,
            "symbol": "circle"
           },
           "mode": "markers",
           "name": "Slovak Republic",
           "orientation": "v",
           "showlegend": true,
           "type": "scatter",
           "x": [
            85098240000
           ],
           "xaxis": "x",
           "y": [
            768840000
           ],
           "yaxis": "y"
          },
          {
           "hovertemplate": "<b>%{hovertext}</b><br><br>Country=Slovenia<br>Year=2017<br>GDP=%{marker.size}<br>RoadSpending=%{y}<extra></extra>",
           "hovertext": [
            "Slovenia"
           ],
           "legendgroup": "Slovenia",
           "marker": {
            "color": "#ab63fa",
            "size": [
             42841040000
            ],
            "sizemode": "area",
            "sizeref": 1119177225,
            "symbol": "circle"
           },
           "mode": "markers",
           "name": "Slovenia",
           "orientation": "v",
           "showlegend": true,
           "type": "scatter",
           "x": [
            42841040000
           ],
           "xaxis": "x",
           "y": [
            330000000
           ],
           "yaxis": "y"
          },
          {
           "hovertemplate": "<b>%{hovertext}</b><br><br>Country=Spain<br>Year=2017<br>GDP=%{marker.size}<br>RoadSpending=%{y}<extra></extra>",
           "hovertext": [
            "Spain"
           ],
           "legendgroup": "Spain",
           "marker": {
            "color": "#FFA15A",
            "size": [
             1175946320000
            ],
            "sizemode": "area",
            "sizeref": 1119177225,
            "symbol": "circle"
           },
           "mode": "markers",
           "name": "Spain",
           "orientation": "v",
           "showlegend": true,
           "type": "scatter",
           "x": [
            1175946320000
           ],
           "xaxis": "x",
           "y": [
            3518000000
           ],
           "yaxis": "y"
          },
          {
           "hovertemplate": "<b>%{hovertext}</b><br><br>Country=Sweden<br>Year=2017<br>GDP=%{marker.size}<br>RoadSpending=%{y}<extra></extra>",
           "hovertext": [
            "Sweden"
           ],
           "legendgroup": "Sweden",
           "marker": {
            "color": "#19d3f3",
            "size": [
             477114759999.99994
            ],
            "sizemode": "area",
            "sizeref": 1119177225,
            "symbol": "circle"
           },
           "mode": "markers",
           "name": "Sweden",
           "orientation": "v",
           "showlegend": true,
           "type": "scatter",
           "x": [
            477114759999.99994
           ],
           "xaxis": "x",
           "y": [
            2497001960
           ],
           "yaxis": "y"
          }
         ],
         "name": "2017"
        },
        {
         "data": [
          {
           "hovertemplate": "<b>%{hovertext}</b><br><br>Country=Austria<br>Year=2018<br>GDP=%{marker.size}<br>RoadSpending=%{y}<extra></extra>",
           "hovertext": [
            "Austria"
           ],
           "legendgroup": "Austria",
           "marker": {
            "color": "#636efa",
            "size": [
             405126220000
            ],
            "sizemode": "area",
            "sizeref": 1119177225,
            "symbol": "circle"
           },
           "mode": "markers",
           "name": "Austria",
           "orientation": "v",
           "showlegend": true,
           "type": "scatter",
           "x": [
            405126220000
           ],
           "xaxis": "x",
           "y": [
            null
           ],
           "yaxis": "y"
          },
          {
           "hovertemplate": "<b>%{hovertext}</b><br><br>Country=Belgium<br>Year=2018<br>GDP=%{marker.size}<br>RoadSpending=%{y}<extra></extra>",
           "hovertext": [
            "Belgium"
           ],
           "legendgroup": "Belgium",
           "marker": {
            "color": "#EF553B",
            "size": [
             483755940000.00006
            ],
            "sizemode": "area",
            "sizeref": 1119177225,
            "symbol": "circle"
           },
           "mode": "markers",
           "name": "Belgium",
           "orientation": "v",
           "showlegend": true,
           "type": "scatter",
           "x": [
            483755940000.00006
           ],
           "xaxis": "x",
           "y": [
            735000000
           ],
           "yaxis": "y"
          },
          {
           "hovertemplate": "<b>%{hovertext}</b><br><br>Country=Bulgaria<br>Year=2018<br>GDP=%{marker.size}<br>RoadSpending=%{y}<extra></extra>",
           "hovertext": [
            "Bulgaria"
           ],
           "legendgroup": "Bulgaria",
           "marker": {
            "color": "#00cc96",
            "size": [
             59094219999.99999
            ],
            "sizemode": "area",
            "sizeref": 1119177225,
            "symbol": "circle"
           },
           "mode": "markers",
           "name": "Bulgaria",
           "orientation": "v",
           "showlegend": true,
           "type": "scatter",
           "x": [
            59094219999.99999
           ],
           "xaxis": "x",
           "y": [
            528172614.8
           ],
           "yaxis": "y"
          },
          {
           "hovertemplate": "<b>%{hovertext}</b><br><br>Country=Croatia<br>Year=2018<br>GDP=%{marker.size}<br>RoadSpending=%{y}<extra></extra>",
           "hovertext": [
            "Croatia"
           ],
           "legendgroup": "Croatia",
           "marker": {
            "color": "#ab63fa",
            "size": [
             55078540000
            ],
            "sizemode": "area",
            "sizeref": 1119177225,
            "symbol": "circle"
           },
           "mode": "markers",
           "name": "Croatia",
           "orientation": "v",
           "showlegend": true,
           "type": "scatter",
           "x": [
            55078540000
           ],
           "xaxis": "x",
           "y": [
            349326431.7
           ],
           "yaxis": "y"
          },
          {
           "hovertemplate": "<b>%{hovertext}</b><br><br>Country=Czechia<br>Year=2018<br>GDP=%{marker.size}<br>RoadSpending=%{y}<extra></extra>",
           "hovertext": [
            "Czechia"
           ],
           "legendgroup": "Czechia",
           "marker": {
            "color": "#FFA15A",
            "size": [
             224272880000
            ],
            "sizemode": "area",
            "sizeref": 1119177225,
            "symbol": "circle"
           },
           "mode": "markers",
           "name": "Czechia",
           "orientation": "v",
           "showlegend": true,
           "type": "scatter",
           "x": [
            224272880000
           ],
           "xaxis": "x",
           "y": [
            1383064925
           ],
           "yaxis": "y"
          },
          {
           "hovertemplate": "<b>%{hovertext}</b><br><br>Country=Denmark<br>Year=2018<br>GDP=%{marker.size}<br>RoadSpending=%{y}<extra></extra>",
           "hovertext": [
            "Denmark"
           ],
           "legendgroup": "Denmark",
           "marker": {
            "color": "#19d3f3",
            "size": [
             316210770000
            ],
            "sizemode": "area",
            "sizeref": 1119177225,
            "symbol": "circle"
           },
           "mode": "markers",
           "name": "Denmark",
           "orientation": "v",
           "showlegend": true,
           "type": "scatter",
           "x": [
            316210770000
           ],
           "xaxis": "x",
           "y": [
            null
           ],
           "yaxis": "y"
          },
          {
           "hovertemplate": "<b>%{hovertext}</b><br><br>Country=Estonia<br>Year=2018<br>GDP=%{marker.size}<br>RoadSpending=%{y}<extra></extra>",
           "hovertext": [
            "Estonia"
           ],
           "legendgroup": "Estonia",
           "marker": {
            "color": "#FF6692",
            "size": [
             27800930000
            ],
            "sizemode": "area",
            "sizeref": 1119177225,
            "symbol": "circle"
           },
           "mode": "markers",
           "name": "Estonia",
           "orientation": "v",
           "showlegend": true,
           "type": "scatter",
           "x": [
            27800930000
           ],
           "xaxis": "x",
           "y": [
            220000000
           ],
           "yaxis": "y"
          },
          {
           "hovertemplate": "<b>%{hovertext}</b><br><br>Country=Finland<br>Year=2018<br>GDP=%{marker.size}<br>RoadSpending=%{y}<extra></extra>",
           "hovertext": [
            "Finland"
           ],
           "legendgroup": "Finland",
           "marker": {
            "color": "#B6E880",
            "size": [
             243853770000
            ],
            "sizemode": "area",
            "sizeref": 1119177225,
            "symbol": "circle"
           },
           "mode": "markers",
           "name": "Finland",
           "orientation": "v",
           "showlegend": true,
           "type": "scatter",
           "x": [
            243853770000
           ],
           "xaxis": "x",
           "y": [
            1727000000
           ],
           "yaxis": "y"
          },
          {
           "hovertemplate": "<b>%{hovertext}</b><br><br>Country=France<br>Year=2018<br>GDP=%{marker.size}<br>RoadSpending=%{y}<extra></extra>",
           "hovertext": [
            "France"
           ],
           "legendgroup": "France",
           "marker": {
            "color": "#FF97FF",
            "size": [
             2476725820000
            ],
            "sizemode": "area",
            "sizeref": 1119177225,
            "symbol": "circle"
           },
           "mode": "markers",
           "name": "France",
           "orientation": "v",
           "showlegend": true,
           "type": "scatter",
           "x": [
            2476725820000
           ],
           "xaxis": "x",
           "y": [
            10413000000
           ],
           "yaxis": "y"
          },
          {
           "hovertemplate": "<b>%{hovertext}</b><br><br>Country=Germany<br>Year=2018<br>GDP=%{marker.size}<br>RoadSpending=%{y}<extra></extra>",
           "hovertext": [
            "Germany"
           ],
           "legendgroup": "Germany",
           "marker": {
            "color": "#FECB52",
            "size": [
             3607922940000
            ],
            "sizemode": "area",
            "sizeref": 1119177225,
            "symbol": "circle"
           },
           "mode": "markers",
           "name": "Germany",
           "orientation": "v",
           "showlegend": true,
           "type": "scatter",
           "x": [
            3607922940000
           ],
           "xaxis": "x",
           "y": [
            15660000000
           ],
           "yaxis": "y"
          },
          {
           "hovertemplate": "<b>%{hovertext}</b><br><br>Country=Greece<br>Year=2018<br>GDP=%{marker.size}<br>RoadSpending=%{y}<extra></extra>",
           "hovertext": [
            "Greece"
           ],
           "legendgroup": "Greece",
           "marker": {
            "color": "#636efa",
            "size": [
             188809940000
            ],
            "sizemode": "area",
            "sizeref": 1119177225,
            "symbol": "circle"
           },
           "mode": "markers",
           "name": "Greece",
           "orientation": "v",
           "showlegend": true,
           "type": "scatter",
           "x": [
            188809940000
           ],
           "xaxis": "x",
           "y": [
            740871728.9
           ],
           "yaxis": "y"
          },
          {
           "hovertemplate": "<b>%{hovertext}</b><br><br>Country=Hungary<br>Year=2018<br>GDP=%{marker.size}<br>RoadSpending=%{y}<extra></extra>",
           "hovertext": [
            "Hungary"
           ],
           "legendgroup": "Hungary",
           "marker": {
            "color": "#EF553B",
            "size": [
             142903740000
            ],
            "sizemode": "area",
            "sizeref": 1119177225,
            "symbol": "circle"
           },
           "mode": "markers",
           "name": "Hungary",
           "orientation": "v",
           "showlegend": true,
           "type": "scatter",
           "x": [
            142903740000
           ],
           "xaxis": "x",
           "y": [
            2288587059
           ],
           "yaxis": "y"
          },
          {
           "hovertemplate": "<b>%{hovertext}</b><br><br>Country=Ireland<br>Year=2018<br>GDP=%{marker.size}<br>RoadSpending=%{y}<extra></extra>",
           "hovertext": [
            "Ireland"
           ],
           "legendgroup": "Ireland",
           "marker": {
            "color": "#00cc96",
            "size": [
             352120490000
            ],
            "sizemode": "area",
            "sizeref": 1119177225,
            "symbol": "circle"
           },
           "mode": "markers",
           "name": "Ireland",
           "orientation": "v",
           "showlegend": true,
           "type": "scatter",
           "x": [
            352120490000
           ],
           "xaxis": "x",
           "y": [
            837000000
           ],
           "yaxis": "y"
          },
          {
           "hovertemplate": "<b>%{hovertext}</b><br><br>Country=Italy<br>Year=2018<br>GDP=%{marker.size}<br>RoadSpending=%{y}<extra></extra>",
           "hovertext": [
            "Italy"
           ],
           "legendgroup": "Italy",
           "marker": {
            "color": "#ab63fa",
            "size": [
             1869344430000.0002
            ],
            "sizemode": "area",
            "sizeref": 1119177225,
            "symbol": "circle"
           },
           "mode": "markers",
           "name": "Italy",
           "orientation": "v",
           "showlegend": true,
           "type": "scatter",
           "x": [
            1869344430000.0002
           ],
           "xaxis": "x",
           "y": [
            4310000000
           ],
           "yaxis": "y"
          },
          {
           "hovertemplate": "<b>%{hovertext}</b><br><br>Country=Latvia<br>Year=2018<br>GDP=%{marker.size}<br>RoadSpending=%{y}<extra></extra>",
           "hovertext": [
            "Latvia"
           ],
           "legendgroup": "Latvia",
           "marker": {
            "color": "#FFA15A",
            "size": [
             30656050000
            ],
            "sizemode": "area",
            "sizeref": 1119177225,
            "symbol": "circle"
           },
           "mode": "markers",
           "name": "Latvia",
           "orientation": "v",
           "showlegend": true,
           "type": "scatter",
           "x": [
            30656050000
           ],
           "xaxis": "x",
           "y": [
            223000000
           ],
           "yaxis": "y"
          },
          {
           "hovertemplate": "<b>%{hovertext}</b><br><br>Country=Lithuania<br>Year=2018<br>GDP=%{marker.size}<br>RoadSpending=%{y}<extra></extra>",
           "hovertext": [
            "Lithuania"
           ],
           "legendgroup": "Lithuania",
           "marker": {
            "color": "#19d3f3",
            "size": [
             47861530000
            ],
            "sizemode": "area",
            "sizeref": 1119177225,
            "symbol": "circle"
           },
           "mode": "markers",
           "name": "Lithuania",
           "orientation": "v",
           "showlegend": true,
           "type": "scatter",
           "x": [
            47861530000
           ],
           "xaxis": "x",
           "y": [
            352000000
           ],
           "yaxis": "y"
          },
          {
           "hovertemplate": "<b>%{hovertext}</b><br><br>Country=Luxembourg<br>Year=2018<br>GDP=%{marker.size}<br>RoadSpending=%{y}<extra></extra>",
           "hovertext": [
            "Luxembourg"
           ],
           "legendgroup": "Luxembourg",
           "marker": {
            "color": "#FF6692",
            "size": [
             63219370000
            ],
            "sizemode": "area",
            "sizeref": 1119177225,
            "symbol": "circle"
           },
           "mode": "markers",
           "name": "Luxembourg",
           "orientation": "v",
           "showlegend": true,
           "type": "scatter",
           "x": [
            63219370000
           ],
           "xaxis": "x",
           "y": [
            260016912.7
           ],
           "yaxis": "y"
          },
          {
           "hovertemplate": "<b>%{hovertext}</b><br><br>Country=Malta<br>Year=2018<br>GDP=%{marker.size}<br>RoadSpending=%{y}<extra></extra>",
           "hovertext": [
            "Malta"
           ],
           "legendgroup": "Malta",
           "marker": {
            "color": "#B6E880",
            "size": [
             14383290000.000002
            ],
            "sizemode": "area",
            "sizeref": 1119177225,
            "symbol": "circle"
           },
           "mode": "markers",
           "name": "Malta",
           "orientation": "v",
           "showlegend": true,
           "type": "scatter",
           "x": [
            14383290000.000002
           ],
           "xaxis": "x",
           "y": [
            null
           ],
           "yaxis": "y"
          },
          {
           "hovertemplate": "<b>%{hovertext}</b><br><br>Country=Netherlands<br>Year=2018<br>GDP=%{marker.size}<br>RoadSpending=%{y}<extra></extra>",
           "hovertext": [
            "Netherlands"
           ],
           "legendgroup": "Netherlands",
           "marker": {
            "color": "#FF97FF",
            "size": [
             827837950000
            ],
            "sizemode": "area",
            "sizeref": 1119177225,
            "symbol": "circle"
           },
           "mode": "markers",
           "name": "Netherlands",
           "orientation": "v",
           "showlegend": true,
           "type": "scatter",
           "x": [
            827837950000
           ],
           "xaxis": "x",
           "y": [
            6434722608
           ],
           "yaxis": "y"
          },
          {
           "hovertemplate": "<b>%{hovertext}</b><br><br>Country=Poland<br>Year=2018<br>GDP=%{marker.size}<br>RoadSpending=%{y}<extra></extra>",
           "hovertext": [
            "Poland"
           ],
           "legendgroup": "Poland",
           "marker": {
            "color": "#FECB52",
            "size": [
             524035560000
            ],
            "sizemode": "area",
            "sizeref": 1119177225,
            "symbol": "circle"
           },
           "mode": "markers",
           "name": "Poland",
           "orientation": "v",
           "showlegend": true,
           "type": "scatter",
           "x": [
            524035560000
           ],
           "xaxis": "x",
           "y": [
            2415357766
           ],
           "yaxis": "y"
          },
          {
           "hovertemplate": "<b>%{hovertext}</b><br><br>Country=Portugal<br>Year=2018<br>GDP=%{marker.size}<br>RoadSpending=%{y}<extra></extra>",
           "hovertext": [
            "Portugal"
           ],
           "legendgroup": "Portugal",
           "marker": {
            "color": "#636efa",
            "size": [
             215756470000
            ],
            "sizemode": "area",
            "sizeref": 1119177225,
            "symbol": "circle"
           },
           "mode": "markers",
           "name": "Portugal",
           "orientation": "v",
           "showlegend": true,
           "type": "scatter",
           "x": [
            215756470000
           ],
           "xaxis": "x",
           "y": [
            null
           ],
           "yaxis": "y"
          },
          {
           "hovertemplate": "<b>%{hovertext}</b><br><br>Country=Romania<br>Year=2018<br>GDP=%{marker.size}<br>RoadSpending=%{y}<extra></extra>",
           "hovertext": [
            "Romania"
           ],
           "legendgroup": "Romania",
           "marker": {
            "color": "#EF553B",
            "size": [
             216713220000
            ],
            "sizemode": "area",
            "sizeref": 1119177225,
            "symbol": "circle"
           },
           "mode": "markers",
           "name": "Romania",
           "orientation": "v",
           "showlegend": true,
           "type": "scatter",
           "x": [
            216713220000
           ],
           "xaxis": "x",
           "y": [
            null
           ],
           "yaxis": "y"
          },
          {
           "hovertemplate": "<b>%{hovertext}</b><br><br>Country=Slovak Republic<br>Year=2018<br>GDP=%{marker.size}<br>RoadSpending=%{y}<extra></extra>",
           "hovertext": [
            "Slovak Republic"
           ],
           "legendgroup": "Slovak Republic",
           "marker": {
            "color": "#00cc96",
            "size": [
             94505540000
            ],
            "sizemode": "area",
            "sizeref": 1119177225,
            "symbol": "circle"
           },
           "mode": "markers",
           "name": "Slovak Republic",
           "orientation": "v",
           "showlegend": true,
           "type": "scatter",
           "x": [
            94505540000
           ],
           "xaxis": "x",
           "y": [
            null
           ],
           "yaxis": "y"
          },
          {
           "hovertemplate": "<b>%{hovertext}</b><br><br>Country=Slovenia<br>Year=2018<br>GDP=%{marker.size}<br>RoadSpending=%{y}<extra></extra>",
           "hovertext": [
            "Slovenia"
           ],
           "legendgroup": "Slovenia",
           "marker": {
            "color": "#ab63fa",
            "size": [
             47804570000
            ],
            "sizemode": "area",
            "sizeref": 1119177225,
            "symbol": "circle"
           },
           "mode": "markers",
           "name": "Slovenia",
           "orientation": "v",
           "showlegend": true,
           "type": "scatter",
           "x": [
            47804570000
           ],
           "xaxis": "x",
           "y": [
            306000000
           ],
           "yaxis": "y"
          },
          {
           "hovertemplate": "<b>%{hovertext}</b><br><br>Country=Spain<br>Year=2018<br>GDP=%{marker.size}<br>RoadSpending=%{y}<extra></extra>",
           "hovertext": [
            "Spain"
           ],
           "legendgroup": "Spain",
           "marker": {
            "color": "#FFA15A",
            "size": [
             1274739880000
            ],
            "sizemode": "area",
            "sizeref": 1119177225,
            "symbol": "circle"
           },
           "mode": "markers",
           "name": "Spain",
           "orientation": "v",
           "showlegend": true,
           "type": "scatter",
           "x": [
            1274739880000
           ],
           "xaxis": "x",
           "y": [
            3625000000
           ],
           "yaxis": "y"
          },
          {
           "hovertemplate": "<b>%{hovertext}</b><br><br>Country=Sweden<br>Year=2018<br>GDP=%{marker.size}<br>RoadSpending=%{y}<extra></extra>",
           "hovertext": [
            "Sweden"
           ],
           "legendgroup": "Sweden",
           "marker": {
            "color": "#19d3f3",
            "size": [
             490667680000
            ],
            "sizemode": "area",
            "sizeref": 1119177225,
            "symbol": "circle"
           },
           "mode": "markers",
           "name": "Sweden",
           "orientation": "v",
           "showlegend": true,
           "type": "scatter",
           "x": [
            490667680000
           ],
           "xaxis": "x",
           "y": [
            2503424108
           ],
           "yaxis": "y"
          }
         ],
         "name": "2018"
        },
        {
         "data": [
          {
           "hovertemplate": "<b>%{hovertext}</b><br><br>Country=Austria<br>Year=2019<br>GDP=%{marker.size}<br>RoadSpending=%{y}<extra></extra>",
           "hovertext": [
            "Austria"
           ],
           "legendgroup": "Austria",
           "marker": {
            "color": "#636efa",
            "size": [
             395734050000
            ],
            "sizemode": "area",
            "sizeref": 1119177225,
            "symbol": "circle"
           },
           "mode": "markers",
           "name": "Austria",
           "orientation": "v",
           "showlegend": true,
           "type": "scatter",
           "x": [
            395734050000
           ],
           "xaxis": "x",
           "y": [
            null
           ],
           "yaxis": "y"
          },
          {
           "hovertemplate": "<b>%{hovertext}</b><br><br>Country=Belgium<br>Year=2019<br>GDP=%{marker.size}<br>RoadSpending=%{y}<extra></extra>",
           "hovertext": [
            "Belgium"
           ],
           "legendgroup": "Belgium",
           "marker": {
            "color": "#EF553B",
            "size": [
             476973249999.99994
            ],
            "sizemode": "area",
            "sizeref": 1119177225,
            "symbol": "circle"
           },
           "mode": "markers",
           "name": "Belgium",
           "orientation": "v",
           "showlegend": true,
           "type": "scatter",
           "x": [
            476973249999.99994
           ],
           "xaxis": "x",
           "y": [
            1311000000
           ],
           "yaxis": "y"
          },
          {
           "hovertemplate": "<b>%{hovertext}</b><br><br>Country=Bulgaria<br>Year=2019<br>GDP=%{marker.size}<br>RoadSpending=%{y}<extra></extra>",
           "hovertext": [
            "Bulgaria"
           ],
           "legendgroup": "Bulgaria",
           "marker": {
            "color": "#00cc96",
            "size": [
             61311210000
            ],
            "sizemode": "area",
            "sizeref": 1119177225,
            "symbol": "circle"
           },
           "mode": "markers",
           "name": "Bulgaria",
           "orientation": "v",
           "showlegend": true,
           "type": "scatter",
           "x": [
            61311210000
           ],
           "xaxis": "x",
           "y": [
            151856018
           ],
           "yaxis": "y"
          },
          {
           "hovertemplate": "<b>%{hovertext}</b><br><br>Country=Croatia<br>Year=2019<br>GDP=%{marker.size}<br>RoadSpending=%{y}<extra></extra>",
           "hovertext": [
            "Croatia"
           ],
           "legendgroup": "Croatia",
           "marker": {
            "color": "#ab63fa",
            "size": [
             55065190000
            ],
            "sizemode": "area",
            "sizeref": 1119177225,
            "symbol": "circle"
           },
           "mode": "markers",
           "name": "Croatia",
           "orientation": "v",
           "showlegend": true,
           "type": "scatter",
           "x": [
            55065190000
           ],
           "xaxis": "x",
           "y": [
            536598314.4
           ],
           "yaxis": "y"
          },
          {
           "hovertemplate": "<b>%{hovertext}</b><br><br>Country=Czechia<br>Year=2019<br>GDP=%{marker.size}<br>RoadSpending=%{y}<extra></extra>",
           "hovertext": [
            "Czechia"
           ],
           "legendgroup": "Czechia",
           "marker": {
            "color": "#FFA15A",
            "size": [
             228546659999.99997
            ],
            "sizemode": "area",
            "sizeref": 1119177225,
            "symbol": "circle"
           },
           "mode": "markers",
           "name": "Czechia",
           "orientation": "v",
           "showlegend": true,
           "type": "scatter",
           "x": [
            228546659999.99997
           ],
           "xaxis": "x",
           "y": [
            1817146779
           ],
           "yaxis": "y"
          },
          {
           "hovertemplate": "<b>%{hovertext}</b><br><br>Country=Denmark<br>Year=2019<br>GDP=%{marker.size}<br>RoadSpending=%{y}<extra></extra>",
           "hovertext": [
            "Denmark"
           ],
           "legendgroup": "Denmark",
           "marker": {
            "color": "#19d3f3",
            "size": [
             307407780000
            ],
            "sizemode": "area",
            "sizeref": 1119177225,
            "symbol": "circle"
           },
           "mode": "markers",
           "name": "Denmark",
           "orientation": "v",
           "showlegend": true,
           "type": "scatter",
           "x": [
            307407780000
           ],
           "xaxis": "x",
           "y": [
            null
           ],
           "yaxis": "y"
          },
          {
           "hovertemplate": "<b>%{hovertext}</b><br><br>Country=Estonia<br>Year=2019<br>GDP=%{marker.size}<br>RoadSpending=%{y}<extra></extra>",
           "hovertext": [
            "Estonia"
           ],
           "legendgroup": "Estonia",
           "marker": {
            "color": "#FF6692",
            "size": [
             28370530000
            ],
            "sizemode": "area",
            "sizeref": 1119177225,
            "symbol": "circle"
           },
           "mode": "markers",
           "name": "Estonia",
           "orientation": "v",
           "showlegend": true,
           "type": "scatter",
           "x": [
            28370530000
           ],
           "xaxis": "x",
           "y": [
            281000000
           ],
           "yaxis": "y"
          },
          {
           "hovertemplate": "<b>%{hovertext}</b><br><br>Country=Finland<br>Year=2019<br>GDP=%{marker.size}<br>RoadSpending=%{y}<extra></extra>",
           "hovertext": [
            "Finland"
           ],
           "legendgroup": "Finland",
           "marker": {
            "color": "#B6E880",
            "size": [
             237669159999.99997
            ],
            "sizemode": "area",
            "sizeref": 1119177225,
            "symbol": "circle"
           },
           "mode": "markers",
           "name": "Finland",
           "orientation": "v",
           "showlegend": true,
           "type": "scatter",
           "x": [
            237669159999.99997
           ],
           "xaxis": "x",
           "y": [
            1662000000
           ],
           "yaxis": "y"
          },
          {
           "hovertemplate": "<b>%{hovertext}</b><br><br>Country=France<br>Year=2019<br>GDP=%{marker.size}<br>RoadSpending=%{y}<extra></extra>",
           "hovertext": [
            "France"
           ],
           "legendgroup": "France",
           "marker": {
            "color": "#FF97FF",
            "size": [
             2423553660000
            ],
            "sizemode": "area",
            "sizeref": 1119177225,
            "symbol": "circle"
           },
           "mode": "markers",
           "name": "France",
           "orientation": "v",
           "showlegend": true,
           "type": "scatter",
           "x": [
            2423553660000
           ],
           "xaxis": "x",
           "y": [
            10248211453
           ],
           "yaxis": "y"
          },
          {
           "hovertemplate": "<b>%{hovertext}</b><br><br>Country=Germany<br>Year=2019<br>GDP=%{marker.size}<br>RoadSpending=%{y}<extra></extra>",
           "hovertext": [
            "Germany"
           ],
           "legendgroup": "Germany",
           "marker": {
            "color": "#FECB52",
            "size": [
             3522304050000
            ],
            "sizemode": "area",
            "sizeref": 1119177225,
            "symbol": "circle"
           },
           "mode": "markers",
           "name": "Germany",
           "orientation": "v",
           "showlegend": true,
           "type": "scatter",
           "x": [
            3522304050000
           ],
           "xaxis": "x",
           "y": [
            15380000000
           ],
           "yaxis": "y"
          },
          {
           "hovertemplate": "<b>%{hovertext}</b><br><br>Country=Greece<br>Year=2019<br>GDP=%{marker.size}<br>RoadSpending=%{y}<extra></extra>",
           "hovertext": [
            "Greece"
           ],
           "legendgroup": "Greece",
           "marker": {
            "color": "#636efa",
            "size": [
             182694750000
            ],
            "sizemode": "area",
            "sizeref": 1119177225,
            "symbol": "circle"
           },
           "mode": "markers",
           "name": "Greece",
           "orientation": "v",
           "showlegend": true,
           "type": "scatter",
           "x": [
            182694750000
           ],
           "xaxis": "x",
           "y": [
            674082968.4
           ],
           "yaxis": "y"
          },
          {
           "hovertemplate": "<b>%{hovertext}</b><br><br>Country=Hungary<br>Year=2019<br>GDP=%{marker.size}<br>RoadSpending=%{y}<extra></extra>",
           "hovertext": [
            "Hungary"
           ],
           "legendgroup": "Hungary",
           "marker": {
            "color": "#EF553B",
            "size": [
             145969790000
            ],
            "sizemode": "area",
            "sizeref": 1119177225,
            "symbol": "circle"
           },
           "mode": "markers",
           "name": "Hungary",
           "orientation": "v",
           "showlegend": true,
           "type": "scatter",
           "x": [
            145969790000
           ],
           "xaxis": "x",
           "y": [
            1894279008
           ],
           "yaxis": "y"
          },
          {
           "hovertemplate": "<b>%{hovertext}</b><br><br>Country=Ireland<br>Year=2019<br>GDP=%{marker.size}<br>RoadSpending=%{y}<extra></extra>",
           "hovertext": [
            "Ireland"
           ],
           "legendgroup": "Ireland",
           "marker": {
            "color": "#00cc96",
            "size": [
             362381300000
            ],
            "sizemode": "area",
            "sizeref": 1119177225,
            "symbol": "circle"
           },
           "mode": "markers",
           "name": "Ireland",
           "orientation": "v",
           "showlegend": true,
           "type": "scatter",
           "x": [
            362381300000
           ],
           "xaxis": "x",
           "y": [
            525000000
           ],
           "yaxis": "y"
          },
          {
           "hovertemplate": "<b>%{hovertext}</b><br><br>Country=Italy<br>Year=2019<br>GDP=%{marker.size}<br>RoadSpending=%{y}<extra></extra>",
           "hovertext": [
            "Italy"
           ],
           "legendgroup": "Italy",
           "marker": {
            "color": "#ab63fa",
            "size": [
             1797648700000
            ],
            "sizemode": "area",
            "sizeref": 1119177225,
            "symbol": "circle"
           },
           "mode": "markers",
           "name": "Italy",
           "orientation": "v",
           "showlegend": true,
           "type": "scatter",
           "x": [
            1797648700000
           ],
           "xaxis": "x",
           "y": [
            6185000000
           ],
           "yaxis": "y"
          },
          {
           "hovertemplate": "<b>%{hovertext}</b><br><br>Country=Latvia<br>Year=2019<br>GDP=%{marker.size}<br>RoadSpending=%{y}<extra></extra>",
           "hovertext": [
            "Latvia"
           ],
           "legendgroup": "Latvia",
           "marker": {
            "color": "#FFA15A",
            "size": [
             30463810000
            ],
            "sizemode": "area",
            "sizeref": 1119177225,
            "symbol": "circle"
           },
           "mode": "markers",
           "name": "Latvia",
           "orientation": "v",
           "showlegend": true,
           "type": "scatter",
           "x": [
            30463810000
           ],
           "xaxis": "x",
           "y": [
            201000000
           ],
           "yaxis": "y"
          },
          {
           "hovertemplate": "<b>%{hovertext}</b><br><br>Country=Lithuania<br>Year=2019<br>GDP=%{marker.size}<br>RoadSpending=%{y}<extra></extra>",
           "hovertext": [
            "Lithuania"
           ],
           "legendgroup": "Lithuania",
           "marker": {
            "color": "#19d3f3",
            "size": [
             48799590000
            ],
            "sizemode": "area",
            "sizeref": 1119177225,
            "symbol": "circle"
           },
           "mode": "markers",
           "name": "Lithuania",
           "orientation": "v",
           "showlegend": true,
           "type": "scatter",
           "x": [
            48799590000
           ],
           "xaxis": "x",
           "y": [
            434000000
           ],
           "yaxis": "y"
          },
          {
           "hovertemplate": "<b>%{hovertext}</b><br><br>Country=Luxembourg<br>Year=2019<br>GDP=%{marker.size}<br>RoadSpending=%{y}<extra></extra>",
           "hovertext": [
            "Luxembourg"
           ],
           "legendgroup": "Luxembourg",
           "marker": {
            "color": "#FF6692",
            "size": [
             62209220000
            ],
            "sizemode": "area",
            "sizeref": 1119177225,
            "symbol": "circle"
           },
           "mode": "markers",
           "name": "Luxembourg",
           "orientation": "v",
           "showlegend": true,
           "type": "scatter",
           "x": [
            62209220000
           ],
           "xaxis": "x",
           "y": [
            null
           ],
           "yaxis": "y"
          },
          {
           "hovertemplate": "<b>%{hovertext}</b><br><br>Country=Malta<br>Year=2019<br>GDP=%{marker.size}<br>RoadSpending=%{y}<extra></extra>",
           "hovertext": [
            "Malta"
           ],
           "legendgroup": "Malta",
           "marker": {
            "color": "#B6E880",
            "size": [
             14542600000
            ],
            "sizemode": "area",
            "sizeref": 1119177225,
            "symbol": "circle"
           },
           "mode": "markers",
           "name": "Malta",
           "orientation": "v",
           "showlegend": true,
           "type": "scatter",
           "x": [
            14542600000
           ],
           "xaxis": "x",
           "y": [
            null
           ],
           "yaxis": "y"
          },
          {
           "hovertemplate": "<b>%{hovertext}</b><br><br>Country=Netherlands<br>Year=2019<br>GDP=%{marker.size}<br>RoadSpending=%{y}<extra></extra>",
           "hovertext": [
            "Netherlands"
           ],
           "legendgroup": "Netherlands",
           "marker": {
            "color": "#FF97FF",
            "size": [
             826815340000
            ],
            "sizemode": "area",
            "sizeref": 1119177225,
            "symbol": "circle"
           },
           "mode": "markers",
           "name": "Netherlands",
           "orientation": "v",
           "showlegend": true,
           "type": "scatter",
           "x": [
            826815340000
           ],
           "xaxis": "x",
           "y": [
            7082106251
           ],
           "yaxis": "y"
          },
          {
           "hovertemplate": "<b>%{hovertext}</b><br><br>Country=Poland<br>Year=2019<br>GDP=%{marker.size}<br>RoadSpending=%{y}<extra></extra>",
           "hovertext": [
            "Poland"
           ],
           "legendgroup": "Poland",
           "marker": {
            "color": "#FECB52",
            "size": [
             530411520000
            ],
            "sizemode": "area",
            "sizeref": 1119177225,
            "symbol": "circle"
           },
           "mode": "markers",
           "name": "Poland",
           "orientation": "v",
           "showlegend": true,
           "type": "scatter",
           "x": [
            530411520000
           ],
           "xaxis": "x",
           "y": [
            3169807187
           ],
           "yaxis": "y"
          },
          {
           "hovertemplate": "<b>%{hovertext}</b><br><br>Country=Portugal<br>Year=2019<br>GDP=%{marker.size}<br>RoadSpending=%{y}<extra></extra>",
           "hovertext": [
            "Portugal"
           ],
           "legendgroup": "Portugal",
           "marker": {
            "color": "#636efa",
            "size": [
             213611570000
            ],
            "sizemode": "area",
            "sizeref": 1119177225,
            "symbol": "circle"
           },
           "mode": "markers",
           "name": "Portugal",
           "orientation": "v",
           "showlegend": true,
           "type": "scatter",
           "x": [
            213611570000
           ],
           "xaxis": "x",
           "y": [
            null
           ],
           "yaxis": "y"
          },
          {
           "hovertemplate": "<b>%{hovertext}</b><br><br>Country=Romania<br>Year=2019<br>GDP=%{marker.size}<br>RoadSpending=%{y}<extra></extra>",
           "hovertext": [
            "Romania"
           ],
           "legendgroup": "Romania",
           "marker": {
            "color": "#EF553B",
            "size": [
             223383770000
            ],
            "sizemode": "area",
            "sizeref": 1119177225,
            "symbol": "circle"
           },
           "mode": "markers",
           "name": "Romania",
           "orientation": "v",
           "showlegend": true,
           "type": "scatter",
           "x": [
            223383770000
           ],
           "xaxis": "x",
           "y": [
            null
           ],
           "yaxis": "y"
          },
          {
           "hovertemplate": "<b>%{hovertext}</b><br><br>Country=Slovak Republic<br>Year=2019<br>GDP=%{marker.size}<br>RoadSpending=%{y}<extra></extra>",
           "hovertext": [
            "Slovak Republic"
           ],
           "legendgroup": "Slovak Republic",
           "marker": {
            "color": "#00cc96",
            "size": [
             94093470000
            ],
            "sizemode": "area",
            "sizeref": 1119177225,
            "symbol": "circle"
           },
           "mode": "markers",
           "name": "Slovak Republic",
           "orientation": "v",
           "showlegend": true,
           "type": "scatter",
           "x": [
            94093470000
           ],
           "xaxis": "x",
           "y": [
            1113000000
           ],
           "yaxis": "y"
          },
          {
           "hovertemplate": "<b>%{hovertext}</b><br><br>Country=Slovenia<br>Year=2019<br>GDP=%{marker.size}<br>RoadSpending=%{y}<extra></extra>",
           "hovertext": [
            "Slovenia"
           ],
           "legendgroup": "Slovenia",
           "marker": {
            "color": "#ab63fa",
            "size": [
             47985240000
            ],
            "sizemode": "area",
            "sizeref": 1119177225,
            "symbol": "circle"
           },
           "mode": "markers",
           "name": "Slovenia",
           "orientation": "v",
           "showlegend": true,
           "type": "scatter",
           "x": [
            47985240000
           ],
           "xaxis": "x",
           "y": [
            298000000
           ],
           "yaxis": "y"
          },
          {
           "hovertemplate": "<b>%{hovertext}</b><br><br>Country=Spain<br>Year=2019<br>GDP=%{marker.size}<br>RoadSpending=%{y}<extra></extra>",
           "hovertext": [
            "Spain"
           ],
           "legendgroup": "Spain",
           "marker": {
            "color": "#FFA15A",
            "size": [
             1249249390000
            ],
            "sizemode": "area",
            "sizeref": 1119177225,
            "symbol": "circle"
           },
           "mode": "markers",
           "name": "Spain",
           "orientation": "v",
           "showlegend": true,
           "type": "scatter",
           "x": [
            1249249390000
           ],
           "xaxis": "x",
           "y": [
            3812000000
           ],
           "yaxis": "y"
          },
          {
           "hovertemplate": "<b>%{hovertext}</b><br><br>Country=Sweden<br>Year=2019<br>GDP=%{marker.size}<br>RoadSpending=%{y}<extra></extra>",
           "hovertext": [
            "Sweden"
           ],
           "legendgroup": "Sweden",
           "marker": {
            "color": "#19d3f3",
            "size": [
             473630410000
            ],
            "sizemode": "area",
            "sizeref": 1119177225,
            "symbol": "circle"
           },
           "mode": "markers",
           "name": "Sweden",
           "orientation": "v",
           "showlegend": true,
           "type": "scatter",
           "x": [
            473630410000
           ],
           "xaxis": "x",
           "y": [
            2910555161
           ],
           "yaxis": "y"
          }
         ],
         "name": "2019"
        },
        {
         "data": [
          {
           "hovertemplate": "<b>%{hovertext}</b><br><br>Country=Austria<br>Year=2020<br>GDP=%{marker.size}<br>RoadSpending=%{y}<extra></extra>",
           "hovertext": [
            "Austria"
           ],
           "legendgroup": "Austria",
           "marker": {
            "color": "#636efa",
            "size": [
             386883890000
            ],
            "sizemode": "area",
            "sizeref": 1119177225,
            "symbol": "circle"
           },
           "mode": "markers",
           "name": "Austria",
           "orientation": "v",
           "showlegend": true,
           "type": "scatter",
           "x": [
            386883890000
           ],
           "xaxis": "x",
           "y": [
            null
           ],
           "yaxis": "y"
          },
          {
           "hovertemplate": "<b>%{hovertext}</b><br><br>Country=Belgium<br>Year=2020<br>GDP=%{marker.size}<br>RoadSpending=%{y}<extra></extra>",
           "hovertext": [
            "Belgium"
           ],
           "legendgroup": "Belgium",
           "marker": {
            "color": "#EF553B",
            "size": [
             467784000000
            ],
            "sizemode": "area",
            "sizeref": 1119177225,
            "symbol": "circle"
           },
           "mode": "markers",
           "name": "Belgium",
           "orientation": "v",
           "showlegend": true,
           "type": "scatter",
           "x": [
            467784000000
           ],
           "xaxis": "x",
           "y": [
            1001000000
           ],
           "yaxis": "y"
          },
          {
           "hovertemplate": "<b>%{hovertext}</b><br><br>Country=Bulgaria<br>Year=2020<br>GDP=%{marker.size}<br>RoadSpending=%{y}<extra></extra>",
           "hovertext": [
            "Bulgaria"
           ],
           "legendgroup": "Bulgaria",
           "marker": {
            "color": "#00cc96",
            "size": [
             62576790000
            ],
            "sizemode": "area",
            "sizeref": 1119177225,
            "symbol": "circle"
           },
           "mode": "markers",
           "name": "Bulgaria",
           "orientation": "v",
           "showlegend": true,
           "type": "scatter",
           "x": [
            62576790000
           ],
           "xaxis": "x",
           "y": [
            403926781.9
           ],
           "yaxis": "y"
          },
          {
           "hovertemplate": "<b>%{hovertext}</b><br><br>Country=Croatia<br>Year=2020<br>GDP=%{marker.size}<br>RoadSpending=%{y}<extra></extra>",
           "hovertext": [
            "Croatia"
           ],
           "legendgroup": "Croatia",
           "marker": {
            "color": "#ab63fa",
            "size": [
             51779310000
            ],
            "sizemode": "area",
            "sizeref": 1119177225,
            "symbol": "circle"
           },
           "mode": "markers",
           "name": "Croatia",
           "orientation": "v",
           "showlegend": true,
           "type": "scatter",
           "x": [
            51779310000
           ],
           "xaxis": "x",
           "y": [
            470900524.3
           ],
           "yaxis": "y"
          },
          {
           "hovertemplate": "<b>%{hovertext}</b><br><br>Country=Czechia<br>Year=2020<br>GDP=%{marker.size}<br>RoadSpending=%{y}<extra></extra>",
           "hovertext": [
            "Czechia"
           ],
           "legendgroup": "Czechia",
           "marker": {
            "color": "#FFA15A",
            "size": [
             223487900000
            ],
            "sizemode": "area",
            "sizeref": 1119177225,
            "symbol": "circle"
           },
           "mode": "markers",
           "name": "Czechia",
           "orientation": "v",
           "showlegend": true,
           "type": "scatter",
           "x": [
            223487900000
           ],
           "xaxis": "x",
           "y": [
            1943388083
           ],
           "yaxis": "y"
          },
          {
           "hovertemplate": "<b>%{hovertext}</b><br><br>Country=Denmark<br>Year=2020<br>GDP=%{marker.size}<br>RoadSpending=%{y}<extra></extra>",
           "hovertext": [
            "Denmark"
           ],
           "legendgroup": "Denmark",
           "marker": {
            "color": "#19d3f3",
            "size": [
             316511590000
            ],
            "sizemode": "area",
            "sizeref": 1119177225,
            "symbol": "circle"
           },
           "mode": "markers",
           "name": "Denmark",
           "orientation": "v",
           "showlegend": true,
           "type": "scatter",
           "x": [
            316511590000
           ],
           "xaxis": "x",
           "y": [
            null
           ],
           "yaxis": "y"
          },
          {
           "hovertemplate": "<b>%{hovertext}</b><br><br>Country=Estonia<br>Year=2020<br>GDP=%{marker.size}<br>RoadSpending=%{y}<extra></extra>",
           "hovertext": [
            "Estonia"
           ],
           "legendgroup": "Estonia",
           "marker": {
            "color": "#FF6692",
            "size": [
             28293990000
            ],
            "sizemode": "area",
            "sizeref": 1119177225,
            "symbol": "circle"
           },
           "mode": "markers",
           "name": "Estonia",
           "orientation": "v",
           "showlegend": true,
           "type": "scatter",
           "x": [
            28293990000
           ],
           "xaxis": "x",
           "y": [
            251000000
           ],
           "yaxis": "y"
          },
          {
           "hovertemplate": "<b>%{hovertext}</b><br><br>Country=Finland<br>Year=2020<br>GDP=%{marker.size}<br>RoadSpending=%{y}<extra></extra>",
           "hovertext": [
            "Finland"
           ],
           "legendgroup": "Finland",
           "marker": {
            "color": "#B6E880",
            "size": [
             240107760000
            ],
            "sizemode": "area",
            "sizeref": 1119177225,
            "symbol": "circle"
           },
           "mode": "markers",
           "name": "Finland",
           "orientation": "v",
           "showlegend": true,
           "type": "scatter",
           "x": [
            240107760000
           ],
           "xaxis": "x",
           "y": [
            1677000000
           ],
           "yaxis": "y"
          },
          {
           "hovertemplate": "<b>%{hovertext}</b><br><br>Country=France<br>Year=2020<br>GDP=%{marker.size}<br>RoadSpending=%{y}<extra></extra>",
           "hovertext": [
            "France"
           ],
           "legendgroup": "France",
           "marker": {
            "color": "#FF97FF",
            "size": [
             2354767340000
            ],
            "sizemode": "area",
            "sizeref": 1119177225,
            "symbol": "circle"
           },
           "mode": "markers",
           "name": "France",
           "orientation": "v",
           "showlegend": true,
           "type": "scatter",
           "x": [
            2354767340000
           ],
           "xaxis": "x",
           "y": [
            10612501458
           ],
           "yaxis": "y"
          },
          {
           "hovertemplate": "<b>%{hovertext}</b><br><br>Country=Germany<br>Year=2020<br>GDP=%{marker.size}<br>RoadSpending=%{y}<extra></extra>",
           "hovertext": [
            "Germany"
           ],
           "legendgroup": "Germany",
           "marker": {
            "color": "#FECB52",
            "size": [
             3503920210000
            ],
            "sizemode": "area",
            "sizeref": 1119177225,
            "symbol": "circle"
           },
           "mode": "markers",
           "name": "Germany",
           "orientation": "v",
           "showlegend": true,
           "type": "scatter",
           "x": [
            3503920210000
           ],
           "xaxis": "x",
           "y": [
            16560000000
           ],
           "yaxis": "y"
          },
          {
           "hovertemplate": "<b>%{hovertext}</b><br><br>Country=Greece<br>Year=2020<br>GDP=%{marker.size}<br>RoadSpending=%{y}<extra></extra>",
           "hovertext": [
            "Greece"
           ],
           "legendgroup": "Greece",
           "marker": {
            "color": "#636efa",
            "size": [
             167612810000
            ],
            "sizemode": "area",
            "sizeref": 1119177225,
            "symbol": "circle"
           },
           "mode": "markers",
           "name": "Greece",
           "orientation": "v",
           "showlegend": true,
           "type": "scatter",
           "x": [
            167612810000
           ],
           "xaxis": "x",
           "y": [
            889953033.2
           ],
           "yaxis": "y"
          },
          {
           "hovertemplate": "<b>%{hovertext}</b><br><br>Country=Hungary<br>Year=2020<br>GDP=%{marker.size}<br>RoadSpending=%{y}<extra></extra>",
           "hovertext": [
            "Hungary"
           ],
           "legendgroup": "Hungary",
           "marker": {
            "color": "#EF553B",
            "size": [
             139987210000
            ],
            "sizemode": "area",
            "sizeref": 1119177225,
            "symbol": "circle"
           },
           "mode": "markers",
           "name": "Hungary",
           "orientation": "v",
           "showlegend": true,
           "type": "scatter",
           "x": [
            139987210000
           ],
           "xaxis": "x",
           "y": [
            1555255218
           ],
           "yaxis": "y"
          },
          {
           "hovertemplate": "<b>%{hovertext}</b><br><br>Country=Ireland<br>Year=2020<br>GDP=%{marker.size}<br>RoadSpending=%{y}<extra></extra>",
           "hovertext": [
            "Ireland"
           ],
           "legendgroup": "Ireland",
           "marker": {
            "color": "#00cc96",
            "size": [
             388222450000
            ],
            "sizemode": "area",
            "sizeref": 1119177225,
            "symbol": "circle"
           },
           "mode": "markers",
           "name": "Ireland",
           "orientation": "v",
           "showlegend": true,
           "type": "scatter",
           "x": [
            388222450000
           ],
           "xaxis": "x",
           "y": [
            561000000
           ],
           "yaxis": "y"
          },
          {
           "hovertemplate": "<b>%{hovertext}</b><br><br>Country=Italy<br>Year=2020<br>GDP=%{marker.size}<br>RoadSpending=%{y}<extra></extra>",
           "hovertext": [
            "Italy"
           ],
           "legendgroup": "Italy",
           "marker": {
            "color": "#ab63fa",
            "size": [
             1696299060000
            ],
            "sizemode": "area",
            "sizeref": 1119177225,
            "symbol": "circle"
           },
           "mode": "markers",
           "name": "Italy",
           "orientation": "v",
           "showlegend": true,
           "type": "scatter",
           "x": [
            1696299060000
           ],
           "xaxis": "x",
           "y": [
            6384000000
           ],
           "yaxis": "y"
          },
          {
           "hovertemplate": "<b>%{hovertext}</b><br><br>Country=Latvia<br>Year=2020<br>GDP=%{marker.size}<br>RoadSpending=%{y}<extra></extra>",
           "hovertext": [
            "Latvia"
           ],
           "legendgroup": "Latvia",
           "marker": {
            "color": "#FFA15A",
            "size": [
             30583070000
            ],
            "sizemode": "area",
            "sizeref": 1119177225,
            "symbol": "circle"
           },
           "mode": "markers",
           "name": "Latvia",
           "orientation": "v",
           "showlegend": true,
           "type": "scatter",
           "x": [
            30583070000
           ],
           "xaxis": "x",
           "y": [
            196000000
           ],
           "yaxis": "y"
          },
          {
           "hovertemplate": "<b>%{hovertext}</b><br><br>Country=Lithuania<br>Year=2020<br>GDP=%{marker.size}<br>RoadSpending=%{y}<extra></extra>",
           "hovertext": [
            "Lithuania"
           ],
           "legendgroup": "Lithuania",
           "marker": {
            "color": "#19d3f3",
            "size": [
             50616970000
            ],
            "sizemode": "area",
            "sizeref": 1119177225,
            "symbol": "circle"
           },
           "mode": "markers",
           "name": "Lithuania",
           "orientation": "v",
           "showlegend": true,
           "type": "scatter",
           "x": [
            50616970000
           ],
           "xaxis": "x",
           "y": [
            343000000
           ],
           "yaxis": "y"
          },
          {
           "hovertemplate": "<b>%{hovertext}</b><br><br>Country=Luxembourg<br>Year=2020<br>GDP=%{marker.size}<br>RoadSpending=%{y}<extra></extra>",
           "hovertext": [
            "Luxembourg"
           ],
           "legendgroup": "Luxembourg",
           "marker": {
            "color": "#FF6692",
            "size": [
             65539600000
            ],
            "sizemode": "area",
            "sizeref": 1119177225,
            "symbol": "circle"
           },
           "mode": "markers",
           "name": "Luxembourg",
           "orientation": "v",
           "showlegend": true,
           "type": "scatter",
           "x": [
            65539600000
           ],
           "xaxis": "x",
           "y": [
            null
           ],
           "yaxis": "y"
          },
          {
           "hovertemplate": "<b>%{hovertext}</b><br><br>Country=Malta<br>Year=2020<br>GDP=%{marker.size}<br>RoadSpending=%{y}<extra></extra>",
           "hovertext": [
            "Malta"
           ],
           "legendgroup": "Malta",
           "marker": {
            "color": "#B6E880",
            "size": [
             14571970000.000002
            ],
            "sizemode": "area",
            "sizeref": 1119177225,
            "symbol": "circle"
           },
           "mode": "markers",
           "name": "Malta",
           "orientation": "v",
           "showlegend": true,
           "type": "scatter",
           "x": [
            14571970000.000002
           ],
           "xaxis": "x",
           "y": [
            null
           ],
           "yaxis": "y"
          },
          {
           "hovertemplate": "<b>%{hovertext}</b><br><br>Country=Netherlands<br>Year=2020<br>GDP=%{marker.size}<br>RoadSpending=%{y}<extra></extra>",
           "hovertext": [
            "Netherlands"
           ],
           "legendgroup": "Netherlands",
           "marker": {
            "color": "#FF97FF",
            "size": [
             829314460000
            ],
            "sizemode": "area",
            "sizeref": 1119177225,
            "symbol": "circle"
           },
           "mode": "markers",
           "name": "Netherlands",
           "orientation": "v",
           "showlegend": true,
           "type": "scatter",
           "x": [
            829314460000
           ],
           "xaxis": "x",
           "y": [
            7338624685
           ],
           "yaxis": "y"
          },
          {
           "hovertemplate": "<b>%{hovertext}</b><br><br>Country=Poland<br>Year=2020<br>GDP=%{marker.size}<br>RoadSpending=%{y}<extra></extra>",
           "hovertext": [
            "Poland"
           ],
           "legendgroup": "Poland",
           "marker": {
            "color": "#FECB52",
            "size": [
             533517620000
            ],
            "sizemode": "area",
            "sizeref": 1119177225,
            "symbol": "circle"
           },
           "mode": "markers",
           "name": "Poland",
           "orientation": "v",
           "showlegend": true,
           "type": "scatter",
           "x": [
            533517620000
           ],
           "xaxis": "x",
           "y": [
            3041946846
           ],
           "yaxis": "y"
          },
          {
           "hovertemplate": "<b>%{hovertext}</b><br><br>Country=Portugal<br>Year=2020<br>GDP=%{marker.size}<br>RoadSpending=%{y}<extra></extra>",
           "hovertext": [
            "Portugal"
           ],
           "legendgroup": "Portugal",
           "marker": {
            "color": "#636efa",
            "size": [
             203675610000
            ],
            "sizemode": "area",
            "sizeref": 1119177225,
            "symbol": "circle"
           },
           "mode": "markers",
           "name": "Portugal",
           "orientation": "v",
           "showlegend": true,
           "type": "scatter",
           "x": [
            203675610000
           ],
           "xaxis": "x",
           "y": [
            null
           ],
           "yaxis": "y"
          },
          {
           "hovertemplate": "<b>%{hovertext}</b><br><br>Country=Romania<br>Year=2020<br>GDP=%{marker.size}<br>RoadSpending=%{y}<extra></extra>",
           "hovertext": [
            "Romania"
           ],
           "legendgroup": "Romania",
           "marker": {
            "color": "#EF553B",
            "size": [
             224012110000
            ],
            "sizemode": "area",
            "sizeref": 1119177225,
            "symbol": "circle"
           },
           "mode": "markers",
           "name": "Romania",
           "orientation": "v",
           "showlegend": true,
           "type": "scatter",
           "x": [
            224012110000
           ],
           "xaxis": "x",
           "y": [
            null
           ],
           "yaxis": "y"
          },
          {
           "hovertemplate": "<b>%{hovertext}</b><br><br>Country=Slovak Republic<br>Year=2020<br>GDP=%{marker.size}<br>RoadSpending=%{y}<extra></extra>",
           "hovertext": [
            "Slovak Republic"
           ],
           "legendgroup": "Slovak Republic",
           "marker": {
            "color": "#00cc96",
            "size": [
             94920280000
            ],
            "sizemode": "area",
            "sizeref": 1119177225,
            "symbol": "circle"
           },
           "mode": "markers",
           "name": "Slovak Republic",
           "orientation": "v",
           "showlegend": true,
           "type": "scatter",
           "x": [
            94920280000
           ],
           "xaxis": "x",
           "y": [
            1148000000
           ],
           "yaxis": "y"
          },
          {
           "hovertemplate": "<b>%{hovertext}</b><br><br>Country=Slovenia<br>Year=2020<br>GDP=%{marker.size}<br>RoadSpending=%{y}<extra></extra>",
           "hovertext": [
            "Slovenia"
           ],
           "legendgroup": "Slovenia",
           "marker": {
            "color": "#ab63fa",
            "size": [
             47474380000
            ],
            "sizemode": "area",
            "sizeref": 1119177225,
            "symbol": "circle"
           },
           "mode": "markers",
           "name": "Slovenia",
           "orientation": "v",
           "showlegend": true,
           "type": "scatter",
           "x": [
            47474380000
           ],
           "xaxis": "x",
           "y": [
            422000000
           ],
           "yaxis": "y"
          },
          {
           "hovertemplate": "<b>%{hovertext}</b><br><br>Country=Spain<br>Year=2020<br>GDP=%{marker.size}<br>RoadSpending=%{y}<extra></extra>",
           "hovertext": [
            "Spain"
           ],
           "legendgroup": "Spain",
           "marker": {
            "color": "#FFA15A",
            "size": [
             1146988390000
            ],
            "sizemode": "area",
            "sizeref": 1119177225,
            "symbol": "circle"
           },
           "mode": "markers",
           "name": "Spain",
           "orientation": "v",
           "showlegend": true,
           "type": "scatter",
           "x": [
            1146988390000
           ],
           "xaxis": "x",
           "y": [
            5289000000
           ],
           "yaxis": "y"
          },
          {
           "hovertemplate": "<b>%{hovertext}</b><br><br>Country=Sweden<br>Year=2020<br>GDP=%{marker.size}<br>RoadSpending=%{y}<extra></extra>",
           "hovertext": [
            "Sweden"
           ],
           "legendgroup": "Sweden",
           "marker": {
            "color": "#19d3f3",
            "size": [
             485181720000
            ],
            "sizemode": "area",
            "sizeref": 1119177225,
            "symbol": "circle"
           },
           "mode": "markers",
           "name": "Sweden",
           "orientation": "v",
           "showlegend": true,
           "type": "scatter",
           "x": [
            485181720000
           ],
           "xaxis": "x",
           "y": [
            2895628282
           ],
           "yaxis": "y"
          }
         ],
         "name": "2020"
        },
        {
         "data": [
          {
           "hovertemplate": "<b>%{hovertext}</b><br><br>Country=Austria<br>Year=2021<br>GDP=%{marker.size}<br>RoadSpending=%{y}<extra></extra>",
           "hovertext": [
            "Austria"
           ],
           "legendgroup": "Austria",
           "marker": {
            "color": "#636efa",
            "size": [
             426856460000
            ],
            "sizemode": "area",
            "sizeref": 1119177225,
            "symbol": "circle"
           },
           "mode": "markers",
           "name": "Austria",
           "orientation": "v",
           "showlegend": true,
           "type": "scatter",
           "x": [
            426856460000
           ],
           "xaxis": "x",
           "y": [
            null
           ],
           "yaxis": "y"
          },
          {
           "hovertemplate": "<b>%{hovertext}</b><br><br>Country=Belgium<br>Year=2021<br>GDP=%{marker.size}<br>RoadSpending=%{y}<extra></extra>",
           "hovertext": [
            "Belgium"
           ],
           "legendgroup": "Belgium",
           "marker": {
            "color": "#EF553B",
            "size": [
             535161450000
            ],
            "sizemode": "area",
            "sizeref": 1119177225,
            "symbol": "circle"
           },
           "mode": "markers",
           "name": "Belgium",
           "orientation": "v",
           "showlegend": true,
           "type": "scatter",
           "x": [
            535161450000
           ],
           "xaxis": "x",
           "y": [
            810000000
           ],
           "yaxis": "y"
          },
          {
           "hovertemplate": "<b>%{hovertext}</b><br><br>Country=Bulgaria<br>Year=2021<br>GDP=%{marker.size}<br>RoadSpending=%{y}<extra></extra>",
           "hovertext": [
            "Bulgaria"
           ],
           "legendgroup": "Bulgaria",
           "marker": {
            "color": "#00cc96",
            "size": [
             74849000000
            ],
            "sizemode": "area",
            "sizeref": 1119177225,
            "symbol": "circle"
           },
           "mode": "markers",
           "name": "Bulgaria",
           "orientation": "v",
           "showlegend": true,
           "type": "scatter",
           "x": [
            74849000000
           ],
           "xaxis": "x",
           "y": [
            163104611.9
           ],
           "yaxis": "y"
          },
          {
           "hovertemplate": "<b>%{hovertext}</b><br><br>Country=Croatia<br>Year=2021<br>GDP=%{marker.size}<br>RoadSpending=%{y}<extra></extra>",
           "hovertext": [
            "Croatia"
           ],
           "legendgroup": "Croatia",
           "marker": {
            "color": "#ab63fa",
            "size": [
             61989390000
            ],
            "sizemode": "area",
            "sizeref": 1119177225,
            "symbol": "circle"
           },
           "mode": "markers",
           "name": "Croatia",
           "orientation": "v",
           "showlegend": true,
           "type": "scatter",
           "x": [
            61989390000
           ],
           "xaxis": "x",
           "y": [
            197358816.1
           ],
           "yaxis": "y"
          },
          {
           "hovertemplate": "<b>%{hovertext}</b><br><br>Country=Czechia<br>Year=2021<br>GDP=%{marker.size}<br>RoadSpending=%{y}<extra></extra>",
           "hovertext": [
            "Czechia"
           ],
           "legendgroup": "Czechia",
           "marker": {
            "color": "#FFA15A",
            "size": [
             258965970000
            ],
            "sizemode": "area",
            "sizeref": 1119177225,
            "symbol": "circle"
           },
           "mode": "markers",
           "name": "Czechia",
           "orientation": "v",
           "showlegend": true,
           "type": "scatter",
           "x": [
            258965970000
           ],
           "xaxis": "x",
           "y": [
            849231713.9
           ],
           "yaxis": "y"
          },
          {
           "hovertemplate": "<b>%{hovertext}</b><br><br>Country=Denmark<br>Year=2021<br>GDP=%{marker.size}<br>RoadSpending=%{y}<extra></extra>",
           "hovertext": [
            "Denmark"
           ],
           "legendgroup": "Denmark",
           "marker": {
            "color": "#19d3f3",
            "size": [
             363456420000
            ],
            "sizemode": "area",
            "sizeref": 1119177225,
            "symbol": "circle"
           },
           "mode": "markers",
           "name": "Denmark",
           "orientation": "v",
           "showlegend": true,
           "type": "scatter",
           "x": [
            363456420000
           ],
           "xaxis": "x",
           "y": [
            1099470814
           ],
           "yaxis": "y"
          },
          {
           "hovertemplate": "<b>%{hovertext}</b><br><br>Country=Estonia<br>Year=2021<br>GDP=%{marker.size}<br>RoadSpending=%{y}<extra></extra>",
           "hovertext": [
            "Estonia"
           ],
           "legendgroup": "Estonia",
           "marker": {
            "color": "#FF6692",
            "size": [
             33127580000
            ],
            "sizemode": "area",
            "sizeref": 1119177225,
            "symbol": "circle"
           },
           "mode": "markers",
           "name": "Estonia",
           "orientation": "v",
           "showlegend": true,
           "type": "scatter",
           "x": [
            33127580000
           ],
           "xaxis": "x",
           "y": [
            148600000
           ],
           "yaxis": "y"
          },
          {
           "hovertemplate": "<b>%{hovertext}</b><br><br>Country=Finland<br>Year=2021<br>GDP=%{marker.size}<br>RoadSpending=%{y}<extra></extra>",
           "hovertext": [
            "Finland"
           ],
           "legendgroup": "Finland",
           "marker": {
            "color": "#B6E880",
            "size": [
             262032910000
            ],
            "sizemode": "area",
            "sizeref": 1119177225,
            "symbol": "circle"
           },
           "mode": "markers",
           "name": "Finland",
           "orientation": "v",
           "showlegend": true,
           "type": "scatter",
           "x": [
            262032910000
           ],
           "xaxis": "x",
           "y": [
            1441000000
           ],
           "yaxis": "y"
          },
          {
           "hovertemplate": "<b>%{hovertext}</b><br><br>Country=France<br>Year=2021<br>GDP=%{marker.size}<br>RoadSpending=%{y}<extra></extra>",
           "hovertext": [
            "France"
           ],
           "legendgroup": "France",
           "marker": {
            "color": "#FF97FF",
            "size": [
             2641880450000
            ],
            "sizemode": "area",
            "sizeref": 1119177225,
            "symbol": "circle"
           },
           "mode": "markers",
           "name": "France",
           "orientation": "v",
           "showlegend": true,
           "type": "scatter",
           "x": [
            2641880450000
           ],
           "xaxis": "x",
           "y": [
            9216000000
           ],
           "yaxis": "y"
          },
          {
           "hovertemplate": "<b>%{hovertext}</b><br><br>Country=Germany<br>Year=2021<br>GDP=%{marker.size}<br>RoadSpending=%{y}<extra></extra>",
           "hovertext": [
            "Germany"
           ],
           "legendgroup": "Germany",
           "marker": {
            "color": "#FECB52",
            "size": [
             3872557320000
            ],
            "sizemode": "area",
            "sizeref": 1119177225,
            "symbol": "circle"
           },
           "mode": "markers",
           "name": "Germany",
           "orientation": "v",
           "showlegend": true,
           "type": "scatter",
           "x": [
            3872557320000
           ],
           "xaxis": "x",
           "y": [
            12100000000
           ],
           "yaxis": "y"
          },
          {
           "hovertemplate": "<b>%{hovertext}</b><br><br>Country=Greece<br>Year=2021<br>GDP=%{marker.size}<br>RoadSpending=%{y}<extra></extra>",
           "hovertext": [
            "Greece"
           ],
           "legendgroup": "Greece",
           "marker": {
            "color": "#636efa",
            "size": [
             191181790000
            ],
            "sizemode": "area",
            "sizeref": 1119177225,
            "symbol": "circle"
           },
           "mode": "markers",
           "name": "Greece",
           "orientation": "v",
           "showlegend": true,
           "type": "scatter",
           "x": [
            191181790000
           ],
           "xaxis": "x",
           "y": [
            2187037728
           ],
           "yaxis": "y"
          },
          {
           "hovertemplate": "<b>%{hovertext}</b><br><br>Country=Hungary<br>Year=2021<br>GDP=%{marker.size}<br>RoadSpending=%{y}<extra></extra>",
           "hovertext": [
            "Hungary"
           ],
           "legendgroup": "Hungary",
           "marker": {
            "color": "#EF553B",
            "size": [
             162077900000
            ],
            "sizemode": "area",
            "sizeref": 1119177225,
            "symbol": "circle"
           },
           "mode": "markers",
           "name": "Hungary",
           "orientation": "v",
           "showlegend": true,
           "type": "scatter",
           "x": [
            162077900000
           ],
           "xaxis": "x",
           "y": [
            802745135.8
           ],
           "yaxis": "y"
          },
          {
           "hovertemplate": "<b>%{hovertext}</b><br><br>Country=Ireland<br>Year=2021<br>GDP=%{marker.size}<br>RoadSpending=%{y}<extra></extra>",
           "hovertext": [
            "Ireland"
           ],
           "legendgroup": "Ireland",
           "marker": {
            "color": "#00cc96",
            "size": [
             473177399999.99994
            ],
            "sizemode": "area",
            "sizeref": 1119177225,
            "symbol": "circle"
           },
           "mode": "markers",
           "name": "Ireland",
           "orientation": "v",
           "showlegend": true,
           "type": "scatter",
           "x": [
            473177399999.99994
           ],
           "xaxis": "x",
           "y": [
            622000000
           ],
           "yaxis": "y"
          },
          {
           "hovertemplate": "<b>%{hovertext}</b><br><br>Country=Italy<br>Year=2021<br>GDP=%{marker.size}<br>RoadSpending=%{y}<extra></extra>",
           "hovertext": [
            "Italy"
           ],
           "legendgroup": "Italy",
           "marker": {
            "color": "#ab63fa",
            "size": [
             1940784730000.0002
            ],
            "sizemode": "area",
            "sizeref": 1119177225,
            "symbol": "circle"
           },
           "mode": "markers",
           "name": "Italy",
           "orientation": "v",
           "showlegend": true,
           "type": "scatter",
           "x": [
            1940784730000.0002
           ],
           "xaxis": "x",
           "y": [
            3755000000
           ],
           "yaxis": "y"
          },
          {
           "hovertemplate": "<b>%{hovertext}</b><br><br>Country=Latvia<br>Year=2021<br>GDP=%{marker.size}<br>RoadSpending=%{y}<extra></extra>",
           "hovertext": [
            "Latvia"
           ],
           "legendgroup": "Latvia",
           "marker": {
            "color": "#FFA15A",
            "size": [
             35127410000
            ],
            "sizemode": "area",
            "sizeref": 1119177225,
            "symbol": "circle"
           },
           "mode": "markers",
           "name": "Latvia",
           "orientation": "v",
           "showlegend": true,
           "type": "scatter",
           "x": [
            35127410000
           ],
           "xaxis": "x",
           "y": [
            190000000
           ],
           "yaxis": "y"
          },
          {
           "hovertemplate": "<b>%{hovertext}</b><br><br>Country=Lithuania<br>Year=2021<br>GDP=%{marker.size}<br>RoadSpending=%{y}<extra></extra>",
           "hovertext": [
            "Lithuania"
           ],
           "legendgroup": "Lithuania",
           "marker": {
            "color": "#19d3f3",
            "size": [
             59509849999.99999
            ],
            "sizemode": "area",
            "sizeref": 1119177225,
            "symbol": "circle"
           },
           "mode": "markers",
           "name": "Lithuania",
           "orientation": "v",
           "showlegend": true,
           "type": "scatter",
           "x": [
            59509849999.99999
           ],
           "xaxis": "x",
           "y": [
            357000000
           ],
           "yaxis": "y"
          },
          {
           "hovertemplate": "<b>%{hovertext}</b><br><br>Country=Luxembourg<br>Year=2021<br>GDP=%{marker.size}<br>RoadSpending=%{y}<extra></extra>",
           "hovertext": [
            "Luxembourg"
           ],
           "legendgroup": "Luxembourg",
           "marker": {
            "color": "#FF6692",
            "size": [
             76220490000
            ],
            "sizemode": "area",
            "sizeref": 1119177225,
            "symbol": "circle"
           },
           "mode": "markers",
           "name": "Luxembourg",
           "orientation": "v",
           "showlegend": true,
           "type": "scatter",
           "x": [
            76220490000
           ],
           "xaxis": "x",
           "y": [
            213537152.4
           ],
           "yaxis": "y"
          },
          {
           "hovertemplate": "<b>%{hovertext}</b><br><br>Country=Malta<br>Year=2021<br>GDP=%{marker.size}<br>RoadSpending=%{y}<extra></extra>",
           "hovertext": [
            "Malta"
           ],
           "legendgroup": "Malta",
           "marker": {
            "color": "#B6E880",
            "size": [
             17561480000
            ],
            "sizemode": "area",
            "sizeref": 1119177225,
            "symbol": "circle"
           },
           "mode": "markers",
           "name": "Malta",
           "orientation": "v",
           "showlegend": true,
           "type": "scatter",
           "x": [
            17561480000
           ],
           "xaxis": "x",
           "y": [
            null
           ],
           "yaxis": "y"
          },
          {
           "hovertemplate": "<b>%{hovertext}</b><br><br>Country=Netherlands<br>Year=2021<br>GDP=%{marker.size}<br>RoadSpending=%{y}<extra></extra>",
           "hovertext": [
            "Netherlands"
           ],
           "legendgroup": "Netherlands",
           "marker": {
            "color": "#FF97FF",
            "size": [
             939103970000
            ],
            "sizemode": "area",
            "sizeref": 1119177225,
            "symbol": "circle"
           },
           "mode": "markers",
           "name": "Netherlands",
           "orientation": "v",
           "showlegend": true,
           "type": "scatter",
           "x": [
            939103970000
           ],
           "xaxis": "x",
           "y": [
            4485420208
           ],
           "yaxis": "y"
          },
          {
           "hovertemplate": "<b>%{hovertext}</b><br><br>Country=Poland<br>Year=2021<br>GDP=%{marker.size}<br>RoadSpending=%{y}<extra></extra>",
           "hovertext": [
            "Poland"
           ],
           "legendgroup": "Poland",
           "marker": {
            "color": "#FECB52",
            "size": [
             606471810000
            ],
            "sizemode": "area",
            "sizeref": 1119177225,
            "symbol": "circle"
           },
           "mode": "markers",
           "name": "Poland",
           "orientation": "v",
           "showlegend": true,
           "type": "scatter",
           "x": [
            606471810000
           ],
           "xaxis": "x",
           "y": [
            3075442295
           ],
           "yaxis": "y"
          },
          {
           "hovertemplate": "<b>%{hovertext}</b><br><br>Country=Portugal<br>Year=2021<br>GDP=%{marker.size}<br>RoadSpending=%{y}<extra></extra>",
           "hovertext": [
            "Portugal"
           ],
           "legendgroup": "Portugal",
           "marker": {
            "color": "#636efa",
            "size": [
             227577450000
            ],
            "sizemode": "area",
            "sizeref": 1119177225,
            "symbol": "circle"
           },
           "mode": "markers",
           "name": "Portugal",
           "orientation": "v",
           "showlegend": true,
           "type": "scatter",
           "x": [
            227577450000
           ],
           "xaxis": "x",
           "y": [
            null
           ],
           "yaxis": "y"
          },
          {
           "hovertemplate": "<b>%{hovertext}</b><br><br>Country=Romania<br>Year=2021<br>GDP=%{marker.size}<br>RoadSpending=%{y}<extra></extra>",
           "hovertext": [
            "Romania"
           ],
           "legendgroup": "Romania",
           "marker": {
            "color": "#EF553B",
            "size": [
             254553350000
            ],
            "sizemode": "area",
            "sizeref": 1119177225,
            "symbol": "circle"
           },
           "mode": "markers",
           "name": "Romania",
           "orientation": "v",
           "showlegend": true,
           "type": "scatter",
           "x": [
            254553350000
           ],
           "xaxis": "x",
           "y": [
            2366794335
           ],
           "yaxis": "y"
          },
          {
           "hovertemplate": "<b>%{hovertext}</b><br><br>Country=Slovak Republic<br>Year=2021<br>GDP=%{marker.size}<br>RoadSpending=%{y}<extra></extra>",
           "hovertext": [
            "Slovak Republic"
           ],
           "legendgroup": "Slovak Republic",
           "marker": {
            "color": "#00cc96",
            "size": [
             105591380000
            ],
            "sizemode": "area",
            "sizeref": 1119177225,
            "symbol": "circle"
           },
           "mode": "markers",
           "name": "Slovak Republic",
           "orientation": "v",
           "showlegend": true,
           "type": "scatter",
           "x": [
            105591380000
           ],
           "xaxis": "x",
           "y": [
            751418000
           ],
           "yaxis": "y"
          },
          {
           "hovertemplate": "<b>%{hovertext}</b><br><br>Country=Slovenia<br>Year=2021<br>GDP=%{marker.size}<br>RoadSpending=%{y}<extra></extra>",
           "hovertext": [
            "Slovenia"
           ],
           "legendgroup": "Slovenia",
           "marker": {
            "color": "#ab63fa",
            "size": [
             54797300000
            ],
            "sizemode": "area",
            "sizeref": 1119177225,
            "symbol": "circle"
           },
           "mode": "markers",
           "name": "Slovenia",
           "orientation": "v",
           "showlegend": true,
           "type": "scatter",
           "x": [
            54797300000
           ],
           "xaxis": "x",
           "y": [
            149000000
           ],
           "yaxis": "y"
          },
          {
           "hovertemplate": "<b>%{hovertext}</b><br><br>Country=Spain<br>Year=2021<br>GDP=%{marker.size}<br>RoadSpending=%{y}<extra></extra>",
           "hovertext": [
            "Spain"
           ],
           "legendgroup": "Spain",
           "marker": {
            "color": "#FFA15A",
            "size": [
             1301372240000
            ],
            "sizemode": "area",
            "sizeref": 1119177225,
            "symbol": "circle"
           },
           "mode": "markers",
           "name": "Spain",
           "orientation": "v",
           "showlegend": true,
           "type": "scatter",
           "x": [
            1301372240000
           ],
           "xaxis": "x",
           "y": [
            3880000000
           ],
           "yaxis": "y"
          },
          {
           "hovertemplate": "<b>%{hovertext}</b><br><br>Country=Sweden<br>Year=2021<br>GDP=%{marker.size}<br>RoadSpending=%{y}<extra></extra>",
           "hovertext": [
            "Sweden"
           ],
           "legendgroup": "Sweden",
           "marker": {
            "color": "#19d3f3",
            "size": [
             567096430000
            ],
            "sizemode": "area",
            "sizeref": 1119177225,
            "symbol": "circle"
           },
           "mode": "markers",
           "name": "Sweden",
           "orientation": "v",
           "showlegend": true,
           "type": "scatter",
           "x": [
            567096430000
           ],
           "xaxis": "x",
           "y": [
            2086339294
           ],
           "yaxis": "y"
          }
         ],
         "name": "2021"
        },
        {
         "data": [
          {
           "hovertemplate": "<b>%{hovertext}</b><br><br>Country=Austria<br>Year=2022<br>GDP=%{marker.size}<br>RoadSpending=%{y}<extra></extra>",
           "hovertext": [
            "Austria"
           ],
           "legendgroup": "Austria",
           "marker": {
            "color": "#636efa",
            "size": [
             419522860000
            ],
            "sizemode": "area",
            "sizeref": 1119177225,
            "symbol": "circle"
           },
           "mode": "markers",
           "name": "Austria",
           "orientation": "v",
           "showlegend": true,
           "type": "scatter",
           "x": [
            419522860000
           ],
           "xaxis": "x",
           "y": [
            null
           ],
           "yaxis": "y"
          },
          {
           "hovertemplate": "<b>%{hovertext}</b><br><br>Country=Belgium<br>Year=2022<br>GDP=%{marker.size}<br>RoadSpending=%{y}<extra></extra>",
           "hovertext": [
            "Belgium"
           ],
           "legendgroup": "Belgium",
           "marker": {
            "color": "#EF553B",
            "size": [
             519824970000
            ],
            "sizemode": "area",
            "sizeref": 1119177225,
            "symbol": "circle"
           },
           "mode": "markers",
           "name": "Belgium",
           "orientation": "v",
           "showlegend": true,
           "type": "scatter",
           "x": [
            519824970000
           ],
           "xaxis": "x",
           "y": [
            607000000
           ],
           "yaxis": "y"
          },
          {
           "hovertemplate": "<b>%{hovertext}</b><br><br>Country=Bulgaria<br>Year=2022<br>GDP=%{marker.size}<br>RoadSpending=%{y}<extra></extra>",
           "hovertext": [
            "Bulgaria"
           ],
           "legendgroup": "Bulgaria",
           "marker": {
            "color": "#00cc96",
            "size": [
             80475580000
            ],
            "sizemode": "area",
            "sizeref": 1119177225,
            "symbol": "circle"
           },
           "mode": "markers",
           "name": "Bulgaria",
           "orientation": "v",
           "showlegend": true,
           "type": "scatter",
           "x": [
            80475580000
           ],
           "xaxis": "x",
           "y": [
            525104816.4
           ],
           "yaxis": "y"
          },
          {
           "hovertemplate": "<b>%{hovertext}</b><br><br>Country=Croatia<br>Year=2022<br>GDP=%{marker.size}<br>RoadSpending=%{y}<extra></extra>",
           "hovertext": [
            "Croatia"
           ],
           "legendgroup": "Croatia",
           "marker": {
            "color": "#ab63fa",
            "size": [
             64132510000
            ],
            "sizemode": "area",
            "sizeref": 1119177225,
            "symbol": "circle"
           },
           "mode": "markers",
           "name": "Croatia",
           "orientation": "v",
           "showlegend": true,
           "type": "scatter",
           "x": [
            64132510000
           ],
           "xaxis": "x",
           "y": [
            442232397.6
           ],
           "yaxis": "y"
          },
          {
           "hovertemplate": "<b>%{hovertext}</b><br><br>Country=Czechia<br>Year=2022<br>GDP=%{marker.size}<br>RoadSpending=%{y}<extra></extra>",
           "hovertext": [
            "Czechia"
           ],
           "legendgroup": "Czechia",
           "marker": {
            "color": "#FFA15A",
            "size": [
             268629590000
            ],
            "sizemode": "area",
            "sizeref": 1119177225,
            "symbol": "circle"
           },
           "mode": "markers",
           "name": "Czechia",
           "orientation": "v",
           "showlegend": true,
           "type": "scatter",
           "x": [
            268629590000
           ],
           "xaxis": "x",
           "y": [
            1640906428
           ],
           "yaxis": "y"
          },
          {
           "hovertemplate": "<b>%{hovertext}</b><br><br>Country=Denmark<br>Year=2022<br>GDP=%{marker.size}<br>RoadSpending=%{y}<extra></extra>",
           "hovertext": [
            "Denmark"
           ],
           "legendgroup": "Denmark",
           "marker": {
            "color": "#19d3f3",
            "size": [
             357731940000
            ],
            "sizemode": "area",
            "sizeref": 1119177225,
            "symbol": "circle"
           },
           "mode": "markers",
           "name": "Denmark",
           "orientation": "v",
           "showlegend": true,
           "type": "scatter",
           "x": [
            357731940000
           ],
           "xaxis": "x",
           "y": [
            null
           ],
           "yaxis": "y"
          },
          {
           "hovertemplate": "<b>%{hovertext}</b><br><br>Country=Estonia<br>Year=2022<br>GDP=%{marker.size}<br>RoadSpending=%{y}<extra></extra>",
           "hovertext": [
            "Estonia"
           ],
           "legendgroup": "Estonia",
           "marker": {
            "color": "#FF6692",
            "size": [
             34176890000
            ],
            "sizemode": "area",
            "sizeref": 1119177225,
            "symbol": "circle"
           },
           "mode": "markers",
           "name": "Estonia",
           "orientation": "v",
           "showlegend": true,
           "type": "scatter",
           "x": [
            34176890000
           ],
           "xaxis": "x",
           "y": [
            244000000
           ],
           "yaxis": "y"
          },
          {
           "hovertemplate": "<b>%{hovertext}</b><br><br>Country=Finland<br>Year=2022<br>GDP=%{marker.size}<br>RoadSpending=%{y}<extra></extra>",
           "hovertext": [
            "Finland"
           ],
           "legendgroup": "Finland",
           "marker": {
            "color": "#B6E880",
            "size": [
             249611180000
            ],
            "sizemode": "area",
            "sizeref": 1119177225,
            "symbol": "circle"
           },
           "mode": "markers",
           "name": "Finland",
           "orientation": "v",
           "showlegend": true,
           "type": "scatter",
           "x": [
            249611180000
           ],
           "xaxis": "x",
           "y": [
            1789000000
           ],
           "yaxis": "y"
          },
          {
           "hovertemplate": "<b>%{hovertext}</b><br><br>Country=France<br>Year=2022<br>GDP=%{marker.size}<br>RoadSpending=%{y}<extra></extra>",
           "hovertext": [
            "France"
           ],
           "legendgroup": "France",
           "marker": {
            "color": "#FF97FF",
            "size": [
             2490666780000
            ],
            "sizemode": "area",
            "sizeref": 1119177225,
            "symbol": "circle"
           },
           "mode": "markers",
           "name": "France",
           "orientation": "v",
           "showlegend": true,
           "type": "scatter",
           "x": [
            2490666780000
           ],
           "xaxis": "x",
           "y": [
            9630572000
           ],
           "yaxis": "y"
          },
          {
           "hovertemplate": "<b>%{hovertext}</b><br><br>Country=Germany<br>Year=2022<br>GDP=%{marker.size}<br>RoadSpending=%{y}<extra></extra>",
           "hovertext": [
            "Germany"
           ],
           "legendgroup": "Germany",
           "marker": {
            "color": "#FECB52",
            "size": [
             3708516080000.0005
            ],
            "sizemode": "area",
            "sizeref": 1119177225,
            "symbol": "circle"
           },
           "mode": "markers",
           "name": "Germany",
           "orientation": "v",
           "showlegend": true,
           "type": "scatter",
           "x": [
            3708516080000.0005
           ],
           "xaxis": "x",
           "y": [
            15920000000
           ],
           "yaxis": "y"
          },
          {
           "hovertemplate": "<b>%{hovertext}</b><br><br>Country=Greece<br>Year=2022<br>GDP=%{marker.size}<br>RoadSpending=%{y}<extra></extra>",
           "hovertext": [
            "Greece"
           ],
           "legendgroup": "Greece",
           "marker": {
            "color": "#636efa",
            "size": [
             193800170000
            ],
            "sizemode": "area",
            "sizeref": 1119177225,
            "symbol": "circle"
           },
           "mode": "markers",
           "name": "Greece",
           "orientation": "v",
           "showlegend": true,
           "type": "scatter",
           "x": [
            193800170000
           ],
           "xaxis": "x",
           "y": [
            735556078
           ],
           "yaxis": "y"
          },
          {
           "hovertemplate": "<b>%{hovertext}</b><br><br>Country=Hungary<br>Year=2022<br>GDP=%{marker.size}<br>RoadSpending=%{y}<extra></extra>",
           "hovertext": [
            "Hungary"
           ],
           "legendgroup": "Hungary",
           "marker": {
            "color": "#EF553B",
            "size": [
             158231320000
            ],
            "sizemode": "area",
            "sizeref": 1119177225,
            "symbol": "circle"
           },
           "mode": "markers",
           "name": "Hungary",
           "orientation": "v",
           "showlegend": true,
           "type": "scatter",
           "x": [
            158231320000
           ],
           "xaxis": "x",
           "y": [
            1820222428
           ],
           "yaxis": "y"
          },
          {
           "hovertemplate": "<b>%{hovertext}</b><br><br>Country=Ireland<br>Year=2022<br>GDP=%{marker.size}<br>RoadSpending=%{y}<extra></extra>",
           "hovertext": [
            "Ireland"
           ],
           "legendgroup": "Ireland",
           "marker": {
            "color": "#00cc96",
            "size": [
             488612670000.00006
            ],
            "sizemode": "area",
            "sizeref": 1119177225,
            "symbol": "circle"
           },
           "mode": "markers",
           "name": "Ireland",
           "orientation": "v",
           "showlegend": true,
           "type": "scatter",
           "x": [
            488612670000.00006
           ],
           "xaxis": "x",
           "y": [
            503000000
           ],
           "yaxis": "y"
          },
          {
           "hovertemplate": "<b>%{hovertext}</b><br><br>Country=Italy<br>Year=2022<br>GDP=%{marker.size}<br>RoadSpending=%{y}<extra></extra>",
           "hovertext": [
            "Italy"
           ],
           "legendgroup": "Italy",
           "marker": {
            "color": "#ab63fa",
            "size": [
             1873138500000
            ],
            "sizemode": "area",
            "sizeref": 1119177225,
            "symbol": "circle"
           },
           "mode": "markers",
           "name": "Italy",
           "orientation": "v",
           "showlegend": true,
           "type": "scatter",
           "x": [
            1873138500000
           ],
           "xaxis": "x",
           "y": [
            4393000000
           ],
           "yaxis": "y"
          },
          {
           "hovertemplate": "<b>%{hovertext}</b><br><br>Country=Latvia<br>Year=2022<br>GDP=%{marker.size}<br>RoadSpending=%{y}<extra></extra>",
           "hovertext": [
            "Latvia"
           ],
           "legendgroup": "Latvia",
           "marker": {
            "color": "#FFA15A",
            "size": [
             36004060000
            ],
            "sizemode": "area",
            "sizeref": 1119177225,
            "symbol": "circle"
           },
           "mode": "markers",
           "name": "Latvia",
           "orientation": "v",
           "showlegend": true,
           "type": "scatter",
           "x": [
            36004060000
           ],
           "xaxis": "x",
           "y": [
            198000000
           ],
           "yaxis": "y"
          },
          {
           "hovertemplate": "<b>%{hovertext}</b><br><br>Country=Lithuania<br>Year=2022<br>GDP=%{marker.size}<br>RoadSpending=%{y}<extra></extra>",
           "hovertext": [
            "Lithuania"
           ],
           "legendgroup": "Lithuania",
           "marker": {
            "color": "#19d3f3",
            "size": [
             63309260000
            ],
            "sizemode": "area",
            "sizeref": 1119177225,
            "symbol": "circle"
           },
           "mode": "markers",
           "name": "Lithuania",
           "orientation": "v",
           "showlegend": true,
           "type": "scatter",
           "x": [
            63309260000
           ],
           "xaxis": "x",
           "y": [
            466000000
           ],
           "yaxis": "y"
          },
          {
           "hovertemplate": "<b>%{hovertext}</b><br><br>Country=Luxembourg<br>Year=2022<br>GDP=%{marker.size}<br>RoadSpending=%{y}<extra></extra>",
           "hovertext": [
            "Luxembourg"
           ],
           "legendgroup": "Luxembourg",
           "marker": {
            "color": "#FF6692",
            "size": [
             72718340000
            ],
            "sizemode": "area",
            "sizeref": 1119177225,
            "symbol": "circle"
           },
           "mode": "markers",
           "name": "Luxembourg",
           "orientation": "v",
           "showlegend": true,
           "type": "scatter",
           "x": [
            72718340000
           ],
           "xaxis": "x",
           "y": [
            246225524.7
           ],
           "yaxis": "y"
          },
          {
           "hovertemplate": "<b>%{hovertext}</b><br><br>Country=Malta<br>Year=2022<br>GDP=%{marker.size}<br>RoadSpending=%{y}<extra></extra>",
           "hovertext": [
            "Malta"
           ],
           "legendgroup": "Malta",
           "marker": {
            "color": "#B6E880",
            "size": [
             17110250000
            ],
            "sizemode": "area",
            "sizeref": 1119177225,
            "symbol": "circle"
           },
           "mode": "markers",
           "name": "Malta",
           "orientation": "v",
           "showlegend": true,
           "type": "scatter",
           "x": [
            17110250000
           ],
           "xaxis": "x",
           "y": [
            null
           ],
           "yaxis": "y"
          },
          {
           "hovertemplate": "<b>%{hovertext}</b><br><br>Country=Netherlands<br>Year=2022<br>GDP=%{marker.size}<br>RoadSpending=%{y}<extra></extra>",
           "hovertext": [
            "Netherlands"
           ],
           "legendgroup": "Netherlands",
           "marker": {
            "color": "#FF97FF",
            "size": [
             932153960000
            ],
            "sizemode": "area",
            "sizeref": 1119177225,
            "symbol": "circle"
           },
           "mode": "markers",
           "name": "Netherlands",
           "orientation": "v",
           "showlegend": true,
           "type": "scatter",
           "x": [
            932153960000
           ],
           "xaxis": "x",
           "y": [
            6958158969
           ],
           "yaxis": "y"
          },
          {
           "hovertemplate": "<b>%{hovertext}</b><br><br>Country=Poland<br>Year=2022<br>GDP=%{marker.size}<br>RoadSpending=%{y}<extra></extra>",
           "hovertext": [
            "Poland"
           ],
           "legendgroup": "Poland",
           "marker": {
            "color": "#FECB52",
            "size": [
             614000320000
            ],
            "sizemode": "area",
            "sizeref": 1119177225,
            "symbol": "circle"
           },
           "mode": "markers",
           "name": "Poland",
           "orientation": "v",
           "showlegend": true,
           "type": "scatter",
           "x": [
            614000320000
           ],
           "xaxis": "x",
           "y": [
            3207598127
           ],
           "yaxis": "y"
          },
          {
           "hovertemplate": "<b>%{hovertext}</b><br><br>Country=Portugal<br>Year=2022<br>GDP=%{marker.size}<br>RoadSpending=%{y}<extra></extra>",
           "hovertext": [
            "Portugal"
           ],
           "legendgroup": "Portugal",
           "marker": {
            "color": "#636efa",
            "size": [
             227304220000
            ],
            "sizemode": "area",
            "sizeref": 1119177225,
            "symbol": "circle"
           },
           "mode": "markers",
           "name": "Portugal",
           "orientation": "v",
           "showlegend": true,
           "type": "scatter",
           "x": [
            227304220000
           ],
           "xaxis": "x",
           "y": [
            null
           ],
           "yaxis": "y"
          },
          {
           "hovertemplate": "<b>%{hovertext}</b><br><br>Country=Romania<br>Year=2022<br>GDP=%{marker.size}<br>RoadSpending=%{y}<extra></extra>",
           "hovertext": [
            "Romania"
           ],
           "legendgroup": "Romania",
           "marker": {
            "color": "#EF553B",
            "size": [
             266528300000
            ],
            "sizemode": "area",
            "sizeref": 1119177225,
            "symbol": "circle"
           },
           "mode": "markers",
           "name": "Romania",
           "orientation": "v",
           "showlegend": true,
           "type": "scatter",
           "x": [
            266528300000
           ],
           "xaxis": "x",
           "y": [
            null
           ],
           "yaxis": "y"
          },
          {
           "hovertemplate": "<b>%{hovertext}</b><br><br>Country=Slovak Republic<br>Year=2022<br>GDP=%{marker.size}<br>RoadSpending=%{y}<extra></extra>",
           "hovertext": [
            "Slovak Republic"
           ],
           "legendgroup": "Slovak Republic",
           "marker": {
            "color": "#00cc96",
            "size": [
             102951640000
            ],
            "sizemode": "area",
            "sizeref": 1119177225,
            "symbol": "circle"
           },
           "mode": "markers",
           "name": "Slovak Republic",
           "orientation": "v",
           "showlegend": true,
           "type": "scatter",
           "x": [
            102951640000
           ],
           "xaxis": "x",
           "y": [
            752200000
           ],
           "yaxis": "y"
          },
          {
           "hovertemplate": "<b>%{hovertext}</b><br><br>Country=Slovenia<br>Year=2022<br>GDP=%{marker.size}<br>RoadSpending=%{y}<extra></extra>",
           "hovertext": [
            "Slovenia"
           ],
           "legendgroup": "Slovenia",
           "marker": {
            "color": "#ab63fa",
            "size": [
             53377750000
            ],
            "sizemode": "area",
            "sizeref": 1119177225,
            "symbol": "circle"
           },
           "mode": "markers",
           "name": "Slovenia",
           "orientation": "v",
           "showlegend": true,
           "type": "scatter",
           "x": [
            53377750000
           ],
           "xaxis": "x",
           "y": [
            235000000
           ],
           "yaxis": "y"
          },
          {
           "hovertemplate": "<b>%{hovertext}</b><br><br>Country=Spain<br>Year=2022<br>GDP=%{marker.size}<br>RoadSpending=%{y}<extra></extra>",
           "hovertext": [
            "Spain"
           ],
           "legendgroup": "Spain",
           "marker": {
            "color": "#FFA15A",
            "size": [
             1288396040000
            ],
            "sizemode": "area",
            "sizeref": 1119177225,
            "symbol": "circle"
           },
           "mode": "markers",
           "name": "Spain",
           "orientation": "v",
           "showlegend": true,
           "type": "scatter",
           "x": [
            1288396040000
           ],
           "xaxis": "x",
           "y": [
            3660000000
           ],
           "yaxis": "y"
          },
          {
           "hovertemplate": "<b>%{hovertext}</b><br><br>Country=Sweden<br>Year=2022<br>GDP=%{marker.size}<br>RoadSpending=%{y}<extra></extra>",
           "hovertext": [
            "Sweden"
           ],
           "legendgroup": "Sweden",
           "marker": {
            "color": "#19d3f3",
            "size": [
             516107440000
            ],
            "sizemode": "area",
            "sizeref": 1119177225,
            "symbol": "circle"
           },
           "mode": "markers",
           "name": "Sweden",
           "orientation": "v",
           "showlegend": true,
           "type": "scatter",
           "x": [
            516107440000
           ],
           "xaxis": "x",
           "y": [
            2941619550
           ],
           "yaxis": "y"
          }
         ],
         "name": "2022"
        },
        {
         "data": [
          {
           "hovertemplate": "<b>%{hovertext}</b><br><br>Country=Austria<br>Year=2023<br>GDP=%{marker.size}<br>RoadSpending=%{y}<extra></extra>",
           "hovertext": [
            "Austria"
           ],
           "legendgroup": "Austria",
           "marker": {
            "color": "#636efa",
            "size": [
             460719180000.00006
            ],
            "sizemode": "area",
            "sizeref": 1119177225,
            "symbol": "circle"
           },
           "mode": "markers",
           "name": "Austria",
           "orientation": "v",
           "showlegend": true,
           "type": "scatter",
           "x": [
            460719180000.00006
           ],
           "xaxis": "x",
           "y": [
            null
           ],
           "yaxis": "y"
          },
          {
           "hovertemplate": "<b>%{hovertext}</b><br><br>Country=Belgium<br>Year=2023<br>GDP=%{marker.size}<br>RoadSpending=%{y}<extra></extra>",
           "hovertext": [
            "Belgium"
           ],
           "legendgroup": "Belgium",
           "marker": {
            "color": "#EF553B",
            "size": [
             562835110000
            ],
            "sizemode": "area",
            "sizeref": 1119177225,
            "symbol": "circle"
           },
           "mode": "markers",
           "name": "Belgium",
           "orientation": "v",
           "showlegend": true,
           "type": "scatter",
           "x": [
            562835110000
           ],
           "xaxis": "x",
           "y": [
            587000000
           ],
           "yaxis": "y"
          },
          {
           "hovertemplate": "<b>%{hovertext}</b><br><br>Country=Bulgaria<br>Year=2023<br>GDP=%{marker.size}<br>RoadSpending=%{y}<extra></extra>",
           "hovertext": [
            "Bulgaria"
           ],
           "legendgroup": "Bulgaria",
           "marker": {
            "color": "#00cc96",
            "size": [
             90433790000
            ],
            "sizemode": "area",
            "sizeref": 1119177225,
            "symbol": "circle"
           },
           "mode": "markers",
           "name": "Bulgaria",
           "orientation": "v",
           "showlegend": true,
           "type": "scatter",
           "x": [
            90433790000
           ],
           "xaxis": "x",
           "y": [
            505164127.2
           ],
           "yaxis": "y"
          },
          {
           "hovertemplate": "<b>%{hovertext}</b><br><br>Country=Croatia<br>Year=2023<br>GDP=%{marker.size}<br>RoadSpending=%{y}<extra></extra>",
           "hovertext": [
            "Croatia"
           ],
           "legendgroup": "Croatia",
           "marker": {
            "color": "#ab63fa",
            "size": [
             73612790000
            ],
            "sizemode": "area",
            "sizeref": 1119177225,
            "symbol": "circle"
           },
           "mode": "markers",
           "name": "Croatia",
           "orientation": "v",
           "showlegend": true,
           "type": "scatter",
           "x": [
            73612790000
           ],
           "xaxis": "x",
           "y": [
            426703829.1
           ],
           "yaxis": "y"
          },
          {
           "hovertemplate": "<b>%{hovertext}</b><br><br>Country=Czechia<br>Year=2023<br>GDP=%{marker.size}<br>RoadSpending=%{y}<extra></extra>",
           "hovertext": [
            "Czechia"
           ],
           "legendgroup": "Czechia",
           "marker": {
            "color": "#FFA15A",
            "size": [
             305455120000
            ],
            "sizemode": "area",
            "sizeref": 1119177225,
            "symbol": "circle"
           },
           "mode": "markers",
           "name": "Czechia",
           "orientation": "v",
           "showlegend": true,
           "type": "scatter",
           "x": [
            305455120000
           ],
           "xaxis": "x",
           "y": [
            647511082.4
           ],
           "yaxis": "y"
          },
          {
           "hovertemplate": "<b>%{hovertext}</b><br><br>Country=Denmark<br>Year=2023<br>GDP=%{marker.size}<br>RoadSpending=%{y}<extra></extra>",
           "hovertext": [
            "Denmark"
           ],
           "legendgroup": "Denmark",
           "marker": {
            "color": "#19d3f3",
            "size": [
             362311880000
            ],
            "sizemode": "area",
            "sizeref": 1119177225,
            "symbol": "circle"
           },
           "mode": "markers",
           "name": "Denmark",
           "orientation": "v",
           "showlegend": true,
           "type": "scatter",
           "x": [
            362311880000
           ],
           "xaxis": "x",
           "y": [
            1046943510
           ],
           "yaxis": "y"
          },
          {
           "hovertemplate": "<b>%{hovertext}</b><br><br>Country=Estonia<br>Year=2023<br>GDP=%{marker.size}<br>RoadSpending=%{y}<extra></extra>",
           "hovertext": [
            "Estonia"
           ],
           "legendgroup": "Estonia",
           "marker": {
            "color": "#FF6692",
            "size": [
             36754330000
            ],
            "sizemode": "area",
            "sizeref": 1119177225,
            "symbol": "circle"
           },
           "mode": "markers",
           "name": "Estonia",
           "orientation": "v",
           "showlegend": true,
           "type": "scatter",
           "x": [
            36754330000
           ],
           "xaxis": "x",
           "y": [
            214530000
           ],
           "yaxis": "y"
          },
          {
           "hovertemplate": "<b>%{hovertext}</b><br><br>Country=Finland<br>Year=2023<br>GDP=%{marker.size}<br>RoadSpending=%{y}<extra></extra>",
           "hovertext": [
            "Finland"
           ],
           "legendgroup": "Finland",
           "marker": {
            "color": "#B6E880",
            "size": [
             263100020000
            ],
            "sizemode": "area",
            "sizeref": 1119177225,
            "symbol": "circle"
           },
           "mode": "markers",
           "name": "Finland",
           "orientation": "v",
           "showlegend": true,
           "type": "scatter",
           "x": [
            263100020000
           ],
           "xaxis": "x",
           "y": [
            1379000000
           ],
           "yaxis": "y"
          },
          {
           "hovertemplate": "<b>%{hovertext}</b><br><br>Country=France<br>Year=2023<br>GDP=%{marker.size}<br>RoadSpending=%{y}<extra></extra>",
           "hovertext": [
            "France"
           ],
           "legendgroup": "France",
           "marker": {
            "color": "#FF97FF",
            "size": [
             2716913680000
            ],
            "sizemode": "area",
            "sizeref": 1119177225,
            "symbol": "circle"
           },
           "mode": "markers",
           "name": "France",
           "orientation": "v",
           "showlegend": true,
           "type": "scatter",
           "x": [
            2716913680000
           ],
           "xaxis": "x",
           "y": [
            12866158552
           ],
           "yaxis": "y"
          },
          {
           "hovertemplate": "<b>%{hovertext}</b><br><br>Country=Germany<br>Year=2023<br>GDP=%{marker.size}<br>RoadSpending=%{y}<extra></extra>",
           "hovertext": [
            "Germany"
           ],
           "legendgroup": "Germany",
           "marker": {
            "color": "#FECB52",
            "size": [
             4029038010000
            ],
            "sizemode": "area",
            "sizeref": 1119177225,
            "symbol": "circle"
           },
           "mode": "markers",
           "name": "Germany",
           "orientation": "v",
           "showlegend": true,
           "type": "scatter",
           "x": [
            4029038010000
           ],
           "xaxis": "x",
           "y": [
            11400000000
           ],
           "yaxis": "y"
          },
          {
           "hovertemplate": "<b>%{hovertext}</b><br><br>Country=Greece<br>Year=2023<br>GDP=%{marker.size}<br>RoadSpending=%{y}<extra></extra>",
           "hovertext": [
            "Greece"
           ],
           "legendgroup": "Greece",
           "marker": {
            "color": "#636efa",
            "size": [
             212064750000
            ],
            "sizemode": "area",
            "sizeref": 1119177225,
            "symbol": "circle"
           },
           "mode": "markers",
           "name": "Greece",
           "orientation": "v",
           "showlegend": true,
           "type": "scatter",
           "x": [
            212064750000
           ],
           "xaxis": "x",
           "y": [
            2036552991
           ],
           "yaxis": "y"
          },
          {
           "hovertemplate": "<b>%{hovertext}</b><br><br>Country=Hungary<br>Year=2023<br>GDP=%{marker.size}<br>RoadSpending=%{y}<extra></extra>",
           "hovertext": [
            "Hungary"
           ],
           "legendgroup": "Hungary",
           "marker": {
            "color": "#EF553B",
            "size": [
             189092960000
            ],
            "sizemode": "area",
            "sizeref": 1119177225,
            "symbol": "circle"
           },
           "mode": "markers",
           "name": "Hungary",
           "orientation": "v",
           "showlegend": true,
           "type": "scatter",
           "x": [
            189092960000
           ],
           "xaxis": "x",
           "y": [
            400571427
           ],
           "yaxis": "y"
          },
          {
           "hovertemplate": "<b>%{hovertext}</b><br><br>Country=Ireland<br>Year=2023<br>GDP=%{marker.size}<br>RoadSpending=%{y}<extra></extra>",
           "hovertext": [
            "Ireland"
           ],
           "legendgroup": "Ireland",
           "marker": {
            "color": "#00cc96",
            "size": [
             490883060000
            ],
            "sizemode": "area",
            "sizeref": 1119177225,
            "symbol": "circle"
           },
           "mode": "markers",
           "name": "Ireland",
           "orientation": "v",
           "showlegend": true,
           "type": "scatter",
           "x": [
            490883060000
           ],
           "xaxis": "x",
           "y": [
            594000000
           ],
           "yaxis": "y"
          },
          {
           "hovertemplate": "<b>%{hovertext}</b><br><br>Country=Italy<br>Year=2023<br>GDP=%{marker.size}<br>RoadSpending=%{y}<extra></extra>",
           "hovertext": [
            "Italy"
           ],
           "legendgroup": "Italy",
           "marker": {
            "color": "#ab63fa",
            "size": [
             2048426670000
            ],
            "sizemode": "area",
            "sizeref": 1119177225,
            "symbol": "circle"
           },
           "mode": "markers",
           "name": "Italy",
           "orientation": "v",
           "showlegend": true,
           "type": "scatter",
           "x": [
            2048426670000
           ],
           "xaxis": "x",
           "y": [
            2841000000
           ],
           "yaxis": "y"
          },
          {
           "hovertemplate": "<b>%{hovertext}</b><br><br>Country=Latvia<br>Year=2023<br>GDP=%{marker.size}<br>RoadSpending=%{y}<extra></extra>",
           "hovertext": [
            "Latvia"
           ],
           "legendgroup": "Latvia",
           "marker": {
            "color": "#FFA15A",
            "size": [
             38839600000
            ],
            "sizemode": "area",
            "sizeref": 1119177225,
            "symbol": "circle"
           },
           "mode": "markers",
           "name": "Latvia",
           "orientation": "v",
           "showlegend": true,
           "type": "scatter",
           "x": [
            38839600000
           ],
           "xaxis": "x",
           "y": [
            199000000
           ],
           "yaxis": "y"
          },
          {
           "hovertemplate": "<b>%{hovertext}</b><br><br>Country=Lithuania<br>Year=2023<br>GDP=%{marker.size}<br>RoadSpending=%{y}<extra></extra>",
           "hovertext": [
            "Lithuania"
           ],
           "legendgroup": "Lithuania",
           "marker": {
            "color": "#19d3f3",
            "size": [
             69281160000
            ],
            "sizemode": "area",
            "sizeref": 1119177225,
            "symbol": "circle"
           },
           "mode": "markers",
           "name": "Lithuania",
           "orientation": "v",
           "showlegend": true,
           "type": "scatter",
           "x": [
            69281160000
           ],
           "xaxis": "x",
           "y": [
            253000000
           ],
           "yaxis": "y"
          },
          {
           "hovertemplate": "<b>%{hovertext}</b><br><br>Country=Luxembourg<br>Year=2023<br>GDP=%{marker.size}<br>RoadSpending=%{y}<extra></extra>",
           "hovertext": [
            "Luxembourg"
           ],
           "legendgroup": "Luxembourg",
           "marker": {
            "color": "#FF6692",
            "size": [
             76344200000
            ],
            "sizemode": "area",
            "sizeref": 1119177225,
            "symbol": "circle"
           },
           "mode": "markers",
           "name": "Luxembourg",
           "orientation": "v",
           "showlegend": true,
           "type": "scatter",
           "x": [
            76344200000
           ],
           "xaxis": "x",
           "y": [
            219297195.6
           ],
           "yaxis": "y"
          },
          {
           "hovertemplate": "<b>%{hovertext}</b><br><br>Country=Malta<br>Year=2023<br>GDP=%{marker.size}<br>RoadSpending=%{y}<extra></extra>",
           "hovertext": [
            "Malta"
           ],
           "legendgroup": "Malta",
           "marker": {
            "color": "#B6E880",
            "size": [
             19878150000
            ],
            "sizemode": "area",
            "sizeref": 1119177225,
            "symbol": "circle"
           },
           "mode": "markers",
           "name": "Malta",
           "orientation": "v",
           "showlegend": true,
           "type": "scatter",
           "x": [
            19878150000
           ],
           "xaxis": "x",
           "y": [
            11066059.39
           ],
           "yaxis": "y"
          },
          {
           "hovertemplate": "<b>%{hovertext}</b><br><br>Country=Netherlands<br>Year=2023<br>GDP=%{marker.size}<br>RoadSpending=%{y}<extra></extra>",
           "hovertext": [
            "Netherlands"
           ],
           "legendgroup": "Netherlands",
           "marker": {
            "color": "#FF97FF",
            "size": [
             1027677660000
            ],
            "sizemode": "area",
            "sizeref": 1119177225,
            "symbol": "circle"
           },
           "mode": "markers",
           "name": "Netherlands",
           "orientation": "v",
           "showlegend": true,
           "type": "scatter",
           "x": [
            1027677660000
           ],
           "xaxis": "x",
           "y": [
            4686635404
           ],
           "yaxis": "y"
          },
          {
           "hovertemplate": "<b>%{hovertext}</b><br><br>Country=Poland<br>Year=2023<br>GDP=%{marker.size}<br>RoadSpending=%{y}<extra></extra>",
           "hovertext": [
            "Poland"
           ],
           "legendgroup": "Poland",
           "marker": {
            "color": "#FECB52",
            "size": [
             722445040000
            ],
            "sizemode": "area",
            "sizeref": 1119177225,
            "symbol": "circle"
           },
           "mode": "markers",
           "name": "Poland",
           "orientation": "v",
           "showlegend": true,
           "type": "scatter",
           "x": [
            722445040000
           ],
           "xaxis": "x",
           "y": [
            2464797122
           ],
           "yaxis": "y"
          },
          {
           "hovertemplate": "<b>%{hovertext}</b><br><br>Country=Portugal<br>Year=2023<br>GDP=%{marker.size}<br>RoadSpending=%{y}<extra></extra>",
           "hovertext": [
            "Portugal"
           ],
           "legendgroup": "Portugal",
           "marker": {
            "color": "#636efa",
            "size": [
             255596430000
            ],
            "sizemode": "area",
            "sizeref": 1119177225,
            "symbol": "circle"
           },
           "mode": "markers",
           "name": "Portugal",
           "orientation": "v",
           "showlegend": true,
           "type": "scatter",
           "x": [
            255596430000
           ],
           "xaxis": "x",
           "y": [
            211000000
           ],
           "yaxis": "y"
          },
          {
           "hovertemplate": "<b>%{hovertext}</b><br><br>Country=Romania<br>Year=2023<br>GDP=%{marker.size}<br>RoadSpending=%{y}<extra></extra>",
           "hovertext": [
            "Romania"
           ],
           "legendgroup": "Romania",
           "marker": {
            "color": "#EF553B",
            "size": [
             312455860000
            ],
            "sizemode": "area",
            "sizeref": 1119177225,
            "symbol": "circle"
           },
           "mode": "markers",
           "name": "Romania",
           "orientation": "v",
           "showlegend": true,
           "type": "scatter",
           "x": [
            312455860000
           ],
           "xaxis": "x",
           "y": [
            2728712692
           ],
           "yaxis": "y"
          },
          {
           "hovertemplate": "<b>%{hovertext}</b><br><br>Country=Slovak Republic<br>Year=2023<br>GDP=%{marker.size}<br>RoadSpending=%{y}<extra></extra>",
           "hovertext": [
            "Slovak Republic"
           ],
           "legendgroup": "Slovak Republic",
           "marker": {
            "color": "#00cc96",
            "size": [
             118220480000
            ],
            "sizemode": "area",
            "sizeref": 1119177225,
            "symbol": "circle"
           },
           "mode": "markers",
           "name": "Slovak Republic",
           "orientation": "v",
           "showlegend": true,
           "type": "scatter",
           "x": [
            118220480000
           ],
           "xaxis": "x",
           "y": [
            360000000
           ],
           "yaxis": "y"
          },
          {
           "hovertemplate": "<b>%{hovertext}</b><br><br>Country=Slovenia<br>Year=2023<br>GDP=%{marker.size}<br>RoadSpending=%{y}<extra></extra>",
           "hovertext": [
            "Slovenia"
           ],
           "legendgroup": "Slovenia",
           "marker": {
            "color": "#ab63fa",
            "size": [
             61559520000
            ],
            "sizemode": "area",
            "sizeref": 1119177225,
            "symbol": "circle"
           },
           "mode": "markers",
           "name": "Slovenia",
           "orientation": "v",
           "showlegend": true,
           "type": "scatter",
           "x": [
            61559520000
           ],
           "xaxis": "x",
           "y": [
            104000000
           ],
           "yaxis": "y"
          },
          {
           "hovertemplate": "<b>%{hovertext}</b><br><br>Country=Spain<br>Year=2023<br>GDP=%{marker.size}<br>RoadSpending=%{y}<extra></extra>",
           "hovertext": [
            "Spain"
           ],
           "legendgroup": "Spain",
           "marker": {
            "color": "#FFA15A",
            "size": [
             1442296620000
            ],
            "sizemode": "area",
            "sizeref": 1119177225,
            "symbol": "circle"
           },
           "mode": "markers",
           "name": "Spain",
           "orientation": "v",
           "showlegend": true,
           "type": "scatter",
           "x": [
            1442296620000
           ],
           "xaxis": "x",
           "y": [
            4646000000
           ],
           "yaxis": "y"
          },
          {
           "hovertemplate": "<b>%{hovertext}</b><br><br>Country=Sweden<br>Year=2023<br>GDP=%{marker.size}<br>RoadSpending=%{y}<extra></extra>",
           "hovertext": [
            "Sweden"
           ],
           "legendgroup": "Sweden",
           "marker": {
            "color": "#19d3f3",
            "size": [
             520573460000
            ],
            "sizemode": "area",
            "sizeref": 1119177225,
            "symbol": "circle"
           },
           "mode": "markers",
           "name": "Sweden",
           "orientation": "v",
           "showlegend": true,
           "type": "scatter",
           "x": [
            520573460000
           ],
           "xaxis": "x",
           "y": [
            2013062829
           ],
           "yaxis": "y"
          }
         ],
         "name": "2023"
        }
       ],
       "layout": {
        "legend": {
         "itemsizing": "constant",
         "title": {
          "text": "Country"
         },
         "tracegroupgap": 0
        },
        "margin": {
         "t": 60
        },
        "sliders": [
         {
          "active": 0,
          "currentvalue": {
           "prefix": "Year="
          },
          "len": 0.9,
          "pad": {
           "b": 10,
           "t": 60
          },
          "steps": [
           {
            "args": [
             [
              "1995"
             ],
             {
              "frame": {
               "duration": 0,
               "redraw": false
              },
              "fromcurrent": true,
              "mode": "immediate",
              "transition": {
               "duration": 0,
               "easing": "linear"
              }
             }
            ],
            "label": "1995",
            "method": "animate"
           },
           {
            "args": [
             [
              "1996"
             ],
             {
              "frame": {
               "duration": 0,
               "redraw": false
              },
              "fromcurrent": true,
              "mode": "immediate",
              "transition": {
               "duration": 0,
               "easing": "linear"
              }
             }
            ],
            "label": "1996",
            "method": "animate"
           },
           {
            "args": [
             [
              "1997"
             ],
             {
              "frame": {
               "duration": 0,
               "redraw": false
              },
              "fromcurrent": true,
              "mode": "immediate",
              "transition": {
               "duration": 0,
               "easing": "linear"
              }
             }
            ],
            "label": "1997",
            "method": "animate"
           },
           {
            "args": [
             [
              "1998"
             ],
             {
              "frame": {
               "duration": 0,
               "redraw": false
              },
              "fromcurrent": true,
              "mode": "immediate",
              "transition": {
               "duration": 0,
               "easing": "linear"
              }
             }
            ],
            "label": "1998",
            "method": "animate"
           },
           {
            "args": [
             [
              "1999"
             ],
             {
              "frame": {
               "duration": 0,
               "redraw": false
              },
              "fromcurrent": true,
              "mode": "immediate",
              "transition": {
               "duration": 0,
               "easing": "linear"
              }
             }
            ],
            "label": "1999",
            "method": "animate"
           },
           {
            "args": [
             [
              "2000"
             ],
             {
              "frame": {
               "duration": 0,
               "redraw": false
              },
              "fromcurrent": true,
              "mode": "immediate",
              "transition": {
               "duration": 0,
               "easing": "linear"
              }
             }
            ],
            "label": "2000",
            "method": "animate"
           },
           {
            "args": [
             [
              "2001"
             ],
             {
              "frame": {
               "duration": 0,
               "redraw": false
              },
              "fromcurrent": true,
              "mode": "immediate",
              "transition": {
               "duration": 0,
               "easing": "linear"
              }
             }
            ],
            "label": "2001",
            "method": "animate"
           },
           {
            "args": [
             [
              "2002"
             ],
             {
              "frame": {
               "duration": 0,
               "redraw": false
              },
              "fromcurrent": true,
              "mode": "immediate",
              "transition": {
               "duration": 0,
               "easing": "linear"
              }
             }
            ],
            "label": "2002",
            "method": "animate"
           },
           {
            "args": [
             [
              "2003"
             ],
             {
              "frame": {
               "duration": 0,
               "redraw": false
              },
              "fromcurrent": true,
              "mode": "immediate",
              "transition": {
               "duration": 0,
               "easing": "linear"
              }
             }
            ],
            "label": "2003",
            "method": "animate"
           },
           {
            "args": [
             [
              "2004"
             ],
             {
              "frame": {
               "duration": 0,
               "redraw": false
              },
              "fromcurrent": true,
              "mode": "immediate",
              "transition": {
               "duration": 0,
               "easing": "linear"
              }
             }
            ],
            "label": "2004",
            "method": "animate"
           },
           {
            "args": [
             [
              "2005"
             ],
             {
              "frame": {
               "duration": 0,
               "redraw": false
              },
              "fromcurrent": true,
              "mode": "immediate",
              "transition": {
               "duration": 0,
               "easing": "linear"
              }
             }
            ],
            "label": "2005",
            "method": "animate"
           },
           {
            "args": [
             [
              "2006"
             ],
             {
              "frame": {
               "duration": 0,
               "redraw": false
              },
              "fromcurrent": true,
              "mode": "immediate",
              "transition": {
               "duration": 0,
               "easing": "linear"
              }
             }
            ],
            "label": "2006",
            "method": "animate"
           },
           {
            "args": [
             [
              "2007"
             ],
             {
              "frame": {
               "duration": 0,
               "redraw": false
              },
              "fromcurrent": true,
              "mode": "immediate",
              "transition": {
               "duration": 0,
               "easing": "linear"
              }
             }
            ],
            "label": "2007",
            "method": "animate"
           },
           {
            "args": [
             [
              "2008"
             ],
             {
              "frame": {
               "duration": 0,
               "redraw": false
              },
              "fromcurrent": true,
              "mode": "immediate",
              "transition": {
               "duration": 0,
               "easing": "linear"
              }
             }
            ],
            "label": "2008",
            "method": "animate"
           },
           {
            "args": [
             [
              "2009"
             ],
             {
              "frame": {
               "duration": 0,
               "redraw": false
              },
              "fromcurrent": true,
              "mode": "immediate",
              "transition": {
               "duration": 0,
               "easing": "linear"
              }
             }
            ],
            "label": "2009",
            "method": "animate"
           },
           {
            "args": [
             [
              "2010"
             ],
             {
              "frame": {
               "duration": 0,
               "redraw": false
              },
              "fromcurrent": true,
              "mode": "immediate",
              "transition": {
               "duration": 0,
               "easing": "linear"
              }
             }
            ],
            "label": "2010",
            "method": "animate"
           },
           {
            "args": [
             [
              "2011"
             ],
             {
              "frame": {
               "duration": 0,
               "redraw": false
              },
              "fromcurrent": true,
              "mode": "immediate",
              "transition": {
               "duration": 0,
               "easing": "linear"
              }
             }
            ],
            "label": "2011",
            "method": "animate"
           },
           {
            "args": [
             [
              "2012"
             ],
             {
              "frame": {
               "duration": 0,
               "redraw": false
              },
              "fromcurrent": true,
              "mode": "immediate",
              "transition": {
               "duration": 0,
               "easing": "linear"
              }
             }
            ],
            "label": "2012",
            "method": "animate"
           },
           {
            "args": [
             [
              "2013"
             ],
             {
              "frame": {
               "duration": 0,
               "redraw": false
              },
              "fromcurrent": true,
              "mode": "immediate",
              "transition": {
               "duration": 0,
               "easing": "linear"
              }
             }
            ],
            "label": "2013",
            "method": "animate"
           },
           {
            "args": [
             [
              "2014"
             ],
             {
              "frame": {
               "duration": 0,
               "redraw": false
              },
              "fromcurrent": true,
              "mode": "immediate",
              "transition": {
               "duration": 0,
               "easing": "linear"
              }
             }
            ],
            "label": "2014",
            "method": "animate"
           },
           {
            "args": [
             [
              "2015"
             ],
             {
              "frame": {
               "duration": 0,
               "redraw": false
              },
              "fromcurrent": true,
              "mode": "immediate",
              "transition": {
               "duration": 0,
               "easing": "linear"
              }
             }
            ],
            "label": "2015",
            "method": "animate"
           },
           {
            "args": [
             [
              "2016"
             ],
             {
              "frame": {
               "duration": 0,
               "redraw": false
              },
              "fromcurrent": true,
              "mode": "immediate",
              "transition": {
               "duration": 0,
               "easing": "linear"
              }
             }
            ],
            "label": "2016",
            "method": "animate"
           },
           {
            "args": [
             [
              "2017"
             ],
             {
              "frame": {
               "duration": 0,
               "redraw": false
              },
              "fromcurrent": true,
              "mode": "immediate",
              "transition": {
               "duration": 0,
               "easing": "linear"
              }
             }
            ],
            "label": "2017",
            "method": "animate"
           },
           {
            "args": [
             [
              "2018"
             ],
             {
              "frame": {
               "duration": 0,
               "redraw": false
              },
              "fromcurrent": true,
              "mode": "immediate",
              "transition": {
               "duration": 0,
               "easing": "linear"
              }
             }
            ],
            "label": "2018",
            "method": "animate"
           },
           {
            "args": [
             [
              "2019"
             ],
             {
              "frame": {
               "duration": 0,
               "redraw": false
              },
              "fromcurrent": true,
              "mode": "immediate",
              "transition": {
               "duration": 0,
               "easing": "linear"
              }
             }
            ],
            "label": "2019",
            "method": "animate"
           },
           {
            "args": [
             [
              "2020"
             ],
             {
              "frame": {
               "duration": 0,
               "redraw": false
              },
              "fromcurrent": true,
              "mode": "immediate",
              "transition": {
               "duration": 0,
               "easing": "linear"
              }
             }
            ],
            "label": "2020",
            "method": "animate"
           },
           {
            "args": [
             [
              "2021"
             ],
             {
              "frame": {
               "duration": 0,
               "redraw": false
              },
              "fromcurrent": true,
              "mode": "immediate",
              "transition": {
               "duration": 0,
               "easing": "linear"
              }
             }
            ],
            "label": "2021",
            "method": "animate"
           },
           {
            "args": [
             [
              "2022"
             ],
             {
              "frame": {
               "duration": 0,
               "redraw": false
              },
              "fromcurrent": true,
              "mode": "immediate",
              "transition": {
               "duration": 0,
               "easing": "linear"
              }
             }
            ],
            "label": "2022",
            "method": "animate"
           },
           {
            "args": [
             [
              "2023"
             ],
             {
              "frame": {
               "duration": 0,
               "redraw": false
              },
              "fromcurrent": true,
              "mode": "immediate",
              "transition": {
               "duration": 0,
               "easing": "linear"
              }
             }
            ],
            "label": "2023",
            "method": "animate"
           }
          ],
          "x": 0.1,
          "xanchor": "left",
          "y": 0,
          "yanchor": "top"
         }
        ],
        "template": {
         "data": {
          "bar": [
           {
            "error_x": {
             "color": "#2a3f5f"
            },
            "error_y": {
             "color": "#2a3f5f"
            },
            "marker": {
             "line": {
              "color": "#E5ECF6",
              "width": 0.5
             },
             "pattern": {
              "fillmode": "overlay",
              "size": 10,
              "solidity": 0.2
             }
            },
            "type": "bar"
           }
          ],
          "barpolar": [
           {
            "marker": {
             "line": {
              "color": "#E5ECF6",
              "width": 0.5
             },
             "pattern": {
              "fillmode": "overlay",
              "size": 10,
              "solidity": 0.2
             }
            },
            "type": "barpolar"
           }
          ],
          "carpet": [
           {
            "aaxis": {
             "endlinecolor": "#2a3f5f",
             "gridcolor": "white",
             "linecolor": "white",
             "minorgridcolor": "white",
             "startlinecolor": "#2a3f5f"
            },
            "baxis": {
             "endlinecolor": "#2a3f5f",
             "gridcolor": "white",
             "linecolor": "white",
             "minorgridcolor": "white",
             "startlinecolor": "#2a3f5f"
            },
            "type": "carpet"
           }
          ],
          "choropleth": [
           {
            "colorbar": {
             "outlinewidth": 0,
             "ticks": ""
            },
            "type": "choropleth"
           }
          ],
          "contour": [
           {
            "colorbar": {
             "outlinewidth": 0,
             "ticks": ""
            },
            "colorscale": [
             [
              0,
              "#0d0887"
             ],
             [
              0.1111111111111111,
              "#46039f"
             ],
             [
              0.2222222222222222,
              "#7201a8"
             ],
             [
              0.3333333333333333,
              "#9c179e"
             ],
             [
              0.4444444444444444,
              "#bd3786"
             ],
             [
              0.5555555555555556,
              "#d8576b"
             ],
             [
              0.6666666666666666,
              "#ed7953"
             ],
             [
              0.7777777777777778,
              "#fb9f3a"
             ],
             [
              0.8888888888888888,
              "#fdca26"
             ],
             [
              1,
              "#f0f921"
             ]
            ],
            "type": "contour"
           }
          ],
          "contourcarpet": [
           {
            "colorbar": {
             "outlinewidth": 0,
             "ticks": ""
            },
            "type": "contourcarpet"
           }
          ],
          "heatmap": [
           {
            "colorbar": {
             "outlinewidth": 0,
             "ticks": ""
            },
            "colorscale": [
             [
              0,
              "#0d0887"
             ],
             [
              0.1111111111111111,
              "#46039f"
             ],
             [
              0.2222222222222222,
              "#7201a8"
             ],
             [
              0.3333333333333333,
              "#9c179e"
             ],
             [
              0.4444444444444444,
              "#bd3786"
             ],
             [
              0.5555555555555556,
              "#d8576b"
             ],
             [
              0.6666666666666666,
              "#ed7953"
             ],
             [
              0.7777777777777778,
              "#fb9f3a"
             ],
             [
              0.8888888888888888,
              "#fdca26"
             ],
             [
              1,
              "#f0f921"
             ]
            ],
            "type": "heatmap"
           }
          ],
          "heatmapgl": [
           {
            "colorbar": {
             "outlinewidth": 0,
             "ticks": ""
            },
            "colorscale": [
             [
              0,
              "#0d0887"
             ],
             [
              0.1111111111111111,
              "#46039f"
             ],
             [
              0.2222222222222222,
              "#7201a8"
             ],
             [
              0.3333333333333333,
              "#9c179e"
             ],
             [
              0.4444444444444444,
              "#bd3786"
             ],
             [
              0.5555555555555556,
              "#d8576b"
             ],
             [
              0.6666666666666666,
              "#ed7953"
             ],
             [
              0.7777777777777778,
              "#fb9f3a"
             ],
             [
              0.8888888888888888,
              "#fdca26"
             ],
             [
              1,
              "#f0f921"
             ]
            ],
            "type": "heatmapgl"
           }
          ],
          "histogram": [
           {
            "marker": {
             "pattern": {
              "fillmode": "overlay",
              "size": 10,
              "solidity": 0.2
             }
            },
            "type": "histogram"
           }
          ],
          "histogram2d": [
           {
            "colorbar": {
             "outlinewidth": 0,
             "ticks": ""
            },
            "colorscale": [
             [
              0,
              "#0d0887"
             ],
             [
              0.1111111111111111,
              "#46039f"
             ],
             [
              0.2222222222222222,
              "#7201a8"
             ],
             [
              0.3333333333333333,
              "#9c179e"
             ],
             [
              0.4444444444444444,
              "#bd3786"
             ],
             [
              0.5555555555555556,
              "#d8576b"
             ],
             [
              0.6666666666666666,
              "#ed7953"
             ],
             [
              0.7777777777777778,
              "#fb9f3a"
             ],
             [
              0.8888888888888888,
              "#fdca26"
             ],
             [
              1,
              "#f0f921"
             ]
            ],
            "type": "histogram2d"
           }
          ],
          "histogram2dcontour": [
           {
            "colorbar": {
             "outlinewidth": 0,
             "ticks": ""
            },
            "colorscale": [
             [
              0,
              "#0d0887"
             ],
             [
              0.1111111111111111,
              "#46039f"
             ],
             [
              0.2222222222222222,
              "#7201a8"
             ],
             [
              0.3333333333333333,
              "#9c179e"
             ],
             [
              0.4444444444444444,
              "#bd3786"
             ],
             [
              0.5555555555555556,
              "#d8576b"
             ],
             [
              0.6666666666666666,
              "#ed7953"
             ],
             [
              0.7777777777777778,
              "#fb9f3a"
             ],
             [
              0.8888888888888888,
              "#fdca26"
             ],
             [
              1,
              "#f0f921"
             ]
            ],
            "type": "histogram2dcontour"
           }
          ],
          "mesh3d": [
           {
            "colorbar": {
             "outlinewidth": 0,
             "ticks": ""
            },
            "type": "mesh3d"
           }
          ],
          "parcoords": [
           {
            "line": {
             "colorbar": {
              "outlinewidth": 0,
              "ticks": ""
             }
            },
            "type": "parcoords"
           }
          ],
          "pie": [
           {
            "automargin": true,
            "type": "pie"
           }
          ],
          "scatter": [
           {
            "fillpattern": {
             "fillmode": "overlay",
             "size": 10,
             "solidity": 0.2
            },
            "type": "scatter"
           }
          ],
          "scatter3d": [
           {
            "line": {
             "colorbar": {
              "outlinewidth": 0,
              "ticks": ""
             }
            },
            "marker": {
             "colorbar": {
              "outlinewidth": 0,
              "ticks": ""
             }
            },
            "type": "scatter3d"
           }
          ],
          "scattercarpet": [
           {
            "marker": {
             "colorbar": {
              "outlinewidth": 0,
              "ticks": ""
             }
            },
            "type": "scattercarpet"
           }
          ],
          "scattergeo": [
           {
            "marker": {
             "colorbar": {
              "outlinewidth": 0,
              "ticks": ""
             }
            },
            "type": "scattergeo"
           }
          ],
          "scattergl": [
           {
            "marker": {
             "colorbar": {
              "outlinewidth": 0,
              "ticks": ""
             }
            },
            "type": "scattergl"
           }
          ],
          "scattermapbox": [
           {
            "marker": {
             "colorbar": {
              "outlinewidth": 0,
              "ticks": ""
             }
            },
            "type": "scattermapbox"
           }
          ],
          "scatterpolar": [
           {
            "marker": {
             "colorbar": {
              "outlinewidth": 0,
              "ticks": ""
             }
            },
            "type": "scatterpolar"
           }
          ],
          "scatterpolargl": [
           {
            "marker": {
             "colorbar": {
              "outlinewidth": 0,
              "ticks": ""
             }
            },
            "type": "scatterpolargl"
           }
          ],
          "scatterternary": [
           {
            "marker": {
             "colorbar": {
              "outlinewidth": 0,
              "ticks": ""
             }
            },
            "type": "scatterternary"
           }
          ],
          "surface": [
           {
            "colorbar": {
             "outlinewidth": 0,
             "ticks": ""
            },
            "colorscale": [
             [
              0,
              "#0d0887"
             ],
             [
              0.1111111111111111,
              "#46039f"
             ],
             [
              0.2222222222222222,
              "#7201a8"
             ],
             [
              0.3333333333333333,
              "#9c179e"
             ],
             [
              0.4444444444444444,
              "#bd3786"
             ],
             [
              0.5555555555555556,
              "#d8576b"
             ],
             [
              0.6666666666666666,
              "#ed7953"
             ],
             [
              0.7777777777777778,
              "#fb9f3a"
             ],
             [
              0.8888888888888888,
              "#fdca26"
             ],
             [
              1,
              "#f0f921"
             ]
            ],
            "type": "surface"
           }
          ],
          "table": [
           {
            "cells": {
             "fill": {
              "color": "#EBF0F8"
             },
             "line": {
              "color": "white"
             }
            },
            "header": {
             "fill": {
              "color": "#C8D4E3"
             },
             "line": {
              "color": "white"
             }
            },
            "type": "table"
           }
          ]
         },
         "layout": {
          "annotationdefaults": {
           "arrowcolor": "#2a3f5f",
           "arrowhead": 0,
           "arrowwidth": 1
          },
          "autotypenumbers": "strict",
          "coloraxis": {
           "colorbar": {
            "outlinewidth": 0,
            "ticks": ""
           }
          },
          "colorscale": {
           "diverging": [
            [
             0,
             "#8e0152"
            ],
            [
             0.1,
             "#c51b7d"
            ],
            [
             0.2,
             "#de77ae"
            ],
            [
             0.3,
             "#f1b6da"
            ],
            [
             0.4,
             "#fde0ef"
            ],
            [
             0.5,
             "#f7f7f7"
            ],
            [
             0.6,
             "#e6f5d0"
            ],
            [
             0.7,
             "#b8e186"
            ],
            [
             0.8,
             "#7fbc41"
            ],
            [
             0.9,
             "#4d9221"
            ],
            [
             1,
             "#276419"
            ]
           ],
           "sequential": [
            [
             0,
             "#0d0887"
            ],
            [
             0.1111111111111111,
             "#46039f"
            ],
            [
             0.2222222222222222,
             "#7201a8"
            ],
            [
             0.3333333333333333,
             "#9c179e"
            ],
            [
             0.4444444444444444,
             "#bd3786"
            ],
            [
             0.5555555555555556,
             "#d8576b"
            ],
            [
             0.6666666666666666,
             "#ed7953"
            ],
            [
             0.7777777777777778,
             "#fb9f3a"
            ],
            [
             0.8888888888888888,
             "#fdca26"
            ],
            [
             1,
             "#f0f921"
            ]
           ],
           "sequentialminus": [
            [
             0,
             "#0d0887"
            ],
            [
             0.1111111111111111,
             "#46039f"
            ],
            [
             0.2222222222222222,
             "#7201a8"
            ],
            [
             0.3333333333333333,
             "#9c179e"
            ],
            [
             0.4444444444444444,
             "#bd3786"
            ],
            [
             0.5555555555555556,
             "#d8576b"
            ],
            [
             0.6666666666666666,
             "#ed7953"
            ],
            [
             0.7777777777777778,
             "#fb9f3a"
            ],
            [
             0.8888888888888888,
             "#fdca26"
            ],
            [
             1,
             "#f0f921"
            ]
           ]
          },
          "colorway": [
           "#636efa",
           "#EF553B",
           "#00cc96",
           "#ab63fa",
           "#FFA15A",
           "#19d3f3",
           "#FF6692",
           "#B6E880",
           "#FF97FF",
           "#FECB52"
          ],
          "font": {
           "color": "#2a3f5f"
          },
          "geo": {
           "bgcolor": "white",
           "lakecolor": "white",
           "landcolor": "#E5ECF6",
           "showlakes": true,
           "showland": true,
           "subunitcolor": "white"
          },
          "hoverlabel": {
           "align": "left"
          },
          "hovermode": "closest",
          "mapbox": {
           "style": "light"
          },
          "paper_bgcolor": "white",
          "plot_bgcolor": "#E5ECF6",
          "polar": {
           "angularaxis": {
            "gridcolor": "white",
            "linecolor": "white",
            "ticks": ""
           },
           "bgcolor": "#E5ECF6",
           "radialaxis": {
            "gridcolor": "white",
            "linecolor": "white",
            "ticks": ""
           }
          },
          "scene": {
           "xaxis": {
            "backgroundcolor": "#E5ECF6",
            "gridcolor": "white",
            "gridwidth": 2,
            "linecolor": "white",
            "showbackground": true,
            "ticks": "",
            "zerolinecolor": "white"
           },
           "yaxis": {
            "backgroundcolor": "#E5ECF6",
            "gridcolor": "white",
            "gridwidth": 2,
            "linecolor": "white",
            "showbackground": true,
            "ticks": "",
            "zerolinecolor": "white"
           },
           "zaxis": {
            "backgroundcolor": "#E5ECF6",
            "gridcolor": "white",
            "gridwidth": 2,
            "linecolor": "white",
            "showbackground": true,
            "ticks": "",
            "zerolinecolor": "white"
           }
          },
          "shapedefaults": {
           "line": {
            "color": "#2a3f5f"
           }
          },
          "ternary": {
           "aaxis": {
            "gridcolor": "white",
            "linecolor": "white",
            "ticks": ""
           },
           "baxis": {
            "gridcolor": "white",
            "linecolor": "white",
            "ticks": ""
           },
           "bgcolor": "#E5ECF6",
           "caxis": {
            "gridcolor": "white",
            "linecolor": "white",
            "ticks": ""
           }
          },
          "title": {
           "x": 0.05
          },
          "xaxis": {
           "automargin": true,
           "gridcolor": "white",
           "linecolor": "white",
           "ticks": "",
           "title": {
            "standoff": 15
           },
           "zerolinecolor": "white",
           "zerolinewidth": 2
          },
          "yaxis": {
           "automargin": true,
           "gridcolor": "white",
           "linecolor": "white",
           "ticks": "",
           "title": {
            "standoff": 15
           },
           "zerolinecolor": "white",
           "zerolinewidth": 2
          }
         }
        },
        "title": {
         "text": "Country GDP vs. Road Spending (1995-2023)",
         "x": 0.5,
         "xanchor": "center"
        },
        "updatemenus": [
         {
          "buttons": [
           {
            "args": [
             null,
             {
              "frame": {
               "duration": 500,
               "redraw": false
              },
              "fromcurrent": true,
              "mode": "immediate",
              "transition": {
               "duration": 500,
               "easing": "linear"
              }
             }
            ],
            "label": "&#9654;",
            "method": "animate"
           },
           {
            "args": [
             [
              null
             ],
             {
              "frame": {
               "duration": 0,
               "redraw": false
              },
              "fromcurrent": true,
              "mode": "immediate",
              "transition": {
               "duration": 0,
               "easing": "linear"
              }
             }
            ],
            "label": "&#9724;",
            "method": "animate"
           }
          ],
          "direction": "left",
          "pad": {
           "r": 10,
           "t": 70
          },
          "showactive": false,
          "type": "buttons",
          "x": 0.1,
          "xanchor": "right",
          "y": 0,
          "yanchor": "top"
         }
        ],
        "xaxis": {
         "anchor": "y",
         "domain": [
          0,
          1
         ],
         "range": [
          9.698970004336017,
          12.778151250383642
         ],
         "title": {
          "text": "GDP"
         },
         "type": "log"
        },
        "yaxis": {
         "anchor": "x",
         "domain": [
          0,
          1
         ],
         "range": [
          -1000000000,
          25000000000
         ],
         "title": {
          "text": "Road Spending"
         }
        }
       }
      }
     },
     "metadata": {},
     "output_type": "display_data"
    }
   ],
   "source": [
    "gdp = final_gdp_roadspending_df['GDP']\n",
    "road_spend = final_gdp_roadspending_df['RoadSpending']\n",
    "country = final_gdp_roadspending_df[\"Country\"]\n",
    "year = final_gdp_roadspending_df['Year']\n",
    "df = df = final_gdp_roadspending_df\n",
    "fig = px.scatter(df , x= gdp, y= road_spend, animation_frame= year, size= gdp, color= country,\n",
    "           hover_name= country, log_x=True, size_max=60, range_x=[5e+9,6e+12], range_y=[(-1000000000),2.5e+10])\n",
    "fig.update_layout(\n",
    "    xaxis_title=\"GDP\",\n",
    "    yaxis_title= \"Road Spending\", \n",
    "    title={\n",
    "        \"text\": \"Country GDP vs. Road Spending (1995-2023)\",\n",
    "        \"x\": 0.5,\n",
    "        \"xanchor\": \"center\"\n",
    "    }\n",
    ")\n",
    "fig.write_image(\"GDP_vs_Road_Spending_per_country.png\")\n",
    "fig.show()\n",
    "fig.write_html('gdp_vs_roadspending.html')"
   ]
  },
  {
   "cell_type": "code",
   "execution_count": null,
   "id": "bf0c3a51",
   "metadata": {},
   "outputs": [],
   "source": []
  }
 ],
 "metadata": {
  "kernelspec": {
   "display_name": "base",
   "language": "python",
   "name": "python3"
  },
  "language_info": {
   "codemirror_mode": {
    "name": "ipython",
    "version": 3
   },
   "file_extension": ".py",
   "mimetype": "text/x-python",
   "name": "python",
   "nbconvert_exporter": "python",
   "pygments_lexer": "ipython3",
   "version": "3.12.4"
  }
 },
 "nbformat": 4,
 "nbformat_minor": 5
}
