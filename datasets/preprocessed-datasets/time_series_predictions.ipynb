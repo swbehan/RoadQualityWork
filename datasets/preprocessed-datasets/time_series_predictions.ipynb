{
 "cells": [
  {
   "cell_type": "code",
   "execution_count": 1,
   "id": "ee6ab292",
   "metadata": {},
   "outputs": [],
   "source": [
    "import requests\n",
    "import json\n",
    "import requests\n",
    "import pandas as pd\n",
    "from plotly import graph_objects as go\n",
    "import plotly.graph_objects as go\n",
    "import numpy as np\n",
    "import plotly.express as px\n",
    "from sklearn.metrics import r2_score\n",
    "from sklearn.model_selection import train_test_split"
   ]
  },
  {
   "cell_type": "code",
   "execution_count": 2,
   "id": "32d16aa9",
   "metadata": {},
   "outputs": [
    {
     "name": "stdout",
     "output_type": "stream",
     "text": [
      "Requirement already satisfied: kaleido in /opt/anaconda3/lib/python3.12/site-packages (0.2.1)\n",
      "Note: you may need to restart the kernel to use updated packages.\n"
     ]
    },
    {
     "data": {
      "application/vnd.plotly.v1+json": {
       "config": {
        "plotlyServerURL": "https://plot.ly"
       },
       "data": [
        {
         "hovertemplate": "<b>%{hovertext}</b><br><br>Country=Austria<br>Year=1995<br>GDP=%{marker.size}<br>RoadSpending=%{y}<extra></extra>",
         "hovertext": [
          "Austria"
         ],
         "legendgroup": "Austria",
         "marker": {
          "color": "#636efa",
          "size": [
           214698260000
          ],
          "sizemode": "area",
          "sizeref": 1119177225,
          "symbol": "circle"
         },
         "mode": "markers",
         "name": "Austria",
         "orientation": "v",
         "showlegend": true,
         "type": "scatter",
         "x": [
          214698260000
         ],
         "xaxis": "x",
         "y": [
          457000000
         ],
         "yaxis": "y"
        },
        {
         "hovertemplate": "<b>%{hovertext}</b><br><br>Country=Belgium<br>Year=1995<br>GDP=%{marker.size}<br>RoadSpending=%{y}<extra></extra>",
         "hovertext": [
          "Belgium"
         ],
         "legendgroup": "Belgium",
         "marker": {
          "color": "#EF553B",
          "size": [
           256587890000
          ],
          "sizemode": "area",
          "sizeref": 1119177225,
          "symbol": "circle"
         },
         "mode": "markers",
         "name": "Belgium",
         "orientation": "v",
         "showlegend": true,
         "type": "scatter",
         "x": [
          256587890000
         ],
         "xaxis": "x",
         "y": [
          160000000
         ],
         "yaxis": "y"
        },
        {
         "hovertemplate": "<b>%{hovertext}</b><br><br>Country=Bulgaria<br>Year=1995<br>GDP=%{marker.size}<br>RoadSpending=%{y}<extra></extra>",
         "hovertext": [
          "Bulgaria"
         ],
         "legendgroup": "Bulgaria",
         "marker": {
          "color": "#00cc96",
          "size": [
           16902880000
          ],
          "sizemode": "area",
          "sizeref": 1119177225,
          "symbol": "circle"
         },
         "mode": "markers",
         "name": "Bulgaria",
         "orientation": "v",
         "showlegend": true,
         "type": "scatter",
         "x": [
          16902880000
         ],
         "xaxis": "x",
         "y": [
          null
         ],
         "yaxis": "y"
        },
        {
         "hovertemplate": "<b>%{hovertext}</b><br><br>Country=Croatia<br>Year=1995<br>GDP=%{marker.size}<br>RoadSpending=%{y}<extra></extra>",
         "hovertext": [
          "Croatia"
         ],
         "legendgroup": "Croatia",
         "marker": {
          "color": "#ab63fa",
          "size": [
           18378500000
          ],
          "sizemode": "area",
          "sizeref": 1119177225,
          "symbol": "circle"
         },
         "mode": "markers",
         "name": "Croatia",
         "orientation": "v",
         "showlegend": true,
         "type": "scatter",
         "x": [
          18378500000
         ],
         "xaxis": "x",
         "y": [
          null
         ],
         "yaxis": "y"
        },
        {
         "hovertemplate": "<b>%{hovertext}</b><br><br>Country=Czechia<br>Year=1995<br>GDP=%{marker.size}<br>RoadSpending=%{y}<extra></extra>",
         "hovertext": [
          "Czechia"
         ],
         "legendgroup": "Czechia",
         "marker": {
          "color": "#FFA15A",
          "size": [
           53902850000
          ],
          "sizemode": "area",
          "sizeref": 1119177225,
          "symbol": "circle"
         },
         "mode": "markers",
         "name": "Czechia",
         "orientation": "v",
         "showlegend": true,
         "type": "scatter",
         "x": [
          53902850000
         ],
         "xaxis": "x",
         "y": [
          282514209.3
         ],
         "yaxis": "y"
        },
        {
         "hovertemplate": "<b>%{hovertext}</b><br><br>Country=Denmark<br>Year=1995<br>GDP=%{marker.size}<br>RoadSpending=%{y}<extra></extra>",
         "hovertext": [
          "Denmark"
         ],
         "legendgroup": "Denmark",
         "marker": {
          "color": "#19d3f3",
          "size": [
           164516500000
          ],
          "sizemode": "area",
          "sizeref": 1119177225,
          "symbol": "circle"
         },
         "mode": "markers",
         "name": "Denmark",
         "orientation": "v",
         "showlegend": true,
         "type": "scatter",
         "x": [
          164516500000
         ],
         "xaxis": "x",
         "y": [
          351844522.4
         ],
         "yaxis": "y"
        },
        {
         "hovertemplate": "<b>%{hovertext}</b><br><br>Country=Estonia<br>Year=1995<br>GDP=%{marker.size}<br>RoadSpending=%{y}<extra></extra>",
         "hovertext": [
          "Estonia"
         ],
         "legendgroup": "Estonia",
         "marker": {
          "color": "#FF6692",
          "size": [
           3479010000
          ],
          "sizemode": "area",
          "sizeref": 1119177225,
          "symbol": "circle"
         },
         "mode": "markers",
         "name": "Estonia",
         "orientation": "v",
         "showlegend": true,
         "type": "scatter",
         "x": [
          3479010000
         ],
         "xaxis": "x",
         "y": [
          8000000
         ],
         "yaxis": "y"
        },
        {
         "hovertemplate": "<b>%{hovertext}</b><br><br>Country=Finland<br>Year=1995<br>GDP=%{marker.size}<br>RoadSpending=%{y}<extra></extra>",
         "hovertext": [
          "Finland"
         ],
         "legendgroup": "Finland",
         "marker": {
          "color": "#B6E880",
          "size": [
           119446900000.00002
          ],
          "sizemode": "area",
          "sizeref": 1119177225,
          "symbol": "circle"
         },
         "mode": "markers",
         "name": "Finland",
         "orientation": "v",
         "showlegend": true,
         "type": "scatter",
         "x": [
          119446900000.00002
         ],
         "xaxis": "x",
         "y": [
          457000000
         ],
         "yaxis": "y"
        },
        {
         "hovertemplate": "<b>%{hovertext}</b><br><br>Country=France<br>Year=1995<br>GDP=%{marker.size}<br>RoadSpending=%{y}<extra></extra>",
         "hovertext": [
          "France"
         ],
         "legendgroup": "France",
         "marker": {
          "color": "#FF97FF",
          "size": [
           1420662500000
          ],
          "sizemode": "area",
          "sizeref": 1119177225,
          "symbol": "circle"
         },
         "mode": "markers",
         "name": "France",
         "orientation": "v",
         "showlegend": true,
         "type": "scatter",
         "x": [
          1420662500000
         ],
         "xaxis": "x",
         "y": [
          10805267015
         ],
         "yaxis": "y"
        },
        {
         "hovertemplate": "<b>%{hovertext}</b><br><br>Country=Germany<br>Year=1995<br>GDP=%{marker.size}<br>RoadSpending=%{y}<extra></extra>",
         "hovertext": [
          "Germany"
         ],
         "legendgroup": "Germany",
         "marker": {
          "color": "#FECB52",
          "size": [
           2309789410000
          ],
          "sizemode": "area",
          "sizeref": 1119177225,
          "symbol": "circle"
         },
         "mode": "markers",
         "name": "Germany",
         "orientation": "v",
         "showlegend": true,
         "type": "scatter",
         "x": [
          2309789410000
         ],
         "xaxis": "x",
         "y": [
          10216000000
         ],
         "yaxis": "y"
        },
        {
         "hovertemplate": "<b>%{hovertext}</b><br><br>Country=Greece<br>Year=1995<br>GDP=%{marker.size}<br>RoadSpending=%{y}<extra></extra>",
         "hovertext": [
          "Greece"
         ],
         "legendgroup": "Greece",
         "marker": {
          "color": "#636efa",
          "size": [
           121877490000
          ],
          "sizemode": "area",
          "sizeref": 1119177225,
          "symbol": "circle"
         },
         "mode": "markers",
         "name": "Greece",
         "orientation": "v",
         "showlegend": true,
         "type": "scatter",
         "x": [
          121877490000
         ],
         "xaxis": "x",
         "y": [
          null
         ],
         "yaxis": "y"
        },
        {
         "hovertemplate": "<b>%{hovertext}</b><br><br>Country=Hungary<br>Year=1995<br>GDP=%{marker.size}<br>RoadSpending=%{y}<extra></extra>",
         "hovertext": [
          "Hungary"
         ],
         "legendgroup": "Hungary",
         "marker": {
          "color": "#EF553B",
          "size": [
           41319140000
          ],
          "sizemode": "area",
          "sizeref": 1119177225,
          "symbol": "circle"
         },
         "mode": "markers",
         "name": "Hungary",
         "orientation": "v",
         "showlegend": true,
         "type": "scatter",
         "x": [
          41319140000
         ],
         "xaxis": "x",
         "y": [
          131084071.5
         ],
         "yaxis": "y"
        },
        {
         "hovertemplate": "<b>%{hovertext}</b><br><br>Country=Ireland<br>Year=1995<br>GDP=%{marker.size}<br>RoadSpending=%{y}<extra></extra>",
         "hovertext": [
          "Ireland"
         ],
         "legendgroup": "Ireland",
         "marker": {
          "color": "#00cc96",
          "size": [
           61641400000
          ],
          "sizemode": "area",
          "sizeref": 1119177225,
          "symbol": "circle"
         },
         "mode": "markers",
         "name": "Ireland",
         "orientation": "v",
         "showlegend": true,
         "type": "scatter",
         "x": [
          61641400000
         ],
         "xaxis": "x",
         "y": [
          283000000
         ],
         "yaxis": "y"
        },
        {
         "hovertemplate": "<b>%{hovertext}</b><br><br>Country=Italy<br>Year=1995<br>GDP=%{marker.size}<br>RoadSpending=%{y}<extra></extra>",
         "hovertext": [
          "Italy"
         ],
         "legendgroup": "Italy",
         "marker": {
          "color": "#ab63fa",
          "size": [
           1048406650000
          ],
          "sizemode": "area",
          "sizeref": 1119177225,
          "symbol": "circle"
         },
         "mode": "markers",
         "name": "Italy",
         "orientation": "v",
         "showlegend": true,
         "type": "scatter",
         "x": [
          1048406650000
         ],
         "xaxis": "x",
         "y": [
          4980000000
         ],
         "yaxis": "y"
        },
        {
         "hovertemplate": "<b>%{hovertext}</b><br><br>Country=Latvia<br>Year=1995<br>GDP=%{marker.size}<br>RoadSpending=%{y}<extra></extra>",
         "hovertext": [
          "Latvia"
         ],
         "legendgroup": "Latvia",
         "marker": {
          "color": "#FFA15A",
          "size": [
           4815790000
          ],
          "sizemode": "area",
          "sizeref": 1119177225,
          "symbol": "circle"
         },
         "mode": "markers",
         "name": "Latvia",
         "orientation": "v",
         "showlegend": true,
         "type": "scatter",
         "x": [
          4815790000
         ],
         "xaxis": "x",
         "y": [
          3000000
         ],
         "yaxis": "y"
        },
        {
         "hovertemplate": "<b>%{hovertext}</b><br><br>Country=Lithuania<br>Year=1995<br>GDP=%{marker.size}<br>RoadSpending=%{y}<extra></extra>",
         "hovertext": [
          "Lithuania"
         ],
         "legendgroup": "Lithuania",
         "marker": {
          "color": "#19d3f3",
          "size": [
           5954990000
          ],
          "sizemode": "area",
          "sizeref": 1119177225,
          "symbol": "circle"
         },
         "mode": "markers",
         "name": "Lithuania",
         "orientation": "v",
         "showlegend": true,
         "type": "scatter",
         "x": [
          5954990000
         ],
         "xaxis": "x",
         "y": [
          15000000
         ],
         "yaxis": "y"
        },
        {
         "hovertemplate": "<b>%{hovertext}</b><br><br>Country=Luxembourg<br>Year=1995<br>GDP=%{marker.size}<br>RoadSpending=%{y}<extra></extra>",
         "hovertext": [
          "Luxembourg"
         ],
         "legendgroup": "Luxembourg",
         "marker": {
          "color": "#FF6692",
          "size": [
           18308190000
          ],
          "sizemode": "area",
          "sizeref": 1119177225,
          "symbol": "circle"
         },
         "mode": "markers",
         "name": "Luxembourg",
         "orientation": "v",
         "showlegend": true,
         "type": "scatter",
         "x": [
          18308190000
         ],
         "xaxis": "x",
         "y": [
          113741290.8
         ],
         "yaxis": "y"
        },
        {
         "hovertemplate": "<b>%{hovertext}</b><br><br>Country=Malta<br>Year=1995<br>GDP=%{marker.size}<br>RoadSpending=%{y}<extra></extra>",
         "hovertext": [
          "Malta"
         ],
         "legendgroup": "Malta",
         "marker": {
          "color": "#B6E880",
          "size": [
           3172850000
          ],
          "sizemode": "area",
          "sizeref": 1119177225,
          "symbol": "circle"
         },
         "mode": "markers",
         "name": "Malta",
         "orientation": "v",
         "showlegend": true,
         "type": "scatter",
         "x": [
          3172850000
         ],
         "xaxis": "x",
         "y": [
          148128.8572
         ],
         "yaxis": "y"
        },
        {
         "hovertemplate": "<b>%{hovertext}</b><br><br>Country=Netherlands<br>Year=1995<br>GDP=%{marker.size}<br>RoadSpending=%{y}<extra></extra>",
         "hovertext": [
          "Netherlands"
         ],
         "legendgroup": "Netherlands",
         "marker": {
          "color": "#FF97FF",
          "size": [
           403505530000
          ],
          "sizemode": "area",
          "sizeref": 1119177225,
          "symbol": "circle"
         },
         "mode": "markers",
         "name": "Netherlands",
         "orientation": "v",
         "showlegend": true,
         "type": "scatter",
         "x": [
          403505530000
         ],
         "xaxis": "x",
         "y": [
          null
         ],
         "yaxis": "y"
        },
        {
         "hovertemplate": "<b>%{hovertext}</b><br><br>Country=Poland<br>Year=1995<br>GDP=%{marker.size}<br>RoadSpending=%{y}<extra></extra>",
         "hovertext": [
          "Poland"
         ],
         "legendgroup": "Poland",
         "marker": {
          "color": "#FECB52",
          "size": [
           124033070000
          ],
          "sizemode": "area",
          "sizeref": 1119177225,
          "symbol": "circle"
         },
         "mode": "markers",
         "name": "Poland",
         "orientation": "v",
         "showlegend": true,
         "type": "scatter",
         "x": [
          124033070000
         ],
         "xaxis": "x",
         "y": [
          638224072.1
         ],
         "yaxis": "y"
        },
        {
         "hovertemplate": "<b>%{hovertext}</b><br><br>Country=Portugal<br>Year=1995<br>GDP=%{marker.size}<br>RoadSpending=%{y}<extra></extra>",
         "hovertext": [
          "Portugal"
         ],
         "legendgroup": "Portugal",
         "marker": {
          "color": "#636efa",
          "size": [
           105181980000
          ],
          "sizemode": "area",
          "sizeref": 1119177225,
          "symbol": "circle"
         },
         "mode": "markers",
         "name": "Portugal",
         "orientation": "v",
         "showlegend": true,
         "type": "scatter",
         "x": [
          105181980000
         ],
         "xaxis": "x",
         "y": [
          737000000
         ],
         "yaxis": "y"
        },
        {
         "hovertemplate": "<b>%{hovertext}</b><br><br>Country=Romania<br>Year=1995<br>GDP=%{marker.size}<br>RoadSpending=%{y}<extra></extra>",
         "hovertext": [
          "Romania"
         ],
         "legendgroup": "Romania",
         "marker": {
          "color": "#EF553B",
          "size": [
           31895820000
          ],
          "sizemode": "area",
          "sizeref": 1119177225,
          "symbol": "circle"
         },
         "mode": "markers",
         "name": "Romania",
         "orientation": "v",
         "showlegend": true,
         "type": "scatter",
         "x": [
          31895820000
         ],
         "xaxis": "x",
         "y": [
          352112676.1
         ],
         "yaxis": "y"
        },
        {
         "hovertemplate": "<b>%{hovertext}</b><br><br>Country=Slovak Republic<br>Year=1995<br>GDP=%{marker.size}<br>RoadSpending=%{y}<extra></extra>",
         "hovertext": [
          "Slovak Republic"
         ],
         "legendgroup": "Slovak Republic",
         "marker": {
          "color": "#00cc96",
          "size": [
           17830260000
          ],
          "sizemode": "area",
          "sizeref": 1119177225,
          "symbol": "circle"
         },
         "mode": "markers",
         "name": "Slovak Republic",
         "orientation": "v",
         "showlegend": true,
         "type": "scatter",
         "x": [
          17830260000
         ],
         "xaxis": "x",
         "y": [
          53000000
         ],
         "yaxis": "y"
        },
        {
         "hovertemplate": "<b>%{hovertext}</b><br><br>Country=Slovenia<br>Year=1995<br>GDP=%{marker.size}<br>RoadSpending=%{y}<extra></extra>",
         "hovertext": [
          "Slovenia"
         ],
         "legendgroup": "Slovenia",
         "marker": {
          "color": "#ab63fa",
          "size": [
           19045110000
          ],
          "sizemode": "area",
          "sizeref": 1119177225,
          "symbol": "circle"
         },
         "mode": "markers",
         "name": "Slovenia",
         "orientation": "v",
         "showlegend": true,
         "type": "scatter",
         "x": [
          19045110000
         ],
         "xaxis": "x",
         "y": [
          186000000
         ],
         "yaxis": "y"
        },
        {
         "hovertemplate": "<b>%{hovertext}</b><br><br>Country=Spain<br>Year=1995<br>GDP=%{marker.size}<br>RoadSpending=%{y}<extra></extra>",
         "hovertext": [
          "Spain"
         ],
         "legendgroup": "Spain",
         "marker": {
          "color": "#FFA15A",
          "size": [
           547094570000
          ],
          "sizemode": "area",
          "sizeref": 1119177225,
          "symbol": "circle"
         },
         "mode": "markers",
         "name": "Spain",
         "orientation": "v",
         "showlegend": true,
         "type": "scatter",
         "x": [
          547094570000
         ],
         "xaxis": "x",
         "y": [
          4263000000
         ],
         "yaxis": "y"
        },
        {
         "hovertemplate": "<b>%{hovertext}</b><br><br>Country=Sweden<br>Year=1995<br>GDP=%{marker.size}<br>RoadSpending=%{y}<extra></extra>",
         "hovertext": [
          "Sweden"
         ],
         "legendgroup": "Sweden",
         "marker": {
          "color": "#19d3f3",
          "size": [
           237678059999.99997
          ],
          "sizemode": "area",
          "sizeref": 1119177225,
          "symbol": "circle"
         },
         "mode": "markers",
         "name": "Sweden",
         "orientation": "v",
         "showlegend": true,
         "type": "scatter",
         "x": [
          237678059999.99997
         ],
         "xaxis": "x",
         "y": [
          911535618.2
         ],
         "yaxis": "y"
        }
       ],
       "frames": [
        {
         "data": [
          {
           "hovertemplate": "<b>%{hovertext}</b><br><br>Country=Austria<br>Year=1995<br>GDP=%{marker.size}<br>RoadSpending=%{y}<extra></extra>",
           "hovertext": [
            "Austria"
           ],
           "legendgroup": "Austria",
           "marker": {
            "color": "#636efa",
            "size": [
             214698260000
            ],
            "sizemode": "area",
            "sizeref": 1119177225,
            "symbol": "circle"
           },
           "mode": "markers",
           "name": "Austria",
           "orientation": "v",
           "showlegend": true,
           "type": "scatter",
           "x": [
            214698260000
           ],
           "xaxis": "x",
           "y": [
            457000000
           ],
           "yaxis": "y"
          },
          {
           "hovertemplate": "<b>%{hovertext}</b><br><br>Country=Belgium<br>Year=1995<br>GDP=%{marker.size}<br>RoadSpending=%{y}<extra></extra>",
           "hovertext": [
            "Belgium"
           ],
           "legendgroup": "Belgium",
           "marker": {
            "color": "#EF553B",
            "size": [
             256587890000
            ],
            "sizemode": "area",
            "sizeref": 1119177225,
            "symbol": "circle"
           },
           "mode": "markers",
           "name": "Belgium",
           "orientation": "v",
           "showlegend": true,
           "type": "scatter",
           "x": [
            256587890000
           ],
           "xaxis": "x",
           "y": [
            160000000
           ],
           "yaxis": "y"
          },
          {
           "hovertemplate": "<b>%{hovertext}</b><br><br>Country=Bulgaria<br>Year=1995<br>GDP=%{marker.size}<br>RoadSpending=%{y}<extra></extra>",
           "hovertext": [
            "Bulgaria"
           ],
           "legendgroup": "Bulgaria",
           "marker": {
            "color": "#00cc96",
            "size": [
             16902880000
            ],
            "sizemode": "area",
            "sizeref": 1119177225,
            "symbol": "circle"
           },
           "mode": "markers",
           "name": "Bulgaria",
           "orientation": "v",
           "showlegend": true,
           "type": "scatter",
           "x": [
            16902880000
           ],
           "xaxis": "x",
           "y": [
            null
           ],
           "yaxis": "y"
          },
          {
           "hovertemplate": "<b>%{hovertext}</b><br><br>Country=Croatia<br>Year=1995<br>GDP=%{marker.size}<br>RoadSpending=%{y}<extra></extra>",
           "hovertext": [
            "Croatia"
           ],
           "legendgroup": "Croatia",
           "marker": {
            "color": "#ab63fa",
            "size": [
             18378500000
            ],
            "sizemode": "area",
            "sizeref": 1119177225,
            "symbol": "circle"
           },
           "mode": "markers",
           "name": "Croatia",
           "orientation": "v",
           "showlegend": true,
           "type": "scatter",
           "x": [
            18378500000
           ],
           "xaxis": "x",
           "y": [
            null
           ],
           "yaxis": "y"
          },
          {
           "hovertemplate": "<b>%{hovertext}</b><br><br>Country=Czechia<br>Year=1995<br>GDP=%{marker.size}<br>RoadSpending=%{y}<extra></extra>",
           "hovertext": [
            "Czechia"
           ],
           "legendgroup": "Czechia",
           "marker": {
            "color": "#FFA15A",
            "size": [
             53902850000
            ],
            "sizemode": "area",
            "sizeref": 1119177225,
            "symbol": "circle"
           },
           "mode": "markers",
           "name": "Czechia",
           "orientation": "v",
           "showlegend": true,
           "type": "scatter",
           "x": [
            53902850000
           ],
           "xaxis": "x",
           "y": [
            282514209.3
           ],
           "yaxis": "y"
          },
          {
           "hovertemplate": "<b>%{hovertext}</b><br><br>Country=Denmark<br>Year=1995<br>GDP=%{marker.size}<br>RoadSpending=%{y}<extra></extra>",
           "hovertext": [
            "Denmark"
           ],
           "legendgroup": "Denmark",
           "marker": {
            "color": "#19d3f3",
            "size": [
             164516500000
            ],
            "sizemode": "area",
            "sizeref": 1119177225,
            "symbol": "circle"
           },
           "mode": "markers",
           "name": "Denmark",
           "orientation": "v",
           "showlegend": true,
           "type": "scatter",
           "x": [
            164516500000
           ],
           "xaxis": "x",
           "y": [
            351844522.4
           ],
           "yaxis": "y"
          },
          {
           "hovertemplate": "<b>%{hovertext}</b><br><br>Country=Estonia<br>Year=1995<br>GDP=%{marker.size}<br>RoadSpending=%{y}<extra></extra>",
           "hovertext": [
            "Estonia"
           ],
           "legendgroup": "Estonia",
           "marker": {
            "color": "#FF6692",
            "size": [
             3479010000
            ],
            "sizemode": "area",
            "sizeref": 1119177225,
            "symbol": "circle"
           },
           "mode": "markers",
           "name": "Estonia",
           "orientation": "v",
           "showlegend": true,
           "type": "scatter",
           "x": [
            3479010000
           ],
           "xaxis": "x",
           "y": [
            8000000
           ],
           "yaxis": "y"
          },
          {
           "hovertemplate": "<b>%{hovertext}</b><br><br>Country=Finland<br>Year=1995<br>GDP=%{marker.size}<br>RoadSpending=%{y}<extra></extra>",
           "hovertext": [
            "Finland"
           ],
           "legendgroup": "Finland",
           "marker": {
            "color": "#B6E880",
            "size": [
             119446900000.00002
            ],
            "sizemode": "area",
            "sizeref": 1119177225,
            "symbol": "circle"
           },
           "mode": "markers",
           "name": "Finland",
           "orientation": "v",
           "showlegend": true,
           "type": "scatter",
           "x": [
            119446900000.00002
           ],
           "xaxis": "x",
           "y": [
            457000000
           ],
           "yaxis": "y"
          },
          {
           "hovertemplate": "<b>%{hovertext}</b><br><br>Country=France<br>Year=1995<br>GDP=%{marker.size}<br>RoadSpending=%{y}<extra></extra>",
           "hovertext": [
            "France"
           ],
           "legendgroup": "France",
           "marker": {
            "color": "#FF97FF",
            "size": [
             1420662500000
            ],
            "sizemode": "area",
            "sizeref": 1119177225,
            "symbol": "circle"
           },
           "mode": "markers",
           "name": "France",
           "orientation": "v",
           "showlegend": true,
           "type": "scatter",
           "x": [
            1420662500000
           ],
           "xaxis": "x",
           "y": [
            10805267015
           ],
           "yaxis": "y"
          },
          {
           "hovertemplate": "<b>%{hovertext}</b><br><br>Country=Germany<br>Year=1995<br>GDP=%{marker.size}<br>RoadSpending=%{y}<extra></extra>",
           "hovertext": [
            "Germany"
           ],
           "legendgroup": "Germany",
           "marker": {
            "color": "#FECB52",
            "size": [
             2309789410000
            ],
            "sizemode": "area",
            "sizeref": 1119177225,
            "symbol": "circle"
           },
           "mode": "markers",
           "name": "Germany",
           "orientation": "v",
           "showlegend": true,
           "type": "scatter",
           "x": [
            2309789410000
           ],
           "xaxis": "x",
           "y": [
            10216000000
           ],
           "yaxis": "y"
          },
          {
           "hovertemplate": "<b>%{hovertext}</b><br><br>Country=Greece<br>Year=1995<br>GDP=%{marker.size}<br>RoadSpending=%{y}<extra></extra>",
           "hovertext": [
            "Greece"
           ],
           "legendgroup": "Greece",
           "marker": {
            "color": "#636efa",
            "size": [
             121877490000
            ],
            "sizemode": "area",
            "sizeref": 1119177225,
            "symbol": "circle"
           },
           "mode": "markers",
           "name": "Greece",
           "orientation": "v",
           "showlegend": true,
           "type": "scatter",
           "x": [
            121877490000
           ],
           "xaxis": "x",
           "y": [
            null
           ],
           "yaxis": "y"
          },
          {
           "hovertemplate": "<b>%{hovertext}</b><br><br>Country=Hungary<br>Year=1995<br>GDP=%{marker.size}<br>RoadSpending=%{y}<extra></extra>",
           "hovertext": [
            "Hungary"
           ],
           "legendgroup": "Hungary",
           "marker": {
            "color": "#EF553B",
            "size": [
             41319140000
            ],
            "sizemode": "area",
            "sizeref": 1119177225,
            "symbol": "circle"
           },
           "mode": "markers",
           "name": "Hungary",
           "orientation": "v",
           "showlegend": true,
           "type": "scatter",
           "x": [
            41319140000
           ],
           "xaxis": "x",
           "y": [
            131084071.5
           ],
           "yaxis": "y"
          },
          {
           "hovertemplate": "<b>%{hovertext}</b><br><br>Country=Ireland<br>Year=1995<br>GDP=%{marker.size}<br>RoadSpending=%{y}<extra></extra>",
           "hovertext": [
            "Ireland"
           ],
           "legendgroup": "Ireland",
           "marker": {
            "color": "#00cc96",
            "size": [
             61641400000
            ],
            "sizemode": "area",
            "sizeref": 1119177225,
            "symbol": "circle"
           },
           "mode": "markers",
           "name": "Ireland",
           "orientation": "v",
           "showlegend": true,
           "type": "scatter",
           "x": [
            61641400000
           ],
           "xaxis": "x",
           "y": [
            283000000
           ],
           "yaxis": "y"
          },
          {
           "hovertemplate": "<b>%{hovertext}</b><br><br>Country=Italy<br>Year=1995<br>GDP=%{marker.size}<br>RoadSpending=%{y}<extra></extra>",
           "hovertext": [
            "Italy"
           ],
           "legendgroup": "Italy",
           "marker": {
            "color": "#ab63fa",
            "size": [
             1048406650000
            ],
            "sizemode": "area",
            "sizeref": 1119177225,
            "symbol": "circle"
           },
           "mode": "markers",
           "name": "Italy",
           "orientation": "v",
           "showlegend": true,
           "type": "scatter",
           "x": [
            1048406650000
           ],
           "xaxis": "x",
           "y": [
            4980000000
           ],
           "yaxis": "y"
          },
          {
           "hovertemplate": "<b>%{hovertext}</b><br><br>Country=Latvia<br>Year=1995<br>GDP=%{marker.size}<br>RoadSpending=%{y}<extra></extra>",
           "hovertext": [
            "Latvia"
           ],
           "legendgroup": "Latvia",
           "marker": {
            "color": "#FFA15A",
            "size": [
             4815790000
            ],
            "sizemode": "area",
            "sizeref": 1119177225,
            "symbol": "circle"
           },
           "mode": "markers",
           "name": "Latvia",
           "orientation": "v",
           "showlegend": true,
           "type": "scatter",
           "x": [
            4815790000
           ],
           "xaxis": "x",
           "y": [
            3000000
           ],
           "yaxis": "y"
          },
          {
           "hovertemplate": "<b>%{hovertext}</b><br><br>Country=Lithuania<br>Year=1995<br>GDP=%{marker.size}<br>RoadSpending=%{y}<extra></extra>",
           "hovertext": [
            "Lithuania"
           ],
           "legendgroup": "Lithuania",
           "marker": {
            "color": "#19d3f3",
            "size": [
             5954990000
            ],
            "sizemode": "area",
            "sizeref": 1119177225,
            "symbol": "circle"
           },
           "mode": "markers",
           "name": "Lithuania",
           "orientation": "v",
           "showlegend": true,
           "type": "scatter",
           "x": [
            5954990000
           ],
           "xaxis": "x",
           "y": [
            15000000
           ],
           "yaxis": "y"
          },
          {
           "hovertemplate": "<b>%{hovertext}</b><br><br>Country=Luxembourg<br>Year=1995<br>GDP=%{marker.size}<br>RoadSpending=%{y}<extra></extra>",
           "hovertext": [
            "Luxembourg"
           ],
           "legendgroup": "Luxembourg",
           "marker": {
            "color": "#FF6692",
            "size": [
             18308190000
            ],
            "sizemode": "area",
            "sizeref": 1119177225,
            "symbol": "circle"
           },
           "mode": "markers",
           "name": "Luxembourg",
           "orientation": "v",
           "showlegend": true,
           "type": "scatter",
           "x": [
            18308190000
           ],
           "xaxis": "x",
           "y": [
            113741290.8
           ],
           "yaxis": "y"
          },
          {
           "hovertemplate": "<b>%{hovertext}</b><br><br>Country=Malta<br>Year=1995<br>GDP=%{marker.size}<br>RoadSpending=%{y}<extra></extra>",
           "hovertext": [
            "Malta"
           ],
           "legendgroup": "Malta",
           "marker": {
            "color": "#B6E880",
            "size": [
             3172850000
            ],
            "sizemode": "area",
            "sizeref": 1119177225,
            "symbol": "circle"
           },
           "mode": "markers",
           "name": "Malta",
           "orientation": "v",
           "showlegend": true,
           "type": "scatter",
           "x": [
            3172850000
           ],
           "xaxis": "x",
           "y": [
            148128.8572
           ],
           "yaxis": "y"
          },
          {
           "hovertemplate": "<b>%{hovertext}</b><br><br>Country=Netherlands<br>Year=1995<br>GDP=%{marker.size}<br>RoadSpending=%{y}<extra></extra>",
           "hovertext": [
            "Netherlands"
           ],
           "legendgroup": "Netherlands",
           "marker": {
            "color": "#FF97FF",
            "size": [
             403505530000
            ],
            "sizemode": "area",
            "sizeref": 1119177225,
            "symbol": "circle"
           },
           "mode": "markers",
           "name": "Netherlands",
           "orientation": "v",
           "showlegend": true,
           "type": "scatter",
           "x": [
            403505530000
           ],
           "xaxis": "x",
           "y": [
            null
           ],
           "yaxis": "y"
          },
          {
           "hovertemplate": "<b>%{hovertext}</b><br><br>Country=Poland<br>Year=1995<br>GDP=%{marker.size}<br>RoadSpending=%{y}<extra></extra>",
           "hovertext": [
            "Poland"
           ],
           "legendgroup": "Poland",
           "marker": {
            "color": "#FECB52",
            "size": [
             124033070000
            ],
            "sizemode": "area",
            "sizeref": 1119177225,
            "symbol": "circle"
           },
           "mode": "markers",
           "name": "Poland",
           "orientation": "v",
           "showlegend": true,
           "type": "scatter",
           "x": [
            124033070000
           ],
           "xaxis": "x",
           "y": [
            638224072.1
           ],
           "yaxis": "y"
          },
          {
           "hovertemplate": "<b>%{hovertext}</b><br><br>Country=Portugal<br>Year=1995<br>GDP=%{marker.size}<br>RoadSpending=%{y}<extra></extra>",
           "hovertext": [
            "Portugal"
           ],
           "legendgroup": "Portugal",
           "marker": {
            "color": "#636efa",
            "size": [
             105181980000
            ],
            "sizemode": "area",
            "sizeref": 1119177225,
            "symbol": "circle"
           },
           "mode": "markers",
           "name": "Portugal",
           "orientation": "v",
           "showlegend": true,
           "type": "scatter",
           "x": [
            105181980000
           ],
           "xaxis": "x",
           "y": [
            737000000
           ],
           "yaxis": "y"
          },
          {
           "hovertemplate": "<b>%{hovertext}</b><br><br>Country=Romania<br>Year=1995<br>GDP=%{marker.size}<br>RoadSpending=%{y}<extra></extra>",
           "hovertext": [
            "Romania"
           ],
           "legendgroup": "Romania",
           "marker": {
            "color": "#EF553B",
            "size": [
             31895820000
            ],
            "sizemode": "area",
            "sizeref": 1119177225,
            "symbol": "circle"
           },
           "mode": "markers",
           "name": "Romania",
           "orientation": "v",
           "showlegend": true,
           "type": "scatter",
           "x": [
            31895820000
           ],
           "xaxis": "x",
           "y": [
            352112676.1
           ],
           "yaxis": "y"
          },
          {
           "hovertemplate": "<b>%{hovertext}</b><br><br>Country=Slovak Republic<br>Year=1995<br>GDP=%{marker.size}<br>RoadSpending=%{y}<extra></extra>",
           "hovertext": [
            "Slovak Republic"
           ],
           "legendgroup": "Slovak Republic",
           "marker": {
            "color": "#00cc96",
            "size": [
             17830260000
            ],
            "sizemode": "area",
            "sizeref": 1119177225,
            "symbol": "circle"
           },
           "mode": "markers",
           "name": "Slovak Republic",
           "orientation": "v",
           "showlegend": true,
           "type": "scatter",
           "x": [
            17830260000
           ],
           "xaxis": "x",
           "y": [
            53000000
           ],
           "yaxis": "y"
          },
          {
           "hovertemplate": "<b>%{hovertext}</b><br><br>Country=Slovenia<br>Year=1995<br>GDP=%{marker.size}<br>RoadSpending=%{y}<extra></extra>",
           "hovertext": [
            "Slovenia"
           ],
           "legendgroup": "Slovenia",
           "marker": {
            "color": "#ab63fa",
            "size": [
             19045110000
            ],
            "sizemode": "area",
            "sizeref": 1119177225,
            "symbol": "circle"
           },
           "mode": "markers",
           "name": "Slovenia",
           "orientation": "v",
           "showlegend": true,
           "type": "scatter",
           "x": [
            19045110000
           ],
           "xaxis": "x",
           "y": [
            186000000
           ],
           "yaxis": "y"
          },
          {
           "hovertemplate": "<b>%{hovertext}</b><br><br>Country=Spain<br>Year=1995<br>GDP=%{marker.size}<br>RoadSpending=%{y}<extra></extra>",
           "hovertext": [
            "Spain"
           ],
           "legendgroup": "Spain",
           "marker": {
            "color": "#FFA15A",
            "size": [
             547094570000
            ],
            "sizemode": "area",
            "sizeref": 1119177225,
            "symbol": "circle"
           },
           "mode": "markers",
           "name": "Spain",
           "orientation": "v",
           "showlegend": true,
           "type": "scatter",
           "x": [
            547094570000
           ],
           "xaxis": "x",
           "y": [
            4263000000
           ],
           "yaxis": "y"
          },
          {
           "hovertemplate": "<b>%{hovertext}</b><br><br>Country=Sweden<br>Year=1995<br>GDP=%{marker.size}<br>RoadSpending=%{y}<extra></extra>",
           "hovertext": [
            "Sweden"
           ],
           "legendgroup": "Sweden",
           "marker": {
            "color": "#19d3f3",
            "size": [
             237678059999.99997
            ],
            "sizemode": "area",
            "sizeref": 1119177225,
            "symbol": "circle"
           },
           "mode": "markers",
           "name": "Sweden",
           "orientation": "v",
           "showlegend": true,
           "type": "scatter",
           "x": [
            237678059999.99997
           ],
           "xaxis": "x",
           "y": [
            911535618.2
           ],
           "yaxis": "y"
          }
         ],
         "name": "1995"
        },
        {
         "data": [
          {
           "hovertemplate": "<b>%{hovertext}</b><br><br>Country=Austria<br>Year=1996<br>GDP=%{marker.size}<br>RoadSpending=%{y}<extra></extra>",
           "hovertext": [
            "Austria"
           ],
           "legendgroup": "Austria",
           "marker": {
            "color": "#636efa",
            "size": [
             211235270000
            ],
            "sizemode": "area",
            "sizeref": 1119177225,
            "symbol": "circle"
           },
           "mode": "markers",
           "name": "Austria",
           "orientation": "v",
           "showlegend": true,
           "type": "scatter",
           "x": [
            211235270000
           ],
           "xaxis": "x",
           "y": [
            426000000
           ],
           "yaxis": "y"
          },
          {
           "hovertemplate": "<b>%{hovertext}</b><br><br>Country=Belgium<br>Year=1996<br>GDP=%{marker.size}<br>RoadSpending=%{y}<extra></extra>",
           "hovertext": [
            "Belgium"
           ],
           "legendgroup": "Belgium",
           "marker": {
            "color": "#EF553B",
            "size": [
             248569880000
            ],
            "sizemode": "area",
            "sizeref": 1119177225,
            "symbol": "circle"
           },
           "mode": "markers",
           "name": "Belgium",
           "orientation": "v",
           "showlegend": true,
           "type": "scatter",
           "x": [
            248569880000
           ],
           "xaxis": "x",
           "y": [
            159000000
           ],
           "yaxis": "y"
          },
          {
           "hovertemplate": "<b>%{hovertext}</b><br><br>Country=Bulgaria<br>Year=1996<br>GDP=%{marker.size}<br>RoadSpending=%{y}<extra></extra>",
           "hovertext": [
            "Bulgaria"
           ],
           "legendgroup": "Bulgaria",
           "marker": {
            "color": "#00cc96",
            "size": [
             10942550000
            ],
            "sizemode": "area",
            "sizeref": 1119177225,
            "symbol": "circle"
           },
           "mode": "markers",
           "name": "Bulgaria",
           "orientation": "v",
           "showlegend": true,
           "type": "scatter",
           "x": [
            10942550000
           ],
           "xaxis": "x",
           "y": [
            null
           ],
           "yaxis": "y"
          },
          {
           "hovertemplate": "<b>%{hovertext}</b><br><br>Country=Croatia<br>Year=1996<br>GDP=%{marker.size}<br>RoadSpending=%{y}<extra></extra>",
           "hovertext": [
            "Croatia"
           ],
           "legendgroup": "Croatia",
           "marker": {
            "color": "#ab63fa",
            "size": [
             19666330000
            ],
            "sizemode": "area",
            "sizeref": 1119177225,
            "symbol": "circle"
           },
           "mode": "markers",
           "name": "Croatia",
           "orientation": "v",
           "showlegend": true,
           "type": "scatter",
           "x": [
            19666330000
           ],
           "xaxis": "x",
           "y": [
            null
           ],
           "yaxis": "y"
          },
          {
           "hovertemplate": "<b>%{hovertext}</b><br><br>Country=Czechia<br>Year=1996<br>GDP=%{marker.size}<br>RoadSpending=%{y}<extra></extra>",
           "hovertext": [
            "Czechia"
           ],
           "legendgroup": "Czechia",
           "marker": {
            "color": "#FFA15A",
            "size": [
             60346450000.00001
            ],
            "sizemode": "area",
            "sizeref": 1119177225,
            "symbol": "circle"
           },
           "mode": "markers",
           "name": "Czechia",
           "orientation": "v",
           "showlegend": true,
           "type": "scatter",
           "x": [
            60346450000.00001
           ],
           "xaxis": "x",
           "y": [
            305765051
           ],
           "yaxis": "y"
          },
          {
           "hovertemplate": "<b>%{hovertext}</b><br><br>Country=Denmark<br>Year=1996<br>GDP=%{marker.size}<br>RoadSpending=%{y}<extra></extra>",
           "hovertext": [
            "Denmark"
           ],
           "legendgroup": "Denmark",
           "marker": {
            "color": "#19d3f3",
            "size": [
             166858980000
            ],
            "sizemode": "area",
            "sizeref": 1119177225,
            "symbol": "circle"
           },
           "mode": "markers",
           "name": "Denmark",
           "orientation": "v",
           "showlegend": true,
           "type": "scatter",
           "x": [
            166858980000
           ],
           "xaxis": "x",
           "y": [
            403679447.8
           ],
           "yaxis": "y"
          },
          {
           "hovertemplate": "<b>%{hovertext}</b><br><br>Country=Estonia<br>Year=1996<br>GDP=%{marker.size}<br>RoadSpending=%{y}<extra></extra>",
           "hovertext": [
            "Estonia"
           ],
           "legendgroup": "Estonia",
           "marker": {
            "color": "#FF6692",
            "size": [
             4258650000
            ],
            "sizemode": "area",
            "sizeref": 1119177225,
            "symbol": "circle"
           },
           "mode": "markers",
           "name": "Estonia",
           "orientation": "v",
           "showlegend": true,
           "type": "scatter",
           "x": [
            4258650000
           ],
           "xaxis": "x",
           "y": [
            12000000
           ],
           "yaxis": "y"
          },
          {
           "hovertemplate": "<b>%{hovertext}</b><br><br>Country=Finland<br>Year=1996<br>GDP=%{marker.size}<br>RoadSpending=%{y}<extra></extra>",
           "hovertext": [
            "Finland"
           ],
           "legendgroup": "Finland",
           "marker": {
            "color": "#B6E880",
            "size": [
             117520939999.99998
            ],
            "sizemode": "area",
            "sizeref": 1119177225,
            "symbol": "circle"
           },
           "mode": "markers",
           "name": "Finland",
           "orientation": "v",
           "showlegend": true,
           "type": "scatter",
           "x": [
            117520939999.99998
           ],
           "xaxis": "x",
           "y": [
            429000000
           ],
           "yaxis": "y"
          },
          {
           "hovertemplate": "<b>%{hovertext}</b><br><br>Country=France<br>Year=1996<br>GDP=%{marker.size}<br>RoadSpending=%{y}<extra></extra>",
           "hovertext": [
            "France"
           ],
           "legendgroup": "France",
           "marker": {
            "color": "#FF97FF",
            "size": [
             1423330720000
            ],
            "sizemode": "area",
            "sizeref": 1119177225,
            "symbol": "circle"
           },
           "mode": "markers",
           "name": "France",
           "orientation": "v",
           "showlegend": true,
           "type": "scatter",
           "x": [
            1423330720000
           ],
           "xaxis": "x",
           "y": [
            10947662219
           ],
           "yaxis": "y"
          },
          {
           "hovertemplate": "<b>%{hovertext}</b><br><br>Country=Germany<br>Year=1996<br>GDP=%{marker.size}<br>RoadSpending=%{y}<extra></extra>",
           "hovertext": [
            "Germany"
           ],
           "legendgroup": "Germany",
           "marker": {
            "color": "#FECB52",
            "size": [
             2231628720000
            ],
            "sizemode": "area",
            "sizeref": 1119177225,
            "symbol": "circle"
           },
           "mode": "markers",
           "name": "Germany",
           "orientation": "v",
           "showlegend": true,
           "type": "scatter",
           "x": [
            2231628720000
           ],
           "xaxis": "x",
           "y": [
            11126000000
           ],
           "yaxis": "y"
          },
          {
           "hovertemplate": "<b>%{hovertext}</b><br><br>Country=Greece<br>Year=1996<br>GDP=%{marker.size}<br>RoadSpending=%{y}<extra></extra>",
           "hovertext": [
            "Greece"
           ],
           "legendgroup": "Greece",
           "marker": {
            "color": "#636efa",
            "size": [
             129826080000
            ],
            "sizemode": "area",
            "sizeref": 1119177225,
            "symbol": "circle"
           },
           "mode": "markers",
           "name": "Greece",
           "orientation": "v",
           "showlegend": true,
           "type": "scatter",
           "x": [
            129826080000
           ],
           "xaxis": "x",
           "y": [
            null
           ],
           "yaxis": "y"
          },
          {
           "hovertemplate": "<b>%{hovertext}</b><br><br>Country=Hungary<br>Year=1996<br>GDP=%{marker.size}<br>RoadSpending=%{y}<extra></extra>",
           "hovertext": [
            "Hungary"
           ],
           "legendgroup": "Hungary",
           "marker": {
            "color": "#EF553B",
            "size": [
             41526510000
            ],
            "sizemode": "area",
            "sizeref": 1119177225,
            "symbol": "circle"
           },
           "mode": "markers",
           "name": "Hungary",
           "orientation": "v",
           "showlegend": true,
           "type": "scatter",
           "x": [
            41526510000
           ],
           "xaxis": "x",
           "y": [
            122846952.3
           ],
           "yaxis": "y"
          },
          {
           "hovertemplate": "<b>%{hovertext}</b><br><br>Country=Ireland<br>Year=1996<br>GDP=%{marker.size}<br>RoadSpending=%{y}<extra></extra>",
           "hovertext": [
            "Ireland"
           ],
           "legendgroup": "Ireland",
           "marker": {
            "color": "#00cc96",
            "size": [
             67575920000
            ],
            "sizemode": "area",
            "sizeref": 1119177225,
            "symbol": "circle"
           },
           "mode": "markers",
           "name": "Ireland",
           "orientation": "v",
           "showlegend": true,
           "type": "scatter",
           "x": [
            67575920000
           ],
           "xaxis": "x",
           "y": [
            281000000
           ],
           "yaxis": "y"
          },
          {
           "hovertemplate": "<b>%{hovertext}</b><br><br>Country=Italy<br>Year=1996<br>GDP=%{marker.size}<br>RoadSpending=%{y}<extra></extra>",
           "hovertext": [
            "Italy"
           ],
           "legendgroup": "Italy",
           "marker": {
            "color": "#ab63fa",
            "size": [
             1170471040000
            ],
            "sizemode": "area",
            "sizeref": 1119177225,
            "symbol": "circle"
           },
           "mode": "markers",
           "name": "Italy",
           "orientation": "v",
           "showlegend": true,
           "type": "scatter",
           "x": [
            1170471040000
           ],
           "xaxis": "x",
           "y": [
            5052000000
           ],
           "yaxis": "y"
          },
          {
           "hovertemplate": "<b>%{hovertext}</b><br><br>Country=Latvia<br>Year=1996<br>GDP=%{marker.size}<br>RoadSpending=%{y}<extra></extra>",
           "hovertext": [
            "Latvia"
           ],
           "legendgroup": "Latvia",
           "marker": {
            "color": "#FFA15A",
            "size": [
             5317750000
            ],
            "sizemode": "area",
            "sizeref": 1119177225,
            "symbol": "circle"
           },
           "mode": "markers",
           "name": "Latvia",
           "orientation": "v",
           "showlegend": true,
           "type": "scatter",
           "x": [
            5317750000
           ],
           "xaxis": "x",
           "y": [
            4000000
           ],
           "yaxis": "y"
          },
          {
           "hovertemplate": "<b>%{hovertext}</b><br><br>Country=Lithuania<br>Year=1996<br>GDP=%{marker.size}<br>RoadSpending=%{y}<extra></extra>",
           "hovertext": [
            "Lithuania"
           ],
           "legendgroup": "Lithuania",
           "marker": {
            "color": "#19d3f3",
            "size": [
             7454639999.999999
            ],
            "sizemode": "area",
            "sizeref": 1119177225,
            "symbol": "circle"
           },
           "mode": "markers",
           "name": "Lithuania",
           "orientation": "v",
           "showlegend": true,
           "type": "scatter",
           "x": [
            7454639999.999999
           ],
           "xaxis": "x",
           "y": [
            24000000
           ],
           "yaxis": "y"
          },
          {
           "hovertemplate": "<b>%{hovertext}</b><br><br>Country=Luxembourg<br>Year=1996<br>GDP=%{marker.size}<br>RoadSpending=%{y}<extra></extra>",
           "hovertext": [
            "Luxembourg"
           ],
           "legendgroup": "Luxembourg",
           "marker": {
            "color": "#FF6692",
            "size": [
             18212960000
            ],
            "sizemode": "area",
            "sizeref": 1119177225,
            "symbol": "circle"
           },
           "mode": "markers",
           "name": "Luxembourg",
           "orientation": "v",
           "showlegend": true,
           "type": "scatter",
           "x": [
            18212960000
           ],
           "xaxis": "x",
           "y": [
            107367648.4
           ],
           "yaxis": "y"
          },
          {
           "hovertemplate": "<b>%{hovertext}</b><br><br>Country=Malta<br>Year=1996<br>GDP=%{marker.size}<br>RoadSpending=%{y}<extra></extra>",
           "hovertext": [
            "Malta"
           ],
           "legendgroup": "Malta",
           "marker": {
            "color": "#B6E880",
            "size": [
             3235150000
            ],
            "sizemode": "area",
            "sizeref": 1119177225,
            "symbol": "circle"
           },
           "mode": "markers",
           "name": "Malta",
           "orientation": "v",
           "showlegend": true,
           "type": "scatter",
           "x": [
            3235150000
           ],
           "xaxis": "x",
           "y": [
            4550862.464
           ],
           "yaxis": "y"
          },
          {
           "hovertemplate": "<b>%{hovertext}</b><br><br>Country=Netherlands<br>Year=1996<br>GDP=%{marker.size}<br>RoadSpending=%{y}<extra></extra>",
           "hovertext": [
            "Netherlands"
           ],
           "legendgroup": "Netherlands",
           "marker": {
            "color": "#FF97FF",
            "size": [
             401842120000
            ],
            "sizemode": "area",
            "sizeref": 1119177225,
            "symbol": "circle"
           },
           "mode": "markers",
           "name": "Netherlands",
           "orientation": "v",
           "showlegend": true,
           "type": "scatter",
           "x": [
            401842120000
           ],
           "xaxis": "x",
           "y": [
            null
           ],
           "yaxis": "y"
          },
          {
           "hovertemplate": "<b>%{hovertext}</b><br><br>Country=Poland<br>Year=1996<br>GDP=%{marker.size}<br>RoadSpending=%{y}<extra></extra>",
           "hovertext": [
            "Poland"
           ],
           "legendgroup": "Poland",
           "marker": {
            "color": "#FECB52",
            "size": [
             139723770000
            ],
            "sizemode": "area",
            "sizeref": 1119177225,
            "symbol": "circle"
           },
           "mode": "markers",
           "name": "Poland",
           "orientation": "v",
           "showlegend": true,
           "type": "scatter",
           "x": [
            139723770000
           ],
           "xaxis": "x",
           "y": [
            180319724.1
           ],
           "yaxis": "y"
          },
          {
           "hovertemplate": "<b>%{hovertext}</b><br><br>Country=Portugal<br>Year=1996<br>GDP=%{marker.size}<br>RoadSpending=%{y}<extra></extra>",
           "hovertext": [
            "Portugal"
           ],
           "legendgroup": "Portugal",
           "marker": {
            "color": "#636efa",
            "size": [
             109162950000
            ],
            "sizemode": "area",
            "sizeref": 1119177225,
            "symbol": "circle"
           },
           "mode": "markers",
           "name": "Portugal",
           "orientation": "v",
           "showlegend": true,
           "type": "scatter",
           "x": [
            109162950000
           ],
           "xaxis": "x",
           "y": [
            748000000
           ],
           "yaxis": "y"
          },
          {
           "hovertemplate": "<b>%{hovertext}</b><br><br>Country=Romania<br>Year=1996<br>GDP=%{marker.size}<br>RoadSpending=%{y}<extra></extra>",
           "hovertext": [
            "Romania"
           ],
           "legendgroup": "Romania",
           "marker": {
            "color": "#EF553B",
            "size": [
             31765880000
            ],
            "sizemode": "area",
            "sizeref": 1119177225,
            "symbol": "circle"
           },
           "mode": "markers",
           "name": "Romania",
           "orientation": "v",
           "showlegend": true,
           "type": "scatter",
           "x": [
            31765880000
           ],
           "xaxis": "x",
           "y": [
            389545111.8
           ],
           "yaxis": "y"
          },
          {
           "hovertemplate": "<b>%{hovertext}</b><br><br>Country=Slovak Republic<br>Year=1996<br>GDP=%{marker.size}<br>RoadSpending=%{y}<extra></extra>",
           "hovertext": [
            "Slovak Republic"
           ],
           "legendgroup": "Slovak Republic",
           "marker": {
            "color": "#00cc96",
            "size": [
             19276510000
            ],
            "sizemode": "area",
            "sizeref": 1119177225,
            "symbol": "circle"
           },
           "mode": "markers",
           "name": "Slovak Republic",
           "orientation": "v",
           "showlegend": true,
           "type": "scatter",
           "x": [
            19276510000
           ],
           "xaxis": "x",
           "y": [
            79000000
           ],
           "yaxis": "y"
          },
          {
           "hovertemplate": "<b>%{hovertext}</b><br><br>Country=Slovenia<br>Year=1996<br>GDP=%{marker.size}<br>RoadSpending=%{y}<extra></extra>",
           "hovertext": [
            "Slovenia"
           ],
           "legendgroup": "Slovenia",
           "marker": {
            "color": "#ab63fa",
            "size": [
             19117200000
            ],
            "sizemode": "area",
            "sizeref": 1119177225,
            "symbol": "circle"
           },
           "mode": "markers",
           "name": "Slovenia",
           "orientation": "v",
           "showlegend": true,
           "type": "scatter",
           "x": [
            19117200000
           ],
           "xaxis": "x",
           "y": [
            284000000
           ],
           "yaxis": "y"
          },
          {
           "hovertemplate": "<b>%{hovertext}</b><br><br>Country=Spain<br>Year=1996<br>GDP=%{marker.size}<br>RoadSpending=%{y}<extra></extra>",
           "hovertext": [
            "Spain"
           ],
           "legendgroup": "Spain",
           "marker": {
            "color": "#FFA15A",
            "size": [
             571807200000
            ],
            "sizemode": "area",
            "sizeref": 1119177225,
            "symbol": "circle"
           },
           "mode": "markers",
           "name": "Spain",
           "orientation": "v",
           "showlegend": true,
           "type": "scatter",
           "x": [
            571807200000
           ],
           "xaxis": "x",
           "y": [
            4010000000
           ],
           "yaxis": "y"
          },
          {
           "hovertemplate": "<b>%{hovertext}</b><br><br>Country=Sweden<br>Year=1996<br>GDP=%{marker.size}<br>RoadSpending=%{y}<extra></extra>",
           "hovertext": [
            "Sweden"
           ],
           "legendgroup": "Sweden",
           "marker": {
            "color": "#19d3f3",
            "size": [
             259839060000
            ],
            "sizemode": "area",
            "sizeref": 1119177225,
            "symbol": "circle"
           },
           "mode": "markers",
           "name": "Sweden",
           "orientation": "v",
           "showlegend": true,
           "type": "scatter",
           "x": [
            259839060000
           ],
           "xaxis": "x",
           "y": [
            1013551599
           ],
           "yaxis": "y"
          }
         ],
         "name": "1996"
        },
        {
         "data": [
          {
           "hovertemplate": "<b>%{hovertext}</b><br><br>Country=Austria<br>Year=1997<br>GDP=%{marker.size}<br>RoadSpending=%{y}<extra></extra>",
           "hovertext": [
            "Austria"
           ],
           "legendgroup": "Austria",
           "marker": {
            "color": "#636efa",
            "size": [
             189610050000
            ],
            "sizemode": "area",
            "sizeref": 1119177225,
            "symbol": "circle"
           },
           "mode": "markers",
           "name": "Austria",
           "orientation": "v",
           "showlegend": true,
           "type": "scatter",
           "x": [
            189610050000
           ],
           "xaxis": "x",
           "y": [
            365000000
           ],
           "yaxis": "y"
          },
          {
           "hovertemplate": "<b>%{hovertext}</b><br><br>Country=Belgium<br>Year=1997<br>GDP=%{marker.size}<br>RoadSpending=%{y}<extra></extra>",
           "hovertext": [
            "Belgium"
           ],
           "legendgroup": "Belgium",
           "marker": {
            "color": "#EF553B",
            "size": [
             225189580000
            ],
            "sizemode": "area",
            "sizeref": 1119177225,
            "symbol": "circle"
           },
           "mode": "markers",
           "name": "Belgium",
           "orientation": "v",
           "showlegend": true,
           "type": "scatter",
           "x": [
            225189580000
           ],
           "xaxis": "x",
           "y": [
            153000000
           ],
           "yaxis": "y"
          },
          {
           "hovertemplate": "<b>%{hovertext}</b><br><br>Country=Bulgaria<br>Year=1997<br>GDP=%{marker.size}<br>RoadSpending=%{y}<extra></extra>",
           "hovertext": [
            "Bulgaria"
           ],
           "legendgroup": "Bulgaria",
           "marker": {
            "color": "#00cc96",
            "size": [
             10072130000
            ],
            "sizemode": "area",
            "sizeref": 1119177225,
            "symbol": "circle"
           },
           "mode": "markers",
           "name": "Bulgaria",
           "orientation": "v",
           "showlegend": true,
           "type": "scatter",
           "x": [
            10072130000
           ],
           "xaxis": "x",
           "y": [
            null
           ],
           "yaxis": "y"
          },
          {
           "hovertemplate": "<b>%{hovertext}</b><br><br>Country=Croatia<br>Year=1997<br>GDP=%{marker.size}<br>RoadSpending=%{y}<extra></extra>",
           "hovertext": [
            "Croatia"
           ],
           "legendgroup": "Croatia",
           "marker": {
            "color": "#ab63fa",
            "size": [
             19663660000
            ],
            "sizemode": "area",
            "sizeref": 1119177225,
            "symbol": "circle"
           },
           "mode": "markers",
           "name": "Croatia",
           "orientation": "v",
           "showlegend": true,
           "type": "scatter",
           "x": [
            19663660000
           ],
           "xaxis": "x",
           "y": [
            null
           ],
           "yaxis": "y"
          },
          {
           "hovertemplate": "<b>%{hovertext}</b><br><br>Country=Czechia<br>Year=1997<br>GDP=%{marker.size}<br>RoadSpending=%{y}<extra></extra>",
           "hovertext": [
            "Czechia"
           ],
           "legendgroup": "Czechia",
           "marker": {
            "color": "#FFA15A",
            "size": [
             55651700000
            ],
            "sizemode": "area",
            "sizeref": 1119177225,
            "symbol": "circle"
           },
           "mode": "markers",
           "name": "Czechia",
           "orientation": "v",
           "showlegend": true,
           "type": "scatter",
           "x": [
            55651700000
           ],
           "xaxis": "x",
           "y": [
            382031169.5
           ],
           "yaxis": "y"
          },
          {
           "hovertemplate": "<b>%{hovertext}</b><br><br>Country=Denmark<br>Year=1997<br>GDP=%{marker.size}<br>RoadSpending=%{y}<extra></extra>",
           "hovertext": [
            "Denmark"
           ],
           "legendgroup": "Denmark",
           "marker": {
            "color": "#19d3f3",
            "size": [
             154185380000
            ],
            "sizemode": "area",
            "sizeref": 1119177225,
            "symbol": "circle"
           },
           "mode": "markers",
           "name": "Denmark",
           "orientation": "v",
           "showlegend": true,
           "type": "scatter",
           "x": [
            154185380000
           ],
           "xaxis": "x",
           "y": [
            399577703.8
           ],
           "yaxis": "y"
          },
          {
           "hovertemplate": "<b>%{hovertext}</b><br><br>Country=Estonia<br>Year=1997<br>GDP=%{marker.size}<br>RoadSpending=%{y}<extra></extra>",
           "hovertext": [
            "Estonia"
           ],
           "legendgroup": "Estonia",
           "marker": {
            "color": "#FF6692",
            "size": [
             4592400000
            ],
            "sizemode": "area",
            "sizeref": 1119177225,
            "symbol": "circle"
           },
           "mode": "markers",
           "name": "Estonia",
           "orientation": "v",
           "showlegend": true,
           "type": "scatter",
           "x": [
            4592400000
           ],
           "xaxis": "x",
           "y": [
            10000000
           ],
           "yaxis": "y"
          },
          {
           "hovertemplate": "<b>%{hovertext}</b><br><br>Country=Finland<br>Year=1997<br>GDP=%{marker.size}<br>RoadSpending=%{y}<extra></extra>",
           "hovertext": [
            "Finland"
           ],
           "legendgroup": "Finland",
           "marker": {
            "color": "#B6E880",
            "size": [
             113054030000
            ],
            "sizemode": "area",
            "sizeref": 1119177225,
            "symbol": "circle"
           },
           "mode": "markers",
           "name": "Finland",
           "orientation": "v",
           "showlegend": true,
           "type": "scatter",
           "x": [
            113054030000
           ],
           "xaxis": "x",
           "y": [
            436000000
           ],
           "yaxis": "y"
          },
          {
           "hovertemplate": "<b>%{hovertext}</b><br><br>Country=France<br>Year=1997<br>GDP=%{marker.size}<br>RoadSpending=%{y}<extra></extra>",
           "hovertext": [
            "France"
           ],
           "legendgroup": "France",
           "marker": {
            "color": "#FF97FF",
            "size": [
             1291441620000
            ],
            "sizemode": "area",
            "sizeref": 1119177225,
            "symbol": "circle"
           },
           "mode": "markers",
           "name": "France",
           "orientation": "v",
           "showlegend": true,
           "type": "scatter",
           "x": [
            1291441620000
           ],
           "xaxis": "x",
           "y": [
            10819524890
           ],
           "yaxis": "y"
          },
          {
           "hovertemplate": "<b>%{hovertext}</b><br><br>Country=Germany<br>Year=1997<br>GDP=%{marker.size}<br>RoadSpending=%{y}<extra></extra>",
           "hovertext": [
            "Germany"
           ],
           "legendgroup": "Germany",
           "marker": {
            "color": "#FECB52",
            "size": [
             1977138560000
            ],
            "sizemode": "area",
            "sizeref": 1119177225,
            "symbol": "circle"
           },
           "mode": "markers",
           "name": "Germany",
           "orientation": "v",
           "showlegend": true,
           "type": "scatter",
           "x": [
            1977138560000
           ],
           "xaxis": "x",
           "y": [
            10916000000
           ],
           "yaxis": "y"
          },
          {
           "hovertemplate": "<b>%{hovertext}</b><br><br>Country=Greece<br>Year=1997<br>GDP=%{marker.size}<br>RoadSpending=%{y}<extra></extra>",
           "hovertext": [
            "Greece"
           ],
           "legendgroup": "Greece",
           "marker": {
            "color": "#636efa",
            "size": [
             127561030000
            ],
            "sizemode": "area",
            "sizeref": 1119177225,
            "symbol": "circle"
           },
           "mode": "markers",
           "name": "Greece",
           "orientation": "v",
           "showlegend": true,
           "type": "scatter",
           "x": [
            127561030000
           ],
           "xaxis": "x",
           "y": [
            null
           ],
           "yaxis": "y"
          },
          {
           "hovertemplate": "<b>%{hovertext}</b><br><br>Country=Hungary<br>Year=1997<br>GDP=%{marker.size}<br>RoadSpending=%{y}<extra></extra>",
           "hovertext": [
            "Hungary"
           ],
           "legendgroup": "Hungary",
           "marker": {
            "color": "#EF553B",
            "size": [
             42094330000
            ],
            "sizemode": "area",
            "sizeref": 1119177225,
            "symbol": "circle"
           },
           "mode": "markers",
           "name": "Hungary",
           "orientation": "v",
           "showlegend": true,
           "type": "scatter",
           "x": [
            42094330000
           ],
           "xaxis": "x",
           "y": [
            299210707.7
           ],
           "yaxis": "y"
          },
          {
           "hovertemplate": "<b>%{hovertext}</b><br><br>Country=Ireland<br>Year=1997<br>GDP=%{marker.size}<br>RoadSpending=%{y}<extra></extra>",
           "hovertext": [
            "Ireland"
           ],
           "legendgroup": "Ireland",
           "marker": {
            "color": "#00cc96",
            "size": [
             73831730000
            ],
            "sizemode": "area",
            "sizeref": 1119177225,
            "symbol": "circle"
           },
           "mode": "markers",
           "name": "Ireland",
           "orientation": "v",
           "showlegend": true,
           "type": "scatter",
           "x": [
            73831730000
           ],
           "xaxis": "x",
           "y": [
            473000000
           ],
           "yaxis": "y"
          },
          {
           "hovertemplate": "<b>%{hovertext}</b><br><br>Country=Italy<br>Year=1997<br>GDP=%{marker.size}<br>RoadSpending=%{y}<extra></extra>",
           "hovertext": [
            "Italy"
           ],
           "legendgroup": "Italy",
           "marker": {
            "color": "#ab63fa",
            "size": [
             1109242600000
            ],
            "sizemode": "area",
            "sizeref": 1119177225,
            "symbol": "circle"
           },
           "mode": "markers",
           "name": "Italy",
           "orientation": "v",
           "showlegend": true,
           "type": "scatter",
           "x": [
            1109242600000
           ],
           "xaxis": "x",
           "y": [
            5144000000
           ],
           "yaxis": "y"
          },
          {
           "hovertemplate": "<b>%{hovertext}</b><br><br>Country=Latvia<br>Year=1997<br>GDP=%{marker.size}<br>RoadSpending=%{y}<extra></extra>",
           "hovertext": [
            "Latvia"
           ],
           "legendgroup": "Latvia",
           "marker": {
            "color": "#FFA15A",
            "size": [
             5810810000
            ],
            "sizemode": "area",
            "sizeref": 1119177225,
            "symbol": "circle"
           },
           "mode": "markers",
           "name": "Latvia",
           "orientation": "v",
           "showlegend": true,
           "type": "scatter",
           "x": [
            5810810000
           ],
           "xaxis": "x",
           "y": [
            1000000
           ],
           "yaxis": "y"
          },
          {
           "hovertemplate": "<b>%{hovertext}</b><br><br>Country=Lithuania<br>Year=1997<br>GDP=%{marker.size}<br>RoadSpending=%{y}<extra></extra>",
           "hovertext": [
            "Lithuania"
           ],
           "legendgroup": "Lithuania",
           "marker": {
            "color": "#19d3f3",
            "size": [
             9001460000
            ],
            "sizemode": "area",
            "sizeref": 1119177225,
            "symbol": "circle"
           },
           "mode": "markers",
           "name": "Lithuania",
           "orientation": "v",
           "showlegend": true,
           "type": "scatter",
           "x": [
            9001460000
           ],
           "xaxis": "x",
           "y": [
            40000000
           ],
           "yaxis": "y"
          },
          {
           "hovertemplate": "<b>%{hovertext}</b><br><br>Country=Luxembourg<br>Year=1997<br>GDP=%{marker.size}<br>RoadSpending=%{y}<extra></extra>",
           "hovertext": [
            "Luxembourg"
           ],
           "legendgroup": "Luxembourg",
           "marker": {
            "color": "#FF6692",
            "size": [
             16400920000
            ],
            "sizemode": "area",
            "sizeref": 1119177225,
            "symbol": "circle"
           },
           "mode": "markers",
           "name": "Luxembourg",
           "orientation": "v",
           "showlegend": true,
           "type": "scatter",
           "x": [
            16400920000
           ],
           "xaxis": "x",
           "y": [
            101302475.4
           ],
           "yaxis": "y"
          },
          {
           "hovertemplate": "<b>%{hovertext}</b><br><br>Country=Malta<br>Year=1997<br>GDP=%{marker.size}<br>RoadSpending=%{y}<extra></extra>",
           "hovertext": [
            "Malta"
           ],
           "legendgroup": "Malta",
           "marker": {
            "color": "#B6E880",
            "size": [
             3275200000
            ],
            "sizemode": "area",
            "sizeref": 1119177225,
            "symbol": "circle"
           },
           "mode": "markers",
           "name": "Malta",
           "orientation": "v",
           "showlegend": true,
           "type": "scatter",
           "x": [
            3275200000
           ],
           "xaxis": "x",
           "y": [
            485309.6594
           ],
           "yaxis": "y"
          },
          {
           "hovertemplate": "<b>%{hovertext}</b><br><br>Country=Netherlands<br>Year=1997<br>GDP=%{marker.size}<br>RoadSpending=%{y}<extra></extra>",
           "hovertext": [
            "Netherlands"
           ],
           "legendgroup": "Netherlands",
           "marker": {
            "color": "#FF97FF",
            "size": [
             372040470000
            ],
            "sizemode": "area",
            "sizeref": 1119177225,
            "symbol": "circle"
           },
           "mode": "markers",
           "name": "Netherlands",
           "orientation": "v",
           "showlegend": true,
           "type": "scatter",
           "x": [
            372040470000
           ],
           "xaxis": "x",
           "y": [
            1122000000
           ],
           "yaxis": "y"
          },
          {
           "hovertemplate": "<b>%{hovertext}</b><br><br>Country=Poland<br>Year=1997<br>GDP=%{marker.size}<br>RoadSpending=%{y}<extra></extra>",
           "hovertext": [
            "Poland"
           ],
           "legendgroup": "Poland",
           "marker": {
            "color": "#FECB52",
            "size": [
             140168770000
            ],
            "sizemode": "area",
            "sizeref": 1119177225,
            "symbol": "circle"
           },
           "mode": "markers",
           "name": "Poland",
           "orientation": "v",
           "showlegend": true,
           "type": "scatter",
           "x": [
            140168770000
           ],
           "xaxis": "x",
           "y": [
            227266607.4
           ],
           "yaxis": "y"
          },
          {
           "hovertemplate": "<b>%{hovertext}</b><br><br>Country=Portugal<br>Year=1997<br>GDP=%{marker.size}<br>RoadSpending=%{y}<extra></extra>",
           "hovertext": [
            "Portugal"
           ],
           "legendgroup": "Portugal",
           "marker": {
            "color": "#636efa",
            "size": [
             104317790000
            ],
            "sizemode": "area",
            "sizeref": 1119177225,
            "symbol": "circle"
           },
           "mode": "markers",
           "name": "Portugal",
           "orientation": "v",
           "showlegend": true,
           "type": "scatter",
           "x": [
            104317790000
           ],
           "xaxis": "x",
           "y": [
            970000000
           ],
           "yaxis": "y"
          },
          {
           "hovertemplate": "<b>%{hovertext}</b><br><br>Country=Romania<br>Year=1997<br>GDP=%{marker.size}<br>RoadSpending=%{y}<extra></extra>",
           "hovertext": [
            "Romania"
           ],
           "legendgroup": "Romania",
           "marker": {
            "color": "#EF553B",
            "size": [
             31723160000
            ],
            "sizemode": "area",
            "sizeref": 1119177225,
            "symbol": "circle"
           },
           "mode": "markers",
           "name": "Romania",
           "orientation": "v",
           "showlegend": true,
           "type": "scatter",
           "x": [
            31723160000
           ],
           "xaxis": "x",
           "y": [
            457411299.3
           ],
           "yaxis": "y"
          },
          {
           "hovertemplate": "<b>%{hovertext}</b><br><br>Country=Slovak Republic<br>Year=1997<br>GDP=%{marker.size}<br>RoadSpending=%{y}<extra></extra>",
           "hovertext": [
            "Slovak Republic"
           ],
           "legendgroup": "Slovak Republic",
           "marker": {
            "color": "#00cc96",
            "size": [
             19515030000
            ],
            "sizemode": "area",
            "sizeref": 1119177225,
            "symbol": "circle"
           },
           "mode": "markers",
           "name": "Slovak Republic",
           "orientation": "v",
           "showlegend": true,
           "type": "scatter",
           "x": [
            19515030000
           ],
           "xaxis": "x",
           "y": [
            315000000
           ],
           "yaxis": "y"
          },
          {
           "hovertemplate": "<b>%{hovertext}</b><br><br>Country=Slovenia<br>Year=1997<br>GDP=%{marker.size}<br>RoadSpending=%{y}<extra></extra>",
           "hovertext": [
            "Slovenia"
           ],
           "legendgroup": "Slovenia",
           "marker": {
            "color": "#ab63fa",
            "size": [
             18484410000
            ],
            "sizemode": "area",
            "sizeref": 1119177225,
            "symbol": "circle"
           },
           "mode": "markers",
           "name": "Slovenia",
           "orientation": "v",
           "showlegend": true,
           "type": "scatter",
           "x": [
            18484410000
           ],
           "xaxis": "x",
           "y": [
            293000000
           ],
           "yaxis": "y"
          },
          {
           "hovertemplate": "<b>%{hovertext}</b><br><br>Country=Spain<br>Year=1997<br>GDP=%{marker.size}<br>RoadSpending=%{y}<extra></extra>",
           "hovertext": [
            "Spain"
           ],
           "legendgroup": "Spain",
           "marker": {
            "color": "#FFA15A",
            "size": [
             525545000000
            ],
            "sizemode": "area",
            "sizeref": 1119177225,
            "symbol": "circle"
           },
           "mode": "markers",
           "name": "Spain",
           "orientation": "v",
           "showlegend": true,
           "type": "scatter",
           "x": [
            525545000000
           ],
           "xaxis": "x",
           "y": [
            3977000000
           ],
           "yaxis": "y"
          },
          {
           "hovertemplate": "<b>%{hovertext}</b><br><br>Country=Sweden<br>Year=1997<br>GDP=%{marker.size}<br>RoadSpending=%{y}<extra></extra>",
           "hovertext": [
            "Sweden"
           ],
           "legendgroup": "Sweden",
           "marker": {
            "color": "#19d3f3",
            "size": [
             238744280000
            ],
            "sizemode": "area",
            "sizeref": 1119177225,
            "symbol": "circle"
           },
           "mode": "markers",
           "name": "Sweden",
           "orientation": "v",
           "showlegend": true,
           "type": "scatter",
           "x": [
            238744280000
           ],
           "xaxis": "x",
           "y": [
            890100748.7
           ],
           "yaxis": "y"
          }
         ],
         "name": "1997"
        },
        {
         "data": [
          {
           "hovertemplate": "<b>%{hovertext}</b><br><br>Country=Austria<br>Year=1998<br>GDP=%{marker.size}<br>RoadSpending=%{y}<extra></extra>",
           "hovertext": [
            "Austria"
           ],
           "legendgroup": "Austria",
           "marker": {
            "color": "#636efa",
            "size": [
             194515730000
            ],
            "sizemode": "area",
            "sizeref": 1119177225,
            "symbol": "circle"
           },
           "mode": "markers",
           "name": "Austria",
           "orientation": "v",
           "showlegend": true,
           "type": "scatter",
           "x": [
            194515730000
           ],
           "xaxis": "x",
           "y": [
            430000000
           ],
           "yaxis": "y"
          },
          {
           "hovertemplate": "<b>%{hovertext}</b><br><br>Country=Belgium<br>Year=1998<br>GDP=%{marker.size}<br>RoadSpending=%{y}<extra></extra>",
           "hovertext": [
            "Belgium"
           ],
           "legendgroup": "Belgium",
           "marker": {
            "color": "#EF553B",
            "size": [
             230399639999.99997
            ],
            "sizemode": "area",
            "sizeref": 1119177225,
            "symbol": "circle"
           },
           "mode": "markers",
           "name": "Belgium",
           "orientation": "v",
           "showlegend": true,
           "type": "scatter",
           "x": [
            230399639999.99997
           ],
           "xaxis": "x",
           "y": [
            152000000
           ],
           "yaxis": "y"
          },
          {
           "hovertemplate": "<b>%{hovertext}</b><br><br>Country=Bulgaria<br>Year=1998<br>GDP=%{marker.size}<br>RoadSpending=%{y}<extra></extra>",
           "hovertext": [
            "Bulgaria"
           ],
           "legendgroup": "Bulgaria",
           "marker": {
            "color": "#00cc96",
            "size": [
             13377590000
            ],
            "sizemode": "area",
            "sizeref": 1119177225,
            "symbol": "circle"
           },
           "mode": "markers",
           "name": "Bulgaria",
           "orientation": "v",
           "showlegend": true,
           "type": "scatter",
           "x": [
            13377590000
           ],
           "xaxis": "x",
           "y": [
            null
           ],
           "yaxis": "y"
          },
          {
           "hovertemplate": "<b>%{hovertext}</b><br><br>Country=Croatia<br>Year=1998<br>GDP=%{marker.size}<br>RoadSpending=%{y}<extra></extra>",
           "hovertext": [
            "Croatia"
           ],
           "legendgroup": "Croatia",
           "marker": {
            "color": "#ab63fa",
            "size": [
             21327070000
            ],
            "sizemode": "area",
            "sizeref": 1119177225,
            "symbol": "circle"
           },
           "mode": "markers",
           "name": "Croatia",
           "orientation": "v",
           "showlegend": true,
           "type": "scatter",
           "x": [
            21327070000
           ],
           "xaxis": "x",
           "y": [
            null
           ],
           "yaxis": "y"
          },
          {
           "hovertemplate": "<b>%{hovertext}</b><br><br>Country=Czechia<br>Year=1998<br>GDP=%{marker.size}<br>RoadSpending=%{y}<extra></extra>",
           "hovertext": [
            "Czechia"
           ],
           "legendgroup": "Czechia",
           "marker": {
            "color": "#FFA15A",
            "size": [
             59773290000
            ],
            "sizemode": "area",
            "sizeref": 1119177225,
            "symbol": "circle"
           },
           "mode": "markers",
           "name": "Czechia",
           "orientation": "v",
           "showlegend": true,
           "type": "scatter",
           "x": [
            59773290000
           ],
           "xaxis": "x",
           "y": [
            374639290.1
           ],
           "yaxis": "y"
          },
          {
           "hovertemplate": "<b>%{hovertext}</b><br><br>Country=Denmark<br>Year=1998<br>GDP=%{marker.size}<br>RoadSpending=%{y}<extra></extra>",
           "hovertext": [
            "Denmark"
           ],
           "legendgroup": "Denmark",
           "marker": {
            "color": "#19d3f3",
            "size": [
             157419640000
            ],
            "sizemode": "area",
            "sizeref": 1119177225,
            "symbol": "circle"
           },
           "mode": "markers",
           "name": "Denmark",
           "orientation": "v",
           "showlegend": true,
           "type": "scatter",
           "x": [
            157419640000
           ],
           "xaxis": "x",
           "y": [
            387743673.2
           ],
           "yaxis": "y"
          },
          {
           "hovertemplate": "<b>%{hovertext}</b><br><br>Country=Estonia<br>Year=1998<br>GDP=%{marker.size}<br>RoadSpending=%{y}<extra></extra>",
           "hovertext": [
            "Estonia"
           ],
           "legendgroup": "Estonia",
           "marker": {
            "color": "#FF6692",
            "size": [
             5053420000
            ],
            "sizemode": "area",
            "sizeref": 1119177225,
            "symbol": "circle"
           },
           "mode": "markers",
           "name": "Estonia",
           "orientation": "v",
           "showlegend": true,
           "type": "scatter",
           "x": [
            5053420000
           ],
           "xaxis": "x",
           "y": [
            17000000
           ],
           "yaxis": "y"
          },
          {
           "hovertemplate": "<b>%{hovertext}</b><br><br>Country=Finland<br>Year=1998<br>GDP=%{marker.size}<br>RoadSpending=%{y}<extra></extra>",
           "hovertext": [
            "Finland"
           ],
           "legendgroup": "Finland",
           "marker": {
            "color": "#B6E880",
            "size": [
             119405959999.99998
            ],
            "sizemode": "area",
            "sizeref": 1119177225,
            "symbol": "circle"
           },
           "mode": "markers",
           "name": "Finland",
           "orientation": "v",
           "showlegend": true,
           "type": "scatter",
           "x": [
            119405959999.99998
           ],
           "xaxis": "x",
           "y": [
            443000000
           ],
           "yaxis": "y"
          },
          {
           "hovertemplate": "<b>%{hovertext}</b><br><br>Country=France<br>Year=1998<br>GDP=%{marker.size}<br>RoadSpending=%{y}<extra></extra>",
           "hovertext": [
            "France"
           ],
           "legendgroup": "France",
           "marker": {
            "color": "#FF97FF",
            "size": [
             1334086860000
            ],
            "sizemode": "area",
            "sizeref": 1119177225,
            "symbol": "circle"
           },
           "mode": "markers",
           "name": "France",
           "orientation": "v",
           "showlegend": true,
           "type": "scatter",
           "x": [
            1334086860000
           ],
           "xaxis": "x",
           "y": [
            10532081864
           ],
           "yaxis": "y"
          },
          {
           "hovertemplate": "<b>%{hovertext}</b><br><br>Country=Germany<br>Year=1998<br>GDP=%{marker.size}<br>RoadSpending=%{y}<extra></extra>",
           "hovertext": [
            "Germany"
           ],
           "legendgroup": "Germany",
           "marker": {
            "color": "#FECB52",
            "size": [
             2003253830000
            ],
            "sizemode": "area",
            "sizeref": 1119177225,
            "symbol": "circle"
           },
           "mode": "markers",
           "name": "Germany",
           "orientation": "v",
           "showlegend": true,
           "type": "scatter",
           "x": [
            2003253830000
           ],
           "xaxis": "x",
           "y": [
            10850000000
           ],
           "yaxis": "y"
          },
          {
           "hovertemplate": "<b>%{hovertext}</b><br><br>Country=Greece<br>Year=1998<br>GDP=%{marker.size}<br>RoadSpending=%{y}<extra></extra>",
           "hovertext": [
            "Greece"
           ],
           "legendgroup": "Greece",
           "marker": {
            "color": "#636efa",
            "size": [
             128733160000
            ],
            "sizemode": "area",
            "sizeref": 1119177225,
            "symbol": "circle"
           },
           "mode": "markers",
           "name": "Greece",
           "orientation": "v",
           "showlegend": true,
           "type": "scatter",
           "x": [
            128733160000
           ],
           "xaxis": "x",
           "y": [
            null
           ],
           "yaxis": "y"
          },
          {
           "hovertemplate": "<b>%{hovertext}</b><br><br>Country=Hungary<br>Year=1998<br>GDP=%{marker.size}<br>RoadSpending=%{y}<extra></extra>",
           "hovertext": [
            "Hungary"
           ],
           "legendgroup": "Hungary",
           "marker": {
            "color": "#EF553B",
            "size": [
             43349230000
            ],
            "sizemode": "area",
            "sizeref": 1119177225,
            "symbol": "circle"
           },
           "mode": "markers",
           "name": "Hungary",
           "orientation": "v",
           "showlegend": true,
           "type": "scatter",
           "x": [
            43349230000
           ],
           "xaxis": "x",
           "y": [
            280473625.9
           ],
           "yaxis": "y"
          },
          {
           "hovertemplate": "<b>%{hovertext}</b><br><br>Country=Ireland<br>Year=1998<br>GDP=%{marker.size}<br>RoadSpending=%{y}<extra></extra>",
           "hovertext": [
            "Ireland"
           ],
           "legendgroup": "Ireland",
           "marker": {
            "color": "#00cc96",
            "size": [
             80371450000
            ],
            "sizemode": "area",
            "sizeref": 1119177225,
            "symbol": "circle"
           },
           "mode": "markers",
           "name": "Ireland",
           "orientation": "v",
           "showlegend": true,
           "type": "scatter",
           "x": [
            80371450000
           ],
           "xaxis": "x",
           "y": [
            547000000
           ],
           "yaxis": "y"
          },
          {
           "hovertemplate": "<b>%{hovertext}</b><br><br>Country=Italy<br>Year=1998<br>GDP=%{marker.size}<br>RoadSpending=%{y}<extra></extra>",
           "hovertext": [
            "Italy"
           ],
           "legendgroup": "Italy",
           "marker": {
            "color": "#ab63fa",
            "size": [
             1134199980000
            ],
            "sizemode": "area",
            "sizeref": 1119177225,
            "symbol": "circle"
           },
           "mode": "markers",
           "name": "Italy",
           "orientation": "v",
           "showlegend": true,
           "type": "scatter",
           "x": [
            1134199980000
           ],
           "xaxis": "x",
           "y": [
            6258000000
           ],
           "yaxis": "y"
          },
          {
           "hovertemplate": "<b>%{hovertext}</b><br><br>Country=Latvia<br>Year=1998<br>GDP=%{marker.size}<br>RoadSpending=%{y}<extra></extra>",
           "hovertext": [
            "Latvia"
           ],
           "legendgroup": "Latvia",
           "marker": {
            "color": "#FFA15A",
            "size": [
             6380410000
            ],
            "sizemode": "area",
            "sizeref": 1119177225,
            "symbol": "circle"
           },
           "mode": "markers",
           "name": "Latvia",
           "orientation": "v",
           "showlegend": true,
           "type": "scatter",
           "x": [
            6380410000
           ],
           "xaxis": "x",
           "y": [
            1000000
           ],
           "yaxis": "y"
          },
          {
           "hovertemplate": "<b>%{hovertext}</b><br><br>Country=Lithuania<br>Year=1998<br>GDP=%{marker.size}<br>RoadSpending=%{y}<extra></extra>",
           "hovertext": [
            "Lithuania"
           ],
           "legendgroup": "Lithuania",
           "marker": {
            "color": "#19d3f3",
            "size": [
             10000040000
            ],
            "sizemode": "area",
            "sizeref": 1119177225,
            "symbol": "circle"
           },
           "mode": "markers",
           "name": "Lithuania",
           "orientation": "v",
           "showlegend": true,
           "type": "scatter",
           "x": [
            10000040000
           ],
           "xaxis": "x",
           "y": [
            96000000
           ],
           "yaxis": "y"
          },
          {
           "hovertemplate": "<b>%{hovertext}</b><br><br>Country=Luxembourg<br>Year=1998<br>GDP=%{marker.size}<br>RoadSpending=%{y}<extra></extra>",
           "hovertext": [
            "Luxembourg"
           ],
           "legendgroup": "Luxembourg",
           "marker": {
            "color": "#FF6692",
            "size": [
             17144070000
            ],
            "sizemode": "area",
            "sizeref": 1119177225,
            "symbol": "circle"
           },
           "mode": "markers",
           "name": "Luxembourg",
           "orientation": "v",
           "showlegend": true,
           "type": "scatter",
           "x": [
            17144070000
           ],
           "xaxis": "x",
           "y": [
            112559210.7
           ],
           "yaxis": "y"
          },
          {
           "hovertemplate": "<b>%{hovertext}</b><br><br>Country=Malta<br>Year=1998<br>GDP=%{marker.size}<br>RoadSpending=%{y}<extra></extra>",
           "hovertext": [
            "Malta"
           ],
           "legendgroup": "Malta",
           "marker": {
            "color": "#B6E880",
            "size": [
             3469220000
            ],
            "sizemode": "area",
            "sizeref": 1119177225,
            "symbol": "circle"
           },
           "mode": "markers",
           "name": "Malta",
           "orientation": "v",
           "showlegend": true,
           "type": "scatter",
           "x": [
            3469220000
           ],
           "xaxis": "x",
           "y": [
            1421059.716
           ],
           "yaxis": "y"
          },
          {
           "hovertemplate": "<b>%{hovertext}</b><br><br>Country=Netherlands<br>Year=1998<br>GDP=%{marker.size}<br>RoadSpending=%{y}<extra></extra>",
           "hovertext": [
            "Netherlands"
           ],
           "legendgroup": "Netherlands",
           "marker": {
            "color": "#FF97FF",
            "size": [
             390901350000
            ],
            "sizemode": "area",
            "sizeref": 1119177225,
            "symbol": "circle"
           },
           "mode": "markers",
           "name": "Netherlands",
           "orientation": "v",
           "showlegend": true,
           "type": "scatter",
           "x": [
            390901350000
           ],
           "xaxis": "x",
           "y": [
            1350000000
           ],
           "yaxis": "y"
          },
          {
           "hovertemplate": "<b>%{hovertext}</b><br><br>Country=Poland<br>Year=1998<br>GDP=%{marker.size}<br>RoadSpending=%{y}<extra></extra>",
           "hovertext": [
            "Poland"
           ],
           "legendgroup": "Poland",
           "marker": {
            "color": "#FECB52",
            "size": [
             153426210000
            ],
            "sizemode": "area",
            "sizeref": 1119177225,
            "symbol": "circle"
           },
           "mode": "markers",
           "name": "Poland",
           "orientation": "v",
           "showlegend": true,
           "type": "scatter",
           "x": [
            153426210000
           ],
           "xaxis": "x",
           "y": [
            299220646.5
           ],
           "yaxis": "y"
          },
          {
           "hovertemplate": "<b>%{hovertext}</b><br><br>Country=Portugal<br>Year=1998<br>GDP=%{marker.size}<br>RoadSpending=%{y}<extra></extra>",
           "hovertext": [
            "Portugal"
           ],
           "legendgroup": "Portugal",
           "marker": {
            "color": "#636efa",
            "size": [
             110470360000
            ],
            "sizemode": "area",
            "sizeref": 1119177225,
            "symbol": "circle"
           },
           "mode": "markers",
           "name": "Portugal",
           "orientation": "v",
           "showlegend": true,
           "type": "scatter",
           "x": [
            110470360000
           ],
           "xaxis": "x",
           "y": [
            905000000
           ],
           "yaxis": "y"
          },
          {
           "hovertemplate": "<b>%{hovertext}</b><br><br>Country=Romania<br>Year=1998<br>GDP=%{marker.size}<br>RoadSpending=%{y}<extra></extra>",
           "hovertext": [
            "Romania"
           ],
           "legendgroup": "Romania",
           "marker": {
            "color": "#EF553B",
            "size": [
             37863270000
            ],
            "sizemode": "area",
            "sizeref": 1119177225,
            "symbol": "circle"
           },
           "mode": "markers",
           "name": "Romania",
           "orientation": "v",
           "showlegend": true,
           "type": "scatter",
           "x": [
            37863270000
           ],
           "xaxis": "x",
           "y": [
            490265308.2
           ],
           "yaxis": "y"
          },
          {
           "hovertemplate": "<b>%{hovertext}</b><br><br>Country=Slovak Republic<br>Year=1998<br>GDP=%{marker.size}<br>RoadSpending=%{y}<extra></extra>",
           "hovertext": [
            "Slovak Republic"
           ],
           "legendgroup": "Slovak Republic",
           "marker": {
            "color": "#00cc96",
            "size": [
             20314250000
            ],
            "sizemode": "area",
            "sizeref": 1119177225,
            "symbol": "circle"
           },
           "mode": "markers",
           "name": "Slovak Republic",
           "orientation": "v",
           "showlegend": true,
           "type": "scatter",
           "x": [
            20314250000
           ],
           "xaxis": "x",
           "y": [
            300000000
           ],
           "yaxis": "y"
          },
          {
           "hovertemplate": "<b>%{hovertext}</b><br><br>Country=Slovenia<br>Year=1998<br>GDP=%{marker.size}<br>RoadSpending=%{y}<extra></extra>",
           "hovertext": [
            "Slovenia"
           ],
           "legendgroup": "Slovenia",
           "marker": {
            "color": "#ab63fa",
            "size": [
             19651200000
            ],
            "sizemode": "area",
            "sizeref": 1119177225,
            "symbol": "circle"
           },
           "mode": "markers",
           "name": "Slovenia",
           "orientation": "v",
           "showlegend": true,
           "type": "scatter",
           "x": [
            19651200000
           ],
           "xaxis": "x",
           "y": [
            263000000
           ],
           "yaxis": "y"
          },
          {
           "hovertemplate": "<b>%{hovertext}</b><br><br>Country=Spain<br>Year=1998<br>GDP=%{marker.size}<br>RoadSpending=%{y}<extra></extra>",
           "hovertext": [
            "Spain"
           ],
           "legendgroup": "Spain",
           "marker": {
            "color": "#FFA15A",
            "size": [
             551391490000
            ],
            "sizemode": "area",
            "sizeref": 1119177225,
            "symbol": "circle"
           },
           "mode": "markers",
           "name": "Spain",
           "orientation": "v",
           "showlegend": true,
           "type": "scatter",
           "x": [
            551391490000
           ],
           "xaxis": "x",
           "y": [
            4787000000
           ],
           "yaxis": "y"
          },
          {
           "hovertemplate": "<b>%{hovertext}</b><br><br>Country=Sweden<br>Year=1998<br>GDP=%{marker.size}<br>RoadSpending=%{y}<extra></extra>",
           "hovertext": [
            "Sweden"
           ],
           "legendgroup": "Sweden",
           "marker": {
            "color": "#19d3f3",
            "size": [
             241092990000.00003
            ],
            "sizemode": "area",
            "sizeref": 1119177225,
            "symbol": "circle"
           },
           "mode": "markers",
           "name": "Sweden",
           "orientation": "v",
           "showlegend": true,
           "type": "scatter",
           "x": [
            241092990000.00003
           ],
           "xaxis": "x",
           "y": [
            1047089858
           ],
           "yaxis": "y"
          }
         ],
         "name": "1998"
        },
        {
         "data": [
          {
           "hovertemplate": "<b>%{hovertext}</b><br><br>Country=Austria<br>Year=1999<br>GDP=%{marker.size}<br>RoadSpending=%{y}<extra></extra>",
           "hovertext": [
            "Austria"
           ],
           "legendgroup": "Austria",
           "marker": {
            "color": "#636efa",
            "size": [
             193552750000
            ],
            "sizemode": "area",
            "sizeref": 1119177225,
            "symbol": "circle"
           },
           "mode": "markers",
           "name": "Austria",
           "orientation": "v",
           "showlegend": true,
           "type": "scatter",
           "x": [
            193552750000
           ],
           "xaxis": "x",
           "y": [
            391000000
           ],
           "yaxis": "y"
          },
          {
           "hovertemplate": "<b>%{hovertext}</b><br><br>Country=Belgium<br>Year=1999<br>GDP=%{marker.size}<br>RoadSpending=%{y}<extra></extra>",
           "hovertext": [
            "Belgium"
           ],
           "legendgroup": "Belgium",
           "marker": {
            "color": "#EF553B",
            "size": [
             230065000000
            ],
            "sizemode": "area",
            "sizeref": 1119177225,
            "symbol": "circle"
           },
           "mode": "markers",
           "name": "Belgium",
           "orientation": "v",
           "showlegend": true,
           "type": "scatter",
           "x": [
            230065000000
           ],
           "xaxis": "x",
           "y": [
            161000000
           ],
           "yaxis": "y"
          },
          {
           "hovertemplate": "<b>%{hovertext}</b><br><br>Country=Bulgaria<br>Year=1999<br>GDP=%{marker.size}<br>RoadSpending=%{y}<extra></extra>",
           "hovertext": [
            "Bulgaria"
           ],
           "legendgroup": "Bulgaria",
           "marker": {
            "color": "#00cc96",
            "size": [
             12128920000
            ],
            "sizemode": "area",
            "sizeref": 1119177225,
            "symbol": "circle"
           },
           "mode": "markers",
           "name": "Bulgaria",
           "orientation": "v",
           "showlegend": true,
           "type": "scatter",
           "x": [
            12128920000
           ],
           "xaxis": "x",
           "y": [
            null
           ],
           "yaxis": "y"
          },
          {
           "hovertemplate": "<b>%{hovertext}</b><br><br>Country=Croatia<br>Year=1999<br>GDP=%{marker.size}<br>RoadSpending=%{y}<extra></extra>",
           "hovertext": [
            "Croatia"
           ],
           "legendgroup": "Croatia",
           "marker": {
            "color": "#ab63fa",
            "size": [
             20990650000
            ],
            "sizemode": "area",
            "sizeref": 1119177225,
            "symbol": "circle"
           },
           "mode": "markers",
           "name": "Croatia",
           "orientation": "v",
           "showlegend": true,
           "type": "scatter",
           "x": [
            20990650000
           ],
           "xaxis": "x",
           "y": [
            null
           ],
           "yaxis": "y"
          },
          {
           "hovertemplate": "<b>%{hovertext}</b><br><br>Country=Czechia<br>Year=1999<br>GDP=%{marker.size}<br>RoadSpending=%{y}<extra></extra>",
           "hovertext": [
            "Czechia"
           ],
           "legendgroup": "Czechia",
           "marker": {
            "color": "#FFA15A",
            "size": [
             58371540000
            ],
            "sizemode": "area",
            "sizeref": 1119177225,
            "symbol": "circle"
           },
           "mode": "markers",
           "name": "Czechia",
           "orientation": "v",
           "showlegend": true,
           "type": "scatter",
           "x": [
            58371540000
           ],
           "xaxis": "x",
           "y": [
            322285881.6
           ],
           "yaxis": "y"
          },
          {
           "hovertemplate": "<b>%{hovertext}</b><br><br>Country=Denmark<br>Year=1999<br>GDP=%{marker.size}<br>RoadSpending=%{y}<extra></extra>",
           "hovertext": [
            "Denmark"
           ],
           "legendgroup": "Denmark",
           "marker": {
            "color": "#19d3f3",
            "size": [
             158319430000
            ],
            "sizemode": "area",
            "sizeref": 1119177225,
            "symbol": "circle"
           },
           "mode": "markers",
           "name": "Denmark",
           "orientation": "v",
           "showlegend": true,
           "type": "scatter",
           "x": [
            158319430000
           ],
           "xaxis": "x",
           "y": [
            419468502.9
           ],
           "yaxis": "y"
          },
          {
           "hovertemplate": "<b>%{hovertext}</b><br><br>Country=Estonia<br>Year=1999<br>GDP=%{marker.size}<br>RoadSpending=%{y}<extra></extra>",
           "hovertext": [
            "Estonia"
           ],
           "legendgroup": "Estonia",
           "marker": {
            "color": "#FF6692",
            "size": [
             5136190000
            ],
            "sizemode": "area",
            "sizeref": 1119177225,
            "symbol": "circle"
           },
           "mode": "markers",
           "name": "Estonia",
           "orientation": "v",
           "showlegend": true,
           "type": "scatter",
           "x": [
            5136190000
           ],
           "xaxis": "x",
           "y": [
            21000000
           ],
           "yaxis": "y"
          },
          {
           "hovertemplate": "<b>%{hovertext}</b><br><br>Country=Finland<br>Year=1999<br>GDP=%{marker.size}<br>RoadSpending=%{y}<extra></extra>",
           "hovertext": [
            "Finland"
           ],
           "legendgroup": "Finland",
           "marker": {
            "color": "#B6E880",
            "size": [
             120478410000
            ],
            "sizemode": "area",
            "sizeref": 1119177225,
            "symbol": "circle"
           },
           "mode": "markers",
           "name": "Finland",
           "orientation": "v",
           "showlegend": true,
           "type": "scatter",
           "x": [
            120478410000
           ],
           "xaxis": "x",
           "y": [
            458000000
           ],
           "yaxis": "y"
          },
          {
           "hovertemplate": "<b>%{hovertext}</b><br><br>Country=France<br>Year=1999<br>GDP=%{marker.size}<br>RoadSpending=%{y}<extra></extra>",
           "hovertext": [
            "France"
           ],
           "legendgroup": "France",
           "marker": {
            "color": "#FF97FF",
            "size": [
             1324668880000
            ],
            "sizemode": "area",
            "sizeref": 1119177225,
            "symbol": "circle"
           },
           "mode": "markers",
           "name": "France",
           "orientation": "v",
           "showlegend": true,
           "type": "scatter",
           "x": [
            1324668880000
           ],
           "xaxis": "x",
           "y": [
            10275291051
           ],
           "yaxis": "y"
          },
          {
           "hovertemplate": "<b>%{hovertext}</b><br><br>Country=Germany<br>Year=1999<br>GDP=%{marker.size}<br>RoadSpending=%{y}<extra></extra>",
           "hovertext": [
            "Germany"
           ],
           "legendgroup": "Germany",
           "marker": {
            "color": "#FECB52",
            "size": [
             1972304080000
            ],
            "sizemode": "area",
            "sizeref": 1119177225,
            "symbol": "circle"
           },
           "mode": "markers",
           "name": "Germany",
           "orientation": "v",
           "showlegend": true,
           "type": "scatter",
           "x": [
            1972304080000
           ],
           "xaxis": "x",
           "y": [
            11146000000
           ],
           "yaxis": "y"
          },
          {
           "hovertemplate": "<b>%{hovertext}</b><br><br>Country=Greece<br>Year=1999<br>GDP=%{marker.size}<br>RoadSpending=%{y}<extra></extra>",
           "hovertext": [
            "Greece"
           ],
           "legendgroup": "Greece",
           "marker": {
            "color": "#636efa",
            "size": [
             132976680000
            ],
            "sizemode": "area",
            "sizeref": 1119177225,
            "symbol": "circle"
           },
           "mode": "markers",
           "name": "Greece",
           "orientation": "v",
           "showlegend": true,
           "type": "scatter",
           "x": [
            132976680000
           ],
           "xaxis": "x",
           "y": [
            null
           ],
           "yaxis": "y"
          },
          {
           "hovertemplate": "<b>%{hovertext}</b><br><br>Country=Hungary<br>Year=1999<br>GDP=%{marker.size}<br>RoadSpending=%{y}<extra></extra>",
           "hovertext": [
            "Hungary"
           ],
           "legendgroup": "Hungary",
           "marker": {
            "color": "#EF553B",
            "size": [
             43674970000
            ],
            "sizemode": "area",
            "sizeref": 1119177225,
            "symbol": "circle"
           },
           "mode": "markers",
           "name": "Hungary",
           "orientation": "v",
           "showlegend": true,
           "type": "scatter",
           "x": [
            43674970000
           ],
           "xaxis": "x",
           "y": [
            208516741.7
           ],
           "yaxis": "y"
          },
          {
           "hovertemplate": "<b>%{hovertext}</b><br><br>Country=Ireland<br>Year=1999<br>GDP=%{marker.size}<br>RoadSpending=%{y}<extra></extra>",
           "hovertext": [
            "Ireland"
           ],
           "legendgroup": "Ireland",
           "marker": {
            "color": "#00cc96",
            "size": [
             88103770000
            ],
            "sizemode": "area",
            "sizeref": 1119177225,
            "symbol": "circle"
           },
           "mode": "markers",
           "name": "Ireland",
           "orientation": "v",
           "showlegend": true,
           "type": "scatter",
           "x": [
            88103770000
           ],
           "xaxis": "x",
           "y": [
            742000000
           ],
           "yaxis": "y"
          },
          {
           "hovertemplate": "<b>%{hovertext}</b><br><br>Country=Italy<br>Year=1999<br>GDP=%{marker.size}<br>RoadSpending=%{y}<extra></extra>",
           "hovertext": [
            "Italy"
           ],
           "legendgroup": "Italy",
           "marker": {
            "color": "#ab63fa",
            "size": [
             1118064280000
            ],
            "sizemode": "area",
            "sizeref": 1119177225,
            "symbol": "circle"
           },
           "mode": "markers",
           "name": "Italy",
           "orientation": "v",
           "showlegend": true,
           "type": "scatter",
           "x": [
            1118064280000
           ],
           "xaxis": "x",
           "y": [
            6365000000
           ],
           "yaxis": "y"
          },
          {
           "hovertemplate": "<b>%{hovertext}</b><br><br>Country=Latvia<br>Year=1999<br>GDP=%{marker.size}<br>RoadSpending=%{y}<extra></extra>",
           "hovertext": [
            "Latvia"
           ],
           "legendgroup": "Latvia",
           "marker": {
            "color": "#FFA15A",
            "size": [
             6706150000
            ],
            "sizemode": "area",
            "sizeref": 1119177225,
            "symbol": "circle"
           },
           "mode": "markers",
           "name": "Latvia",
           "orientation": "v",
           "showlegend": true,
           "type": "scatter",
           "x": [
            6706150000
           ],
           "xaxis": "x",
           "y": [
            5000000
           ],
           "yaxis": "y"
          },
          {
           "hovertemplate": "<b>%{hovertext}</b><br><br>Country=Lithuania<br>Year=1999<br>GDP=%{marker.size}<br>RoadSpending=%{y}<extra></extra>",
           "hovertext": [
            "Lithuania"
           ],
           "legendgroup": "Lithuania",
           "marker": {
            "color": "#19d3f3",
            "size": [
             9762410000
            ],
            "sizemode": "area",
            "sizeref": 1119177225,
            "symbol": "circle"
           },
           "mode": "markers",
           "name": "Lithuania",
           "orientation": "v",
           "showlegend": true,
           "type": "scatter",
           "x": [
            9762410000
           ],
           "xaxis": "x",
           "y": [
            130000000
           ],
           "yaxis": "y"
          },
          {
           "hovertemplate": "<b>%{hovertext}</b><br><br>Country=Luxembourg<br>Year=1999<br>GDP=%{marker.size}<br>RoadSpending=%{y}<extra></extra>",
           "hovertext": [
            "Luxembourg"
           ],
           "legendgroup": "Luxembourg",
           "marker": {
            "color": "#FF6692",
            "size": [
             18769210000
            ],
            "sizemode": "area",
            "sizeref": 1119177225,
            "symbol": "circle"
           },
           "mode": "markers",
           "name": "Luxembourg",
           "orientation": "v",
           "showlegend": true,
           "type": "scatter",
           "x": [
            18769210000
           ],
           "xaxis": "x",
           "y": [
            145516901.8
           ],
           "yaxis": "y"
          },
          {
           "hovertemplate": "<b>%{hovertext}</b><br><br>Country=Malta<br>Year=1999<br>GDP=%{marker.size}<br>RoadSpending=%{y}<extra></extra>",
           "hovertext": [
            "Malta"
           ],
           "legendgroup": "Malta",
           "marker": {
            "color": "#B6E880",
            "size": [
             3620519999.9999995
            ],
            "sizemode": "area",
            "sizeref": 1119177225,
            "symbol": "circle"
           },
           "mode": "markers",
           "name": "Malta",
           "orientation": "v",
           "showlegend": true,
           "type": "scatter",
           "x": [
            3620519999.9999995
           ],
           "xaxis": "x",
           "y": [
            5350175.474
           ],
           "yaxis": "y"
          },
          {
           "hovertemplate": "<b>%{hovertext}</b><br><br>Country=Netherlands<br>Year=1999<br>GDP=%{marker.size}<br>RoadSpending=%{y}<extra></extra>",
           "hovertext": [
            "Netherlands"
           ],
           "legendgroup": "Netherlands",
           "marker": {
            "color": "#FF97FF",
            "size": [
             398918470000
            ],
            "sizemode": "area",
            "sizeref": 1119177225,
            "symbol": "circle"
           },
           "mode": "markers",
           "name": "Netherlands",
           "orientation": "v",
           "showlegend": true,
           "type": "scatter",
           "x": [
            398918470000
           ],
           "xaxis": "x",
           "y": [
            1500000000
           ],
           "yaxis": "y"
          },
          {
           "hovertemplate": "<b>%{hovertext}</b><br><br>Country=Poland<br>Year=1999<br>GDP=%{marker.size}<br>RoadSpending=%{y}<extra></extra>",
           "hovertext": [
            "Poland"
           ],
           "legendgroup": "Poland",
           "marker": {
            "color": "#FECB52",
            "size": [
             149635700000
            ],
            "sizemode": "area",
            "sizeref": 1119177225,
            "symbol": "circle"
           },
           "mode": "markers",
           "name": "Poland",
           "orientation": "v",
           "showlegend": true,
           "type": "scatter",
           "x": [
            149635700000
           ],
           "xaxis": "x",
           "y": [
            296678338.2
           ],
           "yaxis": "y"
          },
          {
           "hovertemplate": "<b>%{hovertext}</b><br><br>Country=Portugal<br>Year=1999<br>GDP=%{marker.size}<br>RoadSpending=%{y}<extra></extra>",
           "hovertext": [
            "Portugal"
           ],
           "legendgroup": "Portugal",
           "marker": {
            "color": "#636efa",
            "size": [
             113561330000
            ],
            "sizemode": "area",
            "sizeref": 1119177225,
            "symbol": "circle"
           },
           "mode": "markers",
           "name": "Portugal",
           "orientation": "v",
           "showlegend": true,
           "type": "scatter",
           "x": [
            113561330000
           ],
           "xaxis": "x",
           "y": [
            552000000
           ],
           "yaxis": "y"
          },
          {
           "hovertemplate": "<b>%{hovertext}</b><br><br>Country=Romania<br>Year=1999<br>GDP=%{marker.size}<br>RoadSpending=%{y}<extra></extra>",
           "hovertext": [
            "Romania"
           ],
           "legendgroup": "Romania",
           "marker": {
            "color": "#EF553B",
            "size": [
             31998170000
            ],
            "sizemode": "area",
            "sizeref": 1119177225,
            "symbol": "circle"
           },
           "mode": "markers",
           "name": "Romania",
           "orientation": "v",
           "showlegend": true,
           "type": "scatter",
           "x": [
            31998170000
           ],
           "xaxis": "x",
           "y": [
            443271119.8
           ],
           "yaxis": "y"
          },
          {
           "hovertemplate": "<b>%{hovertext}</b><br><br>Country=Slovak Republic<br>Year=1999<br>GDP=%{marker.size}<br>RoadSpending=%{y}<extra></extra>",
           "hovertext": [
            "Slovak Republic"
           ],
           "legendgroup": "Slovak Republic",
           "marker": {
            "color": "#00cc96",
            "size": [
             18571630000
            ],
            "sizemode": "area",
            "sizeref": 1119177225,
            "symbol": "circle"
           },
           "mode": "markers",
           "name": "Slovak Republic",
           "orientation": "v",
           "showlegend": true,
           "type": "scatter",
           "x": [
            18571630000
           ],
           "xaxis": "x",
           "y": [
            204000000
           ],
           "yaxis": "y"
          },
          {
           "hovertemplate": "<b>%{hovertext}</b><br><br>Country=Slovenia<br>Year=1999<br>GDP=%{marker.size}<br>RoadSpending=%{y}<extra></extra>",
           "hovertext": [
            "Slovenia"
           ],
           "legendgroup": "Slovenia",
           "marker": {
            "color": "#ab63fa",
            "size": [
             20174520000
            ],
            "sizemode": "area",
            "sizeref": 1119177225,
            "symbol": "circle"
           },
           "mode": "markers",
           "name": "Slovenia",
           "orientation": "v",
           "showlegend": true,
           "type": "scatter",
           "x": [
            20174520000
           ],
           "xaxis": "x",
           "y": [
            352000000
           ],
           "yaxis": "y"
          },
          {
           "hovertemplate": "<b>%{hovertext}</b><br><br>Country=Spain<br>Year=1999<br>GDP=%{marker.size}<br>RoadSpending=%{y}<extra></extra>",
           "hovertext": [
            "Spain"
           ],
           "legendgroup": "Spain",
           "marker": {
            "color": "#FFA15A",
            "size": [
             565172250000
            ],
            "sizemode": "area",
            "sizeref": 1119177225,
            "symbol": "circle"
           },
           "mode": "markers",
           "name": "Spain",
           "orientation": "v",
           "showlegend": true,
           "type": "scatter",
           "x": [
            565172250000
           ],
           "xaxis": "x",
           "y": [
            4328000000
           ],
           "yaxis": "y"
          },
          {
           "hovertemplate": "<b>%{hovertext}</b><br><br>Country=Sweden<br>Year=1999<br>GDP=%{marker.size}<br>RoadSpending=%{y}<extra></extra>",
           "hovertext": [
            "Sweden"
           ],
           "legendgroup": "Sweden",
           "marker": {
            "color": "#19d3f3",
            "size": [
             244143910000.00003
            ],
            "sizemode": "area",
            "sizeref": 1119177225,
            "symbol": "circle"
           },
           "mode": "markers",
           "name": "Sweden",
           "orientation": "v",
           "showlegend": true,
           "type": "scatter",
           "x": [
            244143910000.00003
           ],
           "xaxis": "x",
           "y": [
            926199178.2
           ],
           "yaxis": "y"
          }
         ],
         "name": "1999"
        },
        {
         "data": [
          {
           "hovertemplate": "<b>%{hovertext}</b><br><br>Country=Austria<br>Year=2000<br>GDP=%{marker.size}<br>RoadSpending=%{y}<extra></extra>",
           "hovertext": [
            "Austria"
           ],
           "legendgroup": "Austria",
           "marker": {
            "color": "#636efa",
            "size": [
             175665530000
            ],
            "sizemode": "area",
            "sizeref": 1119177225,
            "symbol": "circle"
           },
           "mode": "markers",
           "name": "Austria",
           "orientation": "v",
           "showlegend": true,
           "type": "scatter",
           "x": [
            175665530000
           ],
           "xaxis": "x",
           "y": [
            475000000
           ],
           "yaxis": "y"
          },
          {
           "hovertemplate": "<b>%{hovertext}</b><br><br>Country=Belgium<br>Year=2000<br>GDP=%{marker.size}<br>RoadSpending=%{y}<extra></extra>",
           "hovertext": [
            "Belgium"
           ],
           "legendgroup": "Belgium",
           "marker": {
            "color": "#EF553B",
            "size": [
             210838330000
            ],
            "sizemode": "area",
            "sizeref": 1119177225,
            "symbol": "circle"
           },
           "mode": "markers",
           "name": "Belgium",
           "orientation": "v",
           "showlegend": true,
           "type": "scatter",
           "x": [
            210838330000
           ],
           "xaxis": "x",
           "y": [
            149000000
           ],
           "yaxis": "y"
          },
          {
           "hovertemplate": "<b>%{hovertext}</b><br><br>Country=Bulgaria<br>Year=2000<br>GDP=%{marker.size}<br>RoadSpending=%{y}<extra></extra>",
           "hovertext": [
            "Bulgaria"
           ],
           "legendgroup": "Bulgaria",
           "marker": {
            "color": "#00cc96",
            "size": [
             11788940000
            ],
            "sizemode": "area",
            "sizeref": 1119177225,
            "symbol": "circle"
           },
           "mode": "markers",
           "name": "Bulgaria",
           "orientation": "v",
           "showlegend": true,
           "type": "scatter",
           "x": [
            11788940000
           ],
           "xaxis": "x",
           "y": [
            null
           ],
           "yaxis": "y"
          },
          {
           "hovertemplate": "<b>%{hovertext}</b><br><br>Country=Croatia<br>Year=2000<br>GDP=%{marker.size}<br>RoadSpending=%{y}<extra></extra>",
           "hovertext": [
            "Croatia"
           ],
           "legendgroup": "Croatia",
           "marker": {
            "color": "#ab63fa",
            "size": [
             19702820000
            ],
            "sizemode": "area",
            "sizeref": 1119177225,
            "symbol": "circle"
           },
           "mode": "markers",
           "name": "Croatia",
           "orientation": "v",
           "showlegend": true,
           "type": "scatter",
           "x": [
            19702820000
           ],
           "xaxis": "x",
           "y": [
            308713252.4
           ],
           "yaxis": "y"
          },
          {
           "hovertemplate": "<b>%{hovertext}</b><br><br>Country=Czechia<br>Year=2000<br>GDP=%{marker.size}<br>RoadSpending=%{y}<extra></extra>",
           "hovertext": [
            "Czechia"
           ],
           "legendgroup": "Czechia",
           "marker": {
            "color": "#FFA15A",
            "size": [
             55332190000
            ],
            "sizemode": "area",
            "sizeref": 1119177225,
            "symbol": "circle"
           },
           "mode": "markers",
           "name": "Czechia",
           "orientation": "v",
           "showlegend": true,
           "type": "scatter",
           "x": [
            55332190000
           ],
           "xaxis": "x",
           "y": [
            308618742.9
           ],
           "yaxis": "y"
          },
          {
           "hovertemplate": "<b>%{hovertext}</b><br><br>Country=Denmark<br>Year=2000<br>GDP=%{marker.size}<br>RoadSpending=%{y}<extra></extra>",
           "hovertext": [
            "Denmark"
           ],
           "legendgroup": "Denmark",
           "marker": {
            "color": "#19d3f3",
            "size": [
             145998270000
            ],
            "sizemode": "area",
            "sizeref": 1119177225,
            "symbol": "circle"
           },
           "mode": "markers",
           "name": "Denmark",
           "orientation": "v",
           "showlegend": true,
           "type": "scatter",
           "x": [
            145998270000
           ],
           "xaxis": "x",
           "y": [
            454533258.2
           ],
           "yaxis": "y"
          },
          {
           "hovertemplate": "<b>%{hovertext}</b><br><br>Country=Estonia<br>Year=2000<br>GDP=%{marker.size}<br>RoadSpending=%{y}<extra></extra>",
           "hovertext": [
            "Estonia"
           ],
           "legendgroup": "Estonia",
           "marker": {
            "color": "#FF6692",
            "size": [
             5079230000
            ],
            "sizemode": "area",
            "sizeref": 1119177225,
            "symbol": "circle"
           },
           "mode": "markers",
           "name": "Estonia",
           "orientation": "v",
           "showlegend": true,
           "type": "scatter",
           "x": [
            5079230000
           ],
           "xaxis": "x",
           "y": [
            22000000
           ],
           "yaxis": "y"
          },
          {
           "hovertemplate": "<b>%{hovertext}</b><br><br>Country=Finland<br>Year=2000<br>GDP=%{marker.size}<br>RoadSpending=%{y}<extra></extra>",
           "hovertext": [
            "Finland"
           ],
           "legendgroup": "Finland",
           "marker": {
            "color": "#B6E880",
            "size": [
             112160470000
            ],
            "sizemode": "area",
            "sizeref": 1119177225,
            "symbol": "circle"
           },
           "mode": "markers",
           "name": "Finland",
           "orientation": "v",
           "showlegend": true,
           "type": "scatter",
           "x": [
            112160470000
           ],
           "xaxis": "x",
           "y": [
            488000000
           ],
           "yaxis": "y"
          },
          {
           "hovertemplate": "<b>%{hovertext}</b><br><br>Country=France<br>Year=2000<br>GDP=%{marker.size}<br>RoadSpending=%{y}<extra></extra>",
           "hovertext": [
            "France"
           ],
           "legendgroup": "France",
           "marker": {
            "color": "#FF97FF",
            "size": [
             1211788400000
            ],
            "sizemode": "area",
            "sizeref": 1119177225,
            "symbol": "circle"
           },
           "mode": "markers",
           "name": "France",
           "orientation": "v",
           "showlegend": true,
           "type": "scatter",
           "x": [
            1211788400000
           ],
           "xaxis": "x",
           "y": [
            10940364409
           ],
           "yaxis": "y"
          },
          {
           "hovertemplate": "<b>%{hovertext}</b><br><br>Country=Germany<br>Year=2000<br>GDP=%{marker.size}<br>RoadSpending=%{y}<extra></extra>",
           "hovertext": [
            "Germany"
           ],
           "legendgroup": "Germany",
           "marker": {
            "color": "#FECB52",
            "size": [
             1751386500000
            ],
            "sizemode": "area",
            "sizeref": 1119177225,
            "symbol": "circle"
           },
           "mode": "markers",
           "name": "Germany",
           "orientation": "v",
           "showlegend": true,
           "type": "scatter",
           "x": [
            1751386500000
           ],
           "xaxis": "x",
           "y": [
            11967000000
           ],
           "yaxis": "y"
          },
          {
           "hovertemplate": "<b>%{hovertext}</b><br><br>Country=Greece<br>Year=2000<br>GDP=%{marker.size}<br>RoadSpending=%{y}<extra></extra>",
           "hovertext": [
            "Greece"
           ],
           "legendgroup": "Greece",
           "marker": {
            "color": "#636efa",
            "size": [
             117656220000
            ],
            "sizemode": "area",
            "sizeref": 1119177225,
            "symbol": "circle"
           },
           "mode": "markers",
           "name": "Greece",
           "orientation": "v",
           "showlegend": true,
           "type": "scatter",
           "x": [
            117656220000
           ],
           "xaxis": "x",
           "y": [
            1402000000
           ],
           "yaxis": "y"
          },
          {
           "hovertemplate": "<b>%{hovertext}</b><br><br>Country=Hungary<br>Year=2000<br>GDP=%{marker.size}<br>RoadSpending=%{y}<extra></extra>",
           "hovertext": [
            "Hungary"
           ],
           "legendgroup": "Hungary",
           "marker": {
            "color": "#EF553B",
            "size": [
             42024020000
            ],
            "sizemode": "area",
            "sizeref": 1119177225,
            "symbol": "circle"
           },
           "mode": "markers",
           "name": "Hungary",
           "orientation": "v",
           "showlegend": true,
           "type": "scatter",
           "x": [
            42024020000
           ],
           "xaxis": "x",
           "y": [
            176594406.2
           ],
           "yaxis": "y"
          },
          {
           "hovertemplate": "<b>%{hovertext}</b><br><br>Country=Ireland<br>Year=2000<br>GDP=%{marker.size}<br>RoadSpending=%{y}<extra></extra>",
           "hovertext": [
            "Ireland"
           ],
           "legendgroup": "Ireland",
           "marker": {
            "color": "#00cc96",
            "size": [
             89225170000
            ],
            "sizemode": "area",
            "sizeref": 1119177225,
            "symbol": "circle"
           },
           "mode": "markers",
           "name": "Ireland",
           "orientation": "v",
           "showlegend": true,
           "type": "scatter",
           "x": [
            89225170000
           ],
           "xaxis": "x",
           "y": [
            893000000
           ],
           "yaxis": "y"
          },
          {
           "hovertemplate": "<b>%{hovertext}</b><br><br>Country=Italy<br>Year=2000<br>GDP=%{marker.size}<br>RoadSpending=%{y}<extra></extra>",
           "hovertext": [
            "Italy"
           ],
           "legendgroup": "Italy",
           "marker": {
            "color": "#ab63fa",
            "size": [
             1023650410000
            ],
            "sizemode": "area",
            "sizeref": 1119177225,
            "symbol": "circle"
           },
           "mode": "markers",
           "name": "Italy",
           "orientation": "v",
           "showlegend": true,
           "type": "scatter",
           "x": [
            1023650410000
           ],
           "xaxis": "x",
           "y": [
            6930000000
           ],
           "yaxis": "y"
          },
          {
           "hovertemplate": "<b>%{hovertext}</b><br><br>Country=Latvia<br>Year=2000<br>GDP=%{marker.size}<br>RoadSpending=%{y}<extra></extra>",
           "hovertext": [
            "Latvia"
           ],
           "legendgroup": "Latvia",
           "marker": {
            "color": "#FFA15A",
            "size": [
             7087070000
            ],
            "sizemode": "area",
            "sizeref": 1119177225,
            "symbol": "circle"
           },
           "mode": "markers",
           "name": "Latvia",
           "orientation": "v",
           "showlegend": true,
           "type": "scatter",
           "x": [
            7087070000
           ],
           "xaxis": "x",
           "y": [
            8000000
           ],
           "yaxis": "y"
          },
          {
           "hovertemplate": "<b>%{hovertext}</b><br><br>Country=Lithuania<br>Year=2000<br>GDP=%{marker.size}<br>RoadSpending=%{y}<extra></extra>",
           "hovertext": [
            "Lithuania"
           ],
           "legendgroup": "Lithuania",
           "marker": {
            "color": "#19d3f3",
            "size": [
             10243010000
            ],
            "sizemode": "area",
            "sizeref": 1119177225,
            "symbol": "circle"
           },
           "mode": "markers",
           "name": "Lithuania",
           "orientation": "v",
           "showlegend": true,
           "type": "scatter",
           "x": [
            10243010000
           ],
           "xaxis": "x",
           "y": [
            109000000
           ],
           "yaxis": "y"
          },
          {
           "hovertemplate": "<b>%{hovertext}</b><br><br>Country=Luxembourg<br>Year=2000<br>GDP=%{marker.size}<br>RoadSpending=%{y}<extra></extra>",
           "hovertext": [
            "Luxembourg"
           ],
           "legendgroup": "Luxembourg",
           "marker": {
            "color": "#FF6692",
            "size": [
             18903600000
            ],
            "sizemode": "area",
            "sizeref": 1119177225,
            "symbol": "circle"
           },
           "mode": "markers",
           "name": "Luxembourg",
           "orientation": "v",
           "showlegend": true,
           "type": "scatter",
           "x": [
            18903600000
           ],
           "xaxis": "x",
           "y": [
            166020801.2
           ],
           "yaxis": "y"
          },
          {
           "hovertemplate": "<b>%{hovertext}</b><br><br>Country=Malta<br>Year=2000<br>GDP=%{marker.size}<br>RoadSpending=%{y}<extra></extra>",
           "hovertext": [
            "Malta"
           ],
           "legendgroup": "Malta",
           "marker": {
            "color": "#B6E880",
            "size": [
             3825220000
            ],
            "sizemode": "area",
            "sizeref": 1119177225,
            "symbol": "circle"
           },
           "mode": "markers",
           "name": "Malta",
           "orientation": "v",
           "showlegend": true,
           "type": "scatter",
           "x": [
            3825220000
           ],
           "xaxis": "x",
           "y": [
            5690477.522
           ],
           "yaxis": "y"
          },
          {
           "hovertemplate": "<b>%{hovertext}</b><br><br>Country=Netherlands<br>Year=2000<br>GDP=%{marker.size}<br>RoadSpending=%{y}<extra></extra>",
           "hovertext": [
            "Netherlands"
           ],
           "legendgroup": "Netherlands",
           "marker": {
            "color": "#FF97FF",
            "size": [
             371872260000
            ],
            "sizemode": "area",
            "sizeref": 1119177225,
            "symbol": "circle"
           },
           "mode": "markers",
           "name": "Netherlands",
           "orientation": "v",
           "showlegend": true,
           "type": "scatter",
           "x": [
            371872260000
           ],
           "xaxis": "x",
           "y": [
            1727000000
           ],
           "yaxis": "y"
          },
          {
           "hovertemplate": "<b>%{hovertext}</b><br><br>Country=Poland<br>Year=2000<br>GDP=%{marker.size}<br>RoadSpending=%{y}<extra></extra>",
           "hovertext": [
            "Poland"
           ],
           "legendgroup": "Poland",
           "marker": {
            "color": "#FECB52",
            "size": [
             152735570000
            ],
            "sizemode": "area",
            "sizeref": 1119177225,
            "symbol": "circle"
           },
           "mode": "markers",
           "name": "Poland",
           "orientation": "v",
           "showlegend": true,
           "type": "scatter",
           "x": [
            152735570000
           ],
           "xaxis": "x",
           "y": [
            1019511952
           ],
           "yaxis": "y"
          },
          {
           "hovertemplate": "<b>%{hovertext}</b><br><br>Country=Portugal<br>Year=2000<br>GDP=%{marker.size}<br>RoadSpending=%{y}<extra></extra>",
           "hovertext": [
            "Portugal"
           ],
           "legendgroup": "Portugal",
           "marker": {
            "color": "#636efa",
            "size": [
             105605620000
            ],
            "sizemode": "area",
            "sizeref": 1119177225,
            "symbol": "circle"
           },
           "mode": "markers",
           "name": "Portugal",
           "orientation": "v",
           "showlegend": true,
           "type": "scatter",
           "x": [
            105605620000
           ],
           "xaxis": "x",
           "y": [
            961000000
           ],
           "yaxis": "y"
          },
          {
           "hovertemplate": "<b>%{hovertext}</b><br><br>Country=Romania<br>Year=2000<br>GDP=%{marker.size}<br>RoadSpending=%{y}<extra></extra>",
           "hovertext": [
            "Romania"
           ],
           "legendgroup": "Romania",
           "marker": {
            "color": "#EF553B",
            "size": [
             33327830000
            ],
            "sizemode": "area",
            "sizeref": 1119177225,
            "symbol": "circle"
           },
           "mode": "markers",
           "name": "Romania",
           "orientation": "v",
           "showlegend": true,
           "type": "scatter",
           "x": [
            33327830000
           ],
           "xaxis": "x",
           "y": [
            630549285.2
           ],
           "yaxis": "y"
          },
          {
           "hovertemplate": "<b>%{hovertext}</b><br><br>Country=Slovak Republic<br>Year=2000<br>GDP=%{marker.size}<br>RoadSpending=%{y}<extra></extra>",
           "hovertext": [
            "Slovak Republic"
           ],
           "legendgroup": "Slovak Republic",
           "marker": {
            "color": "#00cc96",
            "size": [
             18449700000
            ],
            "sizemode": "area",
            "sizeref": 1119177225,
            "symbol": "circle"
           },
           "mode": "markers",
           "name": "Slovak Republic",
           "orientation": "v",
           "showlegend": true,
           "type": "scatter",
           "x": [
            18449700000
           ],
           "xaxis": "x",
           "y": [
            227000000
           ],
           "yaxis": "y"
          },
          {
           "hovertemplate": "<b>%{hovertext}</b><br><br>Country=Slovenia<br>Year=2000<br>GDP=%{marker.size}<br>RoadSpending=%{y}<extra></extra>",
           "hovertext": [
            "Slovenia"
           ],
           "legendgroup": "Slovenia",
           "marker": {
            "color": "#ab63fa",
            "size": [
             18033180000
            ],
            "sizemode": "area",
            "sizeref": 1119177225,
            "symbol": "circle"
           },
           "mode": "markers",
           "name": "Slovenia",
           "orientation": "v",
           "showlegend": true,
           "type": "scatter",
           "x": [
            18033180000
           ],
           "xaxis": "x",
           "y": [
            372000000
           ],
           "yaxis": "y"
          },
          {
           "hovertemplate": "<b>%{hovertext}</b><br><br>Country=Spain<br>Year=2000<br>GDP=%{marker.size}<br>RoadSpending=%{y}<extra></extra>",
           "hovertext": [
            "Spain"
           ],
           "legendgroup": "Spain",
           "marker": {
            "color": "#FFA15A",
            "size": [
             532546630000
            ],
            "sizemode": "area",
            "sizeref": 1119177225,
            "symbol": "circle"
           },
           "mode": "markers",
           "name": "Spain",
           "orientation": "v",
           "showlegend": true,
           "type": "scatter",
           "x": [
            532546630000
           ],
           "xaxis": "x",
           "y": [
            4792000000
           ],
           "yaxis": "y"
          },
          {
           "hovertemplate": "<b>%{hovertext}</b><br><br>Country=Sweden<br>Year=2000<br>GDP=%{marker.size}<br>RoadSpending=%{y}<extra></extra>",
           "hovertext": [
            "Sweden"
           ],
           "legendgroup": "Sweden",
           "marker": {
            "color": "#19d3f3",
            "size": [
             233984560000
            ],
            "sizemode": "area",
            "sizeref": 1119177225,
            "symbol": "circle"
           },
           "mode": "markers",
           "name": "Sweden",
           "orientation": "v",
           "showlegend": true,
           "type": "scatter",
           "x": [
            233984560000
           ],
           "xaxis": "x",
           "y": [
            912040161.5
           ],
           "yaxis": "y"
          }
         ],
         "name": "2000"
        },
        {
         "data": [
          {
           "hovertemplate": "<b>%{hovertext}</b><br><br>Country=Austria<br>Year=2001<br>GDP=%{marker.size}<br>RoadSpending=%{y}<extra></extra>",
           "hovertext": [
            "Austria"
           ],
           "legendgroup": "Austria",
           "marker": {
            "color": "#636efa",
            "size": [
             175783900000
            ],
            "sizemode": "area",
            "sizeref": 1119177225,
            "symbol": "circle"
           },
           "mode": "markers",
           "name": "Austria",
           "orientation": "v",
           "showlegend": true,
           "type": "scatter",
           "x": [
            175783900000
           ],
           "xaxis": "x",
           "y": [
            640000000
           ],
           "yaxis": "y"
          },
          {
           "hovertemplate": "<b>%{hovertext}</b><br><br>Country=Belgium<br>Year=2001<br>GDP=%{marker.size}<br>RoadSpending=%{y}<extra></extra>",
           "hovertext": [
            "Belgium"
           ],
           "legendgroup": "Belgium",
           "marker": {
            "color": "#EF553B",
            "size": [
             210705720000
            ],
            "sizemode": "area",
            "sizeref": 1119177225,
            "symbol": "circle"
           },
           "mode": "markers",
           "name": "Belgium",
           "orientation": "v",
           "showlegend": true,
           "type": "scatter",
           "x": [
            210705720000
           ],
           "xaxis": "x",
           "y": [
            147000000
           ],
           "yaxis": "y"
          },
          {
           "hovertemplate": "<b>%{hovertext}</b><br><br>Country=Bulgaria<br>Year=2001<br>GDP=%{marker.size}<br>RoadSpending=%{y}<extra></extra>",
           "hovertext": [
            "Bulgaria"
           ],
           "legendgroup": "Bulgaria",
           "marker": {
            "color": "#00cc96",
            "size": [
             12622870000
            ],
            "sizemode": "area",
            "sizeref": 1119177225,
            "symbol": "circle"
           },
           "mode": "markers",
           "name": "Bulgaria",
           "orientation": "v",
           "showlegend": true,
           "type": "scatter",
           "x": [
            12622870000
           ],
           "xaxis": "x",
           "y": [
            null
           ],
           "yaxis": "y"
          },
          {
           "hovertemplate": "<b>%{hovertext}</b><br><br>Country=Croatia<br>Year=2001<br>GDP=%{marker.size}<br>RoadSpending=%{y}<extra></extra>",
           "hovertext": [
            "Croatia"
           ],
           "legendgroup": "Croatia",
           "marker": {
            "color": "#ab63fa",
            "size": [
             20526070000
            ],
            "sizemode": "area",
            "sizeref": 1119177225,
            "symbol": "circle"
           },
           "mode": "markers",
           "name": "Croatia",
           "orientation": "v",
           "showlegend": true,
           "type": "scatter",
           "x": [
            20526070000
           ],
           "xaxis": "x",
           "y": [
            302608003.2
           ],
           "yaxis": "y"
          },
          {
           "hovertemplate": "<b>%{hovertext}</b><br><br>Country=Czechia<br>Year=2001<br>GDP=%{marker.size}<br>RoadSpending=%{y}<extra></extra>",
           "hovertext": [
            "Czechia"
           ],
           "legendgroup": "Czechia",
           "marker": {
            "color": "#FFA15A",
            "size": [
             60641039999.99999
            ],
            "sizemode": "area",
            "sizeref": 1119177225,
            "symbol": "circle"
           },
           "mode": "markers",
           "name": "Czechia",
           "orientation": "v",
           "showlegend": true,
           "type": "scatter",
           "x": [
            60641039999.99999
           ],
           "xaxis": "x",
           "y": [
            302459964.6
           ],
           "yaxis": "y"
          },
          {
           "hovertemplate": "<b>%{hovertext}</b><br><br>Country=Denmark<br>Year=2001<br>GDP=%{marker.size}<br>RoadSpending=%{y}<extra></extra>",
           "hovertext": [
            "Denmark"
           ],
           "legendgroup": "Denmark",
           "marker": {
            "color": "#19d3f3",
            "size": [
             146744090000
            ],
            "sizemode": "area",
            "sizeref": 1119177225,
            "symbol": "circle"
           },
           "mode": "markers",
           "name": "Denmark",
           "orientation": "v",
           "showlegend": true,
           "type": "scatter",
           "x": [
            146744090000
           ],
           "xaxis": "x",
           "y": [
            497034432.8
           ],
           "yaxis": "y"
          },
          {
           "hovertemplate": "<b>%{hovertext}</b><br><br>Country=Estonia<br>Year=2001<br>GDP=%{marker.size}<br>RoadSpending=%{y}<extra></extra>",
           "hovertext": [
            "Estonia"
           ],
           "legendgroup": "Estonia",
           "marker": {
            "color": "#FF6692",
            "size": [
             5583860000
            ],
            "sizemode": "area",
            "sizeref": 1119177225,
            "symbol": "circle"
           },
           "mode": "markers",
           "name": "Estonia",
           "orientation": "v",
           "showlegend": true,
           "type": "scatter",
           "x": [
            5583860000
           ],
           "xaxis": "x",
           "y": [
            22000000
           ],
           "yaxis": "y"
          },
          {
           "hovertemplate": "<b>%{hovertext}</b><br><br>Country=Finland<br>Year=2001<br>GDP=%{marker.size}<br>RoadSpending=%{y}<extra></extra>",
           "hovertext": [
            "Finland"
           ],
           "legendgroup": "Finland",
           "marker": {
            "color": "#B6E880",
            "size": [
             115273689999.99998
            ],
            "sizemode": "area",
            "sizeref": 1119177225,
            "symbol": "circle"
           },
           "mode": "markers",
           "name": "Finland",
           "orientation": "v",
           "showlegend": true,
           "type": "scatter",
           "x": [
            115273689999.99998
           ],
           "xaxis": "x",
           "y": [
            508000000
           ],
           "yaxis": "y"
          },
          {
           "hovertemplate": "<b>%{hovertext}</b><br><br>Country=France<br>Year=2001<br>GDP=%{marker.size}<br>RoadSpending=%{y}<extra></extra>",
           "hovertext": [
            "France"
           ],
           "legendgroup": "France",
           "marker": {
            "color": "#FF97FF",
            "size": [
             1219643540000
            ],
            "sizemode": "area",
            "sizeref": 1119177225,
            "symbol": "circle"
           },
           "mode": "markers",
           "name": "France",
           "orientation": "v",
           "showlegend": true,
           "type": "scatter",
           "x": [
            1219643540000
           ],
           "xaxis": "x",
           "y": [
            10920413960
           ],
           "yaxis": "y"
          },
          {
           "hovertemplate": "<b>%{hovertext}</b><br><br>Country=Germany<br>Year=2001<br>GDP=%{marker.size}<br>RoadSpending=%{y}<extra></extra>",
           "hovertext": [
            "Germany"
           ],
           "legendgroup": "Germany",
           "marker": {
            "color": "#FECB52",
            "size": [
             1750091550000
            ],
            "sizemode": "area",
            "sizeref": 1119177225,
            "symbol": "circle"
           },
           "mode": "markers",
           "name": "Germany",
           "orientation": "v",
           "showlegend": true,
           "type": "scatter",
           "x": [
            1750091550000
           ],
           "xaxis": "x",
           "y": [
            11558000000
           ],
           "yaxis": "y"
          },
          {
           "hovertemplate": "<b>%{hovertext}</b><br><br>Country=Greece<br>Year=2001<br>GDP=%{marker.size}<br>RoadSpending=%{y}<extra></extra>",
           "hovertext": [
            "Greece"
           ],
           "legendgroup": "Greece",
           "marker": {
            "color": "#636efa",
            "size": [
             121315900000
            ],
            "sizemode": "area",
            "sizeref": 1119177225,
            "symbol": "circle"
           },
           "mode": "markers",
           "name": "Greece",
           "orientation": "v",
           "showlegend": true,
           "type": "scatter",
           "x": [
            121315900000
           ],
           "xaxis": "x",
           "y": [
            1604000000
           ],
           "yaxis": "y"
          },
          {
           "hovertemplate": "<b>%{hovertext}</b><br><br>Country=Hungary<br>Year=2001<br>GDP=%{marker.size}<br>RoadSpending=%{y}<extra></extra>",
           "hovertext": [
            "Hungary"
           ],
           "legendgroup": "Hungary",
           "marker": {
            "color": "#EF553B",
            "size": [
             47837500000
            ],
            "sizemode": "area",
            "sizeref": 1119177225,
            "symbol": "circle"
           },
           "mode": "markers",
           "name": "Hungary",
           "orientation": "v",
           "showlegend": true,
           "type": "scatter",
           "x": [
            47837500000
           ],
           "xaxis": "x",
           "y": [
            236922316.8
           ],
           "yaxis": "y"
          },
          {
           "hovertemplate": "<b>%{hovertext}</b><br><br>Country=Ireland<br>Year=2001<br>GDP=%{marker.size}<br>RoadSpending=%{y}<extra></extra>",
           "hovertext": [
            "Ireland"
           ],
           "legendgroup": "Ireland",
           "marker": {
            "color": "#00cc96",
            "size": [
             97318830000
            ],
            "sizemode": "area",
            "sizeref": 1119177225,
            "symbol": "circle"
           },
           "mode": "markers",
           "name": "Ireland",
           "orientation": "v",
           "showlegend": true,
           "type": "scatter",
           "x": [
            97318830000
           ],
           "xaxis": "x",
           "y": [
            1228000000
           ],
           "yaxis": "y"
          },
          {
           "hovertemplate": "<b>%{hovertext}</b><br><br>Country=Italy<br>Year=2001<br>GDP=%{marker.size}<br>RoadSpending=%{y}<extra></extra>",
           "hovertext": [
            "Italy"
           ],
           "legendgroup": "Italy",
           "marker": {
            "color": "#ab63fa",
            "size": [
             1043123610000
            ],
            "sizemode": "area",
            "sizeref": 1119177225,
            "symbol": "circle"
           },
           "mode": "markers",
           "name": "Italy",
           "orientation": "v",
           "showlegend": true,
           "type": "scatter",
           "x": [
            1043123610000
           ],
           "xaxis": "x",
           "y": [
            4582000000
           ],
           "yaxis": "y"
          },
          {
           "hovertemplate": "<b>%{hovertext}</b><br><br>Country=Latvia<br>Year=2001<br>GDP=%{marker.size}<br>RoadSpending=%{y}<extra></extra>",
           "hovertext": [
            "Latvia"
           ],
           "legendgroup": "Latvia",
           "marker": {
            "color": "#FFA15A",
            "size": [
             7443070000
            ],
            "sizemode": "area",
            "sizeref": 1119177225,
            "symbol": "circle"
           },
           "mode": "markers",
           "name": "Latvia",
           "orientation": "v",
           "showlegend": true,
           "type": "scatter",
           "x": [
            7443070000
           ],
           "xaxis": "x",
           "y": [
            10000000
           ],
           "yaxis": "y"
          },
          {
           "hovertemplate": "<b>%{hovertext}</b><br><br>Country=Lithuania<br>Year=2001<br>GDP=%{marker.size}<br>RoadSpending=%{y}<extra></extra>",
           "hovertext": [
            "Lithuania"
           ],
           "legendgroup": "Lithuania",
           "marker": {
            "color": "#19d3f3",
            "size": [
             10891820000
            ],
            "sizemode": "area",
            "sizeref": 1119177225,
            "symbol": "circle"
           },
           "mode": "markers",
           "name": "Lithuania",
           "orientation": "v",
           "showlegend": true,
           "type": "scatter",
           "x": [
            10891820000
           ],
           "xaxis": "x",
           "y": [
            70000000
           ],
           "yaxis": "y"
          },
          {
           "hovertemplate": "<b>%{hovertext}</b><br><br>Country=Luxembourg<br>Year=2001<br>GDP=%{marker.size}<br>RoadSpending=%{y}<extra></extra>",
           "hovertext": [
            "Luxembourg"
           ],
           "legendgroup": "Luxembourg",
           "marker": {
            "color": "#FF6692",
            "size": [
             19035320000
            ],
            "sizemode": "area",
            "sizeref": 1119177225,
            "symbol": "circle"
           },
           "mode": "markers",
           "name": "Luxembourg",
           "orientation": "v",
           "showlegend": true,
           "type": "scatter",
           "x": [
            19035320000
           ],
           "xaxis": "x",
           "y": [
            185872400.7
           ],
           "yaxis": "y"
          },
          {
           "hovertemplate": "<b>%{hovertext}</b><br><br>Country=Malta<br>Year=2001<br>GDP=%{marker.size}<br>RoadSpending=%{y}<extra></extra>",
           "hovertext": [
            "Malta"
           ],
           "legendgroup": "Malta",
           "marker": {
            "color": "#B6E880",
            "size": [
             3861710000
            ],
            "sizemode": "area",
            "sizeref": 1119177225,
            "symbol": "circle"
           },
           "mode": "markers",
           "name": "Malta",
           "orientation": "v",
           "showlegend": true,
           "type": "scatter",
           "x": [
            3861710000
           ],
           "xaxis": "x",
           "y": [
            4401961.332
           ],
           "yaxis": "y"
          },
          {
           "hovertemplate": "<b>%{hovertext}</b><br><br>Country=Netherlands<br>Year=2001<br>GDP=%{marker.size}<br>RoadSpending=%{y}<extra></extra>",
           "hovertext": [
            "Netherlands"
           ],
           "legendgroup": "Netherlands",
           "marker": {
            "color": "#FF97FF",
            "size": [
             384959710000
            ],
            "sizemode": "area",
            "sizeref": 1119177225,
            "symbol": "circle"
           },
           "mode": "markers",
           "name": "Netherlands",
           "orientation": "v",
           "showlegend": true,
           "type": "scatter",
           "x": [
            384959710000
           ],
           "xaxis": "x",
           "y": [
            1847000000
           ],
           "yaxis": "y"
          },
          {
           "hovertemplate": "<b>%{hovertext}</b><br><br>Country=Poland<br>Year=2001<br>GDP=%{marker.size}<br>RoadSpending=%{y}<extra></extra>",
           "hovertext": [
            "Poland"
           ],
           "legendgroup": "Poland",
           "marker": {
            "color": "#FECB52",
            "size": [
             169816450000
            ],
            "sizemode": "area",
            "sizeref": 1119177225,
            "symbol": "circle"
           },
           "mode": "markers",
           "name": "Poland",
           "orientation": "v",
           "showlegend": true,
           "type": "scatter",
           "x": [
            169816450000
           ],
           "xaxis": "x",
           "y": [
            1094550409
           ],
           "yaxis": "y"
          },
          {
           "hovertemplate": "<b>%{hovertext}</b><br><br>Country=Portugal<br>Year=2001<br>GDP=%{marker.size}<br>RoadSpending=%{y}<extra></extra>",
           "hovertext": [
            "Portugal"
           ],
           "legendgroup": "Portugal",
           "marker": {
            "color": "#636efa",
            "size": [
             108228450000
            ],
            "sizemode": "area",
            "sizeref": 1119177225,
            "symbol": "circle"
           },
           "mode": "markers",
           "name": "Portugal",
           "orientation": "v",
           "showlegend": true,
           "type": "scatter",
           "x": [
            108228450000
           ],
           "xaxis": "x",
           "y": [
            1685000000
           ],
           "yaxis": "y"
          },
          {
           "hovertemplate": "<b>%{hovertext}</b><br><br>Country=Romania<br>Year=2001<br>GDP=%{marker.size}<br>RoadSpending=%{y}<extra></extra>",
           "hovertext": [
            "Romania"
           ],
           "legendgroup": "Romania",
           "marker": {
            "color": "#EF553B",
            "size": [
             35952440000
            ],
            "sizemode": "area",
            "sizeref": 1119177225,
            "symbol": "circle"
           },
           "mode": "markers",
           "name": "Romania",
           "orientation": "v",
           "showlegend": true,
           "type": "scatter",
           "x": [
            35952440000
           ],
           "xaxis": "x",
           "y": [
            735486351.4
           ],
           "yaxis": "y"
          },
          {
           "hovertemplate": "<b>%{hovertext}</b><br><br>Country=Slovak Republic<br>Year=2001<br>GDP=%{marker.size}<br>RoadSpending=%{y}<extra></extra>",
           "hovertext": [
            "Slovak Republic"
           ],
           "legendgroup": "Slovak Republic",
           "marker": {
            "color": "#00cc96",
            "size": [
             19064690000
            ],
            "sizemode": "area",
            "sizeref": 1119177225,
            "symbol": "circle"
           },
           "mode": "markers",
           "name": "Slovak Republic",
           "orientation": "v",
           "showlegend": true,
           "type": "scatter",
           "x": [
            19064690000
           ],
           "xaxis": "x",
           "y": [
            201000000
           ],
           "yaxis": "y"
          },
          {
           "hovertemplate": "<b>%{hovertext}</b><br><br>Country=Slovenia<br>Year=2001<br>GDP=%{marker.size}<br>RoadSpending=%{y}<extra></extra>",
           "hovertext": [
            "Slovenia"
           ],
           "legendgroup": "Slovenia",
           "marker": {
            "color": "#ab63fa",
            "size": [
             18416770000
            ],
            "sizemode": "area",
            "sizeref": 1119177225,
            "symbol": "circle"
           },
           "mode": "markers",
           "name": "Slovenia",
           "orientation": "v",
           "showlegend": true,
           "type": "scatter",
           "x": [
            18416770000
           ],
           "xaxis": "x",
           "y": [
            284000000
           ],
           "yaxis": "y"
          },
          {
           "hovertemplate": "<b>%{hovertext}</b><br><br>Country=Spain<br>Year=2001<br>GDP=%{marker.size}<br>RoadSpending=%{y}<extra></extra>",
           "hovertext": [
            "Spain"
           ],
           "legendgroup": "Spain",
           "marker": {
            "color": "#FFA15A",
            "size": [
             558744670000
            ],
            "sizemode": "area",
            "sizeref": 1119177225,
            "symbol": "circle"
           },
           "mode": "markers",
           "name": "Spain",
           "orientation": "v",
           "showlegend": true,
           "type": "scatter",
           "x": [
            558744670000
           ],
           "xaxis": "x",
           "y": [
            5558000000
           ],
           "yaxis": "y"
          },
          {
           "hovertemplate": "<b>%{hovertext}</b><br><br>Country=Sweden<br>Year=2001<br>GDP=%{marker.size}<br>RoadSpending=%{y}<extra></extra>",
           "hovertext": [
            "Sweden"
           ],
           "legendgroup": "Sweden",
           "marker": {
            "color": "#19d3f3",
            "size": [
             215823220000
            ],
            "sizemode": "area",
            "sizeref": 1119177225,
            "symbol": "circle"
           },
           "mode": "markers",
           "name": "Sweden",
           "orientation": "v",
           "showlegend": true,
           "type": "scatter",
           "x": [
            215823220000
           ],
           "xaxis": "x",
           "y": [
            1007379237
           ],
           "yaxis": "y"
          }
         ],
         "name": "2001"
        },
        {
         "data": [
          {
           "hovertemplate": "<b>%{hovertext}</b><br><br>Country=Austria<br>Year=2002<br>GDP=%{marker.size}<br>RoadSpending=%{y}<extra></extra>",
           "hovertext": [
            "Austria"
           ],
           "legendgroup": "Austria",
           "marker": {
            "color": "#636efa",
            "size": [
             190676270000
            ],
            "sizemode": "area",
            "sizeref": 1119177225,
            "symbol": "circle"
           },
           "mode": "markers",
           "name": "Austria",
           "orientation": "v",
           "showlegend": true,
           "type": "scatter",
           "x": [
            190676270000
           ],
           "xaxis": "x",
           "y": [
            null
           ],
           "yaxis": "y"
          },
          {
           "hovertemplate": "<b>%{hovertext}</b><br><br>Country=Belgium<br>Year=2002<br>GDP=%{marker.size}<br>RoadSpending=%{y}<extra></extra>",
           "hovertext": [
            "Belgium"
           ],
           "legendgroup": "Belgium",
           "marker": {
            "color": "#EF553B",
            "size": [
             229798000000
            ],
            "sizemode": "area",
            "sizeref": 1119177225,
            "symbol": "circle"
           },
           "mode": "markers",
           "name": "Belgium",
           "orientation": "v",
           "showlegend": true,
           "type": "scatter",
           "x": [
            229798000000
           ],
           "xaxis": "x",
           "y": [
            172000000
           ],
           "yaxis": "y"
          },
          {
           "hovertemplate": "<b>%{hovertext}</b><br><br>Country=Bulgaria<br>Year=2002<br>GDP=%{marker.size}<br>RoadSpending=%{y}<extra></extra>",
           "hovertext": [
            "Bulgaria"
           ],
           "legendgroup": "Bulgaria",
           "marker": {
            "color": "#00cc96",
            "size": [
             14598669999.999998
            ],
            "sizemode": "area",
            "sizeref": 1119177225,
            "symbol": "circle"
           },
           "mode": "markers",
           "name": "Bulgaria",
           "orientation": "v",
           "showlegend": true,
           "type": "scatter",
           "x": [
            14598669999.999998
           ],
           "xaxis": "x",
           "y": [
            null
           ],
           "yaxis": "y"
          },
          {
           "hovertemplate": "<b>%{hovertext}</b><br><br>Country=Croatia<br>Year=2002<br>GDP=%{marker.size}<br>RoadSpending=%{y}<extra></extra>",
           "hovertext": [
            "Croatia"
           ],
           "legendgroup": "Croatia",
           "marker": {
            "color": "#ab63fa",
            "size": [
             23797710000
            ],
            "sizemode": "area",
            "sizeref": 1119177225,
            "symbol": "circle"
           },
           "mode": "markers",
           "name": "Croatia",
           "orientation": "v",
           "showlegend": true,
           "type": "scatter",
           "x": [
            23797710000
           ],
           "xaxis": "x",
           "y": [
            605746897.6
           ],
           "yaxis": "y"
          },
          {
           "hovertemplate": "<b>%{hovertext}</b><br><br>Country=Czechia<br>Year=2002<br>GDP=%{marker.size}<br>RoadSpending=%{y}<extra></extra>",
           "hovertext": [
            "Czechia"
           ],
           "legendgroup": "Czechia",
           "marker": {
            "color": "#FFA15A",
            "size": [
             73510440000
            ],
            "sizemode": "area",
            "sizeref": 1119177225,
            "symbol": "circle"
           },
           "mode": "markers",
           "name": "Czechia",
           "orientation": "v",
           "showlegend": true,
           "type": "scatter",
           "x": [
            73510440000
           ],
           "xaxis": "x",
           "y": [
            518284866.8
           ],
           "yaxis": "y"
          },
          {
           "hovertemplate": "<b>%{hovertext}</b><br><br>Country=Denmark<br>Year=2002<br>GDP=%{marker.size}<br>RoadSpending=%{y}<extra></extra>",
           "hovertext": [
            "Denmark"
           ],
           "legendgroup": "Denmark",
           "marker": {
            "color": "#19d3f3",
            "size": [
             159121320000
            ],
            "sizemode": "area",
            "sizeref": 1119177225,
            "symbol": "circle"
           },
           "mode": "markers",
           "name": "Denmark",
           "orientation": "v",
           "showlegend": true,
           "type": "scatter",
           "x": [
            159121320000
           ],
           "xaxis": "x",
           "y": [
            399165601.2
           ],
           "yaxis": "y"
          },
          {
           "hovertemplate": "<b>%{hovertext}</b><br><br>Country=Estonia<br>Year=2002<br>GDP=%{marker.size}<br>RoadSpending=%{y}<extra></extra>",
           "hovertext": [
            "Estonia"
           ],
           "legendgroup": "Estonia",
           "marker": {
            "color": "#FF6692",
            "size": [
             6579770000
            ],
            "sizemode": "area",
            "sizeref": 1119177225,
            "symbol": "circle"
           },
           "mode": "markers",
           "name": "Estonia",
           "orientation": "v",
           "showlegend": true,
           "type": "scatter",
           "x": [
            6579770000
           ],
           "xaxis": "x",
           "y": [
            47000000
           ],
           "yaxis": "y"
          },
          {
           "hovertemplate": "<b>%{hovertext}</b><br><br>Country=Finland<br>Year=2002<br>GDP=%{marker.size}<br>RoadSpending=%{y}<extra></extra>",
           "hovertext": [
            "Finland"
           ],
           "legendgroup": "Finland",
           "marker": {
            "color": "#B6E880",
            "size": [
             124833180000
            ],
            "sizemode": "area",
            "sizeref": 1119177225,
            "symbol": "circle"
           },
           "mode": "markers",
           "name": "Finland",
           "orientation": "v",
           "showlegend": true,
           "type": "scatter",
           "x": [
            124833180000
           ],
           "xaxis": "x",
           "y": [
            520000000
           ],
           "yaxis": "y"
          },
          {
           "hovertemplate": "<b>%{hovertext}</b><br><br>Country=France<br>Year=2002<br>GDP=%{marker.size}<br>RoadSpending=%{y}<extra></extra>",
           "hovertext": [
            "France"
           ],
           "legendgroup": "France",
           "marker": {
            "color": "#FF97FF",
            "size": [
             1327321970000
            ],
            "sizemode": "area",
            "sizeref": 1119177225,
            "symbol": "circle"
           },
           "mode": "markers",
           "name": "France",
           "orientation": "v",
           "showlegend": true,
           "type": "scatter",
           "x": [
            1327321970000
           ],
           "xaxis": "x",
           "y": [
            10345177749
           ],
           "yaxis": "y"
          },
          {
           "hovertemplate": "<b>%{hovertext}</b><br><br>Country=Germany<br>Year=2002<br>GDP=%{marker.size}<br>RoadSpending=%{y}<extra></extra>",
           "hovertext": [
            "Germany"
           ],
           "legendgroup": "Germany",
           "marker": {
            "color": "#FECB52",
            "size": [
             1869769849999.9998
            ],
            "sizemode": "area",
            "sizeref": 1119177225,
            "symbol": "circle"
           },
           "mode": "markers",
           "name": "Germany",
           "orientation": "v",
           "showlegend": true,
           "type": "scatter",
           "x": [
            1869769849999.9998
           ],
           "xaxis": "x",
           "y": [
            11595000000
           ],
           "yaxis": "y"
          },
          {
           "hovertemplate": "<b>%{hovertext}</b><br><br>Country=Greece<br>Year=2002<br>GDP=%{marker.size}<br>RoadSpending=%{y}<extra></extra>",
           "hovertext": [
            "Greece"
           ],
           "legendgroup": "Greece",
           "marker": {
            "color": "#636efa",
            "size": [
             137464950000
            ],
            "sizemode": "area",
            "sizeref": 1119177225,
            "symbol": "circle"
           },
           "mode": "markers",
           "name": "Greece",
           "orientation": "v",
           "showlegend": true,
           "type": "scatter",
           "x": [
            137464950000
           ],
           "xaxis": "x",
           "y": [
            1692000000
           ],
           "yaxis": "y"
          },
          {
           "hovertemplate": "<b>%{hovertext}</b><br><br>Country=Hungary<br>Year=2002<br>GDP=%{marker.size}<br>RoadSpending=%{y}<extra></extra>",
           "hovertext": [
            "Hungary"
           ],
           "legendgroup": "Hungary",
           "marker": {
            "color": "#EF553B",
            "size": [
             60172009999.99999
            ],
            "sizemode": "area",
            "sizeref": 1119177225,
            "symbol": "circle"
           },
           "mode": "markers",
           "name": "Hungary",
           "orientation": "v",
           "showlegend": true,
           "type": "scatter",
           "x": [
            60172009999.99999
           ],
           "xaxis": "x",
           "y": [
            283669489.2
           ],
           "yaxis": "y"
          },
          {
           "hovertemplate": "<b>%{hovertext}</b><br><br>Country=Ireland<br>Year=2002<br>GDP=%{marker.size}<br>RoadSpending=%{y}<extra></extra>",
           "hovertext": [
            "Ireland"
           ],
           "legendgroup": "Ireland",
           "marker": {
            "color": "#00cc96",
            "size": [
             114369450000
            ],
            "sizemode": "area",
            "sizeref": 1119177225,
            "symbol": "circle"
           },
           "mode": "markers",
           "name": "Ireland",
           "orientation": "v",
           "showlegend": true,
           "type": "scatter",
           "x": [
            114369450000
           ],
           "xaxis": "x",
           "y": [
            1430000000
           ],
           "yaxis": "y"
          },
          {
           "hovertemplate": "<b>%{hovertext}</b><br><br>Country=Italy<br>Year=2002<br>GDP=%{marker.size}<br>RoadSpending=%{y}<extra></extra>",
           "hovertext": [
            "Italy"
           ],
           "legendgroup": "Italy",
           "marker": {
            "color": "#ab63fa",
            "size": [
             1139947600000
            ],
            "sizemode": "area",
            "sizeref": 1119177225,
            "symbol": "circle"
           },
           "mode": "markers",
           "name": "Italy",
           "orientation": "v",
           "showlegend": true,
           "type": "scatter",
           "x": [
            1139947600000
           ],
           "xaxis": "x",
           "y": [
            5071000000
           ],
           "yaxis": "y"
          },
          {
           "hovertemplate": "<b>%{hovertext}</b><br><br>Country=Latvia<br>Year=2002<br>GDP=%{marker.size}<br>RoadSpending=%{y}<extra></extra>",
           "hovertext": [
            "Latvia"
           ],
           "legendgroup": "Latvia",
           "marker": {
            "color": "#FFA15A",
            "size": [
             8511960000
            ],
            "sizemode": "area",
            "sizeref": 1119177225,
            "symbol": "circle"
           },
           "mode": "markers",
           "name": "Latvia",
           "orientation": "v",
           "showlegend": true,
           "type": "scatter",
           "x": [
            8511960000
           ],
           "xaxis": "x",
           "y": [
            8000000
           ],
           "yaxis": "y"
          },
          {
           "hovertemplate": "<b>%{hovertext}</b><br><br>Country=Lithuania<br>Year=2002<br>GDP=%{marker.size}<br>RoadSpending=%{y}<extra></extra>",
           "hovertext": [
            "Lithuania"
           ],
           "legendgroup": "Lithuania",
           "marker": {
            "color": "#19d3f3",
            "size": [
             12692290000
            ],
            "sizemode": "area",
            "sizeref": 1119177225,
            "symbol": "circle"
           },
           "mode": "markers",
           "name": "Lithuania",
           "orientation": "v",
           "showlegend": true,
           "type": "scatter",
           "x": [
            12692290000
           ],
           "xaxis": "x",
           "y": [
            112000000
           ],
           "yaxis": "y"
          },
          {
           "hovertemplate": "<b>%{hovertext}</b><br><br>Country=Luxembourg<br>Year=2002<br>GDP=%{marker.size}<br>RoadSpending=%{y}<extra></extra>",
           "hovertext": [
            "Luxembourg"
           ],
           "legendgroup": "Luxembourg",
           "marker": {
            "color": "#FF6692",
            "size": [
             21033370000
            ],
            "sizemode": "area",
            "sizeref": 1119177225,
            "symbol": "circle"
           },
           "mode": "markers",
           "name": "Luxembourg",
           "orientation": "v",
           "showlegend": true,
           "type": "scatter",
           "x": [
            21033370000
           ],
           "xaxis": "x",
           "y": [
            212893775.4
           ],
           "yaxis": "y"
          },
          {
           "hovertemplate": "<b>%{hovertext}</b><br><br>Country=Malta<br>Year=2002<br>GDP=%{marker.size}<br>RoadSpending=%{y}<extra></extra>",
           "hovertext": [
            "Malta"
           ],
           "legendgroup": "Malta",
           "marker": {
            "color": "#B6E880",
            "size": [
             4168760000
            ],
            "sizemode": "area",
            "sizeref": 1119177225,
            "symbol": "circle"
           },
           "mode": "markers",
           "name": "Malta",
           "orientation": "v",
           "showlegend": true,
           "type": "scatter",
           "x": [
            4168760000
           ],
           "xaxis": "x",
           "y": [
            9894942.93
           ],
           "yaxis": "y"
          },
          {
           "hovertemplate": "<b>%{hovertext}</b><br><br>Country=Netherlands<br>Year=2002<br>GDP=%{marker.size}<br>RoadSpending=%{y}<extra></extra>",
           "hovertext": [
            "Netherlands"
           ],
           "legendgroup": "Netherlands",
           "marker": {
            "color": "#FF97FF",
            "size": [
             422922660000
            ],
            "sizemode": "area",
            "sizeref": 1119177225,
            "symbol": "circle"
           },
           "mode": "markers",
           "name": "Netherlands",
           "orientation": "v",
           "showlegend": true,
           "type": "scatter",
           "x": [
            422922660000
           ],
           "xaxis": "x",
           "y": [
            2279000000
           ],
           "yaxis": "y"
          },
          {
           "hovertemplate": "<b>%{hovertext}</b><br><br>Country=Poland<br>Year=2002<br>GDP=%{marker.size}<br>RoadSpending=%{y}<extra></extra>",
           "hovertext": [
            "Poland"
           ],
           "legendgroup": "Poland",
           "marker": {
            "color": "#FECB52",
            "size": [
             177172300000
            ],
            "sizemode": "area",
            "sizeref": 1119177225,
            "symbol": "circle"
           },
           "mode": "markers",
           "name": "Poland",
           "orientation": "v",
           "showlegend": true,
           "type": "scatter",
           "x": [
            177172300000
           ],
           "xaxis": "x",
           "y": [
            1035941352
           ],
           "yaxis": "y"
          },
          {
           "hovertemplate": "<b>%{hovertext}</b><br><br>Country=Portugal<br>Year=2002<br>GDP=%{marker.size}<br>RoadSpending=%{y}<extra></extra>",
           "hovertext": [
            "Portugal"
           ],
           "legendgroup": "Portugal",
           "marker": {
            "color": "#636efa",
            "size": [
             119882999999.99998
            ],
            "sizemode": "area",
            "sizeref": 1119177225,
            "symbol": "circle"
           },
           "mode": "markers",
           "name": "Portugal",
           "orientation": "v",
           "showlegend": true,
           "type": "scatter",
           "x": [
            119882999999.99998
           ],
           "xaxis": "x",
           "y": [
            1620000000
           ],
           "yaxis": "y"
          },
          {
           "hovertemplate": "<b>%{hovertext}</b><br><br>Country=Romania<br>Year=2002<br>GDP=%{marker.size}<br>RoadSpending=%{y}<extra></extra>",
           "hovertext": [
            "Romania"
           ],
           "legendgroup": "Romania",
           "marker": {
            "color": "#EF553B",
            "size": [
             40971150000
            ],
            "sizemode": "area",
            "sizeref": 1119177225,
            "symbol": "circle"
           },
           "mode": "markers",
           "name": "Romania",
           "orientation": "v",
           "showlegend": true,
           "type": "scatter",
           "x": [
            40971150000
           ],
           "xaxis": "x",
           "y": [
            634280594
           ],
           "yaxis": "y"
          },
          {
           "hovertemplate": "<b>%{hovertext}</b><br><br>Country=Slovak Republic<br>Year=2002<br>GDP=%{marker.size}<br>RoadSpending=%{y}<extra></extra>",
           "hovertext": [
            "Slovak Republic"
           ],
           "legendgroup": "Slovak Republic",
           "marker": {
            "color": "#00cc96",
            "size": [
             22150320000
            ],
            "sizemode": "area",
            "sizeref": 1119177225,
            "symbol": "circle"
           },
           "mode": "markers",
           "name": "Slovak Republic",
           "orientation": "v",
           "showlegend": true,
           "type": "scatter",
           "x": [
            22150320000
           ],
           "xaxis": "x",
           "y": [
            260000000
           ],
           "yaxis": "y"
          },
          {
           "hovertemplate": "<b>%{hovertext}</b><br><br>Country=Slovenia<br>Year=2002<br>GDP=%{marker.size}<br>RoadSpending=%{y}<extra></extra>",
           "hovertext": [
            "Slovenia"
           ],
           "legendgroup": "Slovenia",
           "marker": {
            "color": "#ab63fa",
            "size": [
             20704070000
            ],
            "sizemode": "area",
            "sizeref": 1119177225,
            "symbol": "circle"
           },
           "mode": "markers",
           "name": "Slovenia",
           "orientation": "v",
           "showlegend": true,
           "type": "scatter",
           "x": [
            20704070000
           ],
           "xaxis": "x",
           "y": [
            337000000
           ],
           "yaxis": "y"
          },
          {
           "hovertemplate": "<b>%{hovertext}</b><br><br>Country=Spain<br>Year=2002<br>GDP=%{marker.size}<br>RoadSpending=%{y}<extra></extra>",
           "hovertext": [
            "Spain"
           ],
           "legendgroup": "Spain",
           "marker": {
            "color": "#FFA15A",
            "size": [
             630508930000
            ],
            "sizemode": "area",
            "sizeref": 1119177225,
            "symbol": "circle"
           },
           "mode": "markers",
           "name": "Spain",
           "orientation": "v",
           "showlegend": true,
           "type": "scatter",
           "x": [
            630508930000
           ],
           "xaxis": "x",
           "y": [
            6874000000
           ],
           "yaxis": "y"
          },
          {
           "hovertemplate": "<b>%{hovertext}</b><br><br>Country=Sweden<br>Year=2002<br>GDP=%{marker.size}<br>RoadSpending=%{y}<extra></extra>",
           "hovertext": [
            "Sweden"
           ],
           "legendgroup": "Sweden",
           "marker": {
            "color": "#19d3f3",
            "size": [
             237961970000
            ],
            "sizemode": "area",
            "sizeref": 1119177225,
            "symbol": "circle"
           },
           "mode": "markers",
           "name": "Sweden",
           "orientation": "v",
           "showlegend": true,
           "type": "scatter",
           "x": [
            237961970000
           ],
           "xaxis": "x",
           "y": [
            1295665466
           ],
           "yaxis": "y"
          }
         ],
         "name": "2002"
        },
        {
         "data": [
          {
           "hovertemplate": "<b>%{hovertext}</b><br><br>Country=Austria<br>Year=2003<br>GDP=%{marker.size}<br>RoadSpending=%{y}<extra></extra>",
           "hovertext": [
            "Austria"
           ],
           "legendgroup": "Austria",
           "marker": {
            "color": "#636efa",
            "size": [
             233365120000.00003
            ],
            "sizemode": "area",
            "sizeref": 1119177225,
            "symbol": "circle"
           },
           "mode": "markers",
           "name": "Austria",
           "orientation": "v",
           "showlegend": true,
           "type": "scatter",
           "x": [
            233365120000.00003
           ],
           "xaxis": "x",
           "y": [
            null
           ],
           "yaxis": "y"
          },
          {
           "hovertemplate": "<b>%{hovertext}</b><br><br>Country=Belgium<br>Year=2003<br>GDP=%{marker.size}<br>RoadSpending=%{y}<extra></extra>",
           "hovertext": [
            "Belgium"
           ],
           "legendgroup": "Belgium",
           "marker": {
            "color": "#EF553B",
            "size": [
             283023560000
            ],
            "sizemode": "area",
            "sizeref": 1119177225,
            "symbol": "circle"
           },
           "mode": "markers",
           "name": "Belgium",
           "orientation": "v",
           "showlegend": true,
           "type": "scatter",
           "x": [
            283023560000
           ],
           "xaxis": "x",
           "y": [
            185000000
           ],
           "yaxis": "y"
          },
          {
           "hovertemplate": "<b>%{hovertext}</b><br><br>Country=Bulgaria<br>Year=2003<br>GDP=%{marker.size}<br>RoadSpending=%{y}<extra></extra>",
           "hovertext": [
            "Bulgaria"
           ],
           "legendgroup": "Bulgaria",
           "marker": {
            "color": "#00cc96",
            "size": [
             18819940000
            ],
            "sizemode": "area",
            "sizeref": 1119177225,
            "symbol": "circle"
           },
           "mode": "markers",
           "name": "Bulgaria",
           "orientation": "v",
           "showlegend": true,
           "type": "scatter",
           "x": [
            18819940000
           ],
           "xaxis": "x",
           "y": [
            null
           ],
           "yaxis": "y"
          },
          {
           "hovertemplate": "<b>%{hovertext}</b><br><br>Country=Croatia<br>Year=2003<br>GDP=%{marker.size}<br>RoadSpending=%{y}<extra></extra>",
           "hovertext": [
            "Croatia"
           ],
           "legendgroup": "Croatia",
           "marker": {
            "color": "#ab63fa",
            "size": [
             31371610000
            ],
            "sizemode": "area",
            "sizeref": 1119177225,
            "symbol": "circle"
           },
           "mode": "markers",
           "name": "Croatia",
           "orientation": "v",
           "showlegend": true,
           "type": "scatter",
           "x": [
            31371610000
           ],
           "xaxis": "x",
           "y": [
            1052226425
           ],
           "yaxis": "y"
          },
          {
           "hovertemplate": "<b>%{hovertext}</b><br><br>Country=Czechia<br>Year=2003<br>GDP=%{marker.size}<br>RoadSpending=%{y}<extra></extra>",
           "hovertext": [
            "Czechia"
           ],
           "legendgroup": "Czechia",
           "marker": {
            "color": "#FFA15A",
            "size": [
             89419190000
            ],
            "sizemode": "area",
            "sizeref": 1119177225,
            "symbol": "circle"
           },
           "mode": "markers",
           "name": "Czechia",
           "orientation": "v",
           "showlegend": true,
           "type": "scatter",
           "x": [
            89419190000
           ],
           "xaxis": "x",
           "y": [
            625637901.3
           ],
           "yaxis": "y"
          },
          {
           "hovertemplate": "<b>%{hovertext}</b><br><br>Country=Denmark<br>Year=2003<br>GDP=%{marker.size}<br>RoadSpending=%{y}<extra></extra>",
           "hovertext": [
            "Denmark"
           ],
           "legendgroup": "Denmark",
           "marker": {
            "color": "#19d3f3",
            "size": [
             194395580000
            ],
            "sizemode": "area",
            "sizeref": 1119177225,
            "symbol": "circle"
           },
           "mode": "markers",
           "name": "Denmark",
           "orientation": "v",
           "showlegend": true,
           "type": "scatter",
           "x": [
            194395580000
           ],
           "xaxis": "x",
           "y": [
            586620372.2
           ],
           "yaxis": "y"
          },
          {
           "hovertemplate": "<b>%{hovertext}</b><br><br>Country=Estonia<br>Year=2003<br>GDP=%{marker.size}<br>RoadSpending=%{y}<extra></extra>",
           "hovertext": [
            "Estonia"
           ],
           "legendgroup": "Estonia",
           "marker": {
            "color": "#FF6692",
            "size": [
             8805660000
            ],
            "sizemode": "area",
            "sizeref": 1119177225,
            "symbol": "circle"
           },
           "mode": "markers",
           "name": "Estonia",
           "orientation": "v",
           "showlegend": true,
           "type": "scatter",
           "x": [
            8805660000
           ],
           "xaxis": "x",
           "y": [
            48000000
           ],
           "yaxis": "y"
          },
          {
           "hovertemplate": "<b>%{hovertext}</b><br><br>Country=Finland<br>Year=2003<br>GDP=%{marker.size}<br>RoadSpending=%{y}<extra></extra>",
           "hovertext": [
            "Finland"
           ],
           "legendgroup": "Finland",
           "marker": {
            "color": "#B6E880",
            "size": [
             152697300000
            ],
            "sizemode": "area",
            "sizeref": 1119177225,
            "symbol": "circle"
           },
           "mode": "markers",
           "name": "Finland",
           "orientation": "v",
           "showlegend": true,
           "type": "scatter",
           "x": [
            152697300000
           ],
           "xaxis": "x",
           "y": [
            533000000
           ],
           "yaxis": "y"
          },
          {
           "hovertemplate": "<b>%{hovertext}</b><br><br>Country=France<br>Year=2003<br>GDP=%{marker.size}<br>RoadSpending=%{y}<extra></extra>",
           "hovertext": [
            "France"
           ],
           "legendgroup": "France",
           "marker": {
            "color": "#FF97FF",
            "size": [
             1632826930000
            ],
            "sizemode": "area",
            "sizeref": 1119177225,
            "symbol": "circle"
           },
           "mode": "markers",
           "name": "France",
           "orientation": "v",
           "showlegend": true,
           "type": "scatter",
           "x": [
            1632826930000
           ],
           "xaxis": "x",
           "y": [
            10990928004
           ],
           "yaxis": "y"
          },
          {
           "hovertemplate": "<b>%{hovertext}</b><br><br>Country=Germany<br>Year=2003<br>GDP=%{marker.size}<br>RoadSpending=%{y}<extra></extra>",
           "hovertext": [
            "Germany"
           ],
           "legendgroup": "Germany",
           "marker": {
            "color": "#FECB52",
            "size": [
             2255332090000
            ],
            "sizemode": "area",
            "sizeref": 1119177225,
            "symbol": "circle"
           },
           "mode": "markers",
           "name": "Germany",
           "orientation": "v",
           "showlegend": true,
           "type": "scatter",
           "x": [
            2255332090000
           ],
           "xaxis": "x",
           "y": [
            10790000000
           ],
           "yaxis": "y"
          },
          {
           "hovertemplate": "<b>%{hovertext}</b><br><br>Country=Greece<br>Year=2003<br>GDP=%{marker.size}<br>RoadSpending=%{y}<extra></extra>",
           "hovertext": [
            "Greece"
           ],
           "legendgroup": "Greece",
           "marker": {
            "color": "#636efa",
            "size": [
             180063910000
            ],
            "sizemode": "area",
            "sizeref": 1119177225,
            "symbol": "circle"
           },
           "mode": "markers",
           "name": "Greece",
           "orientation": "v",
           "showlegend": true,
           "type": "scatter",
           "x": [
            180063910000
           ],
           "xaxis": "x",
           "y": [
            1636000000
           ],
           "yaxis": "y"
          },
          {
           "hovertemplate": "<b>%{hovertext}</b><br><br>Country=Hungary<br>Year=2003<br>GDP=%{marker.size}<br>RoadSpending=%{y}<extra></extra>",
           "hovertext": [
            "Hungary"
           ],
           "legendgroup": "Hungary",
           "marker": {
            "color": "#EF553B",
            "size": [
             75903650000
            ],
            "sizemode": "area",
            "sizeref": 1119177225,
            "symbol": "circle"
           },
           "mode": "markers",
           "name": "Hungary",
           "orientation": "v",
           "showlegend": true,
           "type": "scatter",
           "x": [
            75903650000
           ],
           "xaxis": "x",
           "y": [
            242685340.2
           ],
           "yaxis": "y"
          },
          {
           "hovertemplate": "<b>%{hovertext}</b><br><br>Country=Ireland<br>Year=2003<br>GDP=%{marker.size}<br>RoadSpending=%{y}<extra></extra>",
           "hovertext": [
            "Ireland"
           ],
           "legendgroup": "Ireland",
           "marker": {
            "color": "#00cc96",
            "size": [
             146520700000
            ],
            "sizemode": "area",
            "sizeref": 1119177225,
            "symbol": "circle"
           },
           "mode": "markers",
           "name": "Ireland",
           "orientation": "v",
           "showlegend": true,
           "type": "scatter",
           "x": [
            146520700000
           ],
           "xaxis": "x",
           "y": [
            1516000000
           ],
           "yaxis": "y"
          },
          {
           "hovertemplate": "<b>%{hovertext}</b><br><br>Country=Italy<br>Year=2003<br>GDP=%{marker.size}<br>RoadSpending=%{y}<extra></extra>",
           "hovertext": [
            "Italy"
           ],
           "legendgroup": "Italy",
           "marker": {
            "color": "#ab63fa",
            "size": [
             1408455260000
            ],
            "sizemode": "area",
            "sizeref": 1119177225,
            "symbol": "circle"
           },
           "mode": "markers",
           "name": "Italy",
           "orientation": "v",
           "showlegend": true,
           "type": "scatter",
           "x": [
            1408455260000
           ],
           "xaxis": "x",
           "y": [
            6874000000
           ],
           "yaxis": "y"
          },
          {
           "hovertemplate": "<b>%{hovertext}</b><br><br>Country=Latvia<br>Year=2003<br>GDP=%{marker.size}<br>RoadSpending=%{y}<extra></extra>",
           "hovertext": [
            "Latvia"
           ],
           "legendgroup": "Latvia",
           "marker": {
            "color": "#FFA15A",
            "size": [
             10481530000
            ],
            "sizemode": "area",
            "sizeref": 1119177225,
            "symbol": "circle"
           },
           "mode": "markers",
           "name": "Latvia",
           "orientation": "v",
           "showlegend": true,
           "type": "scatter",
           "x": [
            10481530000
           ],
           "xaxis": "x",
           "y": [
            46000000
           ],
           "yaxis": "y"
          },
          {
           "hovertemplate": "<b>%{hovertext}</b><br><br>Country=Lithuania<br>Year=2003<br>GDP=%{marker.size}<br>RoadSpending=%{y}<extra></extra>",
           "hovertext": [
            "Lithuania"
           ],
           "legendgroup": "Lithuania",
           "marker": {
            "color": "#19d3f3",
            "size": [
             16710640000
            ],
            "sizemode": "area",
            "sizeref": 1119177225,
            "symbol": "circle"
           },
           "mode": "markers",
           "name": "Lithuania",
           "orientation": "v",
           "showlegend": true,
           "type": "scatter",
           "x": [
            16710640000
           ],
           "xaxis": "x",
           "y": [
            142000000
           ],
           "yaxis": "y"
          },
          {
           "hovertemplate": "<b>%{hovertext}</b><br><br>Country=Luxembourg<br>Year=2003<br>GDP=%{marker.size}<br>RoadSpending=%{y}<extra></extra>",
           "hovertext": [
            "Luxembourg"
           ],
           "legendgroup": "Luxembourg",
           "marker": {
            "color": "#FF6692",
            "size": [
             26397400000
            ],
            "sizemode": "area",
            "sizeref": 1119177225,
            "symbol": "circle"
           },
           "mode": "markers",
           "name": "Luxembourg",
           "orientation": "v",
           "showlegend": true,
           "type": "scatter",
           "x": [
            26397400000
           ],
           "xaxis": "x",
           "y": [
            188405582
           ],
           "yaxis": "y"
          },
          {
           "hovertemplate": "<b>%{hovertext}</b><br><br>Country=Malta<br>Year=2003<br>GDP=%{marker.size}<br>RoadSpending=%{y}<extra></extra>",
           "hovertext": [
            "Malta"
           ],
           "legendgroup": "Malta",
           "marker": {
            "color": "#B6E880",
            "size": [
             4863850000
            ],
            "sizemode": "area",
            "sizeref": 1119177225,
            "symbol": "circle"
           },
           "mode": "markers",
           "name": "Malta",
           "orientation": "v",
           "showlegend": true,
           "type": "scatter",
           "x": [
            4863850000
           ],
           "xaxis": "x",
           "y": [
            8030705.8
           ],
           "yaxis": "y"
          },
          {
           "hovertemplate": "<b>%{hovertext}</b><br><br>Country=Netherlands<br>Year=2003<br>GDP=%{marker.size}<br>RoadSpending=%{y}<extra></extra>",
           "hovertext": [
            "Netherlands"
           ],
           "legendgroup": "Netherlands",
           "marker": {
            "color": "#FF97FF",
            "size": [
             518238100000
            ],
            "sizemode": "area",
            "sizeref": 1119177225,
            "symbol": "circle"
           },
           "mode": "markers",
           "name": "Netherlands",
           "orientation": "v",
           "showlegend": true,
           "type": "scatter",
           "x": [
            518238100000
           ],
           "xaxis": "x",
           "y": [
            2328000000
           ],
           "yaxis": "y"
          },
          {
           "hovertemplate": "<b>%{hovertext}</b><br><br>Country=Poland<br>Year=2003<br>GDP=%{marker.size}<br>RoadSpending=%{y}<extra></extra>",
           "hovertext": [
            "Poland"
           ],
           "legendgroup": "Poland",
           "marker": {
            "color": "#FECB52",
            "size": [
             193867810000
            ],
            "sizemode": "area",
            "sizeref": 1119177225,
            "symbol": "circle"
           },
           "mode": "markers",
           "name": "Poland",
           "orientation": "v",
           "showlegend": true,
           "type": "scatter",
           "x": [
            193867810000
           ],
           "xaxis": "x",
           "y": [
            1010617739
           ],
           "yaxis": "y"
          },
          {
           "hovertemplate": "<b>%{hovertext}</b><br><br>Country=Portugal<br>Year=2003<br>GDP=%{marker.size}<br>RoadSpending=%{y}<extra></extra>",
           "hovertext": [
            "Portugal"
           ],
           "legendgroup": "Portugal",
           "marker": {
            "color": "#636efa",
            "size": [
             147014650000
            ],
            "sizemode": "area",
            "sizeref": 1119177225,
            "symbol": "circle"
           },
           "mode": "markers",
           "name": "Portugal",
           "orientation": "v",
           "showlegend": true,
           "type": "scatter",
           "x": [
            147014650000
           ],
           "xaxis": "x",
           "y": [
            1537000000
           ],
           "yaxis": "y"
          },
          {
           "hovertemplate": "<b>%{hovertext}</b><br><br>Country=Romania<br>Year=2003<br>GDP=%{marker.size}<br>RoadSpending=%{y}<extra></extra>",
           "hovertext": [
            "Romania"
           ],
           "legendgroup": "Romania",
           "marker": {
            "color": "#EF553B",
            "size": [
             51433100000
            ],
            "sizemode": "area",
            "sizeref": 1119177225,
            "symbol": "circle"
           },
           "mode": "markers",
           "name": "Romania",
           "orientation": "v",
           "showlegend": true,
           "type": "scatter",
           "x": [
            51433100000
           ],
           "xaxis": "x",
           "y": [
            707380083.6
           ],
           "yaxis": "y"
          },
          {
           "hovertemplate": "<b>%{hovertext}</b><br><br>Country=Slovak Republic<br>Year=2003<br>GDP=%{marker.size}<br>RoadSpending=%{y}<extra></extra>",
           "hovertext": [
            "Slovak Republic"
           ],
           "legendgroup": "Slovak Republic",
           "marker": {
            "color": "#00cc96",
            "size": [
             30335650000
            ],
            "sizemode": "area",
            "sizeref": 1119177225,
            "symbol": "circle"
           },
           "mode": "markers",
           "name": "Slovak Republic",
           "orientation": "v",
           "showlegend": true,
           "type": "scatter",
           "x": [
            30335650000
           ],
           "xaxis": "x",
           "y": [
            210000000
           ],
           "yaxis": "y"
          },
          {
           "hovertemplate": "<b>%{hovertext}</b><br><br>Country=Slovenia<br>Year=2003<br>GDP=%{marker.size}<br>RoadSpending=%{y}<extra></extra>",
           "hovertext": [
            "Slovenia"
           ],
           "legendgroup": "Slovenia",
           "marker": {
            "color": "#ab63fa",
            "size": [
             26165110000
            ],
            "sizemode": "area",
            "sizeref": 1119177225,
            "symbol": "circle"
           },
           "mode": "markers",
           "name": "Slovenia",
           "orientation": "v",
           "showlegend": true,
           "type": "scatter",
           "x": [
            26165110000
           ],
           "xaxis": "x",
           "y": [
            470000000
           ],
           "yaxis": "y"
          },
          {
           "hovertemplate": "<b>%{hovertext}</b><br><br>Country=Spain<br>Year=2003<br>GDP=%{marker.size}<br>RoadSpending=%{y}<extra></extra>",
           "hovertext": [
            "Spain"
           ],
           "legendgroup": "Spain",
           "marker": {
            "color": "#FFA15A",
            "size": [
             807885040000
            ],
            "sizemode": "area",
            "sizeref": 1119177225,
            "symbol": "circle"
           },
           "mode": "markers",
           "name": "Spain",
           "orientation": "v",
           "showlegend": true,
           "type": "scatter",
           "x": [
            807885040000
           ],
           "xaxis": "x",
           "y": [
            7321000000
           ],
           "yaxis": "y"
          },
          {
           "hovertemplate": "<b>%{hovertext}</b><br><br>Country=Sweden<br>Year=2003<br>GDP=%{marker.size}<br>RoadSpending=%{y}<extra></extra>",
           "hovertext": [
            "Sweden"
           ],
           "legendgroup": "Sweden",
           "marker": {
            "color": "#19d3f3",
            "size": [
             297325860000
            ],
            "sizemode": "area",
            "sizeref": 1119177225,
            "symbol": "circle"
           },
           "mode": "markers",
           "name": "Sweden",
           "orientation": "v",
           "showlegend": true,
           "type": "scatter",
           "x": [
            297325860000
           ],
           "xaxis": "x",
           "y": [
            1399105695
           ],
           "yaxis": "y"
          }
         ],
         "name": "2003"
        },
        {
         "data": [
          {
           "hovertemplate": "<b>%{hovertext}</b><br><br>Country=Austria<br>Year=2004<br>GDP=%{marker.size}<br>RoadSpending=%{y}<extra></extra>",
           "hovertext": [
            "Austria"
           ],
           "legendgroup": "Austria",
           "marker": {
            "color": "#636efa",
            "size": [
             268175690000
            ],
            "sizemode": "area",
            "sizeref": 1119177225,
            "symbol": "circle"
           },
           "mode": "markers",
           "name": "Austria",
           "orientation": "v",
           "showlegend": true,
           "type": "scatter",
           "x": [
            268175690000
           ],
           "xaxis": "x",
           "y": [
            null
           ],
           "yaxis": "y"
          },
          {
           "hovertemplate": "<b>%{hovertext}</b><br><br>Country=Belgium<br>Year=2004<br>GDP=%{marker.size}<br>RoadSpending=%{y}<extra></extra>",
           "hovertext": [
            "Belgium"
           ],
           "legendgroup": "Belgium",
           "marker": {
            "color": "#EF553B",
            "size": [
             328451830000
            ],
            "sizemode": "area",
            "sizeref": 1119177225,
            "symbol": "circle"
           },
           "mode": "markers",
           "name": "Belgium",
           "orientation": "v",
           "showlegend": true,
           "type": "scatter",
           "x": [
            328451830000
           ],
           "xaxis": "x",
           "y": [
            156000000
           ],
           "yaxis": "y"
          },
          {
           "hovertemplate": "<b>%{hovertext}</b><br><br>Country=Bulgaria<br>Year=2004<br>GDP=%{marker.size}<br>RoadSpending=%{y}<extra></extra>",
           "hovertext": [
            "Bulgaria"
           ],
           "legendgroup": "Bulgaria",
           "marker": {
            "color": "#00cc96",
            "size": [
             23280620000
            ],
            "sizemode": "area",
            "sizeref": 1119177225,
            "symbol": "circle"
           },
           "mode": "markers",
           "name": "Bulgaria",
           "orientation": "v",
           "showlegend": true,
           "type": "scatter",
           "x": [
            23280620000
           ],
           "xaxis": "x",
           "y": [
            null
           ],
           "yaxis": "y"
          },
          {
           "hovertemplate": "<b>%{hovertext}</b><br><br>Country=Croatia<br>Year=2004<br>GDP=%{marker.size}<br>RoadSpending=%{y}<extra></extra>",
           "hovertext": [
            "Croatia"
           ],
           "legendgroup": "Croatia",
           "marker": {
            "color": "#ab63fa",
            "size": [
             37234040000
            ],
            "sizemode": "area",
            "sizeref": 1119177225,
            "symbol": "circle"
           },
           "mode": "markers",
           "name": "Croatia",
           "orientation": "v",
           "showlegend": true,
           "type": "scatter",
           "x": [
            37234040000
           ],
           "xaxis": "x",
           "y": [
            872254296.9
           ],
           "yaxis": "y"
          },
          {
           "hovertemplate": "<b>%{hovertext}</b><br><br>Country=Czechia<br>Year=2004<br>GDP=%{marker.size}<br>RoadSpending=%{y}<extra></extra>",
           "hovertext": [
            "Czechia"
           ],
           "legendgroup": "Czechia",
           "marker": {
            "color": "#FFA15A",
            "size": [
             106931720000
            ],
            "sizemode": "area",
            "sizeref": 1119177225,
            "symbol": "circle"
           },
           "mode": "markers",
           "name": "Czechia",
           "orientation": "v",
           "showlegend": true,
           "type": "scatter",
           "x": [
            106931720000
           ],
           "xaxis": "x",
           "y": [
            1031226395
           ],
           "yaxis": "y"
          },
          {
           "hovertemplate": "<b>%{hovertext}</b><br><br>Country=Denmark<br>Year=2004<br>GDP=%{marker.size}<br>RoadSpending=%{y}<extra></extra>",
           "hovertext": [
            "Denmark"
           ],
           "legendgroup": "Denmark",
           "marker": {
            "color": "#19d3f3",
            "size": [
             224269320000
            ],
            "sizemode": "area",
            "sizeref": 1119177225,
            "symbol": "circle"
           },
           "mode": "markers",
           "name": "Denmark",
           "orientation": "v",
           "showlegend": true,
           "type": "scatter",
           "x": [
            224269320000
           ],
           "xaxis": "x",
           "y": [
            727832363.3
           ],
           "yaxis": "y"
          },
          {
           "hovertemplate": "<b>%{hovertext}</b><br><br>Country=Estonia<br>Year=2004<br>GDP=%{marker.size}<br>RoadSpending=%{y}<extra></extra>",
           "hovertext": [
            "Estonia"
           ],
           "legendgroup": "Estonia",
           "marker": {
            "color": "#FF6692",
            "size": [
             10823290000
            ],
            "sizemode": "area",
            "sizeref": 1119177225,
            "symbol": "circle"
           },
           "mode": "markers",
           "name": "Estonia",
           "orientation": "v",
           "showlegend": true,
           "type": "scatter",
           "x": [
            10823290000
           ],
           "xaxis": "x",
           "y": [
            56000000
           ],
           "yaxis": "y"
          },
          {
           "hovertemplate": "<b>%{hovertext}</b><br><br>Country=Finland<br>Year=2004<br>GDP=%{marker.size}<br>RoadSpending=%{y}<extra></extra>",
           "hovertext": [
            "Finland"
           ],
           "legendgroup": "Finland",
           "marker": {
            "color": "#B6E880",
            "size": [
             175658410000
            ],
            "sizemode": "area",
            "sizeref": 1119177225,
            "symbol": "circle"
           },
           "mode": "markers",
           "name": "Finland",
           "orientation": "v",
           "showlegend": true,
           "type": "scatter",
           "x": [
            175658410000
           ],
           "xaxis": "x",
           "y": [
            599000000
           ],
           "yaxis": "y"
          },
          {
           "hovertemplate": "<b>%{hovertext}</b><br><br>Country=France<br>Year=2004<br>GDP=%{marker.size}<br>RoadSpending=%{y}<extra></extra>",
           "hovertext": [
            "France"
           ],
           "legendgroup": "France",
           "marker": {
            "color": "#FF97FF",
            "size": [
             1876863150000
            ],
            "sizemode": "area",
            "sizeref": 1119177225,
            "symbol": "circle"
           },
           "mode": "markers",
           "name": "France",
           "orientation": "v",
           "showlegend": true,
           "type": "scatter",
           "x": [
            1876863150000
           ],
           "xaxis": "x",
           "y": [
            11526363522
           ],
           "yaxis": "y"
          },
          {
           "hovertemplate": "<b>%{hovertext}</b><br><br>Country=Germany<br>Year=2004<br>GDP=%{marker.size}<br>RoadSpending=%{y}<extra></extra>",
           "hovertext": [
            "Germany"
           ],
           "legendgroup": "Germany",
           "marker": {
            "color": "#FECB52",
            "size": [
             2537410470000
            ],
            "sizemode": "area",
            "sizeref": 1119177225,
            "symbol": "circle"
           },
           "mode": "markers",
           "name": "Germany",
           "orientation": "v",
           "showlegend": true,
           "type": "scatter",
           "x": [
            2537410470000
           ],
           "xaxis": "x",
           "y": [
            10710000000
           ],
           "yaxis": "y"
          },
          {
           "hovertemplate": "<b>%{hovertext}</b><br><br>Country=Greece<br>Year=2004<br>GDP=%{marker.size}<br>RoadSpending=%{y}<extra></extra>",
           "hovertext": [
            "Greece"
           ],
           "legendgroup": "Greece",
           "marker": {
            "color": "#636efa",
            "size": [
             214360060000
            ],
            "sizemode": "area",
            "sizeref": 1119177225,
            "symbol": "circle"
           },
           "mode": "markers",
           "name": "Greece",
           "orientation": "v",
           "showlegend": true,
           "type": "scatter",
           "x": [
            214360060000
           ],
           "xaxis": "x",
           "y": [
            1507000000
           ],
           "yaxis": "y"
          },
          {
           "hovertemplate": "<b>%{hovertext}</b><br><br>Country=Hungary<br>Year=2004<br>GDP=%{marker.size}<br>RoadSpending=%{y}<extra></extra>",
           "hovertext": [
            "Hungary"
           ],
           "legendgroup": "Hungary",
           "marker": {
            "color": "#EF553B",
            "size": [
             92667690000
            ],
            "sizemode": "area",
            "sizeref": 1119177225,
            "symbol": "circle"
           },
           "mode": "markers",
           "name": "Hungary",
           "orientation": "v",
           "showlegend": true,
           "type": "scatter",
           "x": [
            92667690000
           ],
           "xaxis": "x",
           "y": [
            1426659915
           ],
           "yaxis": "y"
          },
          {
           "hovertemplate": "<b>%{hovertext}</b><br><br>Country=Ireland<br>Year=2004<br>GDP=%{marker.size}<br>RoadSpending=%{y}<extra></extra>",
           "hovertext": [
            "Ireland"
           ],
           "legendgroup": "Ireland",
           "marker": {
            "color": "#00cc96",
            "size": [
             172911870000
            ],
            "sizemode": "area",
            "sizeref": 1119177225,
            "symbol": "circle"
           },
           "mode": "markers",
           "name": "Ireland",
           "orientation": "v",
           "showlegend": true,
           "type": "scatter",
           "x": [
            172911870000
           ],
           "xaxis": "x",
           "y": [
            1562000000
           ],
           "yaxis": "y"
          },
          {
           "hovertemplate": "<b>%{hovertext}</b><br><br>Country=Italy<br>Year=2004<br>GDP=%{marker.size}<br>RoadSpending=%{y}<extra></extra>",
           "hovertext": [
            "Italy"
           ],
           "legendgroup": "Italy",
           "marker": {
            "color": "#ab63fa",
            "size": [
             1612668430000
            ],
            "sizemode": "area",
            "sizeref": 1119177225,
            "symbol": "circle"
           },
           "mode": "markers",
           "name": "Italy",
           "orientation": "v",
           "showlegend": true,
           "type": "scatter",
           "x": [
            1612668430000
           ],
           "xaxis": "x",
           "y": [
            7572000000
           ],
           "yaxis": "y"
          },
          {
           "hovertemplate": "<b>%{hovertext}</b><br><br>Country=Latvia<br>Year=2004<br>GDP=%{marker.size}<br>RoadSpending=%{y}<extra></extra>",
           "hovertext": [
            "Latvia"
           ],
           "legendgroup": "Latvia",
           "marker": {
            "color": "#FFA15A",
            "size": [
             12851600000
            ],
            "sizemode": "area",
            "sizeref": 1119177225,
            "symbol": "circle"
           },
           "mode": "markers",
           "name": "Latvia",
           "orientation": "v",
           "showlegend": true,
           "type": "scatter",
           "x": [
            12851600000
           ],
           "xaxis": "x",
           "y": [
            55000000
           ],
           "yaxis": "y"
          },
          {
           "hovertemplate": "<b>%{hovertext}</b><br><br>Country=Lithuania<br>Year=2004<br>GDP=%{marker.size}<br>RoadSpending=%{y}<extra></extra>",
           "hovertext": [
            "Lithuania"
           ],
           "legendgroup": "Lithuania",
           "marker": {
            "color": "#19d3f3",
            "size": [
             20096200000
            ],
            "sizemode": "area",
            "sizeref": 1119177225,
            "symbol": "circle"
           },
           "mode": "markers",
           "name": "Lithuania",
           "orientation": "v",
           "showlegend": true,
           "type": "scatter",
           "x": [
            20096200000
           ],
           "xaxis": "x",
           "y": [
            137000000
           ],
           "yaxis": "y"
          },
          {
           "hovertemplate": "<b>%{hovertext}</b><br><br>Country=Luxembourg<br>Year=2004<br>GDP=%{marker.size}<br>RoadSpending=%{y}<extra></extra>",
           "hovertext": [
            "Luxembourg"
           ],
           "legendgroup": "Luxembourg",
           "marker": {
            "color": "#FF6692",
            "size": [
             31193610000
            ],
            "sizemode": "area",
            "sizeref": 1119177225,
            "symbol": "circle"
           },
           "mode": "markers",
           "name": "Luxembourg",
           "orientation": "v",
           "showlegend": true,
           "type": "scatter",
           "x": [
            31193610000
           ],
           "xaxis": "x",
           "y": [
            135202789.9
           ],
           "yaxis": "y"
          },
          {
           "hovertemplate": "<b>%{hovertext}</b><br><br>Country=Malta<br>Year=2004<br>GDP=%{marker.size}<br>RoadSpending=%{y}<extra></extra>",
           "hovertext": [
            "Malta"
           ],
           "legendgroup": "Malta",
           "marker": {
            "color": "#B6E880",
            "size": [
             5453920000
            ],
            "sizemode": "area",
            "sizeref": 1119177225,
            "symbol": "circle"
           },
           "mode": "markers",
           "name": "Malta",
           "orientation": "v",
           "showlegend": true,
           "type": "scatter",
           "x": [
            5453920000
           ],
           "xaxis": "x",
           "y": [
            13928687.58
           ],
           "yaxis": "y"
          },
          {
           "hovertemplate": "<b>%{hovertext}</b><br><br>Country=Netherlands<br>Year=2004<br>GDP=%{marker.size}<br>RoadSpending=%{y}<extra></extra>",
           "hovertext": [
            "Netherlands"
           ],
           "legendgroup": "Netherlands",
           "marker": {
            "color": "#FF97FF",
            "size": [
             588223250000
            ],
            "sizemode": "area",
            "sizeref": 1119177225,
            "symbol": "circle"
           },
           "mode": "markers",
           "name": "Netherlands",
           "orientation": "v",
           "showlegend": true,
           "type": "scatter",
           "x": [
            588223250000
           ],
           "xaxis": "x",
           "y": [
            2334000000
           ],
           "yaxis": "y"
          },
          {
           "hovertemplate": "<b>%{hovertext}</b><br><br>Country=Poland<br>Year=2004<br>GDP=%{marker.size}<br>RoadSpending=%{y}<extra></extra>",
           "hovertext": [
            "Poland"
           ],
           "legendgroup": "Poland",
           "marker": {
            "color": "#FECB52",
            "size": [
             227209880000
            ],
            "sizemode": "area",
            "sizeref": 1119177225,
            "symbol": "circle"
           },
           "mode": "markers",
           "name": "Poland",
           "orientation": "v",
           "showlegend": true,
           "type": "scatter",
           "x": [
            227209880000
           ],
           "xaxis": "x",
           "y": [
            1235382375
           ],
           "yaxis": "y"
          },
          {
           "hovertemplate": "<b>%{hovertext}</b><br><br>Country=Portugal<br>Year=2004<br>GDP=%{marker.size}<br>RoadSpending=%{y}<extra></extra>",
           "hovertext": [
            "Portugal"
           ],
           "legendgroup": "Portugal",
           "marker": {
            "color": "#636efa",
            "size": [
             168473440000
            ],
            "sizemode": "area",
            "sizeref": 1119177225,
            "symbol": "circle"
           },
           "mode": "markers",
           "name": "Portugal",
           "orientation": "v",
           "showlegend": true,
           "type": "scatter",
           "x": [
            168473440000
           ],
           "xaxis": "x",
           "y": [
            1933000000
           ],
           "yaxis": "y"
          },
          {
           "hovertemplate": "<b>%{hovertext}</b><br><br>Country=Romania<br>Year=2004<br>GDP=%{marker.size}<br>RoadSpending=%{y}<extra></extra>",
           "hovertext": [
            "Romania"
           ],
           "legendgroup": "Romania",
           "marker": {
            "color": "#EF553B",
            "size": [
             66802510000
            ],
            "sizemode": "area",
            "sizeref": 1119177225,
            "symbol": "circle"
           },
           "mode": "markers",
           "name": "Romania",
           "orientation": "v",
           "showlegend": true,
           "type": "scatter",
           "x": [
            66802510000
           ],
           "xaxis": "x",
           "y": [
            1094879704
           ],
           "yaxis": "y"
          },
          {
           "hovertemplate": "<b>%{hovertext}</b><br><br>Country=Slovak Republic<br>Year=2004<br>GDP=%{marker.size}<br>RoadSpending=%{y}<extra></extra>",
           "hovertext": [
            "Slovak Republic"
           ],
           "legendgroup": "Slovak Republic",
           "marker": {
            "color": "#00cc96",
            "size": [
             38439100000
            ],
            "sizemode": "area",
            "sizeref": 1119177225,
            "symbol": "circle"
           },
           "mode": "markers",
           "name": "Slovak Republic",
           "orientation": "v",
           "showlegend": true,
           "type": "scatter",
           "x": [
            38439100000
           ],
           "xaxis": "x",
           "y": [
            240000000
           ],
           "yaxis": "y"
          },
          {
           "hovertemplate": "<b>%{hovertext}</b><br><br>Country=Slovenia<br>Year=2004<br>GDP=%{marker.size}<br>RoadSpending=%{y}<extra></extra>",
           "hovertext": [
            "Slovenia"
           ],
           "legendgroup": "Slovenia",
           "marker": {
            "color": "#ab63fa",
            "size": [
             30429099999.999996
            ],
            "sizemode": "area",
            "sizeref": 1119177225,
            "symbol": "circle"
           },
           "mode": "markers",
           "name": "Slovenia",
           "orientation": "v",
           "showlegend": true,
           "type": "scatter",
           "x": [
            30429099999.999996
           ],
           "xaxis": "x",
           "y": [
            496000000
           ],
           "yaxis": "y"
          },
          {
           "hovertemplate": "<b>%{hovertext}</b><br><br>Country=Spain<br>Year=2004<br>GDP=%{marker.size}<br>RoadSpending=%{y}<extra></extra>",
           "hovertext": [
            "Spain"
           ],
           "legendgroup": "Spain",
           "marker": {
            "color": "#FFA15A",
            "size": [
             951716160000
            ],
            "sizemode": "area",
            "sizeref": 1119177225,
            "symbol": "circle"
           },
           "mode": "markers",
           "name": "Spain",
           "orientation": "v",
           "showlegend": true,
           "type": "scatter",
           "x": [
            951716160000
           ],
           "xaxis": "x",
           "y": [
            7244000000
           ],
           "yaxis": "y"
          },
          {
           "hovertemplate": "<b>%{hovertext}</b><br><br>Country=Sweden<br>Year=2004<br>GDP=%{marker.size}<br>RoadSpending=%{y}<extra></extra>",
           "hovertext": [
            "Sweden"
           ],
           "legendgroup": "Sweden",
           "marker": {
            "color": "#19d3f3",
            "size": [
             342247720000
            ],
            "sizemode": "area",
            "sizeref": 1119177225,
            "symbol": "circle"
           },
           "mode": "markers",
           "name": "Sweden",
           "orientation": "v",
           "showlegend": true,
           "type": "scatter",
           "x": [
            342247720000
           ],
           "xaxis": "x",
           "y": [
            1443068493
           ],
           "yaxis": "y"
          }
         ],
         "name": "2004"
        },
        {
         "data": [
          {
           "hovertemplate": "<b>%{hovertext}</b><br><br>Country=Austria<br>Year=2005<br>GDP=%{marker.size}<br>RoadSpending=%{y}<extra></extra>",
           "hovertext": [
            "Austria"
           ],
           "legendgroup": "Austria",
           "marker": {
            "color": "#636efa",
            "size": [
             281477630000
            ],
            "sizemode": "area",
            "sizeref": 1119177225,
            "symbol": "circle"
           },
           "mode": "markers",
           "name": "Austria",
           "orientation": "v",
           "showlegend": true,
           "type": "scatter",
           "x": [
            281477630000
           ],
           "xaxis": "x",
           "y": [
            null
           ],
           "yaxis": "y"
          },
          {
           "hovertemplate": "<b>%{hovertext}</b><br><br>Country=Belgium<br>Year=2005<br>GDP=%{marker.size}<br>RoadSpending=%{y}<extra></extra>",
           "hovertext": [
            "Belgium"
           ],
           "legendgroup": "Belgium",
           "marker": {
            "color": "#EF553B",
            "size": [
             343475030000
            ],
            "sizemode": "area",
            "sizeref": 1119177225,
            "symbol": "circle"
           },
           "mode": "markers",
           "name": "Belgium",
           "orientation": "v",
           "showlegend": true,
           "type": "scatter",
           "x": [
            343475030000
           ],
           "xaxis": "x",
           "y": [
            156000000
           ],
           "yaxis": "y"
          },
          {
           "hovertemplate": "<b>%{hovertext}</b><br><br>Country=Bulgaria<br>Year=2005<br>GDP=%{marker.size}<br>RoadSpending=%{y}<extra></extra>",
           "hovertext": [
            "Bulgaria"
           ],
           "legendgroup": "Bulgaria",
           "marker": {
            "color": "#00cc96",
            "size": [
             26582520000
            ],
            "sizemode": "area",
            "sizeref": 1119177225,
            "symbol": "circle"
           },
           "mode": "markers",
           "name": "Bulgaria",
           "orientation": "v",
           "showlegend": true,
           "type": "scatter",
           "x": [
            26582520000
           ],
           "xaxis": "x",
           "y": [
            272011453.1
           ],
           "yaxis": "y"
          },
          {
           "hovertemplate": "<b>%{hovertext}</b><br><br>Country=Croatia<br>Year=2005<br>GDP=%{marker.size}<br>RoadSpending=%{y}<extra></extra>",
           "hovertext": [
            "Croatia"
           ],
           "legendgroup": "Croatia",
           "marker": {
            "color": "#ab63fa",
            "size": [
             40094500000
            ],
            "sizemode": "area",
            "sizeref": 1119177225,
            "symbol": "circle"
           },
           "mode": "markers",
           "name": "Croatia",
           "orientation": "v",
           "showlegend": true,
           "type": "scatter",
           "x": [
            40094500000
           ],
           "xaxis": "x",
           "y": [
            737009755.1
           ],
           "yaxis": "y"
          },
          {
           "hovertemplate": "<b>%{hovertext}</b><br><br>Country=Czechia<br>Year=2005<br>GDP=%{marker.size}<br>RoadSpending=%{y}<extra></extra>",
           "hovertext": [
            "Czechia"
           ],
           "legendgroup": "Czechia",
           "marker": {
            "color": "#FFA15A",
            "size": [
             122164960000.00002
            ],
            "sizemode": "area",
            "sizeref": 1119177225,
            "symbol": "circle"
           },
           "mode": "markers",
           "name": "Czechia",
           "orientation": "v",
           "showlegend": true,
           "type": "scatter",
           "x": [
            122164960000.00002
           ],
           "xaxis": "x",
           "y": [
            1414691140
           ],
           "yaxis": "y"
          },
          {
           "hovertemplate": "<b>%{hovertext}</b><br><br>Country=Denmark<br>Year=2005<br>GDP=%{marker.size}<br>RoadSpending=%{y}<extra></extra>",
           "hovertext": [
            "Denmark"
           ],
           "legendgroup": "Denmark",
           "marker": {
            "color": "#19d3f3",
            "size": [
             235983499999.99997
            ],
            "sizemode": "area",
            "sizeref": 1119177225,
            "symbol": "circle"
           },
           "mode": "markers",
           "name": "Denmark",
           "orientation": "v",
           "showlegend": true,
           "type": "scatter",
           "x": [
            235983499999.99997
           ],
           "xaxis": "x",
           "y": [
            927707771.4
           ],
           "yaxis": "y"
          },
          {
           "hovertemplate": "<b>%{hovertext}</b><br><br>Country=Estonia<br>Year=2005<br>GDP=%{marker.size}<br>RoadSpending=%{y}<extra></extra>",
           "hovertext": [
            "Estonia"
           ],
           "legendgroup": "Estonia",
           "marker": {
            "color": "#FF6692",
            "size": [
             12574810000
            ],
            "sizemode": "area",
            "sizeref": 1119177225,
            "symbol": "circle"
           },
           "mode": "markers",
           "name": "Estonia",
           "orientation": "v",
           "showlegend": true,
           "type": "scatter",
           "x": [
            12574810000
           ],
           "xaxis": "x",
           "y": [
            102000000
           ],
           "yaxis": "y"
          },
          {
           "hovertemplate": "<b>%{hovertext}</b><br><br>Country=Finland<br>Year=2005<br>GDP=%{marker.size}<br>RoadSpending=%{y}<extra></extra>",
           "hovertext": [
            "Finland"
           ],
           "legendgroup": "Finland",
           "marker": {
            "color": "#B6E880",
            "size": [
             182425970000
            ],
            "sizemode": "area",
            "sizeref": 1119177225,
            "symbol": "circle"
           },
           "mode": "markers",
           "name": "Finland",
           "orientation": "v",
           "showlegend": true,
           "type": "scatter",
           "x": [
            182425970000
           ],
           "xaxis": "x",
           "y": [
            595000000
           ],
           "yaxis": "y"
          },
          {
           "hovertemplate": "<b>%{hovertext}</b><br><br>Country=France<br>Year=2005<br>GDP=%{marker.size}<br>RoadSpending=%{y}<extra></extra>",
           "hovertext": [
            "France"
           ],
           "legendgroup": "France",
           "marker": {
            "color": "#FF97FF",
            "size": [
             1952088620000.0002
            ],
            "sizemode": "area",
            "sizeref": 1119177225,
            "symbol": "circle"
           },
           "mode": "markers",
           "name": "France",
           "orientation": "v",
           "showlegend": true,
           "type": "scatter",
           "x": [
            1952088620000.0002
           ],
           "xaxis": "x",
           "y": [
            12402058253
           ],
           "yaxis": "y"
          },
          {
           "hovertemplate": "<b>%{hovertext}</b><br><br>Country=Germany<br>Year=2005<br>GDP=%{marker.size}<br>RoadSpending=%{y}<extra></extra>",
           "hovertext": [
            "Germany"
           ],
           "legendgroup": "Germany",
           "marker": {
            "color": "#FECB52",
            "size": [
             2576542880000
            ],
            "sizemode": "area",
            "sizeref": 1119177225,
            "symbol": "circle"
           },
           "mode": "markers",
           "name": "Germany",
           "orientation": "v",
           "showlegend": true,
           "type": "scatter",
           "x": [
            2576542880000
           ],
           "xaxis": "x",
           "y": [
            10200000000
           ],
           "yaxis": "y"
          },
          {
           "hovertemplate": "<b>%{hovertext}</b><br><br>Country=Greece<br>Year=2005<br>GDP=%{marker.size}<br>RoadSpending=%{y}<extra></extra>",
           "hovertext": [
            "Greece"
           ],
           "legendgroup": "Greece",
           "marker": {
            "color": "#636efa",
            "size": [
             220730680000
            ],
            "sizemode": "area",
            "sizeref": 1119177225,
            "symbol": "circle"
           },
           "mode": "markers",
           "name": "Greece",
           "orientation": "v",
           "showlegend": true,
           "type": "scatter",
           "x": [
            220730680000
           ],
           "xaxis": "x",
           "y": [
            1080000000
           ],
           "yaxis": "y"
          },
          {
           "hovertemplate": "<b>%{hovertext}</b><br><br>Country=Hungary<br>Year=2005<br>GDP=%{marker.size}<br>RoadSpending=%{y}<extra></extra>",
           "hovertext": [
            "Hungary"
           ],
           "legendgroup": "Hungary",
           "marker": {
            "color": "#EF553B",
            "size": [
             100757790000
            ],
            "sizemode": "area",
            "sizeref": 1119177225,
            "symbol": "circle"
           },
           "mode": "markers",
           "name": "Hungary",
           "orientation": "v",
           "showlegend": true,
           "type": "scatter",
           "x": [
            100757790000
           ],
           "xaxis": "x",
           "y": [
            1703158279
           ],
           "yaxis": "y"
          },
          {
           "hovertemplate": "<b>%{hovertext}</b><br><br>Country=Ireland<br>Year=2005<br>GDP=%{marker.size}<br>RoadSpending=%{y}<extra></extra>",
           "hovertext": [
            "Ireland"
           ],
           "legendgroup": "Ireland",
           "marker": {
            "color": "#00cc96",
            "size": [
             188673770000
            ],
            "sizemode": "area",
            "sizeref": 1119177225,
            "symbol": "circle"
           },
           "mode": "markers",
           "name": "Ireland",
           "orientation": "v",
           "showlegend": true,
           "type": "scatter",
           "x": [
            188673770000
           ],
           "xaxis": "x",
           "y": [
            1662000000
           ],
           "yaxis": "y"
          },
          {
           "hovertemplate": "<b>%{hovertext}</b><br><br>Country=Italy<br>Year=2005<br>GDP=%{marker.size}<br>RoadSpending=%{y}<extra></extra>",
           "hovertext": [
            "Italy"
           ],
           "legendgroup": "Italy",
           "marker": {
            "color": "#ab63fa",
            "size": [
             1660751570000
            ],
            "sizemode": "area",
            "sizeref": 1119177225,
            "symbol": "circle"
           },
           "mode": "markers",
           "name": "Italy",
           "orientation": "v",
           "showlegend": true,
           "type": "scatter",
           "x": [
            1660751570000
           ],
           "xaxis": "x",
           "y": [
            9169000000
           ],
           "yaxis": "y"
          },
          {
           "hovertemplate": "<b>%{hovertext}</b><br><br>Country=Latvia<br>Year=2005<br>GDP=%{marker.size}<br>RoadSpending=%{y}<extra></extra>",
           "hovertext": [
            "Latvia"
           ],
           "legendgroup": "Latvia",
           "marker": {
            "color": "#FFA15A",
            "size": [
             15156700000.000002
            ],
            "sizemode": "area",
            "sizeref": 1119177225,
            "symbol": "circle"
           },
           "mode": "markers",
           "name": "Latvia",
           "orientation": "v",
           "showlegend": true,
           "type": "scatter",
           "x": [
            15156700000.000002
           ],
           "xaxis": "x",
           "y": [
            139000000
           ],
           "yaxis": "y"
          },
          {
           "hovertemplate": "<b>%{hovertext}</b><br><br>Country=Lithuania<br>Year=2005<br>GDP=%{marker.size}<br>RoadSpending=%{y}<extra></extra>",
           "hovertext": [
            "Lithuania"
           ],
           "legendgroup": "Lithuania",
           "marker": {
            "color": "#19d3f3",
            "size": [
             23242350000
            ],
            "sizemode": "area",
            "sizeref": 1119177225,
            "symbol": "circle"
           },
           "mode": "markers",
           "name": "Lithuania",
           "orientation": "v",
           "showlegend": true,
           "type": "scatter",
           "x": [
            23242350000
           ],
           "xaxis": "x",
           "y": [
            165000000
           ],
           "yaxis": "y"
          },
          {
           "hovertemplate": "<b>%{hovertext}</b><br><br>Country=Luxembourg<br>Year=2005<br>GDP=%{marker.size}<br>RoadSpending=%{y}<extra></extra>",
           "hovertext": [
            "Luxembourg"
           ],
           "legendgroup": "Luxembourg",
           "marker": {
            "color": "#FF6692",
            "size": [
             33546770000
            ],
            "sizemode": "area",
            "sizeref": 1119177225,
            "symbol": "circle"
           },
           "mode": "markers",
           "name": "Luxembourg",
           "orientation": "v",
           "showlegend": true,
           "type": "scatter",
           "x": [
            33546770000
           ],
           "xaxis": "x",
           "y": [
            127657001.7
           ],
           "yaxis": "y"
          },
          {
           "hovertemplate": "<b>%{hovertext}</b><br><br>Country=Malta<br>Year=2005<br>GDP=%{marker.size}<br>RoadSpending=%{y}<extra></extra>",
           "hovertext": [
            "Malta"
           ],
           "legendgroup": "Malta",
           "marker": {
            "color": "#B6E880",
            "size": [
             5680870000
            ],
            "sizemode": "area",
            "sizeref": 1119177225,
            "symbol": "circle"
           },
           "mode": "markers",
           "name": "Malta",
           "orientation": "v",
           "showlegend": true,
           "type": "scatter",
           "x": [
            5680870000
           ],
           "xaxis": "x",
           "y": [
            35791797
           ],
           "yaxis": "y"
          },
          {
           "hovertemplate": "<b>%{hovertext}</b><br><br>Country=Netherlands<br>Year=2005<br>GDP=%{marker.size}<br>RoadSpending=%{y}<extra></extra>",
           "hovertext": [
            "Netherlands"
           ],
           "legendgroup": "Netherlands",
           "marker": {
            "color": "#FF97FF",
            "size": [
             612777460000
            ],
            "sizemode": "area",
            "sizeref": 1119177225,
            "symbol": "circle"
           },
           "mode": "markers",
           "name": "Netherlands",
           "orientation": "v",
           "showlegend": true,
           "type": "scatter",
           "x": [
            612777460000
           ],
           "xaxis": "x",
           "y": [
            1636000000
           ],
           "yaxis": "y"
          },
          {
           "hovertemplate": "<b>%{hovertext}</b><br><br>Country=Poland<br>Year=2005<br>GDP=%{marker.size}<br>RoadSpending=%{y}<extra></extra>",
           "hovertext": [
            "Poland"
           ],
           "legendgroup": "Poland",
           "marker": {
            "color": "#FECB52",
            "size": [
             272610560000
            ],
            "sizemode": "area",
            "sizeref": 1119177225,
            "symbol": "circle"
           },
           "mode": "markers",
           "name": "Poland",
           "orientation": "v",
           "showlegend": true,
           "type": "scatter",
           "x": [
            272610560000
           ],
           "xaxis": "x",
           "y": [
            1874906777
           ],
           "yaxis": "y"
          },
          {
           "hovertemplate": "<b>%{hovertext}</b><br><br>Country=Portugal<br>Year=2005<br>GDP=%{marker.size}<br>RoadSpending=%{y}<extra></extra>",
           "hovertext": [
            "Portugal"
           ],
           "legendgroup": "Portugal",
           "marker": {
            "color": "#636efa",
            "size": [
             175653070000
            ],
            "sizemode": "area",
            "sizeref": 1119177225,
            "symbol": "circle"
           },
           "mode": "markers",
           "name": "Portugal",
           "orientation": "v",
           "showlegend": true,
           "type": "scatter",
           "x": [
            175653070000
           ],
           "xaxis": "x",
           "y": [
            2112000000
           ],
           "yaxis": "y"
          },
          {
           "hovertemplate": "<b>%{hovertext}</b><br><br>Country=Romania<br>Year=2005<br>GDP=%{marker.size}<br>RoadSpending=%{y}<extra></extra>",
           "hovertext": [
            "Romania"
           ],
           "legendgroup": "Romania",
           "marker": {
            "color": "#EF553B",
            "size": [
             87706830000
            ],
            "sizemode": "area",
            "sizeref": 1119177225,
            "symbol": "circle"
           },
           "mode": "markers",
           "name": "Romania",
           "orientation": "v",
           "showlegend": true,
           "type": "scatter",
           "x": [
            87706830000
           ],
           "xaxis": "x",
           "y": [
            1330885601
           ],
           "yaxis": "y"
          },
          {
           "hovertemplate": "<b>%{hovertext}</b><br><br>Country=Slovak Republic<br>Year=2005<br>GDP=%{marker.size}<br>RoadSpending=%{y}<extra></extra>",
           "hovertext": [
            "Slovak Republic"
           ],
           "legendgroup": "Slovak Republic",
           "marker": {
            "color": "#00cc96",
            "size": [
             43713240000
            ],
            "sizemode": "area",
            "sizeref": 1119177225,
            "symbol": "circle"
           },
           "mode": "markers",
           "name": "Slovak Republic",
           "orientation": "v",
           "showlegend": true,
           "type": "scatter",
           "x": [
            43713240000
           ],
           "xaxis": "x",
           "y": [
            360000000
           ],
           "yaxis": "y"
          },
          {
           "hovertemplate": "<b>%{hovertext}</b><br><br>Country=Slovenia<br>Year=2005<br>GDP=%{marker.size}<br>RoadSpending=%{y}<extra></extra>",
           "hovertext": [
            "Slovenia"
           ],
           "legendgroup": "Slovenia",
           "marker": {
            "color": "#ab63fa",
            "size": [
             32041780000
            ],
            "sizemode": "area",
            "sizeref": 1119177225,
            "symbol": "circle"
           },
           "mode": "markers",
           "name": "Slovenia",
           "orientation": "v",
           "showlegend": true,
           "type": "scatter",
           "x": [
            32041780000
           ],
           "xaxis": "x",
           "y": [
            450000000
           ],
           "yaxis": "y"
          },
          {
           "hovertemplate": "<b>%{hovertext}</b><br><br>Country=Spain<br>Year=2005<br>GDP=%{marker.size}<br>RoadSpending=%{y}<extra></extra>",
           "hovertext": [
            "Spain"
           ],
           "legendgroup": "Spain",
           "marker": {
            "color": "#FFA15A",
            "size": [
             1028222340000
            ],
            "sizemode": "area",
            "sizeref": 1119177225,
            "symbol": "circle"
           },
           "mode": "markers",
           "name": "Spain",
           "orientation": "v",
           "showlegend": true,
           "type": "scatter",
           "x": [
            1028222340000
           ],
           "xaxis": "x",
           "y": [
            8580000000
           ],
           "yaxis": "y"
          },
          {
           "hovertemplate": "<b>%{hovertext}</b><br><br>Country=Sweden<br>Year=2005<br>GDP=%{marker.size}<br>RoadSpending=%{y}<extra></extra>",
           "hovertext": [
            "Sweden"
           ],
           "legendgroup": "Sweden",
           "marker": {
            "color": "#19d3f3",
            "size": [
             348604990000
            ],
            "sizemode": "area",
            "sizeref": 1119177225,
            "symbol": "circle"
           },
           "mode": "markers",
           "name": "Sweden",
           "orientation": "v",
           "showlegend": true,
           "type": "scatter",
           "x": [
            348604990000
           ],
           "xaxis": "x",
           "y": [
            1297938600
           ],
           "yaxis": "y"
          }
         ],
         "name": "2005"
        },
        {
         "data": [
          {
           "hovertemplate": "<b>%{hovertext}</b><br><br>Country=Austria<br>Year=2006<br>GDP=%{marker.size}<br>RoadSpending=%{y}<extra></extra>",
           "hovertext": [
            "Austria"
           ],
           "legendgroup": "Austria",
           "marker": {
            "color": "#636efa",
            "size": [
             299305220000
            ],
            "sizemode": "area",
            "sizeref": 1119177225,
            "symbol": "circle"
           },
           "mode": "markers",
           "name": "Austria",
           "orientation": "v",
           "showlegend": true,
           "type": "scatter",
           "x": [
            299305220000
           ],
           "xaxis": "x",
           "y": [
            null
           ],
           "yaxis": "y"
          },
          {
           "hovertemplate": "<b>%{hovertext}</b><br><br>Country=Belgium<br>Year=2006<br>GDP=%{marker.size}<br>RoadSpending=%{y}<extra></extra>",
           "hovertext": [
            "Belgium"
           ],
           "legendgroup": "Belgium",
           "marker": {
            "color": "#EF553B",
            "size": [
             363370090000
            ],
            "sizemode": "area",
            "sizeref": 1119177225,
            "symbol": "circle"
           },
           "mode": "markers",
           "name": "Belgium",
           "orientation": "v",
           "showlegend": true,
           "type": "scatter",
           "x": [
            363370090000
           ],
           "xaxis": "x",
           "y": [
            169000000
           ],
           "yaxis": "y"
          },
          {
           "hovertemplate": "<b>%{hovertext}</b><br><br>Country=Bulgaria<br>Year=2006<br>GDP=%{marker.size}<br>RoadSpending=%{y}<extra></extra>",
           "hovertext": [
            "Bulgaria"
           ],
           "legendgroup": "Bulgaria",
           "marker": {
            "color": "#00cc96",
            "size": [
             30598200000
            ],
            "sizemode": "area",
            "sizeref": 1119177225,
            "symbol": "circle"
           },
           "mode": "markers",
           "name": "Bulgaria",
           "orientation": "v",
           "showlegend": true,
           "type": "scatter",
           "x": [
            30598200000
           ],
           "xaxis": "x",
           "y": [
            256161161.7
           ],
           "yaxis": "y"
          },
          {
           "hovertemplate": "<b>%{hovertext}</b><br><br>Country=Croatia<br>Year=2006<br>GDP=%{marker.size}<br>RoadSpending=%{y}<extra></extra>",
           "hovertext": [
            "Croatia"
           ],
           "legendgroup": "Croatia",
           "marker": {
            "color": "#ab63fa",
            "size": [
             44144890000
            ],
            "sizemode": "area",
            "sizeref": 1119177225,
            "symbol": "circle"
           },
           "mode": "markers",
           "name": "Croatia",
           "orientation": "v",
           "showlegend": true,
           "type": "scatter",
           "x": [
            44144890000
           ],
           "xaxis": "x",
           "y": [
            850620479.1
           ],
           "yaxis": "y"
          },
          {
           "hovertemplate": "<b>%{hovertext}</b><br><br>Country=Czechia<br>Year=2006<br>GDP=%{marker.size}<br>RoadSpending=%{y}<extra></extra>",
           "hovertext": [
            "Czechia"
           ],
           "legendgroup": "Czechia",
           "marker": {
            "color": "#FFA15A",
            "size": [
             139050040000
            ],
            "sizemode": "area",
            "sizeref": 1119177225,
            "symbol": "circle"
           },
           "mode": "markers",
           "name": "Czechia",
           "orientation": "v",
           "showlegend": true,
           "type": "scatter",
           "x": [
            139050040000
           ],
           "xaxis": "x",
           "y": [
            1491555568
           ],
           "yaxis": "y"
          },
          {
           "hovertemplate": "<b>%{hovertext}</b><br><br>Country=Denmark<br>Year=2006<br>GDP=%{marker.size}<br>RoadSpending=%{y}<extra></extra>",
           "hovertext": [
            "Denmark"
           ],
           "legendgroup": "Denmark",
           "marker": {
            "color": "#19d3f3",
            "size": [
             252214430000
            ],
            "sizemode": "area",
            "sizeref": 1119177225,
            "symbol": "circle"
           },
           "mode": "markers",
           "name": "Denmark",
           "orientation": "v",
           "showlegend": true,
           "type": "scatter",
           "x": [
            252214430000
           ],
           "xaxis": "x",
           "y": [
            1190760279
           ],
           "yaxis": "y"
          },
          {
           "hovertemplate": "<b>%{hovertext}</b><br><br>Country=Estonia<br>Year=2006<br>GDP=%{marker.size}<br>RoadSpending=%{y}<extra></extra>",
           "hovertext": [
            "Estonia"
           ],
           "legendgroup": "Estonia",
           "marker": {
            "color": "#FF6692",
            "size": [
             15173610000
            ],
            "sizemode": "area",
            "sizeref": 1119177225,
            "symbol": "circle"
           },
           "mode": "markers",
           "name": "Estonia",
           "orientation": "v",
           "showlegend": true,
           "type": "scatter",
           "x": [
            15173610000
           ],
           "xaxis": "x",
           "y": [
            130000000
           ],
           "yaxis": "y"
          },
          {
           "hovertemplate": "<b>%{hovertext}</b><br><br>Country=Finland<br>Year=2006<br>GDP=%{marker.size}<br>RoadSpending=%{y}<extra></extra>",
           "hovertext": [
            "Finland"
           ],
           "legendgroup": "Finland",
           "marker": {
            "color": "#B6E880",
            "size": [
             193179840000
            ],
            "sizemode": "area",
            "sizeref": 1119177225,
            "symbol": "circle"
           },
           "mode": "markers",
           "name": "Finland",
           "orientation": "v",
           "showlegend": true,
           "type": "scatter",
           "x": [
            193179840000
           ],
           "xaxis": "x",
           "y": [
            650000000
           ],
           "yaxis": "y"
          },
          {
           "hovertemplate": "<b>%{hovertext}</b><br><br>Country=France<br>Year=2006<br>GDP=%{marker.size}<br>RoadSpending=%{y}<extra></extra>",
           "hovertext": [
            "France"
           ],
           "legendgroup": "France",
           "marker": {
            "color": "#FF97FF",
            "size": [
             2063006650000
            ],
            "sizemode": "area",
            "sizeref": 1119177225,
            "symbol": "circle"
           },
           "mode": "markers",
           "name": "France",
           "orientation": "v",
           "showlegend": true,
           "type": "scatter",
           "x": [
            2063006650000
           ],
           "xaxis": "x",
           "y": [
            12915322777
           ],
           "yaxis": "y"
          },
          {
           "hovertemplate": "<b>%{hovertext}</b><br><br>Country=Germany<br>Year=2006<br>GDP=%{marker.size}<br>RoadSpending=%{y}<extra></extra>",
           "hovertext": [
            "Germany"
           ],
           "legendgroup": "Germany",
           "marker": {
            "color": "#FECB52",
            "size": [
             2711358300000
            ],
            "sizemode": "area",
            "sizeref": 1119177225,
            "symbol": "circle"
           },
           "mode": "markers",
           "name": "Germany",
           "orientation": "v",
           "showlegend": true,
           "type": "scatter",
           "x": [
            2711358300000
           ],
           "xaxis": "x",
           "y": [
            10730000000
           ],
           "yaxis": "y"
          },
          {
           "hovertemplate": "<b>%{hovertext}</b><br><br>Country=Greece<br>Year=2006<br>GDP=%{marker.size}<br>RoadSpending=%{y}<extra></extra>",
           "hovertext": [
            "Greece"
           ],
           "legendgroup": "Greece",
           "marker": {
            "color": "#636efa",
            "size": [
             243469289999.99997
            ],
            "sizemode": "area",
            "sizeref": 1119177225,
            "symbol": "circle"
           },
           "mode": "markers",
           "name": "Greece",
           "orientation": "v",
           "showlegend": true,
           "type": "scatter",
           "x": [
            243469289999.99997
           ],
           "xaxis": "x",
           "y": [
            1392000000
           ],
           "yaxis": "y"
          },
          {
           "hovertemplate": "<b>%{hovertext}</b><br><br>Country=Hungary<br>Year=2006<br>GDP=%{marker.size}<br>RoadSpending=%{y}<extra></extra>",
           "hovertext": [
            "Hungary"
           ],
           "legendgroup": "Hungary",
           "marker": {
            "color": "#EF553B",
            "size": [
             102987240000
            ],
            "sizemode": "area",
            "sizeref": 1119177225,
            "symbol": "circle"
           },
           "mode": "markers",
           "name": "Hungary",
           "orientation": "v",
           "showlegend": true,
           "type": "scatter",
           "x": [
            102987240000
           ],
           "xaxis": "x",
           "y": [
            583691897.1
           ],
           "yaxis": "y"
          },
          {
           "hovertemplate": "<b>%{hovertext}</b><br><br>Country=Ireland<br>Year=2006<br>GDP=%{marker.size}<br>RoadSpending=%{y}<extra></extra>",
           "hovertext": [
            "Ireland"
           ],
           "legendgroup": "Ireland",
           "marker": {
            "color": "#00cc96",
            "size": [
             206651770000
            ],
            "sizemode": "area",
            "sizeref": 1119177225,
            "symbol": "circle"
           },
           "mode": "markers",
           "name": "Ireland",
           "orientation": "v",
           "showlegend": true,
           "type": "scatter",
           "x": [
            206651770000
           ],
           "xaxis": "x",
           "y": [
            2019000000
           ],
           "yaxis": "y"
          },
          {
           "hovertemplate": "<b>%{hovertext}</b><br><br>Country=Italy<br>Year=2006<br>GDP=%{marker.size}<br>RoadSpending=%{y}<extra></extra>",
           "hovertext": [
            "Italy"
           ],
           "legendgroup": "Italy",
           "marker": {
            "color": "#ab63fa",
            "size": [
             1743213630000
            ],
            "sizemode": "area",
            "sizeref": 1119177225,
            "symbol": "circle"
           },
           "mode": "markers",
           "name": "Italy",
           "orientation": "v",
           "showlegend": true,
           "type": "scatter",
           "x": [
            1743213630000
           ],
           "xaxis": "x",
           "y": [
            14280000000
           ],
           "yaxis": "y"
          },
          {
           "hovertemplate": "<b>%{hovertext}</b><br><br>Country=Latvia<br>Year=2006<br>GDP=%{marker.size}<br>RoadSpending=%{y}<extra></extra>",
           "hovertext": [
            "Latvia"
           ],
           "legendgroup": "Latvia",
           "marker": {
            "color": "#FFA15A",
            "size": [
             19214210000
            ],
            "sizemode": "area",
            "sizeref": 1119177225,
            "symbol": "circle"
           },
           "mode": "markers",
           "name": "Latvia",
           "orientation": "v",
           "showlegend": true,
           "type": "scatter",
           "x": [
            19214210000
           ],
           "xaxis": "x",
           "y": [
            158000000
           ],
           "yaxis": "y"
          },
          {
           "hovertemplate": "<b>%{hovertext}</b><br><br>Country=Lithuania<br>Year=2006<br>GDP=%{marker.size}<br>RoadSpending=%{y}<extra></extra>",
           "hovertext": [
            "Lithuania"
           ],
           "legendgroup": "Lithuania",
           "marker": {
            "color": "#19d3f3",
            "size": [
             26890460000
            ],
            "sizemode": "area",
            "sizeref": 1119177225,
            "symbol": "circle"
           },
           "mode": "markers",
           "name": "Lithuania",
           "orientation": "v",
           "showlegend": true,
           "type": "scatter",
           "x": [
            26890460000
           ],
           "xaxis": "x",
           "y": [
            242000000
           ],
           "yaxis": "y"
          },
          {
           "hovertemplate": "<b>%{hovertext}</b><br><br>Country=Luxembourg<br>Year=2006<br>GDP=%{marker.size}<br>RoadSpending=%{y}<extra></extra>",
           "hovertext": [
            "Luxembourg"
           ],
           "legendgroup": "Luxembourg",
           "marker": {
            "color": "#FF6692",
            "size": [
             38191680000
            ],
            "sizemode": "area",
            "sizeref": 1119177225,
            "symbol": "circle"
           },
           "mode": "markers",
           "name": "Luxembourg",
           "orientation": "v",
           "showlegend": true,
           "type": "scatter",
           "x": [
            38191680000
           ],
           "xaxis": "x",
           "y": [
            175887339.7
           ],
           "yaxis": "y"
          },
          {
           "hovertemplate": "<b>%{hovertext}</b><br><br>Country=Malta<br>Year=2006<br>GDP=%{marker.size}<br>RoadSpending=%{y}<extra></extra>",
           "hovertext": [
            "Malta"
           ],
           "legendgroup": "Malta",
           "marker": {
            "color": "#B6E880",
            "size": [
             6036870000
            ],
            "sizemode": "area",
            "sizeref": 1119177225,
            "symbol": "circle"
           },
           "mode": "markers",
           "name": "Malta",
           "orientation": "v",
           "showlegend": true,
           "type": "scatter",
           "x": [
            6036870000
           ],
           "xaxis": "x",
           "y": [
            26546945.61
           ],
           "yaxis": "y"
          },
          {
           "hovertemplate": "<b>%{hovertext}</b><br><br>Country=Netherlands<br>Year=2006<br>GDP=%{marker.size}<br>RoadSpending=%{y}<extra></extra>",
           "hovertext": [
            "Netherlands"
           ],
           "legendgroup": "Netherlands",
           "marker": {
            "color": "#FF97FF",
            "size": [
             656493370000
            ],
            "sizemode": "area",
            "sizeref": 1119177225,
            "symbol": "circle"
           },
           "mode": "markers",
           "name": "Netherlands",
           "orientation": "v",
           "showlegend": true,
           "type": "scatter",
           "x": [
            656493370000
           ],
           "xaxis": "x",
           "y": [
            1654000000
           ],
           "yaxis": "y"
          },
          {
           "hovertemplate": "<b>%{hovertext}</b><br><br>Country=Poland<br>Year=2006<br>GDP=%{marker.size}<br>RoadSpending=%{y}<extra></extra>",
           "hovertext": [
            "Poland"
           ],
           "legendgroup": "Poland",
           "marker": {
            "color": "#FECB52",
            "size": [
             306718030000
            ],
            "sizemode": "area",
            "sizeref": 1119177225,
            "symbol": "circle"
           },
           "mode": "markers",
           "name": "Poland",
           "orientation": "v",
           "showlegend": true,
           "type": "scatter",
           "x": [
            306718030000
           ],
           "xaxis": "x",
           "y": [
            2605324639
           ],
           "yaxis": "y"
          },
          {
           "hovertemplate": "<b>%{hovertext}</b><br><br>Country=Portugal<br>Year=2006<br>GDP=%{marker.size}<br>RoadSpending=%{y}<extra></extra>",
           "hovertext": [
            "Portugal"
           ],
           "legendgroup": "Portugal",
           "marker": {
            "color": "#636efa",
            "size": [
             185802630000
            ],
            "sizemode": "area",
            "sizeref": 1119177225,
            "symbol": "circle"
           },
           "mode": "markers",
           "name": "Portugal",
           "orientation": "v",
           "showlegend": true,
           "type": "scatter",
           "x": [
            185802630000
           ],
           "xaxis": "x",
           "y": [
            1940000000
           ],
           "yaxis": "y"
          },
          {
           "hovertemplate": "<b>%{hovertext}</b><br><br>Country=Romania<br>Year=2006<br>GDP=%{marker.size}<br>RoadSpending=%{y}<extra></extra>",
           "hovertext": [
            "Romania"
           ],
           "legendgroup": "Romania",
           "marker": {
            "color": "#EF553B",
            "size": [
             108681460000
            ],
            "sizemode": "area",
            "sizeref": 1119177225,
            "symbol": "circle"
           },
           "mode": "markers",
           "name": "Romania",
           "orientation": "v",
           "showlegend": true,
           "type": "scatter",
           "x": [
            108681460000
           ],
           "xaxis": "x",
           "y": [
            1950686642
           ],
           "yaxis": "y"
          },
          {
           "hovertemplate": "<b>%{hovertext}</b><br><br>Country=Slovak Republic<br>Year=2006<br>GDP=%{marker.size}<br>RoadSpending=%{y}<extra></extra>",
           "hovertext": [
            "Slovak Republic"
           ],
           "legendgroup": "Slovak Republic",
           "marker": {
            "color": "#00cc96",
            "size": [
             51167880000
            ],
            "sizemode": "area",
            "sizeref": 1119177225,
            "symbol": "circle"
           },
           "mode": "markers",
           "name": "Slovak Republic",
           "orientation": "v",
           "showlegend": true,
           "type": "scatter",
           "x": [
            51167880000
           ],
           "xaxis": "x",
           "y": [
            411000000
           ],
           "yaxis": "y"
          },
          {
           "hovertemplate": "<b>%{hovertext}</b><br><br>Country=Slovenia<br>Year=2006<br>GDP=%{marker.size}<br>RoadSpending=%{y}<extra></extra>",
           "hovertext": [
            "Slovenia"
           ],
           "legendgroup": "Slovenia",
           "marker": {
            "color": "#ab63fa",
            "size": [
             34970770000
            ],
            "sizemode": "area",
            "sizeref": 1119177225,
            "symbol": "circle"
           },
           "mode": "markers",
           "name": "Slovenia",
           "orientation": "v",
           "showlegend": true,
           "type": "scatter",
           "x": [
            34970770000
           ],
           "xaxis": "x",
           "y": [
            573000000
           ],
           "yaxis": "y"
          },
          {
           "hovertemplate": "<b>%{hovertext}</b><br><br>Country=Spain<br>Year=2006<br>GDP=%{marker.size}<br>RoadSpending=%{y}<extra></extra>",
           "hovertext": [
            "Spain"
           ],
           "legendgroup": "Spain",
           "marker": {
            "color": "#FFA15A",
            "size": [
             1123103460000
            ],
            "sizemode": "area",
            "sizeref": 1119177225,
            "symbol": "circle"
           },
           "mode": "markers",
           "name": "Spain",
           "orientation": "v",
           "showlegend": true,
           "type": "scatter",
           "x": [
            1123103460000
           ],
           "xaxis": "x",
           "y": [
            8411000000
           ],
           "yaxis": "y"
          },
          {
           "hovertemplate": "<b>%{hovertext}</b><br><br>Country=Sweden<br>Year=2006<br>GDP=%{marker.size}<br>RoadSpending=%{y}<extra></extra>",
           "hovertext": [
            "Sweden"
           ],
           "legendgroup": "Sweden",
           "marker": {
            "color": "#19d3f3",
            "size": [
             376049920000
            ],
            "sizemode": "area",
            "sizeref": 1119177225,
            "symbol": "circle"
           },
           "mode": "markers",
           "name": "Sweden",
           "orientation": "v",
           "showlegend": true,
           "type": "scatter",
           "x": [
            376049920000
           ],
           "xaxis": "x",
           "y": [
            1407281727
           ],
           "yaxis": "y"
          }
         ],
         "name": "2006"
        },
        {
         "data": [
          {
           "hovertemplate": "<b>%{hovertext}</b><br><br>Country=Austria<br>Year=2007<br>GDP=%{marker.size}<br>RoadSpending=%{y}<extra></extra>",
           "hovertext": [
            "Austria"
           ],
           "legendgroup": "Austria",
           "marker": {
            "color": "#636efa",
            "size": [
             346415590000
            ],
            "sizemode": "area",
            "sizeref": 1119177225,
            "symbol": "circle"
           },
           "mode": "markers",
           "name": "Austria",
           "orientation": "v",
           "showlegend": true,
           "type": "scatter",
           "x": [
            346415590000
           ],
           "xaxis": "x",
           "y": [
            null
           ],
           "yaxis": "y"
          },
          {
           "hovertemplate": "<b>%{hovertext}</b><br><br>Country=Belgium<br>Year=2007<br>GDP=%{marker.size}<br>RoadSpending=%{y}<extra></extra>",
           "hovertext": [
            "Belgium"
           ],
           "legendgroup": "Belgium",
           "marker": {
            "color": "#EF553B",
            "size": [
             419170420000
            ],
            "sizemode": "area",
            "sizeref": 1119177225,
            "symbol": "circle"
           },
           "mode": "markers",
           "name": "Belgium",
           "orientation": "v",
           "showlegend": true,
           "type": "scatter",
           "x": [
            419170420000
           ],
           "xaxis": "x",
           "y": [
            166000000
           ],
           "yaxis": "y"
          },
          {
           "hovertemplate": "<b>%{hovertext}</b><br><br>Country=Bulgaria<br>Year=2007<br>GDP=%{marker.size}<br>RoadSpending=%{y}<extra></extra>",
           "hovertext": [
            "Bulgaria"
           ],
           "legendgroup": "Bulgaria",
           "marker": {
            "color": "#00cc96",
            "size": [
             39544480000
            ],
            "sizemode": "area",
            "sizeref": 1119177225,
            "symbol": "circle"
           },
           "mode": "markers",
           "name": "Bulgaria",
           "orientation": "v",
           "showlegend": true,
           "type": "scatter",
           "x": [
            39544480000
           ],
           "xaxis": "x",
           "y": [
            213211984.9
           ],
           "yaxis": "y"
          },
          {
           "hovertemplate": "<b>%{hovertext}</b><br><br>Country=Croatia<br>Year=2007<br>GDP=%{marker.size}<br>RoadSpending=%{y}<extra></extra>",
           "hovertext": [
            "Croatia"
           ],
           "legendgroup": "Croatia",
           "marker": {
            "color": "#ab63fa",
            "size": [
             52799250000
            ],
            "sizemode": "area",
            "sizeref": 1119177225,
            "symbol": "circle"
           },
           "mode": "markers",
           "name": "Croatia",
           "orientation": "v",
           "showlegend": true,
           "type": "scatter",
           "x": [
            52799250000
           ],
           "xaxis": "x",
           "y": [
            1038157807
           ],
           "yaxis": "y"
          },
          {
           "hovertemplate": "<b>%{hovertext}</b><br><br>Country=Czechia<br>Year=2007<br>GDP=%{marker.size}<br>RoadSpending=%{y}<extra></extra>",
           "hovertext": [
            "Czechia"
           ],
           "legendgroup": "Czechia",
           "marker": {
            "color": "#FFA15A",
            "size": [
             168962050000
            ],
            "sizemode": "area",
            "sizeref": 1119177225,
            "symbol": "circle"
           },
           "mode": "markers",
           "name": "Czechia",
           "orientation": "v",
           "showlegend": true,
           "type": "scatter",
           "x": [
            168962050000
           ],
           "xaxis": "x",
           "y": [
            1493648724
           ],
           "yaxis": "y"
          },
          {
           "hovertemplate": "<b>%{hovertext}</b><br><br>Country=Denmark<br>Year=2007<br>GDP=%{marker.size}<br>RoadSpending=%{y}<extra></extra>",
           "hovertext": [
            "Denmark"
           ],
           "legendgroup": "Denmark",
           "marker": {
            "color": "#19d3f3",
            "size": [
             284989570000
            ],
            "sizemode": "area",
            "sizeref": 1119177225,
            "symbol": "circle"
           },
           "mode": "markers",
           "name": "Denmark",
           "orientation": "v",
           "showlegend": true,
           "type": "scatter",
           "x": [
            284989570000
           ],
           "xaxis": "x",
           "y": [
            1028882805
           ],
           "yaxis": "y"
          },
          {
           "hovertemplate": "<b>%{hovertext}</b><br><br>Country=Estonia<br>Year=2007<br>GDP=%{marker.size}<br>RoadSpending=%{y}<extra></extra>",
           "hovertext": [
            "Estonia"
           ],
           "legendgroup": "Estonia",
           "marker": {
            "color": "#FF6692",
            "size": [
             20005420000
            ],
            "sizemode": "area",
            "sizeref": 1119177225,
            "symbol": "circle"
           },
           "mode": "markers",
           "name": "Estonia",
           "orientation": "v",
           "showlegend": true,
           "type": "scatter",
           "x": [
            20005420000
           ],
           "xaxis": "x",
           "y": [
            126000000
           ],
           "yaxis": "y"
          },
          {
           "hovertemplate": "<b>%{hovertext}</b><br><br>Country=Finland<br>Year=2007<br>GDP=%{marker.size}<br>RoadSpending=%{y}<extra></extra>",
           "hovertext": [
            "Finland"
           ],
           "legendgroup": "Finland",
           "marker": {
            "color": "#B6E880",
            "size": [
             228187100000
            ],
            "sizemode": "area",
            "sizeref": 1119177225,
            "symbol": "circle"
           },
           "mode": "markers",
           "name": "Finland",
           "orientation": "v",
           "showlegend": true,
           "type": "scatter",
           "x": [
            228187100000
           ],
           "xaxis": "x",
           "y": [
            802000000
           ],
           "yaxis": "y"
          },
          {
           "hovertemplate": "<b>%{hovertext}</b><br><br>Country=France<br>Year=2007<br>GDP=%{marker.size}<br>RoadSpending=%{y}<extra></extra>",
           "hovertext": [
            "France"
           ],
           "legendgroup": "France",
           "marker": {
            "color": "#FF97FF",
            "size": [
             2363955700000
            ],
            "sizemode": "area",
            "sizeref": 1119177225,
            "symbol": "circle"
           },
           "mode": "markers",
           "name": "France",
           "orientation": "v",
           "showlegend": true,
           "type": "scatter",
           "x": [
            2363955700000
           ],
           "xaxis": "x",
           "y": [
            13883209568
           ],
           "yaxis": "y"
          },
          {
           "hovertemplate": "<b>%{hovertext}</b><br><br>Country=Germany<br>Year=2007<br>GDP=%{marker.size}<br>RoadSpending=%{y}<extra></extra>",
           "hovertext": [
            "Germany"
           ],
           "legendgroup": "Germany",
           "marker": {
            "color": "#FECB52",
            "size": [
             3101175630000
            ],
            "sizemode": "area",
            "sizeref": 1119177225,
            "symbol": "circle"
           },
           "mode": "markers",
           "name": "Germany",
           "orientation": "v",
           "showlegend": true,
           "type": "scatter",
           "x": [
            3101175630000
           ],
           "xaxis": "x",
           "y": [
            10845000000
           ],
           "yaxis": "y"
          },
          {
           "hovertemplate": "<b>%{hovertext}</b><br><br>Country=Greece<br>Year=2007<br>GDP=%{marker.size}<br>RoadSpending=%{y}<extra></extra>",
           "hovertext": [
            "Greece"
           ],
           "legendgroup": "Greece",
           "marker": {
            "color": "#636efa",
            "size": [
             283856600000
            ],
            "sizemode": "area",
            "sizeref": 1119177225,
            "symbol": "circle"
           },
           "mode": "markers",
           "name": "Greece",
           "orientation": "v",
           "showlegend": true,
           "type": "scatter",
           "x": [
            283856600000
           ],
           "xaxis": "x",
           "y": [
            1516000000
           ],
           "yaxis": "y"
          },
          {
           "hovertemplate": "<b>%{hovertext}</b><br><br>Country=Hungary<br>Year=2007<br>GDP=%{marker.size}<br>RoadSpending=%{y}<extra></extra>",
           "hovertext": [
            "Hungary"
           ],
           "legendgroup": "Hungary",
           "marker": {
            "color": "#EF553B",
            "size": [
             124766430000
            ],
            "sizemode": "area",
            "sizeref": 1119177225,
            "symbol": "circle"
           },
           "mode": "markers",
           "name": "Hungary",
           "orientation": "v",
           "showlegend": true,
           "type": "scatter",
           "x": [
            124766430000
           ],
           "xaxis": "x",
           "y": [
            645917032
           ],
           "yaxis": "y"
          },
          {
           "hovertemplate": "<b>%{hovertext}</b><br><br>Country=Ireland<br>Year=2007<br>GDP=%{marker.size}<br>RoadSpending=%{y}<extra></extra>",
           "hovertext": [
            "Ireland"
           ],
           "legendgroup": "Ireland",
           "marker": {
            "color": "#00cc96",
            "size": [
             240399680000.00003
            ],
            "sizemode": "area",
            "sizeref": 1119177225,
            "symbol": "circle"
           },
           "mode": "markers",
           "name": "Ireland",
           "orientation": "v",
           "showlegend": true,
           "type": "scatter",
           "x": [
            240399680000.00003
           ],
           "xaxis": "x",
           "y": [
            2191000000
           ],
           "yaxis": "y"
          },
          {
           "hovertemplate": "<b>%{hovertext}</b><br><br>Country=Italy<br>Year=2007<br>GDP=%{marker.size}<br>RoadSpending=%{y}<extra></extra>",
           "hovertext": [
            "Italy"
           ],
           "legendgroup": "Italy",
           "marker": {
            "color": "#ab63fa",
            "size": [
             1978278650000
            ],
            "sizemode": "area",
            "sizeref": 1119177225,
            "symbol": "circle"
           },
           "mode": "markers",
           "name": "Italy",
           "orientation": "v",
           "showlegend": true,
           "type": "scatter",
           "x": [
            1978278650000
           ],
           "xaxis": "x",
           "y": [
            13664000000
           ],
           "yaxis": "y"
          },
          {
           "hovertemplate": "<b>%{hovertext}</b><br><br>Country=Latvia<br>Year=2007<br>GDP=%{marker.size}<br>RoadSpending=%{y}<extra></extra>",
           "hovertext": [
            "Latvia"
           ],
           "legendgroup": "Latvia",
           "marker": {
            "color": "#FFA15A",
            "size": [
             27679000000
            ],
            "sizemode": "area",
            "sizeref": 1119177225,
            "symbol": "circle"
           },
           "mode": "markers",
           "name": "Latvia",
           "orientation": "v",
           "showlegend": true,
           "type": "scatter",
           "x": [
            27679000000
           ],
           "xaxis": "x",
           "y": [
            231000000
           ],
           "yaxis": "y"
          },
          {
           "hovertemplate": "<b>%{hovertext}</b><br><br>Country=Lithuania<br>Year=2007<br>GDP=%{marker.size}<br>RoadSpending=%{y}<extra></extra>",
           "hovertext": [
            "Lithuania"
           ],
           "legendgroup": "Lithuania",
           "marker": {
            "color": "#19d3f3",
            "size": [
             35397970000
            ],
            "sizemode": "area",
            "sizeref": 1119177225,
            "symbol": "circle"
           },
           "mode": "markers",
           "name": "Lithuania",
           "orientation": "v",
           "showlegend": true,
           "type": "scatter",
           "x": [
            35397970000
           ],
           "xaxis": "x",
           "y": [
            312000000
           ],
           "yaxis": "y"
          },
          {
           "hovertemplate": "<b>%{hovertext}</b><br><br>Country=Luxembourg<br>Year=2007<br>GDP=%{marker.size}<br>RoadSpending=%{y}<extra></extra>",
           "hovertext": [
            "Luxembourg"
           ],
           "legendgroup": "Luxembourg",
           "marker": {
            "color": "#FF6692",
            "size": [
             45917770000
            ],
            "sizemode": "area",
            "sizeref": 1119177225,
            "symbol": "circle"
           },
           "mode": "markers",
           "name": "Luxembourg",
           "orientation": "v",
           "showlegend": true,
           "type": "scatter",
           "x": [
            45917770000
           ],
           "xaxis": "x",
           "y": [
            157402016.9
           ],
           "yaxis": "y"
          },
          {
           "hovertemplate": "<b>%{hovertext}</b><br><br>Country=Malta<br>Year=2007<br>GDP=%{marker.size}<br>RoadSpending=%{y}<extra></extra>",
           "hovertext": [
            "Malta"
           ],
           "legendgroup": "Malta",
           "marker": {
            "color": "#B6E880",
            "size": [
             7095080000
            ],
            "sizemode": "area",
            "sizeref": 1119177225,
            "symbol": "circle"
           },
           "mode": "markers",
           "name": "Malta",
           "orientation": "v",
           "showlegend": true,
           "type": "scatter",
           "x": [
            7095080000
           ],
           "xaxis": "x",
           "y": [
            25885221.83
           ],
           "yaxis": "y"
          },
          {
           "hovertemplate": "<b>%{hovertext}</b><br><br>Country=Netherlands<br>Year=2007<br>GDP=%{marker.size}<br>RoadSpending=%{y}<extra></extra>",
           "hovertext": [
            "Netherlands"
           ],
           "legendgroup": "Netherlands",
           "marker": {
            "color": "#FF97FF",
            "size": [
             759704000000
            ],
            "sizemode": "area",
            "sizeref": 1119177225,
            "symbol": "circle"
           },
           "mode": "markers",
           "name": "Netherlands",
           "orientation": "v",
           "showlegend": true,
           "type": "scatter",
           "x": [
            759704000000
           ],
           "xaxis": "x",
           "y": [
            1680000000
           ],
           "yaxis": "y"
          },
          {
           "hovertemplate": "<b>%{hovertext}</b><br><br>Country=Poland<br>Year=2007<br>GDP=%{marker.size}<br>RoadSpending=%{y}<extra></extra>",
           "hovertext": [
            "Poland"
           ],
           "legendgroup": "Poland",
           "marker": {
            "color": "#FECB52",
            "size": [
             381828690000
            ],
            "sizemode": "area",
            "sizeref": 1119177225,
            "symbol": "circle"
           },
           "mode": "markers",
           "name": "Poland",
           "orientation": "v",
           "showlegend": true,
           "type": "scatter",
           "x": [
            381828690000
           ],
           "xaxis": "x",
           "y": [
            3444000952
           ],
           "yaxis": "y"
          },
          {
           "hovertemplate": "<b>%{hovertext}</b><br><br>Country=Portugal<br>Year=2007<br>GDP=%{marker.size}<br>RoadSpending=%{y}<extra></extra>",
           "hovertext": [
            "Portugal"
           ],
           "legendgroup": "Portugal",
           "marker": {
            "color": "#636efa",
            "size": [
             214066360000
            ],
            "sizemode": "area",
            "sizeref": 1119177225,
            "symbol": "circle"
           },
           "mode": "markers",
           "name": "Portugal",
           "orientation": "v",
           "showlegend": true,
           "type": "scatter",
           "x": [
            214066360000
           ],
           "xaxis": "x",
           "y": [
            1453000000
           ],
           "yaxis": "y"
          },
          {
           "hovertemplate": "<b>%{hovertext}</b><br><br>Country=Romania<br>Year=2007<br>GDP=%{marker.size}<br>RoadSpending=%{y}<extra></extra>",
           "hovertext": [
            "Romania"
           ],
           "legendgroup": "Romania",
           "marker": {
            "color": "#EF553B",
            "size": [
             155599590000
            ],
            "sizemode": "area",
            "sizeref": 1119177225,
            "symbol": "circle"
           },
           "mode": "markers",
           "name": "Romania",
           "orientation": "v",
           "showlegend": true,
           "type": "scatter",
           "x": [
            155599590000
           ],
           "xaxis": "x",
           "y": [
            2803858714
           ],
           "yaxis": "y"
          },
          {
           "hovertemplate": "<b>%{hovertext}</b><br><br>Country=Slovak Republic<br>Year=2007<br>GDP=%{marker.size}<br>RoadSpending=%{y}<extra></extra>",
           "hovertext": [
            "Slovak Republic"
           ],
           "legendgroup": "Slovak Republic",
           "marker": {
            "color": "#00cc96",
            "size": [
             68742710000
            ],
            "sizemode": "area",
            "sizeref": 1119177225,
            "symbol": "circle"
           },
           "mode": "markers",
           "name": "Slovak Republic",
           "orientation": "v",
           "showlegend": true,
           "type": "scatter",
           "x": [
            68742710000
           ],
           "xaxis": "x",
           "y": [
            520000000
           ],
           "yaxis": "y"
          },
          {
           "hovertemplate": "<b>%{hovertext}</b><br><br>Country=Slovenia<br>Year=2007<br>GDP=%{marker.size}<br>RoadSpending=%{y}<extra></extra>",
           "hovertext": [
            "Slovenia"
           ],
           "legendgroup": "Slovenia",
           "marker": {
            "color": "#ab63fa",
            "size": [
             42618540000
            ],
            "sizemode": "area",
            "sizeref": 1119177225,
            "symbol": "circle"
           },
           "mode": "markers",
           "name": "Slovenia",
           "orientation": "v",
           "showlegend": true,
           "type": "scatter",
           "x": [
            42618540000
           ],
           "xaxis": "x",
           "y": [
            666000000
           ],
           "yaxis": "y"
          },
          {
           "hovertemplate": "<b>%{hovertext}</b><br><br>Country=Spain<br>Year=2007<br>GDP=%{marker.size}<br>RoadSpending=%{y}<extra></extra>",
           "hovertext": [
            "Spain"
           ],
           "legendgroup": "Spain",
           "marker": {
            "color": "#FFA15A",
            "size": [
             1314458800000
            ],
            "sizemode": "area",
            "sizeref": 1119177225,
            "symbol": "circle"
           },
           "mode": "markers",
           "name": "Spain",
           "orientation": "v",
           "showlegend": true,
           "type": "scatter",
           "x": [
            1314458800000
           ],
           "xaxis": "x",
           "y": [
            8077000000
           ],
           "yaxis": "y"
          },
          {
           "hovertemplate": "<b>%{hovertext}</b><br><br>Country=Sweden<br>Year=2007<br>GDP=%{marker.size}<br>RoadSpending=%{y}<extra></extra>",
           "hovertext": [
            "Sweden"
           ],
           "legendgroup": "Sweden",
           "marker": {
            "color": "#19d3f3",
            "size": [
             436146280000
            ],
            "sizemode": "area",
            "sizeref": 1119177225,
            "symbol": "circle"
           },
           "mode": "markers",
           "name": "Sweden",
           "orientation": "v",
           "showlegend": true,
           "type": "scatter",
           "x": [
            436146280000
           ],
           "xaxis": "x",
           "y": [
            1422704035
           ],
           "yaxis": "y"
          }
         ],
         "name": "2007"
        },
        {
         "data": [
          {
           "hovertemplate": "<b>%{hovertext}</b><br><br>Country=Austria<br>Year=2008<br>GDP=%{marker.size}<br>RoadSpending=%{y}<extra></extra>",
           "hovertext": [
            "Austria"
           ],
           "legendgroup": "Austria",
           "marker": {
            "color": "#636efa",
            "size": [
             384484450000
            ],
            "sizemode": "area",
            "sizeref": 1119177225,
            "symbol": "circle"
           },
           "mode": "markers",
           "name": "Austria",
           "orientation": "v",
           "showlegend": true,
           "type": "scatter",
           "x": [
            384484450000
           ],
           "xaxis": "x",
           "y": [
            null
           ],
           "yaxis": "y"
          },
          {
           "hovertemplate": "<b>%{hovertext}</b><br><br>Country=Belgium<br>Year=2008<br>GDP=%{marker.size}<br>RoadSpending=%{y}<extra></extra>",
           "hovertext": [
            "Belgium"
           ],
           "legendgroup": "Belgium",
           "marker": {
            "color": "#EF553B",
            "size": [
             460370300000
            ],
            "sizemode": "area",
            "sizeref": 1119177225,
            "symbol": "circle"
           },
           "mode": "markers",
           "name": "Belgium",
           "orientation": "v",
           "showlegend": true,
           "type": "scatter",
           "x": [
            460370300000
           ],
           "xaxis": "x",
           "y": [
            156000000
           ],
           "yaxis": "y"
          },
          {
           "hovertemplate": "<b>%{hovertext}</b><br><br>Country=Bulgaria<br>Year=2008<br>GDP=%{marker.size}<br>RoadSpending=%{y}<extra></extra>",
           "hovertext": [
            "Bulgaria"
           ],
           "legendgroup": "Bulgaria",
           "marker": {
            "color": "#00cc96",
            "size": [
             48483640000
            ],
            "sizemode": "area",
            "sizeref": 1119177225,
            "symbol": "circle"
           },
           "mode": "markers",
           "name": "Bulgaria",
           "orientation": "v",
           "showlegend": true,
           "type": "scatter",
           "x": [
            48483640000
           ],
           "xaxis": "x",
           "y": [
            256161161.7
           ],
           "yaxis": "y"
          },
          {
           "hovertemplate": "<b>%{hovertext}</b><br><br>Country=Croatia<br>Year=2008<br>GDP=%{marker.size}<br>RoadSpending=%{y}<extra></extra>",
           "hovertext": [
            "Croatia"
           ],
           "legendgroup": "Croatia",
           "marker": {
            "color": "#ab63fa",
            "size": [
             60978350000
            ],
            "sizemode": "area",
            "sizeref": 1119177225,
            "symbol": "circle"
           },
           "mode": "markers",
           "name": "Croatia",
           "orientation": "v",
           "showlegend": true,
           "type": "scatter",
           "x": [
            60978350000
           ],
           "xaxis": "x",
           "y": [
            1055942664
           ],
           "yaxis": "y"
          },
          {
           "hovertemplate": "<b>%{hovertext}</b><br><br>Country=Czechia<br>Year=2008<br>GDP=%{marker.size}<br>RoadSpending=%{y}<extra></extra>",
           "hovertext": [
            "Czechia"
           ],
           "legendgroup": "Czechia",
           "marker": {
            "color": "#FFA15A",
            "size": [
             210769800000
            ],
            "sizemode": "area",
            "sizeref": 1119177225,
            "symbol": "circle"
           },
           "mode": "markers",
           "name": "Czechia",
           "orientation": "v",
           "showlegend": true,
           "type": "scatter",
           "x": [
            210769800000
           ],
           "xaxis": "x",
           "y": [
            2041828599
           ],
           "yaxis": "y"
          },
          {
           "hovertemplate": "<b>%{hovertext}</b><br><br>Country=Denmark<br>Year=2008<br>GDP=%{marker.size}<br>RoadSpending=%{y}<extra></extra>",
           "hovertext": [
            "Denmark"
           ],
           "legendgroup": "Denmark",
           "marker": {
            "color": "#19d3f3",
            "size": [
             315929530000
            ],
            "sizemode": "area",
            "sizeref": 1119177225,
            "symbol": "circle"
           },
           "mode": "markers",
           "name": "Denmark",
           "orientation": "v",
           "showlegend": true,
           "type": "scatter",
           "x": [
            315929530000
           ],
           "xaxis": "x",
           "y": [
            935622317.6
           ],
           "yaxis": "y"
          },
          {
           "hovertemplate": "<b>%{hovertext}</b><br><br>Country=Estonia<br>Year=2008<br>GDP=%{marker.size}<br>RoadSpending=%{y}<extra></extra>",
           "hovertext": [
            "Estonia"
           ],
           "legendgroup": "Estonia",
           "marker": {
            "color": "#FF6692",
            "size": [
             21746260000
            ],
            "sizemode": "area",
            "sizeref": 1119177225,
            "symbol": "circle"
           },
           "mode": "markers",
           "name": "Estonia",
           "orientation": "v",
           "showlegend": true,
           "type": "scatter",
           "x": [
            21746260000
           ],
           "xaxis": "x",
           "y": [
            142000000
           ],
           "yaxis": "y"
          },
          {
           "hovertemplate": "<b>%{hovertext}</b><br><br>Country=Finland<br>Year=2008<br>GDP=%{marker.size}<br>RoadSpending=%{y}<extra></extra>",
           "hovertext": [
            "Finland"
           ],
           "legendgroup": "Finland",
           "marker": {
            "color": "#B6E880",
            "size": [
             254243630000
            ],
            "sizemode": "area",
            "sizeref": 1119177225,
            "symbol": "circle"
           },
           "mode": "markers",
           "name": "Finland",
           "orientation": "v",
           "showlegend": true,
           "type": "scatter",
           "x": [
            254243630000
           ],
           "xaxis": "x",
           "y": [
            973000000
           ],
           "yaxis": "y"
          },
          {
           "hovertemplate": "<b>%{hovertext}</b><br><br>Country=France<br>Year=2008<br>GDP=%{marker.size}<br>RoadSpending=%{y}<extra></extra>",
           "hovertext": [
            "France"
           ],
           "legendgroup": "France",
           "marker": {
            "color": "#FF97FF",
            "size": [
             2604569870000
            ],
            "sizemode": "area",
            "sizeref": 1119177225,
            "symbol": "circle"
           },
           "mode": "markers",
           "name": "France",
           "orientation": "v",
           "showlegend": true,
           "type": "scatter",
           "x": [
            2604569870000
           ],
           "xaxis": "x",
           "y": [
            14036319131
           ],
           "yaxis": "y"
          },
          {
           "hovertemplate": "<b>%{hovertext}</b><br><br>Country=Germany<br>Year=2008<br>GDP=%{marker.size}<br>RoadSpending=%{y}<extra></extra>",
           "hovertext": [
            "Germany"
           ],
           "legendgroup": "Germany",
           "marker": {
            "color": "#FECB52",
            "size": [
             3389448410000
            ],
            "sizemode": "area",
            "sizeref": 1119177225,
            "symbol": "circle"
           },
           "mode": "markers",
           "name": "Germany",
           "orientation": "v",
           "showlegend": true,
           "type": "scatter",
           "x": [
            3389448410000
           ],
           "xaxis": "x",
           "y": [
            11410000000
           ],
           "yaxis": "y"
          },
          {
           "hovertemplate": "<b>%{hovertext}</b><br><br>Country=Greece<br>Year=2008<br>GDP=%{marker.size}<br>RoadSpending=%{y}<extra></extra>",
           "hovertext": [
            "Greece"
           ],
           "legendgroup": "Greece",
           "marker": {
            "color": "#636efa",
            "size": [
             316724300000
            ],
            "sizemode": "area",
            "sizeref": 1119177225,
            "symbol": "circle"
           },
           "mode": "markers",
           "name": "Greece",
           "orientation": "v",
           "showlegend": true,
           "type": "scatter",
           "x": [
            316724300000
           ],
           "xaxis": "x",
           "y": [
            1760000000
           ],
           "yaxis": "y"
          },
          {
           "hovertemplate": "<b>%{hovertext}</b><br><br>Country=Hungary<br>Year=2008<br>GDP=%{marker.size}<br>RoadSpending=%{y}<extra></extra>",
           "hovertext": [
            "Hungary"
           ],
           "legendgroup": "Hungary",
           "marker": {
            "color": "#EF553B",
            "size": [
             140910140000
            ],
            "sizemode": "area",
            "sizeref": 1119177225,
            "symbol": "circle"
           },
           "mode": "markers",
           "name": "Hungary",
           "orientation": "v",
           "showlegend": true,
           "type": "scatter",
           "x": [
            140910140000
           ],
           "xaxis": "x",
           "y": [
            977883708.2
           ],
           "yaxis": "y"
          },
          {
           "hovertemplate": "<b>%{hovertext}</b><br><br>Country=Ireland<br>Year=2008<br>GDP=%{marker.size}<br>RoadSpending=%{y}<extra></extra>",
           "hovertext": [
            "Ireland"
           ],
           "legendgroup": "Ireland",
           "marker": {
            "color": "#00cc96",
            "size": [
             245121130000
            ],
            "sizemode": "area",
            "sizeref": 1119177225,
            "symbol": "circle"
           },
           "mode": "markers",
           "name": "Ireland",
           "orientation": "v",
           "showlegend": true,
           "type": "scatter",
           "x": [
            245121130000
           ],
           "xaxis": "x",
           "y": [
            2069000000
           ],
           "yaxis": "y"
          },
          {
           "hovertemplate": "<b>%{hovertext}</b><br><br>Country=Italy<br>Year=2008<br>GDP=%{marker.size}<br>RoadSpending=%{y}<extra></extra>",
           "hovertext": [
            "Italy"
           ],
           "legendgroup": "Italy",
           "marker": {
            "color": "#ab63fa",
            "size": [
             2151345380000
            ],
            "sizemode": "area",
            "sizeref": 1119177225,
            "symbol": "circle"
           },
           "mode": "markers",
           "name": "Italy",
           "orientation": "v",
           "showlegend": true,
           "type": "scatter",
           "x": [
            2151345380000
           ],
           "xaxis": "x",
           "y": [
            13051000000
           ],
           "yaxis": "y"
          },
          {
           "hovertemplate": "<b>%{hovertext}</b><br><br>Country=Latvia<br>Year=2008<br>GDP=%{marker.size}<br>RoadSpending=%{y}<extra></extra>",
           "hovertext": [
            "Latvia"
           ],
           "legendgroup": "Latvia",
           "marker": {
            "color": "#FFA15A",
            "size": [
             32060470000
            ],
            "sizemode": "area",
            "sizeref": 1119177225,
            "symbol": "circle"
           },
           "mode": "markers",
           "name": "Latvia",
           "orientation": "v",
           "showlegend": true,
           "type": "scatter",
           "x": [
            32060470000
           ],
           "xaxis": "x",
           "y": [
            272000000
           ],
           "yaxis": "y"
          },
          {
           "hovertemplate": "<b>%{hovertext}</b><br><br>Country=Lithuania<br>Year=2008<br>GDP=%{marker.size}<br>RoadSpending=%{y}<extra></extra>",
           "hovertext": [
            "Lithuania"
           ],
           "legendgroup": "Lithuania",
           "marker": {
            "color": "#19d3f3",
            "size": [
             42658590000
            ],
            "sizemode": "area",
            "sizeref": 1119177225,
            "symbol": "circle"
           },
           "mode": "markers",
           "name": "Lithuania",
           "orientation": "v",
           "showlegend": true,
           "type": "scatter",
           "x": [
            42658590000
           ],
           "xaxis": "x",
           "y": [
            437000000
           ],
           "yaxis": "y"
          },
          {
           "hovertemplate": "<b>%{hovertext}</b><br><br>Country=Luxembourg<br>Year=2008<br>GDP=%{marker.size}<br>RoadSpending=%{y}<extra></extra>",
           "hovertext": [
            "Luxembourg"
           ],
           "legendgroup": "Luxembourg",
           "marker": {
            "color": "#FF6692",
            "size": [
             52365820000
            ],
            "sizemode": "area",
            "sizeref": 1119177225,
            "symbol": "circle"
           },
           "mode": "markers",
           "name": "Luxembourg",
           "orientation": "v",
           "showlegend": true,
           "type": "scatter",
           "x": [
            52365820000
           ],
           "xaxis": "x",
           "y": [
            137772604.6
           ],
           "yaxis": "y"
          },
          {
           "hovertemplate": "<b>%{hovertext}</b><br><br>Country=Malta<br>Year=2008<br>GDP=%{marker.size}<br>RoadSpending=%{y}<extra></extra>",
           "hovertext": [
            "Malta"
           ],
           "legendgroup": "Malta",
           "marker": {
            "color": "#B6E880",
            "size": [
             8162190000
            ],
            "sizemode": "area",
            "sizeref": 1119177225,
            "symbol": "circle"
           },
           "mode": "markers",
           "name": "Malta",
           "orientation": "v",
           "showlegend": true,
           "type": "scatter",
           "x": [
            8162190000
           ],
           "xaxis": "x",
           "y": [
            16097173.42
           ],
           "yaxis": "y"
          },
          {
           "hovertemplate": "<b>%{hovertext}</b><br><br>Country=Netherlands<br>Year=2008<br>GDP=%{marker.size}<br>RoadSpending=%{y}<extra></extra>",
           "hovertext": [
            "Netherlands"
           ],
           "legendgroup": "Netherlands",
           "marker": {
            "color": "#FF97FF",
            "size": [
             852439330000
            ],
            "sizemode": "area",
            "sizeref": 1119177225,
            "symbol": "circle"
           },
           "mode": "markers",
           "name": "Netherlands",
           "orientation": "v",
           "showlegend": true,
           "type": "scatter",
           "x": [
            852439330000
           ],
           "xaxis": "x",
           "y": [
            2194000000
           ],
           "yaxis": "y"
          },
          {
           "hovertemplate": "<b>%{hovertext}</b><br><br>Country=Poland<br>Year=2008<br>GDP=%{marker.size}<br>RoadSpending=%{y}<extra></extra>",
           "hovertext": [
            "Poland"
           ],
           "legendgroup": "Poland",
           "marker": {
            "color": "#FECB52",
            "size": [
             474904000000
            ],
            "sizemode": "area",
            "sizeref": 1119177225,
            "symbol": "circle"
           },
           "mode": "markers",
           "name": "Poland",
           "orientation": "v",
           "showlegend": true,
           "type": "scatter",
           "x": [
            474904000000
           ],
           "xaxis": "x",
           "y": [
            4504566015
           ],
           "yaxis": "y"
          },
          {
           "hovertemplate": "<b>%{hovertext}</b><br><br>Country=Portugal<br>Year=2008<br>GDP=%{marker.size}<br>RoadSpending=%{y}<extra></extra>",
           "hovertext": [
            "Portugal"
           ],
           "legendgroup": "Portugal",
           "marker": {
            "color": "#636efa",
            "size": [
             234415319999.99997
            ],
            "sizemode": "area",
            "sizeref": 1119177225,
            "symbol": "circle"
           },
           "mode": "markers",
           "name": "Portugal",
           "orientation": "v",
           "showlegend": true,
           "type": "scatter",
           "x": [
            234415319999.99997
           ],
           "xaxis": "x",
           "y": [
            1366000000
           ],
           "yaxis": "y"
          },
          {
           "hovertemplate": "<b>%{hovertext}</b><br><br>Country=Romania<br>Year=2008<br>GDP=%{marker.size}<br>RoadSpending=%{y}<extra></extra>",
           "hovertext": [
            "Romania"
           ],
           "legendgroup": "Romania",
           "marker": {
            "color": "#EF553B",
            "size": [
             191855520000
            ],
            "sizemode": "area",
            "sizeref": 1119177225,
            "symbol": "circle"
           },
           "mode": "markers",
           "name": "Romania",
           "orientation": "v",
           "showlegend": true,
           "type": "scatter",
           "x": [
            191855520000
           ],
           "xaxis": "x",
           "y": [
            3889793702
           ],
           "yaxis": "y"
          },
          {
           "hovertemplate": "<b>%{hovertext}</b><br><br>Country=Slovak Republic<br>Year=2008<br>GDP=%{marker.size}<br>RoadSpending=%{y}<extra></extra>",
           "hovertext": [
            "Slovak Republic"
           ],
           "legendgroup": "Slovak Republic",
           "marker": {
            "color": "#00cc96",
            "size": [
             86481300000
            ],
            "sizemode": "area",
            "sizeref": 1119177225,
            "symbol": "circle"
           },
           "mode": "markers",
           "name": "Slovak Republic",
           "orientation": "v",
           "showlegend": true,
           "type": "scatter",
           "x": [
            86481300000
           ],
           "xaxis": "x",
           "y": [
            566000000
           ],
           "yaxis": "y"
          },
          {
           "hovertemplate": "<b>%{hovertext}</b><br><br>Country=Slovenia<br>Year=2008<br>GDP=%{marker.size}<br>RoadSpending=%{y}<extra></extra>",
           "hovertext": [
            "Slovenia"
           ],
           "legendgroup": "Slovenia",
           "marker": {
            "color": "#ab63fa",
            "size": [
             49397670000
            ],
            "sizemode": "area",
            "sizeref": 1119177225,
            "symbol": "circle"
           },
           "mode": "markers",
           "name": "Slovenia",
           "orientation": "v",
           "showlegend": true,
           "type": "scatter",
           "x": [
            49397670000
           ],
           "xaxis": "x",
           "y": [
            694000000
           ],
           "yaxis": "y"
          },
          {
           "hovertemplate": "<b>%{hovertext}</b><br><br>Country=Spain<br>Year=2008<br>GDP=%{marker.size}<br>RoadSpending=%{y}<extra></extra>",
           "hovertext": [
            "Spain"
           ],
           "legendgroup": "Spain",
           "marker": {
            "color": "#FFA15A",
            "size": [
             1455983040000
            ],
            "sizemode": "area",
            "sizeref": 1119177225,
            "symbol": "circle"
           },
           "mode": "markers",
           "name": "Spain",
           "orientation": "v",
           "showlegend": true,
           "type": "scatter",
           "x": [
            1455983040000
           ],
           "xaxis": "x",
           "y": [
            8522000000
           ],
           "yaxis": "y"
          },
          {
           "hovertemplate": "<b>%{hovertext}</b><br><br>Country=Sweden<br>Year=2008<br>GDP=%{marker.size}<br>RoadSpending=%{y}<extra></extra>",
           "hovertext": [
            "Sweden"
           ],
           "legendgroup": "Sweden",
           "marker": {
            "color": "#19d3f3",
            "size": [
             458009129999.99994
            ],
            "sizemode": "area",
            "sizeref": 1119177225,
            "symbol": "circle"
           },
           "mode": "markers",
           "name": "Sweden",
           "orientation": "v",
           "showlegend": true,
           "type": "scatter",
           "x": [
            458009129999.99994
           ],
           "xaxis": "x",
           "y": [
            1604051202
           ],
           "yaxis": "y"
          }
         ],
         "name": "2008"
        },
        {
         "data": [
          {
           "hovertemplate": "<b>%{hovertext}</b><br><br>Country=Austria<br>Year=2009<br>GDP=%{marker.size}<br>RoadSpending=%{y}<extra></extra>",
           "hovertext": [
            "Austria"
           ],
           "legendgroup": "Austria",
           "marker": {
            "color": "#636efa",
            "size": [
             357177470000
            ],
            "sizemode": "area",
            "sizeref": 1119177225,
            "symbol": "circle"
           },
           "mode": "markers",
           "name": "Austria",
           "orientation": "v",
           "showlegend": true,
           "type": "scatter",
           "x": [
            357177470000
           ],
           "xaxis": "x",
           "y": [
            null
           ],
           "yaxis": "y"
          },
          {
           "hovertemplate": "<b>%{hovertext}</b><br><br>Country=Belgium<br>Year=2009<br>GDP=%{marker.size}<br>RoadSpending=%{y}<extra></extra>",
           "hovertext": [
            "Belgium"
           ],
           "legendgroup": "Belgium",
           "marker": {
            "color": "#EF553B",
            "size": [
             429629700000
            ],
            "sizemode": "area",
            "sizeref": 1119177225,
            "symbol": "circle"
           },
           "mode": "markers",
           "name": "Belgium",
           "orientation": "v",
           "showlegend": true,
           "type": "scatter",
           "x": [
            429629700000
           ],
           "xaxis": "x",
           "y": [
            175000000
           ],
           "yaxis": "y"
          },
          {
           "hovertemplate": "<b>%{hovertext}</b><br><br>Country=Bulgaria<br>Year=2009<br>GDP=%{marker.size}<br>RoadSpending=%{y}<extra></extra>",
           "hovertext": [
            "Bulgaria"
           ],
           "legendgroup": "Bulgaria",
           "marker": {
            "color": "#00cc96",
            "size": [
             46301360000
            ],
            "sizemode": "area",
            "sizeref": 1119177225,
            "symbol": "circle"
           },
           "mode": "markers",
           "name": "Bulgaria",
           "orientation": "v",
           "showlegend": true,
           "type": "scatter",
           "x": [
            46301360000
           ],
           "xaxis": "x",
           "y": [
            130892729.3
           ],
           "yaxis": "y"
          },
          {
           "hovertemplate": "<b>%{hovertext}</b><br><br>Country=Croatia<br>Year=2009<br>GDP=%{marker.size}<br>RoadSpending=%{y}<extra></extra>",
           "hovertext": [
            "Croatia"
           ],
           "legendgroup": "Croatia",
           "marker": {
            "color": "#ab63fa",
            "size": [
             55204920000
            ],
            "sizemode": "area",
            "sizeref": 1119177225,
            "symbol": "circle"
           },
           "mode": "markers",
           "name": "Croatia",
           "orientation": "v",
           "showlegend": true,
           "type": "scatter",
           "x": [
            55204920000
           ],
           "xaxis": "x",
           "y": [
            885792023.4
           ],
           "yaxis": "y"
          },
          {
           "hovertemplate": "<b>%{hovertext}</b><br><br>Country=Czechia<br>Year=2009<br>GDP=%{marker.size}<br>RoadSpending=%{y}<extra></extra>",
           "hovertext": [
            "Czechia"
           ],
           "legendgroup": "Czechia",
           "marker": {
            "color": "#FFA15A",
            "size": [
             184314550000
            ],
            "sizemode": "area",
            "sizeref": 1119177225,
            "symbol": "circle"
           },
           "mode": "markers",
           "name": "Czechia",
           "orientation": "v",
           "showlegend": true,
           "type": "scatter",
           "x": [
            184314550000
           ],
           "xaxis": "x",
           "y": [
            1985424195
           ],
           "yaxis": "y"
          },
          {
           "hovertemplate": "<b>%{hovertext}</b><br><br>Country=Denmark<br>Year=2009<br>GDP=%{marker.size}<br>RoadSpending=%{y}<extra></extra>",
           "hovertext": [
            "Denmark"
           ],
           "legendgroup": "Denmark",
           "marker": {
            "color": "#19d3f3",
            "size": [
             287132690000
            ],
            "sizemode": "area",
            "sizeref": 1119177225,
            "symbol": "circle"
           },
           "mode": "markers",
           "name": "Denmark",
           "orientation": "v",
           "showlegend": true,
           "type": "scatter",
           "x": [
            287132690000
           ],
           "xaxis": "x",
           "y": [
            713777312.2
           ],
           "yaxis": "y"
          },
          {
           "hovertemplate": "<b>%{hovertext}</b><br><br>Country=Estonia<br>Year=2009<br>GDP=%{marker.size}<br>RoadSpending=%{y}<extra></extra>",
           "hovertext": [
            "Estonia"
           ],
           "legendgroup": "Estonia",
           "marker": {
            "color": "#FF6692",
            "size": [
             17527660000
            ],
            "sizemode": "area",
            "sizeref": 1119177225,
            "symbol": "circle"
           },
           "mode": "markers",
           "name": "Estonia",
           "orientation": "v",
           "showlegend": true,
           "type": "scatter",
           "x": [
            17527660000
           ],
           "xaxis": "x",
           "y": [
            119000000
           ],
           "yaxis": "y"
          },
          {
           "hovertemplate": "<b>%{hovertext}</b><br><br>Country=Finland<br>Year=2009<br>GDP=%{marker.size}<br>RoadSpending=%{y}<extra></extra>",
           "hovertext": [
            "Finland"
           ],
           "legendgroup": "Finland",
           "marker": {
            "color": "#B6E880",
            "size": [
             225353340000
            ],
            "sizemode": "area",
            "sizeref": 1119177225,
            "symbol": "circle"
           },
           "mode": "markers",
           "name": "Finland",
           "orientation": "v",
           "showlegend": true,
           "type": "scatter",
           "x": [
            225353340000
           ],
           "xaxis": "x",
           "y": [
            922000000
           ],
           "yaxis": "y"
          },
          {
           "hovertemplate": "<b>%{hovertext}</b><br><br>Country=France<br>Year=2009<br>GDP=%{marker.size}<br>RoadSpending=%{y}<extra></extra>",
           "hovertext": [
            "France"
           ],
           "legendgroup": "France",
           "marker": {
            "color": "#FF97FF",
            "size": [
             2400458160000
            ],
            "sizemode": "area",
            "sizeref": 1119177225,
            "symbol": "circle"
           },
           "mode": "markers",
           "name": "France",
           "orientation": "v",
           "showlegend": true,
           "type": "scatter",
           "x": [
            2400458160000
           ],
           "xaxis": "x",
           "y": [
            14277760990
           ],
           "yaxis": "y"
          },
          {
           "hovertemplate": "<b>%{hovertext}</b><br><br>Country=Germany<br>Year=2009<br>GDP=%{marker.size}<br>RoadSpending=%{y}<extra></extra>",
           "hovertext": [
            "Germany"
           ],
           "legendgroup": "Germany",
           "marker": {
            "color": "#FECB52",
            "size": [
             3093659580000
            ],
            "sizemode": "area",
            "sizeref": 1119177225,
            "symbol": "circle"
           },
           "mode": "markers",
           "name": "Germany",
           "orientation": "v",
           "showlegend": true,
           "type": "scatter",
           "x": [
            3093659580000
           ],
           "xaxis": "x",
           "y": [
            12620000000
           ],
           "yaxis": "y"
          },
          {
           "hovertemplate": "<b>%{hovertext}</b><br><br>Country=Greece<br>Year=2009<br>GDP=%{marker.size}<br>RoadSpending=%{y}<extra></extra>",
           "hovertext": [
            "Greece"
           ],
           "legendgroup": "Greece",
           "marker": {
            "color": "#636efa",
            "size": [
             294544610000
            ],
            "sizemode": "area",
            "sizeref": 1119177225,
            "symbol": "circle"
           },
           "mode": "markers",
           "name": "Greece",
           "orientation": "v",
           "showlegend": true,
           "type": "scatter",
           "x": [
            294544610000
           ],
           "xaxis": "x",
           "y": [
            1791000000
           ],
           "yaxis": "y"
          },
          {
           "hovertemplate": "<b>%{hovertext}</b><br><br>Country=Hungary<br>Year=2009<br>GDP=%{marker.size}<br>RoadSpending=%{y}<extra></extra>",
           "hovertext": [
            "Hungary"
           ],
           "legendgroup": "Hungary",
           "marker": {
            "color": "#EF553B",
            "size": [
             116651409999.99998
            ],
            "sizemode": "area",
            "sizeref": 1119177225,
            "symbol": "circle"
           },
           "mode": "markers",
           "name": "Hungary",
           "orientation": "v",
           "showlegend": true,
           "type": "scatter",
           "x": [
            116651409999.99998
           ],
           "xaxis": "x",
           "y": [
            1565229294
           ],
           "yaxis": "y"
          },
          {
           "hovertemplate": "<b>%{hovertext}</b><br><br>Country=Ireland<br>Year=2009<br>GDP=%{marker.size}<br>RoadSpending=%{y}<extra></extra>",
           "hovertext": [
            "Ireland"
           ],
           "legendgroup": "Ireland",
           "marker": {
            "color": "#00cc96",
            "size": [
             210206430000
            ],
            "sizemode": "area",
            "sizeref": 1119177225,
            "symbol": "circle"
           },
           "mode": "markers",
           "name": "Ireland",
           "orientation": "v",
           "showlegend": true,
           "type": "scatter",
           "x": [
            210206430000
           ],
           "xaxis": "x",
           "y": [
            1769000000
           ],
           "yaxis": "y"
          },
          {
           "hovertemplate": "<b>%{hovertext}</b><br><br>Country=Italy<br>Year=2009<br>GDP=%{marker.size}<br>RoadSpending=%{y}<extra></extra>",
           "hovertext": [
            "Italy"
           ],
           "legendgroup": "Italy",
           "marker": {
            "color": "#ab63fa",
            "size": [
             1964307430000
            ],
            "sizemode": "area",
            "sizeref": 1119177225,
            "symbol": "circle"
           },
           "mode": "markers",
           "name": "Italy",
           "orientation": "v",
           "showlegend": true,
           "type": "scatter",
           "x": [
            1964307430000
           ],
           "xaxis": "x",
           "y": [
            5641000000
           ],
           "yaxis": "y"
          },
          {
           "hovertemplate": "<b>%{hovertext}</b><br><br>Country=Latvia<br>Year=2009<br>GDP=%{marker.size}<br>RoadSpending=%{y}<extra></extra>",
           "hovertext": [
            "Latvia"
           ],
           "legendgroup": "Latvia",
           "marker": {
            "color": "#FFA15A",
            "size": [
             23567200000
            ],
            "sizemode": "area",
            "sizeref": 1119177225,
            "symbol": "circle"
           },
           "mode": "markers",
           "name": "Latvia",
           "orientation": "v",
           "showlegend": true,
           "type": "scatter",
           "x": [
            23567200000
           ],
           "xaxis": "x",
           "y": [
            132000000
           ],
           "yaxis": "y"
          },
          {
           "hovertemplate": "<b>%{hovertext}</b><br><br>Country=Lithuania<br>Year=2009<br>GDP=%{marker.size}<br>RoadSpending=%{y}<extra></extra>",
           "hovertext": [
            "Lithuania"
           ],
           "legendgroup": "Lithuania",
           "marker": {
            "color": "#19d3f3",
            "size": [
             33360760000
            ],
            "sizemode": "area",
            "sizeref": 1119177225,
            "symbol": "circle"
           },
           "mode": "markers",
           "name": "Lithuania",
           "orientation": "v",
           "showlegend": true,
           "type": "scatter",
           "x": [
            33360760000
           ],
           "xaxis": "x",
           "y": [
            448000000
           ],
           "yaxis": "y"
          },
          {
           "hovertemplate": "<b>%{hovertext}</b><br><br>Country=Luxembourg<br>Year=2009<br>GDP=%{marker.size}<br>RoadSpending=%{y}<extra></extra>",
           "hovertext": [
            "Luxembourg"
           ],
           "legendgroup": "Luxembourg",
           "marker": {
            "color": "#FF6692",
            "size": [
             48423120000
            ],
            "sizemode": "area",
            "sizeref": 1119177225,
            "symbol": "circle"
           },
           "mode": "markers",
           "name": "Luxembourg",
           "orientation": "v",
           "showlegend": true,
           "type": "scatter",
           "x": [
            48423120000
           ],
           "xaxis": "x",
           "y": [
            148466156.5
           ],
           "yaxis": "y"
          },
          {
           "hovertemplate": "<b>%{hovertext}</b><br><br>Country=Malta<br>Year=2009<br>GDP=%{marker.size}<br>RoadSpending=%{y}<extra></extra>",
           "hovertext": [
            "Malta"
           ],
           "legendgroup": "Malta",
           "marker": {
            "color": "#B6E880",
            "size": [
             7796400000
            ],
            "sizemode": "area",
            "sizeref": 1119177225,
            "symbol": "circle"
           },
           "mode": "markers",
           "name": "Malta",
           "orientation": "v",
           "showlegend": true,
           "type": "scatter",
           "x": [
            7796400000
           ],
           "xaxis": "x",
           "y": [
            3701352.28
           ],
           "yaxis": "y"
          },
          {
           "hovertemplate": "<b>%{hovertext}</b><br><br>Country=Netherlands<br>Year=2009<br>GDP=%{marker.size}<br>RoadSpending=%{y}<extra></extra>",
           "hovertext": [
            "Netherlands"
           ],
           "legendgroup": "Netherlands",
           "marker": {
            "color": "#FF97FF",
            "size": [
             781420000000
            ],
            "sizemode": "area",
            "sizeref": 1119177225,
            "symbol": "circle"
           },
           "mode": "markers",
           "name": "Netherlands",
           "orientation": "v",
           "showlegend": true,
           "type": "scatter",
           "x": [
            781420000000
           ],
           "xaxis": "x",
           "y": [
            2363000000
           ],
           "yaxis": "y"
          },
          {
           "hovertemplate": "<b>%{hovertext}</b><br><br>Country=Poland<br>Year=2009<br>GDP=%{marker.size}<br>RoadSpending=%{y}<extra></extra>",
           "hovertext": [
            "Poland"
           ],
           "legendgroup": "Poland",
           "marker": {
            "color": "#FECB52",
            "size": [
             391416660000
            ],
            "sizemode": "area",
            "sizeref": 1119177225,
            "symbol": "circle"
           },
           "mode": "markers",
           "name": "Poland",
           "orientation": "v",
           "showlegend": true,
           "type": "scatter",
           "x": [
            391416660000
           ],
           "xaxis": "x",
           "y": [
            5337659938
           ],
           "yaxis": "y"
          },
          {
           "hovertemplate": "<b>%{hovertext}</b><br><br>Country=Portugal<br>Year=2009<br>GDP=%{marker.size}<br>RoadSpending=%{y}<extra></extra>",
           "hovertext": [
            "Portugal"
           ],
           "legendgroup": "Portugal",
           "marker": {
            "color": "#636efa",
            "size": [
             217517780000
            ],
            "sizemode": "area",
            "sizeref": 1119177225,
            "symbol": "circle"
           },
           "mode": "markers",
           "name": "Portugal",
           "orientation": "v",
           "showlegend": true,
           "type": "scatter",
           "x": [
            217517780000
           ],
           "xaxis": "x",
           "y": [
            951000000
           ],
           "yaxis": "y"
          },
          {
           "hovertemplate": "<b>%{hovertext}</b><br><br>Country=Romania<br>Year=2009<br>GDP=%{marker.size}<br>RoadSpending=%{y}<extra></extra>",
           "hovertext": [
            "Romania"
           ],
           "legendgroup": "Romania",
           "marker": {
            "color": "#EF553B",
            "size": [
             155361960000
            ],
            "sizemode": "area",
            "sizeref": 1119177225,
            "symbol": "circle"
           },
           "mode": "markers",
           "name": "Romania",
           "orientation": "v",
           "showlegend": true,
           "type": "scatter",
           "x": [
            155361960000
           ],
           "xaxis": "x",
           "y": [
            3105245778
           ],
           "yaxis": "y"
          },
          {
           "hovertemplate": "<b>%{hovertext}</b><br><br>Country=Slovak Republic<br>Year=2009<br>GDP=%{marker.size}<br>RoadSpending=%{y}<extra></extra>",
           "hovertext": [
            "Slovak Republic"
           ],
           "legendgroup": "Slovak Republic",
           "marker": {
            "color": "#00cc96",
            "size": [
             79478780000
            ],
            "sizemode": "area",
            "sizeref": 1119177225,
            "symbol": "circle"
           },
           "mode": "markers",
           "name": "Slovak Republic",
           "orientation": "v",
           "showlegend": true,
           "type": "scatter",
           "x": [
            79478780000
           ],
           "xaxis": "x",
           "y": [
            662000000
           ],
           "yaxis": "y"
          },
          {
           "hovertemplate": "<b>%{hovertext}</b><br><br>Country=Slovenia<br>Year=2009<br>GDP=%{marker.size}<br>RoadSpending=%{y}<extra></extra>",
           "hovertext": [
            "Slovenia"
           ],
           "legendgroup": "Slovenia",
           "marker": {
            "color": "#ab63fa",
            "size": [
             44429690000
            ],
            "sizemode": "area",
            "sizeref": 1119177225,
            "symbol": "circle"
           },
           "mode": "markers",
           "name": "Slovenia",
           "orientation": "v",
           "showlegend": true,
           "type": "scatter",
           "x": [
            44429690000
           ],
           "xaxis": "x",
           "y": [
            406000000
           ],
           "yaxis": "y"
          },
          {
           "hovertemplate": "<b>%{hovertext}</b><br><br>Country=Spain<br>Year=2009<br>GDP=%{marker.size}<br>RoadSpending=%{y}<extra></extra>",
           "hovertext": [
            "Spain"
           ],
           "legendgroup": "Spain",
           "marker": {
            "color": "#FFA15A",
            "size": [
             1330517070000
            ],
            "sizemode": "area",
            "sizeref": 1119177225,
            "symbol": "circle"
           },
           "mode": "markers",
           "name": "Spain",
           "orientation": "v",
           "showlegend": true,
           "type": "scatter",
           "x": [
            1330517070000
           ],
           "xaxis": "x",
           "y": [
            9422000000
           ],
           "yaxis": "y"
          },
          {
           "hovertemplate": "<b>%{hovertext}</b><br><br>Country=Sweden<br>Year=2009<br>GDP=%{marker.size}<br>RoadSpending=%{y}<extra></extra>",
           "hovertext": [
            "Sweden"
           ],
           "legendgroup": "Sweden",
           "marker": {
            "color": "#19d3f3",
            "size": [
             386538570000
            ],
            "sizemode": "area",
            "sizeref": 1119177225,
            "symbol": "circle"
           },
           "mode": "markers",
           "name": "Sweden",
           "orientation": "v",
           "showlegend": true,
           "type": "scatter",
           "x": [
            386538570000
           ],
           "xaxis": "x",
           "y": [
            1573540490
           ],
           "yaxis": "y"
          }
         ],
         "name": "2009"
        },
        {
         "data": [
          {
           "hovertemplate": "<b>%{hovertext}</b><br><br>Country=Austria<br>Year=2010<br>GDP=%{marker.size}<br>RoadSpending=%{y}<extra></extra>",
           "hovertext": [
            "Austria"
           ],
           "legendgroup": "Austria",
           "marker": {
            "color": "#636efa",
            "size": [
             349409550000
            ],
            "sizemode": "area",
            "sizeref": 1119177225,
            "symbol": "circle"
           },
           "mode": "markers",
           "name": "Austria",
           "orientation": "v",
           "showlegend": true,
           "type": "scatter",
           "x": [
            349409550000
           ],
           "xaxis": "x",
           "y": [
            null
           ],
           "yaxis": "y"
          },
          {
           "hovertemplate": "<b>%{hovertext}</b><br><br>Country=Belgium<br>Year=2010<br>GDP=%{marker.size}<br>RoadSpending=%{y}<extra></extra>",
           "hovertext": [
            "Belgium"
           ],
           "legendgroup": "Belgium",
           "marker": {
            "color": "#EF553B",
            "size": [
             428814460000
            ],
            "sizemode": "area",
            "sizeref": 1119177225,
            "symbol": "circle"
           },
           "mode": "markers",
           "name": "Belgium",
           "orientation": "v",
           "showlegend": true,
           "type": "scatter",
           "x": [
            428814460000
           ],
           "xaxis": "x",
           "y": [
            348000000
           ],
           "yaxis": "y"
          },
          {
           "hovertemplate": "<b>%{hovertext}</b><br><br>Country=Bulgaria<br>Year=2010<br>GDP=%{marker.size}<br>RoadSpending=%{y}<extra></extra>",
           "hovertext": [
            "Bulgaria"
           ],
           "legendgroup": "Bulgaria",
           "marker": {
            "color": "#00cc96",
            "size": [
             45114100000
            ],
            "sizemode": "area",
            "sizeref": 1119177225,
            "symbol": "circle"
           },
           "mode": "markers",
           "name": "Bulgaria",
           "orientation": "v",
           "showlegend": true,
           "type": "scatter",
           "x": [
            45114100000
           ],
           "xaxis": "x",
           "y": [
            370692299.8
           ],
           "yaxis": "y"
          },
          {
           "hovertemplate": "<b>%{hovertext}</b><br><br>Country=Croatia<br>Year=2010<br>GDP=%{marker.size}<br>RoadSpending=%{y}<extra></extra>",
           "hovertext": [
            "Croatia"
           ],
           "legendgroup": "Croatia",
           "marker": {
            "color": "#ab63fa",
            "size": [
             52408540000
            ],
            "sizemode": "area",
            "sizeref": 1119177225,
            "symbol": "circle"
           },
           "mode": "markers",
           "name": "Croatia",
           "orientation": "v",
           "showlegend": true,
           "type": "scatter",
           "x": [
            52408540000
           ],
           "xaxis": "x",
           "y": [
            498506868.4
           ],
           "yaxis": "y"
          },
          {
           "hovertemplate": "<b>%{hovertext}</b><br><br>Country=Czechia<br>Year=2010<br>GDP=%{marker.size}<br>RoadSpending=%{y}<extra></extra>",
           "hovertext": [
            "Czechia"
           ],
           "legendgroup": "Czechia",
           "marker": {
            "color": "#FFA15A",
            "size": [
             187940410000
            ],
            "sizemode": "area",
            "sizeref": 1119177225,
            "symbol": "circle"
           },
           "mode": "markers",
           "name": "Czechia",
           "orientation": "v",
           "showlegend": true,
           "type": "scatter",
           "x": [
            187940410000
           ],
           "xaxis": "x",
           "y": [
            1719545029
           ],
           "yaxis": "y"
          },
          {
           "hovertemplate": "<b>%{hovertext}</b><br><br>Country=Denmark<br>Year=2010<br>GDP=%{marker.size}<br>RoadSpending=%{y}<extra></extra>",
           "hovertext": [
            "Denmark"
           ],
           "legendgroup": "Denmark",
           "marker": {
            "color": "#19d3f3",
            "size": [
             286887940000
            ],
            "sizemode": "area",
            "sizeref": 1119177225,
            "symbol": "circle"
           },
           "mode": "markers",
           "name": "Denmark",
           "orientation": "v",
           "showlegend": true,
           "type": "scatter",
           "x": [
            286887940000
           ],
           "xaxis": "x",
           "y": [
            936593619.1
           ],
           "yaxis": "y"
          },
          {
           "hovertemplate": "<b>%{hovertext}</b><br><br>Country=Estonia<br>Year=2010<br>GDP=%{marker.size}<br>RoadSpending=%{y}<extra></extra>",
           "hovertext": [
            "Estonia"
           ],
           "legendgroup": "Estonia",
           "marker": {
            "color": "#FF6692",
            "size": [
             17416410000
            ],
            "sizemode": "area",
            "sizeref": 1119177225,
            "symbol": "circle"
           },
           "mode": "markers",
           "name": "Estonia",
           "orientation": "v",
           "showlegend": true,
           "type": "scatter",
           "x": [
            17416410000
           ],
           "xaxis": "x",
           "y": [
            137000000
           ],
           "yaxis": "y"
          },
          {
           "hovertemplate": "<b>%{hovertext}</b><br><br>Country=Finland<br>Year=2010<br>GDP=%{marker.size}<br>RoadSpending=%{y}<extra></extra>",
           "hovertext": [
            "Finland"
           ],
           "legendgroup": "Finland",
           "marker": {
            "color": "#B6E880",
            "size": [
             222173370000
            ],
            "sizemode": "area",
            "sizeref": 1119177225,
            "symbol": "circle"
           },
           "mode": "markers",
           "name": "Finland",
           "orientation": "v",
           "showlegend": true,
           "type": "scatter",
           "x": [
            222173370000
           ],
           "xaxis": "x",
           "y": [
            890000000
           ],
           "yaxis": "y"
          },
          {
           "hovertemplate": "<b>%{hovertext}</b><br><br>Country=France<br>Year=2010<br>GDP=%{marker.size}<br>RoadSpending=%{y}<extra></extra>",
           "hovertext": [
            "France"
           ],
           "legendgroup": "France",
           "marker": {
            "color": "#FF97FF",
            "size": [
             2357067990000
            ],
            "sizemode": "area",
            "sizeref": 1119177225,
            "symbol": "circle"
           },
           "mode": "markers",
           "name": "France",
           "orientation": "v",
           "showlegend": true,
           "type": "scatter",
           "x": [
            2357067990000
           ],
           "xaxis": "x",
           "y": [
            14497093953
           ],
           "yaxis": "y"
          },
          {
           "hovertemplate": "<b>%{hovertext}</b><br><br>Country=Germany<br>Year=2010<br>GDP=%{marker.size}<br>RoadSpending=%{y}<extra></extra>",
           "hovertext": [
            "Germany"
           ],
           "legendgroup": "Germany",
           "marker": {
            "color": "#FECB52",
            "size": [
             3089178430000
            ],
            "sizemode": "area",
            "sizeref": 1119177225,
            "symbol": "circle"
           },
           "mode": "markers",
           "name": "Germany",
           "orientation": "v",
           "showlegend": true,
           "type": "scatter",
           "x": [
            3089178430000
           ],
           "xaxis": "x",
           "y": [
            11240000000
           ],
           "yaxis": "y"
          },
          {
           "hovertemplate": "<b>%{hovertext}</b><br><br>Country=Greece<br>Year=2010<br>GDP=%{marker.size}<br>RoadSpending=%{y}<extra></extra>",
           "hovertext": [
            "Greece"
           ],
           "legendgroup": "Greece",
           "marker": {
            "color": "#636efa",
            "size": [
             264657520000
            ],
            "sizemode": "area",
            "sizeref": 1119177225,
            "symbol": "circle"
           },
           "mode": "markers",
           "name": "Greece",
           "orientation": "v",
           "showlegend": true,
           "type": "scatter",
           "x": [
            264657520000
           ],
           "xaxis": "x",
           "y": [
            1155277008
           ],
           "yaxis": "y"
          },
          {
           "hovertemplate": "<b>%{hovertext}</b><br><br>Country=Hungary<br>Year=2010<br>GDP=%{marker.size}<br>RoadSpending=%{y}<extra></extra>",
           "hovertext": [
            "Hungary"
           ],
           "legendgroup": "Hungary",
           "marker": {
            "color": "#EF553B",
            "size": [
             117635750000.00002
            ],
            "sizemode": "area",
            "sizeref": 1119177225,
            "symbol": "circle"
           },
           "mode": "markers",
           "name": "Hungary",
           "orientation": "v",
           "showlegend": true,
           "type": "scatter",
           "x": [
            117635750000.00002
           ],
           "xaxis": "x",
           "y": [
            840161143.7
           ],
           "yaxis": "y"
          },
          {
           "hovertemplate": "<b>%{hovertext}</b><br><br>Country=Ireland<br>Year=2010<br>GDP=%{marker.size}<br>RoadSpending=%{y}<extra></extra>",
           "hovertext": [
            "Ireland"
           ],
           "legendgroup": "Ireland",
           "marker": {
            "color": "#00cc96",
            "size": [
             197728630000
            ],
            "sizemode": "area",
            "sizeref": 1119177225,
            "symbol": "circle"
           },
           "mode": "markers",
           "name": "Ireland",
           "orientation": "v",
           "showlegend": true,
           "type": "scatter",
           "x": [
            197728630000
           ],
           "xaxis": "x",
           "y": [
            1414000000
           ],
           "yaxis": "y"
          },
          {
           "hovertemplate": "<b>%{hovertext}</b><br><br>Country=Italy<br>Year=2010<br>GDP=%{marker.size}<br>RoadSpending=%{y}<extra></extra>",
           "hovertext": [
            "Italy"
           ],
           "legendgroup": "Italy",
           "marker": {
            "color": "#ab63fa",
            "size": [
             1910551430000
            ],
            "sizemode": "area",
            "sizeref": 1119177225,
            "symbol": "circle"
           },
           "mode": "markers",
           "name": "Italy",
           "orientation": "v",
           "showlegend": true,
           "type": "scatter",
           "x": [
            1910551430000
           ],
           "xaxis": "x",
           "y": [
            3389000000
           ],
           "yaxis": "y"
          },
          {
           "hovertemplate": "<b>%{hovertext}</b><br><br>Country=Latvia<br>Year=2010<br>GDP=%{marker.size}<br>RoadSpending=%{y}<extra></extra>",
           "hovertext": [
            "Latvia"
           ],
           "legendgroup": "Latvia",
           "marker": {
            "color": "#FFA15A",
            "size": [
             21358220000
            ],
            "sizemode": "area",
            "sizeref": 1119177225,
            "symbol": "circle"
           },
           "mode": "markers",
           "name": "Latvia",
           "orientation": "v",
           "showlegend": true,
           "type": "scatter",
           "x": [
            21358220000
           ],
           "xaxis": "x",
           "y": [
            131000000
           ],
           "yaxis": "y"
          },
          {
           "hovertemplate": "<b>%{hovertext}</b><br><br>Country=Lithuania<br>Year=2010<br>GDP=%{marker.size}<br>RoadSpending=%{y}<extra></extra>",
           "hovertext": [
            "Lithuania"
           ],
           "legendgroup": "Lithuania",
           "marker": {
            "color": "#19d3f3",
            "size": [
             33097320000
            ],
            "sizemode": "area",
            "sizeref": 1119177225,
            "symbol": "circle"
           },
           "mode": "markers",
           "name": "Lithuania",
           "orientation": "v",
           "showlegend": true,
           "type": "scatter",
           "x": [
            33097320000
           ],
           "xaxis": "x",
           "y": [
            422000000
           ],
           "yaxis": "y"
          },
          {
           "hovertemplate": "<b>%{hovertext}</b><br><br>Country=Luxembourg<br>Year=2010<br>GDP=%{marker.size}<br>RoadSpending=%{y}<extra></extra>",
           "hovertext": [
            "Luxembourg"
           ],
           "legendgroup": "Luxembourg",
           "marker": {
            "color": "#FF6692",
            "size": [
             50071400000
            ],
            "sizemode": "area",
            "sizeref": 1119177225,
            "symbol": "circle"
           },
           "mode": "markers",
           "name": "Luxembourg",
           "orientation": "v",
           "showlegend": true,
           "type": "scatter",
           "x": [
            50071400000
           ],
           "xaxis": "x",
           "y": [
            182571021.3
           ],
           "yaxis": "y"
          },
          {
           "hovertemplate": "<b>%{hovertext}</b><br><br>Country=Malta<br>Year=2010<br>GDP=%{marker.size}<br>RoadSpending=%{y}<extra></extra>",
           "hovertext": [
            "Malta"
           ],
           "legendgroup": "Malta",
           "marker": {
            "color": "#B6E880",
            "size": [
             8102560000
            ],
            "sizemode": "area",
            "sizeref": 1119177225,
            "symbol": "circle"
           },
           "mode": "markers",
           "name": "Malta",
           "orientation": "v",
           "showlegend": true,
           "type": "scatter",
           "x": [
            8102560000
           ],
           "xaxis": "x",
           "y": [
            12583742.48
           ],
           "yaxis": "y"
          },
          {
           "hovertemplate": "<b>%{hovertext}</b><br><br>Country=Netherlands<br>Year=2010<br>GDP=%{marker.size}<br>RoadSpending=%{y}<extra></extra>",
           "hovertext": [
            "Netherlands"
           ],
           "legendgroup": "Netherlands",
           "marker": {
            "color": "#FF97FF",
            "size": [
             759313290000
            ],
            "sizemode": "area",
            "sizeref": 1119177225,
            "symbol": "circle"
           },
           "mode": "markers",
           "name": "Netherlands",
           "orientation": "v",
           "showlegend": true,
           "type": "scatter",
           "x": [
            759313290000
           ],
           "xaxis": "x",
           "y": [
            2300000000
           ],
           "yaxis": "y"
          },
          {
           "hovertemplate": "<b>%{hovertext}</b><br><br>Country=Poland<br>Year=2010<br>GDP=%{marker.size}<br>RoadSpending=%{y}<extra></extra>",
           "hovertext": [
            "Poland"
           ],
           "legendgroup": "Poland",
           "marker": {
            "color": "#FECB52",
            "size": [
             423370330000
            ],
            "sizemode": "area",
            "sizeref": 1119177225,
            "symbol": "circle"
           },
           "mode": "markers",
           "name": "Poland",
           "orientation": "v",
           "showlegend": true,
           "type": "scatter",
           "x": [
            423370330000
           ],
           "xaxis": "x",
           "y": [
            6509637046
           ],
           "yaxis": "y"
          },
          {
           "hovertemplate": "<b>%{hovertext}</b><br><br>Country=Portugal<br>Year=2010<br>GDP=%{marker.size}<br>RoadSpending=%{y}<extra></extra>",
           "hovertext": [
            "Portugal"
           ],
           "legendgroup": "Portugal",
           "marker": {
            "color": "#636efa",
            "size": [
             212094120000
            ],
            "sizemode": "area",
            "sizeref": 1119177225,
            "symbol": "circle"
           },
           "mode": "markers",
           "name": "Portugal",
           "orientation": "v",
           "showlegend": true,
           "type": "scatter",
           "x": [
            212094120000
           ],
           "xaxis": "x",
           "y": [
            1511000000
           ],
           "yaxis": "y"
          },
          {
           "hovertemplate": "<b>%{hovertext}</b><br><br>Country=Romania<br>Year=2010<br>GDP=%{marker.size}<br>RoadSpending=%{y}<extra></extra>",
           "hovertext": [
            "Romania"
           ],
           "legendgroup": "Romania",
           "marker": {
            "color": "#EF553B",
            "size": [
             151561660000
            ],
            "sizemode": "area",
            "sizeref": 1119177225,
            "symbol": "circle"
           },
           "mode": "markers",
           "name": "Romania",
           "orientation": "v",
           "showlegend": true,
           "type": "scatter",
           "x": [
            151561660000
           ],
           "xaxis": "x",
           "y": [
            2851137605
           ],
           "yaxis": "y"
          },
          {
           "hovertemplate": "<b>%{hovertext}</b><br><br>Country=Slovak Republic<br>Year=2010<br>GDP=%{marker.size}<br>RoadSpending=%{y}<extra></extra>",
           "hovertext": [
            "Slovak Republic"
           ],
           "legendgroup": "Slovak Republic",
           "marker": {
            "color": "#00cc96",
            "size": [
             81200930000
            ],
            "sizemode": "area",
            "sizeref": 1119177225,
            "symbol": "circle"
           },
           "mode": "markers",
           "name": "Slovak Republic",
           "orientation": "v",
           "showlegend": true,
           "type": "scatter",
           "x": [
            81200930000
           ],
           "xaxis": "x",
           "y": [
            342000000
           ],
           "yaxis": "y"
          },
          {
           "hovertemplate": "<b>%{hovertext}</b><br><br>Country=Slovenia<br>Year=2010<br>GDP=%{marker.size}<br>RoadSpending=%{y}<extra></extra>",
           "hovertext": [
            "Slovenia"
           ],
           "legendgroup": "Slovenia",
           "marker": {
            "color": "#ab63fa",
            "size": [
             42570480000
            ],
            "sizemode": "area",
            "sizeref": 1119177225,
            "symbol": "circle"
           },
           "mode": "markers",
           "name": "Slovenia",
           "orientation": "v",
           "showlegend": true,
           "type": "scatter",
           "x": [
            42570480000
           ],
           "xaxis": "x",
           "y": [
            221000000
           ],
           "yaxis": "y"
          },
          {
           "hovertemplate": "<b>%{hovertext}</b><br><br>Country=Spain<br>Year=2010<br>GDP=%{marker.size}<br>RoadSpending=%{y}<extra></extra>",
           "hovertext": [
            "Spain"
           ],
           "legendgroup": "Spain",
           "marker": {
            "color": "#FFA15A",
            "size": [
             1271947950000
            ],
            "sizemode": "area",
            "sizeref": 1119177225,
            "symbol": "circle"
           },
           "mode": "markers",
           "name": "Spain",
           "orientation": "v",
           "showlegend": true,
           "type": "scatter",
           "x": [
            1271947950000
           ],
           "xaxis": "x",
           "y": [
            7771000000
           ],
           "yaxis": "y"
          },
          {
           "hovertemplate": "<b>%{hovertext}</b><br><br>Country=Sweden<br>Year=2010<br>GDP=%{marker.size}<br>RoadSpending=%{y}<extra></extra>",
           "hovertext": [
            "Sweden"
           ],
           "legendgroup": "Sweden",
           "marker": {
            "color": "#19d3f3",
            "size": [
             438550170000
            ],
            "sizemode": "area",
            "sizeref": 1119177225,
            "symbol": "circle"
           },
           "mode": "markers",
           "name": "Sweden",
           "orientation": "v",
           "showlegend": true,
           "type": "scatter",
           "x": [
            438550170000
           ],
           "xaxis": "x",
           "y": [
            1666090563
           ],
           "yaxis": "y"
          }
         ],
         "name": "2010"
        },
        {
         "data": [
          {
           "hovertemplate": "<b>%{hovertext}</b><br><br>Country=Austria<br>Year=2011<br>GDP=%{marker.size}<br>RoadSpending=%{y}<extra></extra>",
           "hovertext": [
            "Austria"
           ],
           "legendgroup": "Austria",
           "marker": {
            "color": "#636efa",
            "size": [
             384132010000
            ],
            "sizemode": "area",
            "sizeref": 1119177225,
            "symbol": "circle"
           },
           "mode": "markers",
           "name": "Austria",
           "orientation": "v",
           "showlegend": true,
           "type": "scatter",
           "x": [
            384132010000
           ],
           "xaxis": "x",
           "y": [
            null
           ],
           "yaxis": "y"
          },
          {
           "hovertemplate": "<b>%{hovertext}</b><br><br>Country=Belgium<br>Year=2011<br>GDP=%{marker.size}<br>RoadSpending=%{y}<extra></extra>",
           "hovertext": [
            "Belgium"
           ],
           "legendgroup": "Belgium",
           "marker": {
            "color": "#EF553B",
            "size": [
             465682710000.00006
            ],
            "sizemode": "area",
            "sizeref": 1119177225,
            "symbol": "circle"
           },
           "mode": "markers",
           "name": "Belgium",
           "orientation": "v",
           "showlegend": true,
           "type": "scatter",
           "x": [
            465682710000.00006
           ],
           "xaxis": "x",
           "y": [
            248000000
           ],
           "yaxis": "y"
          },
          {
           "hovertemplate": "<b>%{hovertext}</b><br><br>Country=Bulgaria<br>Year=2011<br>GDP=%{marker.size}<br>RoadSpending=%{y}<extra></extra>",
           "hovertext": [
            "Bulgaria"
           ],
           "legendgroup": "Bulgaria",
           "marker": {
            "color": "#00cc96",
            "size": [
             51336980000
            ],
            "sizemode": "area",
            "sizeref": 1119177225,
            "symbol": "circle"
           },
           "mode": "markers",
           "name": "Bulgaria",
           "orientation": "v",
           "showlegend": true,
           "type": "scatter",
           "x": [
            51336980000
           ],
           "xaxis": "x",
           "y": [
            511811023.6
           ],
           "yaxis": "y"
          },
          {
           "hovertemplate": "<b>%{hovertext}</b><br><br>Country=Croatia<br>Year=2011<br>GDP=%{marker.size}<br>RoadSpending=%{y}<extra></extra>",
           "hovertext": [
            "Croatia"
           ],
           "legendgroup": "Croatia",
           "marker": {
            "color": "#ab63fa",
            "size": [
             55852840000
            ],
            "sizemode": "area",
            "sizeref": 1119177225,
            "symbol": "circle"
           },
           "mode": "markers",
           "name": "Croatia",
           "orientation": "v",
           "showlegend": true,
           "type": "scatter",
           "x": [
            55852840000
           ],
           "xaxis": "x",
           "y": [
            459751808.3
           ],
           "yaxis": "y"
          },
          {
           "hovertemplate": "<b>%{hovertext}</b><br><br>Country=Czechia<br>Year=2011<br>GDP=%{marker.size}<br>RoadSpending=%{y}<extra></extra>",
           "hovertext": [
            "Czechia"
           ],
           "legendgroup": "Czechia",
           "marker": {
            "color": "#FFA15A",
            "size": [
             205971810000
            ],
            "sizemode": "area",
            "sizeref": 1119177225,
            "symbol": "circle"
           },
           "mode": "markers",
           "name": "Czechia",
           "orientation": "v",
           "showlegend": true,
           "type": "scatter",
           "x": [
            205971810000
           ],
           "xaxis": "x",
           "y": [
            1293210027
           ],
           "yaxis": "y"
          },
          {
           "hovertemplate": "<b>%{hovertext}</b><br><br>Country=Denmark<br>Year=2011<br>GDP=%{marker.size}<br>RoadSpending=%{y}<extra></extra>",
           "hovertext": [
            "Denmark"
           ],
           "legendgroup": "Denmark",
           "marker": {
            "color": "#19d3f3",
            "size": [
             306441240000
            ],
            "sizemode": "area",
            "sizeref": 1119177225,
            "symbol": "circle"
           },
           "mode": "markers",
           "name": "Denmark",
           "orientation": "v",
           "showlegend": true,
           "type": "scatter",
           "x": [
            306441240000
           ],
           "xaxis": "x",
           "y": [
            1051981693
           ],
           "yaxis": "y"
          },
          {
           "hovertemplate": "<b>%{hovertext}</b><br><br>Country=Estonia<br>Year=2011<br>GDP=%{marker.size}<br>RoadSpending=%{y}<extra></extra>",
           "hovertext": [
            "Estonia"
           ],
           "legendgroup": "Estonia",
           "marker": {
            "color": "#FF6692",
            "size": [
             20737000000
            ],
            "sizemode": "area",
            "sizeref": 1119177225,
            "symbol": "circle"
           },
           "mode": "markers",
           "name": "Estonia",
           "orientation": "v",
           "showlegend": true,
           "type": "scatter",
           "x": [
            20737000000
           ],
           "xaxis": "x",
           "y": [
            158000000
           ],
           "yaxis": "y"
          },
          {
           "hovertemplate": "<b>%{hovertext}</b><br><br>Country=Finland<br>Year=2011<br>GDP=%{marker.size}<br>RoadSpending=%{y}<extra></extra>",
           "hovertext": [
            "Finland"
           ],
           "legendgroup": "Finland",
           "marker": {
            "color": "#B6E880",
            "size": [
             244820310000
            ],
            "sizemode": "area",
            "sizeref": 1119177225,
            "symbol": "circle"
           },
           "mode": "markers",
           "name": "Finland",
           "orientation": "v",
           "showlegend": true,
           "type": "scatter",
           "x": [
            244820310000
           ],
           "xaxis": "x",
           "y": [
            973000000
           ],
           "yaxis": "y"
          },
          {
           "hovertemplate": "<b>%{hovertext}</b><br><br>Country=France<br>Year=2011<br>GDP=%{marker.size}<br>RoadSpending=%{y}<extra></extra>",
           "hovertext": [
            "France"
           ],
           "legendgroup": "France",
           "marker": {
            "color": "#FF97FF",
            "size": [
             2554213670000
            ],
            "sizemode": "area",
            "sizeref": 1119177225,
            "symbol": "circle"
           },
           "mode": "markers",
           "name": "France",
           "orientation": "v",
           "showlegend": true,
           "type": "scatter",
           "x": [
            2554213670000
           ],
           "xaxis": "x",
           "y": [
            12604291274
           ],
           "yaxis": "y"
          },
          {
           "hovertemplate": "<b>%{hovertext}</b><br><br>Country=Germany<br>Year=2011<br>GDP=%{marker.size}<br>RoadSpending=%{y}<extra></extra>",
           "hovertext": [
            "Germany"
           ],
           "legendgroup": "Germany",
           "marker": {
            "color": "#FECB52",
            "size": [
             3403497950000
            ],
            "sizemode": "area",
            "sizeref": 1119177225,
            "symbol": "circle"
           },
           "mode": "markers",
           "name": "Germany",
           "orientation": "v",
           "showlegend": true,
           "type": "scatter",
           "x": [
            3403497950000
           ],
           "xaxis": "x",
           "y": [
            11340000000
           ],
           "yaxis": "y"
          },
          {
           "hovertemplate": "<b>%{hovertext}</b><br><br>Country=Greece<br>Year=2011<br>GDP=%{marker.size}<br>RoadSpending=%{y}<extra></extra>",
           "hovertext": [
            "Greece"
           ],
           "legendgroup": "Greece",
           "marker": {
            "color": "#636efa",
            "size": [
             251821940000
            ],
            "sizemode": "area",
            "sizeref": 1119177225,
            "symbol": "circle"
           },
           "mode": "markers",
           "name": "Greece",
           "orientation": "v",
           "showlegend": true,
           "type": "scatter",
           "x": [
            251821940000
           ],
           "xaxis": "x",
           "y": [
            1132486646
           ],
           "yaxis": "y"
          },
          {
           "hovertemplate": "<b>%{hovertext}</b><br><br>Country=Hungary<br>Year=2011<br>GDP=%{marker.size}<br>RoadSpending=%{y}<extra></extra>",
           "hovertext": [
            "Hungary"
           ],
           "legendgroup": "Hungary",
           "marker": {
            "color": "#EF553B",
            "size": [
             126328380000
            ],
            "sizemode": "area",
            "sizeref": 1119177225,
            "symbol": "circle"
           },
           "mode": "markers",
           "name": "Hungary",
           "orientation": "v",
           "showlegend": true,
           "type": "scatter",
           "x": [
            126328380000
           ],
           "xaxis": "x",
           "y": [
            298023701.3
           ],
           "yaxis": "y"
          },
          {
           "hovertemplate": "<b>%{hovertext}</b><br><br>Country=Ireland<br>Year=2011<br>GDP=%{marker.size}<br>RoadSpending=%{y}<extra></extra>",
           "hovertext": [
            "Ireland"
           ],
           "legendgroup": "Ireland",
           "marker": {
            "color": "#00cc96",
            "size": [
             214752550000
            ],
            "sizemode": "area",
            "sizeref": 1119177225,
            "symbol": "circle"
           },
           "mode": "markers",
           "name": "Ireland",
           "orientation": "v",
           "showlegend": true,
           "type": "scatter",
           "x": [
            214752550000
           ],
           "xaxis": "x",
           "y": [
            1017000000
           ],
           "yaxis": "y"
          },
          {
           "hovertemplate": "<b>%{hovertext}</b><br><br>Country=Italy<br>Year=2011<br>GDP=%{marker.size}<br>RoadSpending=%{y}<extra></extra>",
           "hovertext": [
            "Italy"
           ],
           "legendgroup": "Italy",
           "marker": {
            "color": "#ab63fa",
            "size": [
             2052845520000
            ],
            "sizemode": "area",
            "sizeref": 1119177225,
            "symbol": "circle"
           },
           "mode": "markers",
           "name": "Italy",
           "orientation": "v",
           "showlegend": true,
           "type": "scatter",
           "x": [
            2052845520000
           ],
           "xaxis": "x",
           "y": [
            4129000000
           ],
           "yaxis": "y"
          },
          {
           "hovertemplate": "<b>%{hovertext}</b><br><br>Country=Latvia<br>Year=2011<br>GDP=%{marker.size}<br>RoadSpending=%{y}<extra></extra>",
           "hovertext": [
            "Latvia"
           ],
           "legendgroup": "Latvia",
           "marker": {
            "color": "#FFA15A",
            "size": [
             24688600000
            ],
            "sizemode": "area",
            "sizeref": 1119177225,
            "symbol": "circle"
           },
           "mode": "markers",
           "name": "Latvia",
           "orientation": "v",
           "showlegend": true,
           "type": "scatter",
           "x": [
            24688600000
           ],
           "xaxis": "x",
           "y": [
            222000000
           ],
           "yaxis": "y"
          },
          {
           "hovertemplate": "<b>%{hovertext}</b><br><br>Country=Lithuania<br>Year=2011<br>GDP=%{marker.size}<br>RoadSpending=%{y}<extra></extra>",
           "hovertext": [
            "Lithuania"
           ],
           "legendgroup": "Lithuania",
           "marker": {
            "color": "#19d3f3",
            "size": [
             38801330000
            ],
            "sizemode": "area",
            "sizeref": 1119177225,
            "symbol": "circle"
           },
           "mode": "markers",
           "name": "Lithuania",
           "orientation": "v",
           "showlegend": true,
           "type": "scatter",
           "x": [
            38801330000
           ],
           "xaxis": "x",
           "y": [
            343000000
           ],
           "yaxis": "y"
          },
          {
           "hovertemplate": "<b>%{hovertext}</b><br><br>Country=Luxembourg<br>Year=2011<br>GDP=%{marker.size}<br>RoadSpending=%{y}<extra></extra>",
           "hovertext": [
            "Luxembourg"
           ],
           "legendgroup": "Luxembourg",
           "marker": {
            "color": "#FF6692",
            "size": [
             54899650000
            ],
            "sizemode": "area",
            "sizeref": 1119177225,
            "symbol": "circle"
           },
           "mode": "markers",
           "name": "Luxembourg",
           "orientation": "v",
           "showlegend": true,
           "type": "scatter",
           "x": [
            54899650000
           ],
           "xaxis": "x",
           "y": [
            221976449.3
           ],
           "yaxis": "y"
          },
          {
           "hovertemplate": "<b>%{hovertext}</b><br><br>Country=Malta<br>Year=2011<br>GDP=%{marker.size}<br>RoadSpending=%{y}<extra></extra>",
           "hovertext": [
            "Malta"
           ],
           "legendgroup": "Malta",
           "marker": {
            "color": "#B6E880",
            "size": [
             8711320000
            ],
            "sizemode": "area",
            "sizeref": 1119177225,
            "symbol": "circle"
           },
           "mode": "markers",
           "name": "Malta",
           "orientation": "v",
           "showlegend": true,
           "type": "scatter",
           "x": [
            8711320000
           ],
           "xaxis": "x",
           "y": [
            17340553.11
           ],
           "yaxis": "y"
          },
          {
           "hovertemplate": "<b>%{hovertext}</b><br><br>Country=Netherlands<br>Year=2011<br>GDP=%{marker.size}<br>RoadSpending=%{y}<extra></extra>",
           "hovertext": [
            "Netherlands"
           ],
           "legendgroup": "Netherlands",
           "marker": {
            "color": "#FF97FF",
            "size": [
             812552200000
            ],
            "sizemode": "area",
            "sizeref": 1119177225,
            "symbol": "circle"
           },
           "mode": "markers",
           "name": "Netherlands",
           "orientation": "v",
           "showlegend": true,
           "type": "scatter",
           "x": [
            812552200000
           ],
           "xaxis": "x",
           "y": [
            4849197152
           ],
           "yaxis": "y"
          },
          {
           "hovertemplate": "<b>%{hovertext}</b><br><br>Country=Poland<br>Year=2011<br>GDP=%{marker.size}<br>RoadSpending=%{y}<extra></extra>",
           "hovertext": [
            "Poland"
           ],
           "legendgroup": "Poland",
           "marker": {
            "color": "#FECB52",
            "size": [
             466692860000
            ],
            "sizemode": "area",
            "sizeref": 1119177225,
            "symbol": "circle"
           },
           "mode": "markers",
           "name": "Poland",
           "orientation": "v",
           "showlegend": true,
           "type": "scatter",
           "x": [
            466692860000
           ],
           "xaxis": "x",
           "y": [
            8323257338
           ],
           "yaxis": "y"
          },
          {
           "hovertemplate": "<b>%{hovertext}</b><br><br>Country=Portugal<br>Year=2011<br>GDP=%{marker.size}<br>RoadSpending=%{y}<extra></extra>",
           "hovertext": [
            "Portugal"
           ],
           "legendgroup": "Portugal",
           "marker": {
            "color": "#636efa",
            "size": [
             218116750000
            ],
            "sizemode": "area",
            "sizeref": 1119177225,
            "symbol": "circle"
           },
           "mode": "markers",
           "name": "Portugal",
           "orientation": "v",
           "showlegend": true,
           "type": "scatter",
           "x": [
            218116750000
           ],
           "xaxis": "x",
           "y": [
            null
           ],
           "yaxis": "y"
          },
          {
           "hovertemplate": "<b>%{hovertext}</b><br><br>Country=Romania<br>Year=2011<br>GDP=%{marker.size}<br>RoadSpending=%{y}<extra></extra>",
           "hovertext": [
            "Romania"
           ],
           "legendgroup": "Romania",
           "marker": {
            "color": "#EF553B",
            "size": [
             171623150000
            ],
            "sizemode": "area",
            "sizeref": 1119177225,
            "symbol": "circle"
           },
           "mode": "markers",
           "name": "Romania",
           "orientation": "v",
           "showlegend": true,
           "type": "scatter",
           "x": [
            171623150000
           ],
           "xaxis": "x",
           "y": [
            3283631388
           ],
           "yaxis": "y"
          },
          {
           "hovertemplate": "<b>%{hovertext}</b><br><br>Country=Slovak Republic<br>Year=2011<br>GDP=%{marker.size}<br>RoadSpending=%{y}<extra></extra>",
           "hovertext": [
            "Slovak Republic"
           ],
           "legendgroup": "Slovak Republic",
           "marker": {
            "color": "#00cc96",
            "size": [
             88915450000
            ],
            "sizemode": "area",
            "sizeref": 1119177225,
            "symbol": "circle"
           },
           "mode": "markers",
           "name": "Slovak Republic",
           "orientation": "v",
           "showlegend": true,
           "type": "scatter",
           "x": [
            88915450000
           ],
           "xaxis": "x",
           "y": [
            432000000
           ],
           "yaxis": "y"
          },
          {
           "hovertemplate": "<b>%{hovertext}</b><br><br>Country=Slovenia<br>Year=2011<br>GDP=%{marker.size}<br>RoadSpending=%{y}<extra></extra>",
           "hovertext": [
            "Slovenia"
           ],
           "legendgroup": "Slovenia",
           "marker": {
            "color": "#ab63fa",
            "size": [
             45559100000
            ],
            "sizemode": "area",
            "sizeref": 1119177225,
            "symbol": "circle"
           },
           "mode": "markers",
           "name": "Slovenia",
           "orientation": "v",
           "showlegend": true,
           "type": "scatter",
           "x": [
            45559100000
           ],
           "xaxis": "x",
           "y": [
            112000000
           ],
           "yaxis": "y"
          },
          {
           "hovertemplate": "<b>%{hovertext}</b><br><br>Country=Spain<br>Year=2011<br>GDP=%{marker.size}<br>RoadSpending=%{y}<extra></extra>",
           "hovertext": [
            "Spain"
           ],
           "legendgroup": "Spain",
           "marker": {
            "color": "#FFA15A",
            "size": [
             1323703230000
            ],
            "sizemode": "area",
            "sizeref": 1119177225,
            "symbol": "circle"
           },
           "mode": "markers",
           "name": "Spain",
           "orientation": "v",
           "showlegend": true,
           "type": "scatter",
           "x": [
            1323703230000
           ],
           "xaxis": "x",
           "y": [
            5966000000
           ],
           "yaxis": "y"
          },
          {
           "hovertemplate": "<b>%{hovertext}</b><br><br>Country=Sweden<br>Year=2011<br>GDP=%{marker.size}<br>RoadSpending=%{y}<extra></extra>",
           "hovertext": [
            "Sweden"
           ],
           "legendgroup": "Sweden",
           "marker": {
            "color": "#19d3f3",
            "size": [
             507781490000
            ],
            "sizemode": "area",
            "sizeref": 1119177225,
            "symbol": "circle"
           },
           "mode": "markers",
           "name": "Sweden",
           "orientation": "v",
           "showlegend": true,
           "type": "scatter",
           "x": [
            507781490000
           ],
           "xaxis": "x",
           "y": [
            1911693030
           ],
           "yaxis": "y"
          }
         ],
         "name": "2011"
        },
        {
         "data": [
          {
           "hovertemplate": "<b>%{hovertext}</b><br><br>Country=Austria<br>Year=2012<br>GDP=%{marker.size}<br>RoadSpending=%{y}<extra></extra>",
           "hovertext": [
            "Austria"
           ],
           "legendgroup": "Austria",
           "marker": {
            "color": "#636efa",
            "size": [
             364598290000
            ],
            "sizemode": "area",
            "sizeref": 1119177225,
            "symbol": "circle"
           },
           "mode": "markers",
           "name": "Austria",
           "orientation": "v",
           "showlegend": true,
           "type": "scatter",
           "x": [
            364598290000
           ],
           "xaxis": "x",
           "y": [
            null
           ],
           "yaxis": "y"
          },
          {
           "hovertemplate": "<b>%{hovertext}</b><br><br>Country=Belgium<br>Year=2012<br>GDP=%{marker.size}<br>RoadSpending=%{y}<extra></extra>",
           "hovertext": [
            "Belgium"
           ],
           "legendgroup": "Belgium",
           "marker": {
            "color": "#EF553B",
            "size": [
             441855630000
            ],
            "sizemode": "area",
            "sizeref": 1119177225,
            "symbol": "circle"
           },
           "mode": "markers",
           "name": "Belgium",
           "orientation": "v",
           "showlegend": true,
           "type": "scatter",
           "x": [
            441855630000
           ],
           "xaxis": "x",
           "y": [
            553000000
           ],
           "yaxis": "y"
          },
          {
           "hovertemplate": "<b>%{hovertext}</b><br><br>Country=Bulgaria<br>Year=2012<br>GDP=%{marker.size}<br>RoadSpending=%{y}<extra></extra>",
           "hovertext": [
            "Bulgaria"
           ],
           "legendgroup": "Bulgaria",
           "marker": {
            "color": "#00cc96",
            "size": [
             48324330000
            ],
            "sizemode": "area",
            "sizeref": 1119177225,
            "symbol": "circle"
           },
           "mode": "markers",
           "name": "Bulgaria",
           "orientation": "v",
           "showlegend": true,
           "type": "scatter",
           "x": [
            48324330000
           ],
           "xaxis": "x",
           "y": [
            585949483.6
           ],
           "yaxis": "y"
          },
          {
           "hovertemplate": "<b>%{hovertext}</b><br><br>Country=Croatia<br>Year=2012<br>GDP=%{marker.size}<br>RoadSpending=%{y}<extra></extra>",
           "hovertext": [
            "Croatia"
           ],
           "legendgroup": "Croatia",
           "marker": {
            "color": "#ab63fa",
            "size": [
             51127830000
            ],
            "sizemode": "area",
            "sizeref": 1119177225,
            "symbol": "circle"
           },
           "mode": "markers",
           "name": "Croatia",
           "orientation": "v",
           "showlegend": true,
           "type": "scatter",
           "x": [
            51127830000
           ],
           "xaxis": "x",
           "y": [
            477802110.3
           ],
           "yaxis": "y"
          },
          {
           "hovertemplate": "<b>%{hovertext}</b><br><br>Country=Czechia<br>Year=2012<br>GDP=%{marker.size}<br>RoadSpending=%{y}<extra></extra>",
           "hovertext": [
            "Czechia"
           ],
           "legendgroup": "Czechia",
           "marker": {
            "color": "#FFA15A",
            "size": [
             187223070000
            ],
            "sizemode": "area",
            "sizeref": 1119177225,
            "symbol": "circle"
           },
           "mode": "markers",
           "name": "Czechia",
           "orientation": "v",
           "showlegend": true,
           "type": "scatter",
           "x": [
            187223070000
           ],
           "xaxis": "x",
           "y": [
            876329247.8
           ],
           "yaxis": "y"
          },
          {
           "hovertemplate": "<b>%{hovertext}</b><br><br>Country=Denmark<br>Year=2012<br>GDP=%{marker.size}<br>RoadSpending=%{y}<extra></extra>",
           "hovertext": [
            "Denmark"
           ],
           "legendgroup": "Denmark",
           "marker": {
            "color": "#19d3f3",
            "size": [
             290845770000
            ],
            "sizemode": "area",
            "sizeref": 1119177225,
            "symbol": "circle"
           },
           "mode": "markers",
           "name": "Denmark",
           "orientation": "v",
           "showlegend": true,
           "type": "scatter",
           "x": [
            290845770000
           ],
           "xaxis": "x",
           "y": [
            1323651898
           ],
           "yaxis": "y"
          },
          {
           "hovertemplate": "<b>%{hovertext}</b><br><br>Country=Estonia<br>Year=2012<br>GDP=%{marker.size}<br>RoadSpending=%{y}<extra></extra>",
           "hovertext": [
            "Estonia"
           ],
           "legendgroup": "Estonia",
           "marker": {
            "color": "#FF6692",
            "size": [
             20694280000
            ],
            "sizemode": "area",
            "sizeref": 1119177225,
            "symbol": "circle"
           },
           "mode": "markers",
           "name": "Estonia",
           "orientation": "v",
           "showlegend": true,
           "type": "scatter",
           "x": [
            20694280000
           ],
           "xaxis": "x",
           "y": [
            198400000
           ],
           "yaxis": "y"
          },
          {
           "hovertemplate": "<b>%{hovertext}</b><br><br>Country=Finland<br>Year=2012<br>GDP=%{marker.size}<br>RoadSpending=%{y}<extra></extra>",
           "hovertext": [
            "Finland"
           ],
           "legendgroup": "Finland",
           "marker": {
            "color": "#B6E880",
            "size": [
             229269340000
            ],
            "sizemode": "area",
            "sizeref": 1119177225,
            "symbol": "circle"
           },
           "mode": "markers",
           "name": "Finland",
           "orientation": "v",
           "showlegend": true,
           "type": "scatter",
           "x": [
            229269340000
           ],
           "xaxis": "x",
           "y": [
            1343000000
           ],
           "yaxis": "y"
          },
          {
           "hovertemplate": "<b>%{hovertext}</b><br><br>Country=France<br>Year=2012<br>GDP=%{marker.size}<br>RoadSpending=%{y}<extra></extra>",
           "hovertext": [
            "France"
           ],
           "legendgroup": "France",
           "marker": {
            "color": "#FF97FF",
            "size": [
             2389388340000
            ],
            "sizemode": "area",
            "sizeref": 1119177225,
            "symbol": "circle"
           },
           "mode": "markers",
           "name": "France",
           "orientation": "v",
           "showlegend": true,
           "type": "scatter",
           "x": [
            2389388340000
           ],
           "xaxis": "x",
           "y": [
            13173701531
           ],
           "yaxis": "y"
          },
          {
           "hovertemplate": "<b>%{hovertext}</b><br><br>Country=Germany<br>Year=2012<br>GDP=%{marker.size}<br>RoadSpending=%{y}<extra></extra>",
           "hovertext": [
            "Germany"
           ],
           "legendgroup": "Germany",
           "marker": {
            "color": "#FECB52",
            "size": [
             3204155750000
            ],
            "sizemode": "area",
            "sizeref": 1119177225,
            "symbol": "circle"
           },
           "mode": "markers",
           "name": "Germany",
           "orientation": "v",
           "showlegend": true,
           "type": "scatter",
           "x": [
            3204155750000
           ],
           "xaxis": "x",
           "y": [
            11180000000
           ],
           "yaxis": "y"
          },
          {
           "hovertemplate": "<b>%{hovertext}</b><br><br>Country=Greece<br>Year=2012<br>GDP=%{marker.size}<br>RoadSpending=%{y}<extra></extra>",
           "hovertext": [
            "Greece"
           ],
           "legendgroup": "Greece",
           "marker": {
            "color": "#636efa",
            "size": [
             215542870000
            ],
            "sizemode": "area",
            "sizeref": 1119177225,
            "symbol": "circle"
           },
           "mode": "markers",
           "name": "Greece",
           "orientation": "v",
           "showlegend": true,
           "type": "scatter",
           "x": [
            215542870000
           ],
           "xaxis": "x",
           "y": [
            994576029.8
           ],
           "yaxis": "y"
          },
          {
           "hovertemplate": "<b>%{hovertext}</b><br><br>Country=Hungary<br>Year=2012<br>GDP=%{marker.size}<br>RoadSpending=%{y}<extra></extra>",
           "hovertext": [
            "Hungary"
           ],
           "legendgroup": "Hungary",
           "marker": {
            "color": "#EF553B",
            "size": [
             114644460000
            ],
            "sizemode": "area",
            "sizeref": 1119177225,
            "symbol": "circle"
           },
           "mode": "markers",
           "name": "Hungary",
           "orientation": "v",
           "showlegend": true,
           "type": "scatter",
           "x": [
            114644460000
           ],
           "xaxis": "x",
           "y": [
            152652284.2
           ],
           "yaxis": "y"
          },
          {
           "hovertemplate": "<b>%{hovertext}</b><br><br>Country=Ireland<br>Year=2012<br>GDP=%{marker.size}<br>RoadSpending=%{y}<extra></extra>",
           "hovertext": [
            "Ireland"
           ],
           "legendgroup": "Ireland",
           "marker": {
            "color": "#00cc96",
            "size": [
             202399350000
            ],
            "sizemode": "area",
            "sizeref": 1119177225,
            "symbol": "circle"
           },
           "mode": "markers",
           "name": "Ireland",
           "orientation": "v",
           "showlegend": true,
           "type": "scatter",
           "x": [
            202399350000
           ],
           "xaxis": "x",
           "y": [
            886000000
           ],
           "yaxis": "y"
          },
          {
           "hovertemplate": "<b>%{hovertext}</b><br><br>Country=Italy<br>Year=2012<br>GDP=%{marker.size}<br>RoadSpending=%{y}<extra></extra>",
           "hovertext": [
            "Italy"
           ],
           "legendgroup": "Italy",
           "marker": {
            "color": "#ab63fa",
            "size": [
             1868340510000
            ],
            "sizemode": "area",
            "sizeref": 1119177225,
            "symbol": "circle"
           },
           "mode": "markers",
           "name": "Italy",
           "orientation": "v",
           "showlegend": true,
           "type": "scatter",
           "x": [
            1868340510000
           ],
           "xaxis": "x",
           "y": [
            3107000000
           ],
           "yaxis": "y"
          },
          {
           "hovertemplate": "<b>%{hovertext}</b><br><br>Country=Latvia<br>Year=2012<br>GDP=%{marker.size}<br>RoadSpending=%{y}<extra></extra>",
           "hovertext": [
            "Latvia"
           ],
           "legendgroup": "Latvia",
           "marker": {
            "color": "#FFA15A",
            "size": [
             25089990000
            ],
            "sizemode": "area",
            "sizeref": 1119177225,
            "symbol": "circle"
           },
           "mode": "markers",
           "name": "Latvia",
           "orientation": "v",
           "showlegend": true,
           "type": "scatter",
           "x": [
            25089990000
           ],
           "xaxis": "x",
           "y": [
            190000000
           ],
           "yaxis": "y"
          },
          {
           "hovertemplate": "<b>%{hovertext}</b><br><br>Country=Lithuania<br>Year=2012<br>GDP=%{marker.size}<br>RoadSpending=%{y}<extra></extra>",
           "hovertext": [
            "Lithuania"
           ],
           "legendgroup": "Lithuania",
           "marker": {
            "color": "#19d3f3",
            "size": [
             38170320000
            ],
            "sizemode": "area",
            "sizeref": 1119177225,
            "symbol": "circle"
           },
           "mode": "markers",
           "name": "Lithuania",
           "orientation": "v",
           "showlegend": true,
           "type": "scatter",
           "x": [
            38170320000
           ],
           "xaxis": "x",
           "y": [
            243000000
           ],
           "yaxis": "y"
          },
          {
           "hovertemplate": "<b>%{hovertext}</b><br><br>Country=Luxembourg<br>Year=2012<br>GDP=%{marker.size}<br>RoadSpending=%{y}<extra></extra>",
           "hovertext": [
            "Luxembourg"
           ],
           "legendgroup": "Luxembourg",
           "marker": {
            "color": "#FF6692",
            "size": [
             53234460000
            ],
            "sizemode": "area",
            "sizeref": 1119177225,
            "symbol": "circle"
           },
           "mode": "markers",
           "name": "Luxembourg",
           "orientation": "v",
           "showlegend": true,
           "type": "scatter",
           "x": [
            53234460000
           ],
           "xaxis": "x",
           "y": [
            213399365
           ],
           "yaxis": "y"
          },
          {
           "hovertemplate": "<b>%{hovertext}</b><br><br>Country=Malta<br>Year=2012<br>GDP=%{marker.size}<br>RoadSpending=%{y}<extra></extra>",
           "hovertext": [
            "Malta"
           ],
           "legendgroup": "Malta",
           "marker": {
            "color": "#B6E880",
            "size": [
             8558240000
            ],
            "sizemode": "area",
            "sizeref": 1119177225,
            "symbol": "circle"
           },
           "mode": "markers",
           "name": "Malta",
           "orientation": "v",
           "showlegend": true,
           "type": "scatter",
           "x": [
            8558240000
           ],
           "xaxis": "x",
           "y": [
            26747405.42
           ],
           "yaxis": "y"
          },
          {
           "hovertemplate": "<b>%{hovertext}</b><br><br>Country=Netherlands<br>Year=2012<br>GDP=%{marker.size}<br>RoadSpending=%{y}<extra></extra>",
           "hovertext": [
            "Netherlands"
           ],
           "legendgroup": "Netherlands",
           "marker": {
            "color": "#FF97FF",
            "size": [
             753140250000
            ],
            "sizemode": "area",
            "sizeref": 1119177225,
            "symbol": "circle"
           },
           "mode": "markers",
           "name": "Netherlands",
           "orientation": "v",
           "showlegend": true,
           "type": "scatter",
           "x": [
            753140250000
           ],
           "xaxis": "x",
           "y": [
            4861963582
           ],
           "yaxis": "y"
          },
          {
           "hovertemplate": "<b>%{hovertext}</b><br><br>Country=Poland<br>Year=2012<br>GDP=%{marker.size}<br>RoadSpending=%{y}<extra></extra>",
           "hovertext": [
            "Poland"
           ],
           "legendgroup": "Poland",
           "marker": {
            "color": "#FECB52",
            "size": [
             440754700000
            ],
            "sizemode": "area",
            "sizeref": 1119177225,
            "symbol": "circle"
           },
           "mode": "markers",
           "name": "Poland",
           "orientation": "v",
           "showlegend": true,
           "type": "scatter",
           "x": [
            440754700000
           ],
           "xaxis": "x",
           "y": [
            4382811940
           ],
           "yaxis": "y"
          },
          {
           "hovertemplate": "<b>%{hovertext}</b><br><br>Country=Portugal<br>Year=2012<br>GDP=%{marker.size}<br>RoadSpending=%{y}<extra></extra>",
           "hovertext": [
            "Portugal"
           ],
           "legendgroup": "Portugal",
           "marker": {
            "color": "#636efa",
            "size": [
             192561290000
            ],
            "sizemode": "area",
            "sizeref": 1119177225,
            "symbol": "circle"
           },
           "mode": "markers",
           "name": "Portugal",
           "orientation": "v",
           "showlegend": true,
           "type": "scatter",
           "x": [
            192561290000
           ],
           "xaxis": "x",
           "y": [
            274000000
           ],
           "yaxis": "y"
          },
          {
           "hovertemplate": "<b>%{hovertext}</b><br><br>Country=Romania<br>Year=2012<br>GDP=%{marker.size}<br>RoadSpending=%{y}<extra></extra>",
           "hovertext": [
            "Romania"
           ],
           "legendgroup": "Romania",
           "marker": {
            "color": "#EF553B",
            "size": [
             159526270000
            ],
            "sizemode": "area",
            "sizeref": 1119177225,
            "symbol": "circle"
           },
           "mode": "markers",
           "name": "Romania",
           "orientation": "v",
           "showlegend": true,
           "type": "scatter",
           "x": [
            159526270000
           ],
           "xaxis": "x",
           "y": [
            3092797380
           ],
           "yaxis": "y"
          },
          {
           "hovertemplate": "<b>%{hovertext}</b><br><br>Country=Slovak Republic<br>Year=2012<br>GDP=%{marker.size}<br>RoadSpending=%{y}<extra></extra>",
           "hovertext": [
            "Slovak Republic"
           ],
           "legendgroup": "Slovak Republic",
           "marker": {
            "color": "#00cc96",
            "size": [
             84268760000
            ],
            "sizemode": "area",
            "sizeref": 1119177225,
            "symbol": "circle"
           },
           "mode": "markers",
           "name": "Slovak Republic",
           "orientation": "v",
           "showlegend": true,
           "type": "scatter",
           "x": [
            84268760000
           ],
           "xaxis": "x",
           "y": [
            311000000
           ],
           "yaxis": "y"
          },
          {
           "hovertemplate": "<b>%{hovertext}</b><br><br>Country=Slovenia<br>Year=2012<br>GDP=%{marker.size}<br>RoadSpending=%{y}<extra></extra>",
           "hovertext": [
            "Slovenia"
           ],
           "legendgroup": "Slovenia",
           "marker": {
            "color": "#ab63fa",
            "size": [
             41114440000
            ],
            "sizemode": "area",
            "sizeref": 1119177225,
            "symbol": "circle"
           },
           "mode": "markers",
           "name": "Slovenia",
           "orientation": "v",
           "showlegend": true,
           "type": "scatter",
           "x": [
            41114440000
           ],
           "xaxis": "x",
           "y": [
            102000000
           ],
           "yaxis": "y"
          },
          {
           "hovertemplate": "<b>%{hovertext}</b><br><br>Country=Spain<br>Year=2012<br>GDP=%{marker.size}<br>RoadSpending=%{y}<extra></extra>",
           "hovertext": [
            "Spain"
           ],
           "legendgroup": "Spain",
           "marker": {
            "color": "#FFA15A",
            "size": [
             1185335820000
            ],
            "sizemode": "area",
            "sizeref": 1119177225,
            "symbol": "circle"
           },
           "mode": "markers",
           "name": "Spain",
           "orientation": "v",
           "showlegend": true,
           "type": "scatter",
           "x": [
            1185335820000
           ],
           "xaxis": "x",
           "y": [
            5316000000
           ],
           "yaxis": "y"
          },
          {
           "hovertemplate": "<b>%{hovertext}</b><br><br>Country=Sweden<br>Year=2012<br>GDP=%{marker.size}<br>RoadSpending=%{y}<extra></extra>",
           "hovertext": [
            "Sweden"
           ],
           "legendgroup": "Sweden",
           "marker": {
            "color": "#19d3f3",
            "size": [
             489270379999.99994
            ],
            "sizemode": "area",
            "sizeref": 1119177225,
            "symbol": "circle"
           },
           "mode": "markers",
           "name": "Sweden",
           "orientation": "v",
           "showlegend": true,
           "type": "scatter",
           "x": [
            489270379999.99994
           ],
           "xaxis": "x",
           "y": [
            2212089540
           ],
           "yaxis": "y"
          }
         ],
         "name": "2012"
        },
        {
         "data": [
          {
           "hovertemplate": "<b>%{hovertext}</b><br><br>Country=Austria<br>Year=2013<br>GDP=%{marker.size}<br>RoadSpending=%{y}<extra></extra>",
           "hovertext": [
            "Austria"
           ],
           "legendgroup": "Austria",
           "marker": {
            "color": "#636efa",
            "size": [
             382875330000
            ],
            "sizemode": "area",
            "sizeref": 1119177225,
            "symbol": "circle"
           },
           "mode": "markers",
           "name": "Austria",
           "orientation": "v",
           "showlegend": true,
           "type": "scatter",
           "x": [
            382875330000
           ],
           "xaxis": "x",
           "y": [
            null
           ],
           "yaxis": "y"
          },
          {
           "hovertemplate": "<b>%{hovertext}</b><br><br>Country=Belgium<br>Year=2013<br>GDP=%{marker.size}<br>RoadSpending=%{y}<extra></extra>",
           "hovertext": [
            "Belgium"
           ],
           "legendgroup": "Belgium",
           "marker": {
            "color": "#EF553B",
            "size": [
             464401110000
            ],
            "sizemode": "area",
            "sizeref": 1119177225,
            "symbol": "circle"
           },
           "mode": "markers",
           "name": "Belgium",
           "orientation": "v",
           "showlegend": true,
           "type": "scatter",
           "x": [
            464401110000
           ],
           "xaxis": "x",
           "y": [
            587000000
           ],
           "yaxis": "y"
          },
          {
           "hovertemplate": "<b>%{hovertext}</b><br><br>Country=Bulgaria<br>Year=2013<br>GDP=%{marker.size}<br>RoadSpending=%{y}<extra></extra>",
           "hovertext": [
            "Bulgaria"
           ],
           "legendgroup": "Bulgaria",
           "marker": {
            "color": "#00cc96",
            "size": [
             49679800000
            ],
            "sizemode": "area",
            "sizeref": 1119177225,
            "symbol": "circle"
           },
           "mode": "markers",
           "name": "Bulgaria",
           "orientation": "v",
           "showlegend": true,
           "type": "scatter",
           "x": [
            49679800000
           ],
           "xaxis": "x",
           "y": [
            505164127.2
           ],
           "yaxis": "y"
          },
          {
           "hovertemplate": "<b>%{hovertext}</b><br><br>Country=Croatia<br>Year=2013<br>GDP=%{marker.size}<br>RoadSpending=%{y}<extra></extra>",
           "hovertext": [
            "Croatia"
           ],
           "legendgroup": "Croatia",
           "marker": {
            "color": "#ab63fa",
            "size": [
             53036880000
            ],
            "sizemode": "area",
            "sizeref": 1119177225,
            "symbol": "circle"
           },
           "mode": "markers",
           "name": "Croatia",
           "orientation": "v",
           "showlegend": true,
           "type": "scatter",
           "x": [
            53036880000
           ],
           "xaxis": "x",
           "y": [
            426703829.1
           ],
           "yaxis": "y"
          },
          {
           "hovertemplate": "<b>%{hovertext}</b><br><br>Country=Czechia<br>Year=2013<br>GDP=%{marker.size}<br>RoadSpending=%{y}<extra></extra>",
           "hovertext": [
            "Czechia"
           ],
           "legendgroup": "Czechia",
           "marker": {
            "color": "#FFA15A",
            "size": [
             189591360000
            ],
            "sizemode": "area",
            "sizeref": 1119177225,
            "symbol": "circle"
           },
           "mode": "markers",
           "name": "Czechia",
           "orientation": "v",
           "showlegend": true,
           "type": "scatter",
           "x": [
            189591360000
           ],
           "xaxis": "x",
           "y": [
            647511082.4
           ],
           "yaxis": "y"
          },
          {
           "hovertemplate": "<b>%{hovertext}</b><br><br>Country=Denmark<br>Year=2013<br>GDP=%{marker.size}<br>RoadSpending=%{y}<extra></extra>",
           "hovertext": [
            "Denmark"
           ],
           "legendgroup": "Denmark",
           "marker": {
            "color": "#19d3f3",
            "size": [
             306721590000
            ],
            "sizemode": "area",
            "sizeref": 1119177225,
            "symbol": "circle"
           },
           "mode": "markers",
           "name": "Denmark",
           "orientation": "v",
           "showlegend": true,
           "type": "scatter",
           "x": [
            306721590000
           ],
           "xaxis": "x",
           "y": [
            1046943510
           ],
           "yaxis": "y"
          },
          {
           "hovertemplate": "<b>%{hovertext}</b><br><br>Country=Estonia<br>Year=2013<br>GDP=%{marker.size}<br>RoadSpending=%{y}<extra></extra>",
           "hovertext": [
            "Estonia"
           ],
           "legendgroup": "Estonia",
           "marker": {
            "color": "#FF6692",
            "size": [
             22651390000
            ],
            "sizemode": "area",
            "sizeref": 1119177225,
            "symbol": "circle"
           },
           "mode": "markers",
           "name": "Estonia",
           "orientation": "v",
           "showlegend": true,
           "type": "scatter",
           "x": [
            22651390000
           ],
           "xaxis": "x",
           "y": [
            214530000
           ],
           "yaxis": "y"
          },
          {
           "hovertemplate": "<b>%{hovertext}</b><br><br>Country=Finland<br>Year=2013<br>GDP=%{marker.size}<br>RoadSpending=%{y}<extra></extra>",
           "hovertext": [
            "Finland"
           ],
           "legendgroup": "Finland",
           "marker": {
            "color": "#B6E880",
            "size": [
             240542080000
            ],
            "sizemode": "area",
            "sizeref": 1119177225,
            "symbol": "circle"
           },
           "mode": "markers",
           "name": "Finland",
           "orientation": "v",
           "showlegend": true,
           "type": "scatter",
           "x": [
            240542080000
           ],
           "xaxis": "x",
           "y": [
            1379000000
           ],
           "yaxis": "y"
          },
          {
           "hovertemplate": "<b>%{hovertext}</b><br><br>Country=France<br>Year=2013<br>GDP=%{marker.size}<br>RoadSpending=%{y}<extra></extra>",
           "hovertext": [
            "France"
           ],
           "legendgroup": "France",
           "marker": {
            "color": "#FF97FF",
            "size": [
             2506345910000
            ],
            "sizemode": "area",
            "sizeref": 1119177225,
            "symbol": "circle"
           },
           "mode": "markers",
           "name": "France",
           "orientation": "v",
           "showlegend": true,
           "type": "scatter",
           "x": [
            2506345910000
           ],
           "xaxis": "x",
           "y": [
            12866158552
           ],
           "yaxis": "y"
          },
          {
           "hovertemplate": "<b>%{hovertext}</b><br><br>Country=Germany<br>Year=2013<br>GDP=%{marker.size}<br>RoadSpending=%{y}<extra></extra>",
           "hovertext": [
            "Germany"
           ],
           "legendgroup": "Germany",
           "marker": {
            "color": "#FECB52",
            "size": [
             3389246380000
            ],
            "sizemode": "area",
            "sizeref": 1119177225,
            "symbol": "circle"
           },
           "mode": "markers",
           "name": "Germany",
           "orientation": "v",
           "showlegend": true,
           "type": "scatter",
           "x": [
            3389246380000
           ],
           "xaxis": "x",
           "y": [
            11400000000
           ],
           "yaxis": "y"
          },
          {
           "hovertemplate": "<b>%{hovertext}</b><br><br>Country=Greece<br>Year=2013<br>GDP=%{marker.size}<br>RoadSpending=%{y}<extra></extra>",
           "hovertext": [
            "Greece"
           ],
           "legendgroup": "Greece",
           "marker": {
            "color": "#636efa",
            "size": [
             212630790000
            ],
            "sizemode": "area",
            "sizeref": 1119177225,
            "symbol": "circle"
           },
           "mode": "markers",
           "name": "Greece",
           "orientation": "v",
           "showlegend": true,
           "type": "scatter",
           "x": [
            212630790000
           ],
           "xaxis": "x",
           "y": [
            2036552991
           ],
           "yaxis": "y"
          },
          {
           "hovertemplate": "<b>%{hovertext}</b><br><br>Country=Hungary<br>Year=2013<br>GDP=%{marker.size}<br>RoadSpending=%{y}<extra></extra>",
           "hovertext": [
            "Hungary"
           ],
           "legendgroup": "Hungary",
           "marker": {
            "color": "#EF553B",
            "size": [
             120758760000
            ],
            "sizemode": "area",
            "sizeref": 1119177225,
            "symbol": "circle"
           },
           "mode": "markers",
           "name": "Hungary",
           "orientation": "v",
           "showlegend": true,
           "type": "scatter",
           "x": [
            120758760000
           ],
           "xaxis": "x",
           "y": [
            400571427
           ],
           "yaxis": "y"
          },
          {
           "hovertemplate": "<b>%{hovertext}</b><br><br>Country=Ireland<br>Year=2013<br>GDP=%{marker.size}<br>RoadSpending=%{y}<extra></extra>",
           "hovertext": [
            "Ireland"
           ],
           "legendgroup": "Ireland",
           "marker": {
            "color": "#00cc96",
            "size": [
             216541450000
            ],
            "sizemode": "area",
            "sizeref": 1119177225,
            "symbol": "circle"
           },
           "mode": "markers",
           "name": "Ireland",
           "orientation": "v",
           "showlegend": true,
           "type": "scatter",
           "x": [
            216541450000
           ],
           "xaxis": "x",
           "y": [
            594000000
           ],
           "yaxis": "y"
          },
          {
           "hovertemplate": "<b>%{hovertext}</b><br><br>Country=Italy<br>Year=2013<br>GDP=%{marker.size}<br>RoadSpending=%{y}<extra></extra>",
           "hovertext": [
            "Italy"
           ],
           "legendgroup": "Italy",
           "marker": {
            "color": "#ab63fa",
            "size": [
             1916400510000
            ],
            "sizemode": "area",
            "sizeref": 1119177225,
            "symbol": "circle"
           },
           "mode": "markers",
           "name": "Italy",
           "orientation": "v",
           "showlegend": true,
           "type": "scatter",
           "x": [
            1916400510000
           ],
           "xaxis": "x",
           "y": [
            2841000000
           ],
           "yaxis": "y"
          },
          {
           "hovertemplate": "<b>%{hovertext}</b><br><br>Country=Latvia<br>Year=2013<br>GDP=%{marker.size}<br>RoadSpending=%{y}<extra></extra>",
           "hovertext": [
            "Latvia"
           ],
           "legendgroup": "Latvia",
           "marker": {
            "color": "#FFA15A",
            "size": [
             26886900000
            ],
            "sizemode": "area",
            "sizeref": 1119177225,
            "symbol": "circle"
           },
           "mode": "markers",
           "name": "Latvia",
           "orientation": "v",
           "showlegend": true,
           "type": "scatter",
           "x": [
            26886900000
           ],
           "xaxis": "x",
           "y": [
            199000000
           ],
           "yaxis": "y"
          },
          {
           "hovertemplate": "<b>%{hovertext}</b><br><br>Country=Lithuania<br>Year=2013<br>GDP=%{marker.size}<br>RoadSpending=%{y}<extra></extra>",
           "hovertext": [
            "Lithuania"
           ],
           "legendgroup": "Lithuania",
           "marker": {
            "color": "#19d3f3",
            "size": [
             41455310000
            ],
            "sizemode": "area",
            "sizeref": 1119177225,
            "symbol": "circle"
           },
           "mode": "markers",
           "name": "Lithuania",
           "orientation": "v",
           "showlegend": true,
           "type": "scatter",
           "x": [
            41455310000
           ],
           "xaxis": "x",
           "y": [
            253000000
           ],
           "yaxis": "y"
          },
          {
           "hovertemplate": "<b>%{hovertext}</b><br><br>Country=Luxembourg<br>Year=2013<br>GDP=%{marker.size}<br>RoadSpending=%{y}<extra></extra>",
           "hovertext": [
            "Luxembourg"
           ],
           "legendgroup": "Luxembourg",
           "marker": {
            "color": "#FF6692",
            "size": [
             58031559999.99999
            ],
            "sizemode": "area",
            "sizeref": 1119177225,
            "symbol": "circle"
           },
           "mode": "markers",
           "name": "Luxembourg",
           "orientation": "v",
           "showlegend": true,
           "type": "scatter",
           "x": [
            58031559999.99999
           ],
           "xaxis": "x",
           "y": [
            219297195.6
           ],
           "yaxis": "y"
          },
          {
           "hovertemplate": "<b>%{hovertext}</b><br><br>Country=Malta<br>Year=2013<br>GDP=%{marker.size}<br>RoadSpending=%{y}<extra></extra>",
           "hovertext": [
            "Malta"
           ],
           "legendgroup": "Malta",
           "marker": {
            "color": "#B6E880",
            "size": [
             9609330000
            ],
            "sizemode": "area",
            "sizeref": 1119177225,
            "symbol": "circle"
           },
           "mode": "markers",
           "name": "Malta",
           "orientation": "v",
           "showlegend": true,
           "type": "scatter",
           "x": [
            9609330000
           ],
           "xaxis": "x",
           "y": [
            11066059.39
           ],
           "yaxis": "y"
          },
          {
           "hovertemplate": "<b>%{hovertext}</b><br><br>Country=Netherlands<br>Year=2013<br>GDP=%{marker.size}<br>RoadSpending=%{y}<extra></extra>",
           "hovertext": [
            "Netherlands"
           ],
           "legendgroup": "Netherlands",
           "marker": {
            "color": "#FF97FF",
            "size": [
             786727960000
            ],
            "sizemode": "area",
            "sizeref": 1119177225,
            "symbol": "circle"
           },
           "mode": "markers",
           "name": "Netherlands",
           "orientation": "v",
           "showlegend": true,
           "type": "scatter",
           "x": [
            786727960000
           ],
           "xaxis": "x",
           "y": [
            4686635404
           ],
           "yaxis": "y"
          },
          {
           "hovertemplate": "<b>%{hovertext}</b><br><br>Country=Poland<br>Year=2013<br>GDP=%{marker.size}<br>RoadSpending=%{y}<extra></extra>",
           "hovertext": [
            "Poland"
           ],
           "legendgroup": "Poland",
           "marker": {
            "color": "#FECB52",
            "size": [
             459028179999.99994
            ],
            "sizemode": "area",
            "sizeref": 1119177225,
            "symbol": "circle"
           },
           "mode": "markers",
           "name": "Poland",
           "orientation": "v",
           "showlegend": true,
           "type": "scatter",
           "x": [
            459028179999.99994
           ],
           "xaxis": "x",
           "y": [
            2464797122
           ],
           "yaxis": "y"
          },
          {
           "hovertemplate": "<b>%{hovertext}</b><br><br>Country=Portugal<br>Year=2013<br>GDP=%{marker.size}<br>RoadSpending=%{y}<extra></extra>",
           "hovertext": [
            "Portugal"
           ],
           "legendgroup": "Portugal",
           "marker": {
            "color": "#636efa",
            "size": [
             201528930000
            ],
            "sizemode": "area",
            "sizeref": 1119177225,
            "symbol": "circle"
           },
           "mode": "markers",
           "name": "Portugal",
           "orientation": "v",
           "showlegend": true,
           "type": "scatter",
           "x": [
            201528930000
           ],
           "xaxis": "x",
           "y": [
            211000000
           ],
           "yaxis": "y"
          },
          {
           "hovertemplate": "<b>%{hovertext}</b><br><br>Country=Romania<br>Year=2013<br>GDP=%{marker.size}<br>RoadSpending=%{y}<extra></extra>",
           "hovertext": [
            "Romania"
           ],
           "legendgroup": "Romania",
           "marker": {
            "color": "#EF553B",
            "size": [
             168948700000
            ],
            "sizemode": "area",
            "sizeref": 1119177225,
            "symbol": "circle"
           },
           "mode": "markers",
           "name": "Romania",
           "orientation": "v",
           "showlegend": true,
           "type": "scatter",
           "x": [
            168948700000
           ],
           "xaxis": "x",
           "y": [
            2728712692
           ],
           "yaxis": "y"
          },
          {
           "hovertemplate": "<b>%{hovertext}</b><br><br>Country=Slovak Republic<br>Year=2013<br>GDP=%{marker.size}<br>RoadSpending=%{y}<extra></extra>",
           "hovertext": [
            "Slovak Republic"
           ],
           "legendgroup": "Slovak Republic",
           "marker": {
            "color": "#00cc96",
            "size": [
             88053930000
            ],
            "sizemode": "area",
            "sizeref": 1119177225,
            "symbol": "circle"
           },
           "mode": "markers",
           "name": "Slovak Republic",
           "orientation": "v",
           "showlegend": true,
           "type": "scatter",
           "x": [
            88053930000
           ],
           "xaxis": "x",
           "y": [
            360000000
           ],
           "yaxis": "y"
          },
          {
           "hovertemplate": "<b>%{hovertext}</b><br><br>Country=Slovenia<br>Year=2013<br>GDP=%{marker.size}<br>RoadSpending=%{y}<extra></extra>",
           "hovertext": [
            "Slovenia"
           ],
           "legendgroup": "Slovenia",
           "marker": {
            "color": "#ab63fa",
            "size": [
             42602520000
            ],
            "sizemode": "area",
            "sizeref": 1119177225,
            "symbol": "circle"
           },
           "mode": "markers",
           "name": "Slovenia",
           "orientation": "v",
           "showlegend": true,
           "type": "scatter",
           "x": [
            42602520000
           ],
           "xaxis": "x",
           "y": [
            104000000
           ],
           "yaxis": "y"
          },
          {
           "hovertemplate": "<b>%{hovertext}</b><br><br>Country=Spain<br>Year=2013<br>GDP=%{marker.size}<br>RoadSpending=%{y}<extra></extra>",
           "hovertext": [
            "Spain"
           ],
           "legendgroup": "Spain",
           "marker": {
            "color": "#FFA15A",
            "size": [
             1212364230000
            ],
            "sizemode": "area",
            "sizeref": 1119177225,
            "symbol": "circle"
           },
           "mode": "markers",
           "name": "Spain",
           "orientation": "v",
           "showlegend": true,
           "type": "scatter",
           "x": [
            1212364230000
           ],
           "xaxis": "x",
           "y": [
            4646000000
           ],
           "yaxis": "y"
          },
          {
           "hovertemplate": "<b>%{hovertext}</b><br><br>Country=Sweden<br>Year=2013<br>GDP=%{marker.size}<br>RoadSpending=%{y}<extra></extra>",
           "hovertext": [
            "Sweden"
           ],
           "legendgroup": "Sweden",
           "marker": {
            "color": "#19d3f3",
            "size": [
             519873920000
            ],
            "sizemode": "area",
            "sizeref": 1119177225,
            "symbol": "circle"
           },
           "mode": "markers",
           "name": "Sweden",
           "orientation": "v",
           "showlegend": true,
           "type": "scatter",
           "x": [
            519873920000
           ],
           "xaxis": "x",
           "y": [
            2013062829
           ],
           "yaxis": "y"
          }
         ],
         "name": "2013"
        },
        {
         "data": [
          {
           "hovertemplate": "<b>%{hovertext}</b><br><br>Country=Austria<br>Year=2014<br>GDP=%{marker.size}<br>RoadSpending=%{y}<extra></extra>",
           "hovertext": [
            "Austria"
           ],
           "legendgroup": "Austria",
           "marker": {
            "color": "#636efa",
            "size": [
             394002110000
            ],
            "sizemode": "area",
            "sizeref": 1119177225,
            "symbol": "circle"
           },
           "mode": "markers",
           "name": "Austria",
           "orientation": "v",
           "showlegend": true,
           "type": "scatter",
           "x": [
            394002110000
           ],
           "xaxis": "x",
           "y": [
            null
           ],
           "yaxis": "y"
          },
          {
           "hovertemplate": "<b>%{hovertext}</b><br><br>Country=Belgium<br>Year=2014<br>GDP=%{marker.size}<br>RoadSpending=%{y}<extra></extra>",
           "hovertext": [
            "Belgium"
           ],
           "legendgroup": "Belgium",
           "marker": {
            "color": "#EF553B",
            "size": [
             476620810000
            ],
            "sizemode": "area",
            "sizeref": 1119177225,
            "symbol": "circle"
           },
           "mode": "markers",
           "name": "Belgium",
           "orientation": "v",
           "showlegend": true,
           "type": "scatter",
           "x": [
            476620810000
           ],
           "xaxis": "x",
           "y": [
            417000000
           ],
           "yaxis": "y"
          },
          {
           "hovertemplate": "<b>%{hovertext}</b><br><br>Country=Bulgaria<br>Year=2014<br>GDP=%{marker.size}<br>RoadSpending=%{y}<extra></extra>",
           "hovertext": [
            "Bulgaria"
           ],
           "legendgroup": "Bulgaria",
           "marker": {
            "color": "#00cc96",
            "size": [
             50802090000
            ],
            "sizemode": "area",
            "sizeref": 1119177225,
            "symbol": "circle"
           },
           "mode": "markers",
           "name": "Bulgaria",
           "orientation": "v",
           "showlegend": true,
           "type": "scatter",
           "x": [
            50802090000
           ],
           "xaxis": "x",
           "y": [
            563452295.7
           ],
           "yaxis": "y"
          },
          {
           "hovertemplate": "<b>%{hovertext}</b><br><br>Country=Croatia<br>Year=2014<br>GDP=%{marker.size}<br>RoadSpending=%{y}<extra></extra>",
           "hovertext": [
            "Croatia"
           ],
           "legendgroup": "Croatia",
           "marker": {
            "color": "#ab63fa",
            "size": [
             52960340000
            ],
            "sizemode": "area",
            "sizeref": 1119177225,
            "symbol": "circle"
           },
           "mode": "markers",
           "name": "Croatia",
           "orientation": "v",
           "showlegend": true,
           "type": "scatter",
           "x": [
            52960340000
           ],
           "xaxis": "x",
           "y": [
            283230473.2
           ],
           "yaxis": "y"
          },
          {
           "hovertemplate": "<b>%{hovertext}</b><br><br>Country=Czechia<br>Year=2014<br>GDP=%{marker.size}<br>RoadSpending=%{y}<extra></extra>",
           "hovertext": [
            "Czechia"
           ],
           "legendgroup": "Czechia",
           "marker": {
            "color": "#FFA15A",
            "size": [
             187710790000
            ],
            "sizemode": "area",
            "sizeref": 1119177225,
            "symbol": "circle"
           },
           "mode": "markers",
           "name": "Czechia",
           "orientation": "v",
           "showlegend": true,
           "type": "scatter",
           "x": [
            187710790000
           ],
           "xaxis": "x",
           "y": [
            604013684
           ],
           "yaxis": "y"
          },
          {
           "hovertemplate": "<b>%{hovertext}</b><br><br>Country=Denmark<br>Year=2014<br>GDP=%{marker.size}<br>RoadSpending=%{y}<extra></extra>",
           "hovertext": [
            "Denmark"
           ],
           "legendgroup": "Denmark",
           "marker": {
            "color": "#19d3f3",
            "size": [
             314021370000
            ],
            "sizemode": "area",
            "sizeref": 1119177225,
            "symbol": "circle"
           },
           "mode": "markers",
           "name": "Denmark",
           "orientation": "v",
           "showlegend": true,
           "type": "scatter",
           "x": [
            314021370000
           ],
           "xaxis": "x",
           "y": [
            1101557365
           ],
           "yaxis": "y"
          },
          {
           "hovertemplate": "<b>%{hovertext}</b><br><br>Country=Estonia<br>Year=2014<br>GDP=%{marker.size}<br>RoadSpending=%{y}<extra></extra>",
           "hovertext": [
            "Estonia"
           ],
           "legendgroup": "Estonia",
           "marker": {
            "color": "#FF6692",
            "size": [
             24086070000
            ],
            "sizemode": "area",
            "sizeref": 1119177225,
            "symbol": "circle"
           },
           "mode": "markers",
           "name": "Estonia",
           "orientation": "v",
           "showlegend": true,
           "type": "scatter",
           "x": [
            24086070000
           ],
           "xaxis": "x",
           "y": [
            147660000
           ],
           "yaxis": "y"
          },
          {
           "hovertemplate": "<b>%{hovertext}</b><br><br>Country=Finland<br>Year=2014<br>GDP=%{marker.size}<br>RoadSpending=%{y}<extra></extra>",
           "hovertext": [
            "Finland"
           ],
           "legendgroup": "Finland",
           "marker": {
            "color": "#B6E880",
            "size": [
             243458609999.99997
            ],
            "sizemode": "area",
            "sizeref": 1119177225,
            "symbol": "circle"
           },
           "mode": "markers",
           "name": "Finland",
           "orientation": "v",
           "showlegend": true,
           "type": "scatter",
           "x": [
            243458609999.99997
           ],
           "xaxis": "x",
           "y": [
            1442000000
           ],
           "yaxis": "y"
          },
          {
           "hovertemplate": "<b>%{hovertext}</b><br><br>Country=France<br>Year=2014<br>GDP=%{marker.size}<br>RoadSpending=%{y}<extra></extra>",
           "hovertext": [
            "France"
           ],
           "legendgroup": "France",
           "marker": {
            "color": "#FF97FF",
            "size": [
             2547155970000
            ],
            "sizemode": "area",
            "sizeref": 1119177225,
            "symbol": "circle"
           },
           "mode": "markers",
           "name": "France",
           "orientation": "v",
           "showlegend": true,
           "type": "scatter",
           "x": [
            2547155970000
           ],
           "xaxis": "x",
           "y": [
            10807203024
           ],
           "yaxis": "y"
          },
          {
           "hovertemplate": "<b>%{hovertext}</b><br><br>Country=Germany<br>Year=2014<br>GDP=%{marker.size}<br>RoadSpending=%{y}<extra></extra>",
           "hovertext": [
            "Germany"
           ],
           "legendgroup": "Germany",
           "marker": {
            "color": "#FECB52",
            "size": [
             3530472470000
            ],
            "sizemode": "area",
            "sizeref": 1119177225,
            "symbol": "circle"
           },
           "mode": "markers",
           "name": "Germany",
           "orientation": "v",
           "showlegend": true,
           "type": "scatter",
           "x": [
            3530472470000
           ],
           "xaxis": "x",
           "y": [
            11820000000
           ],
           "yaxis": "y"
          },
          {
           "hovertemplate": "<b>%{hovertext}</b><br><br>Country=Greece<br>Year=2014<br>GDP=%{marker.size}<br>RoadSpending=%{y}<extra></extra>",
           "hovertext": [
            "Greece"
           ],
           "legendgroup": "Greece",
           "marker": {
            "color": "#636efa",
            "size": [
             209611910000
            ],
            "sizemode": "area",
            "sizeref": 1119177225,
            "symbol": "circle"
           },
           "mode": "markers",
           "name": "Greece",
           "orientation": "v",
           "showlegend": true,
           "type": "scatter",
           "x": [
            209611910000
           ],
           "xaxis": "x",
           "y": [
            1543220320
           ],
           "yaxis": "y"
          },
          {
           "hovertemplate": "<b>%{hovertext}</b><br><br>Country=Hungary<br>Year=2014<br>GDP=%{marker.size}<br>RoadSpending=%{y}<extra></extra>",
           "hovertext": [
            "Hungary"
           ],
           "legendgroup": "Hungary",
           "marker": {
            "color": "#EF553B",
            "size": [
             125520260000
            ],
            "sizemode": "area",
            "sizeref": 1119177225,
            "symbol": "circle"
           },
           "mode": "markers",
           "name": "Hungary",
           "orientation": "v",
           "showlegend": true,
           "type": "scatter",
           "x": [
            125520260000
           ],
           "xaxis": "x",
           "y": [
            1238414974
           ],
           "yaxis": "y"
          },
          {
           "hovertemplate": "<b>%{hovertext}</b><br><br>Country=Ireland<br>Year=2014<br>GDP=%{marker.size}<br>RoadSpending=%{y}<extra></extra>",
           "hovertext": [
            "Ireland"
           ],
           "legendgroup": "Ireland",
           "marker": {
            "color": "#00cc96",
            "size": [
             237502730000.00003
            ],
            "sizemode": "area",
            "sizeref": 1119177225,
            "symbol": "circle"
           },
           "mode": "markers",
           "name": "Ireland",
           "orientation": "v",
           "showlegend": true,
           "type": "scatter",
           "x": [
            237502730000.00003
           ],
           "xaxis": "x",
           "y": [
            638000000
           ],
           "yaxis": "y"
          },
          {
           "hovertemplate": "<b>%{hovertext}</b><br><br>Country=Italy<br>Year=2014<br>GDP=%{marker.size}<br>RoadSpending=%{y}<extra></extra>",
           "hovertext": [
            "Italy"
           ],
           "legendgroup": "Italy",
           "marker": {
            "color": "#ab63fa",
            "size": [
             1934696239999.9998
            ],
            "sizemode": "area",
            "sizeref": 1119177225,
            "symbol": "circle"
           },
           "mode": "markers",
           "name": "Italy",
           "orientation": "v",
           "showlegend": true,
           "type": "scatter",
           "x": [
            1934696239999.9998
           ],
           "xaxis": "x",
           "y": [
            3860000000
           ],
           "yaxis": "y"
          },
          {
           "hovertemplate": "<b>%{hovertext}</b><br><br>Country=Latvia<br>Year=2014<br>GDP=%{marker.size}<br>RoadSpending=%{y}<extra></extra>",
           "hovertext": [
            "Latvia"
           ],
           "legendgroup": "Latvia",
           "marker": {
            "color": "#FFA15A",
            "size": [
             27941550000
            ],
            "sizemode": "area",
            "sizeref": 1119177225,
            "symbol": "circle"
           },
           "mode": "markers",
           "name": "Latvia",
           "orientation": "v",
           "showlegend": true,
           "type": "scatter",
           "x": [
            27941550000
           ],
           "xaxis": "x",
           "y": [
            188000000
           ],
           "yaxis": "y"
          },
          {
           "hovertemplate": "<b>%{hovertext}</b><br><br>Country=Lithuania<br>Year=2014<br>GDP=%{marker.size}<br>RoadSpending=%{y}<extra></extra>",
           "hovertext": [
            "Lithuania"
           ],
           "legendgroup": "Lithuania",
           "marker": {
            "color": "#19d3f3",
            "size": [
             43270910000
            ],
            "sizemode": "area",
            "sizeref": 1119177225,
            "symbol": "circle"
           },
           "mode": "markers",
           "name": "Lithuania",
           "orientation": "v",
           "showlegend": true,
           "type": "scatter",
           "x": [
            43270910000
           ],
           "xaxis": "x",
           "y": [
            224000000
           ],
           "yaxis": "y"
          },
          {
           "hovertemplate": "<b>%{hovertext}</b><br><br>Country=Luxembourg<br>Year=2014<br>GDP=%{marker.size}<br>RoadSpending=%{y}<extra></extra>",
           "hovertext": [
            "Luxembourg"
           ],
           "legendgroup": "Luxembourg",
           "marker": {
            "color": "#FF6692",
            "size": [
             61252470000
            ],
            "sizemode": "area",
            "sizeref": 1119177225,
            "symbol": "circle"
           },
           "mode": "markers",
           "name": "Luxembourg",
           "orientation": "v",
           "showlegend": true,
           "type": "scatter",
           "x": [
            61252470000
           ],
           "xaxis": "x",
           "y": [
            213745153.8
           ],
           "yaxis": "y"
          },
          {
           "hovertemplate": "<b>%{hovertext}</b><br><br>Country=Malta<br>Year=2014<br>GDP=%{marker.size}<br>RoadSpending=%{y}<extra></extra>",
           "hovertext": [
            "Malta"
           ],
           "legendgroup": "Malta",
           "marker": {
            "color": "#B6E880",
            "size": [
             10582990000
            ],
            "sizemode": "area",
            "sizeref": 1119177225,
            "symbol": "circle"
           },
           "mode": "markers",
           "name": "Malta",
           "orientation": "v",
           "showlegend": true,
           "type": "scatter",
           "x": [
            10582990000
           ],
           "xaxis": "x",
           "y": [
            38522824.59
           ],
           "yaxis": "y"
          },
          {
           "hovertemplate": "<b>%{hovertext}</b><br><br>Country=Netherlands<br>Year=2014<br>GDP=%{marker.size}<br>RoadSpending=%{y}<extra></extra>",
           "hovertext": [
            "Netherlands"
           ],
           "legendgroup": "Netherlands",
           "marker": {
            "color": "#FF97FF",
            "size": [
             802592210000
            ],
            "sizemode": "area",
            "sizeref": 1119177225,
            "symbol": "circle"
           },
           "mode": "markers",
           "name": "Netherlands",
           "orientation": "v",
           "showlegend": true,
           "type": "scatter",
           "x": [
            802592210000
           ],
           "xaxis": "x",
           "y": [
            5147445281
           ],
           "yaxis": "y"
          },
          {
           "hovertemplate": "<b>%{hovertext}</b><br><br>Country=Poland<br>Year=2014<br>GDP=%{marker.size}<br>RoadSpending=%{y}<extra></extra>",
           "hovertext": [
            "Poland"
           ],
           "legendgroup": "Poland",
           "marker": {
            "color": "#FECB52",
            "size": [
             479898680000
            ],
            "sizemode": "area",
            "sizeref": 1119177225,
            "symbol": "circle"
           },
           "mode": "markers",
           "name": "Poland",
           "orientation": "v",
           "showlegend": true,
           "type": "scatter",
           "x": [
            479898680000
           ],
           "xaxis": "x",
           "y": [
            1721113634
           ],
           "yaxis": "y"
          },
          {
           "hovertemplate": "<b>%{hovertext}</b><br><br>Country=Portugal<br>Year=2014<br>GDP=%{marker.size}<br>RoadSpending=%{y}<extra></extra>",
           "hovertext": [
            "Portugal"
           ],
           "legendgroup": "Portugal",
           "marker": {
            "color": "#636efa",
            "size": [
             204665290000
            ],
            "sizemode": "area",
            "sizeref": 1119177225,
            "symbol": "circle"
           },
           "mode": "markers",
           "name": "Portugal",
           "orientation": "v",
           "showlegend": true,
           "type": "scatter",
           "x": [
            204665290000
           ],
           "xaxis": "x",
           "y": [
            null
           ],
           "yaxis": "y"
          },
          {
           "hovertemplate": "<b>%{hovertext}</b><br><br>Country=Romania<br>Year=2014<br>GDP=%{marker.size}<br>RoadSpending=%{y}<extra></extra>",
           "hovertext": [
            "Romania"
           ],
           "legendgroup": "Romania",
           "marker": {
            "color": "#EF553B",
            "size": [
             177983090000
            ],
            "sizemode": "area",
            "sizeref": 1119177225,
            "symbol": "circle"
           },
           "mode": "markers",
           "name": "Romania",
           "orientation": "v",
           "showlegend": true,
           "type": "scatter",
           "x": [
            177983090000
           ],
           "xaxis": "x",
           "y": [
            2492631011
           ],
           "yaxis": "y"
          },
          {
           "hovertemplate": "<b>%{hovertext}</b><br><br>Country=Slovak Republic<br>Year=2014<br>GDP=%{marker.size}<br>RoadSpending=%{y}<extra></extra>",
           "hovertext": [
            "Slovak Republic"
           ],
           "legendgroup": "Slovak Republic",
           "marker": {
            "color": "#00cc96",
            "size": [
             90302070000
            ],
            "sizemode": "area",
            "sizeref": 1119177225,
            "symbol": "circle"
           },
           "mode": "markers",
           "name": "Slovak Republic",
           "orientation": "v",
           "showlegend": true,
           "type": "scatter",
           "x": [
            90302070000
           ],
           "xaxis": "x",
           "y": [
            550000000
           ],
           "yaxis": "y"
          },
          {
           "hovertemplate": "<b>%{hovertext}</b><br><br>Country=Slovenia<br>Year=2014<br>GDP=%{marker.size}<br>RoadSpending=%{y}<extra></extra>",
           "hovertext": [
            "Slovenia"
           ],
           "legendgroup": "Slovenia",
           "marker": {
            "color": "#ab63fa",
            "size": [
             44079030000
            ],
            "sizemode": "area",
            "sizeref": 1119177225,
            "symbol": "circle"
           },
           "mode": "markers",
           "name": "Slovenia",
           "orientation": "v",
           "showlegend": true,
           "type": "scatter",
           "x": [
            44079030000
           ],
           "xaxis": "x",
           "y": [
            128000000
           ],
           "yaxis": "y"
          },
          {
           "hovertemplate": "<b>%{hovertext}</b><br><br>Country=Spain<br>Year=2014<br>GDP=%{marker.size}<br>RoadSpending=%{y}<extra></extra>",
           "hovertext": [
            "Spain"
           ],
           "legendgroup": "Spain",
           "marker": {
            "color": "#FFA15A",
            "size": [
             1228734000000
            ],
            "sizemode": "area",
            "sizeref": 1119177225,
            "symbol": "circle"
           },
           "mode": "markers",
           "name": "Spain",
           "orientation": "v",
           "showlegend": true,
           "type": "scatter",
           "x": [
            1228734000000
           ],
           "xaxis": "x",
           "y": [
            4358000000
           ],
           "yaxis": "y"
          },
          {
           "hovertemplate": "<b>%{hovertext}</b><br><br>Country=Sweden<br>Year=2014<br>GDP=%{marker.size}<br>RoadSpending=%{y}<extra></extra>",
           "hovertext": [
            "Sweden"
           ],
           "legendgroup": "Sweden",
           "marker": {
            "color": "#19d3f3",
            "size": [
             514179700000
            ],
            "sizemode": "area",
            "sizeref": 1119177225,
            "symbol": "circle"
           },
           "mode": "markers",
           "name": "Sweden",
           "orientation": "v",
           "showlegend": true,
           "type": "scatter",
           "x": [
            514179700000
           ],
           "xaxis": "x",
           "y": [
            1864811089
           ],
           "yaxis": "y"
          }
         ],
         "name": "2014"
        },
        {
         "data": [
          {
           "hovertemplate": "<b>%{hovertext}</b><br><br>Country=Austria<br>Year=2015<br>GDP=%{marker.size}<br>RoadSpending=%{y}<extra></extra>",
           "hovertext": [
            "Austria"
           ],
           "legendgroup": "Austria",
           "marker": {
            "color": "#636efa",
            "size": [
             339988900000
            ],
            "sizemode": "area",
            "sizeref": 1119177225,
            "symbol": "circle"
           },
           "mode": "markers",
           "name": "Austria",
           "orientation": "v",
           "showlegend": true,
           "type": "scatter",
           "x": [
            339988900000
           ],
           "xaxis": "x",
           "y": [
            null
           ],
           "yaxis": "y"
          },
          {
           "hovertemplate": "<b>%{hovertext}</b><br><br>Country=Belgium<br>Year=2015<br>GDP=%{marker.size}<br>RoadSpending=%{y}<extra></extra>",
           "hovertext": [
            "Belgium"
           ],
           "legendgroup": "Belgium",
           "marker": {
            "color": "#EF553B",
            "size": [
             411520870000
            ],
            "sizemode": "area",
            "sizeref": 1119177225,
            "symbol": "circle"
           },
           "mode": "markers",
           "name": "Belgium",
           "orientation": "v",
           "showlegend": true,
           "type": "scatter",
           "x": [
            411520870000
           ],
           "xaxis": "x",
           "y": [
            778000000
           ],
           "yaxis": "y"
          },
          {
           "hovertemplate": "<b>%{hovertext}</b><br><br>Country=Bulgaria<br>Year=2015<br>GDP=%{marker.size}<br>RoadSpending=%{y}<extra></extra>",
           "hovertext": [
            "Bulgaria"
           ],
           "legendgroup": "Bulgaria",
           "marker": {
            "color": "#00cc96",
            "size": [
             45181740000
            ],
            "sizemode": "area",
            "sizeref": 1119177225,
            "symbol": "circle"
           },
           "mode": "markers",
           "name": "Bulgaria",
           "orientation": "v",
           "showlegend": true,
           "type": "scatter",
           "x": [
            45181740000
           ],
           "xaxis": "x",
           "y": [
            839042846.9
           ],
           "yaxis": "y"
          },
          {
           "hovertemplate": "<b>%{hovertext}</b><br><br>Country=Croatia<br>Year=2015<br>GDP=%{marker.size}<br>RoadSpending=%{y}<extra></extra>",
           "hovertext": [
            "Croatia"
           ],
           "legendgroup": "Croatia",
           "marker": {
            "color": "#ab63fa",
            "size": [
             45404240000
            ],
            "sizemode": "area",
            "sizeref": 1119177225,
            "symbol": "circle"
           },
           "mode": "markers",
           "name": "Croatia",
           "orientation": "v",
           "showlegend": true,
           "type": "scatter",
           "x": [
            45404240000
           ],
           "xaxis": "x",
           "y": [
            240891897.3
           ],
           "yaxis": "y"
          },
          {
           "hovertemplate": "<b>%{hovertext}</b><br><br>Country=Czechia<br>Year=2015<br>GDP=%{marker.size}<br>RoadSpending=%{y}<extra></extra>",
           "hovertext": [
            "Czechia"
           ],
           "legendgroup": "Czechia",
           "marker": {
            "color": "#FFA15A",
            "size": [
             168306120000
            ],
            "sizemode": "area",
            "sizeref": 1119177225,
            "symbol": "circle"
           },
           "mode": "markers",
           "name": "Czechia",
           "orientation": "v",
           "showlegend": true,
           "type": "scatter",
           "x": [
            168306120000
           ],
           "xaxis": "x",
           "y": [
            885358255.5
           ],
           "yaxis": "y"
          },
          {
           "hovertemplate": "<b>%{hovertext}</b><br><br>Country=Denmark<br>Year=2015<br>GDP=%{marker.size}<br>RoadSpending=%{y}<extra></extra>",
           "hovertext": [
            "Denmark"
           ],
           "legendgroup": "Denmark",
           "marker": {
            "color": "#19d3f3",
            "size": [
             268565510000
            ],
            "sizemode": "area",
            "sizeref": 1119177225,
            "symbol": "circle"
           },
           "mode": "markers",
           "name": "Denmark",
           "orientation": "v",
           "showlegend": true,
           "type": "scatter",
           "x": [
            268565510000
           ],
           "xaxis": "x",
           "y": [
            1086396911
           ],
           "yaxis": "y"
          },
          {
           "hovertemplate": "<b>%{hovertext}</b><br><br>Country=Estonia<br>Year=2015<br>GDP=%{marker.size}<br>RoadSpending=%{y}<extra></extra>",
           "hovertext": [
            "Estonia"
           ],
           "legendgroup": "Estonia",
           "marker": {
            "color": "#FF6692",
            "size": [
             20749460000
            ],
            "sizemode": "area",
            "sizeref": 1119177225,
            "symbol": "circle"
           },
           "mode": "markers",
           "name": "Estonia",
           "orientation": "v",
           "showlegend": true,
           "type": "scatter",
           "x": [
            20749460000
           ],
           "xaxis": "x",
           "y": [
            185050000
           ],
           "yaxis": "y"
          },
          {
           "hovertemplate": "<b>%{hovertext}</b><br><br>Country=Finland<br>Year=2015<br>GDP=%{marker.size}<br>RoadSpending=%{y}<extra></extra>",
           "hovertext": [
            "Finland"
           ],
           "legendgroup": "Finland",
           "marker": {
            "color": "#B6E880",
            "size": [
             207578260000
            ],
            "sizemode": "area",
            "sizeref": 1119177225,
            "symbol": "circle"
           },
           "mode": "markers",
           "name": "Finland",
           "orientation": "v",
           "showlegend": true,
           "type": "scatter",
           "x": [
            207578260000
           ],
           "xaxis": "x",
           "y": [
            1451000000
           ],
           "yaxis": "y"
          },
          {
           "hovertemplate": "<b>%{hovertext}</b><br><br>Country=France<br>Year=2015<br>GDP=%{marker.size}<br>RoadSpending=%{y}<extra></extra>",
           "hovertext": [
            "France"
           ],
           "legendgroup": "France",
           "marker": {
            "color": "#FF97FF",
            "size": [
             2174030590000
            ],
            "sizemode": "area",
            "sizeref": 1119177225,
            "symbol": "circle"
           },
           "mode": "markers",
           "name": "France",
           "orientation": "v",
           "showlegend": true,
           "type": "scatter",
           "x": [
            2174030590000
           ],
           "xaxis": "x",
           "y": [
            10011226322
           ],
           "yaxis": "y"
          },
          {
           "hovertemplate": "<b>%{hovertext}</b><br><br>Country=Germany<br>Year=2015<br>GDP=%{marker.size}<br>RoadSpending=%{y}<extra></extra>",
           "hovertext": [
            "Germany"
           ],
           "legendgroup": "Germany",
           "marker": {
            "color": "#FECB52",
            "size": [
             3047284350000
            ],
            "sizemode": "area",
            "sizeref": 1119177225,
            "symbol": "circle"
           },
           "mode": "markers",
           "name": "Germany",
           "orientation": "v",
           "showlegend": true,
           "type": "scatter",
           "x": [
            3047284350000
           ],
           "xaxis": "x",
           "y": [
            11440000000
           ],
           "yaxis": "y"
          },
          {
           "hovertemplate": "<b>%{hovertext}</b><br><br>Country=Greece<br>Year=2015<br>GDP=%{marker.size}<br>RoadSpending=%{y}<extra></extra>",
           "hovertext": [
            "Greece"
           ],
           "legendgroup": "Greece",
           "marker": {
            "color": "#636efa",
            "size": [
             174175670000
            ],
            "sizemode": "area",
            "sizeref": 1119177225,
            "symbol": "circle"
           },
           "mode": "markers",
           "name": "Greece",
           "orientation": "v",
           "showlegend": true,
           "type": "scatter",
           "x": [
            174175670000
           ],
           "xaxis": "x",
           "y": [
            1348729715
           ],
           "yaxis": "y"
          },
          {
           "hovertemplate": "<b>%{hovertext}</b><br><br>Country=Hungary<br>Year=2015<br>GDP=%{marker.size}<br>RoadSpending=%{y}<extra></extra>",
           "hovertext": [
            "Hungary"
           ],
           "legendgroup": "Hungary",
           "marker": {
            "color": "#EF553B",
            "size": [
             111404860000
            ],
            "sizemode": "area",
            "sizeref": 1119177225,
            "symbol": "circle"
           },
           "mode": "markers",
           "name": "Hungary",
           "orientation": "v",
           "showlegend": true,
           "type": "scatter",
           "x": [
            111404860000
           ],
           "xaxis": "x",
           "y": [
            1247677055
           ],
           "yaxis": "y"
          },
          {
           "hovertemplate": "<b>%{hovertext}</b><br><br>Country=Ireland<br>Year=2015<br>GDP=%{marker.size}<br>RoadSpending=%{y}<extra></extra>",
           "hovertext": [
            "Ireland"
           ],
           "legendgroup": "Ireland",
           "marker": {
            "color": "#00cc96",
            "size": [
             269155580000
            ],
            "sizemode": "area",
            "sizeref": 1119177225,
            "symbol": "circle"
           },
           "mode": "markers",
           "name": "Ireland",
           "orientation": "v",
           "showlegend": true,
           "type": "scatter",
           "x": [
            269155580000
           ],
           "xaxis": "x",
           "y": [
            612000000
           ],
           "yaxis": "y"
          },
          {
           "hovertemplate": "<b>%{hovertext}</b><br><br>Country=Italy<br>Year=2015<br>GDP=%{marker.size}<br>RoadSpending=%{y}<extra></extra>",
           "hovertext": [
            "Italy"
           ],
           "legendgroup": "Italy",
           "marker": {
            "color": "#ab63fa",
            "size": [
             1642598240000
            ],
            "sizemode": "area",
            "sizeref": 1119177225,
            "symbol": "circle"
           },
           "mode": "markers",
           "name": "Italy",
           "orientation": "v",
           "showlegend": true,
           "type": "scatter",
           "x": [
            1642598240000
           ],
           "xaxis": "x",
           "y": [
            5151000000
           ],
           "yaxis": "y"
          },
          {
           "hovertemplate": "<b>%{hovertext}</b><br><br>Country=Latvia<br>Year=2015<br>GDP=%{marker.size}<br>RoadSpending=%{y}<extra></extra>",
           "hovertext": [
            "Latvia"
           ],
           "legendgroup": "Latvia",
           "marker": {
            "color": "#FFA15A",
            "size": [
             24266740000
            ],
            "sizemode": "area",
            "sizeref": 1119177225,
            "symbol": "circle"
           },
           "mode": "markers",
           "name": "Latvia",
           "orientation": "v",
           "showlegend": true,
           "type": "scatter",
           "x": [
            24266740000
           ],
           "xaxis": "x",
           "y": [
            203000000
           ],
           "yaxis": "y"
          },
          {
           "hovertemplate": "<b>%{hovertext}</b><br><br>Country=Lithuania<br>Year=2015<br>GDP=%{marker.size}<br>RoadSpending=%{y}<extra></extra>",
           "hovertext": [
            "Lithuania"
           ],
           "legendgroup": "Lithuania",
           "marker": {
            "color": "#19d3f3",
            "size": [
             36873590000
            ],
            "sizemode": "area",
            "sizeref": 1119177225,
            "symbol": "circle"
           },
           "mode": "markers",
           "name": "Lithuania",
           "orientation": "v",
           "showlegend": true,
           "type": "scatter",
           "x": [
            36873590000
           ],
           "xaxis": "x",
           "y": [
            258000000
           ],
           "yaxis": "y"
          },
          {
           "hovertemplate": "<b>%{hovertext}</b><br><br>Country=Luxembourg<br>Year=2015<br>GDP=%{marker.size}<br>RoadSpending=%{y}<extra></extra>",
           "hovertext": [
            "Luxembourg"
           ],
           "legendgroup": "Luxembourg",
           "marker": {
            "color": "#FF6692",
            "size": [
             53469420000
            ],
            "sizemode": "area",
            "sizeref": 1119177225,
            "symbol": "circle"
           },
           "mode": "markers",
           "name": "Luxembourg",
           "orientation": "v",
           "showlegend": true,
           "type": "scatter",
           "x": [
            53469420000
           ],
           "xaxis": "x",
           "y": [
            226217136.5
           ],
           "yaxis": "y"
          },
          {
           "hovertemplate": "<b>%{hovertext}</b><br><br>Country=Malta<br>Year=2015<br>GDP=%{marker.size}<br>RoadSpending=%{y}<extra></extra>",
           "hovertext": [
            "Malta"
           ],
           "legendgroup": "Malta",
           "marker": {
            "color": "#B6E880",
            "size": [
             10094380000
            ],
            "sizemode": "area",
            "sizeref": 1119177225,
            "symbol": "circle"
           },
           "mode": "markers",
           "name": "Malta",
           "orientation": "v",
           "showlegend": true,
           "type": "scatter",
           "x": [
            10094380000
           ],
           "xaxis": "x",
           "y": [
            null
           ],
           "yaxis": "y"
          },
          {
           "hovertemplate": "<b>%{hovertext}</b><br><br>Country=Netherlands<br>Year=2015<br>GDP=%{marker.size}<br>RoadSpending=%{y}<extra></extra>",
           "hovertext": [
            "Netherlands"
           ],
           "legendgroup": "Netherlands",
           "marker": {
            "color": "#FF97FF",
            "size": [
             690481580000
            ],
            "sizemode": "area",
            "sizeref": 1119177225,
            "symbol": "circle"
           },
           "mode": "markers",
           "name": "Netherlands",
           "orientation": "v",
           "showlegend": true,
           "type": "scatter",
           "x": [
            690481580000
           ],
           "xaxis": "x",
           "y": [
            4849447882
           ],
           "yaxis": "y"
          },
          {
           "hovertemplate": "<b>%{hovertext}</b><br><br>Country=Poland<br>Year=2015<br>GDP=%{marker.size}<br>RoadSpending=%{y}<extra></extra>",
           "hovertext": [
            "Poland"
           ],
           "legendgroup": "Poland",
           "marker": {
            "color": "#FECB52",
            "size": [
             424341320000
            ],
            "sizemode": "area",
            "sizeref": 1119177225,
            "symbol": "circle"
           },
           "mode": "markers",
           "name": "Poland",
           "orientation": "v",
           "showlegend": true,
           "type": "scatter",
           "x": [
            424341320000
           ],
           "xaxis": "x",
           "y": [
            2170794683
           ],
           "yaxis": "y"
          },
          {
           "hovertemplate": "<b>%{hovertext}</b><br><br>Country=Portugal<br>Year=2015<br>GDP=%{marker.size}<br>RoadSpending=%{y}<extra></extra>",
           "hovertext": [
            "Portugal"
           ],
           "legendgroup": "Portugal",
           "marker": {
            "color": "#636efa",
            "size": [
             177478460000
            ],
            "sizemode": "area",
            "sizeref": 1119177225,
            "symbol": "circle"
           },
           "mode": "markers",
           "name": "Portugal",
           "orientation": "v",
           "showlegend": true,
           "type": "scatter",
           "x": [
            177478460000
           ],
           "xaxis": "x",
           "y": [
            null
           ],
           "yaxis": "y"
          },
          {
           "hovertemplate": "<b>%{hovertext}</b><br><br>Country=Romania<br>Year=2015<br>GDP=%{marker.size}<br>RoadSpending=%{y}<extra></extra>",
           "hovertext": [
            "Romania"
           ],
           "legendgroup": "Romania",
           "marker": {
            "color": "#EF553B",
            "size": [
             158310530000
            ],
            "sizemode": "area",
            "sizeref": 1119177225,
            "symbol": "circle"
           },
           "mode": "markers",
           "name": "Romania",
           "orientation": "v",
           "showlegend": true,
           "type": "scatter",
           "x": [
            158310530000
           ],
           "xaxis": "x",
           "y": [
            2870287051
           ],
           "yaxis": "y"
          },
          {
           "hovertemplate": "<b>%{hovertext}</b><br><br>Country=Slovak Republic<br>Year=2015<br>GDP=%{marker.size}<br>RoadSpending=%{y}<extra></extra>",
           "hovertext": [
            "Slovak Republic"
           ],
           "legendgroup": "Slovak Republic",
           "marker": {
            "color": "#00cc96",
            "size": [
             79129900000
            ],
            "sizemode": "area",
            "sizeref": 1119177225,
            "symbol": "circle"
           },
           "mode": "markers",
           "name": "Slovak Republic",
           "orientation": "v",
           "showlegend": true,
           "type": "scatter",
           "x": [
            79129900000
           ],
           "xaxis": "x",
           "y": [
            1133782000
           ],
           "yaxis": "y"
          },
          {
           "hovertemplate": "<b>%{hovertext}</b><br><br>Country=Slovenia<br>Year=2015<br>GDP=%{marker.size}<br>RoadSpending=%{y}<extra></extra>",
           "hovertext": [
            "Slovenia"
           ],
           "legendgroup": "Slovenia",
           "marker": {
            "color": "#ab63fa",
            "size": [
             38015460000
            ],
            "sizemode": "area",
            "sizeref": 1119177225,
            "symbol": "circle"
           },
           "mode": "markers",
           "name": "Slovenia",
           "orientation": "v",
           "showlegend": true,
           "type": "scatter",
           "x": [
            38015460000
           ],
           "xaxis": "x",
           "y": [
            145000000
           ],
           "yaxis": "y"
          },
          {
           "hovertemplate": "<b>%{hovertext}</b><br><br>Country=Spain<br>Year=2015<br>GDP=%{marker.size}<br>RoadSpending=%{y}<extra></extra>",
           "hovertext": [
            "Spain"
           ],
           "legendgroup": "Spain",
           "marker": {
            "color": "#FFA15A",
            "size": [
             1073595430000
            ],
            "sizemode": "area",
            "sizeref": 1119177225,
            "symbol": "circle"
           },
           "mode": "markers",
           "name": "Spain",
           "orientation": "v",
           "showlegend": true,
           "type": "scatter",
           "x": [
            1073595430000
           ],
           "xaxis": "x",
           "y": [
            4259000000
           ],
           "yaxis": "y"
          },
          {
           "hovertemplate": "<b>%{hovertext}</b><br><br>Country=Sweden<br>Year=2015<br>GDP=%{marker.size}<br>RoadSpending=%{y}<extra></extra>",
           "hovertext": [
            "Sweden"
           ],
           "legendgroup": "Sweden",
           "marker": {
            "color": "#19d3f3",
            "size": [
             446511220000
            ],
            "sizemode": "area",
            "sizeref": 1119177225,
            "symbol": "circle"
           },
           "mode": "markers",
           "name": "Sweden",
           "orientation": "v",
           "showlegend": true,
           "type": "scatter",
           "x": [
            446511220000
           ],
           "xaxis": "x",
           "y": [
            1861457053
           ],
           "yaxis": "y"
          }
         ],
         "name": "2015"
        },
        {
         "data": [
          {
           "hovertemplate": "<b>%{hovertext}</b><br><br>Country=Austria<br>Year=2016<br>GDP=%{marker.size}<br>RoadSpending=%{y}<extra></extra>",
           "hovertext": [
            "Austria"
           ],
           "legendgroup": "Austria",
           "marker": {
            "color": "#636efa",
            "size": [
             352197920000
            ],
            "sizemode": "area",
            "sizeref": 1119177225,
            "symbol": "circle"
           },
           "mode": "markers",
           "name": "Austria",
           "orientation": "v",
           "showlegend": true,
           "type": "scatter",
           "x": [
            352197920000
           ],
           "xaxis": "x",
           "y": [
            null
           ],
           "yaxis": "y"
          },
          {
           "hovertemplate": "<b>%{hovertext}</b><br><br>Country=Belgium<br>Year=2016<br>GDP=%{marker.size}<br>RoadSpending=%{y}<extra></extra>",
           "hovertext": [
            "Belgium"
           ],
           "legendgroup": "Belgium",
           "marker": {
            "color": "#EF553B",
            "size": [
             423578590000
            ],
            "sizemode": "area",
            "sizeref": 1119177225,
            "symbol": "circle"
           },
           "mode": "markers",
           "name": "Belgium",
           "orientation": "v",
           "showlegend": true,
           "type": "scatter",
           "x": [
            423578590000
           ],
           "xaxis": "x",
           "y": [
            810000000
           ],
           "yaxis": "y"
          },
          {
           "hovertemplate": "<b>%{hovertext}</b><br><br>Country=Bulgaria<br>Year=2016<br>GDP=%{marker.size}<br>RoadSpending=%{y}<extra></extra>",
           "hovertext": [
            "Bulgaria"
           ],
           "legendgroup": "Bulgaria",
           "marker": {
            "color": "#00cc96",
            "size": [
             47996810000
            ],
            "sizemode": "area",
            "sizeref": 1119177225,
            "symbol": "circle"
           },
           "mode": "markers",
           "name": "Bulgaria",
           "orientation": "v",
           "showlegend": true,
           "type": "scatter",
           "x": [
            47996810000
           ],
           "xaxis": "x",
           "y": [
            163104611.9
           ],
           "yaxis": "y"
          },
          {
           "hovertemplate": "<b>%{hovertext}</b><br><br>Country=Croatia<br>Year=2016<br>GDP=%{marker.size}<br>RoadSpending=%{y}<extra></extra>",
           "hovertext": [
            "Croatia"
           ],
           "legendgroup": "Croatia",
           "marker": {
            "color": "#ab63fa",
            "size": [
             46926140000
            ],
            "sizemode": "area",
            "sizeref": 1119177225,
            "symbol": "circle"
           },
           "mode": "markers",
           "name": "Croatia",
           "orientation": "v",
           "showlegend": true,
           "type": "scatter",
           "x": [
            46926140000
           ],
           "xaxis": "x",
           "y": [
            197358816.1
           ],
           "yaxis": "y"
          },
          {
           "hovertemplate": "<b>%{hovertext}</b><br><br>Country=Czechia<br>Year=2016<br>GDP=%{marker.size}<br>RoadSpending=%{y}<extra></extra>",
           "hovertext": [
            "Czechia"
           ],
           "legendgroup": "Czechia",
           "marker": {
            "color": "#FFA15A",
            "size": [
             176363290000
            ],
            "sizemode": "area",
            "sizeref": 1119177225,
            "symbol": "circle"
           },
           "mode": "markers",
           "name": "Czechia",
           "orientation": "v",
           "showlegend": true,
           "type": "scatter",
           "x": [
            176363290000
           ],
           "xaxis": "x",
           "y": [
            849231713.9
           ],
           "yaxis": "y"
          },
          {
           "hovertemplate": "<b>%{hovertext}</b><br><br>Country=Denmark<br>Year=2016<br>GDP=%{marker.size}<br>RoadSpending=%{y}<extra></extra>",
           "hovertext": [
            "Denmark"
           ],
           "legendgroup": "Denmark",
           "marker": {
            "color": "#19d3f3",
            "size": [
             277841980000
            ],
            "sizemode": "area",
            "sizeref": 1119177225,
            "symbol": "circle"
           },
           "mode": "markers",
           "name": "Denmark",
           "orientation": "v",
           "showlegend": true,
           "type": "scatter",
           "x": [
            277841980000
           ],
           "xaxis": "x",
           "y": [
            1099470814
           ],
           "yaxis": "y"
          },
          {
           "hovertemplate": "<b>%{hovertext}</b><br><br>Country=Estonia<br>Year=2016<br>GDP=%{marker.size}<br>RoadSpending=%{y}<extra></extra>",
           "hovertext": [
            "Estonia"
           ],
           "legendgroup": "Estonia",
           "marker": {
            "color": "#FF6692",
            "size": [
             21853060000
            ],
            "sizemode": "area",
            "sizeref": 1119177225,
            "symbol": "circle"
           },
           "mode": "markers",
           "name": "Estonia",
           "orientation": "v",
           "showlegend": true,
           "type": "scatter",
           "x": [
            21853060000
           ],
           "xaxis": "x",
           "y": [
            148600000
           ],
           "yaxis": "y"
          },
          {
           "hovertemplate": "<b>%{hovertext}</b><br><br>Country=Finland<br>Year=2016<br>GDP=%{marker.size}<br>RoadSpending=%{y}<extra></extra>",
           "hovertext": [
            "Finland"
           ],
           "legendgroup": "Finland",
           "marker": {
            "color": "#B6E880",
            "size": [
             212453680000
            ],
            "sizemode": "area",
            "sizeref": 1119177225,
            "symbol": "circle"
           },
           "mode": "markers",
           "name": "Finland",
           "orientation": "v",
           "showlegend": true,
           "type": "scatter",
           "x": [
            212453680000
           ],
           "xaxis": "x",
           "y": [
            1441000000
           ],
           "yaxis": "y"
          },
          {
           "hovertemplate": "<b>%{hovertext}</b><br><br>Country=France<br>Year=2016<br>GDP=%{marker.size}<br>RoadSpending=%{y}<extra></extra>",
           "hovertext": [
            "France"
           ],
           "legendgroup": "France",
           "marker": {
            "color": "#FF97FF",
            "size": [
             2198056140000
            ],
            "sizemode": "area",
            "sizeref": 1119177225,
            "symbol": "circle"
           },
           "mode": "markers",
           "name": "France",
           "orientation": "v",
           "showlegend": true,
           "type": "scatter",
           "x": [
            2198056140000
           ],
           "xaxis": "x",
           "y": [
            9216000000
           ],
           "yaxis": "y"
          },
          {
           "hovertemplate": "<b>%{hovertext}</b><br><br>Country=Germany<br>Year=2016<br>GDP=%{marker.size}<br>RoadSpending=%{y}<extra></extra>",
           "hovertext": [
            "Germany"
           ],
           "legendgroup": "Germany",
           "marker": {
            "color": "#FECB52",
            "size": [
             3147759120000
            ],
            "sizemode": "area",
            "sizeref": 1119177225,
            "symbol": "circle"
           },
           "mode": "markers",
           "name": "Germany",
           "orientation": "v",
           "showlegend": true,
           "type": "scatter",
           "x": [
            3147759120000
           ],
           "xaxis": "x",
           "y": [
            12100000000
           ],
           "yaxis": "y"
          },
          {
           "hovertemplate": "<b>%{hovertext}</b><br><br>Country=Greece<br>Year=2016<br>GDP=%{marker.size}<br>RoadSpending=%{y}<extra></extra>",
           "hovertext": [
            "Greece"
           ],
           "legendgroup": "Greece",
           "marker": {
            "color": "#636efa",
            "size": [
             171854550000
            ],
            "sizemode": "area",
            "sizeref": 1119177225,
            "symbol": "circle"
           },
           "mode": "markers",
           "name": "Greece",
           "orientation": "v",
           "showlegend": true,
           "type": "scatter",
           "x": [
            171854550000
           ],
           "xaxis": "x",
           "y": [
            2187037728
           ],
           "yaxis": "y"
          },
          {
           "hovertemplate": "<b>%{hovertext}</b><br><br>Country=Hungary<br>Year=2016<br>GDP=%{marker.size}<br>RoadSpending=%{y}<extra></extra>",
           "hovertext": [
            "Hungary"
           ],
           "legendgroup": "Hungary",
           "marker": {
            "color": "#EF553B",
            "size": [
             114462900000.00002
            ],
            "sizemode": "area",
            "sizeref": 1119177225,
            "symbol": "circle"
           },
           "mode": "markers",
           "name": "Hungary",
           "orientation": "v",
           "showlegend": true,
           "type": "scatter",
           "x": [
            114462900000.00002
           ],
           "xaxis": "x",
           "y": [
            802745135.8
           ],
           "yaxis": "y"
          },
          {
           "hovertemplate": "<b>%{hovertext}</b><br><br>Country=Ireland<br>Year=2016<br>GDP=%{marker.size}<br>RoadSpending=%{y}<extra></extra>",
           "hovertext": [
            "Ireland"
           ],
           "legendgroup": "Ireland",
           "marker": {
            "color": "#00cc96",
            "size": [
             272027610000
            ],
            "sizemode": "area",
            "sizeref": 1119177225,
            "symbol": "circle"
           },
           "mode": "markers",
           "name": "Ireland",
           "orientation": "v",
           "showlegend": true,
           "type": "scatter",
           "x": [
            272027610000
           ],
           "xaxis": "x",
           "y": [
            622000000
           ],
           "yaxis": "y"
          },
          {
           "hovertemplate": "<b>%{hovertext}</b><br><br>Country=Italy<br>Year=2016<br>GDP=%{marker.size}<br>RoadSpending=%{y}<extra></extra>",
           "hovertext": [
            "Italy"
           ],
           "legendgroup": "Italy",
           "marker": {
            "color": "#ab63fa",
            "size": [
             1679065100000
            ],
            "sizemode": "area",
            "sizeref": 1119177225,
            "symbol": "circle"
           },
           "mode": "markers",
           "name": "Italy",
           "orientation": "v",
           "showlegend": true,
           "type": "scatter",
           "x": [
            1679065100000
           ],
           "xaxis": "x",
           "y": [
            3755000000
           ],
           "yaxis": "y"
          },
          {
           "hovertemplate": "<b>%{hovertext}</b><br><br>Country=Latvia<br>Year=2016<br>GDP=%{marker.size}<br>RoadSpending=%{y}<extra></extra>",
           "hovertext": [
            "Latvia"
           ],
           "legendgroup": "Latvia",
           "marker": {
            "color": "#FFA15A",
            "size": [
             24987640000
            ],
            "sizemode": "area",
            "sizeref": 1119177225,
            "symbol": "circle"
           },
           "mode": "markers",
           "name": "Latvia",
           "orientation": "v",
           "showlegend": true,
           "type": "scatter",
           "x": [
            24987640000
           ],
           "xaxis": "x",
           "y": [
            190000000
           ],
           "yaxis": "y"
          },
          {
           "hovertemplate": "<b>%{hovertext}</b><br><br>Country=Lithuania<br>Year=2016<br>GDP=%{marker.size}<br>RoadSpending=%{y}<extra></extra>",
           "hovertext": [
            "Lithuania"
           ],
           "legendgroup": "Lithuania",
           "marker": {
            "color": "#19d3f3",
            "size": [
             38321620000
            ],
            "sizemode": "area",
            "sizeref": 1119177225,
            "symbol": "circle"
           },
           "mode": "markers",
           "name": "Lithuania",
           "orientation": "v",
           "showlegend": true,
           "type": "scatter",
           "x": [
            38321620000
           ],
           "xaxis": "x",
           "y": [
            357000000
           ],
           "yaxis": "y"
          },
          {
           "hovertemplate": "<b>%{hovertext}</b><br><br>Country=Luxembourg<br>Year=2016<br>GDP=%{marker.size}<br>RoadSpending=%{y}<extra></extra>",
           "hovertext": [
            "Luxembourg"
           ],
           "legendgroup": "Luxembourg",
           "marker": {
            "color": "#FF6692",
            "size": [
             55358000000
            ],
            "sizemode": "area",
            "sizeref": 1119177225,
            "symbol": "circle"
           },
           "mode": "markers",
           "name": "Luxembourg",
           "orientation": "v",
           "showlegend": true,
           "type": "scatter",
           "x": [
            55358000000
           ],
           "xaxis": "x",
           "y": [
            213537152.4
           ],
           "yaxis": "y"
          },
          {
           "hovertemplate": "<b>%{hovertext}</b><br><br>Country=Malta<br>Year=2016<br>GDP=%{marker.size}<br>RoadSpending=%{y}<extra></extra>",
           "hovertext": [
            "Malta"
           ],
           "legendgroup": "Malta",
           "marker": {
            "color": "#B6E880",
            "size": [
             10699580000
            ],
            "sizemode": "area",
            "sizeref": 1119177225,
            "symbol": "circle"
           },
           "mode": "markers",
           "name": "Malta",
           "orientation": "v",
           "showlegend": true,
           "type": "scatter",
           "x": [
            10699580000
           ],
           "xaxis": "x",
           "y": [
            null
           ],
           "yaxis": "y"
          },
          {
           "hovertemplate": "<b>%{hovertext}</b><br><br>Country=Netherlands<br>Year=2016<br>GDP=%{marker.size}<br>RoadSpending=%{y}<extra></extra>",
           "hovertext": [
            "Netherlands"
           ],
           "legendgroup": "Netherlands",
           "marker": {
            "color": "#FF97FF",
            "size": [
             709280160000
            ],
            "sizemode": "area",
            "sizeref": 1119177225,
            "symbol": "circle"
           },
           "mode": "markers",
           "name": "Netherlands",
           "orientation": "v",
           "showlegend": true,
           "type": "scatter",
           "x": [
            709280160000
           ],
           "xaxis": "x",
           "y": [
            4485420208
           ],
           "yaxis": "y"
          },
          {
           "hovertemplate": "<b>%{hovertext}</b><br><br>Country=Poland<br>Year=2016<br>GDP=%{marker.size}<br>RoadSpending=%{y}<extra></extra>",
           "hovertext": [
            "Poland"
           ],
           "legendgroup": "Poland",
           "marker": {
            "color": "#FECB52",
            "size": [
             417988500000
            ],
            "sizemode": "area",
            "sizeref": 1119177225,
            "symbol": "circle"
           },
           "mode": "markers",
           "name": "Poland",
           "orientation": "v",
           "showlegend": true,
           "type": "scatter",
           "x": [
            417988500000
           ],
           "xaxis": "x",
           "y": [
            3075442295
           ],
           "yaxis": "y"
          },
          {
           "hovertemplate": "<b>%{hovertext}</b><br><br>Country=Portugal<br>Year=2016<br>GDP=%{marker.size}<br>RoadSpending=%{y}<extra></extra>",
           "hovertext": [
            "Portugal"
           ],
           "legendgroup": "Portugal",
           "marker": {
            "color": "#636efa",
            "size": [
             183668410000
            ],
            "sizemode": "area",
            "sizeref": 1119177225,
            "symbol": "circle"
           },
           "mode": "markers",
           "name": "Portugal",
           "orientation": "v",
           "showlegend": true,
           "type": "scatter",
           "x": [
            183668410000
           ],
           "xaxis": "x",
           "y": [
            null
           ],
           "yaxis": "y"
          },
          {
           "hovertemplate": "<b>%{hovertext}</b><br><br>Country=Romania<br>Year=2016<br>GDP=%{marker.size}<br>RoadSpending=%{y}<extra></extra>",
           "hovertext": [
            "Romania"
           ],
           "legendgroup": "Romania",
           "marker": {
            "color": "#EF553B",
            "size": [
             164947260000
            ],
            "sizemode": "area",
            "sizeref": 1119177225,
            "symbol": "circle"
           },
           "mode": "markers",
           "name": "Romania",
           "orientation": "v",
           "showlegend": true,
           "type": "scatter",
           "x": [
            164947260000
           ],
           "xaxis": "x",
           "y": [
            2366794335
           ],
           "yaxis": "y"
          },
          {
           "hovertemplate": "<b>%{hovertext}</b><br><br>Country=Slovak Republic<br>Year=2016<br>GDP=%{marker.size}<br>RoadSpending=%{y}<extra></extra>",
           "hovertext": [
            "Slovak Republic"
           ],
           "legendgroup": "Slovak Republic",
           "marker": {
            "color": "#00cc96",
            "size": [
             80035920000
            ],
            "sizemode": "area",
            "sizeref": 1119177225,
            "symbol": "circle"
           },
           "mode": "markers",
           "name": "Slovak Republic",
           "orientation": "v",
           "showlegend": true,
           "type": "scatter",
           "x": [
            80035920000
           ],
           "xaxis": "x",
           "y": [
            751418000
           ],
           "yaxis": "y"
          },
          {
           "hovertemplate": "<b>%{hovertext}</b><br><br>Country=Slovenia<br>Year=2016<br>GDP=%{marker.size}<br>RoadSpending=%{y}<extra></extra>",
           "hovertext": [
            "Slovenia"
           ],
           "legendgroup": "Slovenia",
           "marker": {
            "color": "#ab63fa",
            "size": [
             39408310000
            ],
            "sizemode": "area",
            "sizeref": 1119177225,
            "symbol": "circle"
           },
           "mode": "markers",
           "name": "Slovenia",
           "orientation": "v",
           "showlegend": true,
           "type": "scatter",
           "x": [
            39408310000
           ],
           "xaxis": "x",
           "y": [
            149000000
           ],
           "yaxis": "y"
          },
          {
           "hovertemplate": "<b>%{hovertext}</b><br><br>Country=Spain<br>Year=2016<br>GDP=%{marker.size}<br>RoadSpending=%{y}<extra></extra>",
           "hovertext": [
            "Spain"
           ],
           "legendgroup": "Spain",
           "marker": {
            "color": "#FFA15A",
            "size": [
             1105978970000
            ],
            "sizemode": "area",
            "sizeref": 1119177225,
            "symbol": "circle"
           },
           "mode": "markers",
           "name": "Spain",
           "orientation": "v",
           "showlegend": true,
           "type": "scatter",
           "x": [
            1105978970000
           ],
           "xaxis": "x",
           "y": [
            3880000000
           ],
           "yaxis": "y"
          },
          {
           "hovertemplate": "<b>%{hovertext}</b><br><br>Country=Sweden<br>Year=2016<br>GDP=%{marker.size}<br>RoadSpending=%{y}<extra></extra>",
           "hovertext": [
            "Sweden"
           ],
           "legendgroup": "Sweden",
           "marker": {
            "color": "#19d3f3",
            "size": [
             457654019999.99994
            ],
            "sizemode": "area",
            "sizeref": 1119177225,
            "symbol": "circle"
           },
           "mode": "markers",
           "name": "Sweden",
           "orientation": "v",
           "showlegend": true,
           "type": "scatter",
           "x": [
            457654019999.99994
           ],
           "xaxis": "x",
           "y": [
            2086339294
           ],
           "yaxis": "y"
          }
         ],
         "name": "2016"
        },
        {
         "data": [
          {
           "hovertemplate": "<b>%{hovertext}</b><br><br>Country=Austria<br>Year=2017<br>GDP=%{marker.size}<br>RoadSpending=%{y}<extra></extra>",
           "hovertext": [
            "Austria"
           ],
           "legendgroup": "Austria",
           "marker": {
            "color": "#636efa",
            "size": [
             371231460000
            ],
            "sizemode": "area",
            "sizeref": 1119177225,
            "symbol": "circle"
           },
           "mode": "markers",
           "name": "Austria",
           "orientation": "v",
           "showlegend": true,
           "type": "scatter",
           "x": [
            371231460000
           ],
           "xaxis": "x",
           "y": [
            null
           ],
           "yaxis": "y"
          },
          {
           "hovertemplate": "<b>%{hovertext}</b><br><br>Country=Belgium<br>Year=2017<br>GDP=%{marker.size}<br>RoadSpending=%{y}<extra></extra>",
           "hovertext": [
            "Belgium"
           ],
           "legendgroup": "Belgium",
           "marker": {
            "color": "#EF553B",
            "size": [
             447302430000
            ],
            "sizemode": "area",
            "sizeref": 1119177225,
            "symbol": "circle"
           },
           "mode": "markers",
           "name": "Belgium",
           "orientation": "v",
           "showlegend": true,
           "type": "scatter",
           "x": [
            447302430000
           ],
           "xaxis": "x",
           "y": [
            655906000
           ],
           "yaxis": "y"
          },
          {
           "hovertemplate": "<b>%{hovertext}</b><br><br>Country=Bulgaria<br>Year=2017<br>GDP=%{marker.size}<br>RoadSpending=%{y}<extra></extra>",
           "hovertext": [
            "Bulgaria"
           ],
           "legendgroup": "Bulgaria",
           "marker": {
            "color": "#00cc96",
            "size": [
             52766320000
            ],
            "sizemode": "area",
            "sizeref": 1119177225,
            "symbol": "circle"
           },
           "mode": "markers",
           "name": "Bulgaria",
           "orientation": "v",
           "showlegend": true,
           "type": "scatter",
           "x": [
            52766320000
           ],
           "xaxis": "x",
           "y": [
            115042437.9
           ],
           "yaxis": "y"
          },
          {
           "hovertemplate": "<b>%{hovertext}</b><br><br>Country=Croatia<br>Year=2017<br>GDP=%{marker.size}<br>RoadSpending=%{y}<extra></extra>",
           "hovertext": [
            "Croatia"
           ],
           "legendgroup": "Croatia",
           "marker": {
            "color": "#ab63fa",
            "size": [
             50108780000
            ],
            "sizemode": "area",
            "sizeref": 1119177225,
            "symbol": "circle"
           },
           "mode": "markers",
           "name": "Croatia",
           "orientation": "v",
           "showlegend": true,
           "type": "scatter",
           "x": [
            50108780000
           ],
           "xaxis": "x",
           "y": [
            194704359.9
           ],
           "yaxis": "y"
          },
          {
           "hovertemplate": "<b>%{hovertext}</b><br><br>Country=Czechia<br>Year=2017<br>GDP=%{marker.size}<br>RoadSpending=%{y}<extra></extra>",
           "hovertext": [
            "Czechia"
           ],
           "legendgroup": "Czechia",
           "marker": {
            "color": "#FFA15A",
            "size": [
             197191960000
            ],
            "sizemode": "area",
            "sizeref": 1119177225,
            "symbol": "circle"
           },
           "mode": "markers",
           "name": "Czechia",
           "orientation": "v",
           "showlegend": true,
           "type": "scatter",
           "x": [
            197191960000
           ],
           "xaxis": "x",
           "y": [
            984191254.7
           ],
           "yaxis": "y"
          },
          {
           "hovertemplate": "<b>%{hovertext}</b><br><br>Country=Denmark<br>Year=2017<br>GDP=%{marker.size}<br>RoadSpending=%{y}<extra></extra>",
           "hovertext": [
            "Denmark"
           ],
           "legendgroup": "Denmark",
           "marker": {
            "color": "#19d3f3",
            "size": [
             295133790000
            ],
            "sizemode": "area",
            "sizeref": 1119177225,
            "symbol": "circle"
           },
           "mode": "markers",
           "name": "Denmark",
           "orientation": "v",
           "showlegend": true,
           "type": "scatter",
           "x": [
            295133790000
           ],
           "xaxis": "x",
           "y": [
            1065643190
           ],
           "yaxis": "y"
          },
          {
           "hovertemplate": "<b>%{hovertext}</b><br><br>Country=Estonia<br>Year=2017<br>GDP=%{marker.size}<br>RoadSpending=%{y}<extra></extra>",
           "hovertext": [
            "Estonia"
           ],
           "legendgroup": "Estonia",
           "marker": {
            "color": "#FF6692",
            "size": [
             24439400000
            ],
            "sizemode": "area",
            "sizeref": 1119177225,
            "symbol": "circle"
           },
           "mode": "markers",
           "name": "Estonia",
           "orientation": "v",
           "showlegend": true,
           "type": "scatter",
           "x": [
            24439400000
           ],
           "xaxis": "x",
           "y": [
            197000000
           ],
           "yaxis": "y"
          },
          {
           "hovertemplate": "<b>%{hovertext}</b><br><br>Country=Finland<br>Year=2017<br>GDP=%{marker.size}<br>RoadSpending=%{y}<extra></extra>",
           "hovertext": [
            "Finland"
           ],
           "legendgroup": "Finland",
           "marker": {
            "color": "#B6E880",
            "size": [
             225843730000
            ],
            "sizemode": "area",
            "sizeref": 1119177225,
            "symbol": "circle"
           },
           "mode": "markers",
           "name": "Finland",
           "orientation": "v",
           "showlegend": true,
           "type": "scatter",
           "x": [
            225843730000
           ],
           "xaxis": "x",
           "y": [
            1596000000
           ],
           "yaxis": "y"
          },
          {
           "hovertemplate": "<b>%{hovertext}</b><br><br>Country=France<br>Year=2017<br>GDP=%{marker.size}<br>RoadSpending=%{y}<extra></extra>",
           "hovertext": [
            "France"
           ],
           "legendgroup": "France",
           "marker": {
            "color": "#FF97FF",
            "size": [
             2303279950000
            ],
            "sizemode": "area",
            "sizeref": 1119177225,
            "symbol": "circle"
           },
           "mode": "markers",
           "name": "France",
           "orientation": "v",
           "showlegend": true,
           "type": "scatter",
           "x": [
            2303279950000
           ],
           "xaxis": "x",
           "y": [
            9080000000
           ],
           "yaxis": "y"
          },
          {
           "hovertemplate": "<b>%{hovertext}</b><br><br>Country=Germany<br>Year=2017<br>GDP=%{marker.size}<br>RoadSpending=%{y}<extra></extra>",
           "hovertext": [
            "Germany"
           ],
           "legendgroup": "Germany",
           "marker": {
            "color": "#FECB52",
            "size": [
             3347969960000
            ],
            "sizemode": "area",
            "sizeref": 1119177225,
            "symbol": "circle"
           },
           "mode": "markers",
           "name": "Germany",
           "orientation": "v",
           "showlegend": true,
           "type": "scatter",
           "x": [
            3347969960000
           ],
           "xaxis": "x",
           "y": [
            13540000000
           ],
           "yaxis": "y"
          },
          {
           "hovertemplate": "<b>%{hovertext}</b><br><br>Country=Greece<br>Year=2017<br>GDP=%{marker.size}<br>RoadSpending=%{y}<extra></extra>",
           "hovertext": [
            "Greece"
           ],
           "legendgroup": "Greece",
           "marker": {
            "color": "#636efa",
            "size": [
             177798860000
            ],
            "sizemode": "area",
            "sizeref": 1119177225,
            "symbol": "circle"
           },
           "mode": "markers",
           "name": "Greece",
           "orientation": "v",
           "showlegend": true,
           "type": "scatter",
           "x": [
            177798860000
           ],
           "xaxis": "x",
           "y": [
            3894932795
           ],
           "yaxis": "y"
          },
          {
           "hovertemplate": "<b>%{hovertext}</b><br><br>Country=Hungary<br>Year=2017<br>GDP=%{marker.size}<br>RoadSpending=%{y}<extra></extra>",
           "hovertext": [
            "Hungary"
           ],
           "legendgroup": "Hungary",
           "marker": {
            "color": "#EF553B",
            "size": [
             127369680000
            ],
            "sizemode": "area",
            "sizeref": 1119177225,
            "symbol": "circle"
           },
           "mode": "markers",
           "name": "Hungary",
           "orientation": "v",
           "showlegend": true,
           "type": "scatter",
           "x": [
            127369680000
           ],
           "xaxis": "x",
           "y": [
            1280382187
           ],
           "yaxis": "y"
          },
          {
           "hovertemplate": "<b>%{hovertext}</b><br><br>Country=Ireland<br>Year=2017<br>GDP=%{marker.size}<br>RoadSpending=%{y}<extra></extra>",
           "hovertext": [
            "Ireland"
           ],
           "legendgroup": "Ireland",
           "marker": {
            "color": "#00cc96",
            "size": [
             310085790000
            ],
            "sizemode": "area",
            "sizeref": 1119177225,
            "symbol": "circle"
           },
           "mode": "markers",
           "name": "Ireland",
           "orientation": "v",
           "showlegend": true,
           "type": "scatter",
           "x": [
            310085790000
           ],
           "xaxis": "x",
           "y": [
            547000000
           ],
           "yaxis": "y"
          },
          {
           "hovertemplate": "<b>%{hovertext}</b><br><br>Country=Italy<br>Year=2017<br>GDP=%{marker.size}<br>RoadSpending=%{y}<extra></extra>",
           "hovertext": [
            "Italy"
           ],
           "legendgroup": "Italy",
           "marker": {
            "color": "#ab63fa",
            "size": [
             1753324030000
            ],
            "sizemode": "area",
            "sizeref": 1119177225,
            "symbol": "circle"
           },
           "mode": "markers",
           "name": "Italy",
           "orientation": "v",
           "showlegend": true,
           "type": "scatter",
           "x": [
            1753324030000
           ],
           "xaxis": "x",
           "y": [
            3409000000
           ],
           "yaxis": "y"
          },
          {
           "hovertemplate": "<b>%{hovertext}</b><br><br>Country=Latvia<br>Year=2017<br>GDP=%{marker.size}<br>RoadSpending=%{y}<extra></extra>",
           "hovertext": [
            "Latvia"
           ],
           "legendgroup": "Latvia",
           "marker": {
            "color": "#FFA15A",
            "size": [
             27120970000
            ],
            "sizemode": "area",
            "sizeref": 1119177225,
            "symbol": "circle"
           },
           "mode": "markers",
           "name": "Latvia",
           "orientation": "v",
           "showlegend": true,
           "type": "scatter",
           "x": [
            27120970000
           ],
           "xaxis": "x",
           "y": [
            226000000
           ],
           "yaxis": "y"
          },
          {
           "hovertemplate": "<b>%{hovertext}</b><br><br>Country=Lithuania<br>Year=2017<br>GDP=%{marker.size}<br>RoadSpending=%{y}<extra></extra>",
           "hovertext": [
            "Lithuania"
           ],
           "legendgroup": "Lithuania",
           "marker": {
            "color": "#19d3f3",
            "size": [
             42458340000
            ],
            "sizemode": "area",
            "sizeref": 1119177225,
            "symbol": "circle"
           },
           "mode": "markers",
           "name": "Lithuania",
           "orientation": "v",
           "showlegend": true,
           "type": "scatter",
           "x": [
            42458340000
           ],
           "xaxis": "x",
           "y": [
            345000000
           ],
           "yaxis": "y"
          },
          {
           "hovertemplate": "<b>%{hovertext}</b><br><br>Country=Luxembourg<br>Year=2017<br>GDP=%{marker.size}<br>RoadSpending=%{y}<extra></extra>",
           "hovertext": [
            "Luxembourg"
           ],
           "legendgroup": "Luxembourg",
           "marker": {
            "color": "#FF6692",
            "size": [
             58463209999.99999
            ],
            "sizemode": "area",
            "sizeref": 1119177225,
            "symbol": "circle"
           },
           "mode": "markers",
           "name": "Luxembourg",
           "orientation": "v",
           "showlegend": true,
           "type": "scatter",
           "x": [
            58463209999.99999
           ],
           "xaxis": "x",
           "y": [
            225577736
           ],
           "yaxis": "y"
          },
          {
           "hovertemplate": "<b>%{hovertext}</b><br><br>Country=Malta<br>Year=2017<br>GDP=%{marker.size}<br>RoadSpending=%{y}<extra></extra>",
           "hovertext": [
            "Malta"
           ],
           "legendgroup": "Malta",
           "marker": {
            "color": "#B6E880",
            "size": [
             12598840000
            ],
            "sizemode": "area",
            "sizeref": 1119177225,
            "symbol": "circle"
           },
           "mode": "markers",
           "name": "Malta",
           "orientation": "v",
           "showlegend": true,
           "type": "scatter",
           "x": [
            12598840000
           ],
           "xaxis": "x",
           "y": [
            null
           ],
           "yaxis": "y"
          },
          {
           "hovertemplate": "<b>%{hovertext}</b><br><br>Country=Netherlands<br>Year=2017<br>GDP=%{marker.size}<br>RoadSpending=%{y}<extra></extra>",
           "hovertext": [
            "Netherlands"
           ],
           "legendgroup": "Netherlands",
           "marker": {
            "color": "#FF97FF",
            "size": [
             754661260000
            ],
            "sizemode": "area",
            "sizeref": 1119177225,
            "symbol": "circle"
           },
           "mode": "markers",
           "name": "Netherlands",
           "orientation": "v",
           "showlegend": true,
           "type": "scatter",
           "x": [
            754661260000
           ],
           "xaxis": "x",
           "y": [
            6294137373
           ],
           "yaxis": "y"
          },
          {
           "hovertemplate": "<b>%{hovertext}</b><br><br>Country=Poland<br>Year=2017<br>GDP=%{marker.size}<br>RoadSpending=%{y}<extra></extra>",
           "hovertext": [
            "Poland"
           ],
           "legendgroup": "Poland",
           "marker": {
            "color": "#FECB52",
            "size": [
             467054200000
            ],
            "sizemode": "area",
            "sizeref": 1119177225,
            "symbol": "circle"
           },
           "mode": "markers",
           "name": "Poland",
           "orientation": "v",
           "showlegend": true,
           "type": "scatter",
           "x": [
            467054200000
           ],
           "xaxis": "x",
           "y": [
            3209595188
           ],
           "yaxis": "y"
          },
          {
           "hovertemplate": "<b>%{hovertext}</b><br><br>Country=Portugal<br>Year=2017<br>GDP=%{marker.size}<br>RoadSpending=%{y}<extra></extra>",
           "hovertext": [
            "Portugal"
           ],
           "legendgroup": "Portugal",
           "marker": {
            "color": "#636efa",
            "size": [
             196939200000
            ],
            "sizemode": "area",
            "sizeref": 1119177225,
            "symbol": "circle"
           },
           "mode": "markers",
           "name": "Portugal",
           "orientation": "v",
           "showlegend": true,
           "type": "scatter",
           "x": [
            196939200000
           ],
           "xaxis": "x",
           "y": [
            null
           ],
           "yaxis": "y"
          },
          {
           "hovertemplate": "<b>%{hovertext}</b><br><br>Country=Romania<br>Year=2017<br>GDP=%{marker.size}<br>RoadSpending=%{y}<extra></extra>",
           "hovertext": [
            "Romania"
           ],
           "legendgroup": "Romania",
           "marker": {
            "color": "#EF553B",
            "size": [
             187370810000
            ],
            "sizemode": "area",
            "sizeref": 1119177225,
            "symbol": "circle"
           },
           "mode": "markers",
           "name": "Romania",
           "orientation": "v",
           "showlegend": true,
           "type": "scatter",
           "x": [
            187370810000
           ],
           "xaxis": "x",
           "y": [
            2133648521
           ],
           "yaxis": "y"
          },
          {
           "hovertemplate": "<b>%{hovertext}</b><br><br>Country=Slovak Republic<br>Year=2017<br>GDP=%{marker.size}<br>RoadSpending=%{y}<extra></extra>",
           "hovertext": [
            "Slovak Republic"
           ],
           "legendgroup": "Slovak Republic",
           "marker": {
            "color": "#00cc96",
            "size": [
             85098240000
            ],
            "sizemode": "area",
            "sizeref": 1119177225,
            "symbol": "circle"
           },
           "mode": "markers",
           "name": "Slovak Republic",
           "orientation": "v",
           "showlegend": true,
           "type": "scatter",
           "x": [
            85098240000
           ],
           "xaxis": "x",
           "y": [
            749613000
           ],
           "yaxis": "y"
          },
          {
           "hovertemplate": "<b>%{hovertext}</b><br><br>Country=Slovenia<br>Year=2017<br>GDP=%{marker.size}<br>RoadSpending=%{y}<extra></extra>",
           "hovertext": [
            "Slovenia"
           ],
           "legendgroup": "Slovenia",
           "marker": {
            "color": "#ab63fa",
            "size": [
             42841040000
            ],
            "sizemode": "area",
            "sizeref": 1119177225,
            "symbol": "circle"
           },
           "mode": "markers",
           "name": "Slovenia",
           "orientation": "v",
           "showlegend": true,
           "type": "scatter",
           "x": [
            42841040000
           ],
           "xaxis": "x",
           "y": [
            217000000
           ],
           "yaxis": "y"
          },
          {
           "hovertemplate": "<b>%{hovertext}</b><br><br>Country=Spain<br>Year=2017<br>GDP=%{marker.size}<br>RoadSpending=%{y}<extra></extra>",
           "hovertext": [
            "Spain"
           ],
           "legendgroup": "Spain",
           "marker": {
            "color": "#FFA15A",
            "size": [
             1175946320000
            ],
            "sizemode": "area",
            "sizeref": 1119177225,
            "symbol": "circle"
           },
           "mode": "markers",
           "name": "Spain",
           "orientation": "v",
           "showlegend": true,
           "type": "scatter",
           "x": [
            1175946320000
           ],
           "xaxis": "x",
           "y": [
            3690000000
           ],
           "yaxis": "y"
          },
          {
           "hovertemplate": "<b>%{hovertext}</b><br><br>Country=Sweden<br>Year=2017<br>GDP=%{marker.size}<br>RoadSpending=%{y}<extra></extra>",
           "hovertext": [
            "Sweden"
           ],
           "legendgroup": "Sweden",
           "marker": {
            "color": "#19d3f3",
            "size": [
             477114759999.99994
            ],
            "sizemode": "area",
            "sizeref": 1119177225,
            "symbol": "circle"
           },
           "mode": "markers",
           "name": "Sweden",
           "orientation": "v",
           "showlegend": true,
           "type": "scatter",
           "x": [
            477114759999.99994
           ],
           "xaxis": "x",
           "y": [
            2374415009
           ],
           "yaxis": "y"
          }
         ],
         "name": "2017"
        },
        {
         "data": [
          {
           "hovertemplate": "<b>%{hovertext}</b><br><br>Country=Austria<br>Year=2018<br>GDP=%{marker.size}<br>RoadSpending=%{y}<extra></extra>",
           "hovertext": [
            "Austria"
           ],
           "legendgroup": "Austria",
           "marker": {
            "color": "#636efa",
            "size": [
             405126220000
            ],
            "sizemode": "area",
            "sizeref": 1119177225,
            "symbol": "circle"
           },
           "mode": "markers",
           "name": "Austria",
           "orientation": "v",
           "showlegend": true,
           "type": "scatter",
           "x": [
            405126220000
           ],
           "xaxis": "x",
           "y": [
            null
           ],
           "yaxis": "y"
          },
          {
           "hovertemplate": "<b>%{hovertext}</b><br><br>Country=Belgium<br>Year=2018<br>GDP=%{marker.size}<br>RoadSpending=%{y}<extra></extra>",
           "hovertext": [
            "Belgium"
           ],
           "legendgroup": "Belgium",
           "marker": {
            "color": "#EF553B",
            "size": [
             483755940000.00006
            ],
            "sizemode": "area",
            "sizeref": 1119177225,
            "symbol": "circle"
           },
           "mode": "markers",
           "name": "Belgium",
           "orientation": "v",
           "showlegend": true,
           "type": "scatter",
           "x": [
            483755940000.00006
           ],
           "xaxis": "x",
           "y": [
            681000000
           ],
           "yaxis": "y"
          },
          {
           "hovertemplate": "<b>%{hovertext}</b><br><br>Country=Bulgaria<br>Year=2018<br>GDP=%{marker.size}<br>RoadSpending=%{y}<extra></extra>",
           "hovertext": [
            "Bulgaria"
           ],
           "legendgroup": "Bulgaria",
           "marker": {
            "color": "#00cc96",
            "size": [
             59094219999.99999
            ],
            "sizemode": "area",
            "sizeref": 1119177225,
            "symbol": "circle"
           },
           "mode": "markers",
           "name": "Bulgaria",
           "orientation": "v",
           "showlegend": true,
           "type": "scatter",
           "x": [
            59094219999.99999
           ],
           "xaxis": "x",
           "y": [
            882503323.4
           ],
           "yaxis": "y"
          },
          {
           "hovertemplate": "<b>%{hovertext}</b><br><br>Country=Croatia<br>Year=2018<br>GDP=%{marker.size}<br>RoadSpending=%{y}<extra></extra>",
           "hovertext": [
            "Croatia"
           ],
           "legendgroup": "Croatia",
           "marker": {
            "color": "#ab63fa",
            "size": [
             55078540000
            ],
            "sizemode": "area",
            "sizeref": 1119177225,
            "symbol": "circle"
           },
           "mode": "markers",
           "name": "Croatia",
           "orientation": "v",
           "showlegend": true,
           "type": "scatter",
           "x": [
            55078540000
           ],
           "xaxis": "x",
           "y": [
            281106908.2
           ],
           "yaxis": "y"
          },
          {
           "hovertemplate": "<b>%{hovertext}</b><br><br>Country=Czechia<br>Year=2018<br>GDP=%{marker.size}<br>RoadSpending=%{y}<extra></extra>",
           "hovertext": [
            "Czechia"
           ],
           "legendgroup": "Czechia",
           "marker": {
            "color": "#FFA15A",
            "size": [
             224272880000
            ],
            "sizemode": "area",
            "sizeref": 1119177225,
            "symbol": "circle"
           },
           "mode": "markers",
           "name": "Czechia",
           "orientation": "v",
           "showlegend": true,
           "type": "scatter",
           "x": [
            224272880000
           ],
           "xaxis": "x",
           "y": [
            1044764479
           ],
           "yaxis": "y"
          },
          {
           "hovertemplate": "<b>%{hovertext}</b><br><br>Country=Denmark<br>Year=2018<br>GDP=%{marker.size}<br>RoadSpending=%{y}<extra></extra>",
           "hovertext": [
            "Denmark"
           ],
           "legendgroup": "Denmark",
           "marker": {
            "color": "#19d3f3",
            "size": [
             316210770000
            ],
            "sizemode": "area",
            "sizeref": 1119177225,
            "symbol": "circle"
           },
           "mode": "markers",
           "name": "Denmark",
           "orientation": "v",
           "showlegend": true,
           "type": "scatter",
           "x": [
            316210770000
           ],
           "xaxis": "x",
           "y": [
            1083963935
           ],
           "yaxis": "y"
          },
          {
           "hovertemplate": "<b>%{hovertext}</b><br><br>Country=Estonia<br>Year=2018<br>GDP=%{marker.size}<br>RoadSpending=%{y}<extra></extra>",
           "hovertext": [
            "Estonia"
           ],
           "legendgroup": "Estonia",
           "marker": {
            "color": "#FF6692",
            "size": [
             27800930000
            ],
            "sizemode": "area",
            "sizeref": 1119177225,
            "symbol": "circle"
           },
           "mode": "markers",
           "name": "Estonia",
           "orientation": "v",
           "showlegend": true,
           "type": "scatter",
           "x": [
            27800930000
           ],
           "xaxis": "x",
           "y": [
            219000000
           ],
           "yaxis": "y"
          },
          {
           "hovertemplate": "<b>%{hovertext}</b><br><br>Country=Finland<br>Year=2018<br>GDP=%{marker.size}<br>RoadSpending=%{y}<extra></extra>",
           "hovertext": [
            "Finland"
           ],
           "legendgroup": "Finland",
           "marker": {
            "color": "#B6E880",
            "size": [
             243853770000
            ],
            "sizemode": "area",
            "sizeref": 1119177225,
            "symbol": "circle"
           },
           "mode": "markers",
           "name": "Finland",
           "orientation": "v",
           "showlegend": true,
           "type": "scatter",
           "x": [
            243853770000
           ],
           "xaxis": "x",
           "y": [
            1788000000
           ],
           "yaxis": "y"
          },
          {
           "hovertemplate": "<b>%{hovertext}</b><br><br>Country=France<br>Year=2018<br>GDP=%{marker.size}<br>RoadSpending=%{y}<extra></extra>",
           "hovertext": [
            "France"
           ],
           "legendgroup": "France",
           "marker": {
            "color": "#FF97FF",
            "size": [
             2476725820000
            ],
            "sizemode": "area",
            "sizeref": 1119177225,
            "symbol": "circle"
           },
           "mode": "markers",
           "name": "France",
           "orientation": "v",
           "showlegend": true,
           "type": "scatter",
           "x": [
            2476725820000
           ],
           "xaxis": "x",
           "y": [
            9883630000
           ],
           "yaxis": "y"
          },
          {
           "hovertemplate": "<b>%{hovertext}</b><br><br>Country=Germany<br>Year=2018<br>GDP=%{marker.size}<br>RoadSpending=%{y}<extra></extra>",
           "hovertext": [
            "Germany"
           ],
           "legendgroup": "Germany",
           "marker": {
            "color": "#FECB52",
            "size": [
             3607922940000
            ],
            "sizemode": "area",
            "sizeref": 1119177225,
            "symbol": "circle"
           },
           "mode": "markers",
           "name": "Germany",
           "orientation": "v",
           "showlegend": true,
           "type": "scatter",
           "x": [
            3607922940000
           ],
           "xaxis": "x",
           "y": [
            15810000000
           ],
           "yaxis": "y"
          },
          {
           "hovertemplate": "<b>%{hovertext}</b><br><br>Country=Greece<br>Year=2018<br>GDP=%{marker.size}<br>RoadSpending=%{y}<extra></extra>",
           "hovertext": [
            "Greece"
           ],
           "legendgroup": "Greece",
           "marker": {
            "color": "#636efa",
            "size": [
             188809940000
            ],
            "sizemode": "area",
            "sizeref": 1119177225,
            "symbol": "circle"
           },
           "mode": "markers",
           "name": "Greece",
           "orientation": "v",
           "showlegend": true,
           "type": "scatter",
           "x": [
            188809940000
           ],
           "xaxis": "x",
           "y": [
            2158003344
           ],
           "yaxis": "y"
          },
          {
           "hovertemplate": "<b>%{hovertext}</b><br><br>Country=Hungary<br>Year=2018<br>GDP=%{marker.size}<br>RoadSpending=%{y}<extra></extra>",
           "hovertext": [
            "Hungary"
           ],
           "legendgroup": "Hungary",
           "marker": {
            "color": "#EF553B",
            "size": [
             142903740000
            ],
            "sizemode": "area",
            "sizeref": 1119177225,
            "symbol": "circle"
           },
           "mode": "markers",
           "name": "Hungary",
           "orientation": "v",
           "showlegend": true,
           "type": "scatter",
           "x": [
            142903740000
           ],
           "xaxis": "x",
           "y": [
            1780313937
           ],
           "yaxis": "y"
          },
          {
           "hovertemplate": "<b>%{hovertext}</b><br><br>Country=Ireland<br>Year=2018<br>GDP=%{marker.size}<br>RoadSpending=%{y}<extra></extra>",
           "hovertext": [
            "Ireland"
           ],
           "legendgroup": "Ireland",
           "marker": {
            "color": "#00cc96",
            "size": [
             352120490000
            ],
            "sizemode": "area",
            "sizeref": 1119177225,
            "symbol": "circle"
           },
           "mode": "markers",
           "name": "Ireland",
           "orientation": "v",
           "showlegend": true,
           "type": "scatter",
           "x": [
            352120490000
           ],
           "xaxis": "x",
           "y": [
            693000000
           ],
           "yaxis": "y"
          },
          {
           "hovertemplate": "<b>%{hovertext}</b><br><br>Country=Italy<br>Year=2018<br>GDP=%{marker.size}<br>RoadSpending=%{y}<extra></extra>",
           "hovertext": [
            "Italy"
           ],
           "legendgroup": "Italy",
           "marker": {
            "color": "#ab63fa",
            "size": [
             1869344430000.0002
            ],
            "sizemode": "area",
            "sizeref": 1119177225,
            "symbol": "circle"
           },
           "mode": "markers",
           "name": "Italy",
           "orientation": "v",
           "showlegend": true,
           "type": "scatter",
           "x": [
            1869344430000.0002
           ],
           "xaxis": "x",
           "y": [
            6555000000
           ],
           "yaxis": "y"
          },
          {
           "hovertemplate": "<b>%{hovertext}</b><br><br>Country=Latvia<br>Year=2018<br>GDP=%{marker.size}<br>RoadSpending=%{y}<extra></extra>",
           "hovertext": [
            "Latvia"
           ],
           "legendgroup": "Latvia",
           "marker": {
            "color": "#FFA15A",
            "size": [
             30656050000
            ],
            "sizemode": "area",
            "sizeref": 1119177225,
            "symbol": "circle"
           },
           "mode": "markers",
           "name": "Latvia",
           "orientation": "v",
           "showlegend": true,
           "type": "scatter",
           "x": [
            30656050000
           ],
           "xaxis": "x",
           "y": [
            221400000
           ],
           "yaxis": "y"
          },
          {
           "hovertemplate": "<b>%{hovertext}</b><br><br>Country=Lithuania<br>Year=2018<br>GDP=%{marker.size}<br>RoadSpending=%{y}<extra></extra>",
           "hovertext": [
            "Lithuania"
           ],
           "legendgroup": "Lithuania",
           "marker": {
            "color": "#19d3f3",
            "size": [
             47861530000
            ],
            "sizemode": "area",
            "sizeref": 1119177225,
            "symbol": "circle"
           },
           "mode": "markers",
           "name": "Lithuania",
           "orientation": "v",
           "showlegend": true,
           "type": "scatter",
           "x": [
            47861530000
           ],
           "xaxis": "x",
           "y": [
            325000000
           ],
           "yaxis": "y"
          },
          {
           "hovertemplate": "<b>%{hovertext}</b><br><br>Country=Luxembourg<br>Year=2018<br>GDP=%{marker.size}<br>RoadSpending=%{y}<extra></extra>",
           "hovertext": [
            "Luxembourg"
           ],
           "legendgroup": "Luxembourg",
           "marker": {
            "color": "#FF6692",
            "size": [
             63219370000
            ],
            "sizemode": "area",
            "sizeref": 1119177225,
            "symbol": "circle"
           },
           "mode": "markers",
           "name": "Luxembourg",
           "orientation": "v",
           "showlegend": true,
           "type": "scatter",
           "x": [
            63219370000
           ],
           "xaxis": "x",
           "y": [
            188596003.5
           ],
           "yaxis": "y"
          },
          {
           "hovertemplate": "<b>%{hovertext}</b><br><br>Country=Malta<br>Year=2018<br>GDP=%{marker.size}<br>RoadSpending=%{y}<extra></extra>",
           "hovertext": [
            "Malta"
           ],
           "legendgroup": "Malta",
           "marker": {
            "color": "#B6E880",
            "size": [
             14383290000.000002
            ],
            "sizemode": "area",
            "sizeref": 1119177225,
            "symbol": "circle"
           },
           "mode": "markers",
           "name": "Malta",
           "orientation": "v",
           "showlegend": true,
           "type": "scatter",
           "x": [
            14383290000.000002
           ],
           "xaxis": "x",
           "y": [
            null
           ],
           "yaxis": "y"
          },
          {
           "hovertemplate": "<b>%{hovertext}</b><br><br>Country=Netherlands<br>Year=2018<br>GDP=%{marker.size}<br>RoadSpending=%{y}<extra></extra>",
           "hovertext": [
            "Netherlands"
           ],
           "legendgroup": "Netherlands",
           "marker": {
            "color": "#FF97FF",
            "size": [
             827837950000
            ],
            "sizemode": "area",
            "sizeref": 1119177225,
            "symbol": "circle"
           },
           "mode": "markers",
           "name": "Netherlands",
           "orientation": "v",
           "showlegend": true,
           "type": "scatter",
           "x": [
            827837950000
           ],
           "xaxis": "x",
           "y": [
            6511487813
           ],
           "yaxis": "y"
          },
          {
           "hovertemplate": "<b>%{hovertext}</b><br><br>Country=Poland<br>Year=2018<br>GDP=%{marker.size}<br>RoadSpending=%{y}<extra></extra>",
           "hovertext": [
            "Poland"
           ],
           "legendgroup": "Poland",
           "marker": {
            "color": "#FECB52",
            "size": [
             524035560000
            ],
            "sizemode": "area",
            "sizeref": 1119177225,
            "symbol": "circle"
           },
           "mode": "markers",
           "name": "Poland",
           "orientation": "v",
           "showlegend": true,
           "type": "scatter",
           "x": [
            524035560000
           ],
           "xaxis": "x",
           "y": [
            2668638220
           ],
           "yaxis": "y"
          },
          {
           "hovertemplate": "<b>%{hovertext}</b><br><br>Country=Portugal<br>Year=2018<br>GDP=%{marker.size}<br>RoadSpending=%{y}<extra></extra>",
           "hovertext": [
            "Portugal"
           ],
           "legendgroup": "Portugal",
           "marker": {
            "color": "#636efa",
            "size": [
             215756470000
            ],
            "sizemode": "area",
            "sizeref": 1119177225,
            "symbol": "circle"
           },
           "mode": "markers",
           "name": "Portugal",
           "orientation": "v",
           "showlegend": true,
           "type": "scatter",
           "x": [
            215756470000
           ],
           "xaxis": "x",
           "y": [
            null
           ],
           "yaxis": "y"
          },
          {
           "hovertemplate": "<b>%{hovertext}</b><br><br>Country=Romania<br>Year=2018<br>GDP=%{marker.size}<br>RoadSpending=%{y}<extra></extra>",
           "hovertext": [
            "Romania"
           ],
           "legendgroup": "Romania",
           "marker": {
            "color": "#EF553B",
            "size": [
             216713220000
            ],
            "sizemode": "area",
            "sizeref": 1119177225,
            "symbol": "circle"
           },
           "mode": "markers",
           "name": "Romania",
           "orientation": "v",
           "showlegend": true,
           "type": "scatter",
           "x": [
            216713220000
           ],
           "xaxis": "x",
           "y": [
            2181564246
           ],
           "yaxis": "y"
          },
          {
           "hovertemplate": "<b>%{hovertext}</b><br><br>Country=Slovak Republic<br>Year=2018<br>GDP=%{marker.size}<br>RoadSpending=%{y}<extra></extra>",
           "hovertext": [
            "Slovak Republic"
           ],
           "legendgroup": "Slovak Republic",
           "marker": {
            "color": "#00cc96",
            "size": [
             94505540000
            ],
            "sizemode": "area",
            "sizeref": 1119177225,
            "symbol": "circle"
           },
           "mode": "markers",
           "name": "Slovak Republic",
           "orientation": "v",
           "showlegend": true,
           "type": "scatter",
           "x": [
            94505540000
           ],
           "xaxis": "x",
           "y": [
            768840000
           ],
           "yaxis": "y"
          },
          {
           "hovertemplate": "<b>%{hovertext}</b><br><br>Country=Slovenia<br>Year=2018<br>GDP=%{marker.size}<br>RoadSpending=%{y}<extra></extra>",
           "hovertext": [
            "Slovenia"
           ],
           "legendgroup": "Slovenia",
           "marker": {
            "color": "#ab63fa",
            "size": [
             47804570000
            ],
            "sizemode": "area",
            "sizeref": 1119177225,
            "symbol": "circle"
           },
           "mode": "markers",
           "name": "Slovenia",
           "orientation": "v",
           "showlegend": true,
           "type": "scatter",
           "x": [
            47804570000
           ],
           "xaxis": "x",
           "y": [
            330000000
           ],
           "yaxis": "y"
          },
          {
           "hovertemplate": "<b>%{hovertext}</b><br><br>Country=Spain<br>Year=2018<br>GDP=%{marker.size}<br>RoadSpending=%{y}<extra></extra>",
           "hovertext": [
            "Spain"
           ],
           "legendgroup": "Spain",
           "marker": {
            "color": "#FFA15A",
            "size": [
             1274739880000
            ],
            "sizemode": "area",
            "sizeref": 1119177225,
            "symbol": "circle"
           },
           "mode": "markers",
           "name": "Spain",
           "orientation": "v",
           "showlegend": true,
           "type": "scatter",
           "x": [
            1274739880000
           ],
           "xaxis": "x",
           "y": [
            3518000000
           ],
           "yaxis": "y"
          },
          {
           "hovertemplate": "<b>%{hovertext}</b><br><br>Country=Sweden<br>Year=2018<br>GDP=%{marker.size}<br>RoadSpending=%{y}<extra></extra>",
           "hovertext": [
            "Sweden"
           ],
           "legendgroup": "Sweden",
           "marker": {
            "color": "#19d3f3",
            "size": [
             490667680000
            ],
            "sizemode": "area",
            "sizeref": 1119177225,
            "symbol": "circle"
           },
           "mode": "markers",
           "name": "Sweden",
           "orientation": "v",
           "showlegend": true,
           "type": "scatter",
           "x": [
            490667680000
           ],
           "xaxis": "x",
           "y": [
            2497001960
           ],
           "yaxis": "y"
          }
         ],
         "name": "2018"
        },
        {
         "data": [
          {
           "hovertemplate": "<b>%{hovertext}</b><br><br>Country=Austria<br>Year=2019<br>GDP=%{marker.size}<br>RoadSpending=%{y}<extra></extra>",
           "hovertext": [
            "Austria"
           ],
           "legendgroup": "Austria",
           "marker": {
            "color": "#636efa",
            "size": [
             395734050000
            ],
            "sizemode": "area",
            "sizeref": 1119177225,
            "symbol": "circle"
           },
           "mode": "markers",
           "name": "Austria",
           "orientation": "v",
           "showlegend": true,
           "type": "scatter",
           "x": [
            395734050000
           ],
           "xaxis": "x",
           "y": [
            null
           ],
           "yaxis": "y"
          },
          {
           "hovertemplate": "<b>%{hovertext}</b><br><br>Country=Belgium<br>Year=2019<br>GDP=%{marker.size}<br>RoadSpending=%{y}<extra></extra>",
           "hovertext": [
            "Belgium"
           ],
           "legendgroup": "Belgium",
           "marker": {
            "color": "#EF553B",
            "size": [
             476973249999.99994
            ],
            "sizemode": "area",
            "sizeref": 1119177225,
            "symbol": "circle"
           },
           "mode": "markers",
           "name": "Belgium",
           "orientation": "v",
           "showlegend": true,
           "type": "scatter",
           "x": [
            476973249999.99994
           ],
           "xaxis": "x",
           "y": [
            735000000
           ],
           "yaxis": "y"
          },
          {
           "hovertemplate": "<b>%{hovertext}</b><br><br>Country=Bulgaria<br>Year=2019<br>GDP=%{marker.size}<br>RoadSpending=%{y}<extra></extra>",
           "hovertext": [
            "Bulgaria"
           ],
           "legendgroup": "Bulgaria",
           "marker": {
            "color": "#00cc96",
            "size": [
             61311210000
            ],
            "sizemode": "area",
            "sizeref": 1119177225,
            "symbol": "circle"
           },
           "mode": "markers",
           "name": "Bulgaria",
           "orientation": "v",
           "showlegend": true,
           "type": "scatter",
           "x": [
            61311210000
           ],
           "xaxis": "x",
           "y": [
            528172614.8
           ],
           "yaxis": "y"
          },
          {
           "hovertemplate": "<b>%{hovertext}</b><br><br>Country=Croatia<br>Year=2019<br>GDP=%{marker.size}<br>RoadSpending=%{y}<extra></extra>",
           "hovertext": [
            "Croatia"
           ],
           "legendgroup": "Croatia",
           "marker": {
            "color": "#ab63fa",
            "size": [
             55065190000
            ],
            "sizemode": "area",
            "sizeref": 1119177225,
            "symbol": "circle"
           },
           "mode": "markers",
           "name": "Croatia",
           "orientation": "v",
           "showlegend": true,
           "type": "scatter",
           "x": [
            55065190000
           ],
           "xaxis": "x",
           "y": [
            349326431.7
           ],
           "yaxis": "y"
          },
          {
           "hovertemplate": "<b>%{hovertext}</b><br><br>Country=Czechia<br>Year=2019<br>GDP=%{marker.size}<br>RoadSpending=%{y}<extra></extra>",
           "hovertext": [
            "Czechia"
           ],
           "legendgroup": "Czechia",
           "marker": {
            "color": "#FFA15A",
            "size": [
             228546659999.99997
            ],
            "sizemode": "area",
            "sizeref": 1119177225,
            "symbol": "circle"
           },
           "mode": "markers",
           "name": "Czechia",
           "orientation": "v",
           "showlegend": true,
           "type": "scatter",
           "x": [
            228546659999.99997
           ],
           "xaxis": "x",
           "y": [
            1383064925
           ],
           "yaxis": "y"
          },
          {
           "hovertemplate": "<b>%{hovertext}</b><br><br>Country=Denmark<br>Year=2019<br>GDP=%{marker.size}<br>RoadSpending=%{y}<extra></extra>",
           "hovertext": [
            "Denmark"
           ],
           "legendgroup": "Denmark",
           "marker": {
            "color": "#19d3f3",
            "size": [
             307407780000
            ],
            "sizemode": "area",
            "sizeref": 1119177225,
            "symbol": "circle"
           },
           "mode": "markers",
           "name": "Denmark",
           "orientation": "v",
           "showlegend": true,
           "type": "scatter",
           "x": [
            307407780000
           ],
           "xaxis": "x",
           "y": [
            null
           ],
           "yaxis": "y"
          },
          {
           "hovertemplate": "<b>%{hovertext}</b><br><br>Country=Estonia<br>Year=2019<br>GDP=%{marker.size}<br>RoadSpending=%{y}<extra></extra>",
           "hovertext": [
            "Estonia"
           ],
           "legendgroup": "Estonia",
           "marker": {
            "color": "#FF6692",
            "size": [
             28370530000
            ],
            "sizemode": "area",
            "sizeref": 1119177225,
            "symbol": "circle"
           },
           "mode": "markers",
           "name": "Estonia",
           "orientation": "v",
           "showlegend": true,
           "type": "scatter",
           "x": [
            28370530000
           ],
           "xaxis": "x",
           "y": [
            220000000
           ],
           "yaxis": "y"
          },
          {
           "hovertemplate": "<b>%{hovertext}</b><br><br>Country=Finland<br>Year=2019<br>GDP=%{marker.size}<br>RoadSpending=%{y}<extra></extra>",
           "hovertext": [
            "Finland"
           ],
           "legendgroup": "Finland",
           "marker": {
            "color": "#B6E880",
            "size": [
             237669159999.99997
            ],
            "sizemode": "area",
            "sizeref": 1119177225,
            "symbol": "circle"
           },
           "mode": "markers",
           "name": "Finland",
           "orientation": "v",
           "showlegend": true,
           "type": "scatter",
           "x": [
            237669159999.99997
           ],
           "xaxis": "x",
           "y": [
            1727000000
           ],
           "yaxis": "y"
          },
          {
           "hovertemplate": "<b>%{hovertext}</b><br><br>Country=France<br>Year=2019<br>GDP=%{marker.size}<br>RoadSpending=%{y}<extra></extra>",
           "hovertext": [
            "France"
           ],
           "legendgroup": "France",
           "marker": {
            "color": "#FF97FF",
            "size": [
             2423553660000
            ],
            "sizemode": "area",
            "sizeref": 1119177225,
            "symbol": "circle"
           },
           "mode": "markers",
           "name": "France",
           "orientation": "v",
           "showlegend": true,
           "type": "scatter",
           "x": [
            2423553660000
           ],
           "xaxis": "x",
           "y": [
            10413000000
           ],
           "yaxis": "y"
          },
          {
           "hovertemplate": "<b>%{hovertext}</b><br><br>Country=Germany<br>Year=2019<br>GDP=%{marker.size}<br>RoadSpending=%{y}<extra></extra>",
           "hovertext": [
            "Germany"
           ],
           "legendgroup": "Germany",
           "marker": {
            "color": "#FECB52",
            "size": [
             3522304050000
            ],
            "sizemode": "area",
            "sizeref": 1119177225,
            "symbol": "circle"
           },
           "mode": "markers",
           "name": "Germany",
           "orientation": "v",
           "showlegend": true,
           "type": "scatter",
           "x": [
            3522304050000
           ],
           "xaxis": "x",
           "y": [
            15660000000
           ],
           "yaxis": "y"
          },
          {
           "hovertemplate": "<b>%{hovertext}</b><br><br>Country=Greece<br>Year=2019<br>GDP=%{marker.size}<br>RoadSpending=%{y}<extra></extra>",
           "hovertext": [
            "Greece"
           ],
           "legendgroup": "Greece",
           "marker": {
            "color": "#636efa",
            "size": [
             182694750000
            ],
            "sizemode": "area",
            "sizeref": 1119177225,
            "symbol": "circle"
           },
           "mode": "markers",
           "name": "Greece",
           "orientation": "v",
           "showlegend": true,
           "type": "scatter",
           "x": [
            182694750000
           ],
           "xaxis": "x",
           "y": [
            740871728.9
           ],
           "yaxis": "y"
          },
          {
           "hovertemplate": "<b>%{hovertext}</b><br><br>Country=Hungary<br>Year=2019<br>GDP=%{marker.size}<br>RoadSpending=%{y}<extra></extra>",
           "hovertext": [
            "Hungary"
           ],
           "legendgroup": "Hungary",
           "marker": {
            "color": "#EF553B",
            "size": [
             145969790000
            ],
            "sizemode": "area",
            "sizeref": 1119177225,
            "symbol": "circle"
           },
           "mode": "markers",
           "name": "Hungary",
           "orientation": "v",
           "showlegend": true,
           "type": "scatter",
           "x": [
            145969790000
           ],
           "xaxis": "x",
           "y": [
            2288587059
           ],
           "yaxis": "y"
          },
          {
           "hovertemplate": "<b>%{hovertext}</b><br><br>Country=Ireland<br>Year=2019<br>GDP=%{marker.size}<br>RoadSpending=%{y}<extra></extra>",
           "hovertext": [
            "Ireland"
           ],
           "legendgroup": "Ireland",
           "marker": {
            "color": "#00cc96",
            "size": [
             362381300000
            ],
            "sizemode": "area",
            "sizeref": 1119177225,
            "symbol": "circle"
           },
           "mode": "markers",
           "name": "Ireland",
           "orientation": "v",
           "showlegend": true,
           "type": "scatter",
           "x": [
            362381300000
           ],
           "xaxis": "x",
           "y": [
            837000000
           ],
           "yaxis": "y"
          },
          {
           "hovertemplate": "<b>%{hovertext}</b><br><br>Country=Italy<br>Year=2019<br>GDP=%{marker.size}<br>RoadSpending=%{y}<extra></extra>",
           "hovertext": [
            "Italy"
           ],
           "legendgroup": "Italy",
           "marker": {
            "color": "#ab63fa",
            "size": [
             1797648700000
            ],
            "sizemode": "area",
            "sizeref": 1119177225,
            "symbol": "circle"
           },
           "mode": "markers",
           "name": "Italy",
           "orientation": "v",
           "showlegend": true,
           "type": "scatter",
           "x": [
            1797648700000
           ],
           "xaxis": "x",
           "y": [
            4310000000
           ],
           "yaxis": "y"
          },
          {
           "hovertemplate": "<b>%{hovertext}</b><br><br>Country=Latvia<br>Year=2019<br>GDP=%{marker.size}<br>RoadSpending=%{y}<extra></extra>",
           "hovertext": [
            "Latvia"
           ],
           "legendgroup": "Latvia",
           "marker": {
            "color": "#FFA15A",
            "size": [
             30463810000
            ],
            "sizemode": "area",
            "sizeref": 1119177225,
            "symbol": "circle"
           },
           "mode": "markers",
           "name": "Latvia",
           "orientation": "v",
           "showlegend": true,
           "type": "scatter",
           "x": [
            30463810000
           ],
           "xaxis": "x",
           "y": [
            223000000
           ],
           "yaxis": "y"
          },
          {
           "hovertemplate": "<b>%{hovertext}</b><br><br>Country=Lithuania<br>Year=2019<br>GDP=%{marker.size}<br>RoadSpending=%{y}<extra></extra>",
           "hovertext": [
            "Lithuania"
           ],
           "legendgroup": "Lithuania",
           "marker": {
            "color": "#19d3f3",
            "size": [
             48799590000
            ],
            "sizemode": "area",
            "sizeref": 1119177225,
            "symbol": "circle"
           },
           "mode": "markers",
           "name": "Lithuania",
           "orientation": "v",
           "showlegend": true,
           "type": "scatter",
           "x": [
            48799590000
           ],
           "xaxis": "x",
           "y": [
            352000000
           ],
           "yaxis": "y"
          },
          {
           "hovertemplate": "<b>%{hovertext}</b><br><br>Country=Luxembourg<br>Year=2019<br>GDP=%{marker.size}<br>RoadSpending=%{y}<extra></extra>",
           "hovertext": [
            "Luxembourg"
           ],
           "legendgroup": "Luxembourg",
           "marker": {
            "color": "#FF6692",
            "size": [
             62209220000
            ],
            "sizemode": "area",
            "sizeref": 1119177225,
            "symbol": "circle"
           },
           "mode": "markers",
           "name": "Luxembourg",
           "orientation": "v",
           "showlegend": true,
           "type": "scatter",
           "x": [
            62209220000
           ],
           "xaxis": "x",
           "y": [
            260016912.7
           ],
           "yaxis": "y"
          },
          {
           "hovertemplate": "<b>%{hovertext}</b><br><br>Country=Malta<br>Year=2019<br>GDP=%{marker.size}<br>RoadSpending=%{y}<extra></extra>",
           "hovertext": [
            "Malta"
           ],
           "legendgroup": "Malta",
           "marker": {
            "color": "#B6E880",
            "size": [
             14542600000
            ],
            "sizemode": "area",
            "sizeref": 1119177225,
            "symbol": "circle"
           },
           "mode": "markers",
           "name": "Malta",
           "orientation": "v",
           "showlegend": true,
           "type": "scatter",
           "x": [
            14542600000
           ],
           "xaxis": "x",
           "y": [
            null
           ],
           "yaxis": "y"
          },
          {
           "hovertemplate": "<b>%{hovertext}</b><br><br>Country=Netherlands<br>Year=2019<br>GDP=%{marker.size}<br>RoadSpending=%{y}<extra></extra>",
           "hovertext": [
            "Netherlands"
           ],
           "legendgroup": "Netherlands",
           "marker": {
            "color": "#FF97FF",
            "size": [
             826815340000
            ],
            "sizemode": "area",
            "sizeref": 1119177225,
            "symbol": "circle"
           },
           "mode": "markers",
           "name": "Netherlands",
           "orientation": "v",
           "showlegend": true,
           "type": "scatter",
           "x": [
            826815340000
           ],
           "xaxis": "x",
           "y": [
            6434722608
           ],
           "yaxis": "y"
          },
          {
           "hovertemplate": "<b>%{hovertext}</b><br><br>Country=Poland<br>Year=2019<br>GDP=%{marker.size}<br>RoadSpending=%{y}<extra></extra>",
           "hovertext": [
            "Poland"
           ],
           "legendgroup": "Poland",
           "marker": {
            "color": "#FECB52",
            "size": [
             530411520000
            ],
            "sizemode": "area",
            "sizeref": 1119177225,
            "symbol": "circle"
           },
           "mode": "markers",
           "name": "Poland",
           "orientation": "v",
           "showlegend": true,
           "type": "scatter",
           "x": [
            530411520000
           ],
           "xaxis": "x",
           "y": [
            2415357766
           ],
           "yaxis": "y"
          },
          {
           "hovertemplate": "<b>%{hovertext}</b><br><br>Country=Portugal<br>Year=2019<br>GDP=%{marker.size}<br>RoadSpending=%{y}<extra></extra>",
           "hovertext": [
            "Portugal"
           ],
           "legendgroup": "Portugal",
           "marker": {
            "color": "#636efa",
            "size": [
             213611570000
            ],
            "sizemode": "area",
            "sizeref": 1119177225,
            "symbol": "circle"
           },
           "mode": "markers",
           "name": "Portugal",
           "orientation": "v",
           "showlegend": true,
           "type": "scatter",
           "x": [
            213611570000
           ],
           "xaxis": "x",
           "y": [
            null
           ],
           "yaxis": "y"
          },
          {
           "hovertemplate": "<b>%{hovertext}</b><br><br>Country=Romania<br>Year=2019<br>GDP=%{marker.size}<br>RoadSpending=%{y}<extra></extra>",
           "hovertext": [
            "Romania"
           ],
           "legendgroup": "Romania",
           "marker": {
            "color": "#EF553B",
            "size": [
             223383770000
            ],
            "sizemode": "area",
            "sizeref": 1119177225,
            "symbol": "circle"
           },
           "mode": "markers",
           "name": "Romania",
           "orientation": "v",
           "showlegend": true,
           "type": "scatter",
           "x": [
            223383770000
           ],
           "xaxis": "x",
           "y": [
            null
           ],
           "yaxis": "y"
          },
          {
           "hovertemplate": "<b>%{hovertext}</b><br><br>Country=Slovak Republic<br>Year=2019<br>GDP=%{marker.size}<br>RoadSpending=%{y}<extra></extra>",
           "hovertext": [
            "Slovak Republic"
           ],
           "legendgroup": "Slovak Republic",
           "marker": {
            "color": "#00cc96",
            "size": [
             94093470000
            ],
            "sizemode": "area",
            "sizeref": 1119177225,
            "symbol": "circle"
           },
           "mode": "markers",
           "name": "Slovak Republic",
           "orientation": "v",
           "showlegend": true,
           "type": "scatter",
           "x": [
            94093470000
           ],
           "xaxis": "x",
           "y": [
            null
           ],
           "yaxis": "y"
          },
          {
           "hovertemplate": "<b>%{hovertext}</b><br><br>Country=Slovenia<br>Year=2019<br>GDP=%{marker.size}<br>RoadSpending=%{y}<extra></extra>",
           "hovertext": [
            "Slovenia"
           ],
           "legendgroup": "Slovenia",
           "marker": {
            "color": "#ab63fa",
            "size": [
             47985240000
            ],
            "sizemode": "area",
            "sizeref": 1119177225,
            "symbol": "circle"
           },
           "mode": "markers",
           "name": "Slovenia",
           "orientation": "v",
           "showlegend": true,
           "type": "scatter",
           "x": [
            47985240000
           ],
           "xaxis": "x",
           "y": [
            306000000
           ],
           "yaxis": "y"
          },
          {
           "hovertemplate": "<b>%{hovertext}</b><br><br>Country=Spain<br>Year=2019<br>GDP=%{marker.size}<br>RoadSpending=%{y}<extra></extra>",
           "hovertext": [
            "Spain"
           ],
           "legendgroup": "Spain",
           "marker": {
            "color": "#FFA15A",
            "size": [
             1249249390000
            ],
            "sizemode": "area",
            "sizeref": 1119177225,
            "symbol": "circle"
           },
           "mode": "markers",
           "name": "Spain",
           "orientation": "v",
           "showlegend": true,
           "type": "scatter",
           "x": [
            1249249390000
           ],
           "xaxis": "x",
           "y": [
            3625000000
           ],
           "yaxis": "y"
          },
          {
           "hovertemplate": "<b>%{hovertext}</b><br><br>Country=Sweden<br>Year=2019<br>GDP=%{marker.size}<br>RoadSpending=%{y}<extra></extra>",
           "hovertext": [
            "Sweden"
           ],
           "legendgroup": "Sweden",
           "marker": {
            "color": "#19d3f3",
            "size": [
             473630410000
            ],
            "sizemode": "area",
            "sizeref": 1119177225,
            "symbol": "circle"
           },
           "mode": "markers",
           "name": "Sweden",
           "orientation": "v",
           "showlegend": true,
           "type": "scatter",
           "x": [
            473630410000
           ],
           "xaxis": "x",
           "y": [
            2503424108
           ],
           "yaxis": "y"
          }
         ],
         "name": "2019"
        },
        {
         "data": [
          {
           "hovertemplate": "<b>%{hovertext}</b><br><br>Country=Austria<br>Year=2020<br>GDP=%{marker.size}<br>RoadSpending=%{y}<extra></extra>",
           "hovertext": [
            "Austria"
           ],
           "legendgroup": "Austria",
           "marker": {
            "color": "#636efa",
            "size": [
             386883890000
            ],
            "sizemode": "area",
            "sizeref": 1119177225,
            "symbol": "circle"
           },
           "mode": "markers",
           "name": "Austria",
           "orientation": "v",
           "showlegend": true,
           "type": "scatter",
           "x": [
            386883890000
           ],
           "xaxis": "x",
           "y": [
            null
           ],
           "yaxis": "y"
          },
          {
           "hovertemplate": "<b>%{hovertext}</b><br><br>Country=Belgium<br>Year=2020<br>GDP=%{marker.size}<br>RoadSpending=%{y}<extra></extra>",
           "hovertext": [
            "Belgium"
           ],
           "legendgroup": "Belgium",
           "marker": {
            "color": "#EF553B",
            "size": [
             467784000000
            ],
            "sizemode": "area",
            "sizeref": 1119177225,
            "symbol": "circle"
           },
           "mode": "markers",
           "name": "Belgium",
           "orientation": "v",
           "showlegend": true,
           "type": "scatter",
           "x": [
            467784000000
           ],
           "xaxis": "x",
           "y": [
            607000000
           ],
           "yaxis": "y"
          },
          {
           "hovertemplate": "<b>%{hovertext}</b><br><br>Country=Bulgaria<br>Year=2020<br>GDP=%{marker.size}<br>RoadSpending=%{y}<extra></extra>",
           "hovertext": [
            "Bulgaria"
           ],
           "legendgroup": "Bulgaria",
           "marker": {
            "color": "#00cc96",
            "size": [
             62576790000
            ],
            "sizemode": "area",
            "sizeref": 1119177225,
            "symbol": "circle"
           },
           "mode": "markers",
           "name": "Bulgaria",
           "orientation": "v",
           "showlegend": true,
           "type": "scatter",
           "x": [
            62576790000
           ],
           "xaxis": "x",
           "y": [
            525104816.4
           ],
           "yaxis": "y"
          },
          {
           "hovertemplate": "<b>%{hovertext}</b><br><br>Country=Croatia<br>Year=2020<br>GDP=%{marker.size}<br>RoadSpending=%{y}<extra></extra>",
           "hovertext": [
            "Croatia"
           ],
           "legendgroup": "Croatia",
           "marker": {
            "color": "#ab63fa",
            "size": [
             51779310000
            ],
            "sizemode": "area",
            "sizeref": 1119177225,
            "symbol": "circle"
           },
           "mode": "markers",
           "name": "Croatia",
           "orientation": "v",
           "showlegend": true,
           "type": "scatter",
           "x": [
            51779310000
           ],
           "xaxis": "x",
           "y": [
            442232397.6
           ],
           "yaxis": "y"
          },
          {
           "hovertemplate": "<b>%{hovertext}</b><br><br>Country=Czechia<br>Year=2020<br>GDP=%{marker.size}<br>RoadSpending=%{y}<extra></extra>",
           "hovertext": [
            "Czechia"
           ],
           "legendgroup": "Czechia",
           "marker": {
            "color": "#FFA15A",
            "size": [
             223487900000
            ],
            "sizemode": "area",
            "sizeref": 1119177225,
            "symbol": "circle"
           },
           "mode": "markers",
           "name": "Czechia",
           "orientation": "v",
           "showlegend": true,
           "type": "scatter",
           "x": [
            223487900000
           ],
           "xaxis": "x",
           "y": [
            1640906428
           ],
           "yaxis": "y"
          },
          {
           "hovertemplate": "<b>%{hovertext}</b><br><br>Country=Denmark<br>Year=2020<br>GDP=%{marker.size}<br>RoadSpending=%{y}<extra></extra>",
           "hovertext": [
            "Denmark"
           ],
           "legendgroup": "Denmark",
           "marker": {
            "color": "#19d3f3",
            "size": [
             316511590000
            ],
            "sizemode": "area",
            "sizeref": 1119177225,
            "symbol": "circle"
           },
           "mode": "markers",
           "name": "Denmark",
           "orientation": "v",
           "showlegend": true,
           "type": "scatter",
           "x": [
            316511590000
           ],
           "xaxis": "x",
           "y": [
            null
           ],
           "yaxis": "y"
          },
          {
           "hovertemplate": "<b>%{hovertext}</b><br><br>Country=Estonia<br>Year=2020<br>GDP=%{marker.size}<br>RoadSpending=%{y}<extra></extra>",
           "hovertext": [
            "Estonia"
           ],
           "legendgroup": "Estonia",
           "marker": {
            "color": "#FF6692",
            "size": [
             28293990000
            ],
            "sizemode": "area",
            "sizeref": 1119177225,
            "symbol": "circle"
           },
           "mode": "markers",
           "name": "Estonia",
           "orientation": "v",
           "showlegend": true,
           "type": "scatter",
           "x": [
            28293990000
           ],
           "xaxis": "x",
           "y": [
            244000000
           ],
           "yaxis": "y"
          },
          {
           "hovertemplate": "<b>%{hovertext}</b><br><br>Country=Finland<br>Year=2020<br>GDP=%{marker.size}<br>RoadSpending=%{y}<extra></extra>",
           "hovertext": [
            "Finland"
           ],
           "legendgroup": "Finland",
           "marker": {
            "color": "#B6E880",
            "size": [
             240107760000
            ],
            "sizemode": "area",
            "sizeref": 1119177225,
            "symbol": "circle"
           },
           "mode": "markers",
           "name": "Finland",
           "orientation": "v",
           "showlegend": true,
           "type": "scatter",
           "x": [
            240107760000
           ],
           "xaxis": "x",
           "y": [
            1789000000
           ],
           "yaxis": "y"
          },
          {
           "hovertemplate": "<b>%{hovertext}</b><br><br>Country=France<br>Year=2020<br>GDP=%{marker.size}<br>RoadSpending=%{y}<extra></extra>",
           "hovertext": [
            "France"
           ],
           "legendgroup": "France",
           "marker": {
            "color": "#FF97FF",
            "size": [
             2354767340000
            ],
            "sizemode": "area",
            "sizeref": 1119177225,
            "symbol": "circle"
           },
           "mode": "markers",
           "name": "France",
           "orientation": "v",
           "showlegend": true,
           "type": "scatter",
           "x": [
            2354767340000
           ],
           "xaxis": "x",
           "y": [
            9630572000
           ],
           "yaxis": "y"
          },
          {
           "hovertemplate": "<b>%{hovertext}</b><br><br>Country=Germany<br>Year=2020<br>GDP=%{marker.size}<br>RoadSpending=%{y}<extra></extra>",
           "hovertext": [
            "Germany"
           ],
           "legendgroup": "Germany",
           "marker": {
            "color": "#FECB52",
            "size": [
             3503920210000
            ],
            "sizemode": "area",
            "sizeref": 1119177225,
            "symbol": "circle"
           },
           "mode": "markers",
           "name": "Germany",
           "orientation": "v",
           "showlegend": true,
           "type": "scatter",
           "x": [
            3503920210000
           ],
           "xaxis": "x",
           "y": [
            15920000000
           ],
           "yaxis": "y"
          },
          {
           "hovertemplate": "<b>%{hovertext}</b><br><br>Country=Greece<br>Year=2020<br>GDP=%{marker.size}<br>RoadSpending=%{y}<extra></extra>",
           "hovertext": [
            "Greece"
           ],
           "legendgroup": "Greece",
           "marker": {
            "color": "#636efa",
            "size": [
             167612810000
            ],
            "sizemode": "area",
            "sizeref": 1119177225,
            "symbol": "circle"
           },
           "mode": "markers",
           "name": "Greece",
           "orientation": "v",
           "showlegend": true,
           "type": "scatter",
           "x": [
            167612810000
           ],
           "xaxis": "x",
           "y": [
            735556078
           ],
           "yaxis": "y"
          },
          {
           "hovertemplate": "<b>%{hovertext}</b><br><br>Country=Hungary<br>Year=2020<br>GDP=%{marker.size}<br>RoadSpending=%{y}<extra></extra>",
           "hovertext": [
            "Hungary"
           ],
           "legendgroup": "Hungary",
           "marker": {
            "color": "#EF553B",
            "size": [
             139987210000
            ],
            "sizemode": "area",
            "sizeref": 1119177225,
            "symbol": "circle"
           },
           "mode": "markers",
           "name": "Hungary",
           "orientation": "v",
           "showlegend": true,
           "type": "scatter",
           "x": [
            139987210000
           ],
           "xaxis": "x",
           "y": [
            1820222428
           ],
           "yaxis": "y"
          },
          {
           "hovertemplate": "<b>%{hovertext}</b><br><br>Country=Ireland<br>Year=2020<br>GDP=%{marker.size}<br>RoadSpending=%{y}<extra></extra>",
           "hovertext": [
            "Ireland"
           ],
           "legendgroup": "Ireland",
           "marker": {
            "color": "#00cc96",
            "size": [
             388222450000
            ],
            "sizemode": "area",
            "sizeref": 1119177225,
            "symbol": "circle"
           },
           "mode": "markers",
           "name": "Ireland",
           "orientation": "v",
           "showlegend": true,
           "type": "scatter",
           "x": [
            388222450000
           ],
           "xaxis": "x",
           "y": [
            503000000
           ],
           "yaxis": "y"
          },
          {
           "hovertemplate": "<b>%{hovertext}</b><br><br>Country=Italy<br>Year=2020<br>GDP=%{marker.size}<br>RoadSpending=%{y}<extra></extra>",
           "hovertext": [
            "Italy"
           ],
           "legendgroup": "Italy",
           "marker": {
            "color": "#ab63fa",
            "size": [
             1696299060000
            ],
            "sizemode": "area",
            "sizeref": 1119177225,
            "symbol": "circle"
           },
           "mode": "markers",
           "name": "Italy",
           "orientation": "v",
           "showlegend": true,
           "type": "scatter",
           "x": [
            1696299060000
           ],
           "xaxis": "x",
           "y": [
            4393000000
           ],
           "yaxis": "y"
          },
          {
           "hovertemplate": "<b>%{hovertext}</b><br><br>Country=Latvia<br>Year=2020<br>GDP=%{marker.size}<br>RoadSpending=%{y}<extra></extra>",
           "hovertext": [
            "Latvia"
           ],
           "legendgroup": "Latvia",
           "marker": {
            "color": "#FFA15A",
            "size": [
             30583070000
            ],
            "sizemode": "area",
            "sizeref": 1119177225,
            "symbol": "circle"
           },
           "mode": "markers",
           "name": "Latvia",
           "orientation": "v",
           "showlegend": true,
           "type": "scatter",
           "x": [
            30583070000
           ],
           "xaxis": "x",
           "y": [
            198000000
           ],
           "yaxis": "y"
          },
          {
           "hovertemplate": "<b>%{hovertext}</b><br><br>Country=Lithuania<br>Year=2020<br>GDP=%{marker.size}<br>RoadSpending=%{y}<extra></extra>",
           "hovertext": [
            "Lithuania"
           ],
           "legendgroup": "Lithuania",
           "marker": {
            "color": "#19d3f3",
            "size": [
             50616970000
            ],
            "sizemode": "area",
            "sizeref": 1119177225,
            "symbol": "circle"
           },
           "mode": "markers",
           "name": "Lithuania",
           "orientation": "v",
           "showlegend": true,
           "type": "scatter",
           "x": [
            50616970000
           ],
           "xaxis": "x",
           "y": [
            466000000
           ],
           "yaxis": "y"
          },
          {
           "hovertemplate": "<b>%{hovertext}</b><br><br>Country=Luxembourg<br>Year=2020<br>GDP=%{marker.size}<br>RoadSpending=%{y}<extra></extra>",
           "hovertext": [
            "Luxembourg"
           ],
           "legendgroup": "Luxembourg",
           "marker": {
            "color": "#FF6692",
            "size": [
             65539600000
            ],
            "sizemode": "area",
            "sizeref": 1119177225,
            "symbol": "circle"
           },
           "mode": "markers",
           "name": "Luxembourg",
           "orientation": "v",
           "showlegend": true,
           "type": "scatter",
           "x": [
            65539600000
           ],
           "xaxis": "x",
           "y": [
            246225524.7
           ],
           "yaxis": "y"
          },
          {
           "hovertemplate": "<b>%{hovertext}</b><br><br>Country=Malta<br>Year=2020<br>GDP=%{marker.size}<br>RoadSpending=%{y}<extra></extra>",
           "hovertext": [
            "Malta"
           ],
           "legendgroup": "Malta",
           "marker": {
            "color": "#B6E880",
            "size": [
             14571970000.000002
            ],
            "sizemode": "area",
            "sizeref": 1119177225,
            "symbol": "circle"
           },
           "mode": "markers",
           "name": "Malta",
           "orientation": "v",
           "showlegend": true,
           "type": "scatter",
           "x": [
            14571970000.000002
           ],
           "xaxis": "x",
           "y": [
            null
           ],
           "yaxis": "y"
          },
          {
           "hovertemplate": "<b>%{hovertext}</b><br><br>Country=Netherlands<br>Year=2020<br>GDP=%{marker.size}<br>RoadSpending=%{y}<extra></extra>",
           "hovertext": [
            "Netherlands"
           ],
           "legendgroup": "Netherlands",
           "marker": {
            "color": "#FF97FF",
            "size": [
             829314460000
            ],
            "sizemode": "area",
            "sizeref": 1119177225,
            "symbol": "circle"
           },
           "mode": "markers",
           "name": "Netherlands",
           "orientation": "v",
           "showlegend": true,
           "type": "scatter",
           "x": [
            829314460000
           ],
           "xaxis": "x",
           "y": [
            6958158969
           ],
           "yaxis": "y"
          },
          {
           "hovertemplate": "<b>%{hovertext}</b><br><br>Country=Poland<br>Year=2020<br>GDP=%{marker.size}<br>RoadSpending=%{y}<extra></extra>",
           "hovertext": [
            "Poland"
           ],
           "legendgroup": "Poland",
           "marker": {
            "color": "#FECB52",
            "size": [
             533517620000
            ],
            "sizemode": "area",
            "sizeref": 1119177225,
            "symbol": "circle"
           },
           "mode": "markers",
           "name": "Poland",
           "orientation": "v",
           "showlegend": true,
           "type": "scatter",
           "x": [
            533517620000
           ],
           "xaxis": "x",
           "y": [
            3207598127
           ],
           "yaxis": "y"
          },
          {
           "hovertemplate": "<b>%{hovertext}</b><br><br>Country=Portugal<br>Year=2020<br>GDP=%{marker.size}<br>RoadSpending=%{y}<extra></extra>",
           "hovertext": [
            "Portugal"
           ],
           "legendgroup": "Portugal",
           "marker": {
            "color": "#636efa",
            "size": [
             203675610000
            ],
            "sizemode": "area",
            "sizeref": 1119177225,
            "symbol": "circle"
           },
           "mode": "markers",
           "name": "Portugal",
           "orientation": "v",
           "showlegend": true,
           "type": "scatter",
           "x": [
            203675610000
           ],
           "xaxis": "x",
           "y": [
            null
           ],
           "yaxis": "y"
          },
          {
           "hovertemplate": "<b>%{hovertext}</b><br><br>Country=Romania<br>Year=2020<br>GDP=%{marker.size}<br>RoadSpending=%{y}<extra></extra>",
           "hovertext": [
            "Romania"
           ],
           "legendgroup": "Romania",
           "marker": {
            "color": "#EF553B",
            "size": [
             224012110000
            ],
            "sizemode": "area",
            "sizeref": 1119177225,
            "symbol": "circle"
           },
           "mode": "markers",
           "name": "Romania",
           "orientation": "v",
           "showlegend": true,
           "type": "scatter",
           "x": [
            224012110000
           ],
           "xaxis": "x",
           "y": [
            null
           ],
           "yaxis": "y"
          },
          {
           "hovertemplate": "<b>%{hovertext}</b><br><br>Country=Slovak Republic<br>Year=2020<br>GDP=%{marker.size}<br>RoadSpending=%{y}<extra></extra>",
           "hovertext": [
            "Slovak Republic"
           ],
           "legendgroup": "Slovak Republic",
           "marker": {
            "color": "#00cc96",
            "size": [
             94920280000
            ],
            "sizemode": "area",
            "sizeref": 1119177225,
            "symbol": "circle"
           },
           "mode": "markers",
           "name": "Slovak Republic",
           "orientation": "v",
           "showlegend": true,
           "type": "scatter",
           "x": [
            94920280000
           ],
           "xaxis": "x",
           "y": [
            752200000
           ],
           "yaxis": "y"
          },
          {
           "hovertemplate": "<b>%{hovertext}</b><br><br>Country=Slovenia<br>Year=2020<br>GDP=%{marker.size}<br>RoadSpending=%{y}<extra></extra>",
           "hovertext": [
            "Slovenia"
           ],
           "legendgroup": "Slovenia",
           "marker": {
            "color": "#ab63fa",
            "size": [
             47474380000
            ],
            "sizemode": "area",
            "sizeref": 1119177225,
            "symbol": "circle"
           },
           "mode": "markers",
           "name": "Slovenia",
           "orientation": "v",
           "showlegend": true,
           "type": "scatter",
           "x": [
            47474380000
           ],
           "xaxis": "x",
           "y": [
            235000000
           ],
           "yaxis": "y"
          },
          {
           "hovertemplate": "<b>%{hovertext}</b><br><br>Country=Spain<br>Year=2020<br>GDP=%{marker.size}<br>RoadSpending=%{y}<extra></extra>",
           "hovertext": [
            "Spain"
           ],
           "legendgroup": "Spain",
           "marker": {
            "color": "#FFA15A",
            "size": [
             1146988390000
            ],
            "sizemode": "area",
            "sizeref": 1119177225,
            "symbol": "circle"
           },
           "mode": "markers",
           "name": "Spain",
           "orientation": "v",
           "showlegend": true,
           "type": "scatter",
           "x": [
            1146988390000
           ],
           "xaxis": "x",
           "y": [
            3660000000
           ],
           "yaxis": "y"
          },
          {
           "hovertemplate": "<b>%{hovertext}</b><br><br>Country=Sweden<br>Year=2020<br>GDP=%{marker.size}<br>RoadSpending=%{y}<extra></extra>",
           "hovertext": [
            "Sweden"
           ],
           "legendgroup": "Sweden",
           "marker": {
            "color": "#19d3f3",
            "size": [
             485181720000
            ],
            "sizemode": "area",
            "sizeref": 1119177225,
            "symbol": "circle"
           },
           "mode": "markers",
           "name": "Sweden",
           "orientation": "v",
           "showlegend": true,
           "type": "scatter",
           "x": [
            485181720000
           ],
           "xaxis": "x",
           "y": [
            2941619550
           ],
           "yaxis": "y"
          }
         ],
         "name": "2020"
        },
        {
         "data": [
          {
           "hovertemplate": "<b>%{hovertext}</b><br><br>Country=Austria<br>Year=2021<br>GDP=%{marker.size}<br>RoadSpending=%{y}<extra></extra>",
           "hovertext": [
            "Austria"
           ],
           "legendgroup": "Austria",
           "marker": {
            "color": "#636efa",
            "size": [
             426856460000
            ],
            "sizemode": "area",
            "sizeref": 1119177225,
            "symbol": "circle"
           },
           "mode": "markers",
           "name": "Austria",
           "orientation": "v",
           "showlegend": true,
           "type": "scatter",
           "x": [
            426856460000
           ],
           "xaxis": "x",
           "y": [
            null
           ],
           "yaxis": "y"
          },
          {
           "hovertemplate": "<b>%{hovertext}</b><br><br>Country=Belgium<br>Year=2021<br>GDP=%{marker.size}<br>RoadSpending=%{y}<extra></extra>",
           "hovertext": [
            "Belgium"
           ],
           "legendgroup": "Belgium",
           "marker": {
            "color": "#EF553B",
            "size": [
             535161450000
            ],
            "sizemode": "area",
            "sizeref": 1119177225,
            "symbol": "circle"
           },
           "mode": "markers",
           "name": "Belgium",
           "orientation": "v",
           "showlegend": true,
           "type": "scatter",
           "x": [
            535161450000
           ],
           "xaxis": "x",
           "y": [
            1311000000
           ],
           "yaxis": "y"
          },
          {
           "hovertemplate": "<b>%{hovertext}</b><br><br>Country=Bulgaria<br>Year=2021<br>GDP=%{marker.size}<br>RoadSpending=%{y}<extra></extra>",
           "hovertext": [
            "Bulgaria"
           ],
           "legendgroup": "Bulgaria",
           "marker": {
            "color": "#00cc96",
            "size": [
             74849000000
            ],
            "sizemode": "area",
            "sizeref": 1119177225,
            "symbol": "circle"
           },
           "mode": "markers",
           "name": "Bulgaria",
           "orientation": "v",
           "showlegend": true,
           "type": "scatter",
           "x": [
            74849000000
           ],
           "xaxis": "x",
           "y": [
            151856018
           ],
           "yaxis": "y"
          },
          {
           "hovertemplate": "<b>%{hovertext}</b><br><br>Country=Croatia<br>Year=2021<br>GDP=%{marker.size}<br>RoadSpending=%{y}<extra></extra>",
           "hovertext": [
            "Croatia"
           ],
           "legendgroup": "Croatia",
           "marker": {
            "color": "#ab63fa",
            "size": [
             61989390000
            ],
            "sizemode": "area",
            "sizeref": 1119177225,
            "symbol": "circle"
           },
           "mode": "markers",
           "name": "Croatia",
           "orientation": "v",
           "showlegend": true,
           "type": "scatter",
           "x": [
            61989390000
           ],
           "xaxis": "x",
           "y": [
            536598314.4
           ],
           "yaxis": "y"
          },
          {
           "hovertemplate": "<b>%{hovertext}</b><br><br>Country=Czechia<br>Year=2021<br>GDP=%{marker.size}<br>RoadSpending=%{y}<extra></extra>",
           "hovertext": [
            "Czechia"
           ],
           "legendgroup": "Czechia",
           "marker": {
            "color": "#FFA15A",
            "size": [
             258965970000
            ],
            "sizemode": "area",
            "sizeref": 1119177225,
            "symbol": "circle"
           },
           "mode": "markers",
           "name": "Czechia",
           "orientation": "v",
           "showlegend": true,
           "type": "scatter",
           "x": [
            258965970000
           ],
           "xaxis": "x",
           "y": [
            1817146779
           ],
           "yaxis": "y"
          },
          {
           "hovertemplate": "<b>%{hovertext}</b><br><br>Country=Denmark<br>Year=2021<br>GDP=%{marker.size}<br>RoadSpending=%{y}<extra></extra>",
           "hovertext": [
            "Denmark"
           ],
           "legendgroup": "Denmark",
           "marker": {
            "color": "#19d3f3",
            "size": [
             363456420000
            ],
            "sizemode": "area",
            "sizeref": 1119177225,
            "symbol": "circle"
           },
           "mode": "markers",
           "name": "Denmark",
           "orientation": "v",
           "showlegend": true,
           "type": "scatter",
           "x": [
            363456420000
           ],
           "xaxis": "x",
           "y": [
            null
           ],
           "yaxis": "y"
          },
          {
           "hovertemplate": "<b>%{hovertext}</b><br><br>Country=Estonia<br>Year=2021<br>GDP=%{marker.size}<br>RoadSpending=%{y}<extra></extra>",
           "hovertext": [
            "Estonia"
           ],
           "legendgroup": "Estonia",
           "marker": {
            "color": "#FF6692",
            "size": [
             33127580000
            ],
            "sizemode": "area",
            "sizeref": 1119177225,
            "symbol": "circle"
           },
           "mode": "markers",
           "name": "Estonia",
           "orientation": "v",
           "showlegend": true,
           "type": "scatter",
           "x": [
            33127580000
           ],
           "xaxis": "x",
           "y": [
            281000000
           ],
           "yaxis": "y"
          },
          {
           "hovertemplate": "<b>%{hovertext}</b><br><br>Country=Finland<br>Year=2021<br>GDP=%{marker.size}<br>RoadSpending=%{y}<extra></extra>",
           "hovertext": [
            "Finland"
           ],
           "legendgroup": "Finland",
           "marker": {
            "color": "#B6E880",
            "size": [
             262032910000
            ],
            "sizemode": "area",
            "sizeref": 1119177225,
            "symbol": "circle"
           },
           "mode": "markers",
           "name": "Finland",
           "orientation": "v",
           "showlegend": true,
           "type": "scatter",
           "x": [
            262032910000
           ],
           "xaxis": "x",
           "y": [
            1662000000
           ],
           "yaxis": "y"
          },
          {
           "hovertemplate": "<b>%{hovertext}</b><br><br>Country=France<br>Year=2021<br>GDP=%{marker.size}<br>RoadSpending=%{y}<extra></extra>",
           "hovertext": [
            "France"
           ],
           "legendgroup": "France",
           "marker": {
            "color": "#FF97FF",
            "size": [
             2641880450000
            ],
            "sizemode": "area",
            "sizeref": 1119177225,
            "symbol": "circle"
           },
           "mode": "markers",
           "name": "France",
           "orientation": "v",
           "showlegend": true,
           "type": "scatter",
           "x": [
            2641880450000
           ],
           "xaxis": "x",
           "y": [
            10248211453
           ],
           "yaxis": "y"
          },
          {
           "hovertemplate": "<b>%{hovertext}</b><br><br>Country=Germany<br>Year=2021<br>GDP=%{marker.size}<br>RoadSpending=%{y}<extra></extra>",
           "hovertext": [
            "Germany"
           ],
           "legendgroup": "Germany",
           "marker": {
            "color": "#FECB52",
            "size": [
             3872557320000
            ],
            "sizemode": "area",
            "sizeref": 1119177225,
            "symbol": "circle"
           },
           "mode": "markers",
           "name": "Germany",
           "orientation": "v",
           "showlegend": true,
           "type": "scatter",
           "x": [
            3872557320000
           ],
           "xaxis": "x",
           "y": [
            15380000000
           ],
           "yaxis": "y"
          },
          {
           "hovertemplate": "<b>%{hovertext}</b><br><br>Country=Greece<br>Year=2021<br>GDP=%{marker.size}<br>RoadSpending=%{y}<extra></extra>",
           "hovertext": [
            "Greece"
           ],
           "legendgroup": "Greece",
           "marker": {
            "color": "#636efa",
            "size": [
             191181790000
            ],
            "sizemode": "area",
            "sizeref": 1119177225,
            "symbol": "circle"
           },
           "mode": "markers",
           "name": "Greece",
           "orientation": "v",
           "showlegend": true,
           "type": "scatter",
           "x": [
            191181790000
           ],
           "xaxis": "x",
           "y": [
            674082968.4
           ],
           "yaxis": "y"
          },
          {
           "hovertemplate": "<b>%{hovertext}</b><br><br>Country=Hungary<br>Year=2021<br>GDP=%{marker.size}<br>RoadSpending=%{y}<extra></extra>",
           "hovertext": [
            "Hungary"
           ],
           "legendgroup": "Hungary",
           "marker": {
            "color": "#EF553B",
            "size": [
             162077900000
            ],
            "sizemode": "area",
            "sizeref": 1119177225,
            "symbol": "circle"
           },
           "mode": "markers",
           "name": "Hungary",
           "orientation": "v",
           "showlegend": true,
           "type": "scatter",
           "x": [
            162077900000
           ],
           "xaxis": "x",
           "y": [
            1894279008
           ],
           "yaxis": "y"
          },
          {
           "hovertemplate": "<b>%{hovertext}</b><br><br>Country=Ireland<br>Year=2021<br>GDP=%{marker.size}<br>RoadSpending=%{y}<extra></extra>",
           "hovertext": [
            "Ireland"
           ],
           "legendgroup": "Ireland",
           "marker": {
            "color": "#00cc96",
            "size": [
             473177399999.99994
            ],
            "sizemode": "area",
            "sizeref": 1119177225,
            "symbol": "circle"
           },
           "mode": "markers",
           "name": "Ireland",
           "orientation": "v",
           "showlegend": true,
           "type": "scatter",
           "x": [
            473177399999.99994
           ],
           "xaxis": "x",
           "y": [
            525000000
           ],
           "yaxis": "y"
          },
          {
           "hovertemplate": "<b>%{hovertext}</b><br><br>Country=Italy<br>Year=2021<br>GDP=%{marker.size}<br>RoadSpending=%{y}<extra></extra>",
           "hovertext": [
            "Italy"
           ],
           "legendgroup": "Italy",
           "marker": {
            "color": "#ab63fa",
            "size": [
             1940784730000.0002
            ],
            "sizemode": "area",
            "sizeref": 1119177225,
            "symbol": "circle"
           },
           "mode": "markers",
           "name": "Italy",
           "orientation": "v",
           "showlegend": true,
           "type": "scatter",
           "x": [
            1940784730000.0002
           ],
           "xaxis": "x",
           "y": [
            6185000000
           ],
           "yaxis": "y"
          },
          {
           "hovertemplate": "<b>%{hovertext}</b><br><br>Country=Latvia<br>Year=2021<br>GDP=%{marker.size}<br>RoadSpending=%{y}<extra></extra>",
           "hovertext": [
            "Latvia"
           ],
           "legendgroup": "Latvia",
           "marker": {
            "color": "#FFA15A",
            "size": [
             35127410000
            ],
            "sizemode": "area",
            "sizeref": 1119177225,
            "symbol": "circle"
           },
           "mode": "markers",
           "name": "Latvia",
           "orientation": "v",
           "showlegend": true,
           "type": "scatter",
           "x": [
            35127410000
           ],
           "xaxis": "x",
           "y": [
            201000000
           ],
           "yaxis": "y"
          },
          {
           "hovertemplate": "<b>%{hovertext}</b><br><br>Country=Lithuania<br>Year=2021<br>GDP=%{marker.size}<br>RoadSpending=%{y}<extra></extra>",
           "hovertext": [
            "Lithuania"
           ],
           "legendgroup": "Lithuania",
           "marker": {
            "color": "#19d3f3",
            "size": [
             59509849999.99999
            ],
            "sizemode": "area",
            "sizeref": 1119177225,
            "symbol": "circle"
           },
           "mode": "markers",
           "name": "Lithuania",
           "orientation": "v",
           "showlegend": true,
           "type": "scatter",
           "x": [
            59509849999.99999
           ],
           "xaxis": "x",
           "y": [
            434000000
           ],
           "yaxis": "y"
          },
          {
           "hovertemplate": "<b>%{hovertext}</b><br><br>Country=Luxembourg<br>Year=2021<br>GDP=%{marker.size}<br>RoadSpending=%{y}<extra></extra>",
           "hovertext": [
            "Luxembourg"
           ],
           "legendgroup": "Luxembourg",
           "marker": {
            "color": "#FF6692",
            "size": [
             76220490000
            ],
            "sizemode": "area",
            "sizeref": 1119177225,
            "symbol": "circle"
           },
           "mode": "markers",
           "name": "Luxembourg",
           "orientation": "v",
           "showlegend": true,
           "type": "scatter",
           "x": [
            76220490000
           ],
           "xaxis": "x",
           "y": [
            null
           ],
           "yaxis": "y"
          },
          {
           "hovertemplate": "<b>%{hovertext}</b><br><br>Country=Malta<br>Year=2021<br>GDP=%{marker.size}<br>RoadSpending=%{y}<extra></extra>",
           "hovertext": [
            "Malta"
           ],
           "legendgroup": "Malta",
           "marker": {
            "color": "#B6E880",
            "size": [
             17561480000
            ],
            "sizemode": "area",
            "sizeref": 1119177225,
            "symbol": "circle"
           },
           "mode": "markers",
           "name": "Malta",
           "orientation": "v",
           "showlegend": true,
           "type": "scatter",
           "x": [
            17561480000
           ],
           "xaxis": "x",
           "y": [
            null
           ],
           "yaxis": "y"
          },
          {
           "hovertemplate": "<b>%{hovertext}</b><br><br>Country=Netherlands<br>Year=2021<br>GDP=%{marker.size}<br>RoadSpending=%{y}<extra></extra>",
           "hovertext": [
            "Netherlands"
           ],
           "legendgroup": "Netherlands",
           "marker": {
            "color": "#FF97FF",
            "size": [
             939103970000
            ],
            "sizemode": "area",
            "sizeref": 1119177225,
            "symbol": "circle"
           },
           "mode": "markers",
           "name": "Netherlands",
           "orientation": "v",
           "showlegend": true,
           "type": "scatter",
           "x": [
            939103970000
           ],
           "xaxis": "x",
           "y": [
            7082106251
           ],
           "yaxis": "y"
          },
          {
           "hovertemplate": "<b>%{hovertext}</b><br><br>Country=Poland<br>Year=2021<br>GDP=%{marker.size}<br>RoadSpending=%{y}<extra></extra>",
           "hovertext": [
            "Poland"
           ],
           "legendgroup": "Poland",
           "marker": {
            "color": "#FECB52",
            "size": [
             606471810000
            ],
            "sizemode": "area",
            "sizeref": 1119177225,
            "symbol": "circle"
           },
           "mode": "markers",
           "name": "Poland",
           "orientation": "v",
           "showlegend": true,
           "type": "scatter",
           "x": [
            606471810000
           ],
           "xaxis": "x",
           "y": [
            3169807187
           ],
           "yaxis": "y"
          },
          {
           "hovertemplate": "<b>%{hovertext}</b><br><br>Country=Portugal<br>Year=2021<br>GDP=%{marker.size}<br>RoadSpending=%{y}<extra></extra>",
           "hovertext": [
            "Portugal"
           ],
           "legendgroup": "Portugal",
           "marker": {
            "color": "#636efa",
            "size": [
             227577450000
            ],
            "sizemode": "area",
            "sizeref": 1119177225,
            "symbol": "circle"
           },
           "mode": "markers",
           "name": "Portugal",
           "orientation": "v",
           "showlegend": true,
           "type": "scatter",
           "x": [
            227577450000
           ],
           "xaxis": "x",
           "y": [
            null
           ],
           "yaxis": "y"
          },
          {
           "hovertemplate": "<b>%{hovertext}</b><br><br>Country=Romania<br>Year=2021<br>GDP=%{marker.size}<br>RoadSpending=%{y}<extra></extra>",
           "hovertext": [
            "Romania"
           ],
           "legendgroup": "Romania",
           "marker": {
            "color": "#EF553B",
            "size": [
             254553350000
            ],
            "sizemode": "area",
            "sizeref": 1119177225,
            "symbol": "circle"
           },
           "mode": "markers",
           "name": "Romania",
           "orientation": "v",
           "showlegend": true,
           "type": "scatter",
           "x": [
            254553350000
           ],
           "xaxis": "x",
           "y": [
            null
           ],
           "yaxis": "y"
          },
          {
           "hovertemplate": "<b>%{hovertext}</b><br><br>Country=Slovak Republic<br>Year=2021<br>GDP=%{marker.size}<br>RoadSpending=%{y}<extra></extra>",
           "hovertext": [
            "Slovak Republic"
           ],
           "legendgroup": "Slovak Republic",
           "marker": {
            "color": "#00cc96",
            "size": [
             105591380000
            ],
            "sizemode": "area",
            "sizeref": 1119177225,
            "symbol": "circle"
           },
           "mode": "markers",
           "name": "Slovak Republic",
           "orientation": "v",
           "showlegend": true,
           "type": "scatter",
           "x": [
            105591380000
           ],
           "xaxis": "x",
           "y": [
            1113000000
           ],
           "yaxis": "y"
          },
          {
           "hovertemplate": "<b>%{hovertext}</b><br><br>Country=Slovenia<br>Year=2021<br>GDP=%{marker.size}<br>RoadSpending=%{y}<extra></extra>",
           "hovertext": [
            "Slovenia"
           ],
           "legendgroup": "Slovenia",
           "marker": {
            "color": "#ab63fa",
            "size": [
             54797300000
            ],
            "sizemode": "area",
            "sizeref": 1119177225,
            "symbol": "circle"
           },
           "mode": "markers",
           "name": "Slovenia",
           "orientation": "v",
           "showlegend": true,
           "type": "scatter",
           "x": [
            54797300000
           ],
           "xaxis": "x",
           "y": [
            298000000
           ],
           "yaxis": "y"
          },
          {
           "hovertemplate": "<b>%{hovertext}</b><br><br>Country=Spain<br>Year=2021<br>GDP=%{marker.size}<br>RoadSpending=%{y}<extra></extra>",
           "hovertext": [
            "Spain"
           ],
           "legendgroup": "Spain",
           "marker": {
            "color": "#FFA15A",
            "size": [
             1301372240000
            ],
            "sizemode": "area",
            "sizeref": 1119177225,
            "symbol": "circle"
           },
           "mode": "markers",
           "name": "Spain",
           "orientation": "v",
           "showlegend": true,
           "type": "scatter",
           "x": [
            1301372240000
           ],
           "xaxis": "x",
           "y": [
            3812000000
           ],
           "yaxis": "y"
          },
          {
           "hovertemplate": "<b>%{hovertext}</b><br><br>Country=Sweden<br>Year=2021<br>GDP=%{marker.size}<br>RoadSpending=%{y}<extra></extra>",
           "hovertext": [
            "Sweden"
           ],
           "legendgroup": "Sweden",
           "marker": {
            "color": "#19d3f3",
            "size": [
             567096430000
            ],
            "sizemode": "area",
            "sizeref": 1119177225,
            "symbol": "circle"
           },
           "mode": "markers",
           "name": "Sweden",
           "orientation": "v",
           "showlegend": true,
           "type": "scatter",
           "x": [
            567096430000
           ],
           "xaxis": "x",
           "y": [
            2910555161
           ],
           "yaxis": "y"
          }
         ],
         "name": "2021"
        },
        {
         "data": [
          {
           "hovertemplate": "<b>%{hovertext}</b><br><br>Country=Austria<br>Year=2022<br>GDP=%{marker.size}<br>RoadSpending=%{y}<extra></extra>",
           "hovertext": [
            "Austria"
           ],
           "legendgroup": "Austria",
           "marker": {
            "color": "#636efa",
            "size": [
             419522860000
            ],
            "sizemode": "area",
            "sizeref": 1119177225,
            "symbol": "circle"
           },
           "mode": "markers",
           "name": "Austria",
           "orientation": "v",
           "showlegend": true,
           "type": "scatter",
           "x": [
            419522860000
           ],
           "xaxis": "x",
           "y": [
            null
           ],
           "yaxis": "y"
          },
          {
           "hovertemplate": "<b>%{hovertext}</b><br><br>Country=Belgium<br>Year=2022<br>GDP=%{marker.size}<br>RoadSpending=%{y}<extra></extra>",
           "hovertext": [
            "Belgium"
           ],
           "legendgroup": "Belgium",
           "marker": {
            "color": "#EF553B",
            "size": [
             519824970000
            ],
            "sizemode": "area",
            "sizeref": 1119177225,
            "symbol": "circle"
           },
           "mode": "markers",
           "name": "Belgium",
           "orientation": "v",
           "showlegend": true,
           "type": "scatter",
           "x": [
            519824970000
           ],
           "xaxis": "x",
           "y": [
            1001000000
           ],
           "yaxis": "y"
          },
          {
           "hovertemplate": "<b>%{hovertext}</b><br><br>Country=Bulgaria<br>Year=2022<br>GDP=%{marker.size}<br>RoadSpending=%{y}<extra></extra>",
           "hovertext": [
            "Bulgaria"
           ],
           "legendgroup": "Bulgaria",
           "marker": {
            "color": "#00cc96",
            "size": [
             80475580000
            ],
            "sizemode": "area",
            "sizeref": 1119177225,
            "symbol": "circle"
           },
           "mode": "markers",
           "name": "Bulgaria",
           "orientation": "v",
           "showlegend": true,
           "type": "scatter",
           "x": [
            80475580000
           ],
           "xaxis": "x",
           "y": [
            403926781.9
           ],
           "yaxis": "y"
          },
          {
           "hovertemplate": "<b>%{hovertext}</b><br><br>Country=Croatia<br>Year=2022<br>GDP=%{marker.size}<br>RoadSpending=%{y}<extra></extra>",
           "hovertext": [
            "Croatia"
           ],
           "legendgroup": "Croatia",
           "marker": {
            "color": "#ab63fa",
            "size": [
             64132510000
            ],
            "sizemode": "area",
            "sizeref": 1119177225,
            "symbol": "circle"
           },
           "mode": "markers",
           "name": "Croatia",
           "orientation": "v",
           "showlegend": true,
           "type": "scatter",
           "x": [
            64132510000
           ],
           "xaxis": "x",
           "y": [
            470900524.3
           ],
           "yaxis": "y"
          },
          {
           "hovertemplate": "<b>%{hovertext}</b><br><br>Country=Czechia<br>Year=2022<br>GDP=%{marker.size}<br>RoadSpending=%{y}<extra></extra>",
           "hovertext": [
            "Czechia"
           ],
           "legendgroup": "Czechia",
           "marker": {
            "color": "#FFA15A",
            "size": [
             268629590000
            ],
            "sizemode": "area",
            "sizeref": 1119177225,
            "symbol": "circle"
           },
           "mode": "markers",
           "name": "Czechia",
           "orientation": "v",
           "showlegend": true,
           "type": "scatter",
           "x": [
            268629590000
           ],
           "xaxis": "x",
           "y": [
            1943388083
           ],
           "yaxis": "y"
          },
          {
           "hovertemplate": "<b>%{hovertext}</b><br><br>Country=Denmark<br>Year=2022<br>GDP=%{marker.size}<br>RoadSpending=%{y}<extra></extra>",
           "hovertext": [
            "Denmark"
           ],
           "legendgroup": "Denmark",
           "marker": {
            "color": "#19d3f3",
            "size": [
             357731940000
            ],
            "sizemode": "area",
            "sizeref": 1119177225,
            "symbol": "circle"
           },
           "mode": "markers",
           "name": "Denmark",
           "orientation": "v",
           "showlegend": true,
           "type": "scatter",
           "x": [
            357731940000
           ],
           "xaxis": "x",
           "y": [
            null
           ],
           "yaxis": "y"
          },
          {
           "hovertemplate": "<b>%{hovertext}</b><br><br>Country=Estonia<br>Year=2022<br>GDP=%{marker.size}<br>RoadSpending=%{y}<extra></extra>",
           "hovertext": [
            "Estonia"
           ],
           "legendgroup": "Estonia",
           "marker": {
            "color": "#FF6692",
            "size": [
             34176890000
            ],
            "sizemode": "area",
            "sizeref": 1119177225,
            "symbol": "circle"
           },
           "mode": "markers",
           "name": "Estonia",
           "orientation": "v",
           "showlegend": true,
           "type": "scatter",
           "x": [
            34176890000
           ],
           "xaxis": "x",
           "y": [
            251000000
           ],
           "yaxis": "y"
          },
          {
           "hovertemplate": "<b>%{hovertext}</b><br><br>Country=Finland<br>Year=2022<br>GDP=%{marker.size}<br>RoadSpending=%{y}<extra></extra>",
           "hovertext": [
            "Finland"
           ],
           "legendgroup": "Finland",
           "marker": {
            "color": "#B6E880",
            "size": [
             249611180000
            ],
            "sizemode": "area",
            "sizeref": 1119177225,
            "symbol": "circle"
           },
           "mode": "markers",
           "name": "Finland",
           "orientation": "v",
           "showlegend": true,
           "type": "scatter",
           "x": [
            249611180000
           ],
           "xaxis": "x",
           "y": [
            1677000000
           ],
           "yaxis": "y"
          },
          {
           "hovertemplate": "<b>%{hovertext}</b><br><br>Country=France<br>Year=2022<br>GDP=%{marker.size}<br>RoadSpending=%{y}<extra></extra>",
           "hovertext": [
            "France"
           ],
           "legendgroup": "France",
           "marker": {
            "color": "#FF97FF",
            "size": [
             2490666780000
            ],
            "sizemode": "area",
            "sizeref": 1119177225,
            "symbol": "circle"
           },
           "mode": "markers",
           "name": "France",
           "orientation": "v",
           "showlegend": true,
           "type": "scatter",
           "x": [
            2490666780000
           ],
           "xaxis": "x",
           "y": [
            10612501458
           ],
           "yaxis": "y"
          },
          {
           "hovertemplate": "<b>%{hovertext}</b><br><br>Country=Germany<br>Year=2022<br>GDP=%{marker.size}<br>RoadSpending=%{y}<extra></extra>",
           "hovertext": [
            "Germany"
           ],
           "legendgroup": "Germany",
           "marker": {
            "color": "#FECB52",
            "size": [
             3708516080000.0005
            ],
            "sizemode": "area",
            "sizeref": 1119177225,
            "symbol": "circle"
           },
           "mode": "markers",
           "name": "Germany",
           "orientation": "v",
           "showlegend": true,
           "type": "scatter",
           "x": [
            3708516080000.0005
           ],
           "xaxis": "x",
           "y": [
            16560000000
           ],
           "yaxis": "y"
          },
          {
           "hovertemplate": "<b>%{hovertext}</b><br><br>Country=Greece<br>Year=2022<br>GDP=%{marker.size}<br>RoadSpending=%{y}<extra></extra>",
           "hovertext": [
            "Greece"
           ],
           "legendgroup": "Greece",
           "marker": {
            "color": "#636efa",
            "size": [
             193800170000
            ],
            "sizemode": "area",
            "sizeref": 1119177225,
            "symbol": "circle"
           },
           "mode": "markers",
           "name": "Greece",
           "orientation": "v",
           "showlegend": true,
           "type": "scatter",
           "x": [
            193800170000
           ],
           "xaxis": "x",
           "y": [
            889953033.2
           ],
           "yaxis": "y"
          },
          {
           "hovertemplate": "<b>%{hovertext}</b><br><br>Country=Hungary<br>Year=2022<br>GDP=%{marker.size}<br>RoadSpending=%{y}<extra></extra>",
           "hovertext": [
            "Hungary"
           ],
           "legendgroup": "Hungary",
           "marker": {
            "color": "#EF553B",
            "size": [
             158231320000
            ],
            "sizemode": "area",
            "sizeref": 1119177225,
            "symbol": "circle"
           },
           "mode": "markers",
           "name": "Hungary",
           "orientation": "v",
           "showlegend": true,
           "type": "scatter",
           "x": [
            158231320000
           ],
           "xaxis": "x",
           "y": [
            1555255218
           ],
           "yaxis": "y"
          },
          {
           "hovertemplate": "<b>%{hovertext}</b><br><br>Country=Ireland<br>Year=2022<br>GDP=%{marker.size}<br>RoadSpending=%{y}<extra></extra>",
           "hovertext": [
            "Ireland"
           ],
           "legendgroup": "Ireland",
           "marker": {
            "color": "#00cc96",
            "size": [
             488612670000.00006
            ],
            "sizemode": "area",
            "sizeref": 1119177225,
            "symbol": "circle"
           },
           "mode": "markers",
           "name": "Ireland",
           "orientation": "v",
           "showlegend": true,
           "type": "scatter",
           "x": [
            488612670000.00006
           ],
           "xaxis": "x",
           "y": [
            561000000
           ],
           "yaxis": "y"
          },
          {
           "hovertemplate": "<b>%{hovertext}</b><br><br>Country=Italy<br>Year=2022<br>GDP=%{marker.size}<br>RoadSpending=%{y}<extra></extra>",
           "hovertext": [
            "Italy"
           ],
           "legendgroup": "Italy",
           "marker": {
            "color": "#ab63fa",
            "size": [
             1873138500000
            ],
            "sizemode": "area",
            "sizeref": 1119177225,
            "symbol": "circle"
           },
           "mode": "markers",
           "name": "Italy",
           "orientation": "v",
           "showlegend": true,
           "type": "scatter",
           "x": [
            1873138500000
           ],
           "xaxis": "x",
           "y": [
            6384000000
           ],
           "yaxis": "y"
          },
          {
           "hovertemplate": "<b>%{hovertext}</b><br><br>Country=Latvia<br>Year=2022<br>GDP=%{marker.size}<br>RoadSpending=%{y}<extra></extra>",
           "hovertext": [
            "Latvia"
           ],
           "legendgroup": "Latvia",
           "marker": {
            "color": "#FFA15A",
            "size": [
             36004060000
            ],
            "sizemode": "area",
            "sizeref": 1119177225,
            "symbol": "circle"
           },
           "mode": "markers",
           "name": "Latvia",
           "orientation": "v",
           "showlegend": true,
           "type": "scatter",
           "x": [
            36004060000
           ],
           "xaxis": "x",
           "y": [
            196000000
           ],
           "yaxis": "y"
          },
          {
           "hovertemplate": "<b>%{hovertext}</b><br><br>Country=Lithuania<br>Year=2022<br>GDP=%{marker.size}<br>RoadSpending=%{y}<extra></extra>",
           "hovertext": [
            "Lithuania"
           ],
           "legendgroup": "Lithuania",
           "marker": {
            "color": "#19d3f3",
            "size": [
             63309260000
            ],
            "sizemode": "area",
            "sizeref": 1119177225,
            "symbol": "circle"
           },
           "mode": "markers",
           "name": "Lithuania",
           "orientation": "v",
           "showlegend": true,
           "type": "scatter",
           "x": [
            63309260000
           ],
           "xaxis": "x",
           "y": [
            343000000
           ],
           "yaxis": "y"
          },
          {
           "hovertemplate": "<b>%{hovertext}</b><br><br>Country=Luxembourg<br>Year=2022<br>GDP=%{marker.size}<br>RoadSpending=%{y}<extra></extra>",
           "hovertext": [
            "Luxembourg"
           ],
           "legendgroup": "Luxembourg",
           "marker": {
            "color": "#FF6692",
            "size": [
             72718340000
            ],
            "sizemode": "area",
            "sizeref": 1119177225,
            "symbol": "circle"
           },
           "mode": "markers",
           "name": "Luxembourg",
           "orientation": "v",
           "showlegend": true,
           "type": "scatter",
           "x": [
            72718340000
           ],
           "xaxis": "x",
           "y": [
            null
           ],
           "yaxis": "y"
          },
          {
           "hovertemplate": "<b>%{hovertext}</b><br><br>Country=Malta<br>Year=2022<br>GDP=%{marker.size}<br>RoadSpending=%{y}<extra></extra>",
           "hovertext": [
            "Malta"
           ],
           "legendgroup": "Malta",
           "marker": {
            "color": "#B6E880",
            "size": [
             17110250000
            ],
            "sizemode": "area",
            "sizeref": 1119177225,
            "symbol": "circle"
           },
           "mode": "markers",
           "name": "Malta",
           "orientation": "v",
           "showlegend": true,
           "type": "scatter",
           "x": [
            17110250000
           ],
           "xaxis": "x",
           "y": [
            null
           ],
           "yaxis": "y"
          },
          {
           "hovertemplate": "<b>%{hovertext}</b><br><br>Country=Netherlands<br>Year=2022<br>GDP=%{marker.size}<br>RoadSpending=%{y}<extra></extra>",
           "hovertext": [
            "Netherlands"
           ],
           "legendgroup": "Netherlands",
           "marker": {
            "color": "#FF97FF",
            "size": [
             932153960000
            ],
            "sizemode": "area",
            "sizeref": 1119177225,
            "symbol": "circle"
           },
           "mode": "markers",
           "name": "Netherlands",
           "orientation": "v",
           "showlegend": true,
           "type": "scatter",
           "x": [
            932153960000
           ],
           "xaxis": "x",
           "y": [
            7338624685
           ],
           "yaxis": "y"
          },
          {
           "hovertemplate": "<b>%{hovertext}</b><br><br>Country=Poland<br>Year=2022<br>GDP=%{marker.size}<br>RoadSpending=%{y}<extra></extra>",
           "hovertext": [
            "Poland"
           ],
           "legendgroup": "Poland",
           "marker": {
            "color": "#FECB52",
            "size": [
             614000320000
            ],
            "sizemode": "area",
            "sizeref": 1119177225,
            "symbol": "circle"
           },
           "mode": "markers",
           "name": "Poland",
           "orientation": "v",
           "showlegend": true,
           "type": "scatter",
           "x": [
            614000320000
           ],
           "xaxis": "x",
           "y": [
            3041946846
           ],
           "yaxis": "y"
          },
          {
           "hovertemplate": "<b>%{hovertext}</b><br><br>Country=Portugal<br>Year=2022<br>GDP=%{marker.size}<br>RoadSpending=%{y}<extra></extra>",
           "hovertext": [
            "Portugal"
           ],
           "legendgroup": "Portugal",
           "marker": {
            "color": "#636efa",
            "size": [
             227304220000
            ],
            "sizemode": "area",
            "sizeref": 1119177225,
            "symbol": "circle"
           },
           "mode": "markers",
           "name": "Portugal",
           "orientation": "v",
           "showlegend": true,
           "type": "scatter",
           "x": [
            227304220000
           ],
           "xaxis": "x",
           "y": [
            null
           ],
           "yaxis": "y"
          },
          {
           "hovertemplate": "<b>%{hovertext}</b><br><br>Country=Romania<br>Year=2022<br>GDP=%{marker.size}<br>RoadSpending=%{y}<extra></extra>",
           "hovertext": [
            "Romania"
           ],
           "legendgroup": "Romania",
           "marker": {
            "color": "#EF553B",
            "size": [
             266528300000
            ],
            "sizemode": "area",
            "sizeref": 1119177225,
            "symbol": "circle"
           },
           "mode": "markers",
           "name": "Romania",
           "orientation": "v",
           "showlegend": true,
           "type": "scatter",
           "x": [
            266528300000
           ],
           "xaxis": "x",
           "y": [
            null
           ],
           "yaxis": "y"
          },
          {
           "hovertemplate": "<b>%{hovertext}</b><br><br>Country=Slovak Republic<br>Year=2022<br>GDP=%{marker.size}<br>RoadSpending=%{y}<extra></extra>",
           "hovertext": [
            "Slovak Republic"
           ],
           "legendgroup": "Slovak Republic",
           "marker": {
            "color": "#00cc96",
            "size": [
             102951640000
            ],
            "sizemode": "area",
            "sizeref": 1119177225,
            "symbol": "circle"
           },
           "mode": "markers",
           "name": "Slovak Republic",
           "orientation": "v",
           "showlegend": true,
           "type": "scatter",
           "x": [
            102951640000
           ],
           "xaxis": "x",
           "y": [
            1148000000
           ],
           "yaxis": "y"
          },
          {
           "hovertemplate": "<b>%{hovertext}</b><br><br>Country=Slovenia<br>Year=2022<br>GDP=%{marker.size}<br>RoadSpending=%{y}<extra></extra>",
           "hovertext": [
            "Slovenia"
           ],
           "legendgroup": "Slovenia",
           "marker": {
            "color": "#ab63fa",
            "size": [
             53377750000
            ],
            "sizemode": "area",
            "sizeref": 1119177225,
            "symbol": "circle"
           },
           "mode": "markers",
           "name": "Slovenia",
           "orientation": "v",
           "showlegend": true,
           "type": "scatter",
           "x": [
            53377750000
           ],
           "xaxis": "x",
           "y": [
            422000000
           ],
           "yaxis": "y"
          },
          {
           "hovertemplate": "<b>%{hovertext}</b><br><br>Country=Spain<br>Year=2022<br>GDP=%{marker.size}<br>RoadSpending=%{y}<extra></extra>",
           "hovertext": [
            "Spain"
           ],
           "legendgroup": "Spain",
           "marker": {
            "color": "#FFA15A",
            "size": [
             1288396040000
            ],
            "sizemode": "area",
            "sizeref": 1119177225,
            "symbol": "circle"
           },
           "mode": "markers",
           "name": "Spain",
           "orientation": "v",
           "showlegend": true,
           "type": "scatter",
           "x": [
            1288396040000
           ],
           "xaxis": "x",
           "y": [
            5289000000
           ],
           "yaxis": "y"
          },
          {
           "hovertemplate": "<b>%{hovertext}</b><br><br>Country=Sweden<br>Year=2022<br>GDP=%{marker.size}<br>RoadSpending=%{y}<extra></extra>",
           "hovertext": [
            "Sweden"
           ],
           "legendgroup": "Sweden",
           "marker": {
            "color": "#19d3f3",
            "size": [
             516107440000
            ],
            "sizemode": "area",
            "sizeref": 1119177225,
            "symbol": "circle"
           },
           "mode": "markers",
           "name": "Sweden",
           "orientation": "v",
           "showlegend": true,
           "type": "scatter",
           "x": [
            516107440000
           ],
           "xaxis": "x",
           "y": [
            2895628282
           ],
           "yaxis": "y"
          }
         ],
         "name": "2022"
        },
        {
         "data": [
          {
           "hovertemplate": "<b>%{hovertext}</b><br><br>Country=Austria<br>Year=2023<br>GDP=%{marker.size}<br>RoadSpending=%{y}<extra></extra>",
           "hovertext": [
            "Austria"
           ],
           "legendgroup": "Austria",
           "marker": {
            "color": "#636efa",
            "size": [
             460719180000.00006
            ],
            "sizemode": "area",
            "sizeref": 1119177225,
            "symbol": "circle"
           },
           "mode": "markers",
           "name": "Austria",
           "orientation": "v",
           "showlegend": true,
           "type": "scatter",
           "x": [
            460719180000.00006
           ],
           "xaxis": "x",
           "y": [
            null
           ],
           "yaxis": "y"
          },
          {
           "hovertemplate": "<b>%{hovertext}</b><br><br>Country=Belgium<br>Year=2023<br>GDP=%{marker.size}<br>RoadSpending=%{y}<extra></extra>",
           "hovertext": [
            "Belgium"
           ],
           "legendgroup": "Belgium",
           "marker": {
            "color": "#EF553B",
            "size": [
             562835110000
            ],
            "sizemode": "area",
            "sizeref": 1119177225,
            "symbol": "circle"
           },
           "mode": "markers",
           "name": "Belgium",
           "orientation": "v",
           "showlegend": true,
           "type": "scatter",
           "x": [
            562835110000
           ],
           "xaxis": "x",
           "y": [
            1031000000
           ],
           "yaxis": "y"
          },
          {
           "hovertemplate": "<b>%{hovertext}</b><br><br>Country=Bulgaria<br>Year=2023<br>GDP=%{marker.size}<br>RoadSpending=%{y}<extra></extra>",
           "hovertext": [
            "Bulgaria"
           ],
           "legendgroup": "Bulgaria",
           "marker": {
            "color": "#00cc96",
            "size": [
             90433790000
            ],
            "sizemode": "area",
            "sizeref": 1119177225,
            "symbol": "circle"
           },
           "mode": "markers",
           "name": "Bulgaria",
           "orientation": "v",
           "showlegend": true,
           "type": "scatter",
           "x": [
            90433790000
           ],
           "xaxis": "x",
           "y": [
            613559668.7
           ],
           "yaxis": "y"
          },
          {
           "hovertemplate": "<b>%{hovertext}</b><br><br>Country=Croatia<br>Year=2023<br>GDP=%{marker.size}<br>RoadSpending=%{y}<extra></extra>",
           "hovertext": [
            "Croatia"
           ],
           "legendgroup": "Croatia",
           "marker": {
            "color": "#ab63fa",
            "size": [
             73612790000
            ],
            "sizemode": "area",
            "sizeref": 1119177225,
            "symbol": "circle"
           },
           "mode": "markers",
           "name": "Croatia",
           "orientation": "v",
           "showlegend": true,
           "type": "scatter",
           "x": [
            73612790000
           ],
           "xaxis": "x",
           "y": [
            620473000
           ],
           "yaxis": "y"
          },
          {
           "hovertemplate": "<b>%{hovertext}</b><br><br>Country=Czechia<br>Year=2023<br>GDP=%{marker.size}<br>RoadSpending=%{y}<extra></extra>",
           "hovertext": [
            "Czechia"
           ],
           "legendgroup": "Czechia",
           "marker": {
            "color": "#FFA15A",
            "size": [
             305455120000
            ],
            "sizemode": "area",
            "sizeref": 1119177225,
            "symbol": "circle"
           },
           "mode": "markers",
           "name": "Czechia",
           "orientation": "v",
           "showlegend": true,
           "type": "scatter",
           "x": [
            305455120000
           ],
           "xaxis": "x",
           "y": [
            2625930185
           ],
           "yaxis": "y"
          },
          {
           "hovertemplate": "<b>%{hovertext}</b><br><br>Country=Denmark<br>Year=2023<br>GDP=%{marker.size}<br>RoadSpending=%{y}<extra></extra>",
           "hovertext": [
            "Denmark"
           ],
           "legendgroup": "Denmark",
           "marker": {
            "color": "#19d3f3",
            "size": [
             362311880000
            ],
            "sizemode": "area",
            "sizeref": 1119177225,
            "symbol": "circle"
           },
           "mode": "markers",
           "name": "Denmark",
           "orientation": "v",
           "showlegend": true,
           "type": "scatter",
           "x": [
            362311880000
           ],
           "xaxis": "x",
           "y": [
            null
           ],
           "yaxis": "y"
          },
          {
           "hovertemplate": "<b>%{hovertext}</b><br><br>Country=Estonia<br>Year=2023<br>GDP=%{marker.size}<br>RoadSpending=%{y}<extra></extra>",
           "hovertext": [
            "Estonia"
           ],
           "legendgroup": "Estonia",
           "marker": {
            "color": "#FF6692",
            "size": [
             36754330000
            ],
            "sizemode": "area",
            "sizeref": 1119177225,
            "symbol": "circle"
           },
           "mode": "markers",
           "name": "Estonia",
           "orientation": "v",
           "showlegend": true,
           "type": "scatter",
           "x": [
            36754330000
           ],
           "xaxis": "x",
           "y": [
            null
           ],
           "yaxis": "y"
          },
          {
           "hovertemplate": "<b>%{hovertext}</b><br><br>Country=Finland<br>Year=2023<br>GDP=%{marker.size}<br>RoadSpending=%{y}<extra></extra>",
           "hovertext": [
            "Finland"
           ],
           "legendgroup": "Finland",
           "marker": {
            "color": "#B6E880",
            "size": [
             263100020000
            ],
            "sizemode": "area",
            "sizeref": 1119177225,
            "symbol": "circle"
           },
           "mode": "markers",
           "name": "Finland",
           "orientation": "v",
           "showlegend": true,
           "type": "scatter",
           "x": [
            263100020000
           ],
           "xaxis": "x",
           "y": [
            1939000000
           ],
           "yaxis": "y"
          },
          {
           "hovertemplate": "<b>%{hovertext}</b><br><br>Country=France<br>Year=2023<br>GDP=%{marker.size}<br>RoadSpending=%{y}<extra></extra>",
           "hovertext": [
            "France"
           ],
           "legendgroup": "France",
           "marker": {
            "color": "#FF97FF",
            "size": [
             2716913680000
            ],
            "sizemode": "area",
            "sizeref": 1119177225,
            "symbol": "circle"
           },
           "mode": "markers",
           "name": "France",
           "orientation": "v",
           "showlegend": true,
           "type": "scatter",
           "x": [
            2716913680000
           ],
           "xaxis": "x",
           "y": [
            10265306356
           ],
           "yaxis": "y"
          },
          {
           "hovertemplate": "<b>%{hovertext}</b><br><br>Country=Germany<br>Year=2023<br>GDP=%{marker.size}<br>RoadSpending=%{y}<extra></extra>",
           "hovertext": [
            "Germany"
           ],
           "legendgroup": "Germany",
           "marker": {
            "color": "#FECB52",
            "size": [
             4029038010000
            ],
            "sizemode": "area",
            "sizeref": 1119177225,
            "symbol": "circle"
           },
           "mode": "markers",
           "name": "Germany",
           "orientation": "v",
           "showlegend": true,
           "type": "scatter",
           "x": [
            4029038010000
           ],
           "xaxis": "x",
           "y": [
            18310000000
           ],
           "yaxis": "y"
          },
          {
           "hovertemplate": "<b>%{hovertext}</b><br><br>Country=Greece<br>Year=2023<br>GDP=%{marker.size}<br>RoadSpending=%{y}<extra></extra>",
           "hovertext": [
            "Greece"
           ],
           "legendgroup": "Greece",
           "marker": {
            "color": "#636efa",
            "size": [
             212064750000
            ],
            "sizemode": "area",
            "sizeref": 1119177225,
            "symbol": "circle"
           },
           "mode": "markers",
           "name": "Greece",
           "orientation": "v",
           "showlegend": true,
           "type": "scatter",
           "x": [
            212064750000
           ],
           "xaxis": "x",
           "y": [
            1127914064
           ],
           "yaxis": "y"
          },
          {
           "hovertemplate": "<b>%{hovertext}</b><br><br>Country=Hungary<br>Year=2023<br>GDP=%{marker.size}<br>RoadSpending=%{y}<extra></extra>",
           "hovertext": [
            "Hungary"
           ],
           "legendgroup": "Hungary",
           "marker": {
            "color": "#EF553B",
            "size": [
             189092960000
            ],
            "sizemode": "area",
            "sizeref": 1119177225,
            "symbol": "circle"
           },
           "mode": "markers",
           "name": "Hungary",
           "orientation": "v",
           "showlegend": true,
           "type": "scatter",
           "x": [
            189092960000
           ],
           "xaxis": "x",
           "y": [
            1348583722
           ],
           "yaxis": "y"
          },
          {
           "hovertemplate": "<b>%{hovertext}</b><br><br>Country=Ireland<br>Year=2023<br>GDP=%{marker.size}<br>RoadSpending=%{y}<extra></extra>",
           "hovertext": [
            "Ireland"
           ],
           "legendgroup": "Ireland",
           "marker": {
            "color": "#00cc96",
            "size": [
             490883060000
            ],
            "sizemode": "area",
            "sizeref": 1119177225,
            "symbol": "circle"
           },
           "mode": "markers",
           "name": "Ireland",
           "orientation": "v",
           "showlegend": true,
           "type": "scatter",
           "x": [
            490883060000
           ],
           "xaxis": "x",
           "y": [
            599000000
           ],
           "yaxis": "y"
          },
          {
           "hovertemplate": "<b>%{hovertext}</b><br><br>Country=Italy<br>Year=2023<br>GDP=%{marker.size}<br>RoadSpending=%{y}<extra></extra>",
           "hovertext": [
            "Italy"
           ],
           "legendgroup": "Italy",
           "marker": {
            "color": "#ab63fa",
            "size": [
             2048426670000
            ],
            "sizemode": "area",
            "sizeref": 1119177225,
            "symbol": "circle"
           },
           "mode": "markers",
           "name": "Italy",
           "orientation": "v",
           "showlegend": true,
           "type": "scatter",
           "x": [
            2048426670000
           ],
           "xaxis": "x",
           "y": [
            null
           ],
           "yaxis": "y"
          },
          {
           "hovertemplate": "<b>%{hovertext}</b><br><br>Country=Latvia<br>Year=2023<br>GDP=%{marker.size}<br>RoadSpending=%{y}<extra></extra>",
           "hovertext": [
            "Latvia"
           ],
           "legendgroup": "Latvia",
           "marker": {
            "color": "#FFA15A",
            "size": [
             38839600000
            ],
            "sizemode": "area",
            "sizeref": 1119177225,
            "symbol": "circle"
           },
           "mode": "markers",
           "name": "Latvia",
           "orientation": "v",
           "showlegend": true,
           "type": "scatter",
           "x": [
            38839600000
           ],
           "xaxis": "x",
           "y": [
            227000000
           ],
           "yaxis": "y"
          },
          {
           "hovertemplate": "<b>%{hovertext}</b><br><br>Country=Lithuania<br>Year=2023<br>GDP=%{marker.size}<br>RoadSpending=%{y}<extra></extra>",
           "hovertext": [
            "Lithuania"
           ],
           "legendgroup": "Lithuania",
           "marker": {
            "color": "#19d3f3",
            "size": [
             69281160000
            ],
            "sizemode": "area",
            "sizeref": 1119177225,
            "symbol": "circle"
           },
           "mode": "markers",
           "name": "Lithuania",
           "orientation": "v",
           "showlegend": true,
           "type": "scatter",
           "x": [
            69281160000
           ],
           "xaxis": "x",
           "y": [
            565000000
           ],
           "yaxis": "y"
          },
          {
           "hovertemplate": "<b>%{hovertext}</b><br><br>Country=Luxembourg<br>Year=2023<br>GDP=%{marker.size}<br>RoadSpending=%{y}<extra></extra>",
           "hovertext": [
            "Luxembourg"
           ],
           "legendgroup": "Luxembourg",
           "marker": {
            "color": "#FF6692",
            "size": [
             76344200000
            ],
            "sizemode": "area",
            "sizeref": 1119177225,
            "symbol": "circle"
           },
           "mode": "markers",
           "name": "Luxembourg",
           "orientation": "v",
           "showlegend": true,
           "type": "scatter",
           "x": [
            76344200000
           ],
           "xaxis": "x",
           "y": [
            null
           ],
           "yaxis": "y"
          },
          {
           "hovertemplate": "<b>%{hovertext}</b><br><br>Country=Malta<br>Year=2023<br>GDP=%{marker.size}<br>RoadSpending=%{y}<extra></extra>",
           "hovertext": [
            "Malta"
           ],
           "legendgroup": "Malta",
           "marker": {
            "color": "#B6E880",
            "size": [
             19878150000
            ],
            "sizemode": "area",
            "sizeref": 1119177225,
            "symbol": "circle"
           },
           "mode": "markers",
           "name": "Malta",
           "orientation": "v",
           "showlegend": true,
           "type": "scatter",
           "x": [
            19878150000
           ],
           "xaxis": "x",
           "y": [
            null
           ],
           "yaxis": "y"
          },
          {
           "hovertemplate": "<b>%{hovertext}</b><br><br>Country=Netherlands<br>Year=2023<br>GDP=%{marker.size}<br>RoadSpending=%{y}<extra></extra>",
           "hovertext": [
            "Netherlands"
           ],
           "legendgroup": "Netherlands",
           "marker": {
            "color": "#FF97FF",
            "size": [
             1027677660000
            ],
            "sizemode": "area",
            "sizeref": 1119177225,
            "symbol": "circle"
           },
           "mode": "markers",
           "name": "Netherlands",
           "orientation": "v",
           "showlegend": true,
           "type": "scatter",
           "x": [
            1027677660000
           ],
           "xaxis": "x",
           "y": [
            7667273790
           ],
           "yaxis": "y"
          },
          {
           "hovertemplate": "<b>%{hovertext}</b><br><br>Country=Poland<br>Year=2023<br>GDP=%{marker.size}<br>RoadSpending=%{y}<extra></extra>",
           "hovertext": [
            "Poland"
           ],
           "legendgroup": "Poland",
           "marker": {
            "color": "#FECB52",
            "size": [
             722445040000
            ],
            "sizemode": "area",
            "sizeref": 1119177225,
            "symbol": "circle"
           },
           "mode": "markers",
           "name": "Poland",
           "orientation": "v",
           "showlegend": true,
           "type": "scatter",
           "x": [
            722445040000
           ],
           "xaxis": "x",
           "y": [
            3713121973
           ],
           "yaxis": "y"
          },
          {
           "hovertemplate": "<b>%{hovertext}</b><br><br>Country=Portugal<br>Year=2023<br>GDP=%{marker.size}<br>RoadSpending=%{y}<extra></extra>",
           "hovertext": [
            "Portugal"
           ],
           "legendgroup": "Portugal",
           "marker": {
            "color": "#636efa",
            "size": [
             255596430000
            ],
            "sizemode": "area",
            "sizeref": 1119177225,
            "symbol": "circle"
           },
           "mode": "markers",
           "name": "Portugal",
           "orientation": "v",
           "showlegend": true,
           "type": "scatter",
           "x": [
            255596430000
           ],
           "xaxis": "x",
           "y": [
            null
           ],
           "yaxis": "y"
          },
          {
           "hovertemplate": "<b>%{hovertext}</b><br><br>Country=Romania<br>Year=2023<br>GDP=%{marker.size}<br>RoadSpending=%{y}<extra></extra>",
           "hovertext": [
            "Romania"
           ],
           "legendgroup": "Romania",
           "marker": {
            "color": "#EF553B",
            "size": [
             312455860000
            ],
            "sizemode": "area",
            "sizeref": 1119177225,
            "symbol": "circle"
           },
           "mode": "markers",
           "name": "Romania",
           "orientation": "v",
           "showlegend": true,
           "type": "scatter",
           "x": [
            312455860000
           ],
           "xaxis": "x",
           "y": [
            null
           ],
           "yaxis": "y"
          },
          {
           "hovertemplate": "<b>%{hovertext}</b><br><br>Country=Slovak Republic<br>Year=2023<br>GDP=%{marker.size}<br>RoadSpending=%{y}<extra></extra>",
           "hovertext": [
            "Slovak Republic"
           ],
           "legendgroup": "Slovak Republic",
           "marker": {
            "color": "#00cc96",
            "size": [
             118220480000
            ],
            "sizemode": "area",
            "sizeref": 1119177225,
            "symbol": "circle"
           },
           "mode": "markers",
           "name": "Slovak Republic",
           "orientation": "v",
           "showlegend": true,
           "type": "scatter",
           "x": [
            118220480000
           ],
           "xaxis": "x",
           "y": [
            860000000
           ],
           "yaxis": "y"
          },
          {
           "hovertemplate": "<b>%{hovertext}</b><br><br>Country=Slovenia<br>Year=2023<br>GDP=%{marker.size}<br>RoadSpending=%{y}<extra></extra>",
           "hovertext": [
            "Slovenia"
           ],
           "legendgroup": "Slovenia",
           "marker": {
            "color": "#ab63fa",
            "size": [
             61559520000
            ],
            "sizemode": "area",
            "sizeref": 1119177225,
            "symbol": "circle"
           },
           "mode": "markers",
           "name": "Slovenia",
           "orientation": "v",
           "showlegend": true,
           "type": "scatter",
           "x": [
            61559520000
           ],
           "xaxis": "x",
           "y": [
            476000000
           ],
           "yaxis": "y"
          },
          {
           "hovertemplate": "<b>%{hovertext}</b><br><br>Country=Spain<br>Year=2023<br>GDP=%{marker.size}<br>RoadSpending=%{y}<extra></extra>",
           "hovertext": [
            "Spain"
           ],
           "legendgroup": "Spain",
           "marker": {
            "color": "#FFA15A",
            "size": [
             1442296620000
            ],
            "sizemode": "area",
            "sizeref": 1119177225,
            "symbol": "circle"
           },
           "mode": "markers",
           "name": "Spain",
           "orientation": "v",
           "showlegend": true,
           "type": "scatter",
           "x": [
            1442296620000
           ],
           "xaxis": "x",
           "y": [
            4997000000
           ],
           "yaxis": "y"
          },
          {
           "hovertemplate": "<b>%{hovertext}</b><br><br>Country=Sweden<br>Year=2023<br>GDP=%{marker.size}<br>RoadSpending=%{y}<extra></extra>",
           "hovertext": [
            "Sweden"
           ],
           "legendgroup": "Sweden",
           "marker": {
            "color": "#19d3f3",
            "size": [
             520573460000
            ],
            "sizemode": "area",
            "sizeref": 1119177225,
            "symbol": "circle"
           },
           "mode": "markers",
           "name": "Sweden",
           "orientation": "v",
           "showlegend": true,
           "type": "scatter",
           "x": [
            520573460000
           ],
           "xaxis": "x",
           "y": [
            2773865142
           ],
           "yaxis": "y"
          }
         ],
         "name": "2023"
        }
       ],
       "layout": {
        "legend": {
         "itemsizing": "constant",
         "title": {
          "text": "Country"
         },
         "tracegroupgap": 0
        },
        "margin": {
         "t": 60
        },
        "sliders": [
         {
          "active": 0,
          "currentvalue": {
           "prefix": "Year="
          },
          "len": 0.9,
          "pad": {
           "b": 10,
           "t": 60
          },
          "steps": [
           {
            "args": [
             [
              "1995"
             ],
             {
              "frame": {
               "duration": 0,
               "redraw": false
              },
              "fromcurrent": true,
              "mode": "immediate",
              "transition": {
               "duration": 0,
               "easing": "linear"
              }
             }
            ],
            "label": "1995",
            "method": "animate"
           },
           {
            "args": [
             [
              "1996"
             ],
             {
              "frame": {
               "duration": 0,
               "redraw": false
              },
              "fromcurrent": true,
              "mode": "immediate",
              "transition": {
               "duration": 0,
               "easing": "linear"
              }
             }
            ],
            "label": "1996",
            "method": "animate"
           },
           {
            "args": [
             [
              "1997"
             ],
             {
              "frame": {
               "duration": 0,
               "redraw": false
              },
              "fromcurrent": true,
              "mode": "immediate",
              "transition": {
               "duration": 0,
               "easing": "linear"
              }
             }
            ],
            "label": "1997",
            "method": "animate"
           },
           {
            "args": [
             [
              "1998"
             ],
             {
              "frame": {
               "duration": 0,
               "redraw": false
              },
              "fromcurrent": true,
              "mode": "immediate",
              "transition": {
               "duration": 0,
               "easing": "linear"
              }
             }
            ],
            "label": "1998",
            "method": "animate"
           },
           {
            "args": [
             [
              "1999"
             ],
             {
              "frame": {
               "duration": 0,
               "redraw": false
              },
              "fromcurrent": true,
              "mode": "immediate",
              "transition": {
               "duration": 0,
               "easing": "linear"
              }
             }
            ],
            "label": "1999",
            "method": "animate"
           },
           {
            "args": [
             [
              "2000"
             ],
             {
              "frame": {
               "duration": 0,
               "redraw": false
              },
              "fromcurrent": true,
              "mode": "immediate",
              "transition": {
               "duration": 0,
               "easing": "linear"
              }
             }
            ],
            "label": "2000",
            "method": "animate"
           },
           {
            "args": [
             [
              "2001"
             ],
             {
              "frame": {
               "duration": 0,
               "redraw": false
              },
              "fromcurrent": true,
              "mode": "immediate",
              "transition": {
               "duration": 0,
               "easing": "linear"
              }
             }
            ],
            "label": "2001",
            "method": "animate"
           },
           {
            "args": [
             [
              "2002"
             ],
             {
              "frame": {
               "duration": 0,
               "redraw": false
              },
              "fromcurrent": true,
              "mode": "immediate",
              "transition": {
               "duration": 0,
               "easing": "linear"
              }
             }
            ],
            "label": "2002",
            "method": "animate"
           },
           {
            "args": [
             [
              "2003"
             ],
             {
              "frame": {
               "duration": 0,
               "redraw": false
              },
              "fromcurrent": true,
              "mode": "immediate",
              "transition": {
               "duration": 0,
               "easing": "linear"
              }
             }
            ],
            "label": "2003",
            "method": "animate"
           },
           {
            "args": [
             [
              "2004"
             ],
             {
              "frame": {
               "duration": 0,
               "redraw": false
              },
              "fromcurrent": true,
              "mode": "immediate",
              "transition": {
               "duration": 0,
               "easing": "linear"
              }
             }
            ],
            "label": "2004",
            "method": "animate"
           },
           {
            "args": [
             [
              "2005"
             ],
             {
              "frame": {
               "duration": 0,
               "redraw": false
              },
              "fromcurrent": true,
              "mode": "immediate",
              "transition": {
               "duration": 0,
               "easing": "linear"
              }
             }
            ],
            "label": "2005",
            "method": "animate"
           },
           {
            "args": [
             [
              "2006"
             ],
             {
              "frame": {
               "duration": 0,
               "redraw": false
              },
              "fromcurrent": true,
              "mode": "immediate",
              "transition": {
               "duration": 0,
               "easing": "linear"
              }
             }
            ],
            "label": "2006",
            "method": "animate"
           },
           {
            "args": [
             [
              "2007"
             ],
             {
              "frame": {
               "duration": 0,
               "redraw": false
              },
              "fromcurrent": true,
              "mode": "immediate",
              "transition": {
               "duration": 0,
               "easing": "linear"
              }
             }
            ],
            "label": "2007",
            "method": "animate"
           },
           {
            "args": [
             [
              "2008"
             ],
             {
              "frame": {
               "duration": 0,
               "redraw": false
              },
              "fromcurrent": true,
              "mode": "immediate",
              "transition": {
               "duration": 0,
               "easing": "linear"
              }
             }
            ],
            "label": "2008",
            "method": "animate"
           },
           {
            "args": [
             [
              "2009"
             ],
             {
              "frame": {
               "duration": 0,
               "redraw": false
              },
              "fromcurrent": true,
              "mode": "immediate",
              "transition": {
               "duration": 0,
               "easing": "linear"
              }
             }
            ],
            "label": "2009",
            "method": "animate"
           },
           {
            "args": [
             [
              "2010"
             ],
             {
              "frame": {
               "duration": 0,
               "redraw": false
              },
              "fromcurrent": true,
              "mode": "immediate",
              "transition": {
               "duration": 0,
               "easing": "linear"
              }
             }
            ],
            "label": "2010",
            "method": "animate"
           },
           {
            "args": [
             [
              "2011"
             ],
             {
              "frame": {
               "duration": 0,
               "redraw": false
              },
              "fromcurrent": true,
              "mode": "immediate",
              "transition": {
               "duration": 0,
               "easing": "linear"
              }
             }
            ],
            "label": "2011",
            "method": "animate"
           },
           {
            "args": [
             [
              "2012"
             ],
             {
              "frame": {
               "duration": 0,
               "redraw": false
              },
              "fromcurrent": true,
              "mode": "immediate",
              "transition": {
               "duration": 0,
               "easing": "linear"
              }
             }
            ],
            "label": "2012",
            "method": "animate"
           },
           {
            "args": [
             [
              "2013"
             ],
             {
              "frame": {
               "duration": 0,
               "redraw": false
              },
              "fromcurrent": true,
              "mode": "immediate",
              "transition": {
               "duration": 0,
               "easing": "linear"
              }
             }
            ],
            "label": "2013",
            "method": "animate"
           },
           {
            "args": [
             [
              "2014"
             ],
             {
              "frame": {
               "duration": 0,
               "redraw": false
              },
              "fromcurrent": true,
              "mode": "immediate",
              "transition": {
               "duration": 0,
               "easing": "linear"
              }
             }
            ],
            "label": "2014",
            "method": "animate"
           },
           {
            "args": [
             [
              "2015"
             ],
             {
              "frame": {
               "duration": 0,
               "redraw": false
              },
              "fromcurrent": true,
              "mode": "immediate",
              "transition": {
               "duration": 0,
               "easing": "linear"
              }
             }
            ],
            "label": "2015",
            "method": "animate"
           },
           {
            "args": [
             [
              "2016"
             ],
             {
              "frame": {
               "duration": 0,
               "redraw": false
              },
              "fromcurrent": true,
              "mode": "immediate",
              "transition": {
               "duration": 0,
               "easing": "linear"
              }
             }
            ],
            "label": "2016",
            "method": "animate"
           },
           {
            "args": [
             [
              "2017"
             ],
             {
              "frame": {
               "duration": 0,
               "redraw": false
              },
              "fromcurrent": true,
              "mode": "immediate",
              "transition": {
               "duration": 0,
               "easing": "linear"
              }
             }
            ],
            "label": "2017",
            "method": "animate"
           },
           {
            "args": [
             [
              "2018"
             ],
             {
              "frame": {
               "duration": 0,
               "redraw": false
              },
              "fromcurrent": true,
              "mode": "immediate",
              "transition": {
               "duration": 0,
               "easing": "linear"
              }
             }
            ],
            "label": "2018",
            "method": "animate"
           },
           {
            "args": [
             [
              "2019"
             ],
             {
              "frame": {
               "duration": 0,
               "redraw": false
              },
              "fromcurrent": true,
              "mode": "immediate",
              "transition": {
               "duration": 0,
               "easing": "linear"
              }
             }
            ],
            "label": "2019",
            "method": "animate"
           },
           {
            "args": [
             [
              "2020"
             ],
             {
              "frame": {
               "duration": 0,
               "redraw": false
              },
              "fromcurrent": true,
              "mode": "immediate",
              "transition": {
               "duration": 0,
               "easing": "linear"
              }
             }
            ],
            "label": "2020",
            "method": "animate"
           },
           {
            "args": [
             [
              "2021"
             ],
             {
              "frame": {
               "duration": 0,
               "redraw": false
              },
              "fromcurrent": true,
              "mode": "immediate",
              "transition": {
               "duration": 0,
               "easing": "linear"
              }
             }
            ],
            "label": "2021",
            "method": "animate"
           },
           {
            "args": [
             [
              "2022"
             ],
             {
              "frame": {
               "duration": 0,
               "redraw": false
              },
              "fromcurrent": true,
              "mode": "immediate",
              "transition": {
               "duration": 0,
               "easing": "linear"
              }
             }
            ],
            "label": "2022",
            "method": "animate"
           },
           {
            "args": [
             [
              "2023"
             ],
             {
              "frame": {
               "duration": 0,
               "redraw": false
              },
              "fromcurrent": true,
              "mode": "immediate",
              "transition": {
               "duration": 0,
               "easing": "linear"
              }
             }
            ],
            "label": "2023",
            "method": "animate"
           }
          ],
          "x": 0.1,
          "xanchor": "left",
          "y": 0,
          "yanchor": "top"
         }
        ],
        "template": {
         "data": {
          "bar": [
           {
            "error_x": {
             "color": "#2a3f5f"
            },
            "error_y": {
             "color": "#2a3f5f"
            },
            "marker": {
             "line": {
              "color": "#E5ECF6",
              "width": 0.5
             },
             "pattern": {
              "fillmode": "overlay",
              "size": 10,
              "solidity": 0.2
             }
            },
            "type": "bar"
           }
          ],
          "barpolar": [
           {
            "marker": {
             "line": {
              "color": "#E5ECF6",
              "width": 0.5
             },
             "pattern": {
              "fillmode": "overlay",
              "size": 10,
              "solidity": 0.2
             }
            },
            "type": "barpolar"
           }
          ],
          "carpet": [
           {
            "aaxis": {
             "endlinecolor": "#2a3f5f",
             "gridcolor": "white",
             "linecolor": "white",
             "minorgridcolor": "white",
             "startlinecolor": "#2a3f5f"
            },
            "baxis": {
             "endlinecolor": "#2a3f5f",
             "gridcolor": "white",
             "linecolor": "white",
             "minorgridcolor": "white",
             "startlinecolor": "#2a3f5f"
            },
            "type": "carpet"
           }
          ],
          "choropleth": [
           {
            "colorbar": {
             "outlinewidth": 0,
             "ticks": ""
            },
            "type": "choropleth"
           }
          ],
          "contour": [
           {
            "colorbar": {
             "outlinewidth": 0,
             "ticks": ""
            },
            "colorscale": [
             [
              0,
              "#0d0887"
             ],
             [
              0.1111111111111111,
              "#46039f"
             ],
             [
              0.2222222222222222,
              "#7201a8"
             ],
             [
              0.3333333333333333,
              "#9c179e"
             ],
             [
              0.4444444444444444,
              "#bd3786"
             ],
             [
              0.5555555555555556,
              "#d8576b"
             ],
             [
              0.6666666666666666,
              "#ed7953"
             ],
             [
              0.7777777777777778,
              "#fb9f3a"
             ],
             [
              0.8888888888888888,
              "#fdca26"
             ],
             [
              1,
              "#f0f921"
             ]
            ],
            "type": "contour"
           }
          ],
          "contourcarpet": [
           {
            "colorbar": {
             "outlinewidth": 0,
             "ticks": ""
            },
            "type": "contourcarpet"
           }
          ],
          "heatmap": [
           {
            "colorbar": {
             "outlinewidth": 0,
             "ticks": ""
            },
            "colorscale": [
             [
              0,
              "#0d0887"
             ],
             [
              0.1111111111111111,
              "#46039f"
             ],
             [
              0.2222222222222222,
              "#7201a8"
             ],
             [
              0.3333333333333333,
              "#9c179e"
             ],
             [
              0.4444444444444444,
              "#bd3786"
             ],
             [
              0.5555555555555556,
              "#d8576b"
             ],
             [
              0.6666666666666666,
              "#ed7953"
             ],
             [
              0.7777777777777778,
              "#fb9f3a"
             ],
             [
              0.8888888888888888,
              "#fdca26"
             ],
             [
              1,
              "#f0f921"
             ]
            ],
            "type": "heatmap"
           }
          ],
          "heatmapgl": [
           {
            "colorbar": {
             "outlinewidth": 0,
             "ticks": ""
            },
            "colorscale": [
             [
              0,
              "#0d0887"
             ],
             [
              0.1111111111111111,
              "#46039f"
             ],
             [
              0.2222222222222222,
              "#7201a8"
             ],
             [
              0.3333333333333333,
              "#9c179e"
             ],
             [
              0.4444444444444444,
              "#bd3786"
             ],
             [
              0.5555555555555556,
              "#d8576b"
             ],
             [
              0.6666666666666666,
              "#ed7953"
             ],
             [
              0.7777777777777778,
              "#fb9f3a"
             ],
             [
              0.8888888888888888,
              "#fdca26"
             ],
             [
              1,
              "#f0f921"
             ]
            ],
            "type": "heatmapgl"
           }
          ],
          "histogram": [
           {
            "marker": {
             "pattern": {
              "fillmode": "overlay",
              "size": 10,
              "solidity": 0.2
             }
            },
            "type": "histogram"
           }
          ],
          "histogram2d": [
           {
            "colorbar": {
             "outlinewidth": 0,
             "ticks": ""
            },
            "colorscale": [
             [
              0,
              "#0d0887"
             ],
             [
              0.1111111111111111,
              "#46039f"
             ],
             [
              0.2222222222222222,
              "#7201a8"
             ],
             [
              0.3333333333333333,
              "#9c179e"
             ],
             [
              0.4444444444444444,
              "#bd3786"
             ],
             [
              0.5555555555555556,
              "#d8576b"
             ],
             [
              0.6666666666666666,
              "#ed7953"
             ],
             [
              0.7777777777777778,
              "#fb9f3a"
             ],
             [
              0.8888888888888888,
              "#fdca26"
             ],
             [
              1,
              "#f0f921"
             ]
            ],
            "type": "histogram2d"
           }
          ],
          "histogram2dcontour": [
           {
            "colorbar": {
             "outlinewidth": 0,
             "ticks": ""
            },
            "colorscale": [
             [
              0,
              "#0d0887"
             ],
             [
              0.1111111111111111,
              "#46039f"
             ],
             [
              0.2222222222222222,
              "#7201a8"
             ],
             [
              0.3333333333333333,
              "#9c179e"
             ],
             [
              0.4444444444444444,
              "#bd3786"
             ],
             [
              0.5555555555555556,
              "#d8576b"
             ],
             [
              0.6666666666666666,
              "#ed7953"
             ],
             [
              0.7777777777777778,
              "#fb9f3a"
             ],
             [
              0.8888888888888888,
              "#fdca26"
             ],
             [
              1,
              "#f0f921"
             ]
            ],
            "type": "histogram2dcontour"
           }
          ],
          "mesh3d": [
           {
            "colorbar": {
             "outlinewidth": 0,
             "ticks": ""
            },
            "type": "mesh3d"
           }
          ],
          "parcoords": [
           {
            "line": {
             "colorbar": {
              "outlinewidth": 0,
              "ticks": ""
             }
            },
            "type": "parcoords"
           }
          ],
          "pie": [
           {
            "automargin": true,
            "type": "pie"
           }
          ],
          "scatter": [
           {
            "fillpattern": {
             "fillmode": "overlay",
             "size": 10,
             "solidity": 0.2
            },
            "type": "scatter"
           }
          ],
          "scatter3d": [
           {
            "line": {
             "colorbar": {
              "outlinewidth": 0,
              "ticks": ""
             }
            },
            "marker": {
             "colorbar": {
              "outlinewidth": 0,
              "ticks": ""
             }
            },
            "type": "scatter3d"
           }
          ],
          "scattercarpet": [
           {
            "marker": {
             "colorbar": {
              "outlinewidth": 0,
              "ticks": ""
             }
            },
            "type": "scattercarpet"
           }
          ],
          "scattergeo": [
           {
            "marker": {
             "colorbar": {
              "outlinewidth": 0,
              "ticks": ""
             }
            },
            "type": "scattergeo"
           }
          ],
          "scattergl": [
           {
            "marker": {
             "colorbar": {
              "outlinewidth": 0,
              "ticks": ""
             }
            },
            "type": "scattergl"
           }
          ],
          "scattermapbox": [
           {
            "marker": {
             "colorbar": {
              "outlinewidth": 0,
              "ticks": ""
             }
            },
            "type": "scattermapbox"
           }
          ],
          "scatterpolar": [
           {
            "marker": {
             "colorbar": {
              "outlinewidth": 0,
              "ticks": ""
             }
            },
            "type": "scatterpolar"
           }
          ],
          "scatterpolargl": [
           {
            "marker": {
             "colorbar": {
              "outlinewidth": 0,
              "ticks": ""
             }
            },
            "type": "scatterpolargl"
           }
          ],
          "scatterternary": [
           {
            "marker": {
             "colorbar": {
              "outlinewidth": 0,
              "ticks": ""
             }
            },
            "type": "scatterternary"
           }
          ],
          "surface": [
           {
            "colorbar": {
             "outlinewidth": 0,
             "ticks": ""
            },
            "colorscale": [
             [
              0,
              "#0d0887"
             ],
             [
              0.1111111111111111,
              "#46039f"
             ],
             [
              0.2222222222222222,
              "#7201a8"
             ],
             [
              0.3333333333333333,
              "#9c179e"
             ],
             [
              0.4444444444444444,
              "#bd3786"
             ],
             [
              0.5555555555555556,
              "#d8576b"
             ],
             [
              0.6666666666666666,
              "#ed7953"
             ],
             [
              0.7777777777777778,
              "#fb9f3a"
             ],
             [
              0.8888888888888888,
              "#fdca26"
             ],
             [
              1,
              "#f0f921"
             ]
            ],
            "type": "surface"
           }
          ],
          "table": [
           {
            "cells": {
             "fill": {
              "color": "#EBF0F8"
             },
             "line": {
              "color": "white"
             }
            },
            "header": {
             "fill": {
              "color": "#C8D4E3"
             },
             "line": {
              "color": "white"
             }
            },
            "type": "table"
           }
          ]
         },
         "layout": {
          "annotationdefaults": {
           "arrowcolor": "#2a3f5f",
           "arrowhead": 0,
           "arrowwidth": 1
          },
          "autotypenumbers": "strict",
          "coloraxis": {
           "colorbar": {
            "outlinewidth": 0,
            "ticks": ""
           }
          },
          "colorscale": {
           "diverging": [
            [
             0,
             "#8e0152"
            ],
            [
             0.1,
             "#c51b7d"
            ],
            [
             0.2,
             "#de77ae"
            ],
            [
             0.3,
             "#f1b6da"
            ],
            [
             0.4,
             "#fde0ef"
            ],
            [
             0.5,
             "#f7f7f7"
            ],
            [
             0.6,
             "#e6f5d0"
            ],
            [
             0.7,
             "#b8e186"
            ],
            [
             0.8,
             "#7fbc41"
            ],
            [
             0.9,
             "#4d9221"
            ],
            [
             1,
             "#276419"
            ]
           ],
           "sequential": [
            [
             0,
             "#0d0887"
            ],
            [
             0.1111111111111111,
             "#46039f"
            ],
            [
             0.2222222222222222,
             "#7201a8"
            ],
            [
             0.3333333333333333,
             "#9c179e"
            ],
            [
             0.4444444444444444,
             "#bd3786"
            ],
            [
             0.5555555555555556,
             "#d8576b"
            ],
            [
             0.6666666666666666,
             "#ed7953"
            ],
            [
             0.7777777777777778,
             "#fb9f3a"
            ],
            [
             0.8888888888888888,
             "#fdca26"
            ],
            [
             1,
             "#f0f921"
            ]
           ],
           "sequentialminus": [
            [
             0,
             "#0d0887"
            ],
            [
             0.1111111111111111,
             "#46039f"
            ],
            [
             0.2222222222222222,
             "#7201a8"
            ],
            [
             0.3333333333333333,
             "#9c179e"
            ],
            [
             0.4444444444444444,
             "#bd3786"
            ],
            [
             0.5555555555555556,
             "#d8576b"
            ],
            [
             0.6666666666666666,
             "#ed7953"
            ],
            [
             0.7777777777777778,
             "#fb9f3a"
            ],
            [
             0.8888888888888888,
             "#fdca26"
            ],
            [
             1,
             "#f0f921"
            ]
           ]
          },
          "colorway": [
           "#636efa",
           "#EF553B",
           "#00cc96",
           "#ab63fa",
           "#FFA15A",
           "#19d3f3",
           "#FF6692",
           "#B6E880",
           "#FF97FF",
           "#FECB52"
          ],
          "font": {
           "color": "#2a3f5f"
          },
          "geo": {
           "bgcolor": "white",
           "lakecolor": "white",
           "landcolor": "#E5ECF6",
           "showlakes": true,
           "showland": true,
           "subunitcolor": "white"
          },
          "hoverlabel": {
           "align": "left"
          },
          "hovermode": "closest",
          "mapbox": {
           "style": "light"
          },
          "paper_bgcolor": "white",
          "plot_bgcolor": "#E5ECF6",
          "polar": {
           "angularaxis": {
            "gridcolor": "white",
            "linecolor": "white",
            "ticks": ""
           },
           "bgcolor": "#E5ECF6",
           "radialaxis": {
            "gridcolor": "white",
            "linecolor": "white",
            "ticks": ""
           }
          },
          "scene": {
           "xaxis": {
            "backgroundcolor": "#E5ECF6",
            "gridcolor": "white",
            "gridwidth": 2,
            "linecolor": "white",
            "showbackground": true,
            "ticks": "",
            "zerolinecolor": "white"
           },
           "yaxis": {
            "backgroundcolor": "#E5ECF6",
            "gridcolor": "white",
            "gridwidth": 2,
            "linecolor": "white",
            "showbackground": true,
            "ticks": "",
            "zerolinecolor": "white"
           },
           "zaxis": {
            "backgroundcolor": "#E5ECF6",
            "gridcolor": "white",
            "gridwidth": 2,
            "linecolor": "white",
            "showbackground": true,
            "ticks": "",
            "zerolinecolor": "white"
           }
          },
          "shapedefaults": {
           "line": {
            "color": "#2a3f5f"
           }
          },
          "ternary": {
           "aaxis": {
            "gridcolor": "white",
            "linecolor": "white",
            "ticks": ""
           },
           "baxis": {
            "gridcolor": "white",
            "linecolor": "white",
            "ticks": ""
           },
           "bgcolor": "#E5ECF6",
           "caxis": {
            "gridcolor": "white",
            "linecolor": "white",
            "ticks": ""
           }
          },
          "title": {
           "x": 0.05
          },
          "xaxis": {
           "automargin": true,
           "gridcolor": "white",
           "linecolor": "white",
           "ticks": "",
           "title": {
            "standoff": 15
           },
           "zerolinecolor": "white",
           "zerolinewidth": 2
          },
          "yaxis": {
           "automargin": true,
           "gridcolor": "white",
           "linecolor": "white",
           "ticks": "",
           "title": {
            "standoff": 15
           },
           "zerolinecolor": "white",
           "zerolinewidth": 2
          }
         }
        },
        "title": {
         "text": "Country GDP vs. Road Spending (1995-2023)",
         "x": 0.5,
         "xanchor": "center"
        },
        "updatemenus": [
         {
          "buttons": [
           {
            "args": [
             null,
             {
              "frame": {
               "duration": 500,
               "redraw": false
              },
              "fromcurrent": true,
              "mode": "immediate",
              "transition": {
               "duration": 500,
               "easing": "linear"
              }
             }
            ],
            "label": "&#9654;",
            "method": "animate"
           },
           {
            "args": [
             [
              null
             ],
             {
              "frame": {
               "duration": 0,
               "redraw": false
              },
              "fromcurrent": true,
              "mode": "immediate",
              "transition": {
               "duration": 0,
               "easing": "linear"
              }
             }
            ],
            "label": "&#9724;",
            "method": "animate"
           }
          ],
          "direction": "left",
          "pad": {
           "r": 10,
           "t": 70
          },
          "showactive": false,
          "type": "buttons",
          "x": 0.1,
          "xanchor": "right",
          "y": 0,
          "yanchor": "top"
         }
        ],
        "xaxis": {
         "anchor": "y",
         "domain": [
          0,
          1
         ],
         "range": [
          9.698970004336017,
          12.778151250383642
         ],
         "title": {
          "text": "GDP"
         },
         "type": "log"
        },
        "yaxis": {
         "anchor": "x",
         "domain": [
          0,
          1
         ],
         "range": [
          -1000000000,
          25000000000
         ],
         "title": {
          "text": "Road Spending"
         }
        }
       }
      }
     },
     "metadata": {},
     "output_type": "display_data"
    },
    {
     "name": "stdout",
     "output_type": "stream",
     "text": [
      "object\n"
     ]
    },
    {
     "name": "stderr",
     "output_type": "stream",
     "text": [
      "/var/folders/mv/1xmk4xds7d548s_3ktkk13600000gn/T/ipykernel_4524/1627526132.py:1: SettingWithCopyWarning:\n",
      "\n",
      "\n",
      "A value is trying to be set on a copy of a slice from a DataFrame.\n",
      "Try using .loc[row_indexer,col_indexer] = value instead\n",
      "\n",
      "See the caveats in the documentation: https://pandas.pydata.org/pandas-docs/stable/user_guide/indexing.html#returning-a-view-versus-a-copy\n",
      "\n"
     ]
    },
    {
     "data": {
      "application/vnd.plotly.v1+json": {
       "config": {
        "plotlyServerURL": "https://plot.ly"
       },
       "data": [
        {
         "marker": {
          "color": "crimson"
         },
         "name": "Germany",
         "type": "bar",
         "x": [
          2012,
          2013,
          2014,
          2015,
          2016,
          2017,
          2018,
          2019,
          2020,
          2021,
          2022,
          2023
         ],
         "y": [
          399531982,
          414453278,
          394377723,
          420166585,
          426990841,
          404592288,
          451416603,
          439169070,
          285977705,
          358428715,
          463342211,
          526338516
         ]
        },
        {
         "marker": {
          "color": "royalblue"
         },
         "name": "France",
         "type": "bar",
         "x": [
          2012,
          2013,
          2014,
          2015,
          2016,
          2017,
          2018,
          2019,
          2020,
          2021,
          2022,
          2023
         ],
         "y": [
          406369476,
          407204584,
          411807574,
          366221284,
          359227358,
          392347108,
          392229828,
          386709202,
          305202977,
          374563212,
          435660457,
          464286634
         ]
        },
        {
         "marker": {
          "color": "darkorange"
         },
         "name": "Spain",
         "type": "bar",
         "x": [
          2012,
          2013,
          2014,
          2015,
          2016,
          2017,
          2018,
          2019,
          2020,
          2021,
          2022,
          2023
         ],
         "y": [
          248536678,
          243094908,
          237899314,
          258762120,
          273436004,
          289462889,
          293323160,
          291426796,
          156125758,
          223492010,
          275660135,
          290848376
         ]
        }
       ],
       "layout": {
        "barmode": "group",
        "template": {
         "data": {
          "bar": [
           {
            "error_x": {
             "color": "#2a3f5f"
            },
            "error_y": {
             "color": "#2a3f5f"
            },
            "marker": {
             "line": {
              "color": "#E5ECF6",
              "width": 0.5
             },
             "pattern": {
              "fillmode": "overlay",
              "size": 10,
              "solidity": 0.2
             }
            },
            "type": "bar"
           }
          ],
          "barpolar": [
           {
            "marker": {
             "line": {
              "color": "#E5ECF6",
              "width": 0.5
             },
             "pattern": {
              "fillmode": "overlay",
              "size": 10,
              "solidity": 0.2
             }
            },
            "type": "barpolar"
           }
          ],
          "carpet": [
           {
            "aaxis": {
             "endlinecolor": "#2a3f5f",
             "gridcolor": "white",
             "linecolor": "white",
             "minorgridcolor": "white",
             "startlinecolor": "#2a3f5f"
            },
            "baxis": {
             "endlinecolor": "#2a3f5f",
             "gridcolor": "white",
             "linecolor": "white",
             "minorgridcolor": "white",
             "startlinecolor": "#2a3f5f"
            },
            "type": "carpet"
           }
          ],
          "choropleth": [
           {
            "colorbar": {
             "outlinewidth": 0,
             "ticks": ""
            },
            "type": "choropleth"
           }
          ],
          "contour": [
           {
            "colorbar": {
             "outlinewidth": 0,
             "ticks": ""
            },
            "colorscale": [
             [
              0,
              "#0d0887"
             ],
             [
              0.1111111111111111,
              "#46039f"
             ],
             [
              0.2222222222222222,
              "#7201a8"
             ],
             [
              0.3333333333333333,
              "#9c179e"
             ],
             [
              0.4444444444444444,
              "#bd3786"
             ],
             [
              0.5555555555555556,
              "#d8576b"
             ],
             [
              0.6666666666666666,
              "#ed7953"
             ],
             [
              0.7777777777777778,
              "#fb9f3a"
             ],
             [
              0.8888888888888888,
              "#fdca26"
             ],
             [
              1,
              "#f0f921"
             ]
            ],
            "type": "contour"
           }
          ],
          "contourcarpet": [
           {
            "colorbar": {
             "outlinewidth": 0,
             "ticks": ""
            },
            "type": "contourcarpet"
           }
          ],
          "heatmap": [
           {
            "colorbar": {
             "outlinewidth": 0,
             "ticks": ""
            },
            "colorscale": [
             [
              0,
              "#0d0887"
             ],
             [
              0.1111111111111111,
              "#46039f"
             ],
             [
              0.2222222222222222,
              "#7201a8"
             ],
             [
              0.3333333333333333,
              "#9c179e"
             ],
             [
              0.4444444444444444,
              "#bd3786"
             ],
             [
              0.5555555555555556,
              "#d8576b"
             ],
             [
              0.6666666666666666,
              "#ed7953"
             ],
             [
              0.7777777777777778,
              "#fb9f3a"
             ],
             [
              0.8888888888888888,
              "#fdca26"
             ],
             [
              1,
              "#f0f921"
             ]
            ],
            "type": "heatmap"
           }
          ],
          "heatmapgl": [
           {
            "colorbar": {
             "outlinewidth": 0,
             "ticks": ""
            },
            "colorscale": [
             [
              0,
              "#0d0887"
             ],
             [
              0.1111111111111111,
              "#46039f"
             ],
             [
              0.2222222222222222,
              "#7201a8"
             ],
             [
              0.3333333333333333,
              "#9c179e"
             ],
             [
              0.4444444444444444,
              "#bd3786"
             ],
             [
              0.5555555555555556,
              "#d8576b"
             ],
             [
              0.6666666666666666,
              "#ed7953"
             ],
             [
              0.7777777777777778,
              "#fb9f3a"
             ],
             [
              0.8888888888888888,
              "#fdca26"
             ],
             [
              1,
              "#f0f921"
             ]
            ],
            "type": "heatmapgl"
           }
          ],
          "histogram": [
           {
            "marker": {
             "pattern": {
              "fillmode": "overlay",
              "size": 10,
              "solidity": 0.2
             }
            },
            "type": "histogram"
           }
          ],
          "histogram2d": [
           {
            "colorbar": {
             "outlinewidth": 0,
             "ticks": ""
            },
            "colorscale": [
             [
              0,
              "#0d0887"
             ],
             [
              0.1111111111111111,
              "#46039f"
             ],
             [
              0.2222222222222222,
              "#7201a8"
             ],
             [
              0.3333333333333333,
              "#9c179e"
             ],
             [
              0.4444444444444444,
              "#bd3786"
             ],
             [
              0.5555555555555556,
              "#d8576b"
             ],
             [
              0.6666666666666666,
              "#ed7953"
             ],
             [
              0.7777777777777778,
              "#fb9f3a"
             ],
             [
              0.8888888888888888,
              "#fdca26"
             ],
             [
              1,
              "#f0f921"
             ]
            ],
            "type": "histogram2d"
           }
          ],
          "histogram2dcontour": [
           {
            "colorbar": {
             "outlinewidth": 0,
             "ticks": ""
            },
            "colorscale": [
             [
              0,
              "#0d0887"
             ],
             [
              0.1111111111111111,
              "#46039f"
             ],
             [
              0.2222222222222222,
              "#7201a8"
             ],
             [
              0.3333333333333333,
              "#9c179e"
             ],
             [
              0.4444444444444444,
              "#bd3786"
             ],
             [
              0.5555555555555556,
              "#d8576b"
             ],
             [
              0.6666666666666666,
              "#ed7953"
             ],
             [
              0.7777777777777778,
              "#fb9f3a"
             ],
             [
              0.8888888888888888,
              "#fdca26"
             ],
             [
              1,
              "#f0f921"
             ]
            ],
            "type": "histogram2dcontour"
           }
          ],
          "mesh3d": [
           {
            "colorbar": {
             "outlinewidth": 0,
             "ticks": ""
            },
            "type": "mesh3d"
           }
          ],
          "parcoords": [
           {
            "line": {
             "colorbar": {
              "outlinewidth": 0,
              "ticks": ""
             }
            },
            "type": "parcoords"
           }
          ],
          "pie": [
           {
            "automargin": true,
            "type": "pie"
           }
          ],
          "scatter": [
           {
            "fillpattern": {
             "fillmode": "overlay",
             "size": 10,
             "solidity": 0.2
            },
            "type": "scatter"
           }
          ],
          "scatter3d": [
           {
            "line": {
             "colorbar": {
              "outlinewidth": 0,
              "ticks": ""
             }
            },
            "marker": {
             "colorbar": {
              "outlinewidth": 0,
              "ticks": ""
             }
            },
            "type": "scatter3d"
           }
          ],
          "scattercarpet": [
           {
            "marker": {
             "colorbar": {
              "outlinewidth": 0,
              "ticks": ""
             }
            },
            "type": "scattercarpet"
           }
          ],
          "scattergeo": [
           {
            "marker": {
             "colorbar": {
              "outlinewidth": 0,
              "ticks": ""
             }
            },
            "type": "scattergeo"
           }
          ],
          "scattergl": [
           {
            "marker": {
             "colorbar": {
              "outlinewidth": 0,
              "ticks": ""
             }
            },
            "type": "scattergl"
           }
          ],
          "scattermapbox": [
           {
            "marker": {
             "colorbar": {
              "outlinewidth": 0,
              "ticks": ""
             }
            },
            "type": "scattermapbox"
           }
          ],
          "scatterpolar": [
           {
            "marker": {
             "colorbar": {
              "outlinewidth": 0,
              "ticks": ""
             }
            },
            "type": "scatterpolar"
           }
          ],
          "scatterpolargl": [
           {
            "marker": {
             "colorbar": {
              "outlinewidth": 0,
              "ticks": ""
             }
            },
            "type": "scatterpolargl"
           }
          ],
          "scatterternary": [
           {
            "marker": {
             "colorbar": {
              "outlinewidth": 0,
              "ticks": ""
             }
            },
            "type": "scatterternary"
           }
          ],
          "surface": [
           {
            "colorbar": {
             "outlinewidth": 0,
             "ticks": ""
            },
            "colorscale": [
             [
              0,
              "#0d0887"
             ],
             [
              0.1111111111111111,
              "#46039f"
             ],
             [
              0.2222222222222222,
              "#7201a8"
             ],
             [
              0.3333333333333333,
              "#9c179e"
             ],
             [
              0.4444444444444444,
              "#bd3786"
             ],
             [
              0.5555555555555556,
              "#d8576b"
             ],
             [
              0.6666666666666666,
              "#ed7953"
             ],
             [
              0.7777777777777778,
              "#fb9f3a"
             ],
             [
              0.8888888888888888,
              "#fdca26"
             ],
             [
              1,
              "#f0f921"
             ]
            ],
            "type": "surface"
           }
          ],
          "table": [
           {
            "cells": {
             "fill": {
              "color": "#EBF0F8"
             },
             "line": {
              "color": "white"
             }
            },
            "header": {
             "fill": {
              "color": "#C8D4E3"
             },
             "line": {
              "color": "white"
             }
            },
            "type": "table"
           }
          ]
         },
         "layout": {
          "annotationdefaults": {
           "arrowcolor": "#2a3f5f",
           "arrowhead": 0,
           "arrowwidth": 1
          },
          "autotypenumbers": "strict",
          "coloraxis": {
           "colorbar": {
            "outlinewidth": 0,
            "ticks": ""
           }
          },
          "colorscale": {
           "diverging": [
            [
             0,
             "#8e0152"
            ],
            [
             0.1,
             "#c51b7d"
            ],
            [
             0.2,
             "#de77ae"
            ],
            [
             0.3,
             "#f1b6da"
            ],
            [
             0.4,
             "#fde0ef"
            ],
            [
             0.5,
             "#f7f7f7"
            ],
            [
             0.6,
             "#e6f5d0"
            ],
            [
             0.7,
             "#b8e186"
            ],
            [
             0.8,
             "#7fbc41"
            ],
            [
             0.9,
             "#4d9221"
            ],
            [
             1,
             "#276419"
            ]
           ],
           "sequential": [
            [
             0,
             "#0d0887"
            ],
            [
             0.1111111111111111,
             "#46039f"
            ],
            [
             0.2222222222222222,
             "#7201a8"
            ],
            [
             0.3333333333333333,
             "#9c179e"
            ],
            [
             0.4444444444444444,
             "#bd3786"
            ],
            [
             0.5555555555555556,
             "#d8576b"
            ],
            [
             0.6666666666666666,
             "#ed7953"
            ],
            [
             0.7777777777777778,
             "#fb9f3a"
            ],
            [
             0.8888888888888888,
             "#fdca26"
            ],
            [
             1,
             "#f0f921"
            ]
           ],
           "sequentialminus": [
            [
             0,
             "#0d0887"
            ],
            [
             0.1111111111111111,
             "#46039f"
            ],
            [
             0.2222222222222222,
             "#7201a8"
            ],
            [
             0.3333333333333333,
             "#9c179e"
            ],
            [
             0.4444444444444444,
             "#bd3786"
            ],
            [
             0.5555555555555556,
             "#d8576b"
            ],
            [
             0.6666666666666666,
             "#ed7953"
            ],
            [
             0.7777777777777778,
             "#fb9f3a"
            ],
            [
             0.8888888888888888,
             "#fdca26"
            ],
            [
             1,
             "#f0f921"
            ]
           ]
          },
          "colorway": [
           "#636efa",
           "#EF553B",
           "#00cc96",
           "#ab63fa",
           "#FFA15A",
           "#19d3f3",
           "#FF6692",
           "#B6E880",
           "#FF97FF",
           "#FECB52"
          ],
          "font": {
           "color": "#2a3f5f"
          },
          "geo": {
           "bgcolor": "white",
           "lakecolor": "white",
           "landcolor": "#E5ECF6",
           "showlakes": true,
           "showland": true,
           "subunitcolor": "white"
          },
          "hoverlabel": {
           "align": "left"
          },
          "hovermode": "closest",
          "mapbox": {
           "style": "light"
          },
          "paper_bgcolor": "white",
          "plot_bgcolor": "#E5ECF6",
          "polar": {
           "angularaxis": {
            "gridcolor": "white",
            "linecolor": "white",
            "ticks": ""
           },
           "bgcolor": "#E5ECF6",
           "radialaxis": {
            "gridcolor": "white",
            "linecolor": "white",
            "ticks": ""
           }
          },
          "scene": {
           "xaxis": {
            "backgroundcolor": "#E5ECF6",
            "gridcolor": "white",
            "gridwidth": 2,
            "linecolor": "white",
            "showbackground": true,
            "ticks": "",
            "zerolinecolor": "white"
           },
           "yaxis": {
            "backgroundcolor": "#E5ECF6",
            "gridcolor": "white",
            "gridwidth": 2,
            "linecolor": "white",
            "showbackground": true,
            "ticks": "",
            "zerolinecolor": "white"
           },
           "zaxis": {
            "backgroundcolor": "#E5ECF6",
            "gridcolor": "white",
            "gridwidth": 2,
            "linecolor": "white",
            "showbackground": true,
            "ticks": "",
            "zerolinecolor": "white"
           }
          },
          "shapedefaults": {
           "line": {
            "color": "#2a3f5f"
           }
          },
          "ternary": {
           "aaxis": {
            "gridcolor": "white",
            "linecolor": "white",
            "ticks": ""
           },
           "baxis": {
            "gridcolor": "white",
            "linecolor": "white",
            "ticks": ""
           },
           "bgcolor": "#E5ECF6",
           "caxis": {
            "gridcolor": "white",
            "linecolor": "white",
            "ticks": ""
           }
          },
          "title": {
           "x": 0.05
          },
          "xaxis": {
           "automargin": true,
           "gridcolor": "white",
           "linecolor": "white",
           "ticks": "",
           "title": {
            "standoff": 15
           },
           "zerolinecolor": "white",
           "zerolinewidth": 2
          },
          "yaxis": {
           "automargin": true,
           "gridcolor": "white",
           "linecolor": "white",
           "ticks": "",
           "title": {
            "standoff": 15
           },
           "zerolinecolor": "white",
           "zerolinewidth": 2
          }
         }
        },
        "title": {
         "text": "Number of Trips for Top 3 Most Traveled Countries by Year (1 night or over)"
        },
        "xaxis": {
         "title": {
          "text": "Year"
         }
        },
        "yaxis": {
         "title": {
          "text": "Number of Trips"
         }
        }
       }
      }
     },
     "metadata": {},
     "output_type": "display_data"
    }
   ],
   "source": [
    "%run roadspending_gdp.ipynb\n",
    "%run trips_duration.ipynb"
   ]
  },
  {
   "cell_type": "code",
   "execution_count": 3,
   "id": "3be59464",
   "metadata": {},
   "outputs": [],
   "source": [
    "def merging_data(final_gdp_roadspending_df, final_1plus_df):\n",
    "\n",
    "    tourist_num = final_1plus_df\n",
    "    gdp = final_gdp_roadspending_df[final_gdp_roadspending_df['Year'] > 2011]\n",
    "\n",
    "    min_trips = tourist_num['NumTrips'].min()\n",
    "    max_trips = tourist_num['NumTrips'].max()\n",
    "\n",
    "    min_gdp = gdp['GDP'].min()\n",
    "    max_gdp = gdp['GDP'].max()\n",
    "\n",
    "    tourist_num['Tourism St.'] = (tourist_num['NumTrips'] - min_trips) / (max_trips - min_trips)\n",
    "    gdp['GDP St.'] = (gdp['GDP'] - min_gdp) / (max_gdp - min_gdp)\n",
    "\n",
    "    tourist_num = pd.DataFrame(final_1plus_df, columns = ['Country', 'Year', 'Tourism St.'])\n",
    "    gdp_actual = pd.DataFrame(gdp, columns = [\"Country\", \"Year\", \"GDP St.\"])\n",
    "\n",
    "    prediction_data = pd.merge(tourist_num, gdp, on = ['Country', 'Year'])\n",
    "    prediction_data[\"Year\"] = prediction_data['Year'].astype(int)\n",
    "\n",
    "\n",
    "    return prediction_data\n",
    "\n",
    "\n"
   ]
  },
  {
   "cell_type": "code",
   "execution_count": 4,
   "id": "f5bdb604",
   "metadata": {},
   "outputs": [
    {
     "name": "stderr",
     "output_type": "stream",
     "text": [
      "/var/folders/mv/1xmk4xds7d548s_3ktkk13600000gn/T/ipykernel_4524/2966242577.py:13: SettingWithCopyWarning:\n",
      "\n",
      "\n",
      "A value is trying to be set on a copy of a slice from a DataFrame.\n",
      "Try using .loc[row_indexer,col_indexer] = value instead\n",
      "\n",
      "See the caveats in the documentation: https://pandas.pydata.org/pandas-docs/stable/user_guide/indexing.html#returning-a-view-versus-a-copy\n",
      "\n"
     ]
    },
    {
     "data": {
      "text/html": [
       "<div>\n",
       "<style scoped>\n",
       "    .dataframe tbody tr th:only-of-type {\n",
       "        vertical-align: middle;\n",
       "    }\n",
       "\n",
       "    .dataframe tbody tr th {\n",
       "        vertical-align: top;\n",
       "    }\n",
       "\n",
       "    .dataframe thead th {\n",
       "        text-align: right;\n",
       "    }\n",
       "</style>\n",
       "<table border=\"1\" class=\"dataframe\">\n",
       "  <thead>\n",
       "    <tr style=\"text-align: right;\">\n",
       "      <th></th>\n",
       "      <th>Country</th>\n",
       "      <th>Year</th>\n",
       "      <th>Tourism St.</th>\n",
       "      <th>RoadSpending</th>\n",
       "      <th>GDP</th>\n",
       "      <th>Spending/GDP%</th>\n",
       "      <th>GDP St.</th>\n",
       "    </tr>\n",
       "  </thead>\n",
       "  <tbody>\n",
       "    <tr>\n",
       "      <th>0</th>\n",
       "      <td>Austria</td>\n",
       "      <td>2012</td>\n",
       "      <td>0.067236</td>\n",
       "      <td>NaN</td>\n",
       "      <td>3.645983e+11</td>\n",
       "      <td>NaN</td>\n",
       "      <td>0.088557</td>\n",
       "    </tr>\n",
       "    <tr>\n",
       "      <th>1</th>\n",
       "      <td>Austria</td>\n",
       "      <td>2013</td>\n",
       "      <td>0.068143</td>\n",
       "      <td>NaN</td>\n",
       "      <td>3.828753e+11</td>\n",
       "      <td>NaN</td>\n",
       "      <td>0.093103</td>\n",
       "    </tr>\n",
       "    <tr>\n",
       "      <th>2</th>\n",
       "      <td>Austria</td>\n",
       "      <td>2014</td>\n",
       "      <td>0.068527</td>\n",
       "      <td>NaN</td>\n",
       "      <td>3.940021e+11</td>\n",
       "      <td>NaN</td>\n",
       "      <td>0.095870</td>\n",
       "    </tr>\n",
       "    <tr>\n",
       "      <th>3</th>\n",
       "      <td>Austria</td>\n",
       "      <td>2015</td>\n",
       "      <td>0.066879</td>\n",
       "      <td>NaN</td>\n",
       "      <td>3.399889e+11</td>\n",
       "      <td>NaN</td>\n",
       "      <td>0.082436</td>\n",
       "    </tr>\n",
       "    <tr>\n",
       "      <th>4</th>\n",
       "      <td>Austria</td>\n",
       "      <td>2016</td>\n",
       "      <td>0.073633</td>\n",
       "      <td>NaN</td>\n",
       "      <td>3.521979e+11</td>\n",
       "      <td>NaN</td>\n",
       "      <td>0.085472</td>\n",
       "    </tr>\n",
       "    <tr>\n",
       "      <th>...</th>\n",
       "      <td>...</td>\n",
       "      <td>...</td>\n",
       "      <td>...</td>\n",
       "      <td>...</td>\n",
       "      <td>...</td>\n",
       "      <td>...</td>\n",
       "      <td>...</td>\n",
       "    </tr>\n",
       "    <tr>\n",
       "      <th>292</th>\n",
       "      <td>Sweden</td>\n",
       "      <td>2018</td>\n",
       "      <td>0.169462</td>\n",
       "      <td>2.497002e+09</td>\n",
       "      <td>4.906677e+11</td>\n",
       "      <td>0.508899</td>\n",
       "      <td>0.119913</td>\n",
       "    </tr>\n",
       "    <tr>\n",
       "      <th>293</th>\n",
       "      <td>Sweden</td>\n",
       "      <td>2019</td>\n",
       "      <td>0.169677</td>\n",
       "      <td>2.503424e+09</td>\n",
       "      <td>4.736304e+11</td>\n",
       "      <td>0.528561</td>\n",
       "      <td>0.115676</td>\n",
       "    </tr>\n",
       "    <tr>\n",
       "      <th>294</th>\n",
       "      <td>Sweden</td>\n",
       "      <td>2020</td>\n",
       "      <td>0.186782</td>\n",
       "      <td>2.941620e+09</td>\n",
       "      <td>4.851817e+11</td>\n",
       "      <td>0.606292</td>\n",
       "      <td>0.118549</td>\n",
       "    </tr>\n",
       "    <tr>\n",
       "      <th>295</th>\n",
       "      <td>Sweden</td>\n",
       "      <td>2021</td>\n",
       "      <td>0.198989</td>\n",
       "      <td>2.910555e+09</td>\n",
       "      <td>5.670964e+11</td>\n",
       "      <td>0.513238</td>\n",
       "      <td>0.138923</td>\n",
       "    </tr>\n",
       "    <tr>\n",
       "      <th>296</th>\n",
       "      <td>Sweden</td>\n",
       "      <td>2022</td>\n",
       "      <td>0.271407</td>\n",
       "      <td>2.895628e+09</td>\n",
       "      <td>5.161074e+11</td>\n",
       "      <td>0.561051</td>\n",
       "      <td>0.126241</td>\n",
       "    </tr>\n",
       "  </tbody>\n",
       "</table>\n",
       "<p>297 rows × 7 columns</p>\n",
       "</div>"
      ],
      "text/plain": [
       "     Country  Year  Tourism St.  RoadSpending           GDP  Spending/GDP%  \\\n",
       "0    Austria  2012     0.067236           NaN  3.645983e+11            NaN   \n",
       "1    Austria  2013     0.068143           NaN  3.828753e+11            NaN   \n",
       "2    Austria  2014     0.068527           NaN  3.940021e+11            NaN   \n",
       "3    Austria  2015     0.066879           NaN  3.399889e+11            NaN   \n",
       "4    Austria  2016     0.073633           NaN  3.521979e+11            NaN   \n",
       "..       ...   ...          ...           ...           ...            ...   \n",
       "292   Sweden  2018     0.169462  2.497002e+09  4.906677e+11       0.508899   \n",
       "293   Sweden  2019     0.169677  2.503424e+09  4.736304e+11       0.528561   \n",
       "294   Sweden  2020     0.186782  2.941620e+09  4.851817e+11       0.606292   \n",
       "295   Sweden  2021     0.198989  2.910555e+09  5.670964e+11       0.513238   \n",
       "296   Sweden  2022     0.271407  2.895628e+09  5.161074e+11       0.561051   \n",
       "\n",
       "      GDP St.  \n",
       "0    0.088557  \n",
       "1    0.093103  \n",
       "2    0.095870  \n",
       "3    0.082436  \n",
       "4    0.085472  \n",
       "..        ...  \n",
       "292  0.119913  \n",
       "293  0.115676  \n",
       "294  0.118549  \n",
       "295  0.138923  \n",
       "296  0.126241  \n",
       "\n",
       "[297 rows x 7 columns]"
      ]
     },
     "execution_count": 4,
     "metadata": {},
     "output_type": "execute_result"
    }
   ],
   "source": [
    "data = merging_data(final_gdp_roadspending_df, final_1plus_df)\n",
    "data"
   ]
  },
  {
   "cell_type": "code",
   "execution_count": 5,
   "id": "2ccbda24",
   "metadata": {},
   "outputs": [],
   "source": [
    "def get_country_prediction(data, country, num_years):\n",
    "    data[\"Year\"] = data['Year'].astype(int)\n",
    "    country_data = data[(data['Country'] == country) & (~data['Year'].isin([2020, 2021]))]\n",
    "    country_data = country_data.sort_values(by = 'Year').reset_index(drop = True)\n",
    "\n",
    "\n",
    "    # creating lag and bias columns\n",
    "    country_data['GDP_lag'] = country_data['GDP St.'].shift(1)\n",
    "    country_data['Tourism_lag'] = country_data['Tourism St.'].shift(1)\n",
    "    country_data['Bias'] = 1\n",
    "    country_data = country_data.dropna().reset_index(drop = True)\n",
    "\n",
    "    if len(country_data) < 3:\n",
    "        print(f\"⚠️ Not enough usable data for {country}. Skipping.\")\n",
    "        return pd.DataFrame()\n",
    "\n",
    "    X = country_data[['Bias', 'GDP_lag', 'Tourism_lag']].values\n",
    "    y_gdp = country_data['GDP St.'].values\n",
    "    y_tourism = country_data['Tourism St.'].values\n",
    "\n",
    "    Xt = X.T\n",
    "    XtX_inv = np.linalg.pinv(np.matmul(Xt, X))\n",
    "    beta_gdp = np.matmul(np.matmul(XtX_inv, Xt), y_gdp)\n",
    "    beta_tourism = np.matmul(np.matmul(XtX_inv, Xt), y_tourism)\n",
    "\n",
    "    last_year = int(country_data['Year'].iloc[-1])\n",
    "    current_gdp = country_data['GDP St.'].iloc[-1]\n",
    "    current_tourism = country_data['Tourism St.'].iloc[-1]\n",
    "\n",
    "    predictions = []\n",
    "    for _ in range(num_years):\n",
    "        x_input = np.array([1, current_gdp, current_tourism])\n",
    "        next_gdp = np.matmul(x_input, beta_gdp)\n",
    "        next_tourism = np.matmul(x_input, beta_tourism)\n",
    "\n",
    "        next_year = last_year + 1\n",
    "        while next_year in [2020, 2021]:\n",
    "            next_year += 1\n",
    "\n",
    "        predictions.append({\n",
    "            'Country': country,\n",
    "            'Year': next_year,\n",
    "            'Predicted_GDP': round(next_gdp, 2),\n",
    "            'Predicted_Tourism': round(next_tourism, 2)\n",
    "        })\n",
    "\n",
    "        last_year = next_year\n",
    "        current_gdp = next_gdp\n",
    "        current_tourism = next_tourism\n",
    "    \n",
    "    prediction_df = pd.DataFrame(predictions)\n",
    "\n",
    "    return prediction_df\n"
   ]
  },
  {
   "cell_type": "code",
   "execution_count": 6,
   "id": "1340c6aa",
   "metadata": {},
   "outputs": [
    {
     "name": "stdout",
     "output_type": "stream",
     "text": [
      "⚠️ Not enough usable data for Austria. Skipping.\n"
     ]
    },
    {
     "data": {
      "text/html": [
       "<div>\n",
       "<style scoped>\n",
       "    .dataframe tbody tr th:only-of-type {\n",
       "        vertical-align: middle;\n",
       "    }\n",
       "\n",
       "    .dataframe tbody tr th {\n",
       "        vertical-align: top;\n",
       "    }\n",
       "\n",
       "    .dataframe thead th {\n",
       "        text-align: right;\n",
       "    }\n",
       "</style>\n",
       "<table border=\"1\" class=\"dataframe\">\n",
       "  <thead>\n",
       "    <tr style=\"text-align: right;\">\n",
       "      <th></th>\n",
       "    </tr>\n",
       "  </thead>\n",
       "  <tbody>\n",
       "  </tbody>\n",
       "</table>\n",
       "</div>"
      ],
      "text/plain": [
       "Empty DataFrame\n",
       "Columns: []\n",
       "Index: []"
      ]
     },
     "execution_count": 6,
     "metadata": {},
     "output_type": "execute_result"
    }
   ],
   "source": [
    "# test run\n",
    "\n",
    "forecast = get_country_prediction(data, country = 'Austria', num_years = 5)\n",
    "forecast"
   ]
  },
  {
   "cell_type": "code",
   "execution_count": 7,
   "id": "012296be",
   "metadata": {},
   "outputs": [],
   "source": [
    "def summary_stat(data):\n",
    "\n",
    "    data['GDP_lag'] = data['GDP St.'].shift(1)\n",
    "    data['Tourism_lag'] = data['Tourism St.'].shift(1)\n",
    "    data['Bias'] = 1\n",
    "\n",
    "    country_data = data.dropna().reset_index(drop=True)\n",
    "    country_data = data.dropna().reset_index(drop=True)\n",
    "    \n",
    "    X = country_data[['Bias', 'GDP_lag', 'Tourism_lag']].values\n",
    "    y_gdp = country_data['GDP St.'].values\n",
    "    y_tourism = country_data['Tourism St.'].values\n",
    "    \n",
    "    m_gdp = np.matmul(np.linalg.inv(np.matmul(X.T, X)), np.matmul(X.T, y_gdp))\n",
    "    m_tourism = np.matmul(np.linalg.inv(np.matmul(X.T, X)), np.matmul(X.T, y_tourism))\n",
    "\n",
    "    np.set_printoptions(suppress=True)\n",
    "\n",
    "    ypreds_tourism= np.matmul(X, m_tourism)\n",
    "    ypreds_gdp = np.matmul(X, m_gdp)\n",
    "    r2_gdp = r2_score(y_gdp, ypreds_gdp)\n",
    "    r2_tourism = r2_score(y_tourism, ypreds_tourism)\n",
    "    \n",
    "    print(f'The r^2 prediction score for GDP is: {round(r2_gdp, 4)}')\n",
    "    print(f'The r^2 prediction score for tourism is: {round(r2_tourism, 4)}')"
   ]
  },
  {
   "cell_type": "code",
   "execution_count": 8,
   "id": "942881b8",
   "metadata": {},
   "outputs": [
    {
     "name": "stdout",
     "output_type": "stream",
     "text": [
      "The r^2 prediction score for GDP is: 0.8545\n",
      "The r^2 prediction score for tourism is: 0.8294\n"
     ]
    }
   ],
   "source": [
    "summary_stat(data)"
   ]
  },
  {
   "cell_type": "code",
   "execution_count": 9,
   "id": "9aca60a9",
   "metadata": {},
   "outputs": [],
   "source": [
    "def train_test(data): \n",
    "    y_GDP = pd.array(data['GDP St.'])\n",
    "    y_tourism = pd.array(data['Tourism St.'])\n",
    "    X = pd.array(data['Year'])\n",
    "\n",
    "# Split the data into training and testing sets\n",
    "    X_train_gdp, X_test_gdp, y_train_gdp, y_test_gdp = train_test_split(X, y_GDP, test_size=0.3, random_state=42)\n",
    "    X_train_tourism, X_test_tourism, y_train_tourism, y_test_tourism = train_test_split(X, y_tourism, test_size=0.3, random_state=42)\n",
    "\n",
    "    return {\"gdp\": (X_train_gdp, X_test_gdp, y_train_gdp, y_test_gdp),\n",
    "        \"tourism\": (X_train_tourism, X_test_tourism, y_train_tourism, y_test_tourism)}\n"
   ]
  },
  {
   "cell_type": "code",
   "execution_count": 10,
   "id": "4cc2d65d",
   "metadata": {},
   "outputs": [
    {
     "data": {
      "text/plain": [
       "{'gdp': (<NumpyExtensionArray>\n",
       "  [2014, 2013, 2016, 2013, 2012, 2015, 2019, 2022, 2021, 2019,\n",
       "   ...\n",
       "   2015, 2022, 2013, 2022, 2020, 2020, 2023, 2022, 2018, 2018]\n",
       "  Length: 207, dtype: int64,\n",
       "  <NumpyExtensionArray>\n",
       "  [2023, 2019, 2015, 2022, 2017, 2017, 2015, 2014, 2021, 2019, 2021, 2018, 2020,\n",
       "   2017, 2018, 2018, 2019, 2021, 2023, 2016, 2017, 2021, 2012, 2022, 2014, 2021,\n",
       "   2019, 2018, 2017, 2015, 2015, 2015, 2012, 2022, 2019, 2015, 2012, 2012, 2018,\n",
       "   2013, 2020, 2018, 2017, 2023, 2015, 2016, 2013, 2017, 2020, 2016, 2021, 2020,\n",
       "   2014, 2023, 2012, 2018, 2013, 2020, 2018, 2013, 2021, 2019, 2018, 2022, 2013,\n",
       "   2020, 2013, 2018, 2012, 2022, 2016, 2017, 2013, 2019, 2016, 2018, 2020, 2015,\n",
       "   2014, 2019, 2015, 2019, 2018, 2017, 2012, 2015, 2022, 2012, 2016, 2020]\n",
       "  Length: 90, dtype: int64,\n",
       "  <NumpyExtensionArray>\n",
       "  [ 0.00883496299746336, 0.011063017984045222,  0.10322657337982327,\n",
       "    0.03989336327390599,  0.04821342752335252, 0.007326792244996174,\n",
       "    0.07433181040480649,   0.3183296206462444,  0.08827259439238516,\n",
       "   0.013121063409802954,\n",
       "   ...\n",
       "    0.04950155985985722, 0.002127111809842535,  0.05075825813693872,\n",
       "    0.12624095357654294,  0.11422163181286198, 0.010461122156075418,\n",
       "    0.08798791692465101,   0.6173662552715693, 0.009761603650601133,\n",
       "     0.6138987686039271]\n",
       "  Length: 207, dtype: float64,\n",
       "  <NumpyExtensionArray>\n",
       "  [     0.50736940531851, 0.0014884691236737649,   0.06467070719771337,\n",
       "     0.11940227471906918,   0.09020645314675965,   0.00395006588977315,\n",
       "    0.007042778877108987,    0.4790816296036231,   0.10404186662528586,\n",
       "    0.034177898624272895,     0.321557145902515,  0.004786167597107447,\n",
       "    0.057592509662099355,    0.5707581784449571,  0.011570833000361049,\n",
       "      0.2037766030097448,    0.3085928100565968,   0.01648827100055275,\n",
       "      0.0755874018488097,   0.06553182333261684,  0.046855343336300384,\n",
       "    0.013289744770933146,   0.07021239905405618,  0.013822795581433804,\n",
       "     0.30349008819910067,   0.14871697016398616,  0.005448496511151454,\n",
       "     0.12821288738881031,   0.10912732188676079,    0.2649030093241832,\n",
       "      0.7558118144690975,    0.1696124291156426,  0.009890881754144482,\n",
       "    0.006372038031670036,   0.09630089744239653,  0.003032279901261635,\n",
       "      0.7948298941446981,   0.05489670701663548,  0.058524241747397225,\n",
       "   0.0035053403589194033,    0.8693892694303994,   0.04483338066889465,\n",
       "     0.11404011118802371,    0.0738461320500563,  0.011170602159254242,\n",
       "   0.0005326080772693454,    0.6212660709395884,   0.00843185439035302,\n",
       "    0.005478159637649414,    0.0406161252740242,   0.06304587623879525,\n",
       "     0.11854890641571367,   0.00863396211044733,  0.013182824695571096,\n",
       "    0.011112161372720948,   0.11991341023461984,  0.010228023109789208,\n",
       "     0.20414385022511877,   0.09863697933741873,  0.008182374214508235,\n",
       "     0.01150088114981362,  0.053432809587299575,  0.012569639170202812,\n",
       "      0.1271656019301398,    0.2994184920373322,   0.05345870948133138,\n",
       "      0.8408668451029166,   0.05153569769112406,  0.004111884885817992,\n",
       "     0.22972276266421807,    0.2729576550014577,   0.04209463289999343,\n",
       "     0.47453099608557414,   0.20352225276835556,  0.003306774504675595,\n",
       "     0.07652134760026413,    0.5835644585272967,   0.40642910634518625,\n",
       "     0.05694456957807303,   0.11650724211951449,   0.10893052696544224,\n",
       "   0.0049278422311275554, 0.0014488444994712663,   0.02955155772366938,\n",
       "   0.0030185551710909366,    0.1002274984709101,   0.10221780571227697,\n",
       "     0.10749872769537651,  0.007402942360781982,     0.076596169516356]\n",
       "  Length: 90, dtype: float64),\n",
       " 'tourism': (<NumpyExtensionArray>\n",
       "  [2014, 2013, 2016, 2013, 2012, 2015, 2019, 2022, 2021, 2019,\n",
       "   ...\n",
       "   2015, 2022, 2013, 2022, 2020, 2020, 2023, 2022, 2018, 2018]\n",
       "  Length: 207, dtype: int64,\n",
       "  <NumpyExtensionArray>\n",
       "  [2023, 2019, 2015, 2022, 2017, 2017, 2015, 2014, 2021, 2019, 2021, 2018, 2020,\n",
       "   2017, 2018, 2018, 2019, 2021, 2023, 2016, 2017, 2021, 2012, 2022, 2014, 2021,\n",
       "   2019, 2018, 2017, 2015, 2015, 2015, 2012, 2022, 2019, 2015, 2012, 2012, 2018,\n",
       "   2013, 2020, 2018, 2017, 2023, 2015, 2016, 2013, 2017, 2020, 2016, 2021, 2020,\n",
       "   2014, 2023, 2012, 2018, 2013, 2020, 2018, 2013, 2021, 2019, 2018, 2022, 2013,\n",
       "   2020, 2013, 2018, 2012, 2022, 2016, 2017, 2013, 2019, 2016, 2018, 2020, 2015,\n",
       "   2014, 2019, 2015, 2019, 2018, 2017, 2012, 2015, 2022, 2012, 2016, 2020]\n",
       "  Length: 90, dtype: int64,\n",
       "  <NumpyExtensionArray>\n",
       "  [ 0.014136496164245282,   0.02807860415189374,   0.05435989856340773,\n",
       "     0.06410139687230326,  0.041040851991891954,  0.013468110606883897,\n",
       "      0.0977386323835111,    0.5231351320647241,  0.060577346923448426,\n",
       "    0.016775981560801654,\n",
       "   ...\n",
       "     0.12422880667429463, 0.0030096534751970455,   0.01838930488754264,\n",
       "     0.27140701839742387,   0.04223346509660666,  0.009743252227228985,\n",
       "     0.07089952726384251,    0.8275033512775792,  0.016153911241688197,\n",
       "      0.7448853724961104]\n",
       "  Length: 207, dtype: float64,\n",
       "  <NumpyExtensionArray>\n",
       "  [  0.17148766249710945,  0.001735863627485095,    0.1133361292034403,\n",
       "     0.07652814224741845,    0.0733211919826833,  0.013322660936845015,\n",
       "    0.013190970584925297,   0.17711162826549348,   0.07265948539199085,\n",
       "     0.07123042050743711,    0.4238958361217845,  0.019750206646581954,\n",
       "     0.09126082987501981,    0.7451084739518017,  0.015227654034168155,\n",
       "     0.15477359311210018,    0.5531280125259445,  0.010693394682682694,\n",
       "     0.08214933446598666,   0.04594866170704724,   0.05971620345848346,\n",
       "    0.013280947356350475,   0.09935356885856746,  0.016306211085174764,\n",
       "      0.4513028151036033,   0.20334897960379403,  0.012933024745162515,\n",
       "     0.21791223529624823,   0.05182654044440562,    0.4909900796705038,\n",
       "      0.7980293966604634,    0.1483052050741428,  0.011773570588897294,\n",
       "    0.013253763524479488,   0.07943358405868572,  0.011278550917999335,\n",
       "      0.7587762420994729,   0.12771453864376686,   0.12465669046035067,\n",
       "     0.00806820695444979,    0.5427622201121093,   0.02278643521843664,\n",
       "     0.20867313376811739,   0.11594997353143201,  0.004346521607094444,\n",
       "   0.0011713473204959701,    0.7733718140225656,  0.013160404468025156,\n",
       "   0.0059792959261993775,  0.018502217660428172,   0.11289997612997045,\n",
       "     0.18678150126734866,  0.012978508679384718,  0.032872081980197386,\n",
       "   0.0039022856713698817,    0.1694615158739501,  0.012986833133427226,\n",
       "     0.11252753670806498,   0.07583703184362384,  0.012814066470689438,\n",
       "     0.02126823247567361,   0.07009092906157456,  0.017348042379841184,\n",
       "     0.08690955632866619,   0.46118638079750857,   0.08910142350446884,\n",
       "      0.7871609867993486,  0.061673572514022404,  0.016829266817242394,\n",
       "     0.19937133441530944,    0.5189041731309908,  0.021260469199405906,\n",
       "     0.17537580839085185,   0.16075992563690633,   0.01298844247714751,\n",
       "     0.05681628021238467,    0.5793344077763488,   0.16567546819156867,\n",
       "    0.042013738316754305,   0.06281815070351149,   0.13287835956208502,\n",
       "    0.015398929295633246,  0.001611329718917276,   0.06690281915169248,\n",
       "     0.00831182849372352,   0.04772281668174935,   0.11741624735590153,\n",
       "     0.17145177945858026,    0.0130432990313577,   0.07905181576963573]\n",
       "  Length: 90, dtype: float64)}"
      ]
     },
     "execution_count": 10,
     "metadata": {},
     "output_type": "execute_result"
    }
   ],
   "source": [
    "train_test(data)\n"
   ]
  },
  {
   "cell_type": "code",
   "execution_count": null,
   "id": "f1859b10",
   "metadata": {},
   "outputs": [],
   "source": []
  },
  {
   "cell_type": "code",
   "execution_count": null,
   "id": "16c0e8be",
   "metadata": {},
   "outputs": [],
   "source": []
  }
 ],
 "metadata": {
  "kernelspec": {
   "display_name": "base",
   "language": "python",
   "name": "python3"
  },
  "language_info": {
   "codemirror_mode": {
    "name": "ipython",
    "version": 3
   },
   "file_extension": ".py",
   "mimetype": "text/x-python",
   "name": "python",
   "nbconvert_exporter": "python",
   "pygments_lexer": "ipython3",
   "version": "3.12.4"
  }
 },
 "nbformat": 4,
 "nbformat_minor": 5
}
